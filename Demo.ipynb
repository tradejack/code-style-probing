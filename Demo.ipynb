{
 "cells": [
  {
   "cell_type": "markdown",
   "metadata": {},
   "source": [
    "Model Inference"
   ]
  },
  {
   "cell_type": "code",
   "execution_count": 9,
   "metadata": {},
   "outputs": [],
   "source": [
    "import ipywidgets as widgets\n",
    "from ipywidgets import Layout\n",
    "from IPython.display import display\n",
    "from transformers import T5ForConditionalGeneration,AutoModelForSeq2SeqLM,AutoTokenizer"
   ]
  },
  {
   "cell_type": "code",
   "execution_count": 10,
   "metadata": {},
   "outputs": [],
   "source": [
    "def do_inference(input_code):\n",
    "    checkpoint = \"/Users/anishsavla/Downloads/checkpoint-97000\"\n",
    "    model = AutoModelForSeq2SeqLM.from_pretrained(checkpoint)\n",
    "    tokenizer = AutoTokenizer.from_pretrained(checkpoint)\n",
    "    input_ids =  tokenizer([input_code],max_length=1024, padding=\"max_length\", return_tensors=\"pt\").input_ids\n",
    "    generated_ids = model.generate(input_ids)\n",
    "    #print(tokenizer.batch_decode(generated_ids,skip_special_tokens=True))\n",
    "    return tokenizer.batch_decode(generated_ids,skip_special_tokens=True)"
   ]
  },
  {
   "cell_type": "code",
   "execution_count": 11,
   "metadata": {},
   "outputs": [],
   "source": [
    "button = widgets.Button(description=\"Run Inference!\")\n",
    "output = widgets.Output(layout={'border': '1px solid black'})\n",
    "l = Layout(flex='0 1 auto', height='250px', min_height='40px', width='550px')\n",
    "inputText = widgets.Textarea(\n",
    "    layout = l,\n",
    "    placeholder='Type something',\n",
    "    description='Input Code:',\n",
    "    disabled=False\n",
    ")"
   ]
  },
  {
   "cell_type": "code",
   "execution_count": 12,
   "metadata": {},
   "outputs": [
    {
     "data": {
      "application/vnd.jupyter.widget-view+json": {
       "model_id": "b46538b6b6de4aa79a92244c9085f2a2",
       "version_major": 2,
       "version_minor": 0
      },
      "text/plain": [
       "Textarea(value='', description='Input Code:', layout=Layout(flex='0 1 auto', height='250px', min_height='40px'…"
      ]
     },
     "metadata": {},
     "output_type": "display_data"
    },
    {
     "data": {
      "application/vnd.jupyter.widget-view+json": {
       "model_id": "17d2f78692df422283fa5c4eda157bd3",
       "version_major": 2,
       "version_minor": 0
      },
      "text/plain": [
       "Button(description='Run Inference!', style=ButtonStyle())"
      ]
     },
     "metadata": {},
     "output_type": "display_data"
    },
    {
     "data": {
      "application/vnd.jupyter.widget-view+json": {
       "model_id": "4f6cacf66c0d43de970bd7b0585386a8",
       "version_major": 2,
       "version_minor": 0
      },
      "text/plain": [
       "Output(layout=Layout(border='1px solid black'))"
      ]
     },
     "metadata": {},
     "output_type": "display_data"
    }
   ],
   "source": [
    "display(inputText)\n",
    "display(button, output)\n",
    "\n",
    "\n",
    "\n",
    "def on_button_clicked(b):\n",
    "    with output:\n",
    "        output_code = do_inference(str(inputText.value))\n",
    "        l = Layout(flex='0.1 auto', height='250px', min_height='40px', width='550px')\n",
    "        outputText = widgets.Textarea(\n",
    "            value=output_code[0],\n",
    "            layout = l,\n",
    "            placeholder='Type something',\n",
    "            description='Generated Code:',\n",
    "            disabled=False,\n",
    "            \n",
    "        )\n",
    "        display(outputText)\n",
    "        #print(type(output_code[0]))\n",
    "button.on_click(on_button_clicked)\n",
    "\n",
    "#do_inference(input_code)"
   ]
  }
 ],
 "metadata": {
  "kernelspec": {
   "display_name": "Python 3.9.6 64-bit",
   "language": "python",
   "name": "python3"
  },
  "language_info": {
   "codemirror_mode": {
    "name": "ipython",
    "version": 3
   },
   "file_extension": ".py",
   "mimetype": "text/x-python",
   "name": "python",
   "nbconvert_exporter": "python",
   "pygments_lexer": "ipython3",
   "version": "3.9.6"
  },
  "orig_nbformat": 4,
  "vscode": {
   "interpreter": {
    "hash": "31f2aee4e71d21fbe5cf8b01ff0e069b9275f58929596ceb00d14d90e3e16cd6"
   }
  }
 },
 "nbformat": 4,
 "nbformat_minor": 2
}

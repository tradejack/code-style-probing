{
 "cells": [
  {
   "cell_type": "markdown",
   "metadata": {},
   "source": [
    "Model Inference"
   ]
  },
  {
   "cell_type": "code",
   "execution_count": 1,
   "metadata": {
    "tags": []
   },
   "outputs": [
    {
     "name": "stdout",
     "output_type": "stream",
     "text": [
      "Requirement already satisfied: ipywidgets in /data/users/cting3/miniconda3/envs/py_3_8/lib/python3.8/site-packages (7.6.5)\n",
      "Requirement already satisfied: traitlets>=4.3.1 in /data/users/cting3/miniconda3/envs/py_3_8/lib/python3.8/site-packages (from ipywidgets) (5.1.1)\n",
      "Requirement already satisfied: nbformat>=4.2.0 in /data/users/cting3/miniconda3/envs/py_3_8/lib/python3.8/site-packages (from ipywidgets) (5.3.0)\n",
      "Requirement already satisfied: ipython>=4.0.0 in /data/users/cting3/miniconda3/envs/py_3_8/lib/python3.8/site-packages (from ipywidgets) (8.4.0)\n",
      "Requirement already satisfied: jupyterlab-widgets>=1.0.0 in /data/users/cting3/miniconda3/envs/py_3_8/lib/python3.8/site-packages (from ipywidgets) (1.0.0)\n",
      "Requirement already satisfied: ipython-genutils~=0.2.0 in /data/users/cting3/miniconda3/envs/py_3_8/lib/python3.8/site-packages (from ipywidgets) (0.2.0)\n",
      "Requirement already satisfied: widgetsnbextension~=3.5.0 in /data/users/cting3/miniconda3/envs/py_3_8/lib/python3.8/site-packages (from ipywidgets) (3.5.2)\n",
      "Requirement already satisfied: ipykernel>=4.5.1 in /data/users/cting3/miniconda3/envs/py_3_8/lib/python3.8/site-packages (from ipywidgets) (6.9.1)\n",
      "Requirement already satisfied: matplotlib-inline<0.2.0,>=0.1.0 in /data/users/cting3/miniconda3/envs/py_3_8/lib/python3.8/site-packages (from ipykernel>=4.5.1->ipywidgets) (0.1.2)\n",
      "Requirement already satisfied: tornado<7.0,>=4.2 in /data/users/cting3/miniconda3/envs/py_3_8/lib/python3.8/site-packages (from ipykernel>=4.5.1->ipywidgets) (6.1)\n",
      "Requirement already satisfied: debugpy<2.0,>=1.0.0 in /data/users/cting3/miniconda3/envs/py_3_8/lib/python3.8/site-packages (from ipykernel>=4.5.1->ipywidgets) (1.5.1)\n",
      "Requirement already satisfied: jupyter-client<8.0 in /data/users/cting3/miniconda3/envs/py_3_8/lib/python3.8/site-packages (from ipykernel>=4.5.1->ipywidgets) (7.2.2)\n",
      "Requirement already satisfied: nest-asyncio in /data/users/cting3/miniconda3/envs/py_3_8/lib/python3.8/site-packages (from ipykernel>=4.5.1->ipywidgets) (1.5.5)\n",
      "Requirement already satisfied: stack-data in /data/users/cting3/miniconda3/envs/py_3_8/lib/python3.8/site-packages (from ipython>=4.0.0->ipywidgets) (0.2.0)\n",
      "Requirement already satisfied: prompt-toolkit!=3.0.0,!=3.0.1,<3.1.0,>=2.0.0 in /data/users/cting3/miniconda3/envs/py_3_8/lib/python3.8/site-packages (from ipython>=4.0.0->ipywidgets) (3.0.20)\n",
      "Requirement already satisfied: pickleshare in /data/users/cting3/miniconda3/envs/py_3_8/lib/python3.8/site-packages (from ipython>=4.0.0->ipywidgets) (0.7.5)\n",
      "Requirement already satisfied: setuptools>=18.5 in /data/users/cting3/miniconda3/envs/py_3_8/lib/python3.8/site-packages (from ipython>=4.0.0->ipywidgets) (59.5.0)\n",
      "Requirement already satisfied: pexpect>4.3 in /data/users/cting3/miniconda3/envs/py_3_8/lib/python3.8/site-packages (from ipython>=4.0.0->ipywidgets) (4.8.0)\n",
      "Requirement already satisfied: jedi>=0.16 in /data/users/cting3/miniconda3/envs/py_3_8/lib/python3.8/site-packages (from ipython>=4.0.0->ipywidgets) (0.18.1)\n",
      "Requirement already satisfied: backcall in /data/users/cting3/miniconda3/envs/py_3_8/lib/python3.8/site-packages (from ipython>=4.0.0->ipywidgets) (0.2.0)\n",
      "Requirement already satisfied: decorator in /data/users/cting3/miniconda3/envs/py_3_8/lib/python3.8/site-packages (from ipython>=4.0.0->ipywidgets) (5.1.1)\n",
      "Requirement already satisfied: pygments>=2.4.0 in /data/users/cting3/miniconda3/envs/py_3_8/lib/python3.8/site-packages (from ipython>=4.0.0->ipywidgets) (2.11.2)\n",
      "Requirement already satisfied: jsonschema>=2.6 in /data/users/cting3/miniconda3/envs/py_3_8/lib/python3.8/site-packages (from nbformat>=4.2.0->ipywidgets) (4.4.0)\n",
      "Requirement already satisfied: fastjsonschema in /data/users/cting3/miniconda3/envs/py_3_8/lib/python3.8/site-packages (from nbformat>=4.2.0->ipywidgets) (2.15.1)\n",
      "Requirement already satisfied: jupyter-core in /data/users/cting3/miniconda3/envs/py_3_8/lib/python3.8/site-packages (from nbformat>=4.2.0->ipywidgets) (4.10.0)\n",
      "Requirement already satisfied: notebook>=4.4.1 in /data/users/cting3/miniconda3/envs/py_3_8/lib/python3.8/site-packages (from widgetsnbextension~=3.5.0->ipywidgets) (6.4.11)\n",
      "Requirement already satisfied: parso<0.9.0,>=0.8.0 in /data/users/cting3/miniconda3/envs/py_3_8/lib/python3.8/site-packages (from jedi>=0.16->ipython>=4.0.0->ipywidgets) (0.8.3)\n",
      "Requirement already satisfied: attrs>=17.4.0 in /data/users/cting3/miniconda3/envs/py_3_8/lib/python3.8/site-packages (from jsonschema>=2.6->nbformat>=4.2.0->ipywidgets) (21.4.0)\n",
      "Requirement already satisfied: importlib-resources>=1.4.0 in /data/users/cting3/miniconda3/envs/py_3_8/lib/python3.8/site-packages (from jsonschema>=2.6->nbformat>=4.2.0->ipywidgets) (5.2.0)\n",
      "Requirement already satisfied: pyrsistent!=0.17.0,!=0.17.1,!=0.17.2,>=0.14.0 in /data/users/cting3/miniconda3/envs/py_3_8/lib/python3.8/site-packages (from jsonschema>=2.6->nbformat>=4.2.0->ipywidgets) (0.18.0)\n",
      "Requirement already satisfied: entrypoints in /data/users/cting3/miniconda3/envs/py_3_8/lib/python3.8/site-packages (from jupyter-client<8.0->ipykernel>=4.5.1->ipywidgets) (0.4)\n",
      "Requirement already satisfied: pyzmq>=22.3 in /data/users/cting3/miniconda3/envs/py_3_8/lib/python3.8/site-packages (from jupyter-client<8.0->ipykernel>=4.5.1->ipywidgets) (23.2.0)\n",
      "Requirement already satisfied: python-dateutil>=2.8.2 in /data/users/cting3/miniconda3/envs/py_3_8/lib/python3.8/site-packages (from jupyter-client<8.0->ipykernel>=4.5.1->ipywidgets) (2.8.2)\n",
      "Requirement already satisfied: Send2Trash>=1.8.0 in /data/users/cting3/miniconda3/envs/py_3_8/lib/python3.8/site-packages (from notebook>=4.4.1->widgetsnbextension~=3.5.0->ipywidgets) (1.8.0)\n",
      "Requirement already satisfied: argon2-cffi in /data/users/cting3/miniconda3/envs/py_3_8/lib/python3.8/site-packages (from notebook>=4.4.1->widgetsnbextension~=3.5.0->ipywidgets) (21.3.0)\n",
      "Requirement already satisfied: jinja2 in /data/users/cting3/miniconda3/envs/py_3_8/lib/python3.8/site-packages (from notebook>=4.4.1->widgetsnbextension~=3.5.0->ipywidgets) (3.0.3)\n",
      "Requirement already satisfied: nbconvert>=5 in /data/users/cting3/miniconda3/envs/py_3_8/lib/python3.8/site-packages (from notebook>=4.4.1->widgetsnbextension~=3.5.0->ipywidgets) (6.4.4)\n",
      "Requirement already satisfied: terminado>=0.8.3 in /data/users/cting3/miniconda3/envs/py_3_8/lib/python3.8/site-packages (from notebook>=4.4.1->widgetsnbextension~=3.5.0->ipywidgets) (0.13.1)\n",
      "Requirement already satisfied: prometheus-client in /data/users/cting3/miniconda3/envs/py_3_8/lib/python3.8/site-packages (from notebook>=4.4.1->widgetsnbextension~=3.5.0->ipywidgets) (0.13.1)\n",
      "Requirement already satisfied: ptyprocess>=0.5 in /data/users/cting3/miniconda3/envs/py_3_8/lib/python3.8/site-packages (from pexpect>4.3->ipython>=4.0.0->ipywidgets) (0.7.0)\n",
      "Requirement already satisfied: wcwidth in /data/users/cting3/miniconda3/envs/py_3_8/lib/python3.8/site-packages (from prompt-toolkit!=3.0.0,!=3.0.1,<3.1.0,>=2.0.0->ipython>=4.0.0->ipywidgets) (0.2.5)\n",
      "Requirement already satisfied: pure-eval in /data/users/cting3/miniconda3/envs/py_3_8/lib/python3.8/site-packages (from stack-data->ipython>=4.0.0->ipywidgets) (0.2.2)\n",
      "Requirement already satisfied: executing in /data/users/cting3/miniconda3/envs/py_3_8/lib/python3.8/site-packages (from stack-data->ipython>=4.0.0->ipywidgets) (0.8.3)\n",
      "Requirement already satisfied: asttokens in /data/users/cting3/miniconda3/envs/py_3_8/lib/python3.8/site-packages (from stack-data->ipython>=4.0.0->ipywidgets) (2.0.5)\n",
      "Requirement already satisfied: zipp>=3.1.0 in /data/users/cting3/miniconda3/envs/py_3_8/lib/python3.8/site-packages (from importlib-resources>=1.4.0->jsonschema>=2.6->nbformat>=4.2.0->ipywidgets) (3.8.0)\n",
      "Requirement already satisfied: testpath in /data/users/cting3/miniconda3/envs/py_3_8/lib/python3.8/site-packages (from nbconvert>=5->notebook>=4.4.1->widgetsnbextension~=3.5.0->ipywidgets) (0.6.0)\n",
      "Requirement already satisfied: jupyterlab-pygments in /data/users/cting3/miniconda3/envs/py_3_8/lib/python3.8/site-packages (from nbconvert>=5->notebook>=4.4.1->widgetsnbextension~=3.5.0->ipywidgets) (0.1.2)\n",
      "Requirement already satisfied: bleach in /data/users/cting3/miniconda3/envs/py_3_8/lib/python3.8/site-packages (from nbconvert>=5->notebook>=4.4.1->widgetsnbextension~=3.5.0->ipywidgets) (4.1.0)\n",
      "Requirement already satisfied: pandocfilters>=1.4.1 in /data/users/cting3/miniconda3/envs/py_3_8/lib/python3.8/site-packages (from nbconvert>=5->notebook>=4.4.1->widgetsnbextension~=3.5.0->ipywidgets) (1.5.0)\n",
      "Requirement already satisfied: beautifulsoup4 in /data/users/cting3/miniconda3/envs/py_3_8/lib/python3.8/site-packages (from nbconvert>=5->notebook>=4.4.1->widgetsnbextension~=3.5.0->ipywidgets) (4.11.1)\n",
      "Requirement already satisfied: nbclient<0.6.0,>=0.5.0 in /data/users/cting3/miniconda3/envs/py_3_8/lib/python3.8/site-packages (from nbconvert>=5->notebook>=4.4.1->widgetsnbextension~=3.5.0->ipywidgets) (0.5.13)\n",
      "Requirement already satisfied: defusedxml in /data/users/cting3/miniconda3/envs/py_3_8/lib/python3.8/site-packages (from nbconvert>=5->notebook>=4.4.1->widgetsnbextension~=3.5.0->ipywidgets) (0.7.1)\n",
      "Requirement already satisfied: mistune<2,>=0.8.1 in /data/users/cting3/miniconda3/envs/py_3_8/lib/python3.8/site-packages (from nbconvert>=5->notebook>=4.4.1->widgetsnbextension~=3.5.0->ipywidgets) (0.8.4)\n",
      "Requirement already satisfied: MarkupSafe>=2.0 in /data/users/cting3/miniconda3/envs/py_3_8/lib/python3.8/site-packages (from jinja2->notebook>=4.4.1->widgetsnbextension~=3.5.0->ipywidgets) (2.1.1)\n",
      "Requirement already satisfied: six>=1.5 in /data/users/cting3/miniconda3/envs/py_3_8/lib/python3.8/site-packages (from python-dateutil>=2.8.2->jupyter-client<8.0->ipykernel>=4.5.1->ipywidgets) (1.16.0)\n",
      "Requirement already satisfied: argon2-cffi-bindings in /data/users/cting3/miniconda3/envs/py_3_8/lib/python3.8/site-packages (from argon2-cffi->notebook>=4.4.1->widgetsnbextension~=3.5.0->ipywidgets) (21.2.0)\n",
      "Requirement already satisfied: cffi>=1.0.1 in /data/users/cting3/miniconda3/envs/py_3_8/lib/python3.8/site-packages (from argon2-cffi-bindings->argon2-cffi->notebook>=4.4.1->widgetsnbextension~=3.5.0->ipywidgets) (1.15.0)\n",
      "Requirement already satisfied: soupsieve>1.2 in /data/users/cting3/miniconda3/envs/py_3_8/lib/python3.8/site-packages (from beautifulsoup4->nbconvert>=5->notebook>=4.4.1->widgetsnbextension~=3.5.0->ipywidgets) (2.3.1)\n",
      "Requirement already satisfied: webencodings in /data/users/cting3/miniconda3/envs/py_3_8/lib/python3.8/site-packages (from bleach->nbconvert>=5->notebook>=4.4.1->widgetsnbextension~=3.5.0->ipywidgets) (0.5.1)\n",
      "Requirement already satisfied: packaging in /data/users/cting3/miniconda3/envs/py_3_8/lib/python3.8/site-packages (from bleach->nbconvert>=5->notebook>=4.4.1->widgetsnbextension~=3.5.0->ipywidgets) (21.3)\n",
      "Requirement already satisfied: pycparser in /data/users/cting3/miniconda3/envs/py_3_8/lib/python3.8/site-packages (from cffi>=1.0.1->argon2-cffi-bindings->argon2-cffi->notebook>=4.4.1->widgetsnbextension~=3.5.0->ipywidgets) (2.21)\n",
      "Requirement already satisfied: pyparsing!=3.0.5,>=2.0.2 in /data/users/cting3/miniconda3/envs/py_3_8/lib/python3.8/site-packages (from packaging->bleach->nbconvert>=5->notebook>=4.4.1->widgetsnbextension~=3.5.0->ipywidgets) (3.0.4)\n"
     ]
    }
   ],
   "source": [
    "!pip install ipywidgets\n",
    "import ipywidgets as widgets\n",
    "from ipywidgets import Layout\n",
    "from IPython.display import display\n",
    "from transformers import T5ForConditionalGeneration,AutoModelForSeq2SeqLM,AutoTokenizer"
   ]
  },
  {
   "cell_type": "code",
   "execution_count": 2,
   "metadata": {},
   "outputs": [],
   "source": [
    "def do_inference(input_code,featureName):\n",
    "    \n",
    "    if featureName.lower() == \"casing\":\n",
    "        checkpoint = \"/data/users/team2_capstone/code-style-probing/seq2seq_results/outlier_casing_codet5small/checkpoint-27000\"\n",
    "    elif featureName.lower() == \"comments\":\n",
    "        checkpoint = \"/data/users/team2_capstone/code-style-probing/seq2seq_results/outlier_codet5small/checkpoint-40500\"\n",
    "    elif featureName.lower() == \"class\":\n",
    "        checkpoint = \"/data/users/team2_capstone/code-style-probing/seq2seq_results/outlier_class_codet5small/checkpoint-49000\"\n",
    "    elif featureName.lower() == \"docstring\":\n",
    "        checkpoint = \"/data/users/team2_capstone/code-style-probing/seq2seq_results/outlier_updated_docstring_codet5small/checkpoint-85500\"\n",
    "    elif featureName.lower() == \"list comprehensions\":\n",
    "        checkpoint = \"/data/users/team2_capstone/code-style-probing/seq2seq_results/outlier_comp_codet5small/checkpoint-9500\"\n",
    "    else:\n",
    "        checkpoint = \"/data/users/team2_capstone/code-style-probing/seq2seq_results/combined_nl_prompt_base_features_codet5small/epoch\\ 2/checkpoint-85000\"\n",
    "    model = AutoModelForSeq2SeqLM.from_pretrained(checkpoint)\n",
    "    tokenizer = AutoTokenizer.from_pretrained(checkpoint)\n",
    "    input_ids =  tokenizer([input_code],max_length=1024, padding=\"max_length\", return_tensors=\"pt\").input_ids\n",
    "    generated_ids = model.generate(input_ids)\n",
    "    return tokenizer.batch_decode(generated_ids,skip_special_tokens=True)"
   ]
  },
  {
   "cell_type": "code",
   "execution_count": 3,
   "metadata": {},
   "outputs": [],
   "source": [
    "button = widgets.Button(description=\"Run Inference!\")\n",
    "output = widgets.Output(layout={'border': '1px solid black'})\n",
    "feature_selection = widgets.Dropdown(\n",
    "    options=['Casing', 'Comments', 'Class','Docstring','List Comprehensions','Combined'],\n",
    "    description='Features : ',\n",
    "    disabled=False,\n",
    ")\n",
    "l = Layout(flex='0 1 auto', height='250px', min_height='40px', width='550px')\n",
    "inputText = widgets.Textarea(\n",
    "    layout = l,\n",
    "    placeholder='Type something',\n",
    "    description='Input Code:',\n",
    "    disabled=False\n",
    ")"
   ]
  },
  {
   "cell_type": "code",
   "execution_count": 7,
   "metadata": {},
   "outputs": [],
   "source": [
    "from IPython.display import clear_output"
   ]
  },
  {
   "cell_type": "code",
   "execution_count": 8,
   "metadata": {},
   "outputs": [
    {
     "data": {
      "text/plain": [
       "<function IPython.core.display_functions.clear_output(wait=False)>"
      ]
     },
     "execution_count": 8,
     "metadata": {},
     "output_type": "execute_result"
    }
   ],
   "source": [
    "clear_output"
   ]
  },
  {
   "cell_type": "code",
   "execution_count": 11,
   "metadata": {},
   "outputs": [
    {
     "data": {
      "application/vnd.jupyter.widget-view+json": {
       "model_id": "4789c33fa2294743a9bfccbcd209ae90",
       "version_major": 2,
       "version_minor": 0
      },
      "text/plain": [
       "Dropdown(description='Features : ', index=1, options=('Casing', 'Comments', 'Class', 'Docstring', 'List Compre…"
      ]
     },
     "metadata": {},
     "output_type": "display_data"
    },
    {
     "data": {
      "application/vnd.jupyter.widget-view+json": {
       "model_id": "8469f32adcee4c41a3a9bd4989e0022f",
       "version_major": 2,
       "version_minor": 0
      },
      "text/plain": [
       "Textarea(value=\"from fenrirscreenreader.core import debug\\n\\ndef __init__():\\n    pass\\n\\ndef initialize(envir…"
      ]
     },
     "metadata": {},
     "output_type": "display_data"
    },
    {
     "data": {
      "application/vnd.jupyter.widget-view+json": {
       "model_id": "658965df6dba40f6b8d6f3967e282800",
       "version_major": 2,
       "version_minor": 0
      },
      "text/plain": [
       "Button(description='Run Inference!', style=ButtonStyle())"
      ]
     },
     "metadata": {},
     "output_type": "display_data"
    },
    {
     "data": {
      "application/vnd.jupyter.widget-view+json": {
       "model_id": "afac1d9a76ae4494bdf5f8bd07a39794",
       "version_major": 2,
       "version_minor": 0
      },
      "text/plain": [
       "Output(layout=Layout(border='1px solid black'), outputs=({'output_type': 'display_data', 'data': {'text/plain'…"
      ]
     },
     "metadata": {},
     "output_type": "display_data"
    }
   ],
   "source": [
    "\n",
    "display(feature_selection)\n",
    "display(inputText)\n",
    "display(button, output)\n",
    "\n",
    "\n",
    "\n",
    "def on_button_clicked(b):\n",
    "    with output:\n",
    "        clear_output()\n",
    "        output_code = do_inference(str(inputText.value),feature_selection.value)\n",
    "        l = Layout(flex='0.2 auto', height='250px', min_height='40px', width='550px',min_width = \"40px\")\n",
    "        outputText = widgets.Textarea(\n",
    "            value=output_code[0],\n",
    "            layout = l,\n",
    "            placeholder='Type something',\n",
    "            description='Output:',\n",
    "            disabled=False,\n",
    "            \n",
    "        )\n",
    "        display(outputText)\n",
    "\n",
    "button.on_click(on_button_clicked)"
   ]
  },
  {
   "cell_type": "code",
   "execution_count": null,
   "metadata": {},
   "outputs": [],
   "source": []
  },
  {
   "cell_type": "code",
   "execution_count": null,
   "metadata": {},
   "outputs": [],
   "source": []
  },
  {
   "cell_type": "code",
   "execution_count": 5,
   "metadata": {},
   "outputs": [
    {
     "ename": "NameError",
     "evalue": "name 'tokenizer' is not defined",
     "output_type": "error",
     "traceback": [
      "\u001b[0;31m---------------------------------------------------------------------------\u001b[0m",
      "\u001b[0;31mNameError\u001b[0m                                 Traceback (most recent call last)",
      "Input \u001b[0;32mIn [5]\u001b[0m, in \u001b[0;36m<cell line: 5>\u001b[0;34m()\u001b[0m\n\u001b[1;32m      1\u001b[0m \u001b[38;5;66;03m# <nl> prompt </nl><s> text </s>\u001b[39;00m\n\u001b[1;32m      2\u001b[0m \u001b[38;5;66;03m# Feature\u001b[39;00m\n\u001b[1;32m      3\u001b[0m \u001b[38;5;66;03m# Prompt: [\"change indentifier casing and add class\"]\u001b[39;00m\n\u001b[1;32m      4\u001b[0m \u001b[38;5;66;03m# Input Code: []\u001b[39;00m\n\u001b[0;32m----> 5\u001b[0m example \u001b[38;5;241m=\u001b[39m \u001b[43mtokenizer\u001b[49m (input_code)\n\u001b[1;32m      6\u001b[0m prompt_toks \u001b[38;5;241m=\u001b[39m tokenizer(\u001b[38;5;124mf\u001b[39m\u001b[38;5;124m\"\u001b[39m\u001b[38;5;124m<nl> \u001b[39m\u001b[38;5;132;01m{\u001b[39;00mprompt\u001b[38;5;132;01m}\u001b[39;00m\u001b[38;5;124m </nl>\u001b[39m\u001b[38;5;124m\"\u001b[39m, add_special_tokens\u001b[38;5;241m=\u001b[39m\u001b[38;5;28;01mFalse\u001b[39;00m)\n\u001b[1;32m      7\u001b[0m input_ids \u001b[38;5;241m=\u001b[39m add_tokens(prompt_toks, example)\n",
      "\u001b[0;31mNameError\u001b[0m: name 'tokenizer' is not defined"
     ]
    }
   ],
   "source": [
    "# # <nl> prompt </nl><s> text </s>\n",
    "# # Feature\n",
    "# # Prompt: [\"change indentifier casing and add class\"]\n",
    "# # Input Code: []\n",
    "# example = tokenizer (input_code)\n",
    "# prompt_toks = tokenizer(f\"<nl> {prompt} </nl>\", add_special_tokens=False)\n",
    "# input_ids = add_tokens(prompt_toks, example)\n",
    "# def add_tokens(additional_toks, example): return input_ids,attentionmask"
   ]
  }
 ],
 "metadata": {
  "interpreter": {
   "hash": "52bb47d3ea77865c3131cc1e8c4a6a32dab9d45644b42f43838103ba8502951c"
  },
  "kernelspec": {
   "display_name": "Python 3 (ipykernel)",
   "language": "python",
   "name": "python3"
  },
  "language_info": {
   "codemirror_mode": {
    "name": "ipython",
    "version": 3
   },
   "file_extension": ".py",
   "mimetype": "text/x-python",
   "name": "python",
   "nbconvert_exporter": "python",
   "pygments_lexer": "ipython3",
   "version": "3.8.13"
  },
  "vscode": {
   "interpreter": {
    "hash": "52bb47d3ea77865c3131cc1e8c4a6a32dab9d45644b42f43838103ba8502951c"
   }
  }
 },
 "nbformat": 4,
 "nbformat_minor": 4
}

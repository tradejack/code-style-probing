{
 "cells": [
  {
   "cell_type": "code",
   "execution_count": 7,
   "id": "6aa9fffc-9924-4b71-9eef-36062cd85323",
   "metadata": {},
   "outputs": [],
   "source": [
    "from transformers import PLBartForConditionalGeneration, PLBartTokenizer"
   ]
  },
  {
   "cell_type": "code",
   "execution_count": 4,
   "id": "e184d4a3-716c-4ebd-a036-d8bd3f7b527f",
   "metadata": {},
   "outputs": [],
   "source": [
    "CHECKPOINT = \"results_plbart/checkpoint-33596\""
   ]
  },
  {
   "cell_type": "code",
   "execution_count": 5,
   "id": "c42e8929-ddba-44ea-9414-357042a48762",
   "metadata": {},
   "outputs": [
    {
     "name": "stderr",
     "output_type": "stream",
     "text": [
      "Some weights of the model checkpoint at results_plbart/checkpoint-33596 were not used when initializing PLBartForConditionalGeneration: ['classification_head.out_proj.weight', 'classification_head.dense.bias', 'classification_head.dense.weight', 'classification_head.out_proj.bias']\n",
      "- This IS expected if you are initializing PLBartForConditionalGeneration from the checkpoint of a model trained on another task or with another architecture (e.g. initializing a BertForSequenceClassification model from a BertForPreTraining model).\n",
      "- This IS NOT expected if you are initializing PLBartForConditionalGeneration from the checkpoint of a model that you expect to be exactly identical (initializing a BertForSequenceClassification model from a BertForSequenceClassification model).\n"
     ]
    }
   ],
   "source": [
    "model = PLBartForConditionalGeneration.from_pretrained(\n",
    "    CHECKPOINT\n",
    ")"
   ]
  },
  {
   "cell_type": "code",
   "execution_count": 8,
   "id": "e6c30fba-082b-4927-b51d-0ceeb7ed4e46",
   "metadata": {},
   "outputs": [],
   "source": [
    "\n",
    "tokenizer = PLBartTokenizer.from_pretrained(\"uclanlp/plbart-base\")\n"
   ]
  },
  {
   "cell_type": "code",
   "execution_count": 14,
   "id": "d9bc5b8b-c4e7-4967-b7e0-27dae2335b6d",
   "metadata": {},
   "outputs": [],
   "source": [
    "\n",
    "input_ids =  tokenizer([\"def hello_world(): print('Hello World')\"],max_length=1024, padding=\"max_length\", return_tensors=\"pt\").input_ids\n"
   ]
  },
  {
   "cell_type": "code",
   "execution_count": 15,
   "id": "fdb58f7c-1d6b-443d-8bb9-c5b7b6dd5532",
   "metadata": {},
   "outputs": [],
   "source": [
    "gen_tokens = model.generate(input_ids)"
   ]
  },
  {
   "cell_type": "code",
   "execution_count": 16,
   "id": "0ecd3004-baa2-4f11-b3c6-9f6170af7de1",
   "metadata": {},
   "outputs": [
    {
     "data": {
      "text/plain": [
       "['<s> test test test test test test test test test test test test test test test test test test</s>']"
      ]
     },
     "execution_count": 16,
     "metadata": {},
     "output_type": "execute_result"
    }
   ],
   "source": [
    "tokenizer.batch_decode(gen_tokens)"
   ]
  },
  {
   "cell_type": "code",
   "execution_count": 17,
   "id": "be3ff5fa-4667-439e-966e-b0c50faa9b3e",
   "metadata": {},
   "outputs": [],
   "source": [
    "from transformers import T5ForConditionalGeneration, RobertaTokenizer"
   ]
  },
  {
   "cell_type": "code",
   "execution_count": 18,
   "id": "1f3fcf9b-37d0-4f2c-ac78-75ec8e7dd096",
   "metadata": {},
   "outputs": [],
   "source": [
    "CHECKPOINT = \"results_codet5/checkpoint-21000\""
   ]
  },
  {
   "cell_type": "code",
   "execution_count": 19,
   "id": "32f6103f-3a21-455a-82d2-7d45dc68d206",
   "metadata": {},
   "outputs": [],
   "source": [
    "model = T5ForConditionalGeneration.from_pretrained(\n",
    "    CHECKPOINT\n",
    ")"
   ]
  },
  {
   "cell_type": "code",
   "execution_count": 20,
   "id": "dbaa6fc8-0ccb-4d4f-a049-4e3a3f423250",
   "metadata": {},
   "outputs": [],
   "source": [
    "\n",
    "tokenizer = RobertaTokenizer.from_pretrained(\"Salesforce/codet5-base\")\n"
   ]
  },
  {
   "cell_type": "code",
   "execution_count": 21,
   "id": "9bcb0ea2-e683-407b-9b57-dffc85a82995",
   "metadata": {},
   "outputs": [],
   "source": [
    "\n",
    "input_ids =  tokenizer([\"def hello_world(): print('Hello World')\"],max_length=512, padding=\"max_length\", return_tensors=\"pt\").input_ids\n"
   ]
  },
  {
   "cell_type": "code",
   "execution_count": 22,
   "id": "f65b0b8f-6357-4cdf-b842-1ac77ab21886",
   "metadata": {},
   "outputs": [],
   "source": [
    "gen_tokens = model.generate(input_ids)"
   ]
  },
  {
   "cell_type": "code",
   "execution_count": 23,
   "id": "bf27fa78-6bd5-431f-8fab-85aacde280d5",
   "metadata": {},
   "outputs": [
    {
     "data": {
      "text/plain": [
       "['<pad>*******************']"
      ]
     },
     "execution_count": 23,
     "metadata": {},
     "output_type": "execute_result"
    }
   ],
   "source": [
    "tokenizer.batch_decode(gen_tokens)"
   ]
  },
  {
   "cell_type": "code",
   "execution_count": null,
   "id": "7fbb4633-8761-4cdc-827b-ce44725fd067",
   "metadata": {},
   "outputs": [],
   "source": []
  }
 ],
 "metadata": {
  "kernelspec": {
   "display_name": "Python 3 (ipykernel)",
   "language": "python",
   "name": "python3"
  },
  "language_info": {
   "codemirror_mode": {
    "name": "ipython",
    "version": 3
   },
   "file_extension": ".py",
   "mimetype": "text/x-python",
   "name": "python",
   "nbconvert_exporter": "python",
   "pygments_lexer": "ipython3",
   "version": "3.8.13"
  }
 },
 "nbformat": 4,
 "nbformat_minor": 5
}

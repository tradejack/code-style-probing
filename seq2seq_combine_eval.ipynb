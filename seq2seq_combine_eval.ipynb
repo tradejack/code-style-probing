{
 "cells": [
  {
   "cell_type": "code",
   "execution_count": 1,
   "id": "bd8630d2-67e2-4c63-a3b8-8befcb2b2e3e",
   "metadata": {},
   "outputs": [],
   "source": [
    "# eval on predictions\n",
    "import ast\n",
    "import re\n",
    "import difflib\n",
    "from termcolor import colored\n",
    "\n",
    "import numpy as np\n",
    "import pandas as pd\n",
    "from tqdm.auto import tqdm\n",
    "from evaluator.CodeBLEU.calc_code_bleu import get_codebleu\n",
    "from nltk.translate.bleu_score import sentence_bleu\n",
    "\n",
    "from utils.regex_parse import comment\n"
   ]
  },
  {
   "cell_type": "markdown",
   "id": "f9b7030d-0afd-4f3e-ab9d-ca3e06a57ceb",
   "metadata": {
    "tags": []
   },
   "source": [
    "# Functions"
   ]
  },
  {
   "cell_type": "code",
   "execution_count": 2,
   "id": "9d14d803-a45a-4968-bbe2-679542a6dbc9",
   "metadata": {},
   "outputs": [],
   "source": [
    "def exclude_same_io(df):\n",
    "    # excluding those input exactly same as the output\n",
    "    exact_match_bool = df[\"inputs\"] == df[\"labels\"]\n",
    "    df = df.drop(df[exact_match_bool].index)\n",
    "    return df"
   ]
  },
  {
   "cell_type": "code",
   "execution_count": 3,
   "id": "70997c90-fee0-41e8-ba9f-e3d2772c4d40",
   "metadata": {},
   "outputs": [],
   "source": [
    "# parsable eval\n",
    "def is_parsable(input_code):\n",
    "    try:\n",
    "        ast.parse(input_code)\n",
    "    except SyntaxError:\n",
    "        return False\n",
    "    except Exception as e:\n",
    "        print(input_code)\n",
    "        print(e)\n",
    "        return False\n",
    "    return True"
   ]
  },
  {
   "cell_type": "code",
   "execution_count": 4,
   "id": "735b6066-5183-4bf0-bd02-24e6991c15fd",
   "metadata": {},
   "outputs": [],
   "source": [
    "def evaluate_codebleu(pred_filename, weights=\"0.25,0.25,0.25,0.25\", replaced_df=None, dropna=False, is_exclude_same_io=False):\n",
    "    pred_df = None\n",
    "    if replaced_df is not None:\n",
    "        pred_df = replaced_df\n",
    "    else:\n",
    "        pred_df = pd.read_csv(pred_filename)\n",
    "    if dropna:\n",
    "        pred_df = pred_df.dropna()\n",
    "    if is_exclude_same_io:\n",
    "        pred_df = exclude_same_io(pred_df)\n",
    "    # a list of gold codes (which is just some variants of the same code, we can use every code of different styles)\n",
    "    refs = [\n",
    "        pred_df[\"labels\"]\n",
    "    ]\n",
    "    # the prediction code\n",
    "    hyp = pred_df[\"preds\"]\n",
    "    score = get_codebleu(refs, hyp, \"python\", weights)\n",
    "    return score"
   ]
  },
  {
   "cell_type": "code",
   "execution_count": 5,
   "id": "5d9506d3-bfe1-4212-9ecf-131f26bee592",
   "metadata": {},
   "outputs": [],
   "source": [
    "def get_docstring(text):\n",
    "    regex_docstr = \"^\\s*\\'{3}([\\s\\S]*?)\\'{3}|^\\s*\\\"{3}([\\s\\S]*?)\\\"{3}\"\n",
    "    docstr_matches = re.findall(regex_docstr, text, re.M | re.S)\n",
    "    docstrs = []\n",
    "    for match in docstr_matches:\n",
    "        docstr_a, docstr_b = match\n",
    "        if docstr_a:\n",
    "            docstrs += [docstr_a]\n",
    "        else:\n",
    "            docstrs += [docstr_b]\n",
    "    return docstrs"
   ]
  },
  {
   "cell_type": "code",
   "execution_count": 6,
   "id": "560a4376-f9ed-4273-bb6f-d77e66afd4b9",
   "metadata": {},
   "outputs": [],
   "source": [
    "def print_split_line(s):\n",
    "    print(f\"\\n====================={s.upper()}=====================\\n\")"
   ]
  },
  {
   "cell_type": "code",
   "execution_count": 7,
   "id": "863f73bc-5be4-4b6a-a171-5f765a1063a4",
   "metadata": {},
   "outputs": [],
   "source": [
    "def tokenize(s):\n",
    "    return re.split('\\s+', s)\n",
    "\n",
    "def get_diff_list(str_1, str_2):\n",
    "    s1 = tokenize(str_1)\n",
    "    s2 = tokenize(str_2)\n",
    "\n",
    "    matcher = difflib.SequenceMatcher(a=s1, b=s2)\n",
    "\n",
    "    diff_blocks_a = []\n",
    "    diff_blocks_b = []\n",
    "\n",
    "    prev_match = None\n",
    "    for idx, match in enumerate(matcher.get_matching_blocks()):\n",
    "\n",
    "        if idx == 0: \n",
    "            prev_match = match\n",
    "            if match.a != 0:\n",
    "                start_idx_a = 0\n",
    "                end_idx_a = match.a\n",
    "                diff_blocks_a += s1[start_idx_a:end_idx_a]\n",
    "            if match.b != 0:\n",
    "                start_idx_b = 0\n",
    "                end_idx_b = match.b\n",
    "                diff_blocks_b += s2[start_idx_b:end_idx_b]\n",
    "            continue\n",
    "\n",
    "        start_idx_a = prev_match.a + prev_match.size\n",
    "        end_idx_a = match.a\n",
    "\n",
    "        start_idx_b = prev_match.b + prev_match.size\n",
    "        end_idx_b = match.b\n",
    "\n",
    "        diff_list_a = s1[start_idx_a:end_idx_a]\n",
    "        diff_list_b = s2[start_idx_b:end_idx_b]\n",
    "        if len(diff_list_a):\n",
    "            diff_blocks_a += diff_list_a\n",
    "        if len(diff_list_b):\n",
    "            diff_blocks_b += diff_list_b\n",
    "\n",
    "        prev_match = match\n",
    "    return diff_blocks_a, diff_blocks_b\n",
    "\n",
    "def get_diff_str(input_str, output_str):\n",
    "    return \" \".join(get_diff_list(input_str, output_str)[1])"
   ]
  },
  {
   "cell_type": "code",
   "execution_count": 8,
   "id": "b9ef62d3-e568-4b4d-b755-263a7e780b91",
   "metadata": {},
   "outputs": [],
   "source": [
    "import re\n",
    "def remove_nl_prompt(script):\n",
    "    return re.sub(\"<nl>.*<\\/nl>\", \"\", script)"
   ]
  },
  {
   "cell_type": "code",
   "execution_count": 9,
   "id": "309135e0-66e2-4683-9d6f-b8c4189dfec5",
   "metadata": {},
   "outputs": [],
   "source": [
    "def evaluate_pred_df(pred_df, target_feats, is_nl=False, parse_test=True):\n",
    "    \n",
    "    inputs = pred_df[\"inputs\"].to_numpy()\n",
    "    labels = pred_df[\"labels\"].to_numpy()\n",
    "    preds = pred_df[\"preds\"].to_numpy()\n",
    "    \n",
    "    \n",
    "    code_scores = []\n",
    "    diff_bleu_scores = []\n",
    "    \n",
    "    # if comment, need to extract comment\n",
    "    gold_comments = []\n",
    "    pred_comments = []\n",
    "    comment_text_scores = []\n",
    "    \n",
    "    # if docstring, need to extract docstring\n",
    "    gold_docstrings = []\n",
    "    pred_docstrings = []\n",
    "    docstr_text_scores = []\n",
    "    \n",
    "    # if parse test\n",
    "    is_parsables = []\n",
    "    \n",
    "    pred_diffs = []\n",
    "    gold_diffs = []\n",
    "    \n",
    "    total_len = preds.shape[0]\n",
    "    \n",
    "    for idx in tqdm(range(total_len)):\n",
    "        input_code = inputs[idx]\n",
    "        \n",
    "        if is_nl:\n",
    "            input_code = remove_nl_prompt(input_code)\n",
    "        gold = labels[idx]\n",
    "        pred = preds[idx]\n",
    "        \n",
    "        refs = [[gold]]\n",
    "        hyp = [pred]\n",
    "        \n",
    "        # get code bleu score\n",
    "        code_score = get_codebleu(refs, hyp, \"python\", '0.25,0.25,0.25,0.25')\n",
    "        \n",
    "        if \"docstring\" in target_feats:\n",
    "            gold_docstr = get_docstring(gold)\n",
    "            pred_docstr = get_docstring(pred)\n",
    "            gold_docstr_text = \"\\n\".join(gold_docstr)\n",
    "            pred_docstr_text = \"\\n\".join(pred_docstr)\n",
    "            docstr_text_score = 0\n",
    "            if len(pred_docstr_text.split()) > 0:\n",
    "                docstr_text_score = sentence_bleu([gold_docstr_text.split()], pred_docstr_text.split(), auto_reweigh=True)\n",
    "            \n",
    "            gold_docstrings += [gold_docstr]\n",
    "            pred_docstrings += [pred_docstr]\n",
    "            docstr_text_scores += [docstr_text_score]\n",
    "            \n",
    "        if \"comment\" in target_feats:\n",
    "            gold_comment = comment(gold)\n",
    "            pred_comment = comment(pred)\n",
    "            gold_comment_text = \"\\n\".join(gold_comment)\n",
    "            pred_comment_text = \"\\n\".join(pred_comment)\n",
    "            comment_text_score = 0\n",
    "            if len(pred_comment_text.split()) > 0:\n",
    "                comment_text_score = sentence_bleu([gold_comment_text.split()], pred_comment_text.split(), auto_reweigh=True)\n",
    "            \n",
    "            gold_comments += [gold_comment]\n",
    "            pred_comments += [pred_comment]\n",
    "            comment_text_scores += [comment_text_score]\n",
    "    \n",
    "        # get the diff bleu score\n",
    "        gold_diff_str = get_diff_str(input_code, gold)\n",
    "        pred_diff_str = get_diff_str(input_code, pred)\n",
    "        \n",
    "        pred_diffs += [pred_diff_str]\n",
    "        gold_diffs += [gold_diff_str]\n",
    "        \n",
    "        diff_bleu_score = 0\n",
    "        if len(pred_diff_str.split()) > 0:\n",
    "            diff_bleu_score = sentence_bleu([gold_diff_str.split()], pred_diff_str.split(), auto_reweigh=True)\n",
    "        \n",
    "        code_scores += [code_score]\n",
    "        diff_bleu_scores += [diff_bleu_score]\n",
    "        if parse_test:\n",
    "            is_parsables += [is_parsable(pred)]\n",
    "        \n",
    "    \n",
    "    code_bleus = np.array([s[\"code_bleu\"] for s in code_scores])\n",
    "    \n",
    "    report = {\n",
    "        \"inputs\": inputs,\n",
    "        \"labels\": labels,\n",
    "        \"preds\": preds,\n",
    "        \"pred_diffs\": pred_diffs,\n",
    "        \"gold_diffs\": gold_diffs,\n",
    "        \"codebleu\": code_scores,\n",
    "        \"codebleu_perfect\": sum(code_bleus == 1) / total_len,\n",
    "        \"codebleu_above_90\": sum(code_bleus >= 0.9) / total_len,\n",
    "        \"diff_bleu\": diff_bleu_scores,\n",
    "        \"diff_bleu_avg\":  np.mean(diff_bleu_scores),\n",
    "        \"diff_bleu_perfect\": sum(np.array(diff_bleu_scores) == 1) / total_len,\n",
    "        \"diff_bleu_above_90\": sum(np.array(diff_bleu_scores) >= 0.9) / total_len,\n",
    "    }\n",
    "    \n",
    "    if \"docstring\" in target_feats:\n",
    "        report[\"gold_docstrings\"] = gold_docstrings\n",
    "        report[\"pred_docstrings\"] = pred_docstrings\n",
    "        report[\"docstr_text_scores\"] = docstr_text_scores\n",
    "        report[\"docstr_text_scores_avg\"] = np.array(docstr_text_scores).mean()\n",
    "        report[\"docstr_text_scores_perfect\"] = sum(np.array(docstr_text_scores) == 1) / total_len\n",
    "        report[\"docstr_text_scores_above_90\"] = sum(np.array(docstr_text_scores) >= 0.9) / total_len\n",
    "        \n",
    "        \n",
    "    if \"comment\" in target_feats:\n",
    "        report[\"gold_comments\"] = gold_comments\n",
    "        report[\"pred_comments\"] = pred_comments\n",
    "        report[\"comment_text_scores\"] = comment_text_scores\n",
    "        report[\"comment_text_scores_avg\"] = np.array(comment_text_scores).mean()\n",
    "        report[\"comment_text_scores_perfect\"] = sum(np.array(comment_text_scores) == 1) / total_len\n",
    "        report[\"comment_text_scores_above_90\"] = sum(np.array(comment_text_scores) >= 0.9) / total_len\n",
    "        \n",
    "    if parse_test:\n",
    "        report[\"parse_test_accuracy\"] = sum(np.array(is_parsables)) / total_len\n",
    "        \n",
    "    return report.copy()"
   ]
  },
  {
   "cell_type": "code",
   "execution_count": 10,
   "id": "b9489fa3-f0fa-4947-b7bc-9b350decff3b",
   "metadata": {},
   "outputs": [],
   "source": [
    "def print_colored_diff(str_1, str_2):\n",
    "    text_1 = \"\"\n",
    "    text_2 = \"\"\n",
    "    idx_1 = 0\n",
    "    idx_2 = 0\n",
    "    matcher = difflib.SequenceMatcher(a=str_1, b=str_2)\n",
    "    for match in matcher.get_matching_blocks():\n",
    "        diff_text_1 = \"\"\n",
    "        if idx_1 < match.a:\n",
    "            diff_text_1 += colored(str_1[idx_1:match.a], \"red\")\n",
    "\n",
    "\n",
    "        diff_text_2 = \"\"\n",
    "        if idx_2 < match.b:\n",
    "            diff_text_2 += colored(str_2[idx_2:match.b], \"red\")\n",
    "\n",
    "        match_text_1 = str_1[match.a:match.a+match.size]\n",
    "        match_text_2 = str_2[match.b:match.b+match.size]\n",
    "\n",
    "        idx_1 = match.a+match.size \n",
    "        idx_2 = match.b+match.size\n",
    "\n",
    "        text_1 += diff_text_1 + match_text_1\n",
    "        text_2 += diff_text_2 + match_text_2\n",
    "        \n",
    "    if idx_1 < len(str_1):\n",
    "        text_1 += colored(str_1[idx_1:], \"red\")\n",
    "        \n",
    "    if idx_2 < len(str_2):\n",
    "        text_2 += colored(str_2[idx_2:], \"red\")\n",
    "    return text_1, text_2"
   ]
  },
  {
   "cell_type": "code",
   "execution_count": 11,
   "id": "d141c031-b451-4add-970f-46d88c01f91c",
   "metadata": {},
   "outputs": [],
   "source": [
    "def lookup_examples(report, score_upper_bound, score_lower_bound, metric=\"diff_bleu\", start_idx=0, count=10):\n",
    "    total = len(report[\"inputs\"])\n",
    "    if count == \"all\":\n",
    "        count = total\n",
    "    current_count = 0\n",
    "    for idx in range(total):\n",
    "        if current_count == count: break\n",
    "        if idx < start_idx: continue\n",
    "        \n",
    "        # checking upper bound\n",
    "        if report[metric][idx] > score_upper_bound: continue\n",
    "        # checking lower bound\n",
    "        if report[metric][idx] < score_lower_bound: continue\n",
    "        \n",
    "        input_code = report[\"inputs\"][idx]\n",
    "        pred_code = report[\"preds\"][idx]\n",
    "        gold_code = report[\"labels\"][idx]\n",
    "        \n",
    "        c_input, c_gold = print_colored_diff(input_code, gold_code)\n",
    "        _, c_pred = print_colored_diff(input_code, pred_code)\n",
    "        \n",
    "        print_split_line(f\"{idx}-input\")\n",
    "        print(c_input)\n",
    "        print_split_line(f\"{idx}-prediction\")\n",
    "        print(c_pred)\n",
    "        print_split_line(f\"{idx}-gold labels\")\n",
    "        print(c_gold)\n",
    "        print_split_line(f\"{idx}-{metric}\")\n",
    "        print(report[metric][idx])\n",
    "        \n",
    "        current_count += 1\n",
    "        # break\n"
   ]
  },
  {
   "cell_type": "markdown",
   "id": "216a1d26-b163-4203-a8a8-1ca06e6a3485",
   "metadata": {
    "jp-MarkdownHeadingCollapsed": true,
    "tags": []
   },
   "source": [
    "# =====================SPLIT LINE====================="
   ]
  },
  {
   "cell_type": "code",
   "execution_count": null,
   "id": "8383c62f-2522-4c00-866a-49fd5583ba74",
   "metadata": {},
   "outputs": [],
   "source": [
    "# finetuned nl\n",
    "folder = \"seq2seq_results\"\n",
    "model_name = \"combined_nl_prompt_base_features_codet5small\"\n",
    "ckpt = \"epoch 2/checkpoint-85000\""
   ]
  },
  {
   "cell_type": "code",
   "execution_count": null,
   "id": "d399eae1-e5d5-498c-9b2e-c3406e16f638",
   "metadata": {},
   "outputs": [],
   "source": [
    "pred_csvfile = \"codet5_finetuned_nl_docstring_list_comp_class_casing_comment_preds.csv\"\n",
    "file_name = f\"{folder}/{model_name}/{ckpt}/{pred_csvfile}\"\n",
    "target_feats = [\"docstring\", \"list_comp\", \"class\", \"casing\", \"comment\"]"
   ]
  },
  {
   "cell_type": "code",
   "execution_count": null,
   "id": "d137a370-6f44-4ed4-a3dc-532bea8933d3",
   "metadata": {},
   "outputs": [],
   "source": [
    "all_feat_codebleu = evaluate_codebleu(file_name,  '0.25,0.25,0.25,0.25')\n",
    "all_feat_codebleu"
   ]
  },
  {
   "cell_type": "code",
   "execution_count": null,
   "id": "08f852ab-8df8-4da6-ba46-0ff813bd276e",
   "metadata": {},
   "outputs": [],
   "source": [
    "\n",
    "all_feat_pred_df = pd.read_csv(file_name)"
   ]
  },
  {
   "cell_type": "code",
   "execution_count": null,
   "id": "613df3a6-e50a-46b1-b55b-8471539db9a9",
   "metadata": {},
   "outputs": [],
   "source": [
    "all_feat_report = evaluate_pred_df(all_feat_pred_df, target_feats)"
   ]
  },
  {
   "cell_type": "code",
   "execution_count": null,
   "id": "03ed3480-1ea0-4fef-8329-d1919f2e0361",
   "metadata": {},
   "outputs": [],
   "source": [
    "all_feat_report[\"diff_bleu_avg\"]"
   ]
  },
  {
   "cell_type": "code",
   "execution_count": null,
   "id": "b7283678-1623-4785-a2ce-ec2b5a96b645",
   "metadata": {},
   "outputs": [],
   "source": [
    "max(all_feat_report[\"diff_bleu\"])"
   ]
  },
  {
   "cell_type": "code",
   "execution_count": null,
   "id": "77ec4c46-9a33-4974-9039-70593bd826af",
   "metadata": {},
   "outputs": [],
   "source": [
    "total = len(all_feat_pred_df)\n",
    "for idx in range(total):\n",
    "    if all_feat_report[\"diff_bleu\"][idx] >= 0.14:\n",
    "        print_split_line(f\"{idx}-input\")\n",
    "        print(all_feat_report[\"inputs\"][idx])\n",
    "        print_split_line(f\"{idx}-prediction\")\n",
    "        print(all_feat_report[\"preds\"][idx])\n",
    "        print_split_line(f\"{idx}-gold labels\")\n",
    "        print(all_feat_report[\"labels\"][idx])\n",
    "        print_split_line(f\"{idx}-score\")\n",
    "        print(all_feat_report[\"diff_bleu\"][idx])"
   ]
  },
  {
   "cell_type": "code",
   "execution_count": null,
   "id": "f860e698-9196-49ed-b3ba-e5c902716710",
   "metadata": {},
   "outputs": [],
   "source": [
    "pred_csvfile = \"codet5_finetuned_nl_tok_type_4_docstring_list_comp_class_casing_comment_preds.csv\"\n",
    "file_name = f\"{folder}/{model_name}/{ckpt}/{pred_csvfile}\"\n",
    "target_feats = [\"docstring\", \"list_comp\", \"class\", \"casing\", \"comment\"]"
   ]
  },
  {
   "cell_type": "code",
   "execution_count": null,
   "id": "e6aac7ec-211a-4e21-be05-4619d6b6d5b3",
   "metadata": {},
   "outputs": [],
   "source": [
    "all_feat_codebleu = evaluate_codebleu(file_name,  '0.25,0.25,0.25,0.25')\n",
    "all_feat_codebleu"
   ]
  },
  {
   "cell_type": "code",
   "execution_count": null,
   "id": "1eb5db72-cc3a-45fe-8132-f308385622f8",
   "metadata": {},
   "outputs": [],
   "source": [
    "\n",
    "all_feat_pred_df = pd.read_csv(file_name)"
   ]
  },
  {
   "cell_type": "code",
   "execution_count": null,
   "id": "26165259-453e-4e1f-868d-7e5cbf45e7d1",
   "metadata": {},
   "outputs": [],
   "source": [
    "all_feat_report = evaluate_pred_df(all_feat_pred_df, target_feats)"
   ]
  },
  {
   "cell_type": "code",
   "execution_count": null,
   "id": "f846a90e-9193-46ff-b3bf-8acf2bc971dd",
   "metadata": {},
   "outputs": [],
   "source": [
    "all_feat_report[\"diff_bleu_avg\"]"
   ]
  },
  {
   "cell_type": "code",
   "execution_count": null,
   "id": "748f2e32-37fb-4d9e-b258-5e877d4e2b9a",
   "metadata": {},
   "outputs": [],
   "source": [
    "max(all_feat_report[\"diff_bleu\"])"
   ]
  },
  {
   "cell_type": "markdown",
   "id": "fdf5c060-022f-4c78-a037-00c13d45487c",
   "metadata": {
    "jp-MarkdownHeadingCollapsed": true,
    "tags": []
   },
   "source": [
    "# CodeT5 Finetuned"
   ]
  },
  {
   "cell_type": "markdown",
   "id": "71d149cd-9057-4049-8f70-508fd43d8f07",
   "metadata": {
    "jp-MarkdownHeadingCollapsed": true,
    "tags": []
   },
   "source": [
    "## codet5_finetuned_nl_casing_preds"
   ]
  },
  {
   "cell_type": "code",
   "execution_count": null,
   "id": "22cd35fe-ca5e-4f14-bf61-68179572d731",
   "metadata": {},
   "outputs": [],
   "source": [
    "pred_csvfile = \"codet5_finetuned_nl_casing_preds.csv\"\n",
    "file_name = f\"{folder}/{model_name}/{ckpt}/{pred_csvfile}\"\n",
    "target_feats = [\"casing\"]"
   ]
  },
  {
   "cell_type": "code",
   "execution_count": null,
   "id": "1fae0666-0f3b-4967-b58c-2d223a7d84dd",
   "metadata": {},
   "outputs": [],
   "source": [
    "casing_codebleu = evaluate_codebleu(file_name,  '0.25,0.25,0.25,0.25')\n",
    "casing_codebleu"
   ]
  },
  {
   "cell_type": "code",
   "execution_count": null,
   "id": "e7a4882d-dadf-4fcc-b215-439174ff52c4",
   "metadata": {},
   "outputs": [],
   "source": [
    "casing_pred_df = pd.read_csv(file_name)"
   ]
  },
  {
   "cell_type": "code",
   "execution_count": null,
   "id": "058acc3f-c1aa-4121-8058-ca1ec0d3308b",
   "metadata": {
    "scrolled": true,
    "tags": []
   },
   "outputs": [],
   "source": [
    "casing_report = evaluate_pred_df(casing_pred_df, target_feats, is_nl=True)"
   ]
  },
  {
   "cell_type": "code",
   "execution_count": null,
   "id": "e0d829d8-2b3f-4eb2-a730-f2500cd659da",
   "metadata": {},
   "outputs": [],
   "source": [
    "for key, val in casing_report.items():\n",
    "    if type(val) != list and len(val.shape) == 0:\n",
    "        print(key, \":\", val)"
   ]
  },
  {
   "cell_type": "markdown",
   "id": "695fbd78-cb89-49a3-b280-1de0a63e71ea",
   "metadata": {
    "jp-MarkdownHeadingCollapsed": true,
    "tags": []
   },
   "source": [
    "## codet5_finetuned_nl_class_preds"
   ]
  },
  {
   "cell_type": "code",
   "execution_count": null,
   "id": "d436a69c-c651-44a2-91cb-92a61eff5fe3",
   "metadata": {},
   "outputs": [],
   "source": [
    "pred_csvfile = \"codet5_finetuned_nl_class_preds.csv\"\n",
    "file_name = f\"{folder}/{model_name}/{ckpt}/{pred_csvfile}\"\n",
    "target_feats = [\"class\"]"
   ]
  },
  {
   "cell_type": "code",
   "execution_count": null,
   "id": "60fd2b20-e77c-42de-93ef-bb07077ad4c2",
   "metadata": {},
   "outputs": [],
   "source": [
    "class_codebleu = evaluate_codebleu(file_name,  '0.25,0.25,0.25,0.25')\n",
    "class_codebleu"
   ]
  },
  {
   "cell_type": "code",
   "execution_count": null,
   "id": "61d75524-5be3-44b4-acd5-1b598607bbfd",
   "metadata": {},
   "outputs": [],
   "source": [
    "class_pred_df = pd.read_csv(file_name)"
   ]
  },
  {
   "cell_type": "code",
   "execution_count": null,
   "id": "edbd3208-c38a-47c4-9605-bec38ebdcad1",
   "metadata": {
    "scrolled": true,
    "tags": []
   },
   "outputs": [],
   "source": [
    "class_report = evaluate_pred_df(class_pred_df, target_feats, is_nl=True)"
   ]
  },
  {
   "cell_type": "code",
   "execution_count": null,
   "id": "58929cf0-e562-449b-b247-9dc17f36489e",
   "metadata": {},
   "outputs": [],
   "source": [
    "for key, val in class_report.items():\n",
    "    if type(val) != list and len(val.shape) == 0:\n",
    "        print(key, \":\", val)"
   ]
  },
  {
   "cell_type": "markdown",
   "id": "97cceee1-10d8-4062-ab41-32801af642c0",
   "metadata": {
    "tags": []
   },
   "source": [
    "## codet5_finetuned_nl_list_comp_preds"
   ]
  },
  {
   "cell_type": "code",
   "execution_count": null,
   "id": "80dbf742-2879-4966-a314-5e743b9c07b2",
   "metadata": {},
   "outputs": [],
   "source": [
    "pred_csvfile = \"codet5_finetuned_nl_list_comp_preds.csv\"\n",
    "file_name = f\"{folder}/{model_name}/{ckpt}/{pred_csvfile}\"\n",
    "target_feats = [\"list_comp\"]"
   ]
  },
  {
   "cell_type": "code",
   "execution_count": null,
   "id": "2a37c198-5604-43ca-9219-50af7e8b31f4",
   "metadata": {},
   "outputs": [],
   "source": [
    "list_comp_codebleu = evaluate_codebleu(file_name,  '0.25,0.25,0.25,0.25', is_exclude_same_io=True)\n",
    "list_comp_codebleu"
   ]
  },
  {
   "cell_type": "code",
   "execution_count": null,
   "id": "bf03a9bd-6c0c-4275-b7a5-747681b95b9e",
   "metadata": {},
   "outputs": [],
   "source": [
    "list_comp_pred_df = pd.read_csv(file_name)\n",
    "list_comp_pred_df = exclude_same_io(list_comp_pred_df)"
   ]
  },
  {
   "cell_type": "code",
   "execution_count": null,
   "id": "51a1e6d0-d80e-4a81-baec-0e2b73473d2a",
   "metadata": {
    "scrolled": true,
    "tags": []
   },
   "outputs": [],
   "source": [
    "list_comp_report = evaluate_pred_df(list_comp_pred_df, target_feats, is_nl=True)"
   ]
  },
  {
   "cell_type": "code",
   "execution_count": null,
   "id": "7867fe74-ab53-4d9f-8277-b502569fc4ab",
   "metadata": {},
   "outputs": [],
   "source": [
    "for key, val in list_comp_report.items():\n",
    "    if type(val) != list and len(val.shape) == 0:\n",
    "        print(key, \":\", val)"
   ]
  },
  {
   "cell_type": "code",
   "execution_count": null,
   "id": "be768c6d-9e52-4ca0-b9e6-bbb806d33836",
   "metadata": {
    "scrolled": true,
    "tags": []
   },
   "outputs": [],
   "source": [
    "total = len(list_comp_pred_df)\n",
    "for idx in range(total):\n",
    "    if list_comp_report[\"diff_bleu\"][idx] >= 0.:\n",
    "        if list_comp_report[\"diff_bleu\"][idx] >= 0.3: continue\n",
    "        print_split_line(f\"{idx}-input\")\n",
    "        print(list_comp_report[\"inputs\"][idx])\n",
    "        print_split_line(f\"{idx}-prediction\")\n",
    "        print(list_comp_report[\"preds\"][idx])\n",
    "        print_split_line(f\"{idx}-gold labels\")\n",
    "        print(list_comp_report[\"labels\"][idx])\n",
    "        print_split_line(f\"{idx}-score\")\n",
    "        print(list_comp_report[\"diff_bleu\"][idx])"
   ]
  },
  {
   "cell_type": "markdown",
   "id": "6c72c3ab-931c-409b-a848-7289ba0480ea",
   "metadata": {
    "jp-MarkdownHeadingCollapsed": true,
    "tags": []
   },
   "source": [
    "## codet5_finetuned_nl_docstring_preds"
   ]
  },
  {
   "cell_type": "code",
   "execution_count": null,
   "id": "49b21870-9c94-45d3-8ce5-44b4cf55c9c7",
   "metadata": {},
   "outputs": [],
   "source": [
    "pred_csvfile = \"codet5_finetuned_nl_docstring_preds.csv\"\n",
    "file_name = f\"{folder}/{model_name}/{ckpt}/{pred_csvfile}\"\n",
    "target_feats = [\"docstring\"]"
   ]
  },
  {
   "cell_type": "code",
   "execution_count": null,
   "id": "676cb398-3794-47ce-af36-c8b8679a3ed7",
   "metadata": {},
   "outputs": [],
   "source": [
    "docstring_codebleu = evaluate_codebleu(file_name,  '0.25,0.25,0.25,0.25')\n",
    "docstring_codebleu"
   ]
  },
  {
   "cell_type": "code",
   "execution_count": null,
   "id": "cdbac530-f97d-4edf-ae12-93b4cd77b8fa",
   "metadata": {},
   "outputs": [],
   "source": [
    "docstring_pred_df = pd.read_csv(file_name)"
   ]
  },
  {
   "cell_type": "code",
   "execution_count": null,
   "id": "4cb19d1d-cfc2-4bfb-ae09-bd6f94afa877",
   "metadata": {
    "scrolled": true,
    "tags": []
   },
   "outputs": [],
   "source": [
    "docstring_report = evaluate_pred_df(docstring_pred_df, target_feats, is_nl=True)"
   ]
  },
  {
   "cell_type": "code",
   "execution_count": null,
   "id": "0220a095-dd5a-4851-9380-0796cbc3c598",
   "metadata": {},
   "outputs": [],
   "source": [
    "for key, val in docstring_report.items():\n",
    "    if type(val) != list and len(val.shape) == 0:\n",
    "        print(key, \":\", val)"
   ]
  },
  {
   "cell_type": "markdown",
   "id": "20c72678-0c68-46ec-bbeb-7e98b3e8835a",
   "metadata": {
    "jp-MarkdownHeadingCollapsed": true,
    "tags": []
   },
   "source": [
    "## codet5_finetuned_nl_comment_preds"
   ]
  },
  {
   "cell_type": "code",
   "execution_count": null,
   "id": "5678d614-02a4-4252-a452-9bad6bd4e512",
   "metadata": {},
   "outputs": [],
   "source": [
    "pred_csvfile = \"codet5_finetuned_nl_comment_preds.csv\"\n",
    "file_name = f\"{folder}/{model_name}/{ckpt}/{pred_csvfile}\"\n",
    "target_feats = [\"comment\"]"
   ]
  },
  {
   "cell_type": "code",
   "execution_count": null,
   "id": "2d30fb46-59e5-4922-acd5-7a465f83c00b",
   "metadata": {},
   "outputs": [],
   "source": [
    "comment_codebleu = evaluate_codebleu(file_name,  '0.25,0.25,0.25,0.25', dropna=True)\n",
    "comment_codebleu"
   ]
  },
  {
   "cell_type": "code",
   "execution_count": null,
   "id": "bc75611e-865d-4d15-8951-09ead8c82a35",
   "metadata": {},
   "outputs": [],
   "source": [
    "comment_pred_df = pd.read_csv(file_name)"
   ]
  },
  {
   "cell_type": "code",
   "execution_count": null,
   "id": "edfaf472-c921-4ace-a490-0de6938cccb6",
   "metadata": {},
   "outputs": [],
   "source": [
    "# not sure why there is nan in preds, but just exclude it no matter what\n",
    "comment_pred_df = comment_pred_df.dropna()"
   ]
  },
  {
   "cell_type": "code",
   "execution_count": null,
   "id": "75351dd7-04b3-4cbb-864e-dacae00754c1",
   "metadata": {
    "scrolled": true,
    "tags": []
   },
   "outputs": [],
   "source": [
    "comment_report = evaluate_pred_df(comment_pred_df, target_feats, is_nl=True)"
   ]
  },
  {
   "cell_type": "code",
   "execution_count": null,
   "id": "d0e42ca1-6b6b-49b7-803a-4babda7e2e50",
   "metadata": {},
   "outputs": [],
   "source": [
    "for key, val in comment_report.items():\n",
    "    if type(val) != list and len(val.shape) == 0:\n",
    "        print(key, \":\", val)"
   ]
  },
  {
   "cell_type": "markdown",
   "id": "812dfe17-26df-4aaf-8094-c8da0635bba9",
   "metadata": {
    "jp-MarkdownHeadingCollapsed": true,
    "tags": []
   },
   "source": [
    "# Baseline"
   ]
  },
  {
   "cell_type": "code",
   "execution_count": 12,
   "id": "b41b6a20-bc21-49b8-a319-cfdc4fce1673",
   "metadata": {},
   "outputs": [],
   "source": [
    "# baseline nl\n",
    "folder = \"seq2seq_results\"\n",
    "model_name = \"combined_nl_prompt_base_features_baseline_codet5small\"\n",
    "ckpt = \"checkpoint-144856\""
   ]
  },
  {
   "cell_type": "markdown",
   "id": "0c78feac-5a34-461b-97de-e2bcb314dbc1",
   "metadata": {
    "jp-MarkdownHeadingCollapsed": true,
    "tags": []
   },
   "source": [
    "## codet5_baseline_nl_casing_preds"
   ]
  },
  {
   "cell_type": "code",
   "execution_count": null,
   "id": "2809d757-623c-448a-b696-bc4d3a444582",
   "metadata": {},
   "outputs": [],
   "source": [
    "pred_csvfile = \"codet5_baseline_nl_casing_preds.csv\"\n",
    "file_name = f\"{folder}/{model_name}/{ckpt}/{pred_csvfile}\"\n",
    "target_feats = [\"casing\"]"
   ]
  },
  {
   "cell_type": "code",
   "execution_count": null,
   "id": "e5308eed-4935-4eba-96f2-0d92c2acee0f",
   "metadata": {},
   "outputs": [],
   "source": [
    "casing_codebleu = evaluate_codebleu(file_name,  '0.25,0.25,0.25,0.25', is_exclude_same_io=True)\n",
    "casing_codebleu"
   ]
  },
  {
   "cell_type": "code",
   "execution_count": null,
   "id": "5de39feb-d5c2-43df-a3ca-08c32fe21bc8",
   "metadata": {},
   "outputs": [],
   "source": [
    "casing_pred_df = pd.read_csv(file_name)"
   ]
  },
  {
   "cell_type": "code",
   "execution_count": null,
   "id": "d5a55898-fd9d-4d58-ac8f-44f24777021f",
   "metadata": {
    "scrolled": true,
    "tags": []
   },
   "outputs": [],
   "source": [
    "casing_report = evaluate_pred_df(casing_pred_df, target_feats, is_nl=True)"
   ]
  },
  {
   "cell_type": "code",
   "execution_count": null,
   "id": "5ee46620-8689-4d7d-9910-5528048cd6e2",
   "metadata": {},
   "outputs": [],
   "source": [
    "for key, val in casing_report.items():\n",
    "    if type(val) != list and len(val.shape) == 0:\n",
    "        print(key, \":\", val)"
   ]
  },
  {
   "cell_type": "markdown",
   "id": "4cff3d85-e91f-4e9c-8e9b-5e4c6d7d1aff",
   "metadata": {
    "jp-MarkdownHeadingCollapsed": true,
    "tags": []
   },
   "source": [
    "## codet5_baseline_nl_class_preds"
   ]
  },
  {
   "cell_type": "code",
   "execution_count": null,
   "id": "f2c45623-6b95-4763-b5ee-750b1f39132b",
   "metadata": {},
   "outputs": [],
   "source": [
    "pred_csvfile = \"codet5_baseline_nl_class_preds.csv\"\n",
    "file_name = f\"{folder}/{model_name}/{ckpt}/{pred_csvfile}\"\n",
    "target_feats = [\"class\"]"
   ]
  },
  {
   "cell_type": "code",
   "execution_count": null,
   "id": "b645c046-c4ef-43cf-b877-172f5dafeb34",
   "metadata": {},
   "outputs": [],
   "source": [
    "class_codebleu = evaluate_codebleu(file_name,  '0.25,0.25,0.25,0.25', is_exclude_same_io=True)\n",
    "class_codebleu"
   ]
  },
  {
   "cell_type": "code",
   "execution_count": null,
   "id": "81907dfc-c568-4720-b0c5-c603236c277e",
   "metadata": {},
   "outputs": [],
   "source": [
    "class_pred_df = pd.read_csv(file_name)"
   ]
  },
  {
   "cell_type": "code",
   "execution_count": null,
   "id": "8ce7c99e-d9cb-42ba-814a-1966659dcd41",
   "metadata": {
    "scrolled": true,
    "tags": []
   },
   "outputs": [],
   "source": [
    "class_report = evaluate_pred_df(class_pred_df, target_feats, is_nl=True)"
   ]
  },
  {
   "cell_type": "code",
   "execution_count": null,
   "id": "e5e3fdb4-1ea3-40d8-9dfd-09bf2ac0d866",
   "metadata": {},
   "outputs": [],
   "source": [
    "for key, val in class_report.items():\n",
    "    if type(val) != list and len(val.shape) == 0:\n",
    "        print(key, \":\", val)"
   ]
  },
  {
   "cell_type": "markdown",
   "id": "7ddb0eee-640e-4160-8b6e-93bcce8f99a9",
   "metadata": {
    "jp-MarkdownHeadingCollapsed": true,
    "tags": []
   },
   "source": [
    "## codet5_baseline_nl_list_comp_preds"
   ]
  },
  {
   "cell_type": "code",
   "execution_count": null,
   "id": "46f60a85-ad88-41bc-ad77-10c32d6517e7",
   "metadata": {},
   "outputs": [],
   "source": [
    "pred_csvfile = \"codet5_baseline_nl_list_comp_preds.csv\"\n",
    "file_name = f\"{folder}/{model_name}/{ckpt}/{pred_csvfile}\"\n",
    "target_feats = [\"list_comp\"]"
   ]
  },
  {
   "cell_type": "code",
   "execution_count": null,
   "id": "63847f55-1e92-4cb0-bade-a08b355a3eb0",
   "metadata": {},
   "outputs": [],
   "source": [
    "list_comp_codebleu = evaluate_codebleu(file_name,  '0.25,0.25,0.25,0.25', is_exclude_same_io=True)\n",
    "list_comp_codebleu"
   ]
  },
  {
   "cell_type": "code",
   "execution_count": null,
   "id": "8b1221fe-da02-449c-b0e5-f63fa797c0f7",
   "metadata": {},
   "outputs": [],
   "source": [
    "list_comp_pred_df = pd.read_csv(file_name)\n",
    "list_comp_pred_df = exclude_same_io(list_comp_pred_df)"
   ]
  },
  {
   "cell_type": "code",
   "execution_count": null,
   "id": "b4781190-f9fd-4683-a49e-c3ef898c25fa",
   "metadata": {
    "scrolled": true,
    "tags": []
   },
   "outputs": [],
   "source": [
    "list_comp_report = evaluate_pred_df(list_comp_pred_df, target_feats, is_nl=True)"
   ]
  },
  {
   "cell_type": "code",
   "execution_count": null,
   "id": "c0001109-1e0d-4ef7-b8bf-ac5272b3efca",
   "metadata": {},
   "outputs": [],
   "source": [
    "for key, val in list_comp_report.items():\n",
    "    if type(val) != list and len(val.shape) == 0:\n",
    "        print(key, \":\", val)"
   ]
  },
  {
   "cell_type": "code",
   "execution_count": null,
   "id": "96ee2b05-f762-4a3f-a748-2573fb36edc8",
   "metadata": {
    "scrolled": true,
    "tags": []
   },
   "outputs": [],
   "source": [
    "total = len(list_comp_pred_df)\n",
    "for idx in range(total):\n",
    "    if list_comp_report[\"diff_bleu\"][idx] >= 0.:\n",
    "        if list_comp_report[\"diff_bleu\"][idx] >= 0.3: continue\n",
    "        print_split_line(f\"{idx}-input\")\n",
    "        print(list_comp_report[\"inputs\"][idx])\n",
    "        print_split_line(f\"{idx}-prediction\")\n",
    "        print(list_comp_report[\"preds\"][idx])\n",
    "        print_split_line(f\"{idx}-gold labels\")\n",
    "        print(list_comp_report[\"labels\"][idx])\n",
    "        print_split_line(f\"{idx}-score\")\n",
    "        print(list_comp_report[\"diff_bleu\"][idx])"
   ]
  },
  {
   "cell_type": "markdown",
   "id": "533dee4a-66df-4d15-922b-28a67ea4717d",
   "metadata": {
    "jp-MarkdownHeadingCollapsed": true,
    "tags": []
   },
   "source": [
    "## codet5_baseline_nl_docstring_preds"
   ]
  },
  {
   "cell_type": "code",
   "execution_count": null,
   "id": "4ca13421-7f1b-4719-9177-1f77c47e2fa7",
   "metadata": {},
   "outputs": [],
   "source": [
    "pred_csvfile = \"codet5_baseline_nl_docstring_preds.csv\"\n",
    "file_name = f\"{folder}/{model_name}/{ckpt}/{pred_csvfile}\"\n",
    "target_feats = [\"docstring\"]"
   ]
  },
  {
   "cell_type": "code",
   "execution_count": null,
   "id": "f4833c6b-079e-41b9-9ede-1faf9a501381",
   "metadata": {},
   "outputs": [],
   "source": [
    "docstring_codebleu = evaluate_codebleu(file_name,  '0.25,0.25,0.25,0.25', is_exclude_same_io=True)\n",
    "docstring_codebleu"
   ]
  },
  {
   "cell_type": "code",
   "execution_count": null,
   "id": "d285543b-3c97-46e7-b1e9-0bf2678af904",
   "metadata": {},
   "outputs": [],
   "source": [
    "docstring_pred_df = pd.read_csv(file_name)"
   ]
  },
  {
   "cell_type": "code",
   "execution_count": null,
   "id": "3f4a6934-530b-4aa3-88dc-ba5a699d0584",
   "metadata": {
    "scrolled": true,
    "tags": []
   },
   "outputs": [],
   "source": [
    "docstring_report = evaluate_pred_df(docstring_pred_df, target_feats, is_nl=True)"
   ]
  },
  {
   "cell_type": "code",
   "execution_count": null,
   "id": "299fd471-aa48-4a7e-a4ab-c53f332153f3",
   "metadata": {},
   "outputs": [],
   "source": [
    "for key, val in docstring_report.items():\n",
    "    if type(val) != list and len(val.shape) == 0:\n",
    "        print(key, \":\", val)"
   ]
  },
  {
   "cell_type": "markdown",
   "id": "88d7679b-b074-450e-9695-1f3014974538",
   "metadata": {
    "tags": []
   },
   "source": [
    "## codet5_baseline_nl_comment_preds"
   ]
  },
  {
   "cell_type": "code",
   "execution_count": null,
   "id": "dba74b51-634f-4f93-bc97-954a1adc50f3",
   "metadata": {},
   "outputs": [],
   "source": [
    "pred_csvfile = \"codet5_baseline_nl_comment_preds.csv\"\n",
    "file_name = f\"{folder}/{model_name}/{ckpt}/{pred_csvfile}\"\n",
    "target_feats = [\"comment\"]"
   ]
  },
  {
   "cell_type": "code",
   "execution_count": null,
   "id": "4e00f429-96cd-45d5-9ac4-90e1d59acbae",
   "metadata": {},
   "outputs": [],
   "source": [
    "comment_codebleu = evaluate_codebleu(file_name,  '0.25,0.25,0.25,0.25', dropna=True, is_exclude_same_io=True)\n",
    "comment_codebleu"
   ]
  },
  {
   "cell_type": "code",
   "execution_count": null,
   "id": "7810c435-133d-4300-9be9-535b94ce53aa",
   "metadata": {},
   "outputs": [],
   "source": [
    "comment_pred_df = pd.read_csv(file_name)"
   ]
  },
  {
   "cell_type": "code",
   "execution_count": null,
   "id": "3305ae84-3503-47c9-876d-915c69c5c902",
   "metadata": {},
   "outputs": [],
   "source": [
    "# not sure why there is nan in preds, but just exclude it no matter what\n",
    "comment_pred_df = comment_pred_df.dropna()"
   ]
  },
  {
   "cell_type": "code",
   "execution_count": null,
   "id": "70f003ad-eaf8-40c7-bbee-ceb6898bde6d",
   "metadata": {
    "scrolled": true,
    "tags": []
   },
   "outputs": [],
   "source": [
    "comment_report = evaluate_pred_df(comment_pred_df, target_feats, is_nl=True)"
   ]
  },
  {
   "cell_type": "code",
   "execution_count": null,
   "id": "8a56ac47-74d0-4a7f-8cbd-9e74f076477b",
   "metadata": {},
   "outputs": [],
   "source": [
    "for key, val in comment_report.items():\n",
    "    if type(val) != list and len(val.shape) == 0:\n",
    "        print(key, \":\", val)"
   ]
  },
  {
   "cell_type": "markdown",
   "id": "d74bbd21-76f9-467e-8086-b5d220bdbaff",
   "metadata": {
    "jp-MarkdownHeadingCollapsed": true,
    "tags": []
   },
   "source": [
    "# Baseline Short"
   ]
  },
  {
   "cell_type": "code",
   "execution_count": 13,
   "id": "b191e4f0-0065-465c-a875-a468772e4dd2",
   "metadata": {},
   "outputs": [],
   "source": [
    "# baseline nl\n",
    "folder = \"seq2seq_results\"\n",
    "model_name = \"combined_nl_prompt_base_features_baseline_codet5small\"\n",
    "ckpt = \"checkpoint-144856\""
   ]
  },
  {
   "cell_type": "markdown",
   "id": "b61366c6-3b9d-4e9c-8be3-6fb5f1d0dc2a",
   "metadata": {
    "tags": []
   },
   "source": [
    "## casing"
   ]
  },
  {
   "cell_type": "code",
   "execution_count": 66,
   "id": "c7e9801e-8298-45ca-9a13-65dd79d533b3",
   "metadata": {},
   "outputs": [],
   "source": [
    "pred_csvfile = \"codet5_casing_short_preds.csv\"\n",
    "file_name = f\"{folder}/{model_name}/{ckpt}/{pred_csvfile}\"\n",
    "target_feats = [\"casing\"]"
   ]
  },
  {
   "cell_type": "code",
   "execution_count": 67,
   "id": "7ce5bb5d-7f3e-4860-8f5c-9c0d484e1c35",
   "metadata": {},
   "outputs": [
    {
     "data": {
      "text/plain": [
       "{'ngram': 1.517511475212327e-05,\n",
       " 'weighted_ngram': 5.843949724229512e-05,\n",
       " 'syntax_match': 0.09198491911353814,\n",
       " 'dataflow_match': 0.010240176351472586,\n",
       " 'code_bleu': 0.025574677519251285}"
      ]
     },
     "execution_count": 67,
     "metadata": {},
     "output_type": "execute_result"
    }
   ],
   "source": [
    "casing_codebleu = evaluate_codebleu(file_name,  '0.25,0.25,0.25,0.25', is_exclude_same_io=True)\n",
    "casing_codebleu"
   ]
  },
  {
   "cell_type": "code",
   "execution_count": 68,
   "id": "9ee9c11b-19ab-4cef-b552-6a2a1e2f6170",
   "metadata": {},
   "outputs": [],
   "source": [
    "casing_pred_df = pd.read_csv(file_name)"
   ]
  },
  {
   "cell_type": "code",
   "execution_count": 69,
   "id": "2079b615-dd05-4b4e-b696-97ef0446d2f8",
   "metadata": {
    "scrolled": true,
    "tags": []
   },
   "outputs": [
    {
     "data": {
      "application/vnd.jupyter.widget-view+json": {
       "model_id": "eaecc04fe9c54c8183e1981e8bae1b0e",
       "version_major": 2,
       "version_minor": 0
      },
      "text/plain": [
       "  0%|          | 0/1999 [00:00<?, ?it/s]"
      ]
     },
     "metadata": {},
     "output_type": "display_data"
    },
    {
     "name": "stdout",
     "output_type": "stream",
     "text": [
      "WARNING: There is no reference data-flows extracted from the whole corpus, and the data-flow match score degenerates to 0. Please consider ignoring this score.\n",
      "WARNING: There is no reference data-flows extracted from the whole corpus, and the data-flow match score degenerates to 0. Please consider ignoring this score.\n",
      "WARNING: There is no reference data-flows extracted from the whole corpus, and the data-flow match score degenerates to 0. Please consider ignoring this score.\n",
      "WARNING: There is no reference data-flows extracted from the whole corpus, and the data-flow match score degenerates to 0. Please consider ignoring this score.\n",
      "WARNING: There is no reference data-flows extracted from the whole corpus, and the data-flow match score degenerates to 0. Please consider ignoring this score.\n",
      "WARNING: There is no reference data-flows extracted from the whole corpus, and the data-flow match score degenerates to 0. Please consider ignoring this score.\n",
      "WARNING: There is no reference data-flows extracted from the whole corpus, and the data-flow match score degenerates to 0. Please consider ignoring this score.\n",
      "WARNING: There is no reference data-flows extracted from the whole corpus, and the data-flow match score degenerates to 0. Please consider ignoring this score.\n",
      "WARNING: There is no reference data-flows extracted from the whole corpus, and the data-flow match score degenerates to 0. Please consider ignoring this score.\n",
      "WARNING: There is no reference data-flows extracted from the whole corpus, and the data-flow match score degenerates to 0. Please consider ignoring this score.\n",
      "WARNING: There is no reference data-flows extracted from the whole corpus, and the data-flow match score degenerates to 0. Please consider ignoring this score.\n",
      "WARNING: There is no reference data-flows extracted from the whole corpus, and the data-flow match score degenerates to 0. Please consider ignoring this score.\n",
      "WARNING: There is no reference data-flows extracted from the whole corpus, and the data-flow match score degenerates to 0. Please consider ignoring this score.\n",
      "WARNING: There is no reference data-flows extracted from the whole corpus, and the data-flow match score degenerates to 0. Please consider ignoring this score.\n"
     ]
    }
   ],
   "source": [
    "casing_report = evaluate_pred_df(casing_pred_df, target_feats, is_nl=True)"
   ]
  },
  {
   "cell_type": "code",
   "execution_count": 70,
   "id": "f05b3154-9b24-4b7b-a197-b1ff9a62f2a9",
   "metadata": {},
   "outputs": [
    {
     "name": "stdout",
     "output_type": "stream",
     "text": [
      "codebleu_perfect : 0.0\n",
      "codebleu_above_90 : 0.0\n",
      "diff_bleu_avg : 2.5276902502119783e-235\n",
      "diff_bleu_perfect : 0.0\n",
      "diff_bleu_above_90 : 0.0\n",
      "parse_test_accuracy : 0.0005002501250625312\n"
     ]
    }
   ],
   "source": [
    "for key, val in casing_report.items():\n",
    "    if type(val) != list and len(val.shape) == 0:\n",
    "        print(key, \":\", val)"
   ]
  },
  {
   "cell_type": "markdown",
   "id": "c1fe2284-1a92-4eea-aa5e-49e877dd0bb9",
   "metadata": {
    "tags": []
   },
   "source": [
    "## class"
   ]
  },
  {
   "cell_type": "code",
   "execution_count": 71,
   "id": "17630014-673b-4b3d-8c44-2c17ffbfd570",
   "metadata": {},
   "outputs": [],
   "source": [
    "pred_csvfile = \"codet5_class_short_preds.csv\"\n",
    "file_name = f\"{folder}/{model_name}/{ckpt}/{pred_csvfile}\"\n",
    "target_feats = [\"class\"]"
   ]
  },
  {
   "cell_type": "code",
   "execution_count": 72,
   "id": "6460bce1-3511-41d7-b66a-6ac0e5727ad1",
   "metadata": {},
   "outputs": [
    {
     "data": {
      "text/plain": [
       "{'ngram': 7.24059655746018e-06,\n",
       " 'weighted_ngram': 2.9984021021420193e-05,\n",
       " 'syntax_match': 0.10043044823411601,\n",
       " 'dataflow_match': 0.010553449970011357,\n",
       " 'code_bleu': 0.02775528070542656}"
      ]
     },
     "execution_count": 72,
     "metadata": {},
     "output_type": "execute_result"
    }
   ],
   "source": [
    "class_codebleu = evaluate_codebleu(file_name,  '0.25,0.25,0.25,0.25', is_exclude_same_io=True)\n",
    "class_codebleu"
   ]
  },
  {
   "cell_type": "code",
   "execution_count": 73,
   "id": "a922e752-6784-4379-9969-74d2760ee5a8",
   "metadata": {},
   "outputs": [],
   "source": [
    "class_pred_df = pd.read_csv(file_name)"
   ]
  },
  {
   "cell_type": "code",
   "execution_count": 74,
   "id": "b11b6b2a-08d2-46d3-8f6e-c77c3504e678",
   "metadata": {
    "scrolled": true,
    "tags": []
   },
   "outputs": [
    {
     "data": {
      "application/vnd.jupyter.widget-view+json": {
       "model_id": "4861cb9b11c54398ac1d2ba08ec01c49",
       "version_major": 2,
       "version_minor": 0
      },
      "text/plain": [
       "  0%|          | 0/2001 [00:00<?, ?it/s]"
      ]
     },
     "metadata": {},
     "output_type": "display_data"
    },
    {
     "name": "stdout",
     "output_type": "stream",
     "text": [
      "WARNING: There is no reference data-flows extracted from the whole corpus, and the data-flow match score degenerates to 0. Please consider ignoring this score.\n",
      "WARNING: There is no reference data-flows extracted from the whole corpus, and the data-flow match score degenerates to 0. Please consider ignoring this score.\n",
      "WARNING: There is no reference data-flows extracted from the whole corpus, and the data-flow match score degenerates to 0. Please consider ignoring this score.\n",
      "WARNING: There is no reference data-flows extracted from the whole corpus, and the data-flow match score degenerates to 0. Please consider ignoring this score.\n",
      "WARNING: There is no reference data-flows extracted from the whole corpus, and the data-flow match score degenerates to 0. Please consider ignoring this score.\n",
      "WARNING: There is no reference data-flows extracted from the whole corpus, and the data-flow match score degenerates to 0. Please consider ignoring this score.\n",
      "WARNING: There is no reference data-flows extracted from the whole corpus, and the data-flow match score degenerates to 0. Please consider ignoring this score.\n",
      "WARNING: There is no reference data-flows extracted from the whole corpus, and the data-flow match score degenerates to 0. Please consider ignoring this score.\n",
      "WARNING: There is no reference data-flows extracted from the whole corpus, and the data-flow match score degenerates to 0. Please consider ignoring this score.\n",
      "WARNING: There is no reference data-flows extracted from the whole corpus, and the data-flow match score degenerates to 0. Please consider ignoring this score.\n",
      "WARNING: There is no reference data-flows extracted from the whole corpus, and the data-flow match score degenerates to 0. Please consider ignoring this score.\n",
      "WARNING: There is no reference data-flows extracted from the whole corpus, and the data-flow match score degenerates to 0. Please consider ignoring this score.\n",
      "WARNING: There is no reference data-flows extracted from the whole corpus, and the data-flow match score degenerates to 0. Please consider ignoring this score.\n",
      "WARNING: There is no reference data-flows extracted from the whole corpus, and the data-flow match score degenerates to 0. Please consider ignoring this score.\n",
      "WARNING: There is no reference data-flows extracted from the whole corpus, and the data-flow match score degenerates to 0. Please consider ignoring this score.\n",
      "WARNING: There is no reference data-flows extracted from the whole corpus, and the data-flow match score degenerates to 0. Please consider ignoring this score.\n"
     ]
    }
   ],
   "source": [
    "class_report = evaluate_pred_df(class_pred_df, target_feats, is_nl=True)"
   ]
  },
  {
   "cell_type": "code",
   "execution_count": 75,
   "id": "ecca1d9d-74ba-44cf-8ea5-76d7a895d3a6",
   "metadata": {},
   "outputs": [
    {
     "name": "stdout",
     "output_type": "stream",
     "text": [
      "codebleu_perfect : 0.0\n",
      "codebleu_above_90 : 0.0\n",
      "diff_bleu_avg : 1.515098293905171e-234\n",
      "diff_bleu_perfect : 0.0\n",
      "diff_bleu_above_90 : 0.0\n",
      "parse_test_accuracy : 0.0\n"
     ]
    }
   ],
   "source": [
    "for key, val in class_report.items():\n",
    "    if type(val) != list and len(val.shape) == 0:\n",
    "        print(key, \":\", val)"
   ]
  },
  {
   "cell_type": "markdown",
   "id": "088e964c-23ec-4e8d-a202-e01af3f82163",
   "metadata": {
    "tags": []
   },
   "source": [
    "## list_comp"
   ]
  },
  {
   "cell_type": "code",
   "execution_count": 76,
   "id": "142a6b5c-4cf9-48e2-91d1-a86a69fcc592",
   "metadata": {},
   "outputs": [],
   "source": [
    "pred_csvfile = \"codet5_list_comp_short_preds.csv\"\n",
    "file_name = f\"{folder}/{model_name}/{ckpt}/{pred_csvfile}\"\n",
    "target_feats = [\"list_comp\"]"
   ]
  },
  {
   "cell_type": "code",
   "execution_count": 77,
   "id": "e2f40843-af01-4119-8e0a-9b10141f931d",
   "metadata": {},
   "outputs": [
    {
     "data": {
      "text/plain": [
       "{'ngram': 1.4727286449988927e-05,\n",
       " 'weighted_ngram': 4.1436510129058734e-05,\n",
       " 'syntax_match': 0.07192252844621323,\n",
       " 'dataflow_match': 0.013202695423268861,\n",
       " 'code_bleu': 0.021295346916515287}"
      ]
     },
     "execution_count": 77,
     "metadata": {},
     "output_type": "execute_result"
    }
   ],
   "source": [
    "list_comp_codebleu = evaluate_codebleu(file_name,  '0.25,0.25,0.25,0.25', is_exclude_same_io=True)\n",
    "list_comp_codebleu"
   ]
  },
  {
   "cell_type": "code",
   "execution_count": 78,
   "id": "74013460-23eb-47f2-bffb-198ba1760a7e",
   "metadata": {},
   "outputs": [],
   "source": [
    "list_comp_pred_df = pd.read_csv(file_name)\n",
    "list_comp_pred_df = exclude_same_io(list_comp_pred_df)"
   ]
  },
  {
   "cell_type": "code",
   "execution_count": 79,
   "id": "4385e167-cb94-43b0-90f1-4fe4268fd87f",
   "metadata": {
    "scrolled": true,
    "tags": []
   },
   "outputs": [
    {
     "data": {
      "application/vnd.jupyter.widget-view+json": {
       "model_id": "6713576ed19449d083a0eebfaa34dfaf",
       "version_major": 2,
       "version_minor": 0
      },
      "text/plain": [
       "  0%|          | 0/1687 [00:00<?, ?it/s]"
      ]
     },
     "metadata": {},
     "output_type": "display_data"
    }
   ],
   "source": [
    "list_comp_report = evaluate_pred_df(list_comp_pred_df, target_feats, is_nl=True)"
   ]
  },
  {
   "cell_type": "code",
   "execution_count": 80,
   "id": "d1141900-d473-48a1-ad7d-42d7ef68f1bf",
   "metadata": {},
   "outputs": [
    {
     "name": "stdout",
     "output_type": "stream",
     "text": [
      "codebleu_perfect : 0.0\n",
      "codebleu_above_90 : 0.0\n",
      "diff_bleu_avg : 0.0\n",
      "diff_bleu_perfect : 0.0\n",
      "diff_bleu_above_90 : 0.0\n",
      "parse_test_accuracy : 0.0\n"
     ]
    }
   ],
   "source": [
    "for key, val in list_comp_report.items():\n",
    "    if type(val) != list and len(val.shape) == 0:\n",
    "        print(key, \":\", val)"
   ]
  },
  {
   "cell_type": "markdown",
   "id": "a42346a6-8657-4fe7-b791-ea930c21d11f",
   "metadata": {
    "tags": []
   },
   "source": [
    "## docstring"
   ]
  },
  {
   "cell_type": "code",
   "execution_count": 81,
   "id": "28a4b7d6-7543-4cc6-9af1-98f264e5a4b2",
   "metadata": {},
   "outputs": [],
   "source": [
    "pred_csvfile = \"codet5_docstring_short_preds.csv\"\n",
    "file_name = f\"{folder}/{model_name}/{ckpt}/{pred_csvfile}\"\n",
    "target_feats = [\"docstring\"]"
   ]
  },
  {
   "cell_type": "code",
   "execution_count": 82,
   "id": "9a3dcf3c-5ee1-41fb-a29f-8814744cf006",
   "metadata": {},
   "outputs": [
    {
     "data": {
      "text/plain": [
       "{'ngram': 1.2793149695384782e-05,\n",
       " 'weighted_ngram': 4.07234396033062e-05,\n",
       " 'syntax_match': 0.09751385185303463,\n",
       " 'dataflow_match': 0.008874278482575547,\n",
       " 'code_bleu': 0.026610411731227218}"
      ]
     },
     "execution_count": 82,
     "metadata": {},
     "output_type": "execute_result"
    }
   ],
   "source": [
    "docstring_codebleu = evaluate_codebleu(file_name,  '0.25,0.25,0.25,0.25', is_exclude_same_io=True)\n",
    "docstring_codebleu"
   ]
  },
  {
   "cell_type": "code",
   "execution_count": 83,
   "id": "99fad39d-888d-45dd-92d7-db464d6adf08",
   "metadata": {},
   "outputs": [],
   "source": [
    "docstring_pred_df = pd.read_csv(file_name)"
   ]
  },
  {
   "cell_type": "code",
   "execution_count": 84,
   "id": "1069a844-b6a6-4b0d-8d4c-5fc0632528f5",
   "metadata": {
    "scrolled": true,
    "tags": []
   },
   "outputs": [
    {
     "data": {
      "application/vnd.jupyter.widget-view+json": {
       "model_id": "d460cfb246e84883aeda4039984fc0de",
       "version_major": 2,
       "version_minor": 0
      },
      "text/plain": [
       "  0%|          | 0/2001 [00:00<?, ?it/s]"
      ]
     },
     "metadata": {},
     "output_type": "display_data"
    },
    {
     "name": "stdout",
     "output_type": "stream",
     "text": [
      "WARNING: There is no reference data-flows extracted from the whole corpus, and the data-flow match score degenerates to 0. Please consider ignoring this score.\n",
      "WARNING: There is no reference data-flows extracted from the whole corpus, and the data-flow match score degenerates to 0. Please consider ignoring this score.\n",
      "WARNING: There is no reference data-flows extracted from the whole corpus, and the data-flow match score degenerates to 0. Please consider ignoring this score.\n",
      "WARNING: There is no reference data-flows extracted from the whole corpus, and the data-flow match score degenerates to 0. Please consider ignoring this score.\n",
      "WARNING: There is no reference data-flows extracted from the whole corpus, and the data-flow match score degenerates to 0. Please consider ignoring this score.\n",
      "WARNING: There is no reference data-flows extracted from the whole corpus, and the data-flow match score degenerates to 0. Please consider ignoring this score.\n",
      "WARNING: There is no reference data-flows extracted from the whole corpus, and the data-flow match score degenerates to 0. Please consider ignoring this score.\n",
      "WARNING: There is no reference data-flows extracted from the whole corpus, and the data-flow match score degenerates to 0. Please consider ignoring this score.\n",
      "WARNING: There is no reference data-flows extracted from the whole corpus, and the data-flow match score degenerates to 0. Please consider ignoring this score.\n",
      "WARNING: There is no reference data-flows extracted from the whole corpus, and the data-flow match score degenerates to 0. Please consider ignoring this score.\n",
      "WARNING: There is no reference data-flows extracted from the whole corpus, and the data-flow match score degenerates to 0. Please consider ignoring this score.\n",
      "WARNING: There is no reference data-flows extracted from the whole corpus, and the data-flow match score degenerates to 0. Please consider ignoring this score.\n",
      "WARNING: There is no reference data-flows extracted from the whole corpus, and the data-flow match score degenerates to 0. Please consider ignoring this score.\n",
      "WARNING: There is no reference data-flows extracted from the whole corpus, and the data-flow match score degenerates to 0. Please consider ignoring this score.\n",
      "WARNING: There is no reference data-flows extracted from the whole corpus, and the data-flow match score degenerates to 0. Please consider ignoring this score.\n",
      "WARNING: There is no reference data-flows extracted from the whole corpus, and the data-flow match score degenerates to 0. Please consider ignoring this score.\n",
      "WARNING: There is no reference data-flows extracted from the whole corpus, and the data-flow match score degenerates to 0. Please consider ignoring this score.\n",
      "WARNING: There is no reference data-flows extracted from the whole corpus, and the data-flow match score degenerates to 0. Please consider ignoring this score.\n",
      "WARNING: There is no reference data-flows extracted from the whole corpus, and the data-flow match score degenerates to 0. Please consider ignoring this score.\n",
      "WARNING: There is no reference data-flows extracted from the whole corpus, and the data-flow match score degenerates to 0. Please consider ignoring this score.\n",
      "WARNING: There is no reference data-flows extracted from the whole corpus, and the data-flow match score degenerates to 0. Please consider ignoring this score.\n",
      "WARNING: There is no reference data-flows extracted from the whole corpus, and the data-flow match score degenerates to 0. Please consider ignoring this score.\n",
      "WARNING: There is no reference data-flows extracted from the whole corpus, and the data-flow match score degenerates to 0. Please consider ignoring this score.\n",
      "WARNING: There is no reference data-flows extracted from the whole corpus, and the data-flow match score degenerates to 0. Please consider ignoring this score.\n",
      "WARNING: There is no reference data-flows extracted from the whole corpus, and the data-flow match score degenerates to 0. Please consider ignoring this score.\n",
      "WARNING: There is no reference data-flows extracted from the whole corpus, and the data-flow match score degenerates to 0. Please consider ignoring this score.\n",
      "WARNING: There is no reference data-flows extracted from the whole corpus, and the data-flow match score degenerates to 0. Please consider ignoring this score.\n",
      "WARNING: There is no reference data-flows extracted from the whole corpus, and the data-flow match score degenerates to 0. Please consider ignoring this score.\n",
      "WARNING: There is no reference data-flows extracted from the whole corpus, and the data-flow match score degenerates to 0. Please consider ignoring this score.\n",
      "WARNING: There is no reference data-flows extracted from the whole corpus, and the data-flow match score degenerates to 0. Please consider ignoring this score.\n",
      "WARNING: There is no reference data-flows extracted from the whole corpus, and the data-flow match score degenerates to 0. Please consider ignoring this score.\n",
      "WARNING: There is no reference data-flows extracted from the whole corpus, and the data-flow match score degenerates to 0. Please consider ignoring this score.\n",
      "WARNING: There is no reference data-flows extracted from the whole corpus, and the data-flow match score degenerates to 0. Please consider ignoring this score.\n",
      "WARNING: There is no reference data-flows extracted from the whole corpus, and the data-flow match score degenerates to 0. Please consider ignoring this score.\n",
      "WARNING: There is no reference data-flows extracted from the whole corpus, and the data-flow match score degenerates to 0. Please consider ignoring this score.\n",
      "WARNING: There is no reference data-flows extracted from the whole corpus, and the data-flow match score degenerates to 0. Please consider ignoring this score.\n",
      "WARNING: There is no reference data-flows extracted from the whole corpus, and the data-flow match score degenerates to 0. Please consider ignoring this score.\n",
      "WARNING: There is no reference data-flows extracted from the whole corpus, and the data-flow match score degenerates to 0. Please consider ignoring this score.\n",
      "WARNING: There is no reference data-flows extracted from the whole corpus, and the data-flow match score degenerates to 0. Please consider ignoring this score.\n",
      "WARNING: There is no reference data-flows extracted from the whole corpus, and the data-flow match score degenerates to 0. Please consider ignoring this score.\n",
      "WARNING: There is no reference data-flows extracted from the whole corpus, and the data-flow match score degenerates to 0. Please consider ignoring this score.\n",
      "WARNING: There is no reference data-flows extracted from the whole corpus, and the data-flow match score degenerates to 0. Please consider ignoring this score.\n",
      "WARNING: There is no reference data-flows extracted from the whole corpus, and the data-flow match score degenerates to 0. Please consider ignoring this score.\n",
      "WARNING: There is no reference data-flows extracted from the whole corpus, and the data-flow match score degenerates to 0. Please consider ignoring this score.\n",
      "WARNING: There is no reference data-flows extracted from the whole corpus, and the data-flow match score degenerates to 0. Please consider ignoring this score.\n",
      "WARNING: There is no reference data-flows extracted from the whole corpus, and the data-flow match score degenerates to 0. Please consider ignoring this score.\n",
      "WARNING: There is no reference data-flows extracted from the whole corpus, and the data-flow match score degenerates to 0. Please consider ignoring this score.\n",
      "WARNING: There is no reference data-flows extracted from the whole corpus, and the data-flow match score degenerates to 0. Please consider ignoring this score.\n",
      "WARNING: There is no reference data-flows extracted from the whole corpus, and the data-flow match score degenerates to 0. Please consider ignoring this score.\n",
      "WARNING: There is no reference data-flows extracted from the whole corpus, and the data-flow match score degenerates to 0. Please consider ignoring this score.\n",
      "WARNING: There is no reference data-flows extracted from the whole corpus, and the data-flow match score degenerates to 0. Please consider ignoring this score.\n",
      "WARNING: There is no reference data-flows extracted from the whole corpus, and the data-flow match score degenerates to 0. Please consider ignoring this score.\n",
      "WARNING: There is no reference data-flows extracted from the whole corpus, and the data-flow match score degenerates to 0. Please consider ignoring this score.\n",
      "WARNING: There is no reference data-flows extracted from the whole corpus, and the data-flow match score degenerates to 0. Please consider ignoring this score.\n",
      "WARNING: There is no reference data-flows extracted from the whole corpus, and the data-flow match score degenerates to 0. Please consider ignoring this score.\n",
      "WARNING: There is no reference data-flows extracted from the whole corpus, and the data-flow match score degenerates to 0. Please consider ignoring this score.\n",
      "WARNING: There is no reference data-flows extracted from the whole corpus, and the data-flow match score degenerates to 0. Please consider ignoring this score.\n",
      "WARNING: There is no reference data-flows extracted from the whole corpus, and the data-flow match score degenerates to 0. Please consider ignoring this score.\n",
      "WARNING: There is no reference data-flows extracted from the whole corpus, and the data-flow match score degenerates to 0. Please consider ignoring this score.\n",
      "WARNING: There is no reference data-flows extracted from the whole corpus, and the data-flow match score degenerates to 0. Please consider ignoring this score.\n",
      "WARNING: There is no reference data-flows extracted from the whole corpus, and the data-flow match score degenerates to 0. Please consider ignoring this score.\n",
      "WARNING: There is no reference data-flows extracted from the whole corpus, and the data-flow match score degenerates to 0. Please consider ignoring this score.\n",
      "WARNING: There is no reference data-flows extracted from the whole corpus, and the data-flow match score degenerates to 0. Please consider ignoring this score.\n",
      "WARNING: There is no reference data-flows extracted from the whole corpus, and the data-flow match score degenerates to 0. Please consider ignoring this score.\n",
      "WARNING: There is no reference data-flows extracted from the whole corpus, and the data-flow match score degenerates to 0. Please consider ignoring this score.\n",
      "WARNING: There is no reference data-flows extracted from the whole corpus, and the data-flow match score degenerates to 0. Please consider ignoring this score.\n",
      "WARNING: There is no reference data-flows extracted from the whole corpus, and the data-flow match score degenerates to 0. Please consider ignoring this score.\n",
      "WARNING: There is no reference data-flows extracted from the whole corpus, and the data-flow match score degenerates to 0. Please consider ignoring this score.\n",
      "WARNING: There is no reference data-flows extracted from the whole corpus, and the data-flow match score degenerates to 0. Please consider ignoring this score.\n",
      "WARNING: There is no reference data-flows extracted from the whole corpus, and the data-flow match score degenerates to 0. Please consider ignoring this score.\n",
      "WARNING: There is no reference data-flows extracted from the whole corpus, and the data-flow match score degenerates to 0. Please consider ignoring this score.\n",
      "WARNING: There is no reference data-flows extracted from the whole corpus, and the data-flow match score degenerates to 0. Please consider ignoring this score.\n",
      "WARNING: There is no reference data-flows extracted from the whole corpus, and the data-flow match score degenerates to 0. Please consider ignoring this score.\n",
      "WARNING: There is no reference data-flows extracted from the whole corpus, and the data-flow match score degenerates to 0. Please consider ignoring this score.\n",
      "WARNING: There is no reference data-flows extracted from the whole corpus, and the data-flow match score degenerates to 0. Please consider ignoring this score.\n",
      "WARNING: There is no reference data-flows extracted from the whole corpus, and the data-flow match score degenerates to 0. Please consider ignoring this score.\n",
      "WARNING: There is no reference data-flows extracted from the whole corpus, and the data-flow match score degenerates to 0. Please consider ignoring this score.\n",
      "WARNING: There is no reference data-flows extracted from the whole corpus, and the data-flow match score degenerates to 0. Please consider ignoring this score.\n",
      "WARNING: There is no reference data-flows extracted from the whole corpus, and the data-flow match score degenerates to 0. Please consider ignoring this score.\n",
      "WARNING: There is no reference data-flows extracted from the whole corpus, and the data-flow match score degenerates to 0. Please consider ignoring this score.\n",
      "WARNING: There is no reference data-flows extracted from the whole corpus, and the data-flow match score degenerates to 0. Please consider ignoring this score.\n",
      "WARNING: There is no reference data-flows extracted from the whole corpus, and the data-flow match score degenerates to 0. Please consider ignoring this score.\n",
      "WARNING: There is no reference data-flows extracted from the whole corpus, and the data-flow match score degenerates to 0. Please consider ignoring this score.\n",
      "WARNING: There is no reference data-flows extracted from the whole corpus, and the data-flow match score degenerates to 0. Please consider ignoring this score.\n",
      "WARNING: There is no reference data-flows extracted from the whole corpus, and the data-flow match score degenerates to 0. Please consider ignoring this score.\n",
      "WARNING: There is no reference data-flows extracted from the whole corpus, and the data-flow match score degenerates to 0. Please consider ignoring this score.\n",
      "WARNING: There is no reference data-flows extracted from the whole corpus, and the data-flow match score degenerates to 0. Please consider ignoring this score.\n",
      "WARNING: There is no reference data-flows extracted from the whole corpus, and the data-flow match score degenerates to 0. Please consider ignoring this score.\n",
      "WARNING: There is no reference data-flows extracted from the whole corpus, and the data-flow match score degenerates to 0. Please consider ignoring this score.\n",
      "WARNING: There is no reference data-flows extracted from the whole corpus, and the data-flow match score degenerates to 0. Please consider ignoring this score.\n",
      "WARNING: There is no reference data-flows extracted from the whole corpus, and the data-flow match score degenerates to 0. Please consider ignoring this score.\n",
      "WARNING: There is no reference data-flows extracted from the whole corpus, and the data-flow match score degenerates to 0. Please consider ignoring this score.\n",
      "WARNING: There is no reference data-flows extracted from the whole corpus, and the data-flow match score degenerates to 0. Please consider ignoring this score.\n",
      "WARNING: There is no reference data-flows extracted from the whole corpus, and the data-flow match score degenerates to 0. Please consider ignoring this score.\n",
      "WARNING: There is no reference data-flows extracted from the whole corpus, and the data-flow match score degenerates to 0. Please consider ignoring this score.\n",
      "WARNING: There is no reference data-flows extracted from the whole corpus, and the data-flow match score degenerates to 0. Please consider ignoring this score.\n",
      "WARNING: There is no reference data-flows extracted from the whole corpus, and the data-flow match score degenerates to 0. Please consider ignoring this score.\n",
      "WARNING: There is no reference data-flows extracted from the whole corpus, and the data-flow match score degenerates to 0. Please consider ignoring this score.\n",
      "WARNING: There is no reference data-flows extracted from the whole corpus, and the data-flow match score degenerates to 0. Please consider ignoring this score.\n",
      "WARNING: There is no reference data-flows extracted from the whole corpus, and the data-flow match score degenerates to 0. Please consider ignoring this score.\n",
      "WARNING: There is no reference data-flows extracted from the whole corpus, and the data-flow match score degenerates to 0. Please consider ignoring this score.\n",
      "WARNING: There is no reference data-flows extracted from the whole corpus, and the data-flow match score degenerates to 0. Please consider ignoring this score.\n",
      "WARNING: There is no reference data-flows extracted from the whole corpus, and the data-flow match score degenerates to 0. Please consider ignoring this score.\n",
      "WARNING: There is no reference data-flows extracted from the whole corpus, and the data-flow match score degenerates to 0. Please consider ignoring this score.\n",
      "WARNING: There is no reference data-flows extracted from the whole corpus, and the data-flow match score degenerates to 0. Please consider ignoring this score.\n",
      "WARNING: There is no reference data-flows extracted from the whole corpus, and the data-flow match score degenerates to 0. Please consider ignoring this score.\n",
      "WARNING: There is no reference data-flows extracted from the whole corpus, and the data-flow match score degenerates to 0. Please consider ignoring this score.\n",
      "WARNING: There is no reference data-flows extracted from the whole corpus, and the data-flow match score degenerates to 0. Please consider ignoring this score.\n",
      "WARNING: There is no reference data-flows extracted from the whole corpus, and the data-flow match score degenerates to 0. Please consider ignoring this score.\n",
      "WARNING: There is no reference data-flows extracted from the whole corpus, and the data-flow match score degenerates to 0. Please consider ignoring this score.\n",
      "WARNING: There is no reference data-flows extracted from the whole corpus, and the data-flow match score degenerates to 0. Please consider ignoring this score.\n",
      "WARNING: There is no reference data-flows extracted from the whole corpus, and the data-flow match score degenerates to 0. Please consider ignoring this score.\n",
      "WARNING: There is no reference data-flows extracted from the whole corpus, and the data-flow match score degenerates to 0. Please consider ignoring this score.\n",
      "WARNING: There is no reference data-flows extracted from the whole corpus, and the data-flow match score degenerates to 0. Please consider ignoring this score.\n",
      "WARNING: There is no reference data-flows extracted from the whole corpus, and the data-flow match score degenerates to 0. Please consider ignoring this score.\n",
      "WARNING: There is no reference data-flows extracted from the whole corpus, and the data-flow match score degenerates to 0. Please consider ignoring this score.\n",
      "WARNING: There is no reference data-flows extracted from the whole corpus, and the data-flow match score degenerates to 0. Please consider ignoring this score.\n",
      "WARNING: There is no reference data-flows extracted from the whole corpus, and the data-flow match score degenerates to 0. Please consider ignoring this score.\n",
      "WARNING: There is no reference data-flows extracted from the whole corpus, and the data-flow match score degenerates to 0. Please consider ignoring this score.\n",
      "WARNING: There is no reference data-flows extracted from the whole corpus, and the data-flow match score degenerates to 0. Please consider ignoring this score.\n",
      "WARNING: There is no reference data-flows extracted from the whole corpus, and the data-flow match score degenerates to 0. Please consider ignoring this score.\n",
      "WARNING: There is no reference data-flows extracted from the whole corpus, and the data-flow match score degenerates to 0. Please consider ignoring this score.\n",
      "WARNING: There is no reference data-flows extracted from the whole corpus, and the data-flow match score degenerates to 0. Please consider ignoring this score.\n",
      "WARNING: There is no reference data-flows extracted from the whole corpus, and the data-flow match score degenerates to 0. Please consider ignoring this score.\n",
      "WARNING: There is no reference data-flows extracted from the whole corpus, and the data-flow match score degenerates to 0. Please consider ignoring this score.\n",
      "WARNING: There is no reference data-flows extracted from the whole corpus, and the data-flow match score degenerates to 0. Please consider ignoring this score.\n",
      "WARNING: There is no reference data-flows extracted from the whole corpus, and the data-flow match score degenerates to 0. Please consider ignoring this score.\n",
      "WARNING: There is no reference data-flows extracted from the whole corpus, and the data-flow match score degenerates to 0. Please consider ignoring this score.\n",
      "WARNING: There is no reference data-flows extracted from the whole corpus, and the data-flow match score degenerates to 0. Please consider ignoring this score.\n",
      "WARNING: There is no reference data-flows extracted from the whole corpus, and the data-flow match score degenerates to 0. Please consider ignoring this score.\n",
      "WARNING: There is no reference data-flows extracted from the whole corpus, and the data-flow match score degenerates to 0. Please consider ignoring this score.\n",
      "WARNING: There is no reference data-flows extracted from the whole corpus, and the data-flow match score degenerates to 0. Please consider ignoring this score.\n",
      "WARNING: There is no reference data-flows extracted from the whole corpus, and the data-flow match score degenerates to 0. Please consider ignoring this score.\n",
      "WARNING: There is no reference data-flows extracted from the whole corpus, and the data-flow match score degenerates to 0. Please consider ignoring this score.\n",
      "WARNING: There is no reference data-flows extracted from the whole corpus, and the data-flow match score degenerates to 0. Please consider ignoring this score.\n",
      "WARNING: There is no reference data-flows extracted from the whole corpus, and the data-flow match score degenerates to 0. Please consider ignoring this score.\n",
      "WARNING: There is no reference data-flows extracted from the whole corpus, and the data-flow match score degenerates to 0. Please consider ignoring this score.\n",
      "WARNING: There is no reference data-flows extracted from the whole corpus, and the data-flow match score degenerates to 0. Please consider ignoring this score.\n",
      "WARNING: There is no reference data-flows extracted from the whole corpus, and the data-flow match score degenerates to 0. Please consider ignoring this score.\n",
      "WARNING: There is no reference data-flows extracted from the whole corpus, and the data-flow match score degenerates to 0. Please consider ignoring this score.\n",
      "WARNING: There is no reference data-flows extracted from the whole corpus, and the data-flow match score degenerates to 0. Please consider ignoring this score.\n",
      "WARNING: There is no reference data-flows extracted from the whole corpus, and the data-flow match score degenerates to 0. Please consider ignoring this score.\n",
      "WARNING: There is no reference data-flows extracted from the whole corpus, and the data-flow match score degenerates to 0. Please consider ignoring this score.\n",
      "WARNING: There is no reference data-flows extracted from the whole corpus, and the data-flow match score degenerates to 0. Please consider ignoring this score.\n",
      "WARNING: There is no reference data-flows extracted from the whole corpus, and the data-flow match score degenerates to 0. Please consider ignoring this score.\n",
      "WARNING: There is no reference data-flows extracted from the whole corpus, and the data-flow match score degenerates to 0. Please consider ignoring this score.\n",
      "WARNING: There is no reference data-flows extracted from the whole corpus, and the data-flow match score degenerates to 0. Please consider ignoring this score.\n",
      "WARNING: There is no reference data-flows extracted from the whole corpus, and the data-flow match score degenerates to 0. Please consider ignoring this score.\n",
      "WARNING: There is no reference data-flows extracted from the whole corpus, and the data-flow match score degenerates to 0. Please consider ignoring this score.\n",
      "WARNING: There is no reference data-flows extracted from the whole corpus, and the data-flow match score degenerates to 0. Please consider ignoring this score.\n"
     ]
    }
   ],
   "source": [
    "docstring_report = evaluate_pred_df(docstring_pred_df, target_feats, is_nl=True)"
   ]
  },
  {
   "cell_type": "code",
   "execution_count": 85,
   "id": "f9778063-1957-49c7-a33b-40b9137c8cdd",
   "metadata": {},
   "outputs": [
    {
     "name": "stdout",
     "output_type": "stream",
     "text": [
      "codebleu_perfect : 0.0\n",
      "codebleu_above_90 : 0.0\n",
      "diff_bleu_avg : 3.429426043763702e-234\n",
      "diff_bleu_perfect : 0.0\n",
      "diff_bleu_above_90 : 0.0\n",
      "docstr_text_scores_avg : 0.0\n",
      "docstr_text_scores_perfect : 0.0\n",
      "docstr_text_scores_above_90 : 0.0\n",
      "parse_test_accuracy : 0.0\n"
     ]
    }
   ],
   "source": [
    "for key, val in docstring_report.items():\n",
    "    if type(val) != list and len(val.shape) == 0:\n",
    "        print(key, \":\", val)"
   ]
  },
  {
   "cell_type": "markdown",
   "id": "9017b6af-c7fa-455d-bf00-4cd143589f52",
   "metadata": {
    "tags": []
   },
   "source": [
    "## comment"
   ]
  },
  {
   "cell_type": "code",
   "execution_count": 86,
   "id": "3b9fbb9e-d9ea-465a-90bd-167f9e16c01b",
   "metadata": {},
   "outputs": [],
   "source": [
    "pred_csvfile = \"codet5_comment_short_preds.csv\"\n",
    "file_name = f\"{folder}/{model_name}/{ckpt}/{pred_csvfile}\"\n",
    "target_feats = [\"comment\"]"
   ]
  },
  {
   "cell_type": "code",
   "execution_count": 87,
   "id": "4befbbb5-6b9f-4b4f-915a-8efb9f95885f",
   "metadata": {},
   "outputs": [
    {
     "data": {
      "text/plain": [
       "{'ngram': 8.261377779406627e-06,\n",
       " 'weighted_ngram': 2.575801296555232e-05,\n",
       " 'syntax_match': 0.11844219680499102,\n",
       " 'dataflow_match': 0.0064500124038700075,\n",
       " 'code_bleu': 0.031231557149901498}"
      ]
     },
     "execution_count": 87,
     "metadata": {},
     "output_type": "execute_result"
    }
   ],
   "source": [
    "comment_codebleu = evaluate_codebleu(file_name,  '0.25,0.25,0.25,0.25', dropna=True, is_exclude_same_io=True)\n",
    "comment_codebleu"
   ]
  },
  {
   "cell_type": "code",
   "execution_count": 88,
   "id": "41062d1c-d8cb-457e-a837-710577e16c97",
   "metadata": {},
   "outputs": [],
   "source": [
    "comment_pred_df = pd.read_csv(file_name)"
   ]
  },
  {
   "cell_type": "code",
   "execution_count": 89,
   "id": "7fd1194d-3275-452b-a541-b6c570524ac0",
   "metadata": {},
   "outputs": [],
   "source": [
    "# not sure why there is nan in preds, but just exclude it no matter what\n",
    "comment_pred_df = comment_pred_df.dropna()"
   ]
  },
  {
   "cell_type": "code",
   "execution_count": 90,
   "id": "11359604-effd-4796-a2b5-bb35d5b81285",
   "metadata": {
    "scrolled": true,
    "tags": []
   },
   "outputs": [
    {
     "data": {
      "application/vnd.jupyter.widget-view+json": {
       "model_id": "95c99b192c6c49f58e81a73d572cf1c6",
       "version_major": 2,
       "version_minor": 0
      },
      "text/plain": [
       "  0%|          | 0/2001 [00:00<?, ?it/s]"
      ]
     },
     "metadata": {},
     "output_type": "display_data"
    },
    {
     "name": "stdout",
     "output_type": "stream",
     "text": [
      "WARNING: There is no reference data-flows extracted from the whole corpus, and the data-flow match score degenerates to 0. Please consider ignoring this score.\n",
      "WARNING: There is no reference data-flows extracted from the whole corpus, and the data-flow match score degenerates to 0. Please consider ignoring this score.\n",
      "WARNING: There is no reference data-flows extracted from the whole corpus, and the data-flow match score degenerates to 0. Please consider ignoring this score.\n",
      "WARNING: There is no reference data-flows extracted from the whole corpus, and the data-flow match score degenerates to 0. Please consider ignoring this score.\n",
      "WARNING: There is no reference data-flows extracted from the whole corpus, and the data-flow match score degenerates to 0. Please consider ignoring this score.\n",
      "WARNING: There is no reference data-flows extracted from the whole corpus, and the data-flow match score degenerates to 0. Please consider ignoring this score.\n",
      "WARNING: There is no reference data-flows extracted from the whole corpus, and the data-flow match score degenerates to 0. Please consider ignoring this score.\n",
      "WARNING: There is no reference data-flows extracted from the whole corpus, and the data-flow match score degenerates to 0. Please consider ignoring this score.\n",
      "WARNING: There is no reference data-flows extracted from the whole corpus, and the data-flow match score degenerates to 0. Please consider ignoring this score.\n",
      "WARNING: There is no reference data-flows extracted from the whole corpus, and the data-flow match score degenerates to 0. Please consider ignoring this score.\n",
      "WARNING: There is no reference data-flows extracted from the whole corpus, and the data-flow match score degenerates to 0. Please consider ignoring this score.\n",
      "WARNING: There is no reference data-flows extracted from the whole corpus, and the data-flow match score degenerates to 0. Please consider ignoring this score.\n",
      "WARNING: There is no reference data-flows extracted from the whole corpus, and the data-flow match score degenerates to 0. Please consider ignoring this score.\n",
      "WARNING: There is no reference data-flows extracted from the whole corpus, and the data-flow match score degenerates to 0. Please consider ignoring this score.\n",
      "WARNING: There is no reference data-flows extracted from the whole corpus, and the data-flow match score degenerates to 0. Please consider ignoring this score.\n",
      "WARNING: There is no reference data-flows extracted from the whole corpus, and the data-flow match score degenerates to 0. Please consider ignoring this score.\n",
      "WARNING: There is no reference data-flows extracted from the whole corpus, and the data-flow match score degenerates to 0. Please consider ignoring this score.\n",
      "WARNING: There is no reference data-flows extracted from the whole corpus, and the data-flow match score degenerates to 0. Please consider ignoring this score.\n",
      "WARNING: There is no reference data-flows extracted from the whole corpus, and the data-flow match score degenerates to 0. Please consider ignoring this score.\n",
      "WARNING: There is no reference data-flows extracted from the whole corpus, and the data-flow match score degenerates to 0. Please consider ignoring this score.\n",
      "WARNING: There is no reference data-flows extracted from the whole corpus, and the data-flow match score degenerates to 0. Please consider ignoring this score.\n",
      "WARNING: There is no reference data-flows extracted from the whole corpus, and the data-flow match score degenerates to 0. Please consider ignoring this score.\n",
      "WARNING: There is no reference data-flows extracted from the whole corpus, and the data-flow match score degenerates to 0. Please consider ignoring this score.\n",
      "WARNING: There is no reference data-flows extracted from the whole corpus, and the data-flow match score degenerates to 0. Please consider ignoring this score.\n",
      "WARNING: There is no reference data-flows extracted from the whole corpus, and the data-flow match score degenerates to 0. Please consider ignoring this score.\n",
      "WARNING: There is no reference data-flows extracted from the whole corpus, and the data-flow match score degenerates to 0. Please consider ignoring this score.\n",
      "WARNING: There is no reference data-flows extracted from the whole corpus, and the data-flow match score degenerates to 0. Please consider ignoring this score.\n",
      "WARNING: There is no reference data-flows extracted from the whole corpus, and the data-flow match score degenerates to 0. Please consider ignoring this score.\n",
      "WARNING: There is no reference data-flows extracted from the whole corpus, and the data-flow match score degenerates to 0. Please consider ignoring this score.\n",
      "WARNING: There is no reference data-flows extracted from the whole corpus, and the data-flow match score degenerates to 0. Please consider ignoring this score.\n",
      "WARNING: There is no reference data-flows extracted from the whole corpus, and the data-flow match score degenerates to 0. Please consider ignoring this score.\n",
      "WARNING: There is no reference data-flows extracted from the whole corpus, and the data-flow match score degenerates to 0. Please consider ignoring this score.\n",
      "WARNING: There is no reference data-flows extracted from the whole corpus, and the data-flow match score degenerates to 0. Please consider ignoring this score.\n",
      "WARNING: There is no reference data-flows extracted from the whole corpus, and the data-flow match score degenerates to 0. Please consider ignoring this score.\n",
      "WARNING: There is no reference data-flows extracted from the whole corpus, and the data-flow match score degenerates to 0. Please consider ignoring this score.\n",
      "WARNING: There is no reference data-flows extracted from the whole corpus, and the data-flow match score degenerates to 0. Please consider ignoring this score.\n",
      "WARNING: There is no reference data-flows extracted from the whole corpus, and the data-flow match score degenerates to 0. Please consider ignoring this score.\n",
      "WARNING: There is no reference data-flows extracted from the whole corpus, and the data-flow match score degenerates to 0. Please consider ignoring this score.\n",
      "WARNING: There is no reference data-flows extracted from the whole corpus, and the data-flow match score degenerates to 0. Please consider ignoring this score.\n",
      "WARNING: There is no reference data-flows extracted from the whole corpus, and the data-flow match score degenerates to 0. Please consider ignoring this score.\n",
      "WARNING: There is no reference data-flows extracted from the whole corpus, and the data-flow match score degenerates to 0. Please consider ignoring this score.\n",
      "WARNING: There is no reference data-flows extracted from the whole corpus, and the data-flow match score degenerates to 0. Please consider ignoring this score.\n",
      "WARNING: There is no reference data-flows extracted from the whole corpus, and the data-flow match score degenerates to 0. Please consider ignoring this score.\n",
      "WARNING: There is no reference data-flows extracted from the whole corpus, and the data-flow match score degenerates to 0. Please consider ignoring this score.\n",
      "WARNING: There is no reference data-flows extracted from the whole corpus, and the data-flow match score degenerates to 0. Please consider ignoring this score.\n",
      "WARNING: There is no reference data-flows extracted from the whole corpus, and the data-flow match score degenerates to 0. Please consider ignoring this score.\n",
      "WARNING: There is no reference data-flows extracted from the whole corpus, and the data-flow match score degenerates to 0. Please consider ignoring this score.\n",
      "WARNING: There is no reference data-flows extracted from the whole corpus, and the data-flow match score degenerates to 0. Please consider ignoring this score.\n",
      "WARNING: There is no reference data-flows extracted from the whole corpus, and the data-flow match score degenerates to 0. Please consider ignoring this score.\n",
      "WARNING: There is no reference data-flows extracted from the whole corpus, and the data-flow match score degenerates to 0. Please consider ignoring this score.\n",
      "WARNING: There is no reference data-flows extracted from the whole corpus, and the data-flow match score degenerates to 0. Please consider ignoring this score.\n",
      "WARNING: There is no reference data-flows extracted from the whole corpus, and the data-flow match score degenerates to 0. Please consider ignoring this score.\n",
      "WARNING: There is no reference data-flows extracted from the whole corpus, and the data-flow match score degenerates to 0. Please consider ignoring this score.\n",
      "WARNING: There is no reference data-flows extracted from the whole corpus, and the data-flow match score degenerates to 0. Please consider ignoring this score.\n",
      "WARNING: There is no reference data-flows extracted from the whole corpus, and the data-flow match score degenerates to 0. Please consider ignoring this score.\n",
      "WARNING: There is no reference data-flows extracted from the whole corpus, and the data-flow match score degenerates to 0. Please consider ignoring this score.\n",
      "WARNING: There is no reference data-flows extracted from the whole corpus, and the data-flow match score degenerates to 0. Please consider ignoring this score.\n",
      "WARNING: There is no reference data-flows extracted from the whole corpus, and the data-flow match score degenerates to 0. Please consider ignoring this score.\n",
      "WARNING: There is no reference data-flows extracted from the whole corpus, and the data-flow match score degenerates to 0. Please consider ignoring this score.\n",
      "WARNING: There is no reference data-flows extracted from the whole corpus, and the data-flow match score degenerates to 0. Please consider ignoring this score.\n",
      "WARNING: There is no reference data-flows extracted from the whole corpus, and the data-flow match score degenerates to 0. Please consider ignoring this score.\n",
      "WARNING: There is no reference data-flows extracted from the whole corpus, and the data-flow match score degenerates to 0. Please consider ignoring this score.\n",
      "WARNING: There is no reference data-flows extracted from the whole corpus, and the data-flow match score degenerates to 0. Please consider ignoring this score.\n",
      "WARNING: There is no reference data-flows extracted from the whole corpus, and the data-flow match score degenerates to 0. Please consider ignoring this score.\n",
      "WARNING: There is no reference data-flows extracted from the whole corpus, and the data-flow match score degenerates to 0. Please consider ignoring this score.\n",
      "WARNING: There is no reference data-flows extracted from the whole corpus, and the data-flow match score degenerates to 0. Please consider ignoring this score.\n",
      "WARNING: There is no reference data-flows extracted from the whole corpus, and the data-flow match score degenerates to 0. Please consider ignoring this score.\n",
      "WARNING: There is no reference data-flows extracted from the whole corpus, and the data-flow match score degenerates to 0. Please consider ignoring this score.\n",
      "WARNING: There is no reference data-flows extracted from the whole corpus, and the data-flow match score degenerates to 0. Please consider ignoring this score.\n",
      "WARNING: There is no reference data-flows extracted from the whole corpus, and the data-flow match score degenerates to 0. Please consider ignoring this score.\n",
      "WARNING: There is no reference data-flows extracted from the whole corpus, and the data-flow match score degenerates to 0. Please consider ignoring this score.\n",
      "WARNING: There is no reference data-flows extracted from the whole corpus, and the data-flow match score degenerates to 0. Please consider ignoring this score.\n",
      "WARNING: There is no reference data-flows extracted from the whole corpus, and the data-flow match score degenerates to 0. Please consider ignoring this score.\n",
      "WARNING: There is no reference data-flows extracted from the whole corpus, and the data-flow match score degenerates to 0. Please consider ignoring this score.\n",
      "WARNING: There is no reference data-flows extracted from the whole corpus, and the data-flow match score degenerates to 0. Please consider ignoring this score.\n",
      "WARNING: There is no reference data-flows extracted from the whole corpus, and the data-flow match score degenerates to 0. Please consider ignoring this score.\n",
      "WARNING: There is no reference data-flows extracted from the whole corpus, and the data-flow match score degenerates to 0. Please consider ignoring this score.\n",
      "WARNING: There is no reference data-flows extracted from the whole corpus, and the data-flow match score degenerates to 0. Please consider ignoring this score.\n",
      "WARNING: There is no reference data-flows extracted from the whole corpus, and the data-flow match score degenerates to 0. Please consider ignoring this score.\n",
      "WARNING: There is no reference data-flows extracted from the whole corpus, and the data-flow match score degenerates to 0. Please consider ignoring this score.\n",
      "WARNING: There is no reference data-flows extracted from the whole corpus, and the data-flow match score degenerates to 0. Please consider ignoring this score.\n",
      "WARNING: There is no reference data-flows extracted from the whole corpus, and the data-flow match score degenerates to 0. Please consider ignoring this score.\n",
      "WARNING: There is no reference data-flows extracted from the whole corpus, and the data-flow match score degenerates to 0. Please consider ignoring this score.\n",
      "WARNING: There is no reference data-flows extracted from the whole corpus, and the data-flow match score degenerates to 0. Please consider ignoring this score.\n",
      "WARNING: There is no reference data-flows extracted from the whole corpus, and the data-flow match score degenerates to 0. Please consider ignoring this score.\n",
      "WARNING: There is no reference data-flows extracted from the whole corpus, and the data-flow match score degenerates to 0. Please consider ignoring this score.\n",
      "WARNING: There is no reference data-flows extracted from the whole corpus, and the data-flow match score degenerates to 0. Please consider ignoring this score.\n",
      "WARNING: There is no reference data-flows extracted from the whole corpus, and the data-flow match score degenerates to 0. Please consider ignoring this score.\n",
      "WARNING: There is no reference data-flows extracted from the whole corpus, and the data-flow match score degenerates to 0. Please consider ignoring this score.\n",
      "WARNING: There is no reference data-flows extracted from the whole corpus, and the data-flow match score degenerates to 0. Please consider ignoring this score.\n",
      "WARNING: There is no reference data-flows extracted from the whole corpus, and the data-flow match score degenerates to 0. Please consider ignoring this score.\n",
      "WARNING: There is no reference data-flows extracted from the whole corpus, and the data-flow match score degenerates to 0. Please consider ignoring this score.\n",
      "WARNING: There is no reference data-flows extracted from the whole corpus, and the data-flow match score degenerates to 0. Please consider ignoring this score.\n",
      "WARNING: There is no reference data-flows extracted from the whole corpus, and the data-flow match score degenerates to 0. Please consider ignoring this score.\n",
      "WARNING: There is no reference data-flows extracted from the whole corpus, and the data-flow match score degenerates to 0. Please consider ignoring this score.\n",
      "WARNING: There is no reference data-flows extracted from the whole corpus, and the data-flow match score degenerates to 0. Please consider ignoring this score.\n",
      "WARNING: There is no reference data-flows extracted from the whole corpus, and the data-flow match score degenerates to 0. Please consider ignoring this score.\n",
      "WARNING: There is no reference data-flows extracted from the whole corpus, and the data-flow match score degenerates to 0. Please consider ignoring this score.\n",
      "WARNING: There is no reference data-flows extracted from the whole corpus, and the data-flow match score degenerates to 0. Please consider ignoring this score.\n",
      "WARNING: There is no reference data-flows extracted from the whole corpus, and the data-flow match score degenerates to 0. Please consider ignoring this score.\n",
      "WARNING: There is no reference data-flows extracted from the whole corpus, and the data-flow match score degenerates to 0. Please consider ignoring this score.\n",
      "WARNING: There is no reference data-flows extracted from the whole corpus, and the data-flow match score degenerates to 0. Please consider ignoring this score.\n",
      "WARNING: There is no reference data-flows extracted from the whole corpus, and the data-flow match score degenerates to 0. Please consider ignoring this score.\n",
      "WARNING: There is no reference data-flows extracted from the whole corpus, and the data-flow match score degenerates to 0. Please consider ignoring this score.\n",
      "WARNING: There is no reference data-flows extracted from the whole corpus, and the data-flow match score degenerates to 0. Please consider ignoring this score.\n",
      "WARNING: There is no reference data-flows extracted from the whole corpus, and the data-flow match score degenerates to 0. Please consider ignoring this score.\n",
      "WARNING: There is no reference data-flows extracted from the whole corpus, and the data-flow match score degenerates to 0. Please consider ignoring this score.\n",
      "WARNING: There is no reference data-flows extracted from the whole corpus, and the data-flow match score degenerates to 0. Please consider ignoring this score.\n",
      "WARNING: There is no reference data-flows extracted from the whole corpus, and the data-flow match score degenerates to 0. Please consider ignoring this score.\n",
      "WARNING: There is no reference data-flows extracted from the whole corpus, and the data-flow match score degenerates to 0. Please consider ignoring this score.\n",
      "WARNING: There is no reference data-flows extracted from the whole corpus, and the data-flow match score degenerates to 0. Please consider ignoring this score.\n",
      "WARNING: There is no reference data-flows extracted from the whole corpus, and the data-flow match score degenerates to 0. Please consider ignoring this score.\n"
     ]
    }
   ],
   "source": [
    "comment_report = evaluate_pred_df(comment_pred_df, target_feats, is_nl=True)"
   ]
  },
  {
   "cell_type": "code",
   "execution_count": 91,
   "id": "33095aa3-1b3f-4fe3-ab50-48f4d1fda763",
   "metadata": {},
   "outputs": [
    {
     "name": "stdout",
     "output_type": "stream",
     "text": [
      "codebleu_perfect : 0.0\n",
      "codebleu_above_90 : 0.0\n",
      "diff_bleu_avg : 2.199801032708017e-82\n",
      "diff_bleu_perfect : 0.0\n",
      "diff_bleu_above_90 : 0.0\n",
      "comment_text_scores_avg : 0.0\n",
      "comment_text_scores_perfect : 0.0\n",
      "comment_text_scores_above_90 : 0.0\n",
      "parse_test_accuracy : 0.0\n"
     ]
    }
   ],
   "source": [
    "for key, val in comment_report.items():\n",
    "    if type(val) != list and len(val.shape) == 0:\n",
    "        print(key, \":\", val)"
   ]
  },
  {
   "cell_type": "markdown",
   "id": "450070a4-0fa0-4d5b-83b4-3559a3dda5d8",
   "metadata": {
    "jp-MarkdownHeadingCollapsed": true,
    "tags": []
   },
   "source": [
    "# Baseline Combine short"
   ]
  },
  {
   "cell_type": "markdown",
   "id": "51eef78e-1c47-4f17-80f2-1fd6d176a450",
   "metadata": {
    "tags": []
   },
   "source": [
    "## docstring + comment"
   ]
  },
  {
   "cell_type": "code",
   "execution_count": 92,
   "id": "15fafe6d-6232-4cfe-994b-cd4e38418739",
   "metadata": {},
   "outputs": [],
   "source": [
    "pred_csvfile = \"codet5_baseline_short_docstring_comment_preds.csv\"\n",
    "file_name = f\"{folder}/{model_name}/{ckpt}/{pred_csvfile}\"\n",
    "target_feats = [\"comment\", \"docstring\"]"
   ]
  },
  {
   "cell_type": "code",
   "execution_count": 93,
   "id": "7957534d-d8b5-4590-8c18-da24d0e2b1c2",
   "metadata": {},
   "outputs": [
    {
     "data": {
      "text/plain": [
       "{'ngram': 1.6281791191374666e-05,\n",
       " 'weighted_ngram': 2.731580852067673e-05,\n",
       " 'syntax_match': 0.13656164888275624,\n",
       " 'dataflow_match': 0.004070646264817418,\n",
       " 'code_bleu': 0.03516897318682143}"
      ]
     },
     "execution_count": 93,
     "metadata": {},
     "output_type": "execute_result"
    }
   ],
   "source": [
    "codebleu = evaluate_codebleu(file_name,  '0.25,0.25,0.25,0.25', dropna=True, is_exclude_same_io=True)\n",
    "codebleu"
   ]
  },
  {
   "cell_type": "code",
   "execution_count": 94,
   "id": "5c987ec5-5ae5-4c89-b1f9-3cba535aa195",
   "metadata": {},
   "outputs": [],
   "source": [
    "pred_df = pd.read_csv(file_name)"
   ]
  },
  {
   "cell_type": "code",
   "execution_count": 95,
   "id": "c0633b93-cc8b-487e-a292-f5ba8f42dc2b",
   "metadata": {},
   "outputs": [],
   "source": [
    "# not sure why there is nan in preds, but just exclude it no matter what\n",
    "pred_df = pred_df.dropna()"
   ]
  },
  {
   "cell_type": "code",
   "execution_count": 96,
   "id": "31e2f036-f672-4511-8bed-1342c4690ead",
   "metadata": {
    "scrolled": true,
    "tags": []
   },
   "outputs": [
    {
     "data": {
      "application/vnd.jupyter.widget-view+json": {
       "model_id": "a9ce71b109ae459daf1b7a952f1b2678",
       "version_major": 2,
       "version_minor": 0
      },
      "text/plain": [
       "  0%|          | 0/2000 [00:00<?, ?it/s]"
      ]
     },
     "metadata": {},
     "output_type": "display_data"
    },
    {
     "name": "stdout",
     "output_type": "stream",
     "text": [
      "WARNING: There is no reference data-flows extracted from the whole corpus, and the data-flow match score degenerates to 0. Please consider ignoring this score.\n",
      "WARNING: There is no reference data-flows extracted from the whole corpus, and the data-flow match score degenerates to 0. Please consider ignoring this score.\n",
      "WARNING: There is no reference data-flows extracted from the whole corpus, and the data-flow match score degenerates to 0. Please consider ignoring this score.\n",
      "WARNING: There is no reference data-flows extracted from the whole corpus, and the data-flow match score degenerates to 0. Please consider ignoring this score.\n",
      "WARNING: There is no reference data-flows extracted from the whole corpus, and the data-flow match score degenerates to 0. Please consider ignoring this score.\n",
      "WARNING: There is no reference data-flows extracted from the whole corpus, and the data-flow match score degenerates to 0. Please consider ignoring this score.\n",
      "WARNING: There is no reference data-flows extracted from the whole corpus, and the data-flow match score degenerates to 0. Please consider ignoring this score.\n",
      "WARNING: There is no reference data-flows extracted from the whole corpus, and the data-flow match score degenerates to 0. Please consider ignoring this score.\n",
      "WARNING: There is no reference data-flows extracted from the whole corpus, and the data-flow match score degenerates to 0. Please consider ignoring this score.\n",
      "WARNING: There is no reference data-flows extracted from the whole corpus, and the data-flow match score degenerates to 0. Please consider ignoring this score.\n",
      "WARNING: There is no reference data-flows extracted from the whole corpus, and the data-flow match score degenerates to 0. Please consider ignoring this score.\n",
      "WARNING: There is no reference data-flows extracted from the whole corpus, and the data-flow match score degenerates to 0. Please consider ignoring this score.\n",
      "WARNING: There is no reference data-flows extracted from the whole corpus, and the data-flow match score degenerates to 0. Please consider ignoring this score.\n",
      "WARNING: There is no reference data-flows extracted from the whole corpus, and the data-flow match score degenerates to 0. Please consider ignoring this score.\n",
      "WARNING: There is no reference data-flows extracted from the whole corpus, and the data-flow match score degenerates to 0. Please consider ignoring this score.\n",
      "WARNING: There is no reference data-flows extracted from the whole corpus, and the data-flow match score degenerates to 0. Please consider ignoring this score.\n",
      "WARNING: There is no reference data-flows extracted from the whole corpus, and the data-flow match score degenerates to 0. Please consider ignoring this score.\n",
      "WARNING: There is no reference data-flows extracted from the whole corpus, and the data-flow match score degenerates to 0. Please consider ignoring this score.\n",
      "WARNING: There is no reference data-flows extracted from the whole corpus, and the data-flow match score degenerates to 0. Please consider ignoring this score.\n"
     ]
    }
   ],
   "source": [
    "report = evaluate_pred_df(pred_df, target_feats, is_nl=True)"
   ]
  },
  {
   "cell_type": "code",
   "execution_count": 97,
   "id": "8e2be40f-cee3-494c-b4ed-d9167142b7e2",
   "metadata": {},
   "outputs": [
    {
     "name": "stdout",
     "output_type": "stream",
     "text": [
      "codebleu_perfect : 0.0\n",
      "codebleu_above_90 : 0.0\n",
      "diff_bleu_avg : 4.533343429250006e-82\n",
      "diff_bleu_perfect : 0.0\n",
      "diff_bleu_above_90 : 0.0\n",
      "docstr_text_scores_avg : 0.0\n",
      "docstr_text_scores_perfect : 0.0\n",
      "docstr_text_scores_above_90 : 0.0\n",
      "comment_text_scores_avg : 0.0\n",
      "comment_text_scores_perfect : 0.0\n",
      "comment_text_scores_above_90 : 0.0\n",
      "parse_test_accuracy : 0.0\n"
     ]
    }
   ],
   "source": [
    "for key, val in report.items():\n",
    "    if type(val) != list and len(val.shape) == 0:\n",
    "        print(key, \":\", val)"
   ]
  },
  {
   "cell_type": "markdown",
   "id": "b43839ca-c11c-4eb4-bb51-c87a0d2751d4",
   "metadata": {
    "tags": []
   },
   "source": [
    "## class + casing"
   ]
  },
  {
   "cell_type": "code",
   "execution_count": 98,
   "id": "81220f14-7932-4c41-b5aa-7bffe5931754",
   "metadata": {},
   "outputs": [],
   "source": [
    "pred_csvfile = \"codet5_baseline_short_class_casing_preds.csv\"\n",
    "file_name = f\"{folder}/{model_name}/{ckpt}/{pred_csvfile}\"\n",
    "target_feats = [\"class\", \"casing\"]"
   ]
  },
  {
   "cell_type": "code",
   "execution_count": 99,
   "id": "573e8f8d-9f49-4b93-80a5-da3345e7cf51",
   "metadata": {},
   "outputs": [
    {
     "data": {
      "text/plain": [
       "{'ngram': 6.2734127420795734e-06,\n",
       " 'weighted_ngram': 2.3968916501912857e-05,\n",
       " 'syntax_match': 0.09180456781011374,\n",
       " 'dataflow_match': 0.01088815551754872,\n",
       " 'code_bleu': 0.025680741414226615}"
      ]
     },
     "execution_count": 99,
     "metadata": {},
     "output_type": "execute_result"
    }
   ],
   "source": [
    "codebleu = evaluate_codebleu(file_name,  '0.25,0.25,0.25,0.25', dropna=True, is_exclude_same_io=True)\n",
    "codebleu"
   ]
  },
  {
   "cell_type": "code",
   "execution_count": 100,
   "id": "c6596025-57f8-40b5-9bce-6303311845ae",
   "metadata": {},
   "outputs": [],
   "source": [
    "pred_df = pd.read_csv(file_name)"
   ]
  },
  {
   "cell_type": "code",
   "execution_count": 101,
   "id": "079cdaae-1293-4c62-8132-a38f44594fdd",
   "metadata": {},
   "outputs": [],
   "source": [
    "# not sure why there is nan in preds, but just exclude it no matter what\n",
    "pred_df = pred_df.dropna()"
   ]
  },
  {
   "cell_type": "code",
   "execution_count": 102,
   "id": "6a314b76-3d8e-4251-a0ac-fa2249048b0b",
   "metadata": {
    "scrolled": true,
    "tags": []
   },
   "outputs": [
    {
     "data": {
      "application/vnd.jupyter.widget-view+json": {
       "model_id": "5251e4a8ebc743e491c3759408795d71",
       "version_major": 2,
       "version_minor": 0
      },
      "text/plain": [
       "  0%|          | 0/2002 [00:00<?, ?it/s]"
      ]
     },
     "metadata": {},
     "output_type": "display_data"
    },
    {
     "name": "stdout",
     "output_type": "stream",
     "text": [
      "WARNING: There is no reference data-flows extracted from the whole corpus, and the data-flow match score degenerates to 0. Please consider ignoring this score.\n",
      "WARNING: There is no reference data-flows extracted from the whole corpus, and the data-flow match score degenerates to 0. Please consider ignoring this score.\n",
      "WARNING: There is no reference data-flows extracted from the whole corpus, and the data-flow match score degenerates to 0. Please consider ignoring this score.\n",
      "WARNING: There is no reference data-flows extracted from the whole corpus, and the data-flow match score degenerates to 0. Please consider ignoring this score.\n",
      "WARNING: There is no reference data-flows extracted from the whole corpus, and the data-flow match score degenerates to 0. Please consider ignoring this score.\n",
      "WARNING: There is no reference data-flows extracted from the whole corpus, and the data-flow match score degenerates to 0. Please consider ignoring this score.\n"
     ]
    }
   ],
   "source": [
    "report = evaluate_pred_df(pred_df, target_feats, is_nl=True)"
   ]
  },
  {
   "cell_type": "code",
   "execution_count": 103,
   "id": "7d930390-de05-4ff8-acc4-4bf98c4601a5",
   "metadata": {},
   "outputs": [
    {
     "name": "stdout",
     "output_type": "stream",
     "text": [
      "codebleu_perfect : 0.0\n",
      "codebleu_above_90 : 0.0\n",
      "diff_bleu_avg : 1.514341501550573e-234\n",
      "diff_bleu_perfect : 0.0\n",
      "diff_bleu_above_90 : 0.0\n",
      "parse_test_accuracy : 0.0\n"
     ]
    }
   ],
   "source": [
    "for key, val in report.items():\n",
    "    if type(val) != list and len(val.shape) == 0:\n",
    "        print(key, \":\", val)"
   ]
  },
  {
   "cell_type": "markdown",
   "id": "b0a19843-44d3-4384-a873-46744d528058",
   "metadata": {
    "tags": []
   },
   "source": [
    "## list_comp + class + casing"
   ]
  },
  {
   "cell_type": "code",
   "execution_count": 104,
   "id": "65b8a5fe-d032-472e-82f3-1057e90281f3",
   "metadata": {},
   "outputs": [],
   "source": [
    "pred_csvfile = \"codet5_baseline_short_list_comp_class_casing_preds.csv\"\n",
    "file_name = f\"{folder}/{model_name}/{ckpt}/{pred_csvfile}\"\n",
    "target_feats = [\"class\", \"casing\", \"list_comp\"]"
   ]
  },
  {
   "cell_type": "code",
   "execution_count": 105,
   "id": "6640fdd5-d3e3-455c-9218-f9b2dbd7ba94",
   "metadata": {},
   "outputs": [
    {
     "data": {
      "text/plain": [
       "{'ngram': 1.0648014970577506e-05,\n",
       " 'weighted_ngram': 2.6693105168194964e-05,\n",
       " 'syntax_match': 0.060325011493333865,\n",
       " 'dataflow_match': 0.014472209401991166,\n",
       " 'code_bleu': 0.01870864050386595}"
      ]
     },
     "execution_count": 105,
     "metadata": {},
     "output_type": "execute_result"
    }
   ],
   "source": [
    "codebleu = evaluate_codebleu(file_name,  '0.25,0.25,0.25,0.25', dropna=True, is_exclude_same_io=True)\n",
    "codebleu"
   ]
  },
  {
   "cell_type": "code",
   "execution_count": 106,
   "id": "002fe44a-7a95-4f77-9a38-c043d3fcfe1d",
   "metadata": {},
   "outputs": [],
   "source": [
    "pred_df = pd.read_csv(file_name)"
   ]
  },
  {
   "cell_type": "code",
   "execution_count": 107,
   "id": "f0acb99f-3283-4416-9dfe-1650f93e0e89",
   "metadata": {},
   "outputs": [],
   "source": [
    "# not sure why there is nan in preds, but just exclude it no matter what\n",
    "pred_df = pred_df.dropna()"
   ]
  },
  {
   "cell_type": "code",
   "execution_count": 108,
   "id": "e9d582c6-472f-4939-a614-31710bb54632",
   "metadata": {
    "scrolled": true,
    "tags": []
   },
   "outputs": [
    {
     "data": {
      "application/vnd.jupyter.widget-view+json": {
       "model_id": "c61e9af7137d40999ad6050a24215a61",
       "version_major": 2,
       "version_minor": 0
      },
      "text/plain": [
       "  0%|          | 0/468 [00:00<?, ?it/s]"
      ]
     },
     "metadata": {},
     "output_type": "display_data"
    }
   ],
   "source": [
    "report = evaluate_pred_df(pred_df, target_feats, is_nl=True)"
   ]
  },
  {
   "cell_type": "code",
   "execution_count": 109,
   "id": "13a2c135-014c-4de9-abdc-73c1a5dfaa0c",
   "metadata": {},
   "outputs": [
    {
     "name": "stdout",
     "output_type": "stream",
     "text": [
      "codebleu_perfect : 0.0\n",
      "codebleu_above_90 : 0.0\n",
      "diff_bleu_avg : 0.0\n",
      "diff_bleu_perfect : 0.0\n",
      "diff_bleu_above_90 : 0.0\n",
      "parse_test_accuracy : 0.0\n"
     ]
    }
   ],
   "source": [
    "for key, val in report.items():\n",
    "    if type(val) != list and len(val.shape) == 0:\n",
    "        print(key, \":\", val)"
   ]
  },
  {
   "cell_type": "markdown",
   "id": "22858f49-37b9-428c-86ba-2e59afc7c785",
   "metadata": {
    "tags": []
   },
   "source": [
    "## list_comp + class + casing + docstring + comment"
   ]
  },
  {
   "cell_type": "code",
   "execution_count": 110,
   "id": "92930565-4130-479a-bb67-62caa5b5a99f",
   "metadata": {
    "tags": []
   },
   "outputs": [],
   "source": [
    "pred_csvfile = \"codet5_baseline_short_docstring_list_comp_class_casing_comment_preds.csv\"\n",
    "file_name = f\"{folder}/{model_name}/{ckpt}/{pred_csvfile}\"\n",
    "target_feats = [\"list_comp\", \"casing\", \"class\", \"docstring\", \"comment\"]"
   ]
  },
  {
   "cell_type": "code",
   "execution_count": 111,
   "id": "5c4bac45-c7d3-46fb-8349-d5a577d78c28",
   "metadata": {},
   "outputs": [
    {
     "data": {
      "text/plain": [
       "{'ngram': 7.810693399227178e-05,\n",
       " 'weighted_ngram': 0.0001236303364247739,\n",
       " 'syntax_match': 0.09545068027210885,\n",
       " 'dataflow_match': 0.004863644259162758,\n",
       " 'code_bleu': 0.025129015450422162}"
      ]
     },
     "execution_count": 111,
     "metadata": {},
     "output_type": "execute_result"
    }
   ],
   "source": [
    "all_feat_codebleu = evaluate_codebleu(file_name,  '0.25,0.25,0.25,0.25')\n",
    "all_feat_codebleu"
   ]
  },
  {
   "cell_type": "code",
   "execution_count": 112,
   "id": "00d78944-1c6b-440c-aff0-83a935cf10df",
   "metadata": {},
   "outputs": [],
   "source": [
    "all_pred_df = pd.read_csv(file_name)"
   ]
  },
  {
   "cell_type": "code",
   "execution_count": 113,
   "id": "7dbcd33e-5d4d-4dc4-a9b7-278fc165c62e",
   "metadata": {
    "scrolled": true,
    "tags": []
   },
   "outputs": [
    {
     "data": {
      "application/vnd.jupyter.widget-view+json": {
       "model_id": "d91c692282524924a553594d2241d0e2",
       "version_major": 2,
       "version_minor": 0
      },
      "text/plain": [
       "  0%|          | 0/98 [00:00<?, ?it/s]"
      ]
     },
     "metadata": {},
     "output_type": "display_data"
    }
   ],
   "source": [
    "all_report = evaluate_pred_df(all_pred_df, target_feats, is_nl=True)"
   ]
  },
  {
   "cell_type": "code",
   "execution_count": 114,
   "id": "faa933b2-cb1c-44ec-ae77-4904efb7a283",
   "metadata": {},
   "outputs": [
    {
     "name": "stdout",
     "output_type": "stream",
     "text": [
      "codebleu_perfect : 0.0\n",
      "codebleu_above_90 : 0.0\n",
      "diff_bleu_avg : 1.8352065729549962e-157\n",
      "diff_bleu_perfect : 0.0\n",
      "diff_bleu_above_90 : 0.0\n",
      "docstr_text_scores_avg : 0.0\n",
      "docstr_text_scores_perfect : 0.0\n",
      "docstr_text_scores_above_90 : 0.0\n",
      "comment_text_scores_avg : 0.0\n",
      "comment_text_scores_perfect : 0.0\n",
      "comment_text_scores_above_90 : 0.0\n",
      "parse_test_accuracy : 0.0\n"
     ]
    }
   ],
   "source": [
    "for key, val in all_report.items():\n",
    "    if type(val) != list and len(val.shape) == 0:\n",
    "        print(key, \":\", val)"
   ]
  },
  {
   "cell_type": "markdown",
   "id": "0a7b56da-a62c-4eb5-a8b4-597e6f6f8a11",
   "metadata": {
    "jp-MarkdownHeadingCollapsed": true,
    "tags": []
   },
   "source": [
    "# =====================SPLIT LINE====================="
   ]
  },
  {
   "cell_type": "code",
   "execution_count": null,
   "id": "14b1d04a-bd88-4f70-b900-34626e07031d",
   "metadata": {},
   "outputs": [],
   "source": [
    "pred_csvfile = \"codet5_finetuned_nl_casing_preds.csv\"\n",
    "file_name = f\"{folder}/{model_name}/{ckpt}/{pred_csvfile}\"\n",
    "target_feats = [\"casing\"]"
   ]
  },
  {
   "cell_type": "code",
   "execution_count": null,
   "id": "34bcaa83-943d-4fea-a6b1-cf0f7d4b1874",
   "metadata": {},
   "outputs": [],
   "source": [
    "casing_codebleu = evaluate_codebleu(file_name,  '0.25,0.25,0.25,0.25')\n",
    "casing_codebleu"
   ]
  },
  {
   "cell_type": "code",
   "execution_count": null,
   "id": "66d2c828-cb74-4a7b-88ca-467b10d5d770",
   "metadata": {},
   "outputs": [],
   "source": [
    "casing_pred_df = pd.read_csv(file_name)"
   ]
  },
  {
   "cell_type": "code",
   "execution_count": null,
   "id": "2cd6afe5-abfe-4a61-a9ad-44387823deb8",
   "metadata": {
    "scrolled": true,
    "tags": []
   },
   "outputs": [],
   "source": [
    "casing_report = evaluate_pred_df(casing_pred_df, target_feats, is_nl=True)"
   ]
  },
  {
   "cell_type": "code",
   "execution_count": null,
   "id": "acdf69c9-b890-47a3-87ee-27a25ef6fd44",
   "metadata": {},
   "outputs": [],
   "source": [
    "for key, val in casing_report.items():\n",
    "    if type(val) != list and len(val.shape) == 0:\n",
    "        print(key, \":\", val)"
   ]
  },
  {
   "cell_type": "code",
   "execution_count": null,
   "id": "6160d2d4-b30d-4e9c-a45c-4bf4c9fd4732",
   "metadata": {},
   "outputs": [],
   "source": []
  },
  {
   "cell_type": "code",
   "execution_count": null,
   "id": "c15a4cd4-ff73-4b9e-8687-efcf268e7c64",
   "metadata": {},
   "outputs": [],
   "source": [
    "total = len(all_feat_pred_df)\n",
    "for idx in range(total):\n",
    "    if all_feat_report[\"diff_bleu\"][idx] >= 0.14:\n",
    "        print_split_line(f\"{idx}-input\")\n",
    "        print(all_feat_report[\"inputs\"][idx])\n",
    "        print_split_line(f\"{idx}-prediction\")\n",
    "        print(all_feat_report[\"preds\"][idx])\n",
    "        print_split_line(f\"{idx}-gold labels\")\n",
    "        print(all_feat_report[\"labels\"][idx])\n",
    "        print_split_line(f\"{idx}-score\")\n",
    "        print(all_feat_report[\"diff_bleu\"][idx])"
   ]
  },
  {
   "cell_type": "code",
   "execution_count": null,
   "id": "3358bb72-3dd6-4505-82da-be01f1e6e03b",
   "metadata": {},
   "outputs": [],
   "source": [
    "# finetuned codet5small\n",
    "folder = \"seq2seq_results\"\n",
    "model_name = \"combined_base_features_updated_mask_codet5small\"\n",
    "ckpt = \"checkpoint-97000\""
   ]
  },
  {
   "cell_type": "code",
   "execution_count": null,
   "id": "ed7a8550-5dcb-4128-b110-e7d0db47ec8c",
   "metadata": {},
   "outputs": [],
   "source": [
    "# all feat\n",
    "pred_csvfile = \"codet5_finetuned_all_feat_preds.csv\"\n",
    "file_name = f\"{folder}/{model_name}/{ckpt}/{pred_csvfile}\"\n",
    "target_feats = [\"docstring\", \"list_comp\", \"class\", \"casing\", \"comment\"]"
   ]
  },
  {
   "cell_type": "code",
   "execution_count": null,
   "id": "b6b4a49f-6750-4527-88a0-215e7781bd6a",
   "metadata": {},
   "outputs": [],
   "source": [
    "all_feat_codebleu = evaluate_codebleu(file_name,  '0.25,0.25,0.25,0.25')"
   ]
  },
  {
   "cell_type": "code",
   "execution_count": null,
   "id": "7bf3e018-bbee-4548-ae90-a64d41391b0e",
   "metadata": {},
   "outputs": [],
   "source": [
    "all_feat_codebleu"
   ]
  },
  {
   "cell_type": "code",
   "execution_count": null,
   "id": "5c130d1a-9b44-4fb6-865f-582f442e1e55",
   "metadata": {},
   "outputs": [],
   "source": [
    "\n",
    "all_feat_pred_df = pd.read_csv(file_name)"
   ]
  },
  {
   "cell_type": "code",
   "execution_count": null,
   "id": "f2da1f84-ffdc-4055-bd85-780735021068",
   "metadata": {},
   "outputs": [],
   "source": [
    "all_feat_report = evaluate_pred_df(all_feat_pred_df, target_feats)"
   ]
  },
  {
   "cell_type": "code",
   "execution_count": null,
   "id": "fd415fa9-e21d-485f-b67c-230f7b98bdb0",
   "metadata": {},
   "outputs": [],
   "source": [
    "all_feat_report[\"diff_bleu_avg\"]"
   ]
  },
  {
   "cell_type": "code",
   "execution_count": null,
   "id": "f9aa3c8e-26b2-45a3-a586-4a3fa58261a0",
   "metadata": {},
   "outputs": [],
   "source": [
    "max(all_feat_report[\"diff_bleu\"])"
   ]
  },
  {
   "cell_type": "code",
   "execution_count": null,
   "id": "c197d9c4-554e-48da-b318-834870234226",
   "metadata": {},
   "outputs": [],
   "source": [
    "total = len(all_feat_pred_df)\n",
    "for idx in range(total):\n",
    "    if all_feat_report[\"diff_bleu\"][idx] >= 0.3:\n",
    "        print_split_line(f\"{idx}-input\")\n",
    "        print(all_feat_report[\"inputs\"][idx])\n",
    "        print_split_line(f\"{idx}-prediction\")\n",
    "        print(all_feat_report[\"preds\"][idx])\n",
    "        print_split_line(f\"{idx}-gold labels\")\n",
    "        print(all_feat_report[\"labels\"][idx])\n",
    "        print_split_line(f\"{idx}-score\")\n",
    "        print(all_feat_report[\"diff_bleu\"][idx])"
   ]
  },
  {
   "cell_type": "code",
   "execution_count": null,
   "id": "75625cd6-2987-4be6-987c-0452eda0b125",
   "metadata": {},
   "outputs": [],
   "source": [
    "# casing\n",
    "pred_csvfile = \"codet5_finetuned_casing_preds_downsized.csv\"\n",
    "file_name = f\"{folder}/{model_name}/{ckpt}/{pred_csvfile}\"\n",
    "target_feats = [\"casing\"]"
   ]
  },
  {
   "cell_type": "code",
   "execution_count": null,
   "id": "9dade2ab-42df-4ea7-a5d3-3481621e3eca",
   "metadata": {},
   "outputs": [],
   "source": [
    "casing_codebleu = evaluate_codebleu(file_name,  '0.25,0.25,0.25,0.25')\n",
    "casing_codebleu"
   ]
  },
  {
   "cell_type": "code",
   "execution_count": null,
   "id": "59bdffd5-b5b3-41e7-9b9f-af85192f9468",
   "metadata": {},
   "outputs": [],
   "source": [
    "\n",
    "casing_pred_df = pd.read_csv(file_name)"
   ]
  },
  {
   "cell_type": "code",
   "execution_count": null,
   "id": "9faab431-110b-4481-9a6f-e36b5e931674",
   "metadata": {},
   "outputs": [],
   "source": [
    "casing_report = evaluate_pred_df(casing_pred_df, target_feats)"
   ]
  },
  {
   "cell_type": "code",
   "execution_count": null,
   "id": "dfc159f1-8ecf-411e-95cd-e9b6d7fb48ad",
   "metadata": {},
   "outputs": [],
   "source": [
    "casing_report[\"code_bleu\"]"
   ]
  },
  {
   "cell_type": "code",
   "execution_count": null,
   "id": "08e494c7-10ae-4903-adb8-a1036902b20b",
   "metadata": {},
   "outputs": [],
   "source": [
    "casing_report[\"diff_bleu_avg\"]"
   ]
  },
  {
   "cell_type": "code",
   "execution_count": null,
   "id": "44559b93-999b-4b3c-8e2b-e27e70cf0d88",
   "metadata": {},
   "outputs": [],
   "source": [
    "total = len(casing_pred_df)\n",
    "for idx in range(total):\n",
    "    if casing_report[\"diff_bleu\"][idx] >= 0:\n",
    "        if casing_report[\"diff_bleu\"][idx] >= 0.1: continue\n",
    "        print_split_line(f\"{idx}-input\")\n",
    "        print(casing_report[\"inputs\"][idx])\n",
    "        print_split_line(f\"{idx}-prediction\")\n",
    "        print(casing_report[\"preds\"][idx])\n",
    "        print_split_line(f\"{idx}-gold labels\")\n",
    "        print(casing_report[\"labels\"][idx])\n",
    "        print_split_line(f\"{idx}-score\")\n",
    "        print(casing_report[\"diff_bleu\"][idx])"
   ]
  },
  {
   "cell_type": "code",
   "execution_count": null,
   "id": "502d9f2e-5c60-4da8-8ff6-519015cea76e",
   "metadata": {},
   "outputs": [],
   "source": [
    "# class\n",
    "pred_csvfile = \"codet5_finetuned_class_preds_downsized.csv\"\n",
    "file_name = f\"{folder}/{model_name}/{ckpt}/{pred_csvfile}\"\n",
    "target_feats = [\"class\"]"
   ]
  },
  {
   "cell_type": "code",
   "execution_count": null,
   "id": "e6f23e2d-f7c3-4e8c-ad23-8428414d547f",
   "metadata": {},
   "outputs": [],
   "source": [
    "\n",
    "class_pred_df = pd.read_csv(file_name)"
   ]
  },
  {
   "cell_type": "code",
   "execution_count": null,
   "id": "72ddee1e-4bf8-48c0-a1c1-4e707c65f74e",
   "metadata": {},
   "outputs": [],
   "source": [
    "class_report = evaluate_pred_df(class_pred_df, target_feats)"
   ]
  },
  {
   "cell_type": "code",
   "execution_count": null,
   "id": "1cd4dde9-c3cd-42e9-9ee2-54236f7f41f3",
   "metadata": {},
   "outputs": [],
   "source": [
    "class_report[\"diff_bleu_avg\"]"
   ]
  },
  {
   "cell_type": "code",
   "execution_count": null,
   "id": "421d79e9-8aeb-4809-831e-07c36fa030e1",
   "metadata": {},
   "outputs": [],
   "source": [
    "# list comp\n",
    "pred_csvfile = \"codet5_finetuned_list_comp_preds.csv\"\n",
    "file_name = f\"{folder}/{model_name}/{ckpt}/{pred_csvfile}\"\n",
    "target_feats = [\"list_comp\"]"
   ]
  },
  {
   "cell_type": "code",
   "execution_count": null,
   "id": "beba7489-1a85-45df-a075-eb76c7eb1f0f",
   "metadata": {},
   "outputs": [],
   "source": [
    "\n",
    "comp_pred_df = pd.read_csv(file_name)"
   ]
  },
  {
   "cell_type": "code",
   "execution_count": null,
   "id": "80b0ede9-6097-41b1-aecc-e9a66efcef63",
   "metadata": {
    "scrolled": true,
    "tags": []
   },
   "outputs": [],
   "source": [
    "comp_report = evaluate_pred_df(comp_pred_df, target_feats)"
   ]
  },
  {
   "cell_type": "code",
   "execution_count": null,
   "id": "76301247-ac52-4886-b875-bfd1c2ddc5e5",
   "metadata": {},
   "outputs": [],
   "source": [
    "comp_report[\"diff_bleu_avg\"]"
   ]
  },
  {
   "cell_type": "code",
   "execution_count": null,
   "id": "260eb48c-24a2-4b95-bad5-7422ae9f5d6e",
   "metadata": {},
   "outputs": [],
   "source": [
    "comp_codebleu = evaluate_codebleu(file_name,  '0.25,0.25,0.25,0.25')\n",
    "comp_codebleu"
   ]
  },
  {
   "cell_type": "code",
   "execution_count": null,
   "id": "2bab7db4-aec5-4ede-9a8a-aeedb6c15f5c",
   "metadata": {},
   "outputs": [],
   "source": [
    "# baseline codet5small\n",
    "folder = \"seq2seq_results\"\n",
    "model_name = \"combined_base_features_baseline_codet5small\"\n",
    "ckpt = \"checkpoint-115882\""
   ]
  },
  {
   "cell_type": "code",
   "execution_count": null,
   "id": "708924fb-feaa-4fa6-8b34-1a6b1b50b081",
   "metadata": {},
   "outputs": [],
   "source": [
    "# casing\n",
    "pred_csvfile = \"baseline_casing_preds_downsized.csv\"\n",
    "file_name = f\"{folder}/{model_name}/{ckpt}/{pred_csvfile}\"\n",
    "target_feats = [\"casing\"]"
   ]
  },
  {
   "cell_type": "code",
   "execution_count": null,
   "id": "e6a5397c-82d5-479e-981e-199dc5eb5d4b",
   "metadata": {},
   "outputs": [],
   "source": [
    "casing_pred_df = pd.read_csv(file_name)"
   ]
  },
  {
   "cell_type": "code",
   "execution_count": null,
   "id": "f600975b-8688-4a75-a391-93d026469dc2",
   "metadata": {
    "scrolled": true,
    "tags": []
   },
   "outputs": [],
   "source": [
    "casing_report = evaluate_pred_df(casing_pred_df, target_feats)"
   ]
  },
  {
   "cell_type": "code",
   "execution_count": null,
   "id": "0e852850-6c07-410b-87f6-83becd37cb9d",
   "metadata": {},
   "outputs": [],
   "source": [
    "casing_report[\"diff_bleu_avg\"]"
   ]
  },
  {
   "cell_type": "code",
   "execution_count": null,
   "id": "34975bc1-8598-4b16-8f25-aee9204c7aaa",
   "metadata": {},
   "outputs": [],
   "source": [
    "casing_report"
   ]
  },
  {
   "cell_type": "code",
   "execution_count": null,
   "id": "d394dc98-0148-4a79-8628-260ebbb5a635",
   "metadata": {},
   "outputs": [],
   "source": [
    "total = len(casing_pred_df)\n",
    "for idx in range(total):\n",
    "    if casing_report[\"diff_bleu\"][idx] >= 0:\n",
    "        if casing_report[\"diff_bleu\"][idx] >= 0.1: continue\n",
    "        print_split_line(f\"{idx}-input\")\n",
    "        print(casing_report[\"inputs\"][idx])\n",
    "        print_split_line(f\"{idx}-prediction\")\n",
    "        print(casing_report[\"preds\"][idx])\n",
    "        print_split_line(f\"{idx}-gold labels\")\n",
    "        print(casing_report[\"labels\"][idx])\n",
    "        print_split_line(f\"{idx}-score\")\n",
    "        print(casing_report[\"diff_bleu\"][idx])"
   ]
  },
  {
   "cell_type": "code",
   "execution_count": null,
   "id": "8ab37e9a-fc59-4bf3-b61f-eddf78d854a2",
   "metadata": {},
   "outputs": [],
   "source": [
    "# class\n",
    "pred_csvfile = \"baseline_class_preds_downsized.csv\"\n",
    "file_name = f\"{folder}/{model_name}/{ckpt}/{pred_csvfile}\"\n",
    "target_feats = [\"class\"]"
   ]
  },
  {
   "cell_type": "code",
   "execution_count": null,
   "id": "01a7f002-cb42-4921-b2a9-896136deb176",
   "metadata": {},
   "outputs": [],
   "source": [
    "\n",
    "class_pred_df = pd.read_csv(file_name)"
   ]
  },
  {
   "cell_type": "code",
   "execution_count": null,
   "id": "a18748c8-6d63-47df-8014-c4eb2406c005",
   "metadata": {
    "scrolled": true,
    "tags": []
   },
   "outputs": [],
   "source": [
    "class_report = evaluate_pred_df(class_pred_df, target_feats)"
   ]
  },
  {
   "cell_type": "code",
   "execution_count": null,
   "id": "b951b7a9-4e78-40e0-816a-365ade546fc9",
   "metadata": {},
   "outputs": [],
   "source": [
    "class_report[\"diff_bleu_avg\"]"
   ]
  },
  {
   "cell_type": "code",
   "execution_count": null,
   "id": "cf38c6ed-c973-4743-8698-888416101ed5",
   "metadata": {},
   "outputs": [],
   "source": []
  },
  {
   "cell_type": "markdown",
   "id": "2c3ab48f-e6cc-4729-8107-8513210da2e1",
   "metadata": {
    "jp-MarkdownHeadingCollapsed": true,
    "tags": []
   },
   "source": [
    "# CodeT5 Finetuned Contd"
   ]
  },
  {
   "cell_type": "code",
   "execution_count": null,
   "id": "94def35d-7eb2-41d3-8b47-fa473822eb12",
   "metadata": {},
   "outputs": [],
   "source": [
    "# combined_nl_prompt_base_features_contd_codet5small\n",
    "folder = \"seq2seq_results\"\n",
    "model_name = \"combined_nl_prompt_base_features_contd_codet5small\"\n",
    "ckpt = \"checkpoint-144856\""
   ]
  },
  {
   "cell_type": "markdown",
   "id": "0aab8c6a-2092-4948-87a8-7810fa3b6299",
   "metadata": {
    "tags": []
   },
   "source": [
    "## codet5_finetuned_nl_tok_type_4_contd_codet5small_docstring_list_comp_class_casing_comment_preds"
   ]
  },
  {
   "cell_type": "code",
   "execution_count": null,
   "id": "81658d21-d495-4dd6-98f3-f8f76decf5d3",
   "metadata": {},
   "outputs": [],
   "source": [
    "pred_csvfile = \"codet5_finetuned_nl_tok_type_4_contd_codet5small_docstring_list_comp_class_casing_comment_preds.csv\"\n",
    "file_name = f\"{folder}/{model_name}/{ckpt}/{pred_csvfile}\"\n",
    "target_feats = [\"list_comp\", \"casing\", \"class\", \"docstring\", \"comment\"]"
   ]
  },
  {
   "cell_type": "code",
   "execution_count": null,
   "id": "787ca945-37aa-45bb-a145-6eae78e17f15",
   "metadata": {},
   "outputs": [],
   "source": [
    "all_feat_codebleu = evaluate_codebleu(file_name,  '0.25,0.25,0.25,0.25')\n",
    "all_feat_codebleu"
   ]
  },
  {
   "cell_type": "code",
   "execution_count": null,
   "id": "cfea7282-6062-4f7d-90a5-a125a706ec46",
   "metadata": {},
   "outputs": [],
   "source": [
    "all_pred_df = pd.read_csv(file_name)"
   ]
  },
  {
   "cell_type": "code",
   "execution_count": null,
   "id": "226e640f-c325-4783-89c1-4c9b0e62420e",
   "metadata": {
    "scrolled": true,
    "tags": []
   },
   "outputs": [],
   "source": [
    "all_report = evaluate_pred_df(all_pred_df, target_feats, is_nl=True)"
   ]
  },
  {
   "cell_type": "code",
   "execution_count": null,
   "id": "4d9bba96-7a56-4008-bfb2-6a1f422009c7",
   "metadata": {},
   "outputs": [],
   "source": [
    "for key, val in all_report.items():\n",
    "    if type(val) != list and len(val.shape) == 0:\n",
    "        print(key, \":\", val)"
   ]
  },
  {
   "cell_type": "markdown",
   "id": "45c683da-99cc-493c-b852-4b5a218c1af3",
   "metadata": {
    "jp-MarkdownHeadingCollapsed": true,
    "tags": []
   },
   "source": [
    "## codet5_finetuned_nl_casing_preds"
   ]
  },
  {
   "cell_type": "code",
   "execution_count": null,
   "id": "9c40b8fb-317b-454b-b54f-3d49b8d8baf0",
   "metadata": {},
   "outputs": [],
   "source": [
    "pred_csvfile = \"codet5_finetuned_contd_nl_casing_preds.csv\"\n",
    "file_name = f\"{folder}/{model_name}/{ckpt}/{pred_csvfile}\"\n",
    "target_feats = [\"casing\"]"
   ]
  },
  {
   "cell_type": "code",
   "execution_count": null,
   "id": "d456a7ff-8483-4df1-9978-a4f53883e5fa",
   "metadata": {},
   "outputs": [],
   "source": [
    "casing_codebleu = evaluate_codebleu(file_name,  '0.25,0.25,0.25,0.25')\n",
    "casing_codebleu"
   ]
  },
  {
   "cell_type": "code",
   "execution_count": null,
   "id": "7d836d88-1310-4a76-9706-e0c8db02d362",
   "metadata": {},
   "outputs": [],
   "source": [
    "casing_pred_df = pd.read_csv(file_name)"
   ]
  },
  {
   "cell_type": "code",
   "execution_count": null,
   "id": "34b2ab3a-4802-41ce-9387-64a5cc38e33e",
   "metadata": {
    "scrolled": true,
    "tags": []
   },
   "outputs": [],
   "source": [
    "casing_report = evaluate_pred_df(casing_pred_df, target_feats, is_nl=True)"
   ]
  },
  {
   "cell_type": "code",
   "execution_count": null,
   "id": "639101d8-902b-471e-a1b5-830e27bfcb11",
   "metadata": {},
   "outputs": [],
   "source": [
    "for key, val in casing_report.items():\n",
    "    if type(val) != list and len(val.shape) == 0:\n",
    "        print(key, \":\", val)"
   ]
  },
  {
   "cell_type": "markdown",
   "id": "10a9fb28-b1a8-4676-b7ec-a5c53658d542",
   "metadata": {
    "jp-MarkdownHeadingCollapsed": true,
    "tags": []
   },
   "source": [
    "## codet5_finetuned_nl_class_preds"
   ]
  },
  {
   "cell_type": "code",
   "execution_count": null,
   "id": "9474e258-afe3-4ecf-a2ed-71cf182a52c8",
   "metadata": {},
   "outputs": [],
   "source": [
    "pred_csvfile = \"codet5_finetuned_contd_nl_class_preds.csv\"\n",
    "file_name = f\"{folder}/{model_name}/{ckpt}/{pred_csvfile}\"\n",
    "target_feats = [\"class\"]"
   ]
  },
  {
   "cell_type": "code",
   "execution_count": null,
   "id": "c2953527-ff3c-47ed-9120-5d2ba94fab6e",
   "metadata": {},
   "outputs": [],
   "source": [
    "class_codebleu = evaluate_codebleu(file_name,  '0.25,0.25,0.25,0.25')\n",
    "class_codebleu"
   ]
  },
  {
   "cell_type": "code",
   "execution_count": null,
   "id": "25710315-0b07-4bb9-88cc-2ea96fbbee78",
   "metadata": {},
   "outputs": [],
   "source": [
    "class_pred_df = pd.read_csv(file_name)"
   ]
  },
  {
   "cell_type": "code",
   "execution_count": null,
   "id": "c44175af-e009-4d8d-90f3-2ee785b32856",
   "metadata": {
    "scrolled": true,
    "tags": []
   },
   "outputs": [],
   "source": [
    "class_report = evaluate_pred_df(class_pred_df, target_feats, is_nl=True)"
   ]
  },
  {
   "cell_type": "code",
   "execution_count": null,
   "id": "73ecc0f4-b324-472c-9c5e-d54620e0991c",
   "metadata": {},
   "outputs": [],
   "source": [
    "for key, val in class_report.items():\n",
    "    if type(val) != list and len(val.shape) == 0:\n",
    "        print(key, \":\", val)"
   ]
  },
  {
   "cell_type": "markdown",
   "id": "efe5f811-8b76-4804-a73b-221271a6c657",
   "metadata": {
    "jp-MarkdownHeadingCollapsed": true,
    "tags": []
   },
   "source": [
    "## codet5_finetuned_nl_list_comp_preds"
   ]
  },
  {
   "cell_type": "code",
   "execution_count": null,
   "id": "7631832a-bc56-4b5d-97ae-7a59ce277ef9",
   "metadata": {},
   "outputs": [],
   "source": [
    "pred_csvfile = \"codet5_finetuned_contd_nl_list_comp_preds.csv\"\n",
    "file_name = f\"{folder}/{model_name}/{ckpt}/{pred_csvfile}\"\n",
    "target_feats = [\"list_comp\"]"
   ]
  },
  {
   "cell_type": "code",
   "execution_count": null,
   "id": "c5dbd53c-479e-4c1a-8e56-3ab42ccfae0e",
   "metadata": {},
   "outputs": [],
   "source": [
    "list_comp_codebleu = evaluate_codebleu(file_name,  '0.25,0.25,0.25,0.25', is_exclude_same_io=True)\n",
    "list_comp_codebleu"
   ]
  },
  {
   "cell_type": "code",
   "execution_count": null,
   "id": "ef28f08f-00ec-4ffc-b9f4-dd389bbf677c",
   "metadata": {},
   "outputs": [],
   "source": [
    "list_comp_pred_df = pd.read_csv(file_name)\n",
    "list_comp_pred_df = exclude_same_io(list_comp_pred_df)"
   ]
  },
  {
   "cell_type": "code",
   "execution_count": null,
   "id": "c0de3155-4125-4b86-be1f-878b3c49a223",
   "metadata": {
    "scrolled": true,
    "tags": []
   },
   "outputs": [],
   "source": [
    "list_comp_report = evaluate_pred_df(list_comp_pred_df, target_feats, is_nl=True)"
   ]
  },
  {
   "cell_type": "code",
   "execution_count": null,
   "id": "5a36607a-c1d5-4372-9808-5d1e65925d1b",
   "metadata": {},
   "outputs": [],
   "source": [
    "for key, val in list_comp_report.items():\n",
    "    if type(val) != list and len(val.shape) == 0:\n",
    "        print(key, \":\", val)"
   ]
  },
  {
   "cell_type": "code",
   "execution_count": null,
   "id": "54344907-c9e4-45fa-a3eb-6a5cf6a9a37a",
   "metadata": {
    "tags": []
   },
   "outputs": [],
   "source": [
    "total = len(list_comp_pred_df)\n",
    "for idx in range(total):\n",
    "    if list_comp_report[\"diff_bleu\"][idx] >= 0.:\n",
    "        if list_comp_report[\"diff_bleu\"][idx] >= 0.3: continue\n",
    "        print_split_line(f\"{idx}-input\")\n",
    "        print(list_comp_report[\"inputs\"][idx])\n",
    "        print_split_line(f\"{idx}-prediction\")\n",
    "        print(list_comp_report[\"preds\"][idx])\n",
    "        print_split_line(f\"{idx}-gold labels\")\n",
    "        print(list_comp_report[\"labels\"][idx])\n",
    "        print_split_line(f\"{idx}-score\")\n",
    "        print(list_comp_report[\"diff_bleu\"][idx])"
   ]
  },
  {
   "cell_type": "markdown",
   "id": "9b9fb151-7c12-4bd6-b023-15520ffab0f7",
   "metadata": {
    "tags": []
   },
   "source": [
    "## codet5_finetuned_nl_docstring_preds"
   ]
  },
  {
   "cell_type": "code",
   "execution_count": null,
   "id": "cd6f93a7-8f5b-4419-a013-a3e0c621d4dd",
   "metadata": {},
   "outputs": [],
   "source": [
    "pred_csvfile = \"codet5_finetuned_contd_nl_docstring_preds.csv\"\n",
    "file_name = f\"{folder}/{model_name}/{ckpt}/{pred_csvfile}\"\n",
    "target_feats = [\"docstring\"]"
   ]
  },
  {
   "cell_type": "code",
   "execution_count": null,
   "id": "b2d259a8-4329-4f85-b65b-6d4a077af799",
   "metadata": {},
   "outputs": [],
   "source": [
    "docstring_codebleu = evaluate_codebleu(file_name,  '0.25,0.25,0.25,0.25')\n",
    "docstring_codebleu"
   ]
  },
  {
   "cell_type": "code",
   "execution_count": null,
   "id": "49bbc719-a0bd-4823-8c67-55002be466a0",
   "metadata": {},
   "outputs": [],
   "source": [
    "docstring_pred_df = pd.read_csv(file_name)"
   ]
  },
  {
   "cell_type": "code",
   "execution_count": null,
   "id": "a0ea083d-a769-4f7b-be48-70b9ca5d0075",
   "metadata": {
    "scrolled": true,
    "tags": []
   },
   "outputs": [],
   "source": [
    "docstring_report = evaluate_pred_df(docstring_pred_df, target_feats, is_nl=True)"
   ]
  },
  {
   "cell_type": "code",
   "execution_count": null,
   "id": "a01ddee2-45a9-4bf1-b09f-3223c65842e2",
   "metadata": {},
   "outputs": [],
   "source": [
    "for key, val in docstring_report.items():\n",
    "    if type(val) != list and len(val.shape) == 0:\n",
    "        print(key, \":\", val)"
   ]
  },
  {
   "cell_type": "markdown",
   "id": "686ed648-db99-4634-807d-7558398b50a8",
   "metadata": {
    "tags": []
   },
   "source": [
    "## codet5_finetuned_nl_comment_preds"
   ]
  },
  {
   "cell_type": "code",
   "execution_count": null,
   "id": "fb8ecc4c-f0f8-40a6-a23b-dd0637f37dc2",
   "metadata": {},
   "outputs": [],
   "source": [
    "pred_csvfile = \"codet5_finetuned_contd_nl_comment_preds.csv\"\n",
    "file_name = f\"{folder}/{model_name}/{ckpt}/{pred_csvfile}\"\n",
    "target_feats = [\"comment\"]"
   ]
  },
  {
   "cell_type": "code",
   "execution_count": null,
   "id": "c648ce62-29c0-4707-b707-788941151e13",
   "metadata": {},
   "outputs": [],
   "source": [
    "comment_codebleu = evaluate_codebleu(file_name,  '0.25,0.25,0.25,0.25', dropna=True, is_exclude_same_io=True)\n",
    "comment_codebleu"
   ]
  },
  {
   "cell_type": "code",
   "execution_count": null,
   "id": "3f85b768-dd93-411d-a945-21b93dcd9586",
   "metadata": {},
   "outputs": [],
   "source": [
    "comment_pred_df = pd.read_csv(file_name)"
   ]
  },
  {
   "cell_type": "code",
   "execution_count": null,
   "id": "b8036479-c1b2-4f35-ab20-e5be92e21c77",
   "metadata": {},
   "outputs": [],
   "source": [
    "# not sure why there is nan in preds, but just exclude it no matter what\n",
    "comment_pred_df = comment_pred_df.dropna()"
   ]
  },
  {
   "cell_type": "code",
   "execution_count": null,
   "id": "6916ada4-843f-4b6f-9030-95d3c6e99668",
   "metadata": {
    "scrolled": true,
    "tags": []
   },
   "outputs": [],
   "source": [
    "comment_report = evaluate_pred_df(comment_pred_df, target_feats, is_nl=True)"
   ]
  },
  {
   "cell_type": "code",
   "execution_count": null,
   "id": "fb8610fa-bf53-4427-8e13-0b50b1e3519e",
   "metadata": {},
   "outputs": [],
   "source": [
    "for key, val in comment_report.items():\n",
    "    if type(val) != list and len(val.shape) == 0:\n",
    "        print(key, \":\", val)"
   ]
  },
  {
   "cell_type": "markdown",
   "id": "f3c9587e-779a-4a64-8812-8e73478fca54",
   "metadata": {
    "jp-MarkdownHeadingCollapsed": true,
    "tags": []
   },
   "source": [
    "# CodeT5 Finetuned Contd Short (4 epochs)"
   ]
  },
  {
   "cell_type": "code",
   "execution_count": null,
   "id": "8350de74-45e9-4958-b73d-2f2800d1d6e5",
   "metadata": {},
   "outputs": [],
   "source": [
    "# combined_nl_prompt_base_features_contd_codet5small\n",
    "folder = \"seq2seq_results\"\n",
    "model_name = \"combined_nl_prompt_base_features_contd_codet5small\"\n",
    "ckpt = \"checkpoint-144856\""
   ]
  },
  {
   "cell_type": "markdown",
   "id": "02b26dcb-3531-4670-9065-a69c31c41220",
   "metadata": {
    "tags": []
   },
   "source": [
    "## codet5_finetuned_nl_casing_preds"
   ]
  },
  {
   "cell_type": "code",
   "execution_count": null,
   "id": "12953d00-819b-465a-8504-b0117e57f765",
   "metadata": {},
   "outputs": [],
   "source": [
    "pred_csvfile = \"codet5_finetuned_short_contd_casing_preds.csv\"\n",
    "file_name = f\"{folder}/{model_name}/{ckpt}/{pred_csvfile}\"\n",
    "target_feats = [\"casing\"]"
   ]
  },
  {
   "cell_type": "code",
   "execution_count": null,
   "id": "ecfb7cc3-77f6-4e1f-98be-be0c8f792d13",
   "metadata": {},
   "outputs": [],
   "source": [
    "casing_codebleu = evaluate_codebleu(file_name,  '0.25,0.25,0.25,0.25')\n",
    "casing_codebleu"
   ]
  },
  {
   "cell_type": "code",
   "execution_count": null,
   "id": "ed606eac-15a2-4a4f-9085-8b6d3699fd18",
   "metadata": {},
   "outputs": [],
   "source": [
    "casing_pred_df = pd.read_csv(file_name)"
   ]
  },
  {
   "cell_type": "code",
   "execution_count": null,
   "id": "3b00317d-5b49-427b-b1f1-d03119861da5",
   "metadata": {
    "scrolled": true,
    "tags": []
   },
   "outputs": [],
   "source": [
    "casing_report = evaluate_pred_df(casing_pred_df, target_feats, is_nl=True, parse_test=True)"
   ]
  },
  {
   "cell_type": "code",
   "execution_count": null,
   "id": "c1391d2d-3845-43fe-8237-a65c81ec86da",
   "metadata": {},
   "outputs": [],
   "source": [
    "for key, val in casing_report.items():\n",
    "    if type(val) != list and len(val.shape) == 0:\n",
    "        print(key, \":\", val)"
   ]
  },
  {
   "cell_type": "markdown",
   "id": "decd9bb9-f359-4ebe-b4c9-5452d1cc6c9b",
   "metadata": {
    "tags": []
   },
   "source": [
    "## codet5_finetuned_nl_class_preds"
   ]
  },
  {
   "cell_type": "code",
   "execution_count": null,
   "id": "bde05df1-15d5-4c6e-a48b-6f2052c2164d",
   "metadata": {},
   "outputs": [],
   "source": [
    "pred_csvfile = \"codet5_finetuned_short_contd_class_preds.csv\"\n",
    "file_name = f\"{folder}/{model_name}/{ckpt}/{pred_csvfile}\"\n",
    "target_feats = [\"class\"]"
   ]
  },
  {
   "cell_type": "code",
   "execution_count": null,
   "id": "6fe7d5e9-47b7-4841-a81d-dd4c96da967a",
   "metadata": {},
   "outputs": [],
   "source": [
    "class_codebleu = evaluate_codebleu(file_name,  '0.25,0.25,0.25,0.25')\n",
    "class_codebleu"
   ]
  },
  {
   "cell_type": "code",
   "execution_count": null,
   "id": "0ea3f9ed-4f43-43f3-b6a3-598bc8ed62c6",
   "metadata": {},
   "outputs": [],
   "source": [
    "class_pred_df = pd.read_csv(file_name)"
   ]
  },
  {
   "cell_type": "code",
   "execution_count": null,
   "id": "58d755f8-afea-44ae-82fb-a4e589e3064d",
   "metadata": {
    "scrolled": true,
    "tags": []
   },
   "outputs": [],
   "source": [
    "class_report = evaluate_pred_df(class_pred_df, target_feats, is_nl=True, parse_test=True)"
   ]
  },
  {
   "cell_type": "code",
   "execution_count": null,
   "id": "982c5546-c065-4a45-a67a-a5676c677d98",
   "metadata": {},
   "outputs": [],
   "source": [
    "for key, val in class_report.items():\n",
    "    if type(val) != list and len(val.shape) == 0:\n",
    "        print(key, \":\", val)"
   ]
  },
  {
   "cell_type": "markdown",
   "id": "5653e2fc-7428-47b9-993c-5443e74f3d4e",
   "metadata": {
    "tags": []
   },
   "source": [
    "## codet5_finetuned_nl_list_comp_preds"
   ]
  },
  {
   "cell_type": "code",
   "execution_count": null,
   "id": "4180a56d-fd52-4f93-8fcd-84375dc97c2a",
   "metadata": {},
   "outputs": [],
   "source": [
    "pred_csvfile = \"codet5_finetuned_short_contd_list_comp_preds.csv\"\n",
    "file_name = f\"{folder}/{model_name}/{ckpt}/{pred_csvfile}\"\n",
    "target_feats = [\"list_comp\"]"
   ]
  },
  {
   "cell_type": "code",
   "execution_count": null,
   "id": "4cd9f27a-7be3-467e-a98e-69afdca892cc",
   "metadata": {},
   "outputs": [],
   "source": [
    "list_comp_codebleu = evaluate_codebleu(file_name,  '0.25,0.25,0.25,0.25', is_exclude_same_io=True)\n",
    "list_comp_codebleu"
   ]
  },
  {
   "cell_type": "code",
   "execution_count": null,
   "id": "1bab2e17-f702-4a7e-a0fe-8eb4944b785e",
   "metadata": {},
   "outputs": [],
   "source": [
    "list_comp_pred_df = pd.read_csv(file_name)\n",
    "list_comp_pred_df = exclude_same_io(list_comp_pred_df)"
   ]
  },
  {
   "cell_type": "code",
   "execution_count": null,
   "id": "5b368c39-0564-4a16-95c4-860aa8b782d0",
   "metadata": {
    "scrolled": true,
    "tags": []
   },
   "outputs": [],
   "source": [
    "list_comp_report = evaluate_pred_df(list_comp_pred_df, target_feats, is_nl=True, parse_test=True)"
   ]
  },
  {
   "cell_type": "code",
   "execution_count": null,
   "id": "6fcdea4c-9695-4fcf-8a1a-f5e4637c1c38",
   "metadata": {},
   "outputs": [],
   "source": [
    "for key, val in list_comp_report.items():\n",
    "    if type(val) != list and len(val.shape) == 0:\n",
    "        print(key, \":\", val)"
   ]
  },
  {
   "cell_type": "markdown",
   "id": "2e0be50f-9d38-45e3-af7d-5ee2e005e195",
   "metadata": {
    "tags": []
   },
   "source": [
    "## codet5_finetuned_nl_docstring_preds"
   ]
  },
  {
   "cell_type": "code",
   "execution_count": null,
   "id": "6b1420d4-5358-4939-8016-71850f7ac85c",
   "metadata": {},
   "outputs": [],
   "source": [
    "pred_csvfile = \"codet5_finetuned_short_contd_docstring_preds.csv\"\n",
    "file_name = f\"{folder}/{model_name}/{ckpt}/{pred_csvfile}\"\n",
    "target_feats = [\"docstring\"]"
   ]
  },
  {
   "cell_type": "code",
   "execution_count": null,
   "id": "b4b0df21-2afb-498d-8672-ac13b1a13f73",
   "metadata": {},
   "outputs": [],
   "source": [
    "docstring_codebleu = evaluate_codebleu(file_name,  '0.25,0.25,0.25,0.25')\n",
    "docstring_codebleu"
   ]
  },
  {
   "cell_type": "code",
   "execution_count": null,
   "id": "8855078f-2184-4574-9375-7e59e727c41c",
   "metadata": {},
   "outputs": [],
   "source": [
    "docstring_pred_df = pd.read_csv(file_name)"
   ]
  },
  {
   "cell_type": "code",
   "execution_count": null,
   "id": "540e8684-57fa-4590-9c2c-72461a351ed2",
   "metadata": {
    "scrolled": true,
    "tags": []
   },
   "outputs": [],
   "source": [
    "docstring_report = evaluate_pred_df(docstring_pred_df, target_feats, is_nl=True, parse_test=True)"
   ]
  },
  {
   "cell_type": "code",
   "execution_count": null,
   "id": "53b11f65-5cfc-4a33-9708-a632418d0382",
   "metadata": {},
   "outputs": [],
   "source": [
    "for key, val in docstring_report.items():\n",
    "    if type(val) != list and len(val.shape) == 0:\n",
    "        print(key, \":\", val)"
   ]
  },
  {
   "cell_type": "markdown",
   "id": "d53033ea-42b6-457d-af74-2f14b99c8b93",
   "metadata": {
    "tags": []
   },
   "source": [
    "## codet5_finetuned_nl_comment_preds"
   ]
  },
  {
   "cell_type": "code",
   "execution_count": null,
   "id": "d8a548ee-01c5-4a93-9ad5-b8db328cf4ab",
   "metadata": {},
   "outputs": [],
   "source": [
    "pred_csvfile = \"codet5_finetuned_short_contd_comment_preds.csv\"\n",
    "file_name = f\"{folder}/{model_name}/{ckpt}/{pred_csvfile}\"\n",
    "target_feats = [\"comment\"]"
   ]
  },
  {
   "cell_type": "code",
   "execution_count": null,
   "id": "e83b24b5-085c-46e9-bd41-f10306e750e4",
   "metadata": {},
   "outputs": [],
   "source": [
    "comment_codebleu = evaluate_codebleu(file_name,  '0.25,0.25,0.25,0.25', dropna=True, is_exclude_same_io=True)\n",
    "comment_codebleu"
   ]
  },
  {
   "cell_type": "code",
   "execution_count": null,
   "id": "b31b16d1-f03b-408e-b279-999f6ad533ac",
   "metadata": {},
   "outputs": [],
   "source": [
    "comment_pred_df = pd.read_csv(file_name)"
   ]
  },
  {
   "cell_type": "code",
   "execution_count": null,
   "id": "0fcc2027-2d73-4b04-b696-366e022a17e1",
   "metadata": {},
   "outputs": [],
   "source": [
    "# not sure why there is nan in preds, but just exclude it no matter what\n",
    "comment_pred_df = comment_pred_df.dropna()"
   ]
  },
  {
   "cell_type": "code",
   "execution_count": null,
   "id": "6f5ff2e5-6818-4b29-bbe7-0cc676d8a327",
   "metadata": {
    "scrolled": true,
    "tags": []
   },
   "outputs": [],
   "source": [
    "comment_report = evaluate_pred_df(comment_pred_df, target_feats, is_nl=True, parse_test=True)"
   ]
  },
  {
   "cell_type": "code",
   "execution_count": null,
   "id": "8eca9ec3-6454-471b-911f-00f84cb39ac8",
   "metadata": {},
   "outputs": [],
   "source": [
    "for key, val in comment_report.items():\n",
    "    if type(val) != list and len(val.shape) == 0:\n",
    "        print(key, \":\", val)"
   ]
  },
  {
   "cell_type": "markdown",
   "id": "1ae8528f-358b-4d6d-ad5e-037528150b88",
   "metadata": {
    "jp-MarkdownHeadingCollapsed": true,
    "tags": []
   },
   "source": [
    "# CodeT5 Finetuned Contd Combine Epoch 4"
   ]
  },
  {
   "cell_type": "markdown",
   "id": "927121d6-72df-49ec-8e91-a0aeb123f8d5",
   "metadata": {
    "jp-MarkdownHeadingCollapsed": true,
    "tags": []
   },
   "source": [
    "## codet5_finetuned_contd_nl_docstring_comment_preds.csv"
   ]
  },
  {
   "cell_type": "code",
   "execution_count": null,
   "id": "81271de2-ecc9-4aaf-83d0-4b4d8e473d9d",
   "metadata": {},
   "outputs": [],
   "source": [
    "pred_csvfile = \"codet5_finetuned_contd_nl_docstring_comment_preds.csv\"\n",
    "file_name = f\"{folder}/{model_name}/{ckpt}/{pred_csvfile}\"\n",
    "target_feats = [\"comment\", \"docstring\"]"
   ]
  },
  {
   "cell_type": "code",
   "execution_count": null,
   "id": "087f88b4-b641-4aed-aeba-992b670904d7",
   "metadata": {},
   "outputs": [],
   "source": [
    "codebleu = evaluate_codebleu(file_name,  '0.25,0.25,0.25,0.25', dropna=True, is_exclude_same_io=True)\n",
    "codebleu"
   ]
  },
  {
   "cell_type": "code",
   "execution_count": null,
   "id": "31e9796b-f141-448a-8156-32dddefd5533",
   "metadata": {},
   "outputs": [],
   "source": [
    "pred_df = pd.read_csv(file_name)"
   ]
  },
  {
   "cell_type": "code",
   "execution_count": null,
   "id": "93a1c7a6-080a-4610-a040-7293f84206cf",
   "metadata": {},
   "outputs": [],
   "source": [
    "# not sure why there is nan in preds, but just exclude it no matter what\n",
    "pred_df = pred_df.dropna()"
   ]
  },
  {
   "cell_type": "code",
   "execution_count": null,
   "id": "d0e0d07b-25da-4a2f-85c9-acb8949a98e7",
   "metadata": {
    "scrolled": true,
    "tags": []
   },
   "outputs": [],
   "source": [
    "report = evaluate_pred_df(pred_df, target_feats, is_nl=True)"
   ]
  },
  {
   "cell_type": "code",
   "execution_count": null,
   "id": "342c98fd-e9a2-4612-9278-f6a81d859713",
   "metadata": {},
   "outputs": [],
   "source": [
    "for key, val in report.items():\n",
    "    if type(val) != list and len(val.shape) == 0:\n",
    "        print(key, \":\", val)"
   ]
  },
  {
   "cell_type": "markdown",
   "id": "19b3994d-aa0a-41eb-a727-e01d77e57d32",
   "metadata": {
    "jp-MarkdownHeadingCollapsed": true,
    "tags": []
   },
   "source": [
    "## codet5_finetuned_contd_nl_tok_type_4_class_casing_preds.csv"
   ]
  },
  {
   "cell_type": "code",
   "execution_count": null,
   "id": "f1221099-033c-46bc-825e-e0e153e4761f",
   "metadata": {},
   "outputs": [],
   "source": [
    "pred_csvfile = \"codet5_finetuned_contd_nl_tok_type_4_class_casing_preds.csv\"\n",
    "file_name = f\"{folder}/{model_name}/{ckpt}/{pred_csvfile}\"\n",
    "target_feats = [\"class\", \"casing\"]"
   ]
  },
  {
   "cell_type": "code",
   "execution_count": null,
   "id": "996f3a94-765f-4b8c-8c30-769ed999d1a1",
   "metadata": {},
   "outputs": [],
   "source": [
    "codebleu = evaluate_codebleu(file_name,  '0.25,0.25,0.25,0.25', dropna=True, is_exclude_same_io=True)\n",
    "codebleu"
   ]
  },
  {
   "cell_type": "code",
   "execution_count": null,
   "id": "3de312cf-8a61-4466-ad82-512906e0ad0e",
   "metadata": {},
   "outputs": [],
   "source": [
    "pred_df = pd.read_csv(file_name)"
   ]
  },
  {
   "cell_type": "code",
   "execution_count": null,
   "id": "cbdbbb64-736e-42a8-ab1a-d99c6fcbec15",
   "metadata": {},
   "outputs": [],
   "source": [
    "# not sure why there is nan in preds, but just exclude it no matter what\n",
    "pred_df = pred_df.dropna()"
   ]
  },
  {
   "cell_type": "code",
   "execution_count": null,
   "id": "1fff6803-c7bc-4b71-a265-6e2f6c740ea5",
   "metadata": {
    "scrolled": true,
    "tags": []
   },
   "outputs": [],
   "source": [
    "report = evaluate_pred_df(pred_df, target_feats, is_nl=True)"
   ]
  },
  {
   "cell_type": "code",
   "execution_count": null,
   "id": "aa04f7b1-bce2-4bef-82de-f807463cf736",
   "metadata": {},
   "outputs": [],
   "source": [
    "for key, val in report.items():\n",
    "    if type(val) != list and len(val.shape) == 0:\n",
    "        print(key, \":\", val)"
   ]
  },
  {
   "cell_type": "markdown",
   "id": "dc775802-b41b-4567-807f-fcbca6f66bcd",
   "metadata": {
    "tags": []
   },
   "source": [
    "## codet5_finetuned_contd_nl_tok_type_4_list_comp_class_casing_preds.csv"
   ]
  },
  {
   "cell_type": "code",
   "execution_count": null,
   "id": "01f04b53-537a-4e08-9fcd-a5d62a8d90da",
   "metadata": {},
   "outputs": [],
   "source": [
    "pred_csvfile = \"codet5_finetuned_contd_nl_tok_type_4_list_comp_class_casing_preds.csv\"\n",
    "file_name = f\"{folder}/{model_name}/{ckpt}/{pred_csvfile}\"\n",
    "target_feats = [\"class\", \"casing\", \"list_comp\"]"
   ]
  },
  {
   "cell_type": "code",
   "execution_count": null,
   "id": "d217774b-d035-4d3d-9092-7c0ee0756f8d",
   "metadata": {},
   "outputs": [],
   "source": [
    "codebleu = evaluate_codebleu(file_name,  '0.25,0.25,0.25,0.25', dropna=True, is_exclude_same_io=True)\n",
    "codebleu"
   ]
  },
  {
   "cell_type": "code",
   "execution_count": null,
   "id": "d6082e57-6663-487e-9ebf-57e7b029415f",
   "metadata": {},
   "outputs": [],
   "source": [
    "pred_df = pd.read_csv(file_name)"
   ]
  },
  {
   "cell_type": "code",
   "execution_count": null,
   "id": "b93ba1cf-7288-47cf-9612-75f837a781c8",
   "metadata": {},
   "outputs": [],
   "source": [
    "# not sure why there is nan in preds, but just exclude it no matter what\n",
    "pred_df = pred_df.dropna()"
   ]
  },
  {
   "cell_type": "code",
   "execution_count": null,
   "id": "7c397341-acec-4078-b346-a1b719bad75e",
   "metadata": {
    "scrolled": true,
    "tags": []
   },
   "outputs": [],
   "source": [
    "report = evaluate_pred_df(pred_df, target_feats, is_nl=True)"
   ]
  },
  {
   "cell_type": "code",
   "execution_count": null,
   "id": "1d4edeb3-583b-406a-81ac-5238591621ee",
   "metadata": {},
   "outputs": [],
   "source": [
    "for key, val in report.items():\n",
    "    if type(val) != list and len(val.shape) == 0:\n",
    "        print(key, \":\", val)"
   ]
  },
  {
   "cell_type": "code",
   "execution_count": null,
   "id": "8ce1e493-f226-4d36-9f9f-0505bd8b280b",
   "metadata": {},
   "outputs": [],
   "source": [
    "lookup_examples(report, 1, 0.2, metric=\"diff_bleu\", start_idx=0, count=\"all\")"
   ]
  },
  {
   "cell_type": "markdown",
   "id": "5c379a46-6493-47a3-92a1-c16a1a0a993b",
   "metadata": {
    "jp-MarkdownHeadingCollapsed": true,
    "tags": []
   },
   "source": [
    "# CodeT5 Finetuned Contd Combine Short Epoch 4"
   ]
  },
  {
   "cell_type": "markdown",
   "id": "59bf0d13-c619-499f-9030-6c5874b32cf4",
   "metadata": {},
   "source": [
    "-rw-r--r-- 1 cting3 grads    274746 Aug 17 19:50 codet5_finetuned_short_contd_docstring_list_comp_class_casing_comment_preds.csv \n",
    "-rw-r--r-- 1 cting3 grads   5356738 Aug 17 19:50 codet5_finetuned_short_contd_docstring_comment_preds.csv\n",
    "-rw-r--r-- 1 cting3 grads   1321747 Aug 17 19:41 codet5_finetuned_short_contd_list_comp_class_casing_preds.csv\n",
    "-rw-r--r-- 1 cting3 grads   4241306 Aug 17 19:39 codet5_finetuned_short_contd_class_casing_preds.csv"
   ]
  },
  {
   "cell_type": "code",
   "execution_count": null,
   "id": "d72ca3f5-127d-41cb-ba62-e16b7860000a",
   "metadata": {},
   "outputs": [],
   "source": [
    "# combined_nl_prompt_base_features_contd_codet5small\n",
    "folder = \"seq2seq_results\"\n",
    "model_name = \"combined_nl_prompt_base_features_contd_codet5small\"\n",
    "ckpt = \"checkpoint-144856\""
   ]
  },
  {
   "cell_type": "markdown",
   "id": "944a0810-2d09-46c9-b249-abe53e3ef32b",
   "metadata": {
    "tags": []
   },
   "source": [
    "## docstring + list_comp + class + casing + comment"
   ]
  },
  {
   "cell_type": "code",
   "execution_count": null,
   "id": "713fecf4-c37d-4a31-9542-d680ce600765",
   "metadata": {},
   "outputs": [],
   "source": [
    "pred_csvfile = \"codet5_finetuned_short_contd_docstring_list_comp_class_casing_comment_preds.csv\"\n",
    "file_name = f\"{folder}/{model_name}/{ckpt}/{pred_csvfile}\"\n",
    "target_feats = [\"comment\", \"docstring\"]"
   ]
  },
  {
   "cell_type": "code",
   "execution_count": null,
   "id": "ba909569-d98c-4b4f-822d-03ec0c6657f2",
   "metadata": {},
   "outputs": [],
   "source": [
    "codebleu = evaluate_codebleu(file_name,  '0.25,0.25,0.25,0.25', dropna=True, is_exclude_same_io=True)\n",
    "codebleu"
   ]
  },
  {
   "cell_type": "code",
   "execution_count": null,
   "id": "8dc85732-7d93-417b-94c5-8cf510584366",
   "metadata": {},
   "outputs": [],
   "source": [
    "pred_df = pd.read_csv(file_name)"
   ]
  },
  {
   "cell_type": "code",
   "execution_count": null,
   "id": "d647b651-bf57-4a3d-b606-94952b3243aa",
   "metadata": {},
   "outputs": [],
   "source": [
    "# not sure why there is nan in preds, but just exclude it no matter what\n",
    "pred_df = pred_df.dropna()"
   ]
  },
  {
   "cell_type": "code",
   "execution_count": null,
   "id": "58e7566e-cbb9-4a80-bfa4-4c49fef6242f",
   "metadata": {
    "scrolled": true,
    "tags": []
   },
   "outputs": [],
   "source": [
    "report = evaluate_pred_df(pred_df, target_feats, is_nl=True, parse_test=True)"
   ]
  },
  {
   "cell_type": "code",
   "execution_count": null,
   "id": "ac02df7f-5ea9-4e22-807e-7c73daf11bea",
   "metadata": {},
   "outputs": [],
   "source": [
    "for key, val in report.items():\n",
    "    if type(val) != list and len(val.shape) == 0:\n",
    "        print(key, \":\", val)"
   ]
  },
  {
   "cell_type": "code",
   "execution_count": null,
   "id": "64592841-cbd3-4894-b997-03c044e12c37",
   "metadata": {
    "scrolled": true,
    "tags": []
   },
   "outputs": [],
   "source": [
    "lookup_examples(report, 1, 0, metric=\"diff_bleu\")"
   ]
  },
  {
   "cell_type": "markdown",
   "id": "0e6b3234-393e-497c-96b9-ed610f801a44",
   "metadata": {
    "tags": []
   },
   "source": [
    "## docstring + comment"
   ]
  },
  {
   "cell_type": "code",
   "execution_count": null,
   "id": "31293ae4-978a-46c3-ada5-2d1e96d4acc3",
   "metadata": {},
   "outputs": [],
   "source": [
    "pred_csvfile = \"codet5_finetuned_short_contd_docstring_comment_preds.csv\"\n",
    "file_name = f\"{folder}/{model_name}/{ckpt}/{pred_csvfile}\"\n",
    "target_feats = [\"comment\", \"docstring\"]"
   ]
  },
  {
   "cell_type": "code",
   "execution_count": null,
   "id": "aab836f0-e04a-43d3-8411-2760ad7a12c9",
   "metadata": {},
   "outputs": [],
   "source": [
    "codebleu = evaluate_codebleu(file_name,  '0.25,0.25,0.25,0.25', dropna=True, is_exclude_same_io=True)\n",
    "codebleu"
   ]
  },
  {
   "cell_type": "code",
   "execution_count": null,
   "id": "98ad100e-1b11-47e3-b544-ddea89a52eb7",
   "metadata": {},
   "outputs": [],
   "source": [
    "pred_df = pd.read_csv(file_name)"
   ]
  },
  {
   "cell_type": "code",
   "execution_count": null,
   "id": "32e120cb-ebad-4ce9-bd23-c2a54b25566b",
   "metadata": {},
   "outputs": [],
   "source": [
    "# not sure why there is nan in preds, but just exclude it no matter what\n",
    "pred_df = pred_df.dropna()"
   ]
  },
  {
   "cell_type": "code",
   "execution_count": null,
   "id": "f4133667-5abd-48e6-9eaa-b8edec52d23a",
   "metadata": {
    "scrolled": true,
    "tags": []
   },
   "outputs": [],
   "source": [
    "report = evaluate_pred_df(pred_df, target_feats, is_nl=True, parse_test=True)"
   ]
  },
  {
   "cell_type": "code",
   "execution_count": null,
   "id": "6fe3edac-1e2a-4bd3-92cc-1550a07146f5",
   "metadata": {},
   "outputs": [],
   "source": [
    "for key, val in report.items():\n",
    "    if type(val) != list and len(val.shape) == 0:\n",
    "        print(key, \":\", val)"
   ]
  },
  {
   "cell_type": "markdown",
   "id": "842f79d1-f7e3-4b18-8550-57b62247899d",
   "metadata": {
    "tags": []
   },
   "source": [
    "## class+casing"
   ]
  },
  {
   "cell_type": "code",
   "execution_count": null,
   "id": "6333b9c8-4f0a-4b40-b521-ae0c79cdce71",
   "metadata": {},
   "outputs": [],
   "source": [
    "pred_csvfile = \"codet5_finetuned_short_contd_class_casing_preds.csv\"\n",
    "file_name = f\"{folder}/{model_name}/{ckpt}/{pred_csvfile}\"\n",
    "target_feats = [\"class\", \"casing\"]"
   ]
  },
  {
   "cell_type": "code",
   "execution_count": null,
   "id": "22b986b9-76b6-4213-9c8d-e615a35163b7",
   "metadata": {},
   "outputs": [],
   "source": [
    "codebleu = evaluate_codebleu(file_name,  '0.25,0.25,0.25,0.25', dropna=True, is_exclude_same_io=True)\n",
    "codebleu"
   ]
  },
  {
   "cell_type": "code",
   "execution_count": null,
   "id": "ff0a09f3-b5d1-4a94-9786-74da9eb8e47f",
   "metadata": {},
   "outputs": [],
   "source": [
    "pred_df = pd.read_csv(file_name)"
   ]
  },
  {
   "cell_type": "code",
   "execution_count": null,
   "id": "37f5e823-7ff3-422d-ba88-fdd7430c1a53",
   "metadata": {},
   "outputs": [],
   "source": [
    "# not sure why there is nan in preds, but just exclude it no matter what\n",
    "pred_df = pred_df.dropna()"
   ]
  },
  {
   "cell_type": "code",
   "execution_count": null,
   "id": "e0e758cc-ba19-4e82-8097-4b4ce11eddab",
   "metadata": {
    "scrolled": true,
    "tags": []
   },
   "outputs": [],
   "source": [
    "report = evaluate_pred_df(pred_df, target_feats, is_nl=True, parse_test=True)"
   ]
  },
  {
   "cell_type": "code",
   "execution_count": null,
   "id": "926ae651-19f4-49c8-9aa1-5c66934d8c78",
   "metadata": {},
   "outputs": [],
   "source": [
    "for key, val in report.items():\n",
    "    if type(val) != list and len(val.shape) == 0:\n",
    "        print(key, \":\", val)"
   ]
  },
  {
   "cell_type": "code",
   "execution_count": null,
   "id": "c413a202-3fbd-4819-bf6a-fcee61eb7635",
   "metadata": {
    "tags": []
   },
   "outputs": [],
   "source": [
    "lookup_examples(report, 1.1, 0.8, metric=\"diff_bleu\")"
   ]
  },
  {
   "cell_type": "code",
   "execution_count": null,
   "id": "a0341fec-8e53-4032-b9d6-08795803e48e",
   "metadata": {
    "scrolled": true,
    "tags": []
   },
   "outputs": [],
   "source": [
    "lookup_examples(report, 0.8, 0, metric=\"diff_bleu\")"
   ]
  },
  {
   "cell_type": "markdown",
   "id": "665ae5cc-2b45-4ddd-85f9-c6c9832967ff",
   "metadata": {},
   "source": [
    "## list_comp+class+casing"
   ]
  },
  {
   "cell_type": "code",
   "execution_count": null,
   "id": "ed46ea6b-731f-4bc3-8468-3a59668c28b3",
   "metadata": {},
   "outputs": [],
   "source": [
    "pred_csvfile = \"codet5_finetuned_short_contd_list_comp_class_casing_preds.csv\"\n",
    "file_name = f\"{folder}/{model_name}/{ckpt}/{pred_csvfile}\"\n",
    "target_feats = [\"class\", \"casing\", \"list_comp\"]"
   ]
  },
  {
   "cell_type": "code",
   "execution_count": null,
   "id": "813db14c-728a-4f6b-8e52-783182d85372",
   "metadata": {},
   "outputs": [],
   "source": [
    "codebleu = evaluate_codebleu(file_name,  '0.25,0.25,0.25,0.25', dropna=True, is_exclude_same_io=True)\n",
    "codebleu"
   ]
  },
  {
   "cell_type": "code",
   "execution_count": null,
   "id": "e5a21f1d-72f5-4385-8dfd-da49d930ab73",
   "metadata": {},
   "outputs": [],
   "source": [
    "pred_df = pd.read_csv(file_name)"
   ]
  },
  {
   "cell_type": "code",
   "execution_count": null,
   "id": "87a336de-df44-49c6-af33-a9128e680480",
   "metadata": {},
   "outputs": [],
   "source": [
    "# not sure why there is nan in preds, but just exclude it no matter what\n",
    "pred_df = pred_df.dropna()"
   ]
  },
  {
   "cell_type": "code",
   "execution_count": null,
   "id": "b540d1dc-2250-4216-9fa3-b9763a577098",
   "metadata": {
    "scrolled": true,
    "tags": []
   },
   "outputs": [],
   "source": [
    "report = evaluate_pred_df(pred_df, target_feats, is_nl=True, parse_test=True)"
   ]
  },
  {
   "cell_type": "code",
   "execution_count": null,
   "id": "2d222514-e96f-42ab-90d5-aee398116645",
   "metadata": {},
   "outputs": [],
   "source": [
    "for key, val in report.items():\n",
    "    if type(val) != list and len(val.shape) == 0:\n",
    "        print(key, \":\", val)"
   ]
  },
  {
   "cell_type": "code",
   "execution_count": null,
   "id": "b57677c1-2b03-4102-85b5-6261d7217340",
   "metadata": {
    "scrolled": true,
    "tags": []
   },
   "outputs": [],
   "source": [
    "lookup_examples(report, 1.1, 0, metric=\"diff_bleu\")"
   ]
  },
  {
   "cell_type": "markdown",
   "id": "85a37799-c7e0-442a-a037-e9729dfa311f",
   "metadata": {
    "jp-MarkdownHeadingCollapsed": true,
    "tags": []
   },
   "source": [
    "# CodeT5 Finetuned Contd Short 8 epoch"
   ]
  },
  {
   "cell_type": "code",
   "execution_count": null,
   "id": "c70c4161-885c-4065-ab92-6cd3e91763ae",
   "metadata": {},
   "outputs": [],
   "source": [
    "# combined_nl_prompt_base_features_contd_codet5small\n",
    "folder = \"seq2seq_results\"\n",
    "model_name = \"combined_nl_prompt_base_features_contd_codet5small\"\n",
    "ckpt = \"checkpoint-434568\""
   ]
  },
  {
   "cell_type": "markdown",
   "id": "24f85f12-3f57-4746-b570-47c89b9b4c78",
   "metadata": {
    "tags": []
   },
   "source": [
    "## codet5_finetuned_nl_casing_preds"
   ]
  },
  {
   "cell_type": "code",
   "execution_count": null,
   "id": "99040b0e-d129-4d06-8ef1-254f2826c9cb",
   "metadata": {},
   "outputs": [],
   "source": [
    "pred_csvfile = \"codet5_finetuned_short_contd_casing_preds.csv\"\n",
    "file_name = f\"{folder}/{model_name}/{ckpt}/{pred_csvfile}\"\n",
    "target_feats = [\"casing\"]"
   ]
  },
  {
   "cell_type": "code",
   "execution_count": null,
   "id": "a68c8459-38a5-4f77-af98-e05bb568ce69",
   "metadata": {},
   "outputs": [],
   "source": [
    "casing_codebleu = evaluate_codebleu(file_name,  '0.25,0.25,0.25,0.25')\n",
    "casing_codebleu"
   ]
  },
  {
   "cell_type": "code",
   "execution_count": null,
   "id": "4f826c60-89ee-49e2-9613-234244a15ee5",
   "metadata": {},
   "outputs": [],
   "source": [
    "casing_pred_df = pd.read_csv(file_name)"
   ]
  },
  {
   "cell_type": "code",
   "execution_count": null,
   "id": "44e23fc2-ff46-4226-b255-ecf06d98547a",
   "metadata": {
    "scrolled": true,
    "tags": []
   },
   "outputs": [],
   "source": [
    "casing_report = evaluate_pred_df(casing_pred_df, target_feats, is_nl=True, parse_test=True)"
   ]
  },
  {
   "cell_type": "code",
   "execution_count": null,
   "id": "46877108-977e-4353-a1ab-c48a4c2d8da8",
   "metadata": {},
   "outputs": [],
   "source": [
    "for key, val in casing_report.items():\n",
    "    if type(val) != list and len(val.shape) == 0:\n",
    "        print(key, \":\", val)"
   ]
  },
  {
   "cell_type": "markdown",
   "id": "2078824b-6edf-485d-990c-1f816c53acdc",
   "metadata": {
    "tags": []
   },
   "source": [
    "## codet5_finetuned_nl_class_preds"
   ]
  },
  {
   "cell_type": "code",
   "execution_count": null,
   "id": "7edb7963-dde4-4d9d-9cde-b3b8e7044fae",
   "metadata": {},
   "outputs": [],
   "source": [
    "pred_csvfile = \"codet5_finetuned_short_contd_class_preds.csv\"\n",
    "file_name = f\"{folder}/{model_name}/{ckpt}/{pred_csvfile}\"\n",
    "target_feats = [\"class\"]"
   ]
  },
  {
   "cell_type": "code",
   "execution_count": null,
   "id": "3cc7d4cd-543f-4a46-93c3-6887425c7905",
   "metadata": {},
   "outputs": [],
   "source": [
    "class_codebleu = evaluate_codebleu(file_name,  '0.25,0.25,0.25,0.25')\n",
    "class_codebleu"
   ]
  },
  {
   "cell_type": "code",
   "execution_count": null,
   "id": "49189641-9e02-4818-a848-c35702401720",
   "metadata": {},
   "outputs": [],
   "source": [
    "class_pred_df = pd.read_csv(file_name)"
   ]
  },
  {
   "cell_type": "code",
   "execution_count": null,
   "id": "b0bd6799-1fee-4115-9fa9-95385011e1a8",
   "metadata": {
    "scrolled": true,
    "tags": []
   },
   "outputs": [],
   "source": [
    "class_report = evaluate_pred_df(class_pred_df, target_feats, is_nl=True, parse_test=True)"
   ]
  },
  {
   "cell_type": "code",
   "execution_count": null,
   "id": "27a8e889-e5a4-4799-949c-5c58e7cc2d4f",
   "metadata": {},
   "outputs": [],
   "source": [
    "for key, val in class_report.items():\n",
    "    if type(val) != list and len(val.shape) == 0:\n",
    "        print(key, \":\", val)"
   ]
  },
  {
   "cell_type": "markdown",
   "id": "118bc8b5-043a-464d-a5c8-bf793ce82804",
   "metadata": {
    "tags": []
   },
   "source": [
    "## codet5_finetuned_nl_list_comp_preds"
   ]
  },
  {
   "cell_type": "code",
   "execution_count": null,
   "id": "297b9a05-09e4-492e-a8fb-5380e96ccea4",
   "metadata": {},
   "outputs": [],
   "source": [
    "pred_csvfile = \"codet5_finetuned_short_contd_list_comp_preds.csv\"\n",
    "file_name = f\"{folder}/{model_name}/{ckpt}/{pred_csvfile}\"\n",
    "target_feats = [\"list_comp\"]"
   ]
  },
  {
   "cell_type": "code",
   "execution_count": null,
   "id": "010811f2-6ab5-4f73-a1cd-56de93c544da",
   "metadata": {},
   "outputs": [],
   "source": [
    "list_comp_codebleu = evaluate_codebleu(file_name,  '0.25,0.25,0.25,0.25', is_exclude_same_io=True)\n",
    "list_comp_codebleu"
   ]
  },
  {
   "cell_type": "code",
   "execution_count": null,
   "id": "2753ae1c-da81-4f15-81ff-53924fc66447",
   "metadata": {},
   "outputs": [],
   "source": [
    "list_comp_pred_df = pd.read_csv(file_name)\n",
    "list_comp_pred_df = exclude_same_io(list_comp_pred_df)"
   ]
  },
  {
   "cell_type": "code",
   "execution_count": null,
   "id": "ae1c2c67-1664-44be-b5ce-b1bf1cb4217b",
   "metadata": {
    "scrolled": true,
    "tags": []
   },
   "outputs": [],
   "source": [
    "list_comp_report = evaluate_pred_df(list_comp_pred_df, target_feats, is_nl=True, parse_test=True)"
   ]
  },
  {
   "cell_type": "code",
   "execution_count": null,
   "id": "85b13a31-fd77-4171-96d4-cecc63302162",
   "metadata": {},
   "outputs": [],
   "source": [
    "for key, val in list_comp_report.items():\n",
    "    if type(val) != list and len(val.shape) == 0:\n",
    "        print(key, \":\", val)"
   ]
  },
  {
   "cell_type": "markdown",
   "id": "c9850c3b-a0bd-4bfd-83b5-5a5e55e680db",
   "metadata": {
    "tags": []
   },
   "source": [
    "## codet5_finetuned_nl_docstring_preds"
   ]
  },
  {
   "cell_type": "code",
   "execution_count": null,
   "id": "935ea3ca-6b9b-4be2-9398-2709744760a9",
   "metadata": {},
   "outputs": [],
   "source": [
    "pred_csvfile = \"codet5_finetuned_short_contd_docstring_preds.csv\"\n",
    "file_name = f\"{folder}/{model_name}/{ckpt}/{pred_csvfile}\"\n",
    "target_feats = [\"docstring\"]"
   ]
  },
  {
   "cell_type": "code",
   "execution_count": null,
   "id": "1f1b3c3a-6cc4-491b-ade9-800c677052e7",
   "metadata": {},
   "outputs": [],
   "source": [
    "docstring_codebleu = evaluate_codebleu(file_name,  '0.25,0.25,0.25,0.25')\n",
    "docstring_codebleu"
   ]
  },
  {
   "cell_type": "code",
   "execution_count": null,
   "id": "7769da13-dd08-4ab8-9ae5-560de543e435",
   "metadata": {},
   "outputs": [],
   "source": [
    "docstring_pred_df = pd.read_csv(file_name)"
   ]
  },
  {
   "cell_type": "code",
   "execution_count": null,
   "id": "12c313f6-f2cd-4293-830d-b37ba5de0f88",
   "metadata": {
    "scrolled": true,
    "tags": []
   },
   "outputs": [],
   "source": [
    "docstring_report = evaluate_pred_df(docstring_pred_df, target_feats, is_nl=True, parse_test=True)"
   ]
  },
  {
   "cell_type": "code",
   "execution_count": null,
   "id": "f7c7f783-cc5f-450c-94be-1c89e7b5f50a",
   "metadata": {},
   "outputs": [],
   "source": [
    "for key, val in docstring_report.items():\n",
    "    if type(val) != list and len(val.shape) == 0:\n",
    "        print(key, \":\", val)"
   ]
  },
  {
   "cell_type": "markdown",
   "id": "58e31ff5-226a-4689-8633-e1ccfd7a339d",
   "metadata": {
    "tags": []
   },
   "source": [
    "## codet5_finetuned_nl_comment_preds"
   ]
  },
  {
   "cell_type": "code",
   "execution_count": null,
   "id": "aa7e49cf-7945-4a91-a647-afb163f5407d",
   "metadata": {},
   "outputs": [],
   "source": [
    "pred_csvfile = \"codet5_finetuned_short_contd_comment_preds.csv\"\n",
    "file_name = f\"{folder}/{model_name}/{ckpt}/{pred_csvfile}\"\n",
    "target_feats = [\"comment\"]"
   ]
  },
  {
   "cell_type": "code",
   "execution_count": null,
   "id": "4b84ccc2-d409-419d-b39b-8e7ed5423851",
   "metadata": {},
   "outputs": [],
   "source": [
    "comment_codebleu = evaluate_codebleu(file_name,  '0.25,0.25,0.25,0.25', dropna=True, is_exclude_same_io=True)\n",
    "comment_codebleu"
   ]
  },
  {
   "cell_type": "code",
   "execution_count": null,
   "id": "1d370a58-fc0a-4ce4-a918-31dc43f15b4c",
   "metadata": {},
   "outputs": [],
   "source": [
    "comment_pred_df = pd.read_csv(file_name)"
   ]
  },
  {
   "cell_type": "code",
   "execution_count": null,
   "id": "d45696e6-e44c-4510-9f9b-dbeeedf99218",
   "metadata": {},
   "outputs": [],
   "source": [
    "# not sure why there is nan in preds, but just exclude it no matter what\n",
    "comment_pred_df = comment_pred_df.dropna()"
   ]
  },
  {
   "cell_type": "code",
   "execution_count": null,
   "id": "eb3354fc-fcdd-4fc5-947b-6fd7417bc0b1",
   "metadata": {
    "scrolled": true,
    "tags": []
   },
   "outputs": [],
   "source": [
    "comment_report = evaluate_pred_df(comment_pred_df, target_feats, is_nl=True, parse_test=True)"
   ]
  },
  {
   "cell_type": "code",
   "execution_count": null,
   "id": "4342a5d8-d810-45ea-aa38-42d673207211",
   "metadata": {},
   "outputs": [],
   "source": [
    "for key, val in comment_report.items():\n",
    "    if type(val) != list and len(val.shape) == 0:\n",
    "        print(key, \":\", val)"
   ]
  },
  {
   "cell_type": "markdown",
   "id": "a13e28c8-049a-4b5f-b699-44c3f8104fc9",
   "metadata": {
    "tags": []
   },
   "source": [
    "# CodeT5 Finetuned Contd Combine Short Epoch 8"
   ]
  },
  {
   "cell_type": "markdown",
   "id": "820ba6b4-a69e-4ee4-a3e6-522766100637",
   "metadata": {},
   "source": [
    "-rw-r--r-- 1 cting3 grads    276311 Aug 17 19:48 codet5_finetuned_short_contd_docstring_list_comp_class_casing_comment_preds.csv\n",
    "-rw-r--r-- 1 cting3 grads   5275345 Aug 17 19:47 codet5_finetuned_short_contd_docstring_comment_preds.csv\n",
    "-rw-r--r-- 1 cting3 grads   1320497 Aug 17 19:40 codet5_finetuned_short_contd_list_comp_class_casing_preds.csv\n",
    "-rw-r--r-- 1 cting3 grads   4251789 Aug 17 19:38 codet5_finetuned_short_contd_class_casing_preds.csv"
   ]
  },
  {
   "cell_type": "code",
   "execution_count": null,
   "id": "32b03b61-c8d5-44af-9de8-830d5e70089c",
   "metadata": {},
   "outputs": [],
   "source": [
    "# combined_nl_prompt_base_features_contd_codet5small\n",
    "folder = \"seq2seq_results\"\n",
    "model_name = \"combined_nl_prompt_base_features_contd_codet5small\"\n",
    "ckpt = \"checkpoint-434568\""
   ]
  },
  {
   "cell_type": "markdown",
   "id": "bee994f8-db66-422d-97f4-d5c77f2ca4f4",
   "metadata": {},
   "source": [
    "## docstring + list_comp + class + casing + comment"
   ]
  },
  {
   "cell_type": "code",
   "execution_count": null,
   "id": "c54ea5f9-e80c-487e-b1ea-b4535b21af9a",
   "metadata": {},
   "outputs": [],
   "source": [
    "pred_csvfile = \"codet5_finetuned_short_contd_docstring_list_comp_class_casing_comment_preds.csv\"\n",
    "file_name = f\"{folder}/{model_name}/{ckpt}/{pred_csvfile}\"\n",
    "target_feats = [\"comment\", \"docstring\"]"
   ]
  },
  {
   "cell_type": "code",
   "execution_count": null,
   "id": "bc274c94-7c70-46f9-870d-fbf07a7f42d3",
   "metadata": {},
   "outputs": [],
   "source": [
    "codebleu = evaluate_codebleu(file_name,  '0.25,0.25,0.25,0.25', dropna=True, is_exclude_same_io=True)\n",
    "codebleu"
   ]
  },
  {
   "cell_type": "code",
   "execution_count": null,
   "id": "8f0d424a-9729-4f92-b6ea-a4b4f4918d07",
   "metadata": {},
   "outputs": [],
   "source": [
    "pred_df = pd.read_csv(file_name)"
   ]
  },
  {
   "cell_type": "code",
   "execution_count": null,
   "id": "5e7d2214-0d98-4516-bc4f-b24c340f6c61",
   "metadata": {},
   "outputs": [],
   "source": [
    "# not sure why there is nan in preds, but just exclude it no matter what\n",
    "pred_df = pred_df.dropna()"
   ]
  },
  {
   "cell_type": "code",
   "execution_count": null,
   "id": "de6d185b-2e26-4e9d-9cba-ab85af0878cc",
   "metadata": {
    "scrolled": true,
    "tags": []
   },
   "outputs": [],
   "source": [
    "report = evaluate_pred_df(pred_df, target_feats, is_nl=True, parse_test=True)"
   ]
  },
  {
   "cell_type": "code",
   "execution_count": null,
   "id": "acf47d4d-e805-48b0-be2e-bd52f2b9d559",
   "metadata": {},
   "outputs": [],
   "source": [
    "for key, val in report.items():\n",
    "    if type(val) != list and len(val.shape) == 0:\n",
    "        print(key, \":\", val)"
   ]
  },
  {
   "cell_type": "markdown",
   "id": "fec38835-431e-4f82-9742-f66771cadd83",
   "metadata": {},
   "source": [
    "## docstring + comment"
   ]
  },
  {
   "cell_type": "code",
   "execution_count": null,
   "id": "886c02ba-d0b8-49a0-bad2-7e16010e4545",
   "metadata": {},
   "outputs": [],
   "source": [
    "pred_csvfile = \"codet5_finetuned_short_contd_docstring_comment_preds.csv\"\n",
    "file_name = f\"{folder}/{model_name}/{ckpt}/{pred_csvfile}\"\n",
    "target_feats = [\"comment\", \"docstring\"]"
   ]
  },
  {
   "cell_type": "code",
   "execution_count": null,
   "id": "e3d9542c-3663-4110-8925-1b3823af4ead",
   "metadata": {},
   "outputs": [],
   "source": [
    "codebleu = evaluate_codebleu(file_name,  '0.25,0.25,0.25,0.25', dropna=True, is_exclude_same_io=True)\n",
    "codebleu"
   ]
  },
  {
   "cell_type": "code",
   "execution_count": null,
   "id": "8971a80f-f33d-4092-a2d4-71bed72fb94a",
   "metadata": {},
   "outputs": [],
   "source": [
    "pred_df = pd.read_csv(file_name)"
   ]
  },
  {
   "cell_type": "code",
   "execution_count": null,
   "id": "9e2ca6ee-a974-407f-9ab5-6b644c2e4771",
   "metadata": {},
   "outputs": [],
   "source": [
    "# not sure why there is nan in preds, but just exclude it no matter what\n",
    "pred_df = pred_df.dropna()"
   ]
  },
  {
   "cell_type": "code",
   "execution_count": null,
   "id": "d0cd8c96-0bd5-4574-9fed-642882163168",
   "metadata": {
    "scrolled": true,
    "tags": []
   },
   "outputs": [],
   "source": [
    "report = evaluate_pred_df(pred_df, target_feats, is_nl=True, parse_test=True)"
   ]
  },
  {
   "cell_type": "code",
   "execution_count": null,
   "id": "7e26ff79-943c-4d05-a54f-58360dd8750c",
   "metadata": {},
   "outputs": [],
   "source": [
    "for key, val in report.items():\n",
    "    if type(val) != list and len(val.shape) == 0:\n",
    "        print(key, \":\", val)"
   ]
  },
  {
   "cell_type": "markdown",
   "id": "184e25f5-49f7-4fac-ae62-b6ac27dc1c0f",
   "metadata": {},
   "source": [
    "## class+casing"
   ]
  },
  {
   "cell_type": "code",
   "execution_count": null,
   "id": "67e1b28d-91e6-45ea-bf99-74a5752b388e",
   "metadata": {},
   "outputs": [],
   "source": [
    "pred_csvfile = \"codet5_finetuned_short_contd_class_casing_preds.csv\"\n",
    "file_name = f\"{folder}/{model_name}/{ckpt}/{pred_csvfile}\"\n",
    "target_feats = [\"class\", \"casing\"]"
   ]
  },
  {
   "cell_type": "code",
   "execution_count": null,
   "id": "00cfe079-6850-4694-834c-00f15744416f",
   "metadata": {},
   "outputs": [],
   "source": [
    "codebleu = evaluate_codebleu(file_name,  '0.25,0.25,0.25,0.25', dropna=True, is_exclude_same_io=True)\n",
    "codebleu"
   ]
  },
  {
   "cell_type": "code",
   "execution_count": null,
   "id": "b77ce9f6-ca74-4a32-9121-ddf6213ce1e3",
   "metadata": {},
   "outputs": [],
   "source": [
    "pred_df = pd.read_csv(file_name)"
   ]
  },
  {
   "cell_type": "code",
   "execution_count": null,
   "id": "ce106a71-ba24-4cd6-8ffe-be48724a630b",
   "metadata": {},
   "outputs": [],
   "source": [
    "# not sure why there is nan in preds, but just exclude it no matter what\n",
    "pred_df = pred_df.dropna()"
   ]
  },
  {
   "cell_type": "code",
   "execution_count": null,
   "id": "cdf3b0b0-0af0-4e66-b2a6-dd57c14c85a8",
   "metadata": {
    "scrolled": true,
    "tags": []
   },
   "outputs": [],
   "source": [
    "report = evaluate_pred_df(pred_df, target_feats, is_nl=True, parse_test=True)"
   ]
  },
  {
   "cell_type": "code",
   "execution_count": null,
   "id": "32c9f1d3-cf67-4bcd-aa09-f77c25e15865",
   "metadata": {},
   "outputs": [],
   "source": [
    "for key, val in report.items():\n",
    "    if type(val) != list and len(val.shape) == 0:\n",
    "        print(key, \":\", val)"
   ]
  },
  {
   "cell_type": "markdown",
   "id": "f248a3a1-bcff-47b5-8365-6107a904404a",
   "metadata": {},
   "source": [
    "## list_comp+class+casing"
   ]
  },
  {
   "cell_type": "code",
   "execution_count": null,
   "id": "adab27aa-23d6-4c1a-ab2e-9de211f1f8d8",
   "metadata": {},
   "outputs": [],
   "source": [
    "pred_csvfile = \"codet5_finetuned_short_contd_list_comp_class_casing_preds.csv\"\n",
    "file_name = f\"{folder}/{model_name}/{ckpt}/{pred_csvfile}\"\n",
    "target_feats = [\"class\", \"casing\", \"list_comp\"]"
   ]
  },
  {
   "cell_type": "code",
   "execution_count": null,
   "id": "68c5c06c-b096-4253-883b-dc18e14776f1",
   "metadata": {},
   "outputs": [],
   "source": [
    "codebleu = evaluate_codebleu(file_name,  '0.25,0.25,0.25,0.25', dropna=True, is_exclude_same_io=True)\n",
    "codebleu"
   ]
  },
  {
   "cell_type": "code",
   "execution_count": null,
   "id": "1b7c23a5-8416-405e-bd63-2e91f05379db",
   "metadata": {},
   "outputs": [],
   "source": [
    "pred_df = pd.read_csv(file_name)"
   ]
  },
  {
   "cell_type": "code",
   "execution_count": null,
   "id": "edfd61d5-1fbb-4499-9a5b-553e172533cc",
   "metadata": {},
   "outputs": [],
   "source": [
    "# not sure why there is nan in preds, but just exclude it no matter what\n",
    "pred_df = pred_df.dropna()"
   ]
  },
  {
   "cell_type": "code",
   "execution_count": null,
   "id": "10b222e0-af27-4588-9d04-45f7e1cdccb6",
   "metadata": {
    "scrolled": true,
    "tags": []
   },
   "outputs": [],
   "source": [
    "report = evaluate_pred_df(pred_df, target_feats, is_nl=True, parse_test=True)"
   ]
  },
  {
   "cell_type": "code",
   "execution_count": null,
   "id": "9622da3f-25f5-4c59-952f-83c8381ef84c",
   "metadata": {},
   "outputs": [],
   "source": [
    "for key, val in report.items():\n",
    "    if type(val) != list and len(val.shape) == 0:\n",
    "        print(key, \":\", val)"
   ]
  },
  {
   "cell_type": "markdown",
   "id": "5868ff35-1cb3-4ba6-83bb-3d0e06e08fa0",
   "metadata": {
    "tags": []
   },
   "source": [
    "# CodeT5 Finetuned Contd Short epoch 13"
   ]
  },
  {
   "cell_type": "code",
   "execution_count": 12,
   "id": "4f69f0dd-d11d-41dd-8c56-285493bf7fe3",
   "metadata": {},
   "outputs": [],
   "source": [
    "# combined_nl_prompt_base_features_contd_codet5small\n",
    "folder = \"seq2seq_results\"\n",
    "model_name = \"combined_nl_prompt_base_features_contd_codet5small\"\n",
    "ckpt = \"checkpoint-796708\""
   ]
  },
  {
   "cell_type": "markdown",
   "id": "01bf6f2f-9fd1-4f2a-bb99-2910e4697144",
   "metadata": {
    "tags": []
   },
   "source": [
    "## codet5_finetuned_nl_casing_preds"
   ]
  },
  {
   "cell_type": "code",
   "execution_count": 13,
   "id": "c35d5073-9926-43e6-b09e-59fcadabb739",
   "metadata": {},
   "outputs": [],
   "source": [
    "pred_csvfile = \"codet5_casing_short_preds.csv\"\n",
    "file_name = f\"{folder}/{model_name}/{ckpt}/{pred_csvfile}\"\n",
    "target_feats = [\"casing\"]"
   ]
  },
  {
   "cell_type": "code",
   "execution_count": 14,
   "id": "16cf8dce-caf6-4c2b-9f29-3e79b2ab8564",
   "metadata": {},
   "outputs": [
    {
     "data": {
      "text/plain": [
       "{'ngram': 0.8515370682933681,\n",
       " 'weighted_ngram': 0.8632592595105788,\n",
       " 'syntax_match': 0.9603313267926237,\n",
       " 'dataflow_match': 0.9350088432061108,\n",
       " 'code_bleu': 0.9025341244506704}"
      ]
     },
     "execution_count": 14,
     "metadata": {},
     "output_type": "execute_result"
    }
   ],
   "source": [
    "casing_codebleu = evaluate_codebleu(file_name,  '0.25,0.25,0.25,0.25')\n",
    "casing_codebleu"
   ]
  },
  {
   "cell_type": "code",
   "execution_count": 15,
   "id": "6ab89228-6b82-4b9c-8b58-e16bde273c03",
   "metadata": {},
   "outputs": [],
   "source": [
    "casing_pred_df = pd.read_csv(file_name)"
   ]
  },
  {
   "cell_type": "code",
   "execution_count": 16,
   "id": "23d12d17-2506-4e7b-b35a-9b11f2f86474",
   "metadata": {
    "scrolled": true,
    "tags": []
   },
   "outputs": [
    {
     "data": {
      "application/vnd.jupyter.widget-view+json": {
       "model_id": "17a148605f164a2a952c8e59159514ad",
       "version_major": 2,
       "version_minor": 0
      },
      "text/plain": [
       "  0%|          | 0/1999 [00:00<?, ?it/s]"
      ]
     },
     "metadata": {},
     "output_type": "display_data"
    },
    {
     "name": "stderr",
     "output_type": "stream",
     "text": [
      "/data/users/cting3/miniconda3/envs/py_3_8/lib/python3.8/site-packages/nltk/translate/bleu_score.py:515: UserWarning: \n",
      "The hypothesis contains 0 counts of 2-gram overlaps.\n",
      "Therefore the BLEU score evaluates to 0, independently of\n",
      "how many N-gram overlaps of lower order it contains.\n",
      "Consider using lower n-gram order or use SmoothingFunction()\n",
      "  warnings.warn(_msg)\n",
      "/data/users/cting3/miniconda3/envs/py_3_8/lib/python3.8/site-packages/nltk/translate/bleu_score.py:515: UserWarning: \n",
      "The hypothesis contains 0 counts of 3-gram overlaps.\n",
      "Therefore the BLEU score evaluates to 0, independently of\n",
      "how many N-gram overlaps of lower order it contains.\n",
      "Consider using lower n-gram order or use SmoothingFunction()\n",
      "  warnings.warn(_msg)\n",
      "/data/users/cting3/miniconda3/envs/py_3_8/lib/python3.8/site-packages/nltk/translate/bleu_score.py:515: UserWarning: \n",
      "The hypothesis contains 0 counts of 4-gram overlaps.\n",
      "Therefore the BLEU score evaluates to 0, independently of\n",
      "how many N-gram overlaps of lower order it contains.\n",
      "Consider using lower n-gram order or use SmoothingFunction()\n",
      "  warnings.warn(_msg)\n"
     ]
    },
    {
     "name": "stdout",
     "output_type": "stream",
     "text": [
      "WARNING: There is no reference data-flows extracted from the whole corpus, and the data-flow match score degenerates to 0. Please consider ignoring this score.\n",
      "WARNING: There is no reference data-flows extracted from the whole corpus, and the data-flow match score degenerates to 0. Please consider ignoring this score.\n",
      "WARNING: There is no reference data-flows extracted from the whole corpus, and the data-flow match score degenerates to 0. Please consider ignoring this score.\n",
      "WARNING: There is no reference data-flows extracted from the whole corpus, and the data-flow match score degenerates to 0. Please consider ignoring this score.\n",
      "WARNING: There is no reference data-flows extracted from the whole corpus, and the data-flow match score degenerates to 0. Please consider ignoring this score.\n",
      "WARNING: There is no reference data-flows extracted from the whole corpus, and the data-flow match score degenerates to 0. Please consider ignoring this score.\n",
      "WARNING: There is no reference data-flows extracted from the whole corpus, and the data-flow match score degenerates to 0. Please consider ignoring this score.\n",
      "WARNING: There is no reference data-flows extracted from the whole corpus, and the data-flow match score degenerates to 0. Please consider ignoring this score.\n",
      "WARNING: There is no reference data-flows extracted from the whole corpus, and the data-flow match score degenerates to 0. Please consider ignoring this score.\n",
      "WARNING: There is no reference data-flows extracted from the whole corpus, and the data-flow match score degenerates to 0. Please consider ignoring this score.\n",
      "WARNING: There is no reference data-flows extracted from the whole corpus, and the data-flow match score degenerates to 0. Please consider ignoring this score.\n",
      "WARNING: There is no reference data-flows extracted from the whole corpus, and the data-flow match score degenerates to 0. Please consider ignoring this score.\n",
      "WARNING: There is no reference data-flows extracted from the whole corpus, and the data-flow match score degenerates to 0. Please consider ignoring this score.\n",
      "WARNING: There is no reference data-flows extracted from the whole corpus, and the data-flow match score degenerates to 0. Please consider ignoring this score.\n"
     ]
    }
   ],
   "source": [
    "casing_report = evaluate_pred_df(casing_pred_df, target_feats, is_nl=True, parse_test=True)"
   ]
  },
  {
   "cell_type": "code",
   "execution_count": 17,
   "id": "0d39da77-df91-4b48-805d-0d668fb1727c",
   "metadata": {},
   "outputs": [
    {
     "name": "stdout",
     "output_type": "stream",
     "text": [
      "codebleu_perfect : 0.33466733366683343\n",
      "codebleu_above_90 : 0.6143071535767884\n",
      "diff_bleu_avg : 0.4095457724284954\n",
      "diff_bleu_perfect : 0.33766883441720863\n",
      "diff_bleu_above_90 : 0.3391695847923962\n",
      "parse_test_accuracy : 0.9154577288644322\n"
     ]
    }
   ],
   "source": [
    "for key, val in casing_report.items():\n",
    "    if type(val) != list and len(val.shape) == 0:\n",
    "        print(key, \":\", val)"
   ]
  },
  {
   "cell_type": "markdown",
   "id": "b6d4ebc8-5995-409d-a3c4-60bd559dbe92",
   "metadata": {
    "tags": []
   },
   "source": [
    "## codet5_finetuned_nl_class_preds"
   ]
  },
  {
   "cell_type": "code",
   "execution_count": 18,
   "id": "6bb4a60a-fa6e-4bb1-b224-cac7abdcf21d",
   "metadata": {},
   "outputs": [],
   "source": [
    "pred_csvfile = \"codet5_class_short_preds.csv\"\n",
    "file_name = f\"{folder}/{model_name}/{ckpt}/{pred_csvfile}\"\n",
    "target_feats = [\"class\"]"
   ]
  },
  {
   "cell_type": "code",
   "execution_count": 19,
   "id": "24c36c83-033d-441d-8610-5c46ff15e6d6",
   "metadata": {},
   "outputs": [
    {
     "data": {
      "text/plain": [
       "{'ngram': 0.7583811884881181,\n",
       " 'weighted_ngram': 0.7699428430150793,\n",
       " 'syntax_match': 0.8502548313330444,\n",
       " 'dataflow_match': 0.8627158225182803,\n",
       " 'code_bleu': 0.8103236713386305}"
      ]
     },
     "execution_count": 19,
     "metadata": {},
     "output_type": "execute_result"
    }
   ],
   "source": [
    "class_codebleu = evaluate_codebleu(file_name,  '0.25,0.25,0.25,0.25')\n",
    "class_codebleu"
   ]
  },
  {
   "cell_type": "code",
   "execution_count": 20,
   "id": "f53aae92-53fb-4ce9-bb8a-c4c65ce83fed",
   "metadata": {},
   "outputs": [],
   "source": [
    "class_pred_df = pd.read_csv(file_name)"
   ]
  },
  {
   "cell_type": "code",
   "execution_count": 21,
   "id": "a62cf94e-27db-4555-b86a-9e229db206be",
   "metadata": {
    "scrolled": true,
    "tags": []
   },
   "outputs": [
    {
     "data": {
      "application/vnd.jupyter.widget-view+json": {
       "model_id": "8bdc717e054847648ad4faf1a707334f",
       "version_major": 2,
       "version_minor": 0
      },
      "text/plain": [
       "  0%|          | 0/2001 [00:00<?, ?it/s]"
      ]
     },
     "metadata": {},
     "output_type": "display_data"
    },
    {
     "name": "stdout",
     "output_type": "stream",
     "text": [
      "WARNING: There is no reference data-flows extracted from the whole corpus, and the data-flow match score degenerates to 0. Please consider ignoring this score.\n",
      "WARNING: There is no reference data-flows extracted from the whole corpus, and the data-flow match score degenerates to 0. Please consider ignoring this score.\n",
      "WARNING: There is no reference data-flows extracted from the whole corpus, and the data-flow match score degenerates to 0. Please consider ignoring this score.\n",
      "WARNING: There is no reference data-flows extracted from the whole corpus, and the data-flow match score degenerates to 0. Please consider ignoring this score.\n",
      "WARNING: There is no reference data-flows extracted from the whole corpus, and the data-flow match score degenerates to 0. Please consider ignoring this score.\n",
      "WARNING: There is no reference data-flows extracted from the whole corpus, and the data-flow match score degenerates to 0. Please consider ignoring this score.\n",
      "WARNING: There is no reference data-flows extracted from the whole corpus, and the data-flow match score degenerates to 0. Please consider ignoring this score.\n",
      "WARNING: There is no reference data-flows extracted from the whole corpus, and the data-flow match score degenerates to 0. Please consider ignoring this score.\n",
      "WARNING: There is no reference data-flows extracted from the whole corpus, and the data-flow match score degenerates to 0. Please consider ignoring this score.\n",
      "WARNING: There is no reference data-flows extracted from the whole corpus, and the data-flow match score degenerates to 0. Please consider ignoring this score.\n",
      "WARNING: There is no reference data-flows extracted from the whole corpus, and the data-flow match score degenerates to 0. Please consider ignoring this score.\n",
      "WARNING: There is no reference data-flows extracted from the whole corpus, and the data-flow match score degenerates to 0. Please consider ignoring this score.\n",
      "WARNING: There is no reference data-flows extracted from the whole corpus, and the data-flow match score degenerates to 0. Please consider ignoring this score.\n",
      "WARNING: There is no reference data-flows extracted from the whole corpus, and the data-flow match score degenerates to 0. Please consider ignoring this score.\n",
      "WARNING: There is no reference data-flows extracted from the whole corpus, and the data-flow match score degenerates to 0. Please consider ignoring this score.\n",
      "WARNING: There is no reference data-flows extracted from the whole corpus, and the data-flow match score degenerates to 0. Please consider ignoring this score.\n"
     ]
    }
   ],
   "source": [
    "class_report = evaluate_pred_df(class_pred_df, target_feats, is_nl=True, parse_test=True)"
   ]
  },
  {
   "cell_type": "code",
   "execution_count": 22,
   "id": "5611c41c-7623-46fc-9fc8-f576eb93e01c",
   "metadata": {},
   "outputs": [
    {
     "name": "stdout",
     "output_type": "stream",
     "text": [
      "codebleu_perfect : 0.22988505747126436\n",
      "codebleu_above_90 : 0.3983008495752124\n",
      "diff_bleu_avg : 0.38277694882269986\n",
      "diff_bleu_perfect : 0.23088455772113944\n",
      "diff_bleu_above_90 : 0.23438280859570215\n",
      "parse_test_accuracy : 0.9175412293853074\n"
     ]
    }
   ],
   "source": [
    "for key, val in class_report.items():\n",
    "    if type(val) != list and len(val.shape) == 0:\n",
    "        print(key, \":\", val)"
   ]
  },
  {
   "cell_type": "markdown",
   "id": "03f5a489-d74e-454c-a332-af10d675d7a1",
   "metadata": {
    "tags": []
   },
   "source": [
    "## codet5_finetuned_nl_list_comp_preds"
   ]
  },
  {
   "cell_type": "code",
   "execution_count": 25,
   "id": "9d7458d4-adc7-4e72-959b-7e159262c54d",
   "metadata": {},
   "outputs": [],
   "source": [
    "pred_csvfile = \"codet5_list_comp_short_preds.csv\"\n",
    "file_name = f\"{folder}/{model_name}/{ckpt}/{pred_csvfile}\"\n",
    "target_feats = [\"list_comp\"]"
   ]
  },
  {
   "cell_type": "code",
   "execution_count": 26,
   "id": "f86de3e5-cce7-4217-b2e6-2e96d150692a",
   "metadata": {},
   "outputs": [
    {
     "data": {
      "text/plain": [
       "{'ngram': 0.9221047580957143,\n",
       " 'weighted_ngram': 0.9259730884213488,\n",
       " 'syntax_match': 0.9319856560678293,\n",
       " 'dataflow_match': 0.9350537153543588,\n",
       " 'code_bleu': 0.9287793044848128}"
      ]
     },
     "execution_count": 26,
     "metadata": {},
     "output_type": "execute_result"
    }
   ],
   "source": [
    "list_comp_codebleu = evaluate_codebleu(file_name,  '0.25,0.25,0.25,0.25', is_exclude_same_io=True)\n",
    "list_comp_codebleu"
   ]
  },
  {
   "cell_type": "code",
   "execution_count": 27,
   "id": "596093f9-eda7-4567-877e-5579d11d43f9",
   "metadata": {},
   "outputs": [],
   "source": [
    "list_comp_pred_df = pd.read_csv(file_name)\n",
    "list_comp_pred_df = exclude_same_io(list_comp_pred_df)"
   ]
  },
  {
   "cell_type": "code",
   "execution_count": 28,
   "id": "205bc94a-1eba-4970-a5f7-c3f396371d87",
   "metadata": {
    "scrolled": true,
    "tags": []
   },
   "outputs": [
    {
     "data": {
      "application/vnd.jupyter.widget-view+json": {
       "model_id": "fb63b32d13964b94b80186b903a45c39",
       "version_major": 2,
       "version_minor": 0
      },
      "text/plain": [
       "  0%|          | 0/1687 [00:00<?, ?it/s]"
      ]
     },
     "metadata": {},
     "output_type": "display_data"
    }
   ],
   "source": [
    "list_comp_report = evaluate_pred_df(list_comp_pred_df, target_feats, is_nl=True, parse_test=True)"
   ]
  },
  {
   "cell_type": "code",
   "execution_count": 29,
   "id": "b6acd8cc-49bd-4009-873f-fb20d54ba1bd",
   "metadata": {},
   "outputs": [
    {
     "name": "stdout",
     "output_type": "stream",
     "text": [
      "codebleu_perfect : 0.4066390041493776\n",
      "codebleu_above_90 : 0.7338470657972732\n",
      "diff_bleu_avg : 0.47917780477819827\n",
      "diff_bleu_perfect : 0.4090100770598696\n",
      "diff_bleu_above_90 : 0.4096028452874926\n",
      "parse_test_accuracy : 0.7545939537640782\n"
     ]
    }
   ],
   "source": [
    "for key, val in list_comp_report.items():\n",
    "    if type(val) != list and len(val.shape) == 0:\n",
    "        print(key, \":\", val)"
   ]
  },
  {
   "cell_type": "markdown",
   "id": "95f78fd2-64dd-4204-b381-9666b2bcba94",
   "metadata": {
    "tags": []
   },
   "source": [
    "## codet5_finetuned_nl_docstring_preds"
   ]
  },
  {
   "cell_type": "code",
   "execution_count": 30,
   "id": "fb0260ba-6cfd-496a-9635-e84857d812b4",
   "metadata": {},
   "outputs": [],
   "source": [
    "pred_csvfile = \"codet5_docstring_short_preds.csv\"\n",
    "file_name = f\"{folder}/{model_name}/{ckpt}/{pred_csvfile}\"\n",
    "target_feats = [\"docstring\"]"
   ]
  },
  {
   "cell_type": "code",
   "execution_count": 31,
   "id": "58606e28-b092-42ab-b798-d6c6ff392078",
   "metadata": {},
   "outputs": [
    {
     "data": {
      "text/plain": [
       "{'ngram': 0.3672733662557726,\n",
       " 'weighted_ngram': 0.5239876414871829,\n",
       " 'syntax_match': 0.7835198875884203,\n",
       " 'dataflow_match': 0.8714541469889188,\n",
       " 'code_bleu': 0.6365587605800737}"
      ]
     },
     "execution_count": 31,
     "metadata": {},
     "output_type": "execute_result"
    }
   ],
   "source": [
    "docstring_codebleu = evaluate_codebleu(file_name,  '0.25,0.25,0.25,0.25')\n",
    "docstring_codebleu"
   ]
  },
  {
   "cell_type": "code",
   "execution_count": 32,
   "id": "39fb0f53-f7fc-49cb-9900-018bf7b377a3",
   "metadata": {},
   "outputs": [],
   "source": [
    "docstring_pred_df = pd.read_csv(file_name)"
   ]
  },
  {
   "cell_type": "code",
   "execution_count": 33,
   "id": "abc75d75-2a24-4fb2-9b94-3273806b697f",
   "metadata": {
    "scrolled": true,
    "tags": []
   },
   "outputs": [
    {
     "data": {
      "application/vnd.jupyter.widget-view+json": {
       "model_id": "29810cfcb6ef496183e6bb620ef0eb53",
       "version_major": 2,
       "version_minor": 0
      },
      "text/plain": [
       "  0%|          | 0/2001 [00:00<?, ?it/s]"
      ]
     },
     "metadata": {},
     "output_type": "display_data"
    },
    {
     "name": "stdout",
     "output_type": "stream",
     "text": [
      "WARNING: There is no reference data-flows extracted from the whole corpus, and the data-flow match score degenerates to 0. Please consider ignoring this score.\n",
      "WARNING: There is no reference data-flows extracted from the whole corpus, and the data-flow match score degenerates to 0. Please consider ignoring this score.\n",
      "WARNING: There is no reference data-flows extracted from the whole corpus, and the data-flow match score degenerates to 0. Please consider ignoring this score.\n",
      "WARNING: There is no reference data-flows extracted from the whole corpus, and the data-flow match score degenerates to 0. Please consider ignoring this score.\n",
      "WARNING: There is no reference data-flows extracted from the whole corpus, and the data-flow match score degenerates to 0. Please consider ignoring this score.\n",
      "WARNING: There is no reference data-flows extracted from the whole corpus, and the data-flow match score degenerates to 0. Please consider ignoring this score.\n",
      "WARNING: There is no reference data-flows extracted from the whole corpus, and the data-flow match score degenerates to 0. Please consider ignoring this score.\n",
      "WARNING: There is no reference data-flows extracted from the whole corpus, and the data-flow match score degenerates to 0. Please consider ignoring this score.\n",
      "WARNING: There is no reference data-flows extracted from the whole corpus, and the data-flow match score degenerates to 0. Please consider ignoring this score.\n",
      "WARNING: There is no reference data-flows extracted from the whole corpus, and the data-flow match score degenerates to 0. Please consider ignoring this score.\n",
      "WARNING: There is no reference data-flows extracted from the whole corpus, and the data-flow match score degenerates to 0. Please consider ignoring this score.\n",
      "WARNING: There is no reference data-flows extracted from the whole corpus, and the data-flow match score degenerates to 0. Please consider ignoring this score.\n",
      "WARNING: There is no reference data-flows extracted from the whole corpus, and the data-flow match score degenerates to 0. Please consider ignoring this score.\n",
      "WARNING: There is no reference data-flows extracted from the whole corpus, and the data-flow match score degenerates to 0. Please consider ignoring this score.\n",
      "WARNING: There is no reference data-flows extracted from the whole corpus, and the data-flow match score degenerates to 0. Please consider ignoring this score.\n",
      "WARNING: There is no reference data-flows extracted from the whole corpus, and the data-flow match score degenerates to 0. Please consider ignoring this score.\n",
      "WARNING: There is no reference data-flows extracted from the whole corpus, and the data-flow match score degenerates to 0. Please consider ignoring this score.\n",
      "WARNING: There is no reference data-flows extracted from the whole corpus, and the data-flow match score degenerates to 0. Please consider ignoring this score.\n",
      "WARNING: There is no reference data-flows extracted from the whole corpus, and the data-flow match score degenerates to 0. Please consider ignoring this score.\n",
      "WARNING: There is no reference data-flows extracted from the whole corpus, and the data-flow match score degenerates to 0. Please consider ignoring this score.\n",
      "WARNING: There is no reference data-flows extracted from the whole corpus, and the data-flow match score degenerates to 0. Please consider ignoring this score.\n",
      "WARNING: There is no reference data-flows extracted from the whole corpus, and the data-flow match score degenerates to 0. Please consider ignoring this score.\n",
      "WARNING: There is no reference data-flows extracted from the whole corpus, and the data-flow match score degenerates to 0. Please consider ignoring this score.\n",
      "WARNING: There is no reference data-flows extracted from the whole corpus, and the data-flow match score degenerates to 0. Please consider ignoring this score.\n",
      "WARNING: There is no reference data-flows extracted from the whole corpus, and the data-flow match score degenerates to 0. Please consider ignoring this score.\n",
      "WARNING: There is no reference data-flows extracted from the whole corpus, and the data-flow match score degenerates to 0. Please consider ignoring this score.\n",
      "WARNING: There is no reference data-flows extracted from the whole corpus, and the data-flow match score degenerates to 0. Please consider ignoring this score.\n",
      "WARNING: There is no reference data-flows extracted from the whole corpus, and the data-flow match score degenerates to 0. Please consider ignoring this score.\n",
      "WARNING: There is no reference data-flows extracted from the whole corpus, and the data-flow match score degenerates to 0. Please consider ignoring this score.\n",
      "WARNING: There is no reference data-flows extracted from the whole corpus, and the data-flow match score degenerates to 0. Please consider ignoring this score.\n",
      "WARNING: There is no reference data-flows extracted from the whole corpus, and the data-flow match score degenerates to 0. Please consider ignoring this score.\n",
      "WARNING: There is no reference data-flows extracted from the whole corpus, and the data-flow match score degenerates to 0. Please consider ignoring this score.\n",
      "WARNING: There is no reference data-flows extracted from the whole corpus, and the data-flow match score degenerates to 0. Please consider ignoring this score.\n",
      "WARNING: There is no reference data-flows extracted from the whole corpus, and the data-flow match score degenerates to 0. Please consider ignoring this score.\n",
      "WARNING: There is no reference data-flows extracted from the whole corpus, and the data-flow match score degenerates to 0. Please consider ignoring this score.\n",
      "WARNING: There is no reference data-flows extracted from the whole corpus, and the data-flow match score degenerates to 0. Please consider ignoring this score.\n",
      "WARNING: There is no reference data-flows extracted from the whole corpus, and the data-flow match score degenerates to 0. Please consider ignoring this score.\n",
      "WARNING: There is no reference data-flows extracted from the whole corpus, and the data-flow match score degenerates to 0. Please consider ignoring this score.\n",
      "WARNING: There is no reference data-flows extracted from the whole corpus, and the data-flow match score degenerates to 0. Please consider ignoring this score.\n",
      "WARNING: There is no reference data-flows extracted from the whole corpus, and the data-flow match score degenerates to 0. Please consider ignoring this score.\n",
      "WARNING: There is no reference data-flows extracted from the whole corpus, and the data-flow match score degenerates to 0. Please consider ignoring this score.\n",
      "WARNING: There is no reference data-flows extracted from the whole corpus, and the data-flow match score degenerates to 0. Please consider ignoring this score.\n",
      "WARNING: There is no reference data-flows extracted from the whole corpus, and the data-flow match score degenerates to 0. Please consider ignoring this score.\n",
      "WARNING: There is no reference data-flows extracted from the whole corpus, and the data-flow match score degenerates to 0. Please consider ignoring this score.\n",
      "WARNING: There is no reference data-flows extracted from the whole corpus, and the data-flow match score degenerates to 0. Please consider ignoring this score.\n",
      "WARNING: There is no reference data-flows extracted from the whole corpus, and the data-flow match score degenerates to 0. Please consider ignoring this score.\n",
      "WARNING: There is no reference data-flows extracted from the whole corpus, and the data-flow match score degenerates to 0. Please consider ignoring this score.\n",
      "WARNING: There is no reference data-flows extracted from the whole corpus, and the data-flow match score degenerates to 0. Please consider ignoring this score.\n",
      "WARNING: There is no reference data-flows extracted from the whole corpus, and the data-flow match score degenerates to 0. Please consider ignoring this score.\n",
      "WARNING: There is no reference data-flows extracted from the whole corpus, and the data-flow match score degenerates to 0. Please consider ignoring this score.\n",
      "WARNING: There is no reference data-flows extracted from the whole corpus, and the data-flow match score degenerates to 0. Please consider ignoring this score.\n",
      "WARNING: There is no reference data-flows extracted from the whole corpus, and the data-flow match score degenerates to 0. Please consider ignoring this score.\n",
      "WARNING: There is no reference data-flows extracted from the whole corpus, and the data-flow match score degenerates to 0. Please consider ignoring this score.\n",
      "WARNING: There is no reference data-flows extracted from the whole corpus, and the data-flow match score degenerates to 0. Please consider ignoring this score.\n",
      "WARNING: There is no reference data-flows extracted from the whole corpus, and the data-flow match score degenerates to 0. Please consider ignoring this score.\n",
      "WARNING: There is no reference data-flows extracted from the whole corpus, and the data-flow match score degenerates to 0. Please consider ignoring this score.\n",
      "WARNING: There is no reference data-flows extracted from the whole corpus, and the data-flow match score degenerates to 0. Please consider ignoring this score.\n",
      "WARNING: There is no reference data-flows extracted from the whole corpus, and the data-flow match score degenerates to 0. Please consider ignoring this score.\n",
      "WARNING: There is no reference data-flows extracted from the whole corpus, and the data-flow match score degenerates to 0. Please consider ignoring this score.\n",
      "WARNING: There is no reference data-flows extracted from the whole corpus, and the data-flow match score degenerates to 0. Please consider ignoring this score.\n",
      "WARNING: There is no reference data-flows extracted from the whole corpus, and the data-flow match score degenerates to 0. Please consider ignoring this score.\n",
      "WARNING: There is no reference data-flows extracted from the whole corpus, and the data-flow match score degenerates to 0. Please consider ignoring this score.\n",
      "WARNING: There is no reference data-flows extracted from the whole corpus, and the data-flow match score degenerates to 0. Please consider ignoring this score.\n",
      "WARNING: There is no reference data-flows extracted from the whole corpus, and the data-flow match score degenerates to 0. Please consider ignoring this score.\n",
      "WARNING: There is no reference data-flows extracted from the whole corpus, and the data-flow match score degenerates to 0. Please consider ignoring this score.\n",
      "WARNING: There is no reference data-flows extracted from the whole corpus, and the data-flow match score degenerates to 0. Please consider ignoring this score.\n",
      "WARNING: There is no reference data-flows extracted from the whole corpus, and the data-flow match score degenerates to 0. Please consider ignoring this score.\n",
      "WARNING: There is no reference data-flows extracted from the whole corpus, and the data-flow match score degenerates to 0. Please consider ignoring this score.\n",
      "WARNING: There is no reference data-flows extracted from the whole corpus, and the data-flow match score degenerates to 0. Please consider ignoring this score.\n",
      "WARNING: There is no reference data-flows extracted from the whole corpus, and the data-flow match score degenerates to 0. Please consider ignoring this score.\n",
      "WARNING: There is no reference data-flows extracted from the whole corpus, and the data-flow match score degenerates to 0. Please consider ignoring this score.\n",
      "WARNING: There is no reference data-flows extracted from the whole corpus, and the data-flow match score degenerates to 0. Please consider ignoring this score.\n",
      "WARNING: There is no reference data-flows extracted from the whole corpus, and the data-flow match score degenerates to 0. Please consider ignoring this score.\n",
      "WARNING: There is no reference data-flows extracted from the whole corpus, and the data-flow match score degenerates to 0. Please consider ignoring this score.\n",
      "WARNING: There is no reference data-flows extracted from the whole corpus, and the data-flow match score degenerates to 0. Please consider ignoring this score.\n",
      "WARNING: There is no reference data-flows extracted from the whole corpus, and the data-flow match score degenerates to 0. Please consider ignoring this score.\n",
      "WARNING: There is no reference data-flows extracted from the whole corpus, and the data-flow match score degenerates to 0. Please consider ignoring this score.\n",
      "WARNING: There is no reference data-flows extracted from the whole corpus, and the data-flow match score degenerates to 0. Please consider ignoring this score.\n",
      "WARNING: There is no reference data-flows extracted from the whole corpus, and the data-flow match score degenerates to 0. Please consider ignoring this score.\n",
      "WARNING: There is no reference data-flows extracted from the whole corpus, and the data-flow match score degenerates to 0. Please consider ignoring this score.\n",
      "WARNING: There is no reference data-flows extracted from the whole corpus, and the data-flow match score degenerates to 0. Please consider ignoring this score.\n",
      "WARNING: There is no reference data-flows extracted from the whole corpus, and the data-flow match score degenerates to 0. Please consider ignoring this score.\n",
      "WARNING: There is no reference data-flows extracted from the whole corpus, and the data-flow match score degenerates to 0. Please consider ignoring this score.\n",
      "WARNING: There is no reference data-flows extracted from the whole corpus, and the data-flow match score degenerates to 0. Please consider ignoring this score.\n",
      "WARNING: There is no reference data-flows extracted from the whole corpus, and the data-flow match score degenerates to 0. Please consider ignoring this score.\n",
      "WARNING: There is no reference data-flows extracted from the whole corpus, and the data-flow match score degenerates to 0. Please consider ignoring this score.\n",
      "WARNING: There is no reference data-flows extracted from the whole corpus, and the data-flow match score degenerates to 0. Please consider ignoring this score.\n",
      "WARNING: There is no reference data-flows extracted from the whole corpus, and the data-flow match score degenerates to 0. Please consider ignoring this score.\n",
      "WARNING: There is no reference data-flows extracted from the whole corpus, and the data-flow match score degenerates to 0. Please consider ignoring this score.\n",
      "WARNING: There is no reference data-flows extracted from the whole corpus, and the data-flow match score degenerates to 0. Please consider ignoring this score.\n",
      "WARNING: There is no reference data-flows extracted from the whole corpus, and the data-flow match score degenerates to 0. Please consider ignoring this score.\n",
      "WARNING: There is no reference data-flows extracted from the whole corpus, and the data-flow match score degenerates to 0. Please consider ignoring this score.\n",
      "WARNING: There is no reference data-flows extracted from the whole corpus, and the data-flow match score degenerates to 0. Please consider ignoring this score.\n",
      "WARNING: There is no reference data-flows extracted from the whole corpus, and the data-flow match score degenerates to 0. Please consider ignoring this score.\n",
      "WARNING: There is no reference data-flows extracted from the whole corpus, and the data-flow match score degenerates to 0. Please consider ignoring this score.\n",
      "WARNING: There is no reference data-flows extracted from the whole corpus, and the data-flow match score degenerates to 0. Please consider ignoring this score.\n",
      "WARNING: There is no reference data-flows extracted from the whole corpus, and the data-flow match score degenerates to 0. Please consider ignoring this score.\n",
      "WARNING: There is no reference data-flows extracted from the whole corpus, and the data-flow match score degenerates to 0. Please consider ignoring this score.\n",
      "WARNING: There is no reference data-flows extracted from the whole corpus, and the data-flow match score degenerates to 0. Please consider ignoring this score.\n",
      "WARNING: There is no reference data-flows extracted from the whole corpus, and the data-flow match score degenerates to 0. Please consider ignoring this score.\n",
      "WARNING: There is no reference data-flows extracted from the whole corpus, and the data-flow match score degenerates to 0. Please consider ignoring this score.\n",
      "WARNING: There is no reference data-flows extracted from the whole corpus, and the data-flow match score degenerates to 0. Please consider ignoring this score.\n",
      "WARNING: There is no reference data-flows extracted from the whole corpus, and the data-flow match score degenerates to 0. Please consider ignoring this score.\n",
      "WARNING: There is no reference data-flows extracted from the whole corpus, and the data-flow match score degenerates to 0. Please consider ignoring this score.\n",
      "WARNING: There is no reference data-flows extracted from the whole corpus, and the data-flow match score degenerates to 0. Please consider ignoring this score.\n",
      "WARNING: There is no reference data-flows extracted from the whole corpus, and the data-flow match score degenerates to 0. Please consider ignoring this score.\n",
      "WARNING: There is no reference data-flows extracted from the whole corpus, and the data-flow match score degenerates to 0. Please consider ignoring this score.\n",
      "WARNING: There is no reference data-flows extracted from the whole corpus, and the data-flow match score degenerates to 0. Please consider ignoring this score.\n",
      "WARNING: There is no reference data-flows extracted from the whole corpus, and the data-flow match score degenerates to 0. Please consider ignoring this score.\n",
      "WARNING: There is no reference data-flows extracted from the whole corpus, and the data-flow match score degenerates to 0. Please consider ignoring this score.\n",
      "WARNING: There is no reference data-flows extracted from the whole corpus, and the data-flow match score degenerates to 0. Please consider ignoring this score.\n",
      "WARNING: There is no reference data-flows extracted from the whole corpus, and the data-flow match score degenerates to 0. Please consider ignoring this score.\n",
      "WARNING: There is no reference data-flows extracted from the whole corpus, and the data-flow match score degenerates to 0. Please consider ignoring this score.\n",
      "WARNING: There is no reference data-flows extracted from the whole corpus, and the data-flow match score degenerates to 0. Please consider ignoring this score.\n",
      "WARNING: There is no reference data-flows extracted from the whole corpus, and the data-flow match score degenerates to 0. Please consider ignoring this score.\n",
      "WARNING: There is no reference data-flows extracted from the whole corpus, and the data-flow match score degenerates to 0. Please consider ignoring this score.\n",
      "WARNING: There is no reference data-flows extracted from the whole corpus, and the data-flow match score degenerates to 0. Please consider ignoring this score.\n",
      "WARNING: There is no reference data-flows extracted from the whole corpus, and the data-flow match score degenerates to 0. Please consider ignoring this score.\n",
      "WARNING: There is no reference data-flows extracted from the whole corpus, and the data-flow match score degenerates to 0. Please consider ignoring this score.\n",
      "WARNING: There is no reference data-flows extracted from the whole corpus, and the data-flow match score degenerates to 0. Please consider ignoring this score.\n",
      "WARNING: There is no reference data-flows extracted from the whole corpus, and the data-flow match score degenerates to 0. Please consider ignoring this score.\n",
      "WARNING: There is no reference data-flows extracted from the whole corpus, and the data-flow match score degenerates to 0. Please consider ignoring this score.\n",
      "WARNING: There is no reference data-flows extracted from the whole corpus, and the data-flow match score degenerates to 0. Please consider ignoring this score.\n",
      "WARNING: There is no reference data-flows extracted from the whole corpus, and the data-flow match score degenerates to 0. Please consider ignoring this score.\n",
      "WARNING: There is no reference data-flows extracted from the whole corpus, and the data-flow match score degenerates to 0. Please consider ignoring this score.\n",
      "WARNING: There is no reference data-flows extracted from the whole corpus, and the data-flow match score degenerates to 0. Please consider ignoring this score.\n",
      "WARNING: There is no reference data-flows extracted from the whole corpus, and the data-flow match score degenerates to 0. Please consider ignoring this score.\n",
      "WARNING: There is no reference data-flows extracted from the whole corpus, and the data-flow match score degenerates to 0. Please consider ignoring this score.\n",
      "WARNING: There is no reference data-flows extracted from the whole corpus, and the data-flow match score degenerates to 0. Please consider ignoring this score.\n",
      "WARNING: There is no reference data-flows extracted from the whole corpus, and the data-flow match score degenerates to 0. Please consider ignoring this score.\n",
      "WARNING: There is no reference data-flows extracted from the whole corpus, and the data-flow match score degenerates to 0. Please consider ignoring this score.\n",
      "WARNING: There is no reference data-flows extracted from the whole corpus, and the data-flow match score degenerates to 0. Please consider ignoring this score.\n",
      "WARNING: There is no reference data-flows extracted from the whole corpus, and the data-flow match score degenerates to 0. Please consider ignoring this score.\n",
      "WARNING: There is no reference data-flows extracted from the whole corpus, and the data-flow match score degenerates to 0. Please consider ignoring this score.\n",
      "WARNING: There is no reference data-flows extracted from the whole corpus, and the data-flow match score degenerates to 0. Please consider ignoring this score.\n",
      "WARNING: There is no reference data-flows extracted from the whole corpus, and the data-flow match score degenerates to 0. Please consider ignoring this score.\n",
      "WARNING: There is no reference data-flows extracted from the whole corpus, and the data-flow match score degenerates to 0. Please consider ignoring this score.\n",
      "WARNING: There is no reference data-flows extracted from the whole corpus, and the data-flow match score degenerates to 0. Please consider ignoring this score.\n",
      "WARNING: There is no reference data-flows extracted from the whole corpus, and the data-flow match score degenerates to 0. Please consider ignoring this score.\n",
      "WARNING: There is no reference data-flows extracted from the whole corpus, and the data-flow match score degenerates to 0. Please consider ignoring this score.\n",
      "WARNING: There is no reference data-flows extracted from the whole corpus, and the data-flow match score degenerates to 0. Please consider ignoring this score.\n",
      "WARNING: There is no reference data-flows extracted from the whole corpus, and the data-flow match score degenerates to 0. Please consider ignoring this score.\n",
      "WARNING: There is no reference data-flows extracted from the whole corpus, and the data-flow match score degenerates to 0. Please consider ignoring this score.\n",
      "WARNING: There is no reference data-flows extracted from the whole corpus, and the data-flow match score degenerates to 0. Please consider ignoring this score.\n",
      "WARNING: There is no reference data-flows extracted from the whole corpus, and the data-flow match score degenerates to 0. Please consider ignoring this score.\n",
      "WARNING: There is no reference data-flows extracted from the whole corpus, and the data-flow match score degenerates to 0. Please consider ignoring this score.\n",
      "WARNING: There is no reference data-flows extracted from the whole corpus, and the data-flow match score degenerates to 0. Please consider ignoring this score.\n",
      "WARNING: There is no reference data-flows extracted from the whole corpus, and the data-flow match score degenerates to 0. Please consider ignoring this score.\n",
      "WARNING: There is no reference data-flows extracted from the whole corpus, and the data-flow match score degenerates to 0. Please consider ignoring this score.\n",
      "WARNING: There is no reference data-flows extracted from the whole corpus, and the data-flow match score degenerates to 0. Please consider ignoring this score.\n"
     ]
    }
   ],
   "source": [
    "docstring_report = evaluate_pred_df(docstring_pred_df, target_feats, is_nl=True, parse_test=True)"
   ]
  },
  {
   "cell_type": "code",
   "execution_count": 34,
   "id": "974f1d19-e2d2-420b-83dd-a5755d122e29",
   "metadata": {},
   "outputs": [
    {
     "name": "stdout",
     "output_type": "stream",
     "text": [
      "codebleu_perfect : 0.0\n",
      "codebleu_above_90 : 0.11144427786106946\n",
      "diff_bleu_avg : 0.004418664442209302\n",
      "diff_bleu_perfect : 0.0\n",
      "diff_bleu_above_90 : 0.0\n",
      "docstr_text_scores_avg : 0.0\n",
      "docstr_text_scores_perfect : 0.0\n",
      "docstr_text_scores_above_90 : 0.0\n",
      "parse_test_accuracy : 0.7891054472763618\n"
     ]
    }
   ],
   "source": [
    "for key, val in docstring_report.items():\n",
    "    if type(val) != list and len(val.shape) == 0:\n",
    "        print(key, \":\", val)"
   ]
  },
  {
   "cell_type": "markdown",
   "id": "bc1c5974-b7b9-4d39-9e21-38cea0eb39ee",
   "metadata": {
    "tags": []
   },
   "source": [
    "## codet5_finetuned_nl_comment_preds"
   ]
  },
  {
   "cell_type": "code",
   "execution_count": 35,
   "id": "223a0bc7-802d-486c-ac31-8a1dab7ae4ea",
   "metadata": {},
   "outputs": [],
   "source": [
    "pred_csvfile = \"codet5_comment_short_preds.csv\"\n",
    "file_name = f\"{folder}/{model_name}/{ckpt}/{pred_csvfile}\"\n",
    "target_feats = [\"comment\"]"
   ]
  },
  {
   "cell_type": "code",
   "execution_count": 36,
   "id": "2eb23523-ee06-4f0e-8459-e21da06ec55e",
   "metadata": {},
   "outputs": [
    {
     "data": {
      "text/plain": [
       "{'ngram': 0.6519745504806481,\n",
       " 'weighted_ngram': 0.6697556498470272,\n",
       " 'syntax_match': 0.9319492304651582,\n",
       " 'dataflow_match': 0.953981642272389,\n",
       " 'code_bleu': 0.8019152682663055}"
      ]
     },
     "execution_count": 36,
     "metadata": {},
     "output_type": "execute_result"
    }
   ],
   "source": [
    "comment_codebleu = evaluate_codebleu(file_name,  '0.25,0.25,0.25,0.25', dropna=True, is_exclude_same_io=True)\n",
    "comment_codebleu"
   ]
  },
  {
   "cell_type": "code",
   "execution_count": 37,
   "id": "1b718db3-6ad2-4e32-9af4-8a4643910f71",
   "metadata": {},
   "outputs": [],
   "source": [
    "comment_pred_df = pd.read_csv(file_name)"
   ]
  },
  {
   "cell_type": "code",
   "execution_count": 38,
   "id": "03a44619-d2e6-4347-9b01-385deed19bf0",
   "metadata": {},
   "outputs": [],
   "source": [
    "# not sure why there is nan in preds, but just exclude it no matter what\n",
    "comment_pred_df = comment_pred_df.dropna()"
   ]
  },
  {
   "cell_type": "code",
   "execution_count": 39,
   "id": "c2ee8061-3d0b-4d3a-af33-21f5f2e1c09d",
   "metadata": {
    "scrolled": true,
    "tags": []
   },
   "outputs": [
    {
     "data": {
      "application/vnd.jupyter.widget-view+json": {
       "model_id": "d19e22bc26394c3b901484db81928be7",
       "version_major": 2,
       "version_minor": 0
      },
      "text/plain": [
       "  0%|          | 0/2001 [00:00<?, ?it/s]"
      ]
     },
     "metadata": {},
     "output_type": "display_data"
    },
    {
     "name": "stdout",
     "output_type": "stream",
     "text": [
      "WARNING: There is no reference data-flows extracted from the whole corpus, and the data-flow match score degenerates to 0. Please consider ignoring this score.\n",
      "WARNING: There is no reference data-flows extracted from the whole corpus, and the data-flow match score degenerates to 0. Please consider ignoring this score.\n",
      "WARNING: There is no reference data-flows extracted from the whole corpus, and the data-flow match score degenerates to 0. Please consider ignoring this score.\n",
      "WARNING: There is no reference data-flows extracted from the whole corpus, and the data-flow match score degenerates to 0. Please consider ignoring this score.\n",
      "WARNING: There is no reference data-flows extracted from the whole corpus, and the data-flow match score degenerates to 0. Please consider ignoring this score.\n",
      "WARNING: There is no reference data-flows extracted from the whole corpus, and the data-flow match score degenerates to 0. Please consider ignoring this score.\n",
      "WARNING: There is no reference data-flows extracted from the whole corpus, and the data-flow match score degenerates to 0. Please consider ignoring this score.\n",
      "WARNING: There is no reference data-flows extracted from the whole corpus, and the data-flow match score degenerates to 0. Please consider ignoring this score.\n",
      "WARNING: There is no reference data-flows extracted from the whole corpus, and the data-flow match score degenerates to 0. Please consider ignoring this score.\n",
      "WARNING: There is no reference data-flows extracted from the whole corpus, and the data-flow match score degenerates to 0. Please consider ignoring this score.\n",
      "WARNING: There is no reference data-flows extracted from the whole corpus, and the data-flow match score degenerates to 0. Please consider ignoring this score.\n",
      "WARNING: There is no reference data-flows extracted from the whole corpus, and the data-flow match score degenerates to 0. Please consider ignoring this score.\n",
      "WARNING: There is no reference data-flows extracted from the whole corpus, and the data-flow match score degenerates to 0. Please consider ignoring this score.\n",
      "WARNING: There is no reference data-flows extracted from the whole corpus, and the data-flow match score degenerates to 0. Please consider ignoring this score.\n",
      "WARNING: There is no reference data-flows extracted from the whole corpus, and the data-flow match score degenerates to 0. Please consider ignoring this score.\n",
      "WARNING: There is no reference data-flows extracted from the whole corpus, and the data-flow match score degenerates to 0. Please consider ignoring this score.\n",
      "WARNING: There is no reference data-flows extracted from the whole corpus, and the data-flow match score degenerates to 0. Please consider ignoring this score.\n",
      "WARNING: There is no reference data-flows extracted from the whole corpus, and the data-flow match score degenerates to 0. Please consider ignoring this score.\n",
      "WARNING: There is no reference data-flows extracted from the whole corpus, and the data-flow match score degenerates to 0. Please consider ignoring this score.\n",
      "WARNING: There is no reference data-flows extracted from the whole corpus, and the data-flow match score degenerates to 0. Please consider ignoring this score.\n",
      "WARNING: There is no reference data-flows extracted from the whole corpus, and the data-flow match score degenerates to 0. Please consider ignoring this score.\n",
      "WARNING: There is no reference data-flows extracted from the whole corpus, and the data-flow match score degenerates to 0. Please consider ignoring this score.\n",
      "WARNING: There is no reference data-flows extracted from the whole corpus, and the data-flow match score degenerates to 0. Please consider ignoring this score.\n",
      "WARNING: There is no reference data-flows extracted from the whole corpus, and the data-flow match score degenerates to 0. Please consider ignoring this score.\n",
      "WARNING: There is no reference data-flows extracted from the whole corpus, and the data-flow match score degenerates to 0. Please consider ignoring this score.\n",
      "WARNING: There is no reference data-flows extracted from the whole corpus, and the data-flow match score degenerates to 0. Please consider ignoring this score.\n",
      "WARNING: There is no reference data-flows extracted from the whole corpus, and the data-flow match score degenerates to 0. Please consider ignoring this score.\n",
      "WARNING: There is no reference data-flows extracted from the whole corpus, and the data-flow match score degenerates to 0. Please consider ignoring this score.\n",
      "WARNING: There is no reference data-flows extracted from the whole corpus, and the data-flow match score degenerates to 0. Please consider ignoring this score.\n",
      "WARNING: There is no reference data-flows extracted from the whole corpus, and the data-flow match score degenerates to 0. Please consider ignoring this score.\n",
      "WARNING: There is no reference data-flows extracted from the whole corpus, and the data-flow match score degenerates to 0. Please consider ignoring this score.\n",
      "WARNING: There is no reference data-flows extracted from the whole corpus, and the data-flow match score degenerates to 0. Please consider ignoring this score.\n",
      "WARNING: There is no reference data-flows extracted from the whole corpus, and the data-flow match score degenerates to 0. Please consider ignoring this score.\n",
      "WARNING: There is no reference data-flows extracted from the whole corpus, and the data-flow match score degenerates to 0. Please consider ignoring this score.\n",
      "WARNING: There is no reference data-flows extracted from the whole corpus, and the data-flow match score degenerates to 0. Please consider ignoring this score.\n",
      "WARNING: There is no reference data-flows extracted from the whole corpus, and the data-flow match score degenerates to 0. Please consider ignoring this score.\n",
      "WARNING: There is no reference data-flows extracted from the whole corpus, and the data-flow match score degenerates to 0. Please consider ignoring this score.\n",
      "WARNING: There is no reference data-flows extracted from the whole corpus, and the data-flow match score degenerates to 0. Please consider ignoring this score.\n",
      "WARNING: There is no reference data-flows extracted from the whole corpus, and the data-flow match score degenerates to 0. Please consider ignoring this score.\n",
      "WARNING: There is no reference data-flows extracted from the whole corpus, and the data-flow match score degenerates to 0. Please consider ignoring this score.\n",
      "WARNING: There is no reference data-flows extracted from the whole corpus, and the data-flow match score degenerates to 0. Please consider ignoring this score.\n",
      "WARNING: There is no reference data-flows extracted from the whole corpus, and the data-flow match score degenerates to 0. Please consider ignoring this score.\n",
      "WARNING: There is no reference data-flows extracted from the whole corpus, and the data-flow match score degenerates to 0. Please consider ignoring this score.\n",
      "WARNING: There is no reference data-flows extracted from the whole corpus, and the data-flow match score degenerates to 0. Please consider ignoring this score.\n",
      "WARNING: There is no reference data-flows extracted from the whole corpus, and the data-flow match score degenerates to 0. Please consider ignoring this score.\n",
      "WARNING: There is no reference data-flows extracted from the whole corpus, and the data-flow match score degenerates to 0. Please consider ignoring this score.\n",
      "WARNING: There is no reference data-flows extracted from the whole corpus, and the data-flow match score degenerates to 0. Please consider ignoring this score.\n",
      "WARNING: There is no reference data-flows extracted from the whole corpus, and the data-flow match score degenerates to 0. Please consider ignoring this score.\n",
      "WARNING: There is no reference data-flows extracted from the whole corpus, and the data-flow match score degenerates to 0. Please consider ignoring this score.\n",
      "WARNING: There is no reference data-flows extracted from the whole corpus, and the data-flow match score degenerates to 0. Please consider ignoring this score.\n",
      "WARNING: There is no reference data-flows extracted from the whole corpus, and the data-flow match score degenerates to 0. Please consider ignoring this score.\n",
      "WARNING: There is no reference data-flows extracted from the whole corpus, and the data-flow match score degenerates to 0. Please consider ignoring this score.\n",
      "WARNING: There is no reference data-flows extracted from the whole corpus, and the data-flow match score degenerates to 0. Please consider ignoring this score.\n",
      "WARNING: There is no reference data-flows extracted from the whole corpus, and the data-flow match score degenerates to 0. Please consider ignoring this score.\n",
      "WARNING: There is no reference data-flows extracted from the whole corpus, and the data-flow match score degenerates to 0. Please consider ignoring this score.\n",
      "WARNING: There is no reference data-flows extracted from the whole corpus, and the data-flow match score degenerates to 0. Please consider ignoring this score.\n",
      "WARNING: There is no reference data-flows extracted from the whole corpus, and the data-flow match score degenerates to 0. Please consider ignoring this score.\n",
      "WARNING: There is no reference data-flows extracted from the whole corpus, and the data-flow match score degenerates to 0. Please consider ignoring this score.\n",
      "WARNING: There is no reference data-flows extracted from the whole corpus, and the data-flow match score degenerates to 0. Please consider ignoring this score.\n",
      "WARNING: There is no reference data-flows extracted from the whole corpus, and the data-flow match score degenerates to 0. Please consider ignoring this score.\n",
      "WARNING: There is no reference data-flows extracted from the whole corpus, and the data-flow match score degenerates to 0. Please consider ignoring this score.\n",
      "WARNING: There is no reference data-flows extracted from the whole corpus, and the data-flow match score degenerates to 0. Please consider ignoring this score.\n",
      "WARNING: There is no reference data-flows extracted from the whole corpus, and the data-flow match score degenerates to 0. Please consider ignoring this score.\n",
      "WARNING: There is no reference data-flows extracted from the whole corpus, and the data-flow match score degenerates to 0. Please consider ignoring this score.\n",
      "WARNING: There is no reference data-flows extracted from the whole corpus, and the data-flow match score degenerates to 0. Please consider ignoring this score.\n",
      "WARNING: There is no reference data-flows extracted from the whole corpus, and the data-flow match score degenerates to 0. Please consider ignoring this score.\n",
      "WARNING: There is no reference data-flows extracted from the whole corpus, and the data-flow match score degenerates to 0. Please consider ignoring this score.\n",
      "WARNING: There is no reference data-flows extracted from the whole corpus, and the data-flow match score degenerates to 0. Please consider ignoring this score.\n",
      "WARNING: There is no reference data-flows extracted from the whole corpus, and the data-flow match score degenerates to 0. Please consider ignoring this score.\n",
      "WARNING: There is no reference data-flows extracted from the whole corpus, and the data-flow match score degenerates to 0. Please consider ignoring this score.\n",
      "WARNING: There is no reference data-flows extracted from the whole corpus, and the data-flow match score degenerates to 0. Please consider ignoring this score.\n",
      "WARNING: There is no reference data-flows extracted from the whole corpus, and the data-flow match score degenerates to 0. Please consider ignoring this score.\n",
      "WARNING: There is no reference data-flows extracted from the whole corpus, and the data-flow match score degenerates to 0. Please consider ignoring this score.\n",
      "WARNING: There is no reference data-flows extracted from the whole corpus, and the data-flow match score degenerates to 0. Please consider ignoring this score.\n",
      "WARNING: There is no reference data-flows extracted from the whole corpus, and the data-flow match score degenerates to 0. Please consider ignoring this score.\n",
      "WARNING: There is no reference data-flows extracted from the whole corpus, and the data-flow match score degenerates to 0. Please consider ignoring this score.\n",
      "WARNING: There is no reference data-flows extracted from the whole corpus, and the data-flow match score degenerates to 0. Please consider ignoring this score.\n",
      "WARNING: There is no reference data-flows extracted from the whole corpus, and the data-flow match score degenerates to 0. Please consider ignoring this score.\n",
      "WARNING: There is no reference data-flows extracted from the whole corpus, and the data-flow match score degenerates to 0. Please consider ignoring this score.\n",
      "WARNING: There is no reference data-flows extracted from the whole corpus, and the data-flow match score degenerates to 0. Please consider ignoring this score.\n",
      "WARNING: There is no reference data-flows extracted from the whole corpus, and the data-flow match score degenerates to 0. Please consider ignoring this score.\n",
      "WARNING: There is no reference data-flows extracted from the whole corpus, and the data-flow match score degenerates to 0. Please consider ignoring this score.\n",
      "WARNING: There is no reference data-flows extracted from the whole corpus, and the data-flow match score degenerates to 0. Please consider ignoring this score.\n",
      "WARNING: There is no reference data-flows extracted from the whole corpus, and the data-flow match score degenerates to 0. Please consider ignoring this score.\n",
      "WARNING: There is no reference data-flows extracted from the whole corpus, and the data-flow match score degenerates to 0. Please consider ignoring this score.\n",
      "WARNING: There is no reference data-flows extracted from the whole corpus, and the data-flow match score degenerates to 0. Please consider ignoring this score.\n",
      "WARNING: There is no reference data-flows extracted from the whole corpus, and the data-flow match score degenerates to 0. Please consider ignoring this score.\n",
      "WARNING: There is no reference data-flows extracted from the whole corpus, and the data-flow match score degenerates to 0. Please consider ignoring this score.\n",
      "WARNING: There is no reference data-flows extracted from the whole corpus, and the data-flow match score degenerates to 0. Please consider ignoring this score.\n",
      "WARNING: There is no reference data-flows extracted from the whole corpus, and the data-flow match score degenerates to 0. Please consider ignoring this score.\n",
      "WARNING: There is no reference data-flows extracted from the whole corpus, and the data-flow match score degenerates to 0. Please consider ignoring this score.\n",
      "WARNING: There is no reference data-flows extracted from the whole corpus, and the data-flow match score degenerates to 0. Please consider ignoring this score.\n",
      "WARNING: There is no reference data-flows extracted from the whole corpus, and the data-flow match score degenerates to 0. Please consider ignoring this score.\n",
      "WARNING: There is no reference data-flows extracted from the whole corpus, and the data-flow match score degenerates to 0. Please consider ignoring this score.\n",
      "WARNING: There is no reference data-flows extracted from the whole corpus, and the data-flow match score degenerates to 0. Please consider ignoring this score.\n",
      "WARNING: There is no reference data-flows extracted from the whole corpus, and the data-flow match score degenerates to 0. Please consider ignoring this score.\n",
      "WARNING: There is no reference data-flows extracted from the whole corpus, and the data-flow match score degenerates to 0. Please consider ignoring this score.\n",
      "WARNING: There is no reference data-flows extracted from the whole corpus, and the data-flow match score degenerates to 0. Please consider ignoring this score.\n",
      "WARNING: There is no reference data-flows extracted from the whole corpus, and the data-flow match score degenerates to 0. Please consider ignoring this score.\n",
      "WARNING: There is no reference data-flows extracted from the whole corpus, and the data-flow match score degenerates to 0. Please consider ignoring this score.\n",
      "WARNING: There is no reference data-flows extracted from the whole corpus, and the data-flow match score degenerates to 0. Please consider ignoring this score.\n",
      "WARNING: There is no reference data-flows extracted from the whole corpus, and the data-flow match score degenerates to 0. Please consider ignoring this score.\n",
      "WARNING: There is no reference data-flows extracted from the whole corpus, and the data-flow match score degenerates to 0. Please consider ignoring this score.\n",
      "WARNING: There is no reference data-flows extracted from the whole corpus, and the data-flow match score degenerates to 0. Please consider ignoring this score.\n",
      "WARNING: There is no reference data-flows extracted from the whole corpus, and the data-flow match score degenerates to 0. Please consider ignoring this score.\n",
      "WARNING: There is no reference data-flows extracted from the whole corpus, and the data-flow match score degenerates to 0. Please consider ignoring this score.\n",
      "WARNING: There is no reference data-flows extracted from the whole corpus, and the data-flow match score degenerates to 0. Please consider ignoring this score.\n",
      "WARNING: There is no reference data-flows extracted from the whole corpus, and the data-flow match score degenerates to 0. Please consider ignoring this score.\n",
      "WARNING: There is no reference data-flows extracted from the whole corpus, and the data-flow match score degenerates to 0. Please consider ignoring this score.\n",
      "WARNING: There is no reference data-flows extracted from the whole corpus, and the data-flow match score degenerates to 0. Please consider ignoring this score.\n",
      "WARNING: There is no reference data-flows extracted from the whole corpus, and the data-flow match score degenerates to 0. Please consider ignoring this score.\n",
      "WARNING: There is no reference data-flows extracted from the whole corpus, and the data-flow match score degenerates to 0. Please consider ignoring this score.\n"
     ]
    }
   ],
   "source": [
    "comment_report = evaluate_pred_df(comment_pred_df, target_feats, is_nl=True, parse_test=True)"
   ]
  },
  {
   "cell_type": "code",
   "execution_count": 40,
   "id": "8800262f-e659-4a69-861d-1c413c64be1f",
   "metadata": {},
   "outputs": [
    {
     "name": "stdout",
     "output_type": "stream",
     "text": [
      "codebleu_perfect : 0.16141929035482258\n",
      "codebleu_above_90 : 0.384807596201899\n",
      "diff_bleu_avg : 0.2813279087674655\n",
      "diff_bleu_perfect : 0.12093953023488256\n",
      "diff_bleu_above_90 : 0.13693153423288357\n",
      "comment_text_scores_avg : 0.08391034927961877\n",
      "comment_text_scores_perfect : 0.04147926036981509\n",
      "comment_text_scores_above_90 : 0.047476261869065464\n",
      "parse_test_accuracy : 0.904047976011994\n"
     ]
    }
   ],
   "source": [
    "for key, val in comment_report.items():\n",
    "    if type(val) != list and len(val.shape) == 0:\n",
    "        print(key, \":\", val)"
   ]
  },
  {
   "cell_type": "markdown",
   "id": "54436dda-1c6f-4b90-b9f6-e3bc1b8e430d",
   "metadata": {
    "tags": []
   },
   "source": [
    "# CodeT5 Finetuned Contd Combine Short Epoch 13"
   ]
  },
  {
   "cell_type": "markdown",
   "id": "a31caa10-11eb-4d06-86e8-b05986448b1f",
   "metadata": {},
   "source": [
    "-rw-r--r-- 1 cting3 grads    276311 Aug 17 19:48 codet5_finetuned_short_contd_docstring_list_comp_class_casing_comment_preds.csv\n",
    "-rw-r--r-- 1 cting3 grads   5275345 Aug 17 19:47 codet5_finetuned_short_contd_docstring_comment_preds.csv\n",
    "-rw-r--r-- 1 cting3 grads   1320497 Aug 17 19:40 codet5_finetuned_short_contd_list_comp_class_casing_preds.csv\n",
    "-rw-r--r-- 1 cting3 grads   4251789 Aug 17 19:38 codet5_finetuned_short_contd_class_casing_preds.csv"
   ]
  },
  {
   "cell_type": "code",
   "execution_count": 44,
   "id": "b71c5a6a-70d3-406c-b05d-be44262247ab",
   "metadata": {},
   "outputs": [],
   "source": [
    "# combined_nl_prompt_base_features_contd_codet5small\n",
    "folder = \"seq2seq_results\"\n",
    "model_name = \"combined_nl_prompt_base_features_contd_codet5small\"\n",
    "ckpt = \"checkpoint-796708\""
   ]
  },
  {
   "cell_type": "markdown",
   "id": "ee964ae3-678e-4aa4-bb48-690531263143",
   "metadata": {},
   "source": [
    "## docstring + list_comp + class + casing + comment"
   ]
  },
  {
   "cell_type": "code",
   "execution_count": 45,
   "id": "0868c6db-bae9-4aa7-91e8-8938c6f624b1",
   "metadata": {},
   "outputs": [],
   "source": [
    "pred_csvfile = \"codet5_finetuned_short_docstring_list_comp_class_casing_comment_preds.csv\"\n",
    "file_name = f\"{folder}/{model_name}/{ckpt}/{pred_csvfile}\"\n",
    "target_feats = [\"comment\", \"docstring\"]"
   ]
  },
  {
   "cell_type": "code",
   "execution_count": 46,
   "id": "74497aea-209e-4991-b5ec-e487be3d1eab",
   "metadata": {},
   "outputs": [
    {
     "data": {
      "text/plain": [
       "{'ngram': 0.2370711143795277,\n",
       " 'weighted_ngram': 0.2666262612468731,\n",
       " 'syntax_match': 0.641156462585034,\n",
       " 'dataflow_match': 0.4375542817439639,\n",
       " 'code_bleu': 0.3956020299888497}"
      ]
     },
     "execution_count": 46,
     "metadata": {},
     "output_type": "execute_result"
    }
   ],
   "source": [
    "codebleu = evaluate_codebleu(file_name,  '0.25,0.25,0.25,0.25', dropna=True, is_exclude_same_io=True)\n",
    "codebleu"
   ]
  },
  {
   "cell_type": "code",
   "execution_count": 47,
   "id": "9b098329-fe50-4325-aead-c0143563ece6",
   "metadata": {},
   "outputs": [],
   "source": [
    "pred_df = pd.read_csv(file_name)"
   ]
  },
  {
   "cell_type": "code",
   "execution_count": 48,
   "id": "3b968b16-ea23-4617-b29c-cd93d8af4cca",
   "metadata": {},
   "outputs": [],
   "source": [
    "# not sure why there is nan in preds, but just exclude it no matter what\n",
    "pred_df = pred_df.dropna()"
   ]
  },
  {
   "cell_type": "code",
   "execution_count": 49,
   "id": "1d00f925-ca95-4ac7-8240-69bedb8b0dea",
   "metadata": {
    "scrolled": true,
    "tags": []
   },
   "outputs": [
    {
     "data": {
      "application/vnd.jupyter.widget-view+json": {
       "model_id": "810b6a817eff4437a52256a3decb3f13",
       "version_major": 2,
       "version_minor": 0
      },
      "text/plain": [
       "  0%|          | 0/98 [00:00<?, ?it/s]"
      ]
     },
     "metadata": {},
     "output_type": "display_data"
    }
   ],
   "source": [
    "report = evaluate_pred_df(pred_df, target_feats, is_nl=True, parse_test=True)"
   ]
  },
  {
   "cell_type": "code",
   "execution_count": 50,
   "id": "03cf5386-5d5f-449d-ae7d-ddfd3b9e20f6",
   "metadata": {},
   "outputs": [
    {
     "name": "stdout",
     "output_type": "stream",
     "text": [
      "codebleu_perfect : 0.0\n",
      "codebleu_above_90 : 0.0\n",
      "diff_bleu_avg : 0.0015539349830256176\n",
      "diff_bleu_perfect : 0.0\n",
      "diff_bleu_above_90 : 0.0\n",
      "docstr_text_scores_avg : 4.820800458386333e-90\n",
      "docstr_text_scores_perfect : 0.0\n",
      "docstr_text_scores_above_90 : 0.0\n",
      "comment_text_scores_avg : 0.021789135543230743\n",
      "comment_text_scores_perfect : 0.02040816326530612\n",
      "comment_text_scores_above_90 : 0.02040816326530612\n",
      "parse_test_accuracy : 0.7857142857142857\n"
     ]
    }
   ],
   "source": [
    "for key, val in report.items():\n",
    "    if type(val) != list and len(val.shape) == 0:\n",
    "        print(key, \":\", val)"
   ]
  },
  {
   "cell_type": "markdown",
   "id": "a26da7aa-1f35-41dd-93ed-2069ba9a11f7",
   "metadata": {},
   "source": [
    "## docstring + comment"
   ]
  },
  {
   "cell_type": "code",
   "execution_count": 51,
   "id": "b62831e1-2df3-44d8-985b-d0173d628656",
   "metadata": {},
   "outputs": [],
   "source": [
    "pred_csvfile = \"codet5_finetuned_short_docstring_comment_preds.csv\"\n",
    "file_name = f\"{folder}/{model_name}/{ckpt}/{pred_csvfile}\"\n",
    "target_feats = [\"comment\", \"docstring\"]"
   ]
  },
  {
   "cell_type": "code",
   "execution_count": 52,
   "id": "e2a7a1ac-a257-407c-872d-026282edfa88",
   "metadata": {},
   "outputs": [
    {
     "data": {
      "text/plain": [
       "{'ngram': 0.27801499852601474,\n",
       " 'weighted_ngram': 0.29462125948909834,\n",
       " 'syntax_match': 0.7661626487310451,\n",
       " 'dataflow_match': 0.8689570129146889,\n",
       " 'code_bleu': 0.5519389799152118}"
      ]
     },
     "execution_count": 52,
     "metadata": {},
     "output_type": "execute_result"
    }
   ],
   "source": [
    "codebleu = evaluate_codebleu(file_name,  '0.25,0.25,0.25,0.25', dropna=True, is_exclude_same_io=True)\n",
    "codebleu"
   ]
  },
  {
   "cell_type": "code",
   "execution_count": 53,
   "id": "49d3e1eb-d06a-4483-9449-61c505859ef1",
   "metadata": {},
   "outputs": [],
   "source": [
    "pred_df = pd.read_csv(file_name)"
   ]
  },
  {
   "cell_type": "code",
   "execution_count": 54,
   "id": "1cd713c0-53d8-4fb4-8deb-08970f0cd6d0",
   "metadata": {},
   "outputs": [],
   "source": [
    "# not sure why there is nan in preds, but just exclude it no matter what\n",
    "pred_df = pred_df.dropna()"
   ]
  },
  {
   "cell_type": "code",
   "execution_count": 55,
   "id": "d164270d-4f41-4b76-8538-9c82b21d912b",
   "metadata": {
    "scrolled": true,
    "tags": []
   },
   "outputs": [
    {
     "data": {
      "application/vnd.jupyter.widget-view+json": {
       "model_id": "3e77a23f5aec440fa7c683dc98a54d88",
       "version_major": 2,
       "version_minor": 0
      },
      "text/plain": [
       "  0%|          | 0/2000 [00:00<?, ?it/s]"
      ]
     },
     "metadata": {},
     "output_type": "display_data"
    },
    {
     "name": "stdout",
     "output_type": "stream",
     "text": [
      "WARNING: There is no reference data-flows extracted from the whole corpus, and the data-flow match score degenerates to 0. Please consider ignoring this score.\n",
      "WARNING: There is no reference data-flows extracted from the whole corpus, and the data-flow match score degenerates to 0. Please consider ignoring this score.\n",
      "WARNING: There is no reference data-flows extracted from the whole corpus, and the data-flow match score degenerates to 0. Please consider ignoring this score.\n",
      "WARNING: There is no reference data-flows extracted from the whole corpus, and the data-flow match score degenerates to 0. Please consider ignoring this score.\n",
      "WARNING: There is no reference data-flows extracted from the whole corpus, and the data-flow match score degenerates to 0. Please consider ignoring this score.\n",
      "WARNING: There is no reference data-flows extracted from the whole corpus, and the data-flow match score degenerates to 0. Please consider ignoring this score.\n",
      "WARNING: There is no reference data-flows extracted from the whole corpus, and the data-flow match score degenerates to 0. Please consider ignoring this score.\n",
      "WARNING: There is no reference data-flows extracted from the whole corpus, and the data-flow match score degenerates to 0. Please consider ignoring this score.\n",
      "WARNING: There is no reference data-flows extracted from the whole corpus, and the data-flow match score degenerates to 0. Please consider ignoring this score.\n",
      "WARNING: There is no reference data-flows extracted from the whole corpus, and the data-flow match score degenerates to 0. Please consider ignoring this score.\n",
      "WARNING: There is no reference data-flows extracted from the whole corpus, and the data-flow match score degenerates to 0. Please consider ignoring this score.\n",
      "WARNING: There is no reference data-flows extracted from the whole corpus, and the data-flow match score degenerates to 0. Please consider ignoring this score.\n",
      "WARNING: There is no reference data-flows extracted from the whole corpus, and the data-flow match score degenerates to 0. Please consider ignoring this score.\n",
      "WARNING: There is no reference data-flows extracted from the whole corpus, and the data-flow match score degenerates to 0. Please consider ignoring this score.\n",
      "WARNING: There is no reference data-flows extracted from the whole corpus, and the data-flow match score degenerates to 0. Please consider ignoring this score.\n",
      "WARNING: There is no reference data-flows extracted from the whole corpus, and the data-flow match score degenerates to 0. Please consider ignoring this score.\n",
      "WARNING: There is no reference data-flows extracted from the whole corpus, and the data-flow match score degenerates to 0. Please consider ignoring this score.\n",
      "WARNING: There is no reference data-flows extracted from the whole corpus, and the data-flow match score degenerates to 0. Please consider ignoring this score.\n",
      "WARNING: There is no reference data-flows extracted from the whole corpus, and the data-flow match score degenerates to 0. Please consider ignoring this score.\n"
     ]
    }
   ],
   "source": [
    "report = evaluate_pred_df(pred_df, target_feats, is_nl=True, parse_test=True)"
   ]
  },
  {
   "cell_type": "code",
   "execution_count": 56,
   "id": "7661d252-85d7-4340-975f-03f3e17754c8",
   "metadata": {},
   "outputs": [
    {
     "name": "stdout",
     "output_type": "stream",
     "text": [
      "codebleu_perfect : 0.0\n",
      "codebleu_above_90 : 0.0015\n",
      "diff_bleu_avg : 0.012957864485672797\n",
      "diff_bleu_perfect : 0.0\n",
      "diff_bleu_above_90 : 0.0\n",
      "docstr_text_scores_avg : 0.0226052589831815\n",
      "docstr_text_scores_perfect : 0.0005\n",
      "docstr_text_scores_above_90 : 0.001\n",
      "comment_text_scores_avg : 0.0040017806028904675\n",
      "comment_text_scores_perfect : 0.0015\n",
      "comment_text_scores_above_90 : 0.0025\n",
      "parse_test_accuracy : 0.7775\n"
     ]
    }
   ],
   "source": [
    "for key, val in report.items():\n",
    "    if type(val) != list and len(val.shape) == 0:\n",
    "        print(key, \":\", val)"
   ]
  },
  {
   "cell_type": "markdown",
   "id": "cdaa565a-9783-4ddb-b95a-770e934d0b91",
   "metadata": {},
   "source": [
    "## class+casing"
   ]
  },
  {
   "cell_type": "code",
   "execution_count": 57,
   "id": "0c782522-59a6-46e6-9397-d61a0e69ebc1",
   "metadata": {},
   "outputs": [],
   "source": [
    "pred_csvfile = \"codet5_finetuned_short_class_casing_preds.csv\"\n",
    "file_name = f\"{folder}/{model_name}/{ckpt}/{pred_csvfile}\"\n",
    "target_feats = [\"class\", \"casing\"]"
   ]
  },
  {
   "cell_type": "code",
   "execution_count": 58,
   "id": "c1cf141e-ed43-4e20-9bd7-3e016f5d8572",
   "metadata": {
    "tags": []
   },
   "outputs": [
    {
     "data": {
      "text/plain": [
       "{'ngram': 0.5675763890543825,\n",
       " 'weighted_ngram': 0.5799559744299995,\n",
       " 'syntax_match': 0.7018852046271323,\n",
       " 'dataflow_match': 0.5375063233204057,\n",
       " 'code_bleu': 0.5967309728579799}"
      ]
     },
     "execution_count": 58,
     "metadata": {},
     "output_type": "execute_result"
    }
   ],
   "source": [
    "codebleu = evaluate_codebleu(file_name,  '0.25,0.25,0.25,0.25', dropna=True, is_exclude_same_io=True)\n",
    "codebleu"
   ]
  },
  {
   "cell_type": "code",
   "execution_count": 59,
   "id": "60994616-2af4-443f-b7c6-7a577667dd5c",
   "metadata": {},
   "outputs": [],
   "source": [
    "pred_df = pd.read_csv(file_name)"
   ]
  },
  {
   "cell_type": "code",
   "execution_count": 60,
   "id": "cd02f462-2b5b-4ea5-aac6-051d9ae4c876",
   "metadata": {},
   "outputs": [],
   "source": [
    "# not sure why there is nan in preds, but just exclude it no matter what\n",
    "pred_df = pred_df.dropna()"
   ]
  },
  {
   "cell_type": "code",
   "execution_count": 61,
   "id": "e052b1ec-4d87-449d-a30d-41388923b051",
   "metadata": {
    "scrolled": true,
    "tags": []
   },
   "outputs": [
    {
     "data": {
      "application/vnd.jupyter.widget-view+json": {
       "model_id": "fae0c0bfb91047fb880495a34e1fd6ee",
       "version_major": 2,
       "version_minor": 0
      },
      "text/plain": [
       "  0%|          | 0/2002 [00:00<?, ?it/s]"
      ]
     },
     "metadata": {},
     "output_type": "display_data"
    },
    {
     "name": "stdout",
     "output_type": "stream",
     "text": [
      "WARNING: There is no reference data-flows extracted from the whole corpus, and the data-flow match score degenerates to 0. Please consider ignoring this score.\n",
      "WARNING: There is no reference data-flows extracted from the whole corpus, and the data-flow match score degenerates to 0. Please consider ignoring this score.\n",
      "WARNING: There is no reference data-flows extracted from the whole corpus, and the data-flow match score degenerates to 0. Please consider ignoring this score.\n",
      "WARNING: There is no reference data-flows extracted from the whole corpus, and the data-flow match score degenerates to 0. Please consider ignoring this score.\n",
      "WARNING: There is no reference data-flows extracted from the whole corpus, and the data-flow match score degenerates to 0. Please consider ignoring this score.\n",
      "WARNING: There is no reference data-flows extracted from the whole corpus, and the data-flow match score degenerates to 0. Please consider ignoring this score.\n"
     ]
    }
   ],
   "source": [
    "report = evaluate_pred_df(pred_df, target_feats, is_nl=True, parse_test=True)"
   ]
  },
  {
   "cell_type": "code",
   "execution_count": 62,
   "id": "a5723a03-2739-4523-8a2a-fa7f51f03e2a",
   "metadata": {},
   "outputs": [
    {
     "name": "stdout",
     "output_type": "stream",
     "text": [
      "codebleu_perfect : 0.003996003996003996\n",
      "codebleu_above_90 : 0.02097902097902098\n",
      "diff_bleu_avg : 0.03481417975360696\n",
      "diff_bleu_perfect : 0.003996003996003996\n",
      "diff_bleu_above_90 : 0.003996003996003996\n",
      "parse_test_accuracy : 0.7892107892107892\n"
     ]
    }
   ],
   "source": [
    "for key, val in report.items():\n",
    "    if type(val) != list and len(val.shape) == 0:\n",
    "        print(key, \":\", val)"
   ]
  },
  {
   "cell_type": "markdown",
   "id": "386cd9c7-5535-40cf-8f61-f5227bee1610",
   "metadata": {
    "tags": []
   },
   "source": [
    "## list_comp+class+casing"
   ]
  },
  {
   "cell_type": "code",
   "execution_count": 63,
   "id": "e3c2c507-e1ad-4da0-bd69-9fd76590695d",
   "metadata": {
    "tags": []
   },
   "outputs": [],
   "source": [
    "pred_csvfile = \"codet5_finetuned_short_list_comp_class_casing_preds.csv\"\n",
    "file_name = f\"{folder}/{model_name}/{ckpt}/{pred_csvfile}\"\n",
    "target_feats = [\"class\", \"casing\", \"list_comp\"]"
   ]
  },
  {
   "cell_type": "code",
   "execution_count": 64,
   "id": "a85943b9-09a4-4067-b3ec-32691d5631b1",
   "metadata": {},
   "outputs": [
    {
     "data": {
      "text/plain": [
       "{'ngram': 0.7081693792580135,\n",
       " 'weighted_ngram': 0.7168083212232143,\n",
       " 'syntax_match': 0.7760898678766316,\n",
       " 'dataflow_match': 0.506791059537153,\n",
       " 'code_bleu': 0.6769646569737531}"
      ]
     },
     "execution_count": 64,
     "metadata": {},
     "output_type": "execute_result"
    }
   ],
   "source": [
    "codebleu = evaluate_codebleu(file_name,  '0.25,0.25,0.25,0.25', dropna=True, is_exclude_same_io=True)\n",
    "codebleu"
   ]
  },
  {
   "cell_type": "code",
   "execution_count": 65,
   "id": "4c89c841-02dc-497c-9a93-a11ddfc4bbc7",
   "metadata": {},
   "outputs": [],
   "source": [
    "pred_df = pd.read_csv(file_name)"
   ]
  },
  {
   "cell_type": "code",
   "execution_count": 66,
   "id": "025aeafe-423c-45dc-adea-2035ffde388e",
   "metadata": {},
   "outputs": [],
   "source": [
    "# not sure why there is nan in preds, but just exclude it no matter what\n",
    "pred_df = pred_df.dropna()"
   ]
  },
  {
   "cell_type": "code",
   "execution_count": 67,
   "id": "8374662a-d82d-4ab2-8783-047de2d3b10d",
   "metadata": {
    "scrolled": true,
    "tags": []
   },
   "outputs": [
    {
     "data": {
      "application/vnd.jupyter.widget-view+json": {
       "model_id": "8746333a3cb446779195dcf43d221181",
       "version_major": 2,
       "version_minor": 0
      },
      "text/plain": [
       "  0%|          | 0/468 [00:00<?, ?it/s]"
      ]
     },
     "metadata": {},
     "output_type": "display_data"
    }
   ],
   "source": [
    "report = evaluate_pred_df(pred_df, target_feats, is_nl=True, parse_test=True)"
   ]
  },
  {
   "cell_type": "code",
   "execution_count": 68,
   "id": "92e1565e-97be-4ba3-8416-e9cf6c57f7d0",
   "metadata": {},
   "outputs": [
    {
     "name": "stdout",
     "output_type": "stream",
     "text": [
      "codebleu_perfect : 0.0\n",
      "codebleu_above_90 : 0.042735042735042736\n",
      "diff_bleu_avg : 0.06586243624288024\n",
      "diff_bleu_perfect : 0.0\n",
      "diff_bleu_above_90 : 0.0\n",
      "parse_test_accuracy : 0.7222222222222222\n"
     ]
    }
   ],
   "source": [
    "for key, val in report.items():\n",
    "    if type(val) != list and len(val.shape) == 0:\n",
    "        print(key, \":\", val)"
   ]
  },
  {
   "cell_type": "code",
   "execution_count": null,
   "id": "e238f571-91f1-4386-b2bd-8fac485f23be",
   "metadata": {},
   "outputs": [],
   "source": []
  }
 ],
 "metadata": {
  "kernelspec": {
   "display_name": "Python 3 (ipykernel)",
   "language": "python",
   "name": "python3"
  },
  "language_info": {
   "codemirror_mode": {
    "name": "ipython",
    "version": 3
   },
   "file_extension": ".py",
   "mimetype": "text/x-python",
   "name": "python",
   "nbconvert_exporter": "python",
   "pygments_lexer": "ipython3",
   "version": "3.8.13"
  }
 },
 "nbformat": 4,
 "nbformat_minor": 5
}

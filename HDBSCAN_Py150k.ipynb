{
 "cells": [
  {
   "cell_type": "code",
   "execution_count": 2,
   "metadata": {
    "colab": {
     "base_uri": "https://localhost:8080/"
    },
    "id": "Sw-726tZcLZ0",
    "outputId": "9e1a843f-23ec-4994-d5b8-7e9a6ff6ecfc"
   },
   "outputs": [
    {
     "name": "stdout",
     "output_type": "stream",
     "text": [
      "Requirement already satisfied: scipy in /Users/daohuei/miniconda3/envs/py3_8/lib/python3.8/site-packages (1.8.0)\n",
      "Requirement already satisfied: numpy<1.25.0,>=1.17.3 in /Users/daohuei/miniconda3/envs/py3_8/lib/python3.8/site-packages (from scipy) (1.21.5)\n",
      "Collecting seaborn\n",
      "  Downloading seaborn-0.11.2-py3-none-any.whl (292 kB)\n",
      "\u001b[K     |████████████████████████████████| 292 kB 2.2 MB/s eta 0:00:01\n",
      "\u001b[?25hRequirement already satisfied: numpy>=1.15 in /Users/daohuei/miniconda3/envs/py3_8/lib/python3.8/site-packages (from seaborn) (1.21.5)\n",
      "Requirement already satisfied: pandas>=0.23 in /Users/daohuei/miniconda3/envs/py3_8/lib/python3.8/site-packages (from seaborn) (1.4.2)\n",
      "Requirement already satisfied: matplotlib>=2.2 in /Users/daohuei/miniconda3/envs/py3_8/lib/python3.8/site-packages (from seaborn) (3.5.2)\n",
      "Requirement already satisfied: scipy>=1.0 in /Users/daohuei/miniconda3/envs/py3_8/lib/python3.8/site-packages (from seaborn) (1.8.0)\n",
      "Requirement already satisfied: python-dateutil>=2.7 in /Users/daohuei/miniconda3/envs/py3_8/lib/python3.8/site-packages (from matplotlib>=2.2->seaborn) (2.8.2)\n",
      "Requirement already satisfied: pillow>=6.2.0 in /Users/daohuei/miniconda3/envs/py3_8/lib/python3.8/site-packages (from matplotlib>=2.2->seaborn) (9.0.1)\n",
      "Requirement already satisfied: pyparsing>=2.2.1 in /Users/daohuei/miniconda3/envs/py3_8/lib/python3.8/site-packages (from matplotlib>=2.2->seaborn) (3.0.9)\n",
      "Requirement already satisfied: fonttools>=4.22.0 in /Users/daohuei/miniconda3/envs/py3_8/lib/python3.8/site-packages (from matplotlib>=2.2->seaborn) (4.33.3)\n",
      "Requirement already satisfied: cycler>=0.10 in /Users/daohuei/miniconda3/envs/py3_8/lib/python3.8/site-packages (from matplotlib>=2.2->seaborn) (0.11.0)\n",
      "Requirement already satisfied: packaging>=20.0 in /Users/daohuei/miniconda3/envs/py3_8/lib/python3.8/site-packages (from matplotlib>=2.2->seaborn) (21.3)\n",
      "Requirement already satisfied: kiwisolver>=1.0.1 in /Users/daohuei/miniconda3/envs/py3_8/lib/python3.8/site-packages (from matplotlib>=2.2->seaborn) (1.4.2)\n",
      "Requirement already satisfied: pytz>=2020.1 in /Users/daohuei/miniconda3/envs/py3_8/lib/python3.8/site-packages (from pandas>=0.23->seaborn) (2022.1)\n",
      "Requirement already satisfied: six>=1.5 in /Users/daohuei/miniconda3/envs/py3_8/lib/python3.8/site-packages (from python-dateutil>=2.7->matplotlib>=2.2->seaborn) (1.16.0)\n",
      "Installing collected packages: seaborn\n",
      "Successfully installed seaborn-0.11.2\n"
     ]
    }
   ],
   "source": [
    "!pip3 install scipy\n",
    "!pip3 install seaborn\n",
    "import scipy\n",
    "import pandas as pd\n",
    "from sklearn.manifold import TSNE\n",
    "import matplotlib.pyplot as plt\n",
    "import seaborn as sns"
   ]
  },
  {
   "cell_type": "code",
   "execution_count": 6,
   "metadata": {
    "colab": {
     "base_uri": "https://localhost:8080/"
    },
    "id": "5LnKBFhYcUQZ",
    "outputId": "a7a11854-c08f-47c3-b91f-e7109d002eb7"
   },
   "outputs": [
    {
     "name": "stdout",
     "output_type": "stream",
     "text": [
      "   Unnamed: 0                                   file_name user_name  \\\n",
      "0           0                   data/00/wikihouse/urls.py        00   \n",
      "1           1  data/0rpc/zerorpc-python/zerorpc/events.py      0rpc   \n",
      "2           2           data/0xadada/dockdj/app/manage.py   0xadada   \n",
      "3           3              data/1stvamp/hippybot/setup.py   1stvamp   \n",
      "4           4           data/2buntu/2buntu-blog/manage.py    2buntu   \n",
      "\n",
      "        repo_name                                          py_script  comment  \\\n",
      "0       wikihouse  #!/usr/bin/env python\\n# -*- coding: utf-8 -*-...        2   \n",
      "1  zerorpc-python  # -*- coding: utf-8 -*-\\n# Open Source Initiat...       24   \n",
      "2          dockdj  #!/usr/bin/env python\\n\"\"\"Django's command lin...        1   \n",
      "3        hippybot  \"\"\"Installer for hippybot\\n\"\"\"\\n\\nimport os\\nc...        0   \n",
      "4     2buntu-blog  #!/usr/bin/env python\\nimport os\\nimport sys\\n...        1   \n",
      "\n",
      "   comment_len  comment_den  line_count  \n",
      "0           44     0.017241         116  \n",
      "1         1244     0.066116         363  \n",
      "2           21     0.076923          13  \n",
      "3            0     0.000000          34  \n",
      "4           21     0.090909          11  \n"
     ]
    }
   ],
   "source": [
    "# TODO: need to create dataframe.csv file with Ken's script\n",
    "data = pd.read_csv('dataframe.csv')\n",
    "data.head()\n",
    "data2 = data.dropna()\n",
    "print(data2.head())\n",
    "#data2.shape"
   ]
  },
  {
   "cell_type": "code",
   "execution_count": 7,
   "metadata": {
    "colab": {
     "base_uri": "https://localhost:8080/"
    },
    "id": "M_jPrYgKdn8N",
    "outputId": "6b4b0ff7-5a71-4d2e-84c2-0b2b42f33149"
   },
   "outputs": [
    {
     "name": "stderr",
     "output_type": "stream",
     "text": [
      "/Users/daohuei/miniconda3/envs/py3_8/lib/python3.8/site-packages/sklearn/manifold/_t_sne.py:795: FutureWarning: The default initialization in TSNE will change from 'random' to 'pca' in 1.2.\n",
      "  warnings.warn(\n",
      "/Users/daohuei/miniconda3/envs/py3_8/lib/python3.8/site-packages/sklearn/manifold/_t_sne.py:805: FutureWarning: The default learning rate in TSNE will change from 200.0 to 'auto' in 1.2.\n",
      "  warnings.warn(\n"
     ]
    },
    {
     "data": {
      "text/plain": [
       "<matplotlib.collections.PathCollection at 0x177f9aaf0>"
      ]
     },
     "execution_count": 7,
     "metadata": {},
     "output_type": "execute_result"
    },
    {
     "data": {
      "image/png": "[encoded data removed]",
      "text/plain": [
       "<Figure size 432x288 with 1 Axes>"
      ]
     },
     "metadata": {
      "needs_background": "light"
     },
     "output_type": "display_data"
    }
   ],
   "source": [
    "from sklearn.feature_extraction.text import TfidfVectorizer\n",
    "from sklearn.compose import make_column_transformer\n",
    "vect = TfidfVectorizer()\n",
    "ct = make_column_transformer((vect,'file_name'),(vect,'user_name'),(vect,'py_script'),(vect,'repo_name'),remainder='passthrough')\n",
    "X = ct.fit_transform(data2)\n",
    "projection = TSNE().fit_transform(X)\n",
    "plt.scatter(*projection.T)"
   ]
  },
  {
   "cell_type": "code",
   "execution_count": 9,
   "metadata": {
    "id": "mvendQ_QfEIm"
   },
   "outputs": [
    {
     "name": "stdout",
     "output_type": "stream",
     "text": [
      "Collecting hdbscan\n",
      "  Downloading hdbscan-0.8.28.tar.gz (5.2 MB)\n",
      "\u001b[K     |████████████████████████████████| 5.2 MB 2.4 MB/s eta 0:00:01\n",
      "\u001b[?25h  Installing build dependencies ... \u001b[?25ldone\n",
      "\u001b[?25h  Getting requirements to build wheel ... \u001b[?25ldone\n",
      "\u001b[?25h    Preparing wheel metadata ... \u001b[?25ldone\n",
      "\u001b[?25hRequirement already satisfied: scipy>=1.0 in /Users/daohuei/miniconda3/envs/py3_8/lib/python3.8/site-packages (from hdbscan) (1.8.0)\n",
      "Collecting cython>=0.27\n",
      "  Using cached Cython-0.29.29-py2.py3-none-any.whl (985 kB)\n",
      "Requirement already satisfied: scikit-learn>=0.20 in /Users/daohuei/miniconda3/envs/py3_8/lib/python3.8/site-packages (from hdbscan) (1.1.0)\n",
      "Requirement already satisfied: joblib>=1.0 in /Users/daohuei/miniconda3/envs/py3_8/lib/python3.8/site-packages (from hdbscan) (1.1.0)\n",
      "Requirement already satisfied: numpy>=1.20 in /Users/daohuei/miniconda3/envs/py3_8/lib/python3.8/site-packages (from hdbscan) (1.21.5)\n",
      "Requirement already satisfied: threadpoolctl>=2.0.0 in /Users/daohuei/miniconda3/envs/py3_8/lib/python3.8/site-packages (from scikit-learn>=0.20->hdbscan) (3.1.0)\n",
      "Building wheels for collected packages: hdbscan\n",
      "  Building wheel for hdbscan (PEP 517) ... \u001b[?25ldone\n",
      "\u001b[?25h  Created wheel for hdbscan: filename=hdbscan-0.8.28-cp38-cp38-macosx_11_0_arm64.whl size=630280 sha256=ce59041ba55b9ff6f3a2d420fab96893479814e0d85227aabf38acb2ad0a2be8\n",
      "  Stored in directory: /Users/daohuei/Library/Caches/pip/wheels/dc/71/35/27e492e5848c7d1b38a6ea86e10261fd7ebaabf7e72c0b47c4\n",
      "Successfully built hdbscan\n",
      "Installing collected packages: cython, hdbscan\n",
      "Successfully installed cython-0.29.29 hdbscan-0.8.28\n",
      "20\n",
      "110000\n"
     ]
    },
    {
     "data": {
      "text/plain": [
       "<matplotlib.collections.PathCollection at 0x17c505730>"
      ]
     },
     "execution_count": 9,
     "metadata": {},
     "output_type": "execute_result"
    },
    {
     "data": {
      "image/png": "[encoded data removed]",
      "text/plain": [
       "<Figure size 432x288 with 1 Axes>"
      ]
     },
     "metadata": {
      "needs_background": "light"
     },
     "output_type": "display_data"
    }
   ],
   "source": [
    "# !pip install hdbscan\n",
    "from sklearn.cluster import DBSCAN\n",
    "import numpy as np\n",
    "import hdbscan\n",
    "#clustering = DBSCAN(eps=3, min_samples=2)\n",
    "#clustering.fit_predict(X)\n",
    "\n",
    "\n",
    "clusterer = hdbscan.HDBSCAN(min_samples=10,min_cluster_size=50, prediction_data=True).fit(X.toarray())\n",
    "print(len(clusterer.labels_))\n",
    "\n",
    "\n",
    "color_palette = sns.color_palette('Paired', 110000)\n",
    "print(len(color_palette))\n",
    "\n",
    "cluster_colors = [color_palette[x] if x >= 0\n",
    "                  else (0.5, 0.5, 0.5)\n",
    "                  for x in clusterer.labels_]\n",
    "cluster_member_colors = [sns.desaturate(x, p) for x, p in\n",
    "                         zip(cluster_colors, clusterer.probabilities_)]\n",
    "plt.scatter(*projection.T, s=50, linewidth=0, c=cluster_member_colors, alpha=0.25)"
   ]
  }
 ],
 "metadata": {
  "accelerator": "TPU",
  "colab": {
   "background_execution": "on",
   "collapsed_sections": [],
   "machine_shape": "hm",
   "name": "HDBSCAN_Py150k.ipynb",
   "provenance": []
  },
  "kernelspec": {
   "display_name": "Python 3",
   "language": "python",
   "name": "python3"
  },
  "language_info": {
   "codemirror_mode": {
    "name": "ipython",
    "version": 3
   },
   "file_extension": ".py",
   "mimetype": "text/x-python",
   "name": "python",
   "nbconvert_exporter": "python",
   "pygments_lexer": "ipython3",
   "version": "3.8.13"
  }
 },
 "nbformat": 4,
 "nbformat_minor": 4
}

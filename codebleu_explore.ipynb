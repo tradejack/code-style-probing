{
 "cells": [
  {
   "cell_type": "code",
   "execution_count": null,
   "id": "b4f03415-cdd0-4114-aa5b-9560ac40670a",
   "metadata": {},
   "outputs": [],
   "source": [
    "# !pip install tree_sitter"
   ]
  },
  {
   "cell_type": "code",
   "execution_count": null,
   "id": "41d02a32-ffb5-4913-b033-da025762e08a",
   "metadata": {},
   "outputs": [],
   "source": [
    "# explore CodeBLEU eval"
   ]
  },
  {
   "cell_type": "code",
   "execution_count": 9,
   "id": "8c461f20-3220-4803-b99f-b6f3cb063740",
   "metadata": {},
   "outputs": [],
   "source": [
    "from evaluator.CodeBLEU.calc_code_bleu import get_codebleu"
   ]
  },
  {
   "cell_type": "code",
   "execution_count": 10,
   "id": "c09698b6-61ea-4164-8a10-48acaf0d4856",
   "metadata": {},
   "outputs": [],
   "source": [
    "from utils.helper import read_file_to_string"
   ]
  },
  {
   "cell_type": "code",
   "execution_count": 11,
   "id": "adad2e76-f2b9-4c1b-8d2c-966f7bb9d8e0",
   "metadata": {},
   "outputs": [],
   "source": [
    "sample_code_file = \"utils/test_code.py\""
   ]
  },
  {
   "cell_type": "code",
   "execution_count": 16,
   "id": "ea630c28-86a1-4b06-bcec-19da9c0f6756",
   "metadata": {},
   "outputs": [],
   "source": [
    "# a list of gold codes (which is just some variants of the same code, we can use every code of different styles)\n",
    "refs = [sample_code_file]\n",
    "# the prediction code\n",
    "hyps = sample_code_file"
   ]
  },
  {
   "cell_type": "markdown",
   "id": "86ee0964-6592-4cc2-8321-8236fcfaba72",
   "metadata": {},
   "source": [
    "# Example:\n",
    "    >>> hypothesis1 = ['It', 'is', 'a', 'guide', 'to', 'action', 'which',\n",
    "    ...               'ensures', 'that', 'the', 'military', 'always',\n",
    "    ...               'obeys', 'the', 'commands', 'of', 'the', 'party']\n",
    "    >>> hypothesis2 = ['It', 'is', 'to', 'insure', 'the', 'troops',\n",
    "    ...               'forever', 'hearing', 'the', 'activity', 'guidebook',\n",
    "    ...               'that', 'party', 'direct']\n",
    "    >>> reference1 = ['It', 'is', 'a', 'guide', 'to', 'action', 'that',\n",
    "    ...               'ensures', 'that', 'the', 'military', 'will', 'forever',\n",
    "    ...               'heed', 'Party', 'commands']\n",
    "    >>> reference2 = ['It', 'is', 'the', 'guiding', 'principle', 'which',\n",
    "    ...               'guarantees', 'the', 'military', 'forces', 'always',\n",
    "    ...               'being', 'under', 'the', 'command', 'of', 'the',\n",
    "    ...               'Party']\n",
    "    >>> reference3 = ['It', 'is', 'the', 'practical', 'guide', 'for', 'the',\n",
    "    ...               'army', 'always', 'to', 'heed', 'the', 'directions',\n",
    "    ...               'of', 'the', 'party']\n",
    "    >>> sentence_bleu([reference1, reference2, reference3], hypothesis1)"
   ]
  },
  {
   "cell_type": "code",
   "execution_count": 82,
   "id": "fcc8e512-fc6c-4562-a3fb-fe6848096e96",
   "metadata": {},
   "outputs": [
    {
     "name": "stdout",
     "output_type": "stream",
     "text": [
      "ngram match: 0.7680037576522517, weighted ngram match: 0.7122946390771117, syntax_match: 1.0, dataflow_match: 1.0\n"
     ]
    },
    {
     "data": {
      "text/plain": [
       "0.8700745991823409"
      ]
     },
     "execution_count": 82,
     "metadata": {},
     "output_type": "execute_result"
    }
   ],
   "source": [
    "get_codebleu(refs, hyps, \"python\", '0.25,0.25,0.25,0.25')"
   ]
  }
 ],
 "metadata": {
  "kernelspec": {
   "display_name": "Python 3 (ipykernel)",
   "language": "python",
   "name": "python3"
  },
  "language_info": {
   "codemirror_mode": {
    "name": "ipython",
    "version": 3
   },
   "file_extension": ".py",
   "mimetype": "text/x-python",
   "name": "python",
   "nbconvert_exporter": "python",
   "pygments_lexer": "ipython3",
   "version": "3.8.13"
  }
 },
 "nbformat": 4,
 "nbformat_minor": 5
}

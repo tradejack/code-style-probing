{
 "cells": [
  {
   "cell_type": "code",
   "execution_count": 34,
   "id": "24c31223-a17d-4edc-b4ac-9d2bf9a356d1",
   "metadata": {},
   "outputs": [],
   "source": [
    "import pickle\n",
    "import numpy as np\n",
    "import matplotlib.pyplot as plt\n",
    "from sklearn.metrics import  davies_bouldin_score\n",
    "from tqdm.auto import tqdm\n",
    "\n",
    "from collections import Counter\n"
   ]
  },
  {
   "cell_type": "code",
   "execution_count": 2,
   "id": "17811581-480a-4edf-8920-740bf4714143",
   "metadata": {},
   "outputs": [],
   "source": [
    "import os\n",
    "import re\n",
    "PICKLE_REGEX = r\"([a-z_]*)-([a-z_]*)_clusterer\\.pickle\"\n",
    "pickle_files = []\n",
    "for root, dirs, files in os.walk(\"./data/BigQuery/clusters/feature_set_2\", topdown=False):\n",
    "    for name in files:\n",
    "        regex_match = re.match(PICKLE_REGEX, name)\n",
    "        if regex_match:\n",
    "            file_info = {}\n",
    "            file_info[\"path\"] = os.path.join(root, name)\n",
    "            file_info[\"file_name\"] = name\n",
    "            file_info[\"features\"] = [regex_match.group(1), regex_match.group(2)]\n",
    "            \n",
    "            pickle_files += [file_info.copy()]"
   ]
  },
  {
   "cell_type": "code",
   "execution_count": 3,
   "id": "8ed49e88-a50b-4fe4-a45e-2805464561df",
   "metadata": {},
   "outputs": [
    {
     "name": "stdout",
     "output_type": "stream",
     "text": [
      "HDBSCAN(cluster_selection_epsilon=0.01, min_cluster_size=500, min_samples=100,\n",
      "        prediction_data=True)\n",
      "[2 7 7 ... 7 7 7] 115050 None\n"
     ]
    }
   ],
   "source": [
    "labels = []\n",
    "with open(pickle_files[0][\"path\"], \"rb\") as file:\n",
    "    cluster_pred = pickle.load(file)\n",
    "    labels = cluster_pred.labels_\n",
    "    print(labels, len(labels), print(cluster_pred))"
   ]
  },
  {
   "cell_type": "code",
   "execution_count": 4,
   "id": "f3697919-6a20-4223-98e8-41d15077c1ea",
   "metadata": {},
   "outputs": [],
   "source": [
    "def random_sample_clusters(sample_df, labels):\n",
    "    sample_size = len(sample_df)\n",
    "    labels_cat = np.unique(labels)\n",
    "    prob_dist = {k:v/sample_size for k,v in dict(Counter(labels)).items()}\n",
    "    results = []\n",
    "    return np.random.choice(labels_cat, sample_size, p=[prob_dist[l] for l in labels_cat])\n",
    "\n",
    "def get_high_freq_users(user_freq_dist, freq_thresh = 1000):\n",
    "    users = []\n",
    "    for user, freq in user_freq_dist:\n",
    "        if freq < freq_thresh: continue\n",
    "        users += [user]\n",
    "    return users\n",
    "\n",
    "def purity(cluster_labels, gold_labels):\n",
    "    cluster_num = np.unique(cluster_labels).shape[0]\n",
    "    cluster_sets = {}\n",
    "    for cluster_label in np.unique(cluster_labels):\n",
    "        cluster_sets[cluster_label] = []\n",
    "    \n",
    "    for idx, cluster_label in enumerate(cluster_labels):\n",
    "        cluster_sets[cluster_label].append(gold_labels[idx])\n",
    "    \n",
    "    total_correct_pred = 0\n",
    "    for c in np.unique(cluster_labels):\n",
    "        label_counter = Counter(cluster_sets[c])\n",
    "        pred_label, _ = label_counter.most_common(1)[0]\n",
    "        total_correct_pred += label_counter[pred_label]\n",
    "    \n",
    "    purity = total_correct_pred / len(cluster_labels)\n",
    "    \n",
    "    return purity\n"
   ]
  },
  {
   "cell_type": "code",
   "execution_count": 5,
   "id": "b1c82b08-5603-4059-b519-372e866dd508",
   "metadata": {},
   "outputs": [],
   "source": [
    "import pandas as pd\n"
   ]
  },
  {
   "cell_type": "code",
   "execution_count": 6,
   "id": "3f92b33a-4518-45ac-b920-bccc3a342a57",
   "metadata": {},
   "outputs": [],
   "source": [
    "\n",
    "bq_df = pd.read_csv(\"data/bigquery_metric_20220526.csv\")"
   ]
  },
  {
   "cell_type": "code",
   "execution_count": 7,
   "id": "0084a8cd-a06b-41e1-b14e-47f14a08485d",
   "metadata": {},
   "outputs": [],
   "source": [
    "bq_df[\"cluster\"] = labels"
   ]
  },
  {
   "cell_type": "code",
   "execution_count": 8,
   "id": "9af331eb-d694-4725-8fe3-75c7f2f4a227",
   "metadata": {},
   "outputs": [
    {
     "data": {
      "text/html": [
       "<div>\n",
       "<style scoped>\n",
       "    .dataframe tbody tr th:only-of-type {\n",
       "        vertical-align: middle;\n",
       "    }\n",
       "\n",
       "    .dataframe tbody tr th {\n",
       "        vertical-align: top;\n",
       "    }\n",
       "\n",
       "    .dataframe thead th {\n",
       "        text-align: right;\n",
       "    }\n",
       "</style>\n",
       "<table border=\"1\" class=\"dataframe\">\n",
       "  <thead>\n",
       "    <tr style=\"text-align: right;\">\n",
       "      <th></th>\n",
       "      <th>id</th>\n",
       "      <th>repository</th>\n",
       "      <th>filepath</th>\n",
       "      <th>forks</th>\n",
       "      <th>issue_events</th>\n",
       "      <th>stars</th>\n",
       "      <th>parse_error</th>\n",
       "      <th>line_count</th>\n",
       "      <th>comment_count</th>\n",
       "      <th>comment_avg_len</th>\n",
       "      <th>...</th>\n",
       "      <th>func_async_count</th>\n",
       "      <th>generators</th>\n",
       "      <th>lower_case_class</th>\n",
       "      <th>snake_case_class</th>\n",
       "      <th>upper_camel_case_method</th>\n",
       "      <th>other_case_method</th>\n",
       "      <th>upper_case_class</th>\n",
       "      <th>lower_camel_case_class</th>\n",
       "      <th>upper_case_method</th>\n",
       "      <th>cluster</th>\n",
       "    </tr>\n",
       "  </thead>\n",
       "  <tbody>\n",
       "    <tr>\n",
       "      <th>0</th>\n",
       "      <td>7efee2302abe88318188446cff57db3374308a1d</td>\n",
       "      <td>jbkalmbach/kbmod</td>\n",
       "      <td>analysis/rawGenerated/batchGenerate.py</td>\n",
       "      <td>1</td>\n",
       "      <td>32</td>\n",
       "      <td>1</td>\n",
       "      <td>1</td>\n",
       "      <td>51.0</td>\n",
       "      <td>0.0</td>\n",
       "      <td>0.000000</td>\n",
       "      <td>...</td>\n",
       "      <td>NaN</td>\n",
       "      <td>NaN</td>\n",
       "      <td>NaN</td>\n",
       "      <td>NaN</td>\n",
       "      <td>NaN</td>\n",
       "      <td>NaN</td>\n",
       "      <td>NaN</td>\n",
       "      <td>NaN</td>\n",
       "      <td>NaN</td>\n",
       "      <td>2</td>\n",
       "    </tr>\n",
       "    <tr>\n",
       "      <th>1</th>\n",
       "      <td>e4bf9e1e79620474ce8668253ec256303087918e</td>\n",
       "      <td>pymedusa/SickRage</td>\n",
       "      <td>medusa/providers/torrent/rss/rsstorrent.py</td>\n",
       "      <td>22</td>\n",
       "      <td>763</td>\n",
       "      <td>27</td>\n",
       "      <td>1</td>\n",
       "      <td>170.0</td>\n",
       "      <td>8.0</td>\n",
       "      <td>17.625000</td>\n",
       "      <td>...</td>\n",
       "      <td>NaN</td>\n",
       "      <td>NaN</td>\n",
       "      <td>NaN</td>\n",
       "      <td>NaN</td>\n",
       "      <td>NaN</td>\n",
       "      <td>NaN</td>\n",
       "      <td>NaN</td>\n",
       "      <td>NaN</td>\n",
       "      <td>NaN</td>\n",
       "      <td>7</td>\n",
       "    </tr>\n",
       "    <tr>\n",
       "      <th>2</th>\n",
       "      <td>e67032e5fff2307de9e0f92187793914251d9783</td>\n",
       "      <td>ipdata/python</td>\n",
       "      <td>ipdata/test_cli.py</td>\n",
       "      <td>6</td>\n",
       "      <td>15</td>\n",
       "      <td>16</td>\n",
       "      <td>1</td>\n",
       "      <td>135.0</td>\n",
       "      <td>34.0</td>\n",
       "      <td>37.352941</td>\n",
       "      <td>...</td>\n",
       "      <td>NaN</td>\n",
       "      <td>NaN</td>\n",
       "      <td>NaN</td>\n",
       "      <td>NaN</td>\n",
       "      <td>NaN</td>\n",
       "      <td>NaN</td>\n",
       "      <td>NaN</td>\n",
       "      <td>NaN</td>\n",
       "      <td>NaN</td>\n",
       "      <td>7</td>\n",
       "    </tr>\n",
       "    <tr>\n",
       "      <th>3</th>\n",
       "      <td>7c14c480a61dd134e02364f763a6aa57cc0c9126</td>\n",
       "      <td>demisto/content</td>\n",
       "      <td>Packs/AnsibleLinux/Integrations/AnsibleACME/An...</td>\n",
       "      <td>1328</td>\n",
       "      <td>52</td>\n",
       "      <td>797</td>\n",
       "      <td>1</td>\n",
       "      <td>59.0</td>\n",
       "      <td>11.0</td>\n",
       "      <td>26.818182</td>\n",
       "      <td>...</td>\n",
       "      <td>NaN</td>\n",
       "      <td>NaN</td>\n",
       "      <td>NaN</td>\n",
       "      <td>NaN</td>\n",
       "      <td>NaN</td>\n",
       "      <td>NaN</td>\n",
       "      <td>NaN</td>\n",
       "      <td>NaN</td>\n",
       "      <td>NaN</td>\n",
       "      <td>2</td>\n",
       "    </tr>\n",
       "    <tr>\n",
       "      <th>4</th>\n",
       "      <td>d7e0bb47b97770961a2436bdded35e8bb1e9b5ab</td>\n",
       "      <td>hidat/audio_pipeline</td>\n",
       "      <td>review_parser/mb_release.py</td>\n",
       "      <td>1</td>\n",
       "      <td>26</td>\n",
       "      <td>4</td>\n",
       "      <td>1</td>\n",
       "      <td>76.0</td>\n",
       "      <td>12.0</td>\n",
       "      <td>37.166667</td>\n",
       "      <td>...</td>\n",
       "      <td>NaN</td>\n",
       "      <td>NaN</td>\n",
       "      <td>NaN</td>\n",
       "      <td>NaN</td>\n",
       "      <td>NaN</td>\n",
       "      <td>NaN</td>\n",
       "      <td>NaN</td>\n",
       "      <td>NaN</td>\n",
       "      <td>NaN</td>\n",
       "      <td>2</td>\n",
       "    </tr>\n",
       "    <tr>\n",
       "      <th>...</th>\n",
       "      <td>...</td>\n",
       "      <td>...</td>\n",
       "      <td>...</td>\n",
       "      <td>...</td>\n",
       "      <td>...</td>\n",
       "      <td>...</td>\n",
       "      <td>...</td>\n",
       "      <td>...</td>\n",
       "      <td>...</td>\n",
       "      <td>...</td>\n",
       "      <td>...</td>\n",
       "      <td>...</td>\n",
       "      <td>...</td>\n",
       "      <td>...</td>\n",
       "      <td>...</td>\n",
       "      <td>...</td>\n",
       "      <td>...</td>\n",
       "      <td>...</td>\n",
       "      <td>...</td>\n",
       "      <td>...</td>\n",
       "      <td>...</td>\n",
       "    </tr>\n",
       "    <tr>\n",
       "      <th>115045</th>\n",
       "      <td>49912608b288337ba2a4a18c247c1104faa2a5de</td>\n",
       "      <td>oscarbranson/latools</td>\n",
       "      <td>latools/helpers/plot.py</td>\n",
       "      <td>11</td>\n",
       "      <td>77</td>\n",
       "      <td>9</td>\n",
       "      <td>1</td>\n",
       "      <td>1292.0</td>\n",
       "      <td>201.0</td>\n",
       "      <td>38.950249</td>\n",
       "      <td>...</td>\n",
       "      <td>NaN</td>\n",
       "      <td>NaN</td>\n",
       "      <td>NaN</td>\n",
       "      <td>NaN</td>\n",
       "      <td>NaN</td>\n",
       "      <td>NaN</td>\n",
       "      <td>NaN</td>\n",
       "      <td>NaN</td>\n",
       "      <td>NaN</td>\n",
       "      <td>2</td>\n",
       "    </tr>\n",
       "    <tr>\n",
       "      <th>115046</th>\n",
       "      <td>289a01aba96436c4459b965a1de7544ad5dc311d</td>\n",
       "      <td>erjac77/ansible-module-f5bigip</td>\n",
       "      <td>library/f5bigip_ltm_monitor_snmp_dca.py</td>\n",
       "      <td>5</td>\n",
       "      <td>72</td>\n",
       "      <td>6</td>\n",
       "      <td>1</td>\n",
       "      <td>194.0</td>\n",
       "      <td>17.0</td>\n",
       "      <td>37.235294</td>\n",
       "      <td>...</td>\n",
       "      <td>NaN</td>\n",
       "      <td>NaN</td>\n",
       "      <td>NaN</td>\n",
       "      <td>NaN</td>\n",
       "      <td>NaN</td>\n",
       "      <td>NaN</td>\n",
       "      <td>NaN</td>\n",
       "      <td>NaN</td>\n",
       "      <td>NaN</td>\n",
       "      <td>7</td>\n",
       "    </tr>\n",
       "    <tr>\n",
       "      <th>115047</th>\n",
       "      <td>e3274c379b0db385868537bddf79a9014e72f0fe</td>\n",
       "      <td>python-hyper/hyper-h2</td>\n",
       "      <td>test/test_config.py</td>\n",
       "      <td>139</td>\n",
       "      <td>376</td>\n",
       "      <td>754</td>\n",
       "      <td>1</td>\n",
       "      <td>145.0</td>\n",
       "      <td>1.0</td>\n",
       "      <td>23.000000</td>\n",
       "      <td>...</td>\n",
       "      <td>NaN</td>\n",
       "      <td>NaN</td>\n",
       "      <td>NaN</td>\n",
       "      <td>NaN</td>\n",
       "      <td>NaN</td>\n",
       "      <td>NaN</td>\n",
       "      <td>NaN</td>\n",
       "      <td>NaN</td>\n",
       "      <td>NaN</td>\n",
       "      <td>7</td>\n",
       "    </tr>\n",
       "    <tr>\n",
       "      <th>115048</th>\n",
       "      <td>73ca68865447b1b8df1c5fca3537c6a6f55b0ebb</td>\n",
       "      <td>techbureau/zaifbot</td>\n",
       "      <td>tests/trade/test_trade.py</td>\n",
       "      <td>14</td>\n",
       "      <td>198</td>\n",
       "      <td>42</td>\n",
       "      <td>1</td>\n",
       "      <td>48.0</td>\n",
       "      <td>0.0</td>\n",
       "      <td>0.000000</td>\n",
       "      <td>...</td>\n",
       "      <td>NaN</td>\n",
       "      <td>NaN</td>\n",
       "      <td>NaN</td>\n",
       "      <td>NaN</td>\n",
       "      <td>NaN</td>\n",
       "      <td>NaN</td>\n",
       "      <td>NaN</td>\n",
       "      <td>NaN</td>\n",
       "      <td>NaN</td>\n",
       "      <td>7</td>\n",
       "    </tr>\n",
       "    <tr>\n",
       "      <th>115049</th>\n",
       "      <td>89600accd662061782b4259c49ba7f55250eb38c</td>\n",
       "      <td>bingopodcast/bingos</td>\n",
       "      <td>bingo_emulator/singapore/game.py</td>\n",
       "      <td>1</td>\n",
       "      <td>511</td>\n",
       "      <td>3</td>\n",
       "      <td>1</td>\n",
       "      <td>2910.0</td>\n",
       "      <td>72.0</td>\n",
       "      <td>68.500000</td>\n",
       "      <td>...</td>\n",
       "      <td>NaN</td>\n",
       "      <td>NaN</td>\n",
       "      <td>NaN</td>\n",
       "      <td>NaN</td>\n",
       "      <td>NaN</td>\n",
       "      <td>NaN</td>\n",
       "      <td>NaN</td>\n",
       "      <td>NaN</td>\n",
       "      <td>NaN</td>\n",
       "      <td>7</td>\n",
       "    </tr>\n",
       "  </tbody>\n",
       "</table>\n",
       "<p>115050 rows × 91 columns</p>\n",
       "</div>"
      ],
      "text/plain": [
       "                                              id  \\\n",
       "0       7efee2302abe88318188446cff57db3374308a1d   \n",
       "1       e4bf9e1e79620474ce8668253ec256303087918e   \n",
       "2       e67032e5fff2307de9e0f92187793914251d9783   \n",
       "3       7c14c480a61dd134e02364f763a6aa57cc0c9126   \n",
       "4       d7e0bb47b97770961a2436bdded35e8bb1e9b5ab   \n",
       "...                                          ...   \n",
       "115045  49912608b288337ba2a4a18c247c1104faa2a5de   \n",
       "115046  289a01aba96436c4459b965a1de7544ad5dc311d   \n",
       "115047  e3274c379b0db385868537bddf79a9014e72f0fe   \n",
       "115048  73ca68865447b1b8df1c5fca3537c6a6f55b0ebb   \n",
       "115049  89600accd662061782b4259c49ba7f55250eb38c   \n",
       "\n",
       "                            repository  \\\n",
       "0                     jbkalmbach/kbmod   \n",
       "1                    pymedusa/SickRage   \n",
       "2                        ipdata/python   \n",
       "3                      demisto/content   \n",
       "4                 hidat/audio_pipeline   \n",
       "...                                ...   \n",
       "115045            oscarbranson/latools   \n",
       "115046  erjac77/ansible-module-f5bigip   \n",
       "115047           python-hyper/hyper-h2   \n",
       "115048              techbureau/zaifbot   \n",
       "115049             bingopodcast/bingos   \n",
       "\n",
       "                                                 filepath  forks  \\\n",
       "0                  analysis/rawGenerated/batchGenerate.py      1   \n",
       "1              medusa/providers/torrent/rss/rsstorrent.py     22   \n",
       "2                                      ipdata/test_cli.py      6   \n",
       "3       Packs/AnsibleLinux/Integrations/AnsibleACME/An...   1328   \n",
       "4                             review_parser/mb_release.py      1   \n",
       "...                                                   ...    ...   \n",
       "115045                            latools/helpers/plot.py     11   \n",
       "115046            library/f5bigip_ltm_monitor_snmp_dca.py      5   \n",
       "115047                                test/test_config.py    139   \n",
       "115048                          tests/trade/test_trade.py     14   \n",
       "115049                   bingo_emulator/singapore/game.py      1   \n",
       "\n",
       "        issue_events  stars  parse_error  line_count  comment_count  \\\n",
       "0                 32      1            1        51.0            0.0   \n",
       "1                763     27            1       170.0            8.0   \n",
       "2                 15     16            1       135.0           34.0   \n",
       "3                 52    797            1        59.0           11.0   \n",
       "4                 26      4            1        76.0           12.0   \n",
       "...              ...    ...          ...         ...            ...   \n",
       "115045            77      9            1      1292.0          201.0   \n",
       "115046            72      6            1       194.0           17.0   \n",
       "115047           376    754            1       145.0            1.0   \n",
       "115048           198     42            1        48.0            0.0   \n",
       "115049           511      3            1      2910.0           72.0   \n",
       "\n",
       "        comment_avg_len  ...  func_async_count  generators  lower_case_class  \\\n",
       "0              0.000000  ...               NaN         NaN               NaN   \n",
       "1             17.625000  ...               NaN         NaN               NaN   \n",
       "2             37.352941  ...               NaN         NaN               NaN   \n",
       "3             26.818182  ...               NaN         NaN               NaN   \n",
       "4             37.166667  ...               NaN         NaN               NaN   \n",
       "...                 ...  ...               ...         ...               ...   \n",
       "115045        38.950249  ...               NaN         NaN               NaN   \n",
       "115046        37.235294  ...               NaN         NaN               NaN   \n",
       "115047        23.000000  ...               NaN         NaN               NaN   \n",
       "115048         0.000000  ...               NaN         NaN               NaN   \n",
       "115049        68.500000  ...               NaN         NaN               NaN   \n",
       "\n",
       "        snake_case_class  upper_camel_case_method  other_case_method  \\\n",
       "0                    NaN                      NaN                NaN   \n",
       "1                    NaN                      NaN                NaN   \n",
       "2                    NaN                      NaN                NaN   \n",
       "3                    NaN                      NaN                NaN   \n",
       "4                    NaN                      NaN                NaN   \n",
       "...                  ...                      ...                ...   \n",
       "115045               NaN                      NaN                NaN   \n",
       "115046               NaN                      NaN                NaN   \n",
       "115047               NaN                      NaN                NaN   \n",
       "115048               NaN                      NaN                NaN   \n",
       "115049               NaN                      NaN                NaN   \n",
       "\n",
       "        upper_case_class  lower_camel_case_class  upper_case_method  cluster  \n",
       "0                    NaN                     NaN                NaN        2  \n",
       "1                    NaN                     NaN                NaN        7  \n",
       "2                    NaN                     NaN                NaN        7  \n",
       "3                    NaN                     NaN                NaN        2  \n",
       "4                    NaN                     NaN                NaN        2  \n",
       "...                  ...                     ...                ...      ...  \n",
       "115045               NaN                     NaN                NaN        2  \n",
       "115046               NaN                     NaN                NaN        7  \n",
       "115047               NaN                     NaN                NaN        7  \n",
       "115048               NaN                     NaN                NaN        7  \n",
       "115049               NaN                     NaN                NaN        7  \n",
       "\n",
       "[115050 rows x 91 columns]"
      ]
     },
     "execution_count": 8,
     "metadata": {},
     "output_type": "execute_result"
    }
   ],
   "source": [
    "bq_df"
   ]
  },
  {
   "cell_type": "code",
   "execution_count": 9,
   "id": "cee875d6-1e49-4a8d-95c9-4e774b0806a4",
   "metadata": {},
   "outputs": [],
   "source": [
    "users = []\n",
    "repos = []\n",
    "for user_repo in bq_df[\"repository\"]:\n",
    "    temp = user_repo.split(\"/\")\n",
    "    users += [temp[0]]\n",
    "    repos += [temp[1]]\n",
    "    \n",
    "bq_df[\"user_name\"] = users\n",
    "bq_df[\"repo_name\"] = repos"
   ]
  },
  {
   "cell_type": "markdown",
   "id": "f8f792f4-7a69-4e05-bf22-1a9ed9932c41",
   "metadata": {},
   "source": [
    "# User Experiment"
   ]
  },
  {
   "cell_type": "code",
   "execution_count": 10,
   "id": "b69546e1-ea4c-4c97-adea-9c4e44cc9128",
   "metadata": {},
   "outputs": [
    {
     "data": {
      "text/plain": [
       "[('plotly', 2004), ('google', 1054)]"
      ]
     },
     "execution_count": 10,
     "metadata": {},
     "output_type": "execute_result"
    }
   ],
   "source": [
    "user_counter = Counter(users)\n",
    "user_freq_dist = user_counter.most_common(2)[:]\n",
    "selected_users = get_high_freq_users(user_freq_dist, 0)\n",
    "user_to_idx = {user:idx for idx, user in enumerate(selected_users)}\n",
    "user_bool = bq_df['user_name'].apply(lambda user: user in selected_users)\n",
    "user_freq_dist"
   ]
  },
  {
   "cell_type": "code",
   "execution_count": 11,
   "id": "94913978-aaf9-4199-ac38-2d438eddab3a",
   "metadata": {},
   "outputs": [],
   "source": [
    "sample = bq_df[user_bool].loc[:]\n",
    "author_class = sample[\"user_name\"].apply(lambda user: user_to_idx[user]).to_numpy()"
   ]
  },
  {
   "cell_type": "code",
   "execution_count": 12,
   "id": "3577f9f5-66b9-4561-beae-95eb80a9877e",
   "metadata": {},
   "outputs": [
    {
     "data": {
      "text/plain": [
       "0.6553302812295618"
      ]
     },
     "execution_count": 12,
     "metadata": {},
     "output_type": "execute_result"
    }
   ],
   "source": [
    "baseline_clusters = random_sample_clusters(sample, author_class)\n",
    "purity(baseline_clusters, author_class)"
   ]
  },
  {
   "cell_type": "code",
   "execution_count": 13,
   "id": "7d0c5fcd-1a3d-4bb9-9111-885231b2b11e",
   "metadata": {},
   "outputs": [
    {
     "data": {
      "text/plain": [
       "0.8172007848266841"
      ]
     },
     "execution_count": 13,
     "metadata": {},
     "output_type": "execute_result"
    }
   ],
   "source": [
    "purity(sample[\"cluster\"].to_numpy(), author_class)"
   ]
  },
  {
   "cell_type": "code",
   "execution_count": 14,
   "id": "06f308c4-e989-4436-ab14-bb008e34f42f",
   "metadata": {},
   "outputs": [
    {
     "data": {
      "text/plain": [
       "(115050, 17)"
      ]
     },
     "execution_count": 14,
     "metadata": {},
     "output_type": "execute_result"
    }
   ],
   "source": [
    "#internal metrics are generated now and everything is stored in dataframe should be ready for clustering\n",
    "target_features = [\n",
    "     'snake_case_var_ratio',\n",
    "     'snake_case_class_ratio',\n",
    "     'snake_case_method_ratio',\n",
    "     'upper_camel_case_var_ratio',\n",
    "     'upper_camel_case_class_ratio',\n",
    "     'upper_camel_case_method_ratio',\n",
    "     'lower_camel_case_var_ratio',\n",
    "     'lower_camel_case_class_ratio',\n",
    "     'lower_camel_case_method_ratio',\n",
    "     'func_decorators_avg',\n",
    "     'class_decorators_avg',\n",
    "     'class_parents_avg',\n",
    "     'comprehensions_avg',\n",
    "     'generators_avg',\n",
    "     'lambda_avg',\n",
    "     'comment_density',\n",
    "     'ds_density',\n",
    "]\n",
    "X = bq_df[target_features].to_numpy()\n",
    "X.shape"
   ]
  },
  {
   "cell_type": "code",
   "execution_count": 33,
   "id": "e7928a48-91bd-4c0d-8483-583e1eacefc2",
   "metadata": {},
   "outputs": [],
   "source": [
    "\n"
   ]
  },
  {
   "cell_type": "code",
   "execution_count": 21,
   "id": "b780d295-ff10-43ad-98f5-44bda8501786",
   "metadata": {},
   "outputs": [
    {
     "name": "stdout",
     "output_type": "stream",
     "text": [
      "DB Index:\n"
     ]
    },
    {
     "ename": "NameError",
     "evalue": "name 'user_bool' is not defined",
     "output_type": "error",
     "traceback": [
      "\u001b[0;31m---------------------------------------------------------------------------\u001b[0m",
      "\u001b[0;31mNameError\u001b[0m                                 Traceback (most recent call last)",
      "\u001b[0;32m<ipython-input-21-9556c454bc1e>\u001b[0m in \u001b[0;36m<module>\u001b[0;34m\u001b[0m\n\u001b[1;32m      1\u001b[0m \u001b[0mprint\u001b[0m\u001b[0;34m(\u001b[0m\u001b[0;34m\"DB Index:\"\u001b[0m\u001b[0;34m)\u001b[0m\u001b[0;34m\u001b[0m\u001b[0;34m\u001b[0m\u001b[0m\n\u001b[0;32m----> 2\u001b[0;31m \u001b[0mprint\u001b[0m\u001b[0;34m(\u001b[0m\u001b[0mdavies_bouldin_score\u001b[0m\u001b[0;34m(\u001b[0m\u001b[0mX\u001b[0m\u001b[0;34m[\u001b[0m\u001b[0muser_bool\u001b[0m\u001b[0;34m]\u001b[0m\u001b[0;34m,\u001b[0m \u001b[0msample\u001b[0m\u001b[0;34m[\u001b[0m\u001b[0;34m\"cluster\"\u001b[0m\u001b[0;34m]\u001b[0m\u001b[0;34m.\u001b[0m\u001b[0mto_numpy\u001b[0m\u001b[0;34m(\u001b[0m\u001b[0;34m)\u001b[0m\u001b[0;34m)\u001b[0m \u001b[0;34m)\u001b[0m\u001b[0;34m\u001b[0m\u001b[0;34m\u001b[0m\u001b[0m\n\u001b[0m",
      "\u001b[0;31mNameError\u001b[0m: name 'user_bool' is not defined"
     ]
    }
   ],
   "source": [
    "print(\"DB Index:\")\n",
    "print(davies_bouldin_score(X[user_bool], sample[\"cluster\"].to_numpy()) )"
   ]
  },
  {
   "cell_type": "code",
   "execution_count": 56,
   "id": "c7aafb85-fd80-44ec-bdc2-7f0627e028c3",
   "metadata": {},
   "outputs": [
    {
     "data": {
      "application/vnd.jupyter.widget-view+json": {
       "model_id": "1ca81208fa614b70a6653e40b402cb7d",
       "version_major": 2,
       "version_minor": 0
      },
      "text/plain": [
       "  0%|          | 0/115050 [00:00<?, ?it/s]"
      ]
     },
     "metadata": {},
     "output_type": "display_data"
    }
   ],
   "source": [
    "\n",
    "projections = []\n",
    "with open(\"data/BigQuery/clusters/feature_set_2/projection.txt\") as f:\n",
    "    for line in tqdm(f.readlines()):\n",
    "        val_str_list = line.split()\n",
    "        projections += [[float(val_str_list[0]), float(val_str_list[1])]]\n",
    "proj = np.array(projections)"
   ]
  },
  {
   "cell_type": "code",
   "execution_count": 115,
   "id": "a7d8ab77-46c8-4b66-bee7-787ce29fa26d",
   "metadata": {},
   "outputs": [],
   "source": [
    "\n",
    "import seaborn as sns\n",
    "\n",
    "\n",
    "color_palette = sns.color_palette('Paired', 110000)\n",
    "cluster_colors = [color_palette[x] if x >= 0\n",
    "              else (0.5, 0.5, 0.5)\n",
    "              for x in cluster_pred.labels_]\n",
    "# cluster_member_colors = [sns.desaturate(x, p) for x, p in\n",
    "#                          zip(cluster_colors, cluster_pred.probabilities_)]"
   ]
  },
  {
   "cell_type": "code",
   "execution_count": 119,
   "id": "a44bc0fd-4d19-4747-bbf5-dea3d01caaf8",
   "metadata": {},
   "outputs": [
    {
     "data": {
      "text/plain": [
       "array([[0.5       , 0.5       , 0.5       ],\n",
       "       [0.12156863, 0.47058824, 0.70588235],\n",
       "       [0.12156863, 0.47058824, 0.70588235],\n",
       "       ...,\n",
       "       [0.12156863, 0.47058824, 0.70588235],\n",
       "       [0.5       , 0.5       , 0.5       ],\n",
       "       [0.5       , 0.5       , 0.5       ]])"
      ]
     },
     "execution_count": 119,
     "metadata": {},
     "output_type": "execute_result"
    }
   ],
   "source": [
    "np.array(cluster_colors)[user_bool]"
   ]
  },
  {
   "cell_type": "code",
   "execution_count": null,
   "id": "3fd1529c-6478-4f35-81b5-177924faa006",
   "metadata": {},
   "outputs": [],
   "source": [
    "# external eval on repo\n",
    "# plot on different "
   ]
  },
  {
   "cell_type": "code",
   "execution_count": 137,
   "id": "e66e1083-cec5-4df3-800b-938c2ce5e61f",
   "metadata": {},
   "outputs": [
    {
     "data": {
      "image/png": "[encoded data removed]",
      "text/plain": [
       "<Figure size 432x288 with 1 Axes>"
      ]
     },
     "metadata": {
      "needs_background": "light"
     },
     "output_type": "display_data"
    }
   ],
   "source": [
    "\n",
    "min_samples_params = []\n",
    "min_cluster_size_params = []\n",
    "epsilon_params = []\n",
    "cluster_nums = []\n",
    "purities = []\n",
    "db_indexes = []\n",
    "feat_1 = []\n",
    "feat_2 = []\n",
    "\n",
    "for pickle_file in pickle_files:\n",
    "    with open(pickle_file[\"path\"], \"rb\") as file:\n",
    "        cluster_pred = pickle.load(file)\n",
    "        labels = cluster_pred.labels_\n",
    "        cluster_num = len(np.unique(labels))\n",
    "        p = purity(labels[user_bool], author_class)\n",
    "        X = bq_df[pickle_file[\"features\"]].to_numpy()\n",
    "        db_index = davies_bouldin_score(X[user_bool], labels[user_bool])\n",
    "        \n",
    "        min_samples_params += [cluster_pred.min_samples]\n",
    "        min_cluster_size_params += [cluster_pred.min_cluster_size]\n",
    "        epsilon_params += [cluster_pred.cluster_selection_epsilon]\n",
    "        cluster_nums += [cluster_num]\n",
    "        feat_1 += [pickle_file[\"features\"][0]]\n",
    "        feat_2 += [pickle_file[\"features\"][1]]\n",
    "        purities += [p]\n",
    "        db_indexes += [db_index]\n",
    "        \n",
    "with open(\"data/BigQuery/clusters/feature_set_2/full_feature_clusterer.pickle\", \"rb\") as file:\n",
    "    cluster_pred = pickle.load(file)\n",
    "    labels = cluster_pred.labels_\n",
    "    cluster_num = len(np.unique(labels))\n",
    "    p = purity(labels[user_bool], author_class)\n",
    "    X = bq_df[target_features].to_numpy()\n",
    "    db_index = davies_bouldin_score(X[user_bool], labels[user_bool])\n",
    "    \n",
    "    color_palette = sns.color_palette('Paired', 110000)\n",
    "    cluster_colors = [color_palette[x] if x >= 0\n",
    "                  else (0.5, 0.5, 0.5)\n",
    "                  for x in cluster_pred.labels_]\n",
    "    cluster_member_colors = [sns.desaturate(x, p) for x, p in\n",
    "                             zip(cluster_colors, cluster_pred.probabilities_)]\n",
    "    plt.scatter(*proj[user_bool].T, s=20, linewidth=0, c=np.array(cluster_colors)[user_bool])\n",
    "\n",
    "    min_samples_params += [cluster_pred.min_samples]\n",
    "    min_cluster_size_params += [cluster_pred.min_cluster_size]\n",
    "    epsilon_params += [cluster_pred.cluster_selection_epsilon]\n",
    "    cluster_nums += [cluster_num]\n",
    "    feat_1 += [\"full_feature\"]\n",
    "    feat_2 += [\"full_feature\"]\n",
    "    purities += [p]\n",
    "    db_indexes += [db_index]\n",
    "    \n",
    "output_dict = {\n",
    "    \"min_samples_param\" : min_samples_params,\n",
    "    \"min_cluster_size_param\" : min_cluster_size_params,\n",
    "    \"epsilon_param\" : epsilon_params,\n",
    "    \"feat_1\" : feat_1,\n",
    "    \"feat_2\" : feat_2,\n",
    "    \"cluster_num\" : cluster_nums,\n",
    "    \"purity\" : purities,\n",
    "    \"db_index\" : db_indexes\n",
    "}"
   ]
  },
  {
   "cell_type": "code",
   "execution_count": 150,
   "id": "eb696d7f-105b-4888-b7d9-3e0c8139e402",
   "metadata": {},
   "outputs": [
    {
     "data": {
      "text/plain": [
       "<matplotlib.collections.PathCollection at 0x7f90d111d460>"
      ]
     },
     "execution_count": 150,
     "metadata": {},
     "output_type": "execute_result"
    },
    {
     "data": {
      "image/png": "[encoded data removed]",
      "text/plain": [
       "<Figure size 432x288 with 1 Axes>"
      ]
     },
     "metadata": {
      "needs_background": "light"
     },
     "output_type": "display_data"
    }
   ],
   "source": [
    "color_palette = sns.color_palette()\n",
    "cluster_colors = [color_palette[x] if x >= 0\n",
    "              else (0.5, 0.5, 0.5)\n",
    "              for x in author_class]\n",
    "plt.scatter(*proj[user_bool].T, s=20, linewidth=0, c=np.array(cluster_colors))"
   ]
  },
  {
   "cell_type": "code",
   "execution_count": 102,
   "id": "13874227-dda6-47b5-847d-38974daa0f69",
   "metadata": {},
   "outputs": [],
   "source": [
    "pd.DataFrame(output_dict).to_csv(\"bq_author_eval_metrics.csv\", index=False)"
   ]
  },
  {
   "cell_type": "code",
   "execution_count": 57,
   "id": "0c708b3e-35db-4305-83d8-d299ae48996c",
   "metadata": {},
   "outputs": [],
   "source": [
    "user_freq_dist = user_counter.most_common(20)[:]\n",
    "user_pair_set = set()\n",
    "for user_x, _ in user_freq_dist:\n",
    "    for user_y, _ in user_freq_dist:\n",
    "        if user_x == user_y : continue\n",
    "        if (user_x, user_y) in user_pair_set: continue\n",
    "        if (user_y, user_x) in user_pair_set: continue\n",
    "        user_pair_set.add((user_x, user_y))"
   ]
  },
  {
   "cell_type": "code",
   "execution_count": 58,
   "id": "a6e3856a-e03e-4b17-b7c7-454eb8b50a25",
   "metadata": {},
   "outputs": [
    {
     "data": {
      "application/vnd.jupyter.widget-view+json": {
       "model_id": "08b23ef99f314017aae0964f2fcfadab",
       "version_major": 2,
       "version_minor": 0
      },
      "text/plain": [
       "  0%|          | 0/190 [00:00<?, ?it/s]"
      ]
     },
     "metadata": {},
     "output_type": "display_data"
    }
   ],
   "source": [
    "\n",
    "min_samples_params = []\n",
    "min_cluster_size_params = []\n",
    "epsilon_params = []\n",
    "cluster_nums = []\n",
    "purity_baselines = []\n",
    "purities = []\n",
    "db_index_baselines = []\n",
    "db_indexes = []\n",
    "user_1 = []\n",
    "user_2 = []\n",
    "user_1_count = []\n",
    "user_2_count = []\n",
    "\n",
    "with open(\"data/BigQuery/clusters/feature_set_2/full_feature_clusterer.pickle\", \"rb\") as file:\n",
    "    cluster_pred = pickle.load(file)\n",
    "    labels = cluster_pred.labels_\n",
    "    cluster_num = len(np.unique(labels))\n",
    "    X = bq_df[target_features].to_numpy()\n",
    "    for user_x, user_y in tqdm(list(user_pair_set)):\n",
    "        \n",
    "        selected_users = [user_x, user_y]\n",
    "        user_to_idx = {user:idx for idx, user in enumerate(selected_users)}\n",
    "        user_bool = bq_df['user_name'].apply(lambda user: user in selected_users)\n",
    "        user_class = bq_df.loc[user_bool][\"user_name\"].apply(lambda user: user_to_idx[user]).to_numpy()  \n",
    "        \n",
    "        baseline_clusters = random_sample_clusters(bq_df.loc[user_bool], user_class)\n",
    "        p_baseline = purity(baseline_clusters, user_class)\n",
    "        db_index_baseline = davies_bouldin_score(X[user_bool], baseline_clusters)\n",
    "        \n",
    "        p = purity(labels[user_bool], user_class)\n",
    "        db_index = davies_bouldin_score(X[user_bool], labels[user_bool])\n",
    "\n",
    "        # color_palette = sns.color_palette('Set2', 110000)\n",
    "        # cluster_colors = [color_palette[x] if x >= 0\n",
    "        #               else (0.5, 0.5, 0.5)\n",
    "        #               for x in cluster_pred.labels_]\n",
    "        # cluster_member_colors = [sns.desaturate(x, p) for x, p in\n",
    "        #                          zip(cluster_colors, cluster_pred.probabilities_)]\n",
    "        # plt.scatter(*proj[repo_bool].T, s=20, linewidth=0, c=np.array(cluster_colors)[repo_bool])\n",
    "        \n",
    "        min_samples_params += [cluster_pred.min_samples]\n",
    "        min_cluster_size_params += [cluster_pred.min_cluster_size]\n",
    "        epsilon_params += [cluster_pred.cluster_selection_epsilon]\n",
    "        cluster_nums += [cluster_num]\n",
    "        user_1 += [user_x]\n",
    "        user_2 += [user_y]\n",
    "        user_1_count += [user_counter[user_x]]\n",
    "        user_2_count += [user_counter[user_y]]\n",
    "        purity_baselines += [p_baseline]\n",
    "        purities += [p]\n",
    "        db_index_baselines += [db_index_baseline]\n",
    "        db_indexes += [db_index]\n",
    "\n",
    "output_dict = {\n",
    "    \"min_samples_param\" : min_samples_params,\n",
    "    \"min_cluster_size_param\" : min_cluster_size_params,\n",
    "    \"epsilon_param\" : epsilon_params,\n",
    "    \"user_1\" : user_1,\n",
    "    \"user_2\" : user_2,\n",
    "    \"user_1_count\" : user_1_count,\n",
    "    \"user_2_count\" : user_2_count,\n",
    "    \"cluster_num\" : cluster_nums,\n",
    "    \"purity_baseline\" : purity_baselines,\n",
    "    \"purity\" : purities,\n",
    "    \"db_index_baseline\" : db_index_baselines,\n",
    "    \"db_index\" : db_indexes,\n",
    "}    "
   ]
  },
  {
   "cell_type": "code",
   "execution_count": 59,
   "id": "75b8f2c1-1c73-453f-b403-e455077db133",
   "metadata": {},
   "outputs": [],
   "source": [
    "pd.DataFrame(output_dict).to_csv(\"bq_user_pair_eval_metrics.csv\", index=False)"
   ]
  },
  {
   "cell_type": "markdown",
   "id": "4a17acc0-1bbe-4949-9438-ec1c2d30657d",
   "metadata": {},
   "source": [
    "# Repo Experiment"
   ]
  },
  {
   "cell_type": "code",
   "execution_count": 60,
   "id": "839f8210-3596-47dd-ae10-4824e4d5b6ea",
   "metadata": {},
   "outputs": [
    {
     "data": {
      "text/plain": [
       "[('plotly.py', 1077),\n",
       " ('python-api', 927),\n",
       " ('azure-sdk-for-python', 844),\n",
       " ('google-research', 495),\n",
       " ('lambda-packs', 450)]"
      ]
     },
     "execution_count": 60,
     "metadata": {},
     "output_type": "execute_result"
    }
   ],
   "source": [
    "repo_counter = Counter(repos)\n",
    "repo_freq_dist = repo_counter.most_common(5)[:]\n",
    "selected_repos = get_high_freq_users(repo_freq_dist, 0)\n",
    "repo_to_idx = {repo:idx for idx, repo in enumerate(selected_repos)}\n",
    "repo_bool = bq_df['repo_name'].apply(lambda repo: repo in selected_repos)\n",
    "repo_freq_dist"
   ]
  },
  {
   "cell_type": "code",
   "execution_count": 61,
   "id": "74d75961-0360-43eb-bbad-f603a7d62b4e",
   "metadata": {},
   "outputs": [],
   "source": [
    "sample = bq_df[repo_bool].loc[:]\n",
    "repo_class = sample[\"repo_name\"].apply(lambda repo: repo_to_idx[repo]).to_numpy()"
   ]
  },
  {
   "cell_type": "code",
   "execution_count": 62,
   "id": "f7de2a89-e62a-4286-a83f-62145d04ebc1",
   "metadata": {},
   "outputs": [
    {
     "data": {
      "text/plain": [
       "0.28394410756657"
      ]
     },
     "execution_count": 62,
     "metadata": {},
     "output_type": "execute_result"
    }
   ],
   "source": [
    "baseline_clusters = random_sample_clusters(sample, repo_class)\n",
    "purity(baseline_clusters, repo_class)"
   ]
  },
  {
   "cell_type": "code",
   "execution_count": 63,
   "id": "2b49da04-1b81-4c4b-9bc1-701da2050609",
   "metadata": {},
   "outputs": [
    {
     "data": {
      "text/plain": [
       "0.3543369364619035"
      ]
     },
     "execution_count": 63,
     "metadata": {},
     "output_type": "execute_result"
    }
   ],
   "source": [
    "purity(sample[\"cluster\"].to_numpy(), repo_class)"
   ]
  },
  {
   "cell_type": "code",
   "execution_count": 197,
   "id": "cf79a0e3-355f-439c-80e0-a0e4bb6a6cf1",
   "metadata": {},
   "outputs": [
    {
     "data": {
      "image/png": "[encoded data removed]",
      "text/plain": [
       "<Figure size 432x288 with 1 Axes>"
      ]
     },
     "metadata": {
      "needs_background": "light"
     },
     "output_type": "display_data"
    }
   ],
   "source": [
    "\n",
    "min_samples_params = []\n",
    "min_cluster_size_params = []\n",
    "epsilon_params = []\n",
    "cluster_nums = []\n",
    "purity_baselines = []\n",
    "purities = []\n",
    "db_index_baselines = []\n",
    "db_indexes = []\n",
    "feat_1 = []\n",
    "feat_2 = []\n",
    "\n",
    "for pickle_file in pickle_files:\n",
    "    with open(pickle_file[\"path\"], \"rb\") as file:\n",
    "        cluster_pred = pickle.load(file)\n",
    "        labels = cluster_pred.labels_\n",
    "        cluster_num = len(np.unique(labels))\n",
    "        p = purity(labels[repo_bool], repo_class)\n",
    "        X = bq_df[pickle_file[\"features\"]].to_numpy()\n",
    "        db_index = davies_bouldin_score(X[repo_bool], labels[repo_bool]) if len(np.unique(labels[repo_bool])) > 1 else 99999\n",
    "        \n",
    "        min_samples_params += [cluster_pred.min_samples]\n",
    "        min_cluster_size_params += [cluster_pred.min_cluster_size]\n",
    "        epsilon_params += [cluster_pred.cluster_selection_epsilon]\n",
    "        cluster_nums += [cluster_num]\n",
    "        feat_1 += [pickle_file[\"features\"][0]]\n",
    "        feat_2 += [pickle_file[\"features\"][1]]\n",
    "        purities += [p]\n",
    "        db_indexes += [db_index]\n",
    "        \n",
    "with open(\"data/BigQuery/clusters/feature_set_2/full_feature_clusterer.pickle\", \"rb\") as file:\n",
    "    cluster_pred = pickle.load(file)\n",
    "    labels = cluster_pred.labels_\n",
    "    cluster_num = len(np.unique(labels))\n",
    "    p = purity(labels[repo_bool], repo_class)\n",
    "    X = bq_df[target_features].to_numpy()\n",
    "    db_index = davies_bouldin_score(X[repo_bool], labels[repo_bool])\n",
    "    \n",
    "    color_palette = sns.color_palette('Set2', 110000)\n",
    "    cluster_colors = [color_palette[x] if x >= 0\n",
    "                  else (0.5, 0.5, 0.5)\n",
    "                  for x in cluster_pred.labels_]\n",
    "    cluster_member_colors = [sns.desaturate(x, p) for x, p in\n",
    "                             zip(cluster_colors, cluster_pred.probabilities_)]\n",
    "    plt.scatter(*proj[repo_bool].T, s=20, linewidth=0, c=np.array(cluster_colors)[repo_bool])\n",
    "\n",
    "    min_samples_params += [cluster_pred.min_samples]\n",
    "    min_cluster_size_params += [cluster_pred.min_cluster_size]\n",
    "    epsilon_params += [cluster_pred.cluster_selection_epsilon]\n",
    "    cluster_nums += [cluster_num]\n",
    "    feat_1 += [\"full_feature\"]\n",
    "    feat_2 += [\"full_feature\"]\n",
    "    purities += [p]\n",
    "    db_indexes += [db_index]\n",
    "    \n",
    "output_dict = {\n",
    "    \"min_samples_param\" : min_samples_params,\n",
    "    \"min_cluster_size_param\" : min_cluster_size_params,\n",
    "    \"epsilon_param\" : epsilon_params,\n",
    "    \"feat_1\" : feat_1,\n",
    "    \"feat_2\" : feat_2,\n",
    "    \"cluster_num\" : cluster_nums,\n",
    "    \"purity\" : purities,\n",
    "    \"db_index\" : db_indexes\n",
    "}"
   ]
  },
  {
   "cell_type": "code",
   "execution_count": 198,
   "id": "64e299ac-62a6-42f0-8662-f4b9c11e48da",
   "metadata": {},
   "outputs": [
    {
     "data": {
      "text/plain": [
       "<matplotlib.collections.PathCollection at 0x7f90d02df880>"
      ]
     },
     "execution_count": 198,
     "metadata": {},
     "output_type": "execute_result"
    },
    {
     "data": {
      "image/png": "[encoded data removed]",
      "text/plain": [
       "<Figure size 432x288 with 1 Axes>"
      ]
     },
     "metadata": {
      "needs_background": "light"
     },
     "output_type": "display_data"
    }
   ],
   "source": [
    "color_palette = sns.color_palette('Set2', 110000)\n",
    "cluster_colors = [color_palette[x] if x >= 0\n",
    "              else (0.5, 0.5, 0.5)\n",
    "              for x in repo_class]\n",
    "plt.scatter(*proj[repo_bool].T, s=20, linewidth=0, c=np.array(cluster_colors))"
   ]
  },
  {
   "cell_type": "code",
   "execution_count": 199,
   "id": "6bf80635-245e-430e-8c70-9b7198f52366",
   "metadata": {},
   "outputs": [],
   "source": [
    "pd.DataFrame(output_dict).to_csv(\"bq_repo_eval_metrics.csv\", index=False)"
   ]
  },
  {
   "cell_type": "code",
   "execution_count": 64,
   "id": "975a3510-5133-43e3-a274-d8ef3ef930f3",
   "metadata": {},
   "outputs": [],
   "source": [
    "repo_freq_dist = repo_counter.most_common(20)[:]\n",
    "repo_pair_set = set()\n",
    "for repo_x, _ in repo_freq_dist:\n",
    "    for repo_y, _ in repo_freq_dist:\n",
    "        if repo_x == repo_y : continue\n",
    "        if (repo_x, repo_y) in repo_pair_set: continue\n",
    "        if (repo_y, repo_x) in repo_pair_set: continue\n",
    "        repo_pair_set.add((repo_x, repo_y))\n",
    "        "
   ]
  },
  {
   "cell_type": "code",
   "execution_count": 65,
   "id": "d8d40db2-1c2e-47b5-80f5-454aed41e1da",
   "metadata": {},
   "outputs": [
    {
     "data": {
      "application/vnd.jupyter.widget-view+json": {
       "model_id": "edf250db90704171a19693c14e896f10",
       "version_major": 2,
       "version_minor": 0
      },
      "text/plain": [
       "  0%|          | 0/190 [00:00<?, ?it/s]"
      ]
     },
     "metadata": {},
     "output_type": "display_data"
    }
   ],
   "source": [
    "\n",
    "min_samples_params = []\n",
    "min_cluster_size_params = []\n",
    "epsilon_params = []\n",
    "cluster_nums = []\n",
    "purity_baselines = []\n",
    "purities = []\n",
    "db_index_baselines = []\n",
    "db_indexes = []\n",
    "repo_1 = []\n",
    "repo_2 = []\n",
    "repo_1_count = []\n",
    "repo_2_count = []\n",
    "\n",
    "with open(\"data/BigQuery/clusters/feature_set_2/full_feature_clusterer.pickle\", \"rb\") as file:\n",
    "    cluster_pred = pickle.load(file)\n",
    "    labels = cluster_pred.labels_\n",
    "    cluster_num = len(np.unique(labels))\n",
    "    X = bq_df[target_features].to_numpy()\n",
    "    for repo_x, repo_y in tqdm(list(repo_pair_set)):\n",
    "        \n",
    "        selected_repos = [repo_x, repo_y]\n",
    "        repo_to_idx = {repo:idx for idx, repo in enumerate(selected_repos)}\n",
    "        repo_bool = bq_df['repo_name'].apply(lambda repo: repo in selected_repos)\n",
    "        repo_class = bq_df.loc[repo_bool][\"repo_name\"].apply(lambda repo: repo_to_idx[repo]).to_numpy()   \n",
    "        \n",
    "        baseline_clusters = random_sample_clusters(bq_df.loc[repo_bool], repo_class)\n",
    "        p_baseline = purity(baseline_clusters, repo_class)\n",
    "        db_index_baseline = davies_bouldin_score(X[repo_bool], baseline_clusters)\n",
    "        \n",
    "        p = purity(labels[repo_bool], repo_class)\n",
    "        db_index = davies_bouldin_score(X[repo_bool], labels[repo_bool])\n",
    "\n",
    "        # color_palette = sns.color_palette('Set2', 110000)\n",
    "        # cluster_colors = [color_palette[x] if x >= 0\n",
    "        #               else (0.5, 0.5, 0.5)\n",
    "        #               for x in cluster_pred.labels_]\n",
    "        # cluster_member_colors = [sns.desaturate(x, p) for x, p in\n",
    "        #                          zip(cluster_colors, cluster_pred.probabilities_)]\n",
    "        # plt.scatter(*proj[repo_bool].T, s=20, linewidth=0, c=np.array(cluster_colors)[repo_bool])\n",
    "        \n",
    "        min_samples_params += [cluster_pred.min_samples]\n",
    "        min_cluster_size_params += [cluster_pred.min_cluster_size]\n",
    "        epsilon_params += [cluster_pred.cluster_selection_epsilon]\n",
    "        cluster_nums += [cluster_num]\n",
    "        repo_1 += [repo_x]\n",
    "        repo_2 += [repo_y]\n",
    "        repo_1_count += [repo_counter[repo_x]]\n",
    "        repo_2_count += [repo_counter[repo_y]]\n",
    "        purity_baselines += [p_baseline]\n",
    "        purities += [p]\n",
    "        db_index_baselines += [db_index_baseline]\n",
    "        db_indexes += [db_index]\n",
    "\n",
    "output_dict = {\n",
    "    \"min_samples_param\" : min_samples_params,\n",
    "    \"min_cluster_size_param\" : min_cluster_size_params,\n",
    "    \"epsilon_param\" : epsilon_params,\n",
    "    \"repo_1\" : repo_1,\n",
    "    \"repo_2\" : repo_2,\n",
    "    \"repo_1_count\" : repo_1_count,\n",
    "    \"repo_2_count\" : repo_2_count,\n",
    "    \"cluster_num\" : cluster_nums,\n",
    "    \"purity_baseline\" : purity_baselines,\n",
    "    \"purity\" : purities,\n",
    "    \"db_index_baseline\" : db_index_baselines,\n",
    "    \"db_index\" : db_indexes,\n",
    "}    "
   ]
  },
  {
   "cell_type": "code",
   "execution_count": 66,
   "id": "1530717d-f347-437d-8bfd-1619a1fccd4d",
   "metadata": {},
   "outputs": [],
   "source": [
    "pd.DataFrame(output_dict).to_csv(\"bq_repo_pair_eval_metrics.csv\", index=False)"
   ]
  },
  {
   "cell_type": "markdown",
   "id": "5ef46b11-d17e-4f5e-978f-27b06fe7bb48",
   "metadata": {},
   "source": [
    "# Py150k"
   ]
  },
  {
   "cell_type": "code",
   "execution_count": 8,
   "id": "d35ca140-df2c-472d-a13b-82cb7ff9e0be",
   "metadata": {},
   "outputs": [],
   "source": [
    "with open(\"data/py150/clusters/py150k_clusters.pickle\", \"rb\") as file:\n",
    "    py150k_cluster_pred = pickle.load(file)"
   ]
  },
  {
   "cell_type": "code",
   "execution_count": 9,
   "id": "759a21c8-dcf7-4e4d-9e47-2644b3b46c8e",
   "metadata": {},
   "outputs": [
    {
     "data": {
      "text/plain": [
       "100000"
      ]
     },
     "execution_count": 9,
     "metadata": {},
     "output_type": "execute_result"
    }
   ],
   "source": [
    "len(py150k_cluster_pred.labels_)"
   ]
  },
  {
   "cell_type": "code",
   "execution_count": 10,
   "id": "917543ad-bd73-4771-82d2-ec37bfcb775e",
   "metadata": {},
   "outputs": [],
   "source": [
    "py150k_df = pd.read_csv(\"data/py150k_metric_20220527.csv\")"
   ]
  },
  {
   "cell_type": "code",
   "execution_count": 11,
   "id": "15dd8c35-e447-40a3-8b4e-1f267494d665",
   "metadata": {},
   "outputs": [
    {
     "data": {
      "text/html": [
       "<div>\n",
       "<style scoped>\n",
       "    .dataframe tbody tr th:only-of-type {\n",
       "        vertical-align: middle;\n",
       "    }\n",
       "\n",
       "    .dataframe tbody tr th {\n",
       "        vertical-align: top;\n",
       "    }\n",
       "\n",
       "    .dataframe thead th {\n",
       "        text-align: right;\n",
       "    }\n",
       "</style>\n",
       "<table border=\"1\" class=\"dataframe\">\n",
       "  <thead>\n",
       "    <tr style=\"text-align: right;\">\n",
       "      <th></th>\n",
       "      <th>line_count</th>\n",
       "      <th>comment_count</th>\n",
       "      <th>comment_total_len</th>\n",
       "      <th>comment_avg_len</th>\n",
       "      <th>comment_density</th>\n",
       "      <th>id_total</th>\n",
       "      <th>lower_case</th>\n",
       "      <th>id_total_var</th>\n",
       "      <th>lower_case_var</th>\n",
       "      <th>snake_case_ratio</th>\n",
       "      <th>...</th>\n",
       "      <th>comprehensions</th>\n",
       "      <th>lower_camel_case_method</th>\n",
       "      <th>lower_case_class</th>\n",
       "      <th>snake_case_class</th>\n",
       "      <th>upper_camel_case_method</th>\n",
       "      <th>other_case_method</th>\n",
       "      <th>upper_case_method</th>\n",
       "      <th>lower_camel_case_class</th>\n",
       "      <th>upper_case_class</th>\n",
       "      <th>path</th>\n",
       "    </tr>\n",
       "  </thead>\n",
       "  <tbody>\n",
       "    <tr>\n",
       "      <th>0</th>\n",
       "      <td>116</td>\n",
       "      <td>2</td>\n",
       "      <td>44.0</td>\n",
       "      <td>22.000000</td>\n",
       "      <td>0.017241</td>\n",
       "      <td>1.0</td>\n",
       "      <td>1.0</td>\n",
       "      <td>1.0</td>\n",
       "      <td>1.0</td>\n",
       "      <td>0.000000</td>\n",
       "      <td>...</td>\n",
       "      <td>0.0</td>\n",
       "      <td>0.0</td>\n",
       "      <td>0.0</td>\n",
       "      <td>0.0</td>\n",
       "      <td>0.0</td>\n",
       "      <td>0.0</td>\n",
       "      <td>0.0</td>\n",
       "      <td>0.0</td>\n",
       "      <td>0.0</td>\n",
       "      <td>data/py150/py150_files/data/00/wikihouse/urls.py</td>\n",
       "    </tr>\n",
       "    <tr>\n",
       "      <th>1</th>\n",
       "      <td>363</td>\n",
       "      <td>24</td>\n",
       "      <td>1244.0</td>\n",
       "      <td>51.833333</td>\n",
       "      <td>0.066116</td>\n",
       "      <td>381.0</td>\n",
       "      <td>214.0</td>\n",
       "      <td>333.0</td>\n",
       "      <td>195.0</td>\n",
       "      <td>0.341207</td>\n",
       "      <td>...</td>\n",
       "      <td>0.0</td>\n",
       "      <td>0.0</td>\n",
       "      <td>0.0</td>\n",
       "      <td>0.0</td>\n",
       "      <td>0.0</td>\n",
       "      <td>0.0</td>\n",
       "      <td>0.0</td>\n",
       "      <td>0.0</td>\n",
       "      <td>0.0</td>\n",
       "      <td>data/py150/py150_files/data/0rpc/zerorpc-pytho...</td>\n",
       "    </tr>\n",
       "    <tr>\n",
       "      <th>2</th>\n",
       "      <td>13</td>\n",
       "      <td>1</td>\n",
       "      <td>21.0</td>\n",
       "      <td>21.000000</td>\n",
       "      <td>0.076923</td>\n",
       "      <td>3.0</td>\n",
       "      <td>3.0</td>\n",
       "      <td>3.0</td>\n",
       "      <td>3.0</td>\n",
       "      <td>0.000000</td>\n",
       "      <td>...</td>\n",
       "      <td>0.0</td>\n",
       "      <td>0.0</td>\n",
       "      <td>0.0</td>\n",
       "      <td>0.0</td>\n",
       "      <td>0.0</td>\n",
       "      <td>0.0</td>\n",
       "      <td>0.0</td>\n",
       "      <td>0.0</td>\n",
       "      <td>0.0</td>\n",
       "      <td>data/py150/py150_files/data/0xadada/dockdj/app...</td>\n",
       "    </tr>\n",
       "    <tr>\n",
       "      <th>3</th>\n",
       "      <td>34</td>\n",
       "      <td>0</td>\n",
       "      <td>0.0</td>\n",
       "      <td>0.000000</td>\n",
       "      <td>0.000000</td>\n",
       "      <td>26.0</td>\n",
       "      <td>18.0</td>\n",
       "      <td>26.0</td>\n",
       "      <td>18.0</td>\n",
       "      <td>0.307692</td>\n",
       "      <td>...</td>\n",
       "      <td>0.0</td>\n",
       "      <td>0.0</td>\n",
       "      <td>0.0</td>\n",
       "      <td>0.0</td>\n",
       "      <td>0.0</td>\n",
       "      <td>0.0</td>\n",
       "      <td>0.0</td>\n",
       "      <td>0.0</td>\n",
       "      <td>0.0</td>\n",
       "      <td>data/py150/py150_files/data/1stvamp/hippybot/s...</td>\n",
       "    </tr>\n",
       "    <tr>\n",
       "      <th>4</th>\n",
       "      <td>11</td>\n",
       "      <td>1</td>\n",
       "      <td>21.0</td>\n",
       "      <td>21.000000</td>\n",
       "      <td>0.090909</td>\n",
       "      <td>3.0</td>\n",
       "      <td>3.0</td>\n",
       "      <td>3.0</td>\n",
       "      <td>3.0</td>\n",
       "      <td>0.000000</td>\n",
       "      <td>...</td>\n",
       "      <td>0.0</td>\n",
       "      <td>0.0</td>\n",
       "      <td>0.0</td>\n",
       "      <td>0.0</td>\n",
       "      <td>0.0</td>\n",
       "      <td>0.0</td>\n",
       "      <td>0.0</td>\n",
       "      <td>0.0</td>\n",
       "      <td>0.0</td>\n",
       "      <td>data/py150/py150_files/data/2buntu/2buntu-blog...</td>\n",
       "    </tr>\n",
       "    <tr>\n",
       "      <th>...</th>\n",
       "      <td>...</td>\n",
       "      <td>...</td>\n",
       "      <td>...</td>\n",
       "      <td>...</td>\n",
       "      <td>...</td>\n",
       "      <td>...</td>\n",
       "      <td>...</td>\n",
       "      <td>...</td>\n",
       "      <td>...</td>\n",
       "      <td>...</td>\n",
       "      <td>...</td>\n",
       "      <td>...</td>\n",
       "      <td>...</td>\n",
       "      <td>...</td>\n",
       "      <td>...</td>\n",
       "      <td>...</td>\n",
       "      <td>...</td>\n",
       "      <td>...</td>\n",
       "      <td>...</td>\n",
       "      <td>...</td>\n",
       "      <td>...</td>\n",
       "    </tr>\n",
       "    <tr>\n",
       "      <th>99995</th>\n",
       "      <td>31</td>\n",
       "      <td>15</td>\n",
       "      <td>645.0</td>\n",
       "      <td>43.000000</td>\n",
       "      <td>0.483871</td>\n",
       "      <td>8.0</td>\n",
       "      <td>4.0</td>\n",
       "      <td>7.0</td>\n",
       "      <td>4.0</td>\n",
       "      <td>0.125000</td>\n",
       "      <td>...</td>\n",
       "      <td>0.0</td>\n",
       "      <td>0.0</td>\n",
       "      <td>0.0</td>\n",
       "      <td>0.0</td>\n",
       "      <td>0.0</td>\n",
       "      <td>0.0</td>\n",
       "      <td>0.0</td>\n",
       "      <td>0.0</td>\n",
       "      <td>0.0</td>\n",
       "      <td>data/py150/py150_files/data/Havate/havate-open...</td>\n",
       "    </tr>\n",
       "    <tr>\n",
       "      <th>99996</th>\n",
       "      <td>61</td>\n",
       "      <td>21</td>\n",
       "      <td>807.0</td>\n",
       "      <td>38.428571</td>\n",
       "      <td>0.344262</td>\n",
       "      <td>29.0</td>\n",
       "      <td>13.0</td>\n",
       "      <td>25.0</td>\n",
       "      <td>13.0</td>\n",
       "      <td>0.448276</td>\n",
       "      <td>...</td>\n",
       "      <td>0.0</td>\n",
       "      <td>0.0</td>\n",
       "      <td>0.0</td>\n",
       "      <td>0.0</td>\n",
       "      <td>0.0</td>\n",
       "      <td>0.0</td>\n",
       "      <td>0.0</td>\n",
       "      <td>0.0</td>\n",
       "      <td>0.0</td>\n",
       "      <td>data/py150/py150_files/data/Havate/havate-open...</td>\n",
       "    </tr>\n",
       "    <tr>\n",
       "      <th>99997</th>\n",
       "      <td>642</td>\n",
       "      <td>18</td>\n",
       "      <td>771.0</td>\n",
       "      <td>42.833333</td>\n",
       "      <td>0.028037</td>\n",
       "      <td>606.0</td>\n",
       "      <td>359.0</td>\n",
       "      <td>558.0</td>\n",
       "      <td>345.0</td>\n",
       "      <td>0.270627</td>\n",
       "      <td>...</td>\n",
       "      <td>6.0</td>\n",
       "      <td>0.0</td>\n",
       "      <td>0.0</td>\n",
       "      <td>0.0</td>\n",
       "      <td>0.0</td>\n",
       "      <td>0.0</td>\n",
       "      <td>0.0</td>\n",
       "      <td>0.0</td>\n",
       "      <td>0.0</td>\n",
       "      <td>data/py150/py150_files/data/Havate/havate-open...</td>\n",
       "    </tr>\n",
       "    <tr>\n",
       "      <th>99998</th>\n",
       "      <td>400</td>\n",
       "      <td>20</td>\n",
       "      <td>846.0</td>\n",
       "      <td>42.300000</td>\n",
       "      <td>0.050000</td>\n",
       "      <td>380.0</td>\n",
       "      <td>224.0</td>\n",
       "      <td>351.0</td>\n",
       "      <td>221.0</td>\n",
       "      <td>0.263158</td>\n",
       "      <td>...</td>\n",
       "      <td>4.0</td>\n",
       "      <td>0.0</td>\n",
       "      <td>0.0</td>\n",
       "      <td>0.0</td>\n",
       "      <td>0.0</td>\n",
       "      <td>0.0</td>\n",
       "      <td>0.0</td>\n",
       "      <td>0.0</td>\n",
       "      <td>0.0</td>\n",
       "      <td>data/py150/py150_files/data/Havate/havate-open...</td>\n",
       "    </tr>\n",
       "    <tr>\n",
       "      <th>99999</th>\n",
       "      <td>26</td>\n",
       "      <td>11</td>\n",
       "      <td>533.0</td>\n",
       "      <td>48.454545</td>\n",
       "      <td>0.423077</td>\n",
       "      <td>8.0</td>\n",
       "      <td>4.0</td>\n",
       "      <td>7.0</td>\n",
       "      <td>4.0</td>\n",
       "      <td>0.125000</td>\n",
       "      <td>...</td>\n",
       "      <td>0.0</td>\n",
       "      <td>0.0</td>\n",
       "      <td>0.0</td>\n",
       "      <td>0.0</td>\n",
       "      <td>0.0</td>\n",
       "      <td>0.0</td>\n",
       "      <td>0.0</td>\n",
       "      <td>0.0</td>\n",
       "      <td>0.0</td>\n",
       "      <td>data/py150/py150_files/data/CiscoSystems/avos/...</td>\n",
       "    </tr>\n",
       "  </tbody>\n",
       "</table>\n",
       "<p>100000 rows × 83 columns</p>\n",
       "</div>"
      ],
      "text/plain": [
       "       line_count  comment_count  comment_total_len  comment_avg_len  \\\n",
       "0             116              2               44.0        22.000000   \n",
       "1             363             24             1244.0        51.833333   \n",
       "2              13              1               21.0        21.000000   \n",
       "3              34              0                0.0         0.000000   \n",
       "4              11              1               21.0        21.000000   \n",
       "...           ...            ...                ...              ...   \n",
       "99995          31             15              645.0        43.000000   \n",
       "99996          61             21              807.0        38.428571   \n",
       "99997         642             18              771.0        42.833333   \n",
       "99998         400             20              846.0        42.300000   \n",
       "99999          26             11              533.0        48.454545   \n",
       "\n",
       "       comment_density  id_total  lower_case  id_total_var  lower_case_var  \\\n",
       "0             0.017241       1.0         1.0           1.0             1.0   \n",
       "1             0.066116     381.0       214.0         333.0           195.0   \n",
       "2             0.076923       3.0         3.0           3.0             3.0   \n",
       "3             0.000000      26.0        18.0          26.0            18.0   \n",
       "4             0.090909       3.0         3.0           3.0             3.0   \n",
       "...                ...       ...         ...           ...             ...   \n",
       "99995         0.483871       8.0         4.0           7.0             4.0   \n",
       "99996         0.344262      29.0        13.0          25.0            13.0   \n",
       "99997         0.028037     606.0       359.0         558.0           345.0   \n",
       "99998         0.050000     380.0       224.0         351.0           221.0   \n",
       "99999         0.423077       8.0         4.0           7.0             4.0   \n",
       "\n",
       "       snake_case_ratio  ...  comprehensions  lower_camel_case_method  \\\n",
       "0              0.000000  ...             0.0                      0.0   \n",
       "1              0.341207  ...             0.0                      0.0   \n",
       "2              0.000000  ...             0.0                      0.0   \n",
       "3              0.307692  ...             0.0                      0.0   \n",
       "4              0.000000  ...             0.0                      0.0   \n",
       "...                 ...  ...             ...                      ...   \n",
       "99995          0.125000  ...             0.0                      0.0   \n",
       "99996          0.448276  ...             0.0                      0.0   \n",
       "99997          0.270627  ...             6.0                      0.0   \n",
       "99998          0.263158  ...             4.0                      0.0   \n",
       "99999          0.125000  ...             0.0                      0.0   \n",
       "\n",
       "       lower_case_class  snake_case_class  upper_camel_case_method  \\\n",
       "0                   0.0               0.0                      0.0   \n",
       "1                   0.0               0.0                      0.0   \n",
       "2                   0.0               0.0                      0.0   \n",
       "3                   0.0               0.0                      0.0   \n",
       "4                   0.0               0.0                      0.0   \n",
       "...                 ...               ...                      ...   \n",
       "99995               0.0               0.0                      0.0   \n",
       "99996               0.0               0.0                      0.0   \n",
       "99997               0.0               0.0                      0.0   \n",
       "99998               0.0               0.0                      0.0   \n",
       "99999               0.0               0.0                      0.0   \n",
       "\n",
       "       other_case_method  upper_case_method  lower_camel_case_class  \\\n",
       "0                    0.0                0.0                     0.0   \n",
       "1                    0.0                0.0                     0.0   \n",
       "2                    0.0                0.0                     0.0   \n",
       "3                    0.0                0.0                     0.0   \n",
       "4                    0.0                0.0                     0.0   \n",
       "...                  ...                ...                     ...   \n",
       "99995                0.0                0.0                     0.0   \n",
       "99996                0.0                0.0                     0.0   \n",
       "99997                0.0                0.0                     0.0   \n",
       "99998                0.0                0.0                     0.0   \n",
       "99999                0.0                0.0                     0.0   \n",
       "\n",
       "       upper_case_class                                               path  \n",
       "0                   0.0   data/py150/py150_files/data/00/wikihouse/urls.py  \n",
       "1                   0.0  data/py150/py150_files/data/0rpc/zerorpc-pytho...  \n",
       "2                   0.0  data/py150/py150_files/data/0xadada/dockdj/app...  \n",
       "3                   0.0  data/py150/py150_files/data/1stvamp/hippybot/s...  \n",
       "4                   0.0  data/py150/py150_files/data/2buntu/2buntu-blog...  \n",
       "...                 ...                                                ...  \n",
       "99995               0.0  data/py150/py150_files/data/Havate/havate-open...  \n",
       "99996               0.0  data/py150/py150_files/data/Havate/havate-open...  \n",
       "99997               0.0  data/py150/py150_files/data/Havate/havate-open...  \n",
       "99998               0.0  data/py150/py150_files/data/Havate/havate-open...  \n",
       "99999               0.0  data/py150/py150_files/data/CiscoSystems/avos/...  \n",
       "\n",
       "[100000 rows x 83 columns]"
      ]
     },
     "execution_count": 11,
     "metadata": {},
     "output_type": "execute_result"
    }
   ],
   "source": [
    "py150k_df"
   ]
  },
  {
   "cell_type": "code",
   "execution_count": 12,
   "id": "15c4a8ff-b2bc-4a64-aebd-e3cb356224ad",
   "metadata": {},
   "outputs": [],
   "source": [
    "users = []\n",
    "repos = []\n",
    "for path in py150k_df[\"path\"]:\n",
    "    temp = path.split(\"/\")\n",
    "    users += [temp[4]]\n",
    "    repos += [temp[5]]\n",
    "\n",
    "py150k_df[\"user_name\"] = users\n",
    "py150k_df[\"repo_name\"] = repos "
   ]
  },
  {
   "cell_type": "code",
   "execution_count": 15,
   "id": "62131bc1-99f4-4b50-bce0-9a359742e63b",
   "metadata": {},
   "outputs": [
    {
     "ename": "NameError",
     "evalue": "name 'py150k_df' is not defined",
     "output_type": "error",
     "traceback": [
      "\u001b[0;31m---------------------------------------------------------------------------\u001b[0m",
      "\u001b[0;31mNameError\u001b[0m                                 Traceback (most recent call last)",
      "\u001b[0;32m<ipython-input-15-3274c575fc24>\u001b[0m in \u001b[0;36m<module>\u001b[0;34m\u001b[0m\n\u001b[1;32m     19\u001b[0m      \u001b[0;34m'ds_density'\u001b[0m\u001b[0;34m,\u001b[0m\u001b[0;34m\u001b[0m\u001b[0;34m\u001b[0m\u001b[0m\n\u001b[1;32m     20\u001b[0m ]\n\u001b[0;32m---> 21\u001b[0;31m \u001b[0mX\u001b[0m \u001b[0;34m=\u001b[0m \u001b[0mpy150k_df\u001b[0m\u001b[0;34m[\u001b[0m\u001b[0mtarget_features\u001b[0m\u001b[0;34m]\u001b[0m\u001b[0;34m.\u001b[0m\u001b[0mto_numpy\u001b[0m\u001b[0;34m(\u001b[0m\u001b[0;34m)\u001b[0m\u001b[0;34m\u001b[0m\u001b[0;34m\u001b[0m\u001b[0m\n\u001b[0m\u001b[1;32m     22\u001b[0m \u001b[0mX\u001b[0m\u001b[0;34m.\u001b[0m\u001b[0mshape\u001b[0m\u001b[0;34m\u001b[0m\u001b[0;34m\u001b[0m\u001b[0m\n",
      "\u001b[0;31mNameError\u001b[0m: name 'py150k_df' is not defined"
     ]
    }
   ],
   "source": [
    "#internal metrics are generated now and everything is stored in dataframe should be ready for clustering\n",
    "target_features = [\n",
    "     'snake_case_var_ratio',\n",
    "     'snake_case_class_ratio',\n",
    "     'snake_case_method_ratio',\n",
    "     'upper_camel_case_var_ratio',\n",
    "     'upper_camel_case_class_ratio',\n",
    "     'upper_camel_case_method_ratio',\n",
    "     'lower_camel_case_var_ratio',\n",
    "     'lower_camel_case_class_ratio',\n",
    "     'lower_camel_case_method_ratio',\n",
    "     'func_decorators_avg',\n",
    "     'class_decorators_avg',\n",
    "     'class_parents_avg',\n",
    "     'comprehensions_avg',\n",
    "     'generators_avg',\n",
    "     'lambda_avg',\n",
    "     'comment_density',\n",
    "     'ds_density',\n",
    "]\n",
    "X = py150k_df[target_features].to_numpy()\n",
    "X.shape"
   ]
  },
  {
   "cell_type": "code",
   "execution_count": 18,
   "id": "5e0f762b-444e-4cb2-8edf-807c3cbeaa55",
   "metadata": {},
   "outputs": [
    {
     "data": {
      "text/plain": [
       "[('anhstudios', 5069), ('openstack', 3111)]"
      ]
     },
     "execution_count": 18,
     "metadata": {},
     "output_type": "execute_result"
    }
   ],
   "source": [
    "user_counter = Counter(users)\n",
    "user_freq_dist = user_counter.most_common(2)[:]\n",
    "selected_users = get_high_freq_users(user_freq_dist, 0)\n",
    "user_to_idx = {user:idx for idx, user in enumerate(selected_users)}\n",
    "user_bool = py150k_df['user_name'].apply(lambda user: user in selected_users)\n",
    "user_freq_dist"
   ]
  },
  {
   "cell_type": "code",
   "execution_count": 36,
   "id": "08ad7c0b-edc2-459c-902a-23498ce7c4b4",
   "metadata": {},
   "outputs": [],
   "source": [
    "user_freq_dist = user_counter.most_common(20)[:]\n",
    "user_pair_set = set()\n",
    "for user_x, _ in user_freq_dist:\n",
    "    for user_y, _ in user_freq_dist:\n",
    "        if user_x == user_y : continue\n",
    "        if (user_x, user_y) in user_pair_set: continue\n",
    "        if (user_y, user_x) in user_pair_set: continue\n",
    "        user_pair_set.add((user_x, user_y))"
   ]
  },
  {
   "cell_type": "code",
   "execution_count": 37,
   "id": "8eec6e96-84b1-4b95-ba32-12a9ddda6ac0",
   "metadata": {},
   "outputs": [
    {
     "data": {
      "application/vnd.jupyter.widget-view+json": {
       "model_id": "697b415e924a4d178b37426c21f45225",
       "version_major": 2,
       "version_minor": 0
      },
      "text/plain": [
       "  0%|          | 0/190 [00:00<?, ?it/s]"
      ]
     },
     "metadata": {},
     "output_type": "display_data"
    }
   ],
   "source": [
    "\n",
    "min_samples_params = []\n",
    "min_cluster_size_params = []\n",
    "epsilon_params = []\n",
    "cluster_nums = []\n",
    "purity_baselines = []\n",
    "purities = []\n",
    "db_index_baselines = []\n",
    "db_indexes = []\n",
    "user_1 = []\n",
    "user_2 = []\n",
    "user_1_count = []\n",
    "user_2_count = []\n",
    "\n",
    "with open(\"data/py150/clusters/py150k_clusters.pickle\", \"rb\") as file:\n",
    "    cluster_pred = pickle.load(file)\n",
    "    labels = cluster_pred.labels_\n",
    "    cluster_num = len(np.unique(labels))\n",
    "    X = py150k_df[target_features].to_numpy()\n",
    "    for user_x, user_y in tqdm(list(user_pair_set)):\n",
    "        \n",
    "        selected_users = [user_x, user_y]\n",
    "        user_to_idx = {user:idx for idx, user in enumerate(selected_users)}\n",
    "        user_bool = py150k_df['user_name'].apply(lambda user: user in selected_users)\n",
    "        user_class = py150k_df.loc[user_bool][\"user_name\"].apply(lambda user: user_to_idx[user]).to_numpy()   \n",
    "        \n",
    "        baseline_clusters = random_sample_clusters(py150k_df.loc[user_bool], user_class)\n",
    "        p_baseline = purity(baseline_clusters, user_class)\n",
    "        db_index_baseline = davies_bouldin_score(X[user_bool], baseline_clusters)\n",
    "        \n",
    "        p = purity(labels[user_bool], user_class)\n",
    "        db_index = davies_bouldin_score(X[user_bool], labels[user_bool])\n",
    "\n",
    "        # color_palette = sns.color_palette('Set2', 110000)\n",
    "        # cluster_colors = [color_palette[x] if x >= 0\n",
    "        #               else (0.5, 0.5, 0.5)\n",
    "        #               for x in cluster_pred.labels_]\n",
    "        # cluster_member_colors = [sns.desaturate(x, p) for x, p in\n",
    "        #                          zip(cluster_colors, cluster_pred.probabilities_)]\n",
    "        # plt.scatter(*proj[repo_bool].T, s=20, linewidth=0, c=np.array(cluster_colors)[repo_bool])\n",
    "        \n",
    "        min_samples_params += [cluster_pred.min_samples]\n",
    "        min_cluster_size_params += [cluster_pred.min_cluster_size]\n",
    "        epsilon_params += [cluster_pred.cluster_selection_epsilon]\n",
    "        cluster_nums += [cluster_num]\n",
    "        user_1 += [user_x]\n",
    "        user_2 += [user_y]\n",
    "        user_1_count += [user_counter[user_x]]\n",
    "        user_2_count += [user_counter[user_y]]\n",
    "        purity_baselines += [p_baseline]\n",
    "        purities += [p]\n",
    "        db_index_baselines += [db_index_baseline]\n",
    "        db_indexes += [db_index]\n",
    "output_dict = {\n",
    "    \"min_samples_param\" : min_samples_params,\n",
    "    \"min_cluster_size_param\" : min_cluster_size_params,\n",
    "    \"epsilon_param\" : epsilon_params,\n",
    "    \"user_1\" : user_1,\n",
    "    \"user_2\" : user_2,\n",
    "    \"user_1_count\" : user_1_count,\n",
    "    \"user_2_count\" : user_2_count,\n",
    "    \"cluster_num\" : cluster_nums,\n",
    "    \"purity_baseline\" : purity_baselines,\n",
    "    \"purity\" : purities,\n",
    "    \"db_index_baseline\" : db_index_baselines,\n",
    "    \"db_index\" : db_indexes,\n",
    "}    "
   ]
  },
  {
   "cell_type": "code",
   "execution_count": 38,
   "id": "bb0897d1-cea4-4fac-a218-57b210d0338c",
   "metadata": {},
   "outputs": [],
   "source": [
    "pd.DataFrame(output_dict).to_csv(\"py150k_user_pair_eval_metrics.csv\", index=False)"
   ]
  },
  {
   "cell_type": "code",
   "execution_count": 31,
   "id": "10809e07-0589-4dc9-beb2-8d1b9fefca51",
   "metadata": {},
   "outputs": [
    {
     "data": {
      "text/plain": [
       "[('swganh', 5069),\n",
       " ('appscale', 1882),\n",
       " ('hue', 989),\n",
       " ('plexnet', 852),\n",
       " ('commcare-hq', 780)]"
      ]
     },
     "execution_count": 31,
     "metadata": {},
     "output_type": "execute_result"
    }
   ],
   "source": [
    "repo_counter = Counter(repos)\n",
    "repo_freq_dist = repo_counter.most_common(5)[:]\n",
    "selected_repos = get_high_freq_users(repo_freq_dist, 0)\n",
    "repo_to_idx = {repo:idx for idx, repo in enumerate(selected_repos)}\n",
    "repo_bool = py150k_df['repo_name'].apply(lambda repo: repo in selected_repos)\n",
    "repo_freq_dist"
   ]
  },
  {
   "cell_type": "code",
   "execution_count": 32,
   "id": "977fe153-c00d-4519-9886-12e3f5d288a2",
   "metadata": {},
   "outputs": [],
   "source": [
    "repo_freq_dist = repo_counter.most_common(20)[:]\n",
    "repo_pair_set = set()\n",
    "for repo_x, _ in repo_freq_dist:\n",
    "    for repo_y, _ in repo_freq_dist:\n",
    "        if repo_x == repo_y : continue\n",
    "        if (repo_x, repo_y) in repo_pair_set: continue\n",
    "        if (repo_y, repo_x) in repo_pair_set: continue\n",
    "        repo_pair_set.add((repo_x, repo_y))\n",
    "    "
   ]
  },
  {
   "cell_type": "code",
   "execution_count": 34,
   "id": "5779a7cc-7489-4814-987a-feb562574e6a",
   "metadata": {},
   "outputs": [
    {
     "data": {
      "application/vnd.jupyter.widget-view+json": {
       "model_id": "7d7f103e94ca4f38b42b7c45f6bf046f",
       "version_major": 2,
       "version_minor": 0
      },
      "text/plain": [
       "  0%|          | 0/190 [00:00<?, ?it/s]"
      ]
     },
     "metadata": {},
     "output_type": "display_data"
    }
   ],
   "source": [
    "\n",
    "min_samples_params = []\n",
    "min_cluster_size_params = []\n",
    "epsilon_params = []\n",
    "cluster_nums = []\n",
    "purity_baselines = []\n",
    "purities = []\n",
    "db_index_baselines = []\n",
    "db_indexes = []\n",
    "repo_1 = []\n",
    "repo_2 = []\n",
    "repo_1_count = []\n",
    "repo_2_count = []\n",
    "\n",
    "with open(\"data/py150/clusters/py150k_clusters.pickle\", \"rb\") as file:\n",
    "    cluster_pred = pickle.load(file)\n",
    "    labels = cluster_pred.labels_\n",
    "    cluster_num = len(np.unique(labels))\n",
    "    X = py150k_df[target_features].to_numpy()\n",
    "    for repo_x, repo_y in tqdm(list(repo_pair_set)):\n",
    "        \n",
    "        selected_repos = [repo_x, repo_y]\n",
    "        repo_to_idx = {repo:idx for idx, repo in enumerate(selected_repos)}\n",
    "        repo_bool = py150k_df['repo_name'].apply(lambda repo: repo in selected_repos)\n",
    "        repo_class = py150k_df.loc[repo_bool][\"repo_name\"].apply(lambda repo: repo_to_idx[repo]).to_numpy()     \n",
    "        \n",
    "        baseline_clusters = random_sample_clusters(py150k_df.loc[repo_bool], repo_class)\n",
    "        p_baseline = purity(baseline_clusters, repo_class)\n",
    "        db_index_baseline = davies_bouldin_score(X[repo_bool], baseline_clusters)\n",
    "        \n",
    "        p = purity(labels[repo_bool], repo_class)\n",
    "        db_index = davies_bouldin_score(X[repo_bool], labels[repo_bool])\n",
    "\n",
    "        # color_palette = sns.color_palette('Set2', 110000)\n",
    "        # cluster_colors = [color_palette[x] if x >= 0\n",
    "        #               else (0.5, 0.5, 0.5)\n",
    "        #               for x in cluster_pred.labels_]\n",
    "        # cluster_member_colors = [sns.desaturate(x, p) for x, p in\n",
    "        #                          zip(cluster_colors, cluster_pred.probabilities_)]\n",
    "        # plt.scatter(*proj[repo_bool].T, s=20, linewidth=0, c=np.array(cluster_colors)[repo_bool])\n",
    "        \n",
    "        min_samples_params += [cluster_pred.min_samples]\n",
    "        min_cluster_size_params += [cluster_pred.min_cluster_size]\n",
    "        epsilon_params += [cluster_pred.cluster_selection_epsilon]\n",
    "        cluster_nums += [cluster_num]\n",
    "        repo_1 += [repo_x]\n",
    "        repo_2 += [repo_y]\n",
    "        repo_1_count += [repo_counter[repo_x]]\n",
    "        repo_2_count += [repo_counter[repo_y]]\n",
    "        purity_baselines += [p_baseline]\n",
    "        purities += [p]\n",
    "        db_index_baselines += [db_index_baseline]\n",
    "        db_indexes += [db_index]\n",
    "\n",
    "output_dict = {\n",
    "    \"min_samples_param\" : min_samples_params,\n",
    "    \"min_cluster_size_param\" : min_cluster_size_params,\n",
    "    \"epsilon_param\" : epsilon_params,\n",
    "    \"repo_1\" : repo_1,\n",
    "    \"repo_2\" : repo_2,\n",
    "    \"repo_1_count\" : repo_1_count,\n",
    "    \"repo_2_count\" : repo_2_count,\n",
    "    \"cluster_num\" : cluster_nums,\n",
    "    \"purity_baseline\" : purity_baselines,\n",
    "    \"purity\" : purities,\n",
    "    \"db_index_baseline\" : db_index_baselines,\n",
    "    \"db_index\" : db_indexes,\n",
    "}    "
   ]
  },
  {
   "cell_type": "code",
   "execution_count": null,
   "id": "d71c9b78-1f0d-4fb7-b943-ce16c0510d58",
   "metadata": {},
   "outputs": [],
   "source": []
  },
  {
   "cell_type": "code",
   "execution_count": 35,
   "id": "59974931-3dd3-4f5a-bf40-8528d432878a",
   "metadata": {},
   "outputs": [],
   "source": [
    "pd.DataFrame(output_dict).to_csv(\"py150k_repo_pair_eval_metrics.csv\", index=False)"
   ]
  },
  {
   "cell_type": "code",
   "execution_count": null,
   "id": "7a3770ea-228a-44e4-9032-262ce45feba0",
   "metadata": {},
   "outputs": [],
   "source": []
  },
  {
   "cell_type": "markdown",
   "id": "4404b293-84e7-4966-b5f4-ce61d689abc0",
   "metadata": {},
   "source": [
    "# Combined Dataset"
   ]
  },
  {
   "cell_type": "code",
   "execution_count": 26,
   "id": "907cd601-390c-4353-831a-ee1edd6cfb56",
   "metadata": {},
   "outputs": [],
   "source": [
    "from tqdm.auto import tqdm\n",
    "#internal metrics are generated now and everything is stored in dataframe should be ready for clustering\n",
    "target_features = [\n",
    "     'snake_case_var_ratio',\n",
    "     'snake_case_class_ratio',\n",
    "     'snake_case_method_ratio',\n",
    "     'upper_camel_case_var_ratio',\n",
    "     'upper_camel_case_class_ratio',\n",
    "     'upper_camel_case_method_ratio',\n",
    "     'lower_camel_case_var_ratio',\n",
    "     'lower_camel_case_class_ratio',\n",
    "     'lower_camel_case_method_ratio',\n",
    "     'func_decorators_avg',\n",
    "     'class_decorators_avg',\n",
    "     'class_parents_avg',\n",
    "     'comprehensions_avg',\n",
    "     'generators_avg',\n",
    "     'lambda_avg',\n",
    "     'comment_density',\n",
    "     'ds_density',\n",
    "]"
   ]
  },
  {
   "cell_type": "code",
   "execution_count": 15,
   "id": "78966a1c-352a-47fa-b5fc-78c58366ec7d",
   "metadata": {},
   "outputs": [],
   "source": [
    "combined_df = pd.concat([py150k_df[target_features], bq_df[target_features]])"
   ]
  },
  {
   "cell_type": "code",
   "execution_count": 16,
   "id": "1dffa99a-222b-4e1a-b8fc-b90386d2c23f",
   "metadata": {},
   "outputs": [],
   "source": [
    "with open(\"data/combined_dataset/clusters/feature_set_1/full_feature_clusterer.pickle\", \"rb\") as file:\n",
    "    combined_cluster_pred = pickle.load(file)"
   ]
  },
  {
   "cell_type": "code",
   "execution_count": 17,
   "id": "d163bea4-ae85-49e9-999b-2b3a10c178fb",
   "metadata": {},
   "outputs": [],
   "source": [
    "users = []\n",
    "repos = []\n",
    "for path in py150k_df[\"path\"]:\n",
    "    temp = path.split(\"/\")\n",
    "    users += [temp[4]]\n",
    "    repos += [temp[5]]\n",
    "\n",
    "for user_repo in bq_df[\"repository\"]:\n",
    "    temp = user_repo.split(\"/\")\n",
    "    users += [temp[0]]\n",
    "    repos += [temp[1]]\n",
    "\n",
    "combined_df[\"user_name\"] = users\n",
    "combined_df[\"repo_name\"] = repos "
   ]
  },
  {
   "cell_type": "code",
   "execution_count": 18,
   "id": "2d5ffda6-bbf2-477e-8641-158ef2489f03",
   "metadata": {},
   "outputs": [],
   "source": [
    "c = Counter(combined_df[[\"user_name\", \"repo_name\"]][combined_df[\"user_name\"] == \"anhstudios\"][\"repo_name\"].to_numpy())"
   ]
  },
  {
   "cell_type": "code",
   "execution_count": 19,
   "id": "09a51a6a-df49-455b-b062-fbf62b653fb9",
   "metadata": {},
   "outputs": [
    {
     "data": {
      "text/plain": [
       "[('swganh', 5069)]"
      ]
     },
     "execution_count": 19,
     "metadata": {},
     "output_type": "execute_result"
    }
   ],
   "source": [
    "c.most_common(1)"
   ]
  },
  {
   "cell_type": "code",
   "execution_count": 20,
   "id": "d197eee4-b80a-41e2-8411-c2d105bcf506",
   "metadata": {},
   "outputs": [
    {
     "data": {
      "text/plain": [
       "215050"
      ]
     },
     "execution_count": 20,
     "metadata": {},
     "output_type": "execute_result"
    }
   ],
   "source": [
    "len(combined_cluster_pred.labels_)"
   ]
  },
  {
   "cell_type": "code",
   "execution_count": 21,
   "id": "d65466e4-22db-431f-8568-ac7dc6320a68",
   "metadata": {},
   "outputs": [
    {
     "data": {
      "text/plain": [
       "[('anhstudios', 5069), ('openstack', 3111)]"
      ]
     },
     "execution_count": 21,
     "metadata": {},
     "output_type": "execute_result"
    }
   ],
   "source": [
    "user_counter = Counter(users)\n",
    "user_freq_dist = user_counter.most_common(2)[:]\n",
    "selected_users = get_high_freq_users(user_freq_dist, 0)\n",
    "user_to_idx = {user:idx for idx, user in enumerate(selected_users)}\n",
    "user_bool = combined_df['user_name'].apply(lambda user: user in selected_users)\n",
    "user_freq_dist"
   ]
  },
  {
   "cell_type": "code",
   "execution_count": 52,
   "id": "4da9717a-465c-4aeb-98da-9a6a91c03510",
   "metadata": {},
   "outputs": [
    {
     "name": "stderr",
     "output_type": "stream",
     "text": [
      "<ipython-input-52-ed024c897ef0>:1: FutureWarning: Dropping of nuisance columns in DataFrame reductions (with 'numeric_only=None') is deprecated; in a future version this will raise TypeError.  Select only valid columns before calling the reduction.\n",
      "  combined_df[combined_df['user_name']==\"anhstudios\"].mean()\n"
     ]
    },
    {
     "data": {
      "text/plain": [
       "snake_case_var_ratio             0.200791\n",
       "snake_case_class_ratio           0.000000\n",
       "snake_case_method_ratio          0.000395\n",
       "upper_camel_case_var_ratio       0.000293\n",
       "upper_camel_case_class_ratio     0.003354\n",
       "upper_camel_case_method_ratio    0.000197\n",
       "lower_camel_case_var_ratio       0.202278\n",
       "lower_camel_case_class_ratio     0.000000\n",
       "lower_camel_case_method_ratio    0.002565\n",
       "func_decorators_avg              0.000000\n",
       "class_decorators_avg             0.000000\n",
       "class_parents_avg                0.003156\n",
       "comprehensions_avg               0.000000\n",
       "generators_avg                   0.000000\n",
       "lambda_avg                       0.000000\n",
       "comment_density                  0.292438\n",
       "ds_density                       0.000037\n",
       "dtype: float64"
      ]
     },
     "execution_count": 52,
     "metadata": {},
     "output_type": "execute_result"
    }
   ],
   "source": [
    "combined_df[combined_df['user_name']==\"anhstudios\"].mean()"
   ]
  },
  {
   "cell_type": "code",
   "execution_count": 53,
   "id": "f40d42d3-440c-4423-800f-144efdbbe9b3",
   "metadata": {},
   "outputs": [
    {
     "name": "stderr",
     "output_type": "stream",
     "text": [
      "<ipython-input-53-e8376316967e>:1: FutureWarning: Dropping of nuisance columns in DataFrame reductions (with 'numeric_only=None') is deprecated; in a future version this will raise TypeError.  Select only valid columns before calling the reduction.\n",
      "  combined_df[combined_df['user_name']==\"plotly\"].mean()\n"
     ]
    },
    {
     "data": {
      "text/plain": [
       "snake_case_var_ratio             0.334153\n",
       "snake_case_class_ratio           0.001968\n",
       "snake_case_method_ratio          0.890934\n",
       "upper_camel_case_var_ratio       0.092542\n",
       "upper_camel_case_class_ratio     0.897688\n",
       "upper_camel_case_method_ratio    0.000000\n",
       "lower_camel_case_var_ratio       0.000317\n",
       "lower_camel_case_class_ratio     0.000000\n",
       "lower_camel_case_method_ratio    0.001140\n",
       "func_decorators_avg              0.086536\n",
       "class_decorators_avg             0.001968\n",
       "class_parents_avg                0.945811\n",
       "comprehensions_avg               0.000126\n",
       "generators_avg                   0.000051\n",
       "lambda_avg                       0.000013\n",
       "comment_density                  0.009980\n",
       "ds_density                       0.040434\n",
       "dtype: float64"
      ]
     },
     "execution_count": 53,
     "metadata": {},
     "output_type": "execute_result"
    }
   ],
   "source": [
    "combined_df[combined_df['user_name']==\"plotly\"].mean()"
   ]
  },
  {
   "cell_type": "code",
   "execution_count": 24,
   "id": "c9310989-fae2-48cb-a81b-c2f688c3be9d",
   "metadata": {},
   "outputs": [],
   "source": [
    "user_freq_dist = user_counter.most_common(20)[:]\n",
    "user_pair_set = set()\n",
    "for user_x, _ in user_freq_dist:\n",
    "    for user_y, _ in user_freq_dist:\n",
    "        if user_x == user_y : continue\n",
    "        if (user_x, user_y) in user_pair_set: continue\n",
    "        if (user_y, user_x) in user_pair_set: continue\n",
    "        user_pair_set.add((user_x, user_y))"
   ]
  },
  {
   "cell_type": "code",
   "execution_count": 49,
   "id": "905dc562-d53e-4ba0-9fc0-ded4c70a328b",
   "metadata": {},
   "outputs": [],
   "source": [
    "def purity(cluster_labels, gold_labels, outlier_disable=False):\n",
    "    cluster_num = np.unique(cluster_labels).shape[0]\n",
    "    cluster_sets = {}\n",
    "    for cluster_label in np.unique(cluster_labels):\n",
    "        cluster_sets[cluster_label] = []\n",
    "    \n",
    "    for idx, cluster_label in enumerate(cluster_labels):\n",
    "        cluster_sets[cluster_label].append(gold_labels[idx])\n",
    "    \n",
    "    total_correct_pred = 0\n",
    "    for c in np.unique(cluster_labels):\n",
    "        if c == -1 and outlier_disable:\n",
    "            continue\n",
    "        label_counter = Counter(cluster_sets[c])\n",
    "        pred_label, _ = label_counter.most_common(1)[0]\n",
    "        total_correct_pred += label_counter[pred_label]\n",
    "    \n",
    "    purity = total_correct_pred / len(cluster_labels)\n",
    "    \n",
    "    return purity\n"
   ]
  },
  {
   "cell_type": "code",
   "execution_count": 50,
   "id": "1d689be3-b96b-42ac-a19c-c0b8af50484e",
   "metadata": {},
   "outputs": [
    {
     "data": {
      "application/vnd.jupyter.widget-view+json": {
       "model_id": "c425574ff0a7411b8a19a63c2748a53f",
       "version_major": 2,
       "version_minor": 0
      },
      "text/plain": [
       "  0%|          | 0/190 [00:00<?, ?it/s]"
      ]
     },
     "metadata": {},
     "output_type": "display_data"
    }
   ],
   "source": [
    "\n",
    "min_samples_params = []\n",
    "min_cluster_size_params = []\n",
    "epsilon_params = []\n",
    "cluster_nums = []\n",
    "purity_baselines = []\n",
    "purities = []\n",
    "purities_non_outlier = []\n",
    "db_index_baselines = []\n",
    "db_indexes = []\n",
    "user_1 = []\n",
    "user_2 = []\n",
    "user_1_count = []\n",
    "user_2_count = []\n",
    "user_1_outlier_count = []\n",
    "user_2_outlier_count = []\n",
    "\n",
    "with open(\"data/combined_dataset/clusters/feature_set_1/full_feature_clusterer.pickle\", \"rb\") as file:\n",
    "    cluster_pred = pickle.load(file)\n",
    "    labels = cluster_pred.labels_\n",
    "    cluster_num = len(np.unique(labels))\n",
    "    X = combined_df[target_features].to_numpy()\n",
    "    \n",
    "    for user_x, user_y in tqdm(list(user_pair_set)):\n",
    "        \n",
    "        selected_users = [user_x, user_y]\n",
    "        user_to_idx = {user:idx for idx, user in enumerate(selected_users)}\n",
    "        user_bool = combined_df['user_name'].apply(lambda user: user in selected_users)\n",
    "        user_class = combined_df.loc[user_bool][\"user_name\"].apply(lambda user: user_to_idx[user]).to_numpy()\n",
    "        \n",
    "        non_outlier_bool = labels[user_bool] != -1\n",
    "        non_outlier_users = combined_df['user_name'][user_bool].to_numpy()[non_outlier_bool]\n",
    "        non_outlier_users_counter = Counter(non_outlier_users)\n",
    "        \n",
    "        baseline_clusters = random_sample_clusters(combined_df.loc[user_bool], user_class)\n",
    "        p_baseline = purity(baseline_clusters, user_class)\n",
    "        \n",
    "        db_index_baseline = davies_bouldin_score(X[user_bool], baseline_clusters)\n",
    "        \n",
    "        p = purity(labels[user_bool], user_class)\n",
    "        p_non_outlier = purity(labels[user_bool], user_class, outlier_disable=True)\n",
    "        \n",
    "        db_index = davies_bouldin_score(X[user_bool], labels[user_bool])\n",
    "\n",
    "        # color_palette = sns.color_palette('Set2', 110000)\n",
    "        # cluster_colors = [color_palette[x] if x >= 0\n",
    "        #               else (0.5, 0.5, 0.5)\n",
    "        #               for x in cluster_pred.labels_]\n",
    "        # cluster_member_colors = [sns.desaturate(x, p) for x, p in\n",
    "        #                          zip(cluster_colors, cluster_pred.probabilities_)]\n",
    "        # plt.scatter(*proj[repo_bool].T, s=20, linewidth=0, c=np.array(cluster_colors)[repo_bool])\n",
    "    \n",
    "        min_samples_params += [cluster_pred.min_samples]\n",
    "        min_cluster_size_params += [cluster_pred.min_cluster_size]\n",
    "        epsilon_params += [cluster_pred.cluster_selection_epsilon]\n",
    "        cluster_nums += [cluster_num]\n",
    "        user_1 += [user_x]\n",
    "        user_2 += [user_y]\n",
    "        user_1_count += [user_counter[user_x]]\n",
    "        user_2_count += [user_counter[user_y]]\n",
    "        user_1_outlier_count += [non_outlier_users_counter[user_x]]\n",
    "        user_2_outlier_count += [non_outlier_users_counter[user_y]]\n",
    "        purity_baselines += [p_baseline]\n",
    "        purities += [p]\n",
    "        purities_non_outlier += [p_non_outlier]\n",
    "        db_index_baselines += [db_index_baseline]\n",
    "        db_indexes += [db_index]\n",
    "output_dict = {\n",
    "    \"min_samples_param\" : min_samples_params,\n",
    "    \"min_cluster_size_param\" : min_cluster_size_params,\n",
    "    \"epsilon_param\" : epsilon_params,\n",
    "    \"user_1\" : user_1,\n",
    "    \"user_2\" : user_2,\n",
    "    \"user_1_count\" : user_1_count,\n",
    "    \"user_2_count\" : user_2_count,\n",
    "    \"user_1_non_outlier_count\" : user_1_outlier_count,\n",
    "    \"user_2_non_outlier_count\" : user_2_outlier_count,\n",
    "    \"cluster_num\" : cluster_nums,\n",
    "    \"purity_baseline\" : purity_baselines,\n",
    "    \"purity\" : purities,\n",
    "    \"purity_non_outlier\" : purities_non_outlier,\n",
    "    \"db_index_baseline\" : db_index_baselines,\n",
    "    \"db_index\" : db_indexes,\n",
    "}"
   ]
  },
  {
   "cell_type": "code",
   "execution_count": 51,
   "id": "9fa7de11-ed30-4eb2-87db-7a1cddd21a1a",
   "metadata": {},
   "outputs": [],
   "source": [
    "pd.DataFrame(output_dict).to_csv(\"combined_user_pair_eval_metrics_no_outliers.csv\", index=False)\n",
    "# pd.DataFrame(output_dict).to_csv(\"combined_user_pair_eval_metrics.csv\", index=False)"
   ]
  },
  {
   "cell_type": "code",
   "execution_count": 87,
   "id": "01a20ea6-b52d-4916-a09b-7e7a8c6d5ee7",
   "metadata": {},
   "outputs": [
    {
     "data": {
      "text/plain": [
       "[('swganh', 5069),\n",
       " ('appscale', 1882),\n",
       " ('azure-sdk-for-python', 1255),\n",
       " ('plotly.py', 1106),\n",
       " ('hue', 1013)]"
      ]
     },
     "execution_count": 87,
     "metadata": {},
     "output_type": "execute_result"
    }
   ],
   "source": [
    "repo_counter = Counter(repos)\n",
    "repo_freq_dist = repo_counter.most_common(5)[:]\n",
    "selected_repos = get_high_freq_users(repo_freq_dist, 0)\n",
    "repo_to_idx = {repo:idx for idx, repo in enumerate(selected_repos)}\n",
    "repo_bool = combined_df['repo_name'].apply(lambda repo: repo in selected_repos)\n",
    "repo_freq_dist"
   ]
  },
  {
   "cell_type": "code",
   "execution_count": 88,
   "id": "f64f5a9c-a026-47e1-a3cb-8c6ede874a5a",
   "metadata": {},
   "outputs": [],
   "source": [
    "repo_freq_dist = repo_counter.most_common(20)[:]\n",
    "repo_pair_set = set()\n",
    "for repo_x, _ in repo_freq_dist:\n",
    "    for repo_y, _ in repo_freq_dist:\n",
    "        if repo_x == repo_y : continue\n",
    "        if (repo_x, repo_y) in repo_pair_set: continue\n",
    "        if (repo_y, repo_x) in repo_pair_set: continue\n",
    "        repo_pair_set.add((repo_x, repo_y))\n",
    "    "
   ]
  },
  {
   "cell_type": "code",
   "execution_count": 89,
   "id": "a9dd69cb-9923-4dd4-a213-dad0a2e53a3a",
   "metadata": {},
   "outputs": [
    {
     "data": {
      "application/vnd.jupyter.widget-view+json": {
       "model_id": "bad9ca92c3a24820ba6d43fea652c3bc",
       "version_major": 2,
       "version_minor": 0
      },
      "text/plain": [
       "  0%|          | 0/190 [00:00<?, ?it/s]"
      ]
     },
     "metadata": {},
     "output_type": "display_data"
    }
   ],
   "source": [
    "\n",
    "min_samples_params = []\n",
    "min_cluster_size_params = []\n",
    "epsilon_params = []\n",
    "cluster_nums = []\n",
    "purity_baselines = []\n",
    "purities = []\n",
    "db_index_baselines = []\n",
    "db_indexes = []\n",
    "repo_1 = []\n",
    "repo_2 = []\n",
    "repo_1_count = []\n",
    "repo_2_count = []\n",
    "\n",
    "with open(\"data/combined_dataset/clusters/feature_set_1/full_feature_clusterer.pickle\", \"rb\") as file:\n",
    "    cluster_pred = pickle.load(file)\n",
    "    labels = cluster_pred.labels_\n",
    "    cluster_num = len(np.unique(labels))\n",
    "    X = combined_df[target_features].to_numpy()\n",
    "    for repo_x, repo_y in tqdm(list(repo_pair_set)):\n",
    "        \n",
    "        selected_repos = [repo_x, repo_y]\n",
    "        repo_to_idx = {repo:idx for idx, repo in enumerate(selected_repos)}\n",
    "        repo_bool = combined_df['repo_name'].apply(lambda repo: repo in selected_repos)\n",
    "        repo_class = combined_df.loc[repo_bool][\"repo_name\"].apply(lambda repo: repo_to_idx[repo]).to_numpy()     \n",
    "        \n",
    "        baseline_clusters = random_sample_clusters(combined_df.loc[repo_bool], repo_class)\n",
    "        p_baseline = purity(baseline_clusters, repo_class)\n",
    "        db_index_baseline = davies_bouldin_score(X[repo_bool], baseline_clusters)\n",
    "        \n",
    "        p = purity(labels[repo_bool], repo_class)\n",
    "        db_index = davies_bouldin_score(X[repo_bool], labels[repo_bool])\n",
    "\n",
    "        # color_palette = sns.color_palette('Set2', 110000)\n",
    "        # cluster_colors = [color_palette[x] if x >= 0\n",
    "        #               else (0.5, 0.5, 0.5)\n",
    "        #               for x in cluster_pred.labels_]\n",
    "        # cluster_member_colors = [sns.desaturate(x, p) for x, p in\n",
    "        #                          zip(cluster_colors, cluster_pred.probabilities_)]\n",
    "        # plt.scatter(*proj[repo_bool].T, s=20, linewidth=0, c=np.array(cluster_colors)[repo_bool])\n",
    "        \n",
    "        min_samples_params += [cluster_pred.min_samples]\n",
    "        min_cluster_size_params += [cluster_pred.min_cluster_size]\n",
    "        epsilon_params += [cluster_pred.cluster_selection_epsilon]\n",
    "        cluster_nums += [cluster_num]\n",
    "        repo_1 += [repo_x]\n",
    "        repo_2 += [repo_y]\n",
    "        repo_1_count += [repo_counter[repo_x]]\n",
    "        repo_2_count += [repo_counter[repo_y]]\n",
    "        purity_baselines += [p_baseline]\n",
    "        purities += [p]\n",
    "        db_index_baselines += [db_index_baseline]\n",
    "        db_indexes += [db_index]\n",
    "\n",
    "output_dict = {\n",
    "    \"min_samples_param\" : min_samples_params,\n",
    "    \"min_cluster_size_param\" : min_cluster_size_params,\n",
    "    \"epsilon_param\" : epsilon_params,\n",
    "    \"repo_1\" : repo_1,\n",
    "    \"repo_2\" : repo_2,\n",
    "    \"repo_1_count\" : repo_1_count,\n",
    "    \"repo_2_count\" : repo_2_count,\n",
    "    \"cluster_num\" : cluster_nums,\n",
    "    \"purity_baseline\" : purity_baselines,\n",
    "    \"purity\" : purities,\n",
    "    \"db_index_baseline\" : db_index_baselines,\n",
    "    \"db_index\" : db_indexes,\n",
    "}    "
   ]
  },
  {
   "cell_type": "code",
   "execution_count": 90,
   "id": "615bb003-4dfe-4bea-a7f1-7caf14290b4d",
   "metadata": {},
   "outputs": [],
   "source": [
    "pd.DataFrame(output_dict).to_csv(\"combined_repo_pair_eval_metrics.csv\", index=False)"
   ]
  },
  {
   "cell_type": "code",
   "execution_count": 8,
   "id": "0bb6b673-5b40-426d-8e67-59392725ac72",
   "metadata": {},
   "outputs": [],
   "source": [
    "popular_metrics = [\n",
    "    \"forks\",\n",
    "    \"issue_events\",\n",
    "    \"stars\",\n",
    "]"
   ]
  },
  {
   "cell_type": "code",
   "execution_count": 9,
   "id": "36ed05e2-1b1a-4097-963a-6cdec9efff9f",
   "metadata": {},
   "outputs": [],
   "source": [
    "pop_feat_x = bq_df[popular_metrics].to_numpy()"
   ]
  },
  {
   "cell_type": "code",
   "execution_count": 13,
   "id": "5d1f3820-f08d-4dcb-9988-6c13d30ff68a",
   "metadata": {},
   "outputs": [],
   "source": [
    "with open(\"popular_cluster.pickle\", \"rb\") as file:\n",
    "    cluster_pred = pickle.load(file)\n"
   ]
  },
  {
   "cell_type": "code",
   "execution_count": 17,
   "id": "0f08b23c-049c-4936-b8b1-83bc1171ad62",
   "metadata": {},
   "outputs": [],
   "source": [
    "pop_class = cluster_pred.labels_"
   ]
  },
  {
   "cell_type": "code",
   "execution_count": 18,
   "id": "064db23b-ddb7-415c-81d8-0080a0e5541b",
   "metadata": {},
   "outputs": [],
   "source": [
    "target_features = [\n",
    "     'snake_case_var_ratio',\n",
    "     'snake_case_class_ratio',\n",
    "     'snake_case_method_ratio',\n",
    "     'upper_camel_case_var_ratio',\n",
    "     'upper_camel_case_class_ratio',\n",
    "     'upper_camel_case_method_ratio',\n",
    "     'lower_camel_case_var_ratio',\n",
    "     'lower_camel_case_class_ratio',\n",
    "     'lower_camel_case_method_ratio',\n",
    "     'func_decorators_avg',\n",
    "     'class_decorators_avg',\n",
    "     'class_parents_avg',\n",
    "     'comprehensions_avg',\n",
    "     'generators_avg',\n",
    "     'lambda_avg',\n",
    "     'comment_density',\n",
    "     'ds_density',\n",
    "]"
   ]
  },
  {
   "cell_type": "code",
   "execution_count": 24,
   "id": "96505f14-09ed-4c5e-830c-34f61d35c002",
   "metadata": {},
   "outputs": [],
   "source": [
    "\n",
    "min_samples_params = []\n",
    "min_cluster_size_params = []\n",
    "epsilon_params = []\n",
    "cluster_nums = []\n",
    "purity_baselines = []\n",
    "purities = []\n",
    "db_index_baselines = []\n",
    "db_indexes = []\n",
    "\n",
    "with open(\"data/BigQuery/clusters/feature_set_2/full_feature_clusterer.pickle\", \"rb\") as file:\n",
    "    cluster_pred = pickle.load(file)\n",
    "    labels = cluster_pred.labels_\n",
    "    cluster_num = len(np.unique(labels))\n",
    "    X = bq_df[target_features].to_numpy()\n",
    "    \n",
    "    baseline_clusters = random_sample_clusters(bq_df.loc[:], pop_class)\n",
    "    p_baseline = purity(baseline_clusters, pop_class)\n",
    "    db_index_baseline = davies_bouldin_score(X[:], baseline_clusters)\n",
    "\n",
    "    p = purity(labels[:], pop_class)\n",
    "    db_index = davies_bouldin_score(X[:], labels[:])\n",
    "        \n",
    "    min_samples_params += [cluster_pred.min_samples]\n",
    "    min_cluster_size_params += [cluster_pred.min_cluster_size]\n",
    "    epsilon_params += [cluster_pred.cluster_selection_epsilon]\n",
    "    cluster_nums += [cluster_num]\n",
    "    purity_baselines += [p_baseline]\n",
    "    purities += [p]\n",
    "    db_index_baselines += [db_index_baseline]\n",
    "    db_indexes += [db_index]\n",
    "\n",
    "output_dict = {\n",
    "    \"min_samples_param\" : min_samples_params,\n",
    "    \"min_cluster_size_param\" : min_cluster_size_params,\n",
    "    \"epsilon_param\" : epsilon_params,\n",
    "    \"cluster_num\" : cluster_nums,\n",
    "    \"purity_baseline\" : purity_baselines,\n",
    "    \"purity\" : purities,\n",
    "    \"db_index_baseline\" : db_index_baselines,\n",
    "    \"db_index\" : db_indexes,\n",
    "}    "
   ]
  },
  {
   "cell_type": "code",
   "execution_count": 25,
   "id": "5ae30248-97b2-4000-a605-fea3f02dc1f2",
   "metadata": {},
   "outputs": [
    {
     "data": {
      "text/plain": [
       "{'min_samples_param': [100],\n",
       " 'min_cluster_size_param': [500],\n",
       " 'epsilon_param': [0.01],\n",
       " 'cluster_num': [15],\n",
       " 'purity_baseline': [0.6994697957409822],\n",
       " 'purity': [0.6994697957409822],\n",
       " 'db_index_baseline': [252.74251382262602],\n",
       " 'db_index': [1.2495997642694248]}"
      ]
     },
     "execution_count": 25,
     "metadata": {},
     "output_type": "execute_result"
    }
   ],
   "source": [
    "output_dict"
   ]
  },
  {
   "cell_type": "code",
   "execution_count": 26,
   "id": "61d3a2dc-70c7-42cb-9ba4-4fdef13f1a7a",
   "metadata": {},
   "outputs": [
    {
     "ename": "NameError",
     "evalue": "name 'combined_df' is not defined",
     "output_type": "error",
     "traceback": [
      "\u001b[0;31m---------------------------------------------------------------------------\u001b[0m",
      "\u001b[0;31mNameError\u001b[0m                                 Traceback (most recent call last)",
      "\u001b[0;32m<ipython-input-26-3bdfe4a161ec>\u001b[0m in \u001b[0;36m<module>\u001b[0;34m\u001b[0m\n\u001b[0;32m----> 1\u001b[0;31m \u001b[0mcombined_df\u001b[0m\u001b[0;34m\u001b[0m\u001b[0;34m\u001b[0m\u001b[0m\n\u001b[0m",
      "\u001b[0;31mNameError\u001b[0m: name 'combined_df' is not defined"
     ]
    }
   ],
   "source": [
    "combined_df"
   ]
  },
  {
   "cell_type": "code",
   "execution_count": 32,
   "id": "e178636f-3247-4e3a-921c-d19786a844c1",
   "metadata": {},
   "outputs": [
    {
     "data": {
      "application/vnd.jupyter.widget-view+json": {
       "model_id": "7409d190a1344caaaf6c499d2273e691",
       "version_major": 2,
       "version_minor": 0
      },
      "text/plain": [
       "  0%|          | 0/215050 [00:00<?, ?it/s]"
      ]
     },
     "metadata": {},
     "output_type": "display_data"
    }
   ],
   "source": [
    "from tqdm.auto import tqdm\n",
    "projections = []\n",
    "with open(\"data/combined_dataset/clusters/feature_set_1/projection.txt\") as f:\n",
    "    for line in tqdm(f.readlines()):\n",
    "        val_str_list = line.split()\n",
    "        projections += [[float(val_str_list[0]), float(val_str_list[1])]]\n",
    "proj = np.array(projections)"
   ]
  },
  {
   "cell_type": "code",
   "execution_count": 34,
   "id": "e8c44db0-58b1-49db-9181-10e41148018e",
   "metadata": {},
   "outputs": [],
   "source": [
    "import pickle\n",
    "with open(\"data/combined_dataset/clusters/feature_set_1/full_feature_clusterer.pickle\", \"rb\") as file:\n",
    "    cluster_pred = pickle.load(file)\n"
   ]
  },
  {
   "cell_type": "code",
   "execution_count": 44,
   "id": "35075421-3df0-49c2-9a7d-ce1c5635070e",
   "metadata": {},
   "outputs": [],
   "source": [
    "\n",
    "selected_users = ['anhstudios', 'openstack']\n",
    "user_to_idx = {user:idx for idx, user in enumerate(selected_users)}\n",
    "user_bool = combined_df['user_name'].apply(lambda user: user in selected_users)\n",
    "user_class = combined_df.loc[user_bool][\"user_name\"].apply(lambda user: user_to_idx[user]).to_numpy()   "
   ]
  },
  {
   "cell_type": "code",
   "execution_count": 52,
   "id": "06cb0dda-4d46-4cad-9a69-e69553a7aaf5",
   "metadata": {},
   "outputs": [
    {
     "data": {
      "text/plain": [
       "<matplotlib.collections.PathCollection at 0x7f9ca31194f0>"
      ]
     },
     "execution_count": 52,
     "metadata": {},
     "output_type": "execute_result"
    },
    {
     "data": {
      "image/png": "[encoded data removed]",
      "text/plain": [
       "<Figure size 432x288 with 1 Axes>"
      ]
     },
     "metadata": {
      "needs_background": "light"
     },
     "output_type": "display_data"
    }
   ],
   "source": [
    "import seaborn as sns\n",
    "color_palette = sns.color_palette('Set2', 110000)\n",
    "cluster_colors = [color_palette[x] if x >= 0\n",
    "              else (0.5, 0.5, 0.5)\n",
    "              for x in cluster_pred.labels_]\n",
    "cluster_member_colors = [sns.desaturate(x, p) for x, p in\n",
    "                         zip(cluster_colors, cluster_pred.probabilities_)]\n",
    "plt.scatter(*proj[user_bool].T, s=20, linewidth=0, c=np.array(cluster_colors)[user_bool])"
   ]
  },
  {
   "cell_type": "code",
   "execution_count": 63,
   "id": "3b033bf7-a376-4400-91b8-7466bfff61c3",
   "metadata": {},
   "outputs": [
    {
     "data": {
      "text/plain": [
       "<matplotlib.collections.PathCollection at 0x7f9ccf4b74c0>"
      ]
     },
     "execution_count": 63,
     "metadata": {},
     "output_type": "execute_result"
    },
    {
     "data": {
      "image/png": "[encoded data removed]",
      "text/plain": [
       "<Figure size 432x288 with 1 Axes>"
      ]
     },
     "metadata": {
      "needs_background": "light"
     },
     "output_type": "display_data"
    }
   ],
   "source": [
    "color_palette = sns.color_palette('Set2', 100)\n",
    "cluster_colors = [color_palette[x+1] if x >= 0\n",
    "              else (0.5, 0.5, 0.5)\n",
    "              for x in user_class]\n",
    "plt.scatter(*proj[user_bool].T, s=20, linewidth=0, c=np.array(cluster_colors))"
   ]
  },
  {
   "cell_type": "code",
   "execution_count": 55,
   "id": "69be6166-1c65-4c48-a594-89851e8a0560",
   "metadata": {},
   "outputs": [
    {
     "data": {
      "text/plain": [
       "Counter({0: 5069, 1: 3111})"
      ]
     },
     "execution_count": 55,
     "metadata": {},
     "output_type": "execute_result"
    }
   ],
   "source": [
    "Counter(user_class)"
   ]
  },
  {
   "cell_type": "code",
   "execution_count": 64,
   "id": "12833692-1745-4535-ae81-10868ad30cd5",
   "metadata": {},
   "outputs": [],
   "source": [
    "user_1_bool = combined_df['user_name'].apply(lambda user: user == 'anhstudios')\n",
    "user_2_bool = combined_df['user_name'].apply(lambda user: user == 'openstack')"
   ]
  },
  {
   "cell_type": "code",
   "execution_count": 76,
   "id": "49ed3e03-7406-4921-b786-7c679bddf34a",
   "metadata": {},
   "outputs": [
    {
     "data": {
      "text/plain": [
       "(5069, 2)"
      ]
     },
     "execution_count": 76,
     "metadata": {},
     "output_type": "execute_result"
    }
   ],
   "source": [
    "proj[user_1_bool].shape"
   ]
  },
  {
   "cell_type": "code",
   "execution_count": 66,
   "id": "6f9f60a4-ea8b-4a8d-8373-f48949c87e76",
   "metadata": {},
   "outputs": [
    {
     "data": {
      "text/plain": [
       "<matplotlib.collections.PathCollection at 0x7f9ccf72f310>"
      ]
     },
     "execution_count": 66,
     "metadata": {},
     "output_type": "execute_result"
    },
    {
     "data": {
      "image/png": "[encoded data removed]",
      "text/plain": [
       "<Figure size 432x288 with 1 Axes>"
      ]
     },
     "metadata": {
      "needs_background": "light"
     },
     "output_type": "display_data"
    }
   ],
   "source": [
    "color_palette = sns.color_palette('Set2', 100)\n",
    "cluster_colors = [color_palette[0]] * np.sum(user_1_bool)\n",
    "plt.scatter(*proj[user_1_bool].T, s=20, linewidth=0, c=np.array(cluster_colors))"
   ]
  },
  {
   "cell_type": "code",
   "execution_count": 70,
   "id": "f3782970-7bd0-42dc-83f5-50e9835c8bef",
   "metadata": {},
   "outputs": [
    {
     "data": {
      "text/plain": [
       "<matplotlib.collections.PathCollection at 0x7f9ccf7a35e0>"
      ]
     },
     "execution_count": 70,
     "metadata": {},
     "output_type": "execute_result"
    },
    {
     "data": {
      "image/png": "[encoded data removed]",
      "text/plain": [
       "<Figure size 432x288 with 1 Axes>"
      ]
     },
     "metadata": {
      "needs_background": "light"
     },
     "output_type": "display_data"
    }
   ],
   "source": [
    "color_palette = sns.color_palette('Set2', 100)\n",
    "cluster_colors = [color_palette[1]] * np.sum(user_2_bool)\n",
    "plt.scatter(*proj[user_2_bool].T, s=20, linewidth=0, c=np.array(cluster_colors))"
   ]
  },
  {
   "cell_type": "code",
   "execution_count": 75,
   "id": "ae85ce51-60db-4eab-8a20-7d031047d42d",
   "metadata": {},
   "outputs": [
    {
     "name": "stdout",
     "output_type": "stream",
     "text": [
      "Counter({1: 2867, 0: 116})\n",
      "Counter({1: 1, 0: 1})\n",
      "Counter({1: 3})\n",
      "Counter({1: 1})\n",
      "Counter({1: 4})\n",
      "Counter({0: 1})\n",
      "Counter({1: 1})\n",
      "Counter({1: 5, 0: 1})\n",
      "Counter({0: 4946})\n",
      "Counter({1: 37})\n",
      "Counter({1: 3})\n",
      "Counter({1: 80})\n",
      "Counter({1: 8})\n",
      "Counter({1: 1})\n",
      "Counter({1: 1})\n",
      "Counter({1: 1})\n",
      "Counter({1: 7})\n",
      "Counter({1: 15})\n",
      "Counter({1: 18})\n",
      "Counter({1: 49})\n",
      "Counter({0: 4, 1: 3})\n",
      "Counter({1: 2})\n",
      "Counter({1: 4})\n",
      "8059\n",
      "8180\n"
     ]
    },
    {
     "data": {
      "text/plain": [
       "0.9852078239608802"
      ]
     },
     "execution_count": 75,
     "metadata": {},
     "output_type": "execute_result"
    }
   ],
   "source": [
    "def purity(cluster_labels, gold_labels):\n",
    "    cluster_num = np.unique(cluster_labels).shape[0]\n",
    "    cluster_sets = {}\n",
    "    for cluster_label in np.unique(cluster_labels):\n",
    "        cluster_sets[cluster_label] = []\n",
    "    \n",
    "    for idx, cluster_label in enumerate(cluster_labels):\n",
    "        cluster_sets[cluster_label].append(gold_labels[idx])\n",
    "    \n",
    "    total_correct_pred = 0\n",
    "    for c in np.unique(cluster_labels):\n",
    "        label_counter = Counter(cluster_sets[c])\n",
    "        print(label_counter)\n",
    "        pred_label, _ = label_counter.most_common(1)[0]\n",
    "        total_correct_pred += label_counter[pred_label]\n",
    "    print(total_correct_pred)\n",
    "    print(len(cluster_labels))\n",
    "    purity = total_correct_pred / len(cluster_labels)\n",
    "    \n",
    "    return purity\n",
    "purity(cluster_pred.labels_[user_bool], user_class)"
   ]
  },
  {
   "cell_type": "code",
   "execution_count": null,
   "id": "d7d73789-b4f2-41a4-8456-441c744e327a",
   "metadata": {},
   "outputs": [],
   "source": []
  }
 ],
 "metadata": {
  "kernelspec": {
   "display_name": "Python 3",
   "language": "python",
   "name": "python3"
  },
  "language_info": {
   "codemirror_mode": {
    "name": "ipython",
    "version": 3
   },
   "file_extension": ".py",
   "mimetype": "text/x-python",
   "name": "python",
   "nbconvert_exporter": "python",
   "pygments_lexer": "ipython3",
   "version": "3.8.12"
  }
 },
 "nbformat": 4,
 "nbformat_minor": 5
}

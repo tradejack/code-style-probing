{
 "cells": [
  {
   "cell_type": "code",
   "execution_count": 1,
   "id": "9368c086-91e8-4946-94eb-a2ec1e7eb520",
   "metadata": {},
   "outputs": [],
   "source": []
  },
  {
   "cell_type": "code",
   "execution_count": 3,
   "id": "6655d3f3-5eac-46e6-82a7-be1f6c986c0a",
   "metadata": {},
   "outputs": [],
   "source": []
  },
  {
   "cell_type": "code",
   "execution_count": 7,
   "id": "5a2d2bdb-a204-45ce-8209-652883f9845d",
   "metadata": {},
   "outputs": [
    {
     "name": "stderr",
     "output_type": "stream",
     "text": [
      "\n",
      "  0%|          | 0/100000 [00:00<?, ?it/s]\u001b[A\n",
      "100%|██████████| 100000/100000 [00:00<00:00, 521074.92it/s][A\n"
     ]
    }
   ],
   "source": [
    "import re\n",
    "from tqdm import tqdm\n",
    "import pandas as pd\n",
    "from utils.helper import read_py150k_code\n",
    "from config import PY150K_TRAIN_CODE\n",
    "\n",
    "code_filenames = read_py150k_code(PY150K_TRAIN_CODE)\n",
    "script_file_name_regex = re.compile(r\"data/([^/]+)/([^/]+)/.+\")\n",
    "users = []\n",
    "repos = []\n",
    "for code_filename in tqdm(code_filenames):\n",
    "    match = script_file_name_regex.search(code_filename)\n",
    "    if not match:\n",
    "        print(file_name)\n",
    "    code_filename\n",
    "    users += [match.group(1)]\n",
    "    repos += [match.group(2)]"
   ]
  },
  {
   "cell_type": "code",
   "execution_count": null,
   "id": "d1b584a6-4f44-4a69-8284-4e9c349d2fbc",
   "metadata": {},
   "outputs": [],
   "source": []
  }
 ],
 "metadata": {
  "kernelspec": {
   "display_name": "Python 3",
   "language": "python",
   "name": "python3"
  },
  "language_info": {
   "codemirror_mode": {
    "name": "ipython",
    "version": 3
   },
   "file_extension": ".py",
   "mimetype": "text/x-python",
   "name": "python",
   "nbconvert_exporter": "python",
   "pygments_lexer": "ipython3",
   "version": "3.8.12"
  }
 },
 "nbformat": 4,
 "nbformat_minor": 5
}

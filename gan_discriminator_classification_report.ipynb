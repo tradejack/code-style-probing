{
 "cells": [
  {
   "cell_type": "code",
   "execution_count": 2,
   "id": "0ae22b8a-bcba-4e58-be19-7aab3a47e2c2",
   "metadata": {},
   "outputs": [
    {
     "data": {
      "text/plain": [
       "<All keys matched successfully>"
      ]
     },
     "execution_count": 2,
     "metadata": {},
     "output_type": "execute_result"
    }
   ],
   "source": [
    "# load discriminator\n",
    "import torch\n",
    "ckpt = \"checkpoint/codet5_gan_full_no_outliers_batch_8_1657914615_epoch_1.pt\"\n",
    "checkpoint = torch.load(ckpt, map_location=torch.device('cpu'))\n",
    "\n",
    "\n",
    "from data import (\n",
    "    STYLE_DIM,\n",
    "    get_data_loader,\n",
    "    cluster_labels_no_outliers,\n",
    "    train_dataset,\n",
    "    test_dataset,\n",
    ")\n",
    "from model import InRepPlusGAN, Discriminator\n",
    "\n",
    "generator = InRepPlusGAN(style_dim=STYLE_DIM, model=\"codet5\")\n",
    "discriminator = Discriminator(\n",
    "        vocab_size=generator.config.vocab_size,\n",
    "        embedding_layer=generator.encoder.embed_tokens,\n",
    "        embedding_dim=generator.config.d_model,\n",
    "        output_size=768,\n",
    "        style_dim=STYLE_DIM,\n",
    "    )\n",
    "discriminator.load_state_dict(checkpoint['d_state_dict'])"
   ]
  },
  {
   "cell_type": "code",
   "execution_count": 3,
   "id": "92bd735b-de84-4282-b1d8-d3fee2eb29de",
   "metadata": {},
   "outputs": [],
   "source": [
    "# load test dataset\n",
    "from data import test_dataset"
   ]
  },
  {
   "cell_type": "code",
   "execution_count": 23,
   "id": "716311e6-e693-40b9-9781-2681406e96aa",
   "metadata": {},
   "outputs": [],
   "source": [
    "golds = test_dataset[\"labels\"]"
   ]
  },
  {
   "cell_type": "code",
   "execution_count": 12,
   "id": "ae9a96e6-a9c3-44d4-aa55-423d2ea696da",
   "metadata": {},
   "outputs": [],
   "source": [
    "test_loader = get_data_loader(test_dataset)"
   ]
  },
  {
   "cell_type": "code",
   "execution_count": 26,
   "id": "262f5e97-5e14-4fc1-99c7-ce3b552d2c9d",
   "metadata": {},
   "outputs": [
    {
     "data": {
      "application/vnd.jupyter.widget-view+json": {
       "model_id": "034a76c7cb2c49c286c80603fdf3ef77",
       "version_major": 2,
       "version_minor": 0
      },
      "text/plain": [
       "  0%|          | 0/1292 [00:00<?, ?it/s]"
      ]
     },
     "metadata": {},
     "output_type": "display_data"
    }
   ],
   "source": [
    "from tqdm.auto import tqdm\n",
    "preds = []\n",
    "for batch in tqdm(test_loader):\n",
    "    y = discriminator(batch[\"input_ids\"])\n",
    "    preds += [label for label in y.argmax(-1).numpy()]"
   ]
  },
  {
   "cell_type": "code",
   "execution_count": 27,
   "id": "07695f27-3e57-4390-8e85-62811427c75d",
   "metadata": {},
   "outputs": [],
   "source": [
    "\n",
    "import pandas as pd  \n",
    "data = {\n",
    "    \"pred\": preds,\n",
    "    \"gold\": golds,\n",
    "}\n",
    "\n",
    "df = pd.DataFrame(data)"
   ]
  },
  {
   "cell_type": "code",
   "execution_count": 28,
   "id": "bd919c31-9e5b-492e-9e3e-abd35f1f9da8",
   "metadata": {},
   "outputs": [],
   "source": [
    "\n",
    "df.to_csv(\"codet5_gan_d_test.csv\")"
   ]
  },
  {
   "cell_type": "code",
   "execution_count": 30,
   "id": "e0cde44e-6b2e-4897-8fdb-af5cbb4de2cf",
   "metadata": {},
   "outputs": [
    {
     "name": "stderr",
     "output_type": "stream",
     "text": [
      "/data/users/cting3/miniconda3/envs/py_3_8/lib/python3.8/site-packages/sklearn/metrics/_classification.py:1327: UndefinedMetricWarning: Precision and F-score are ill-defined and being set to 0.0 in labels with no predicted samples. Use `zero_division` parameter to control this behavior.\n",
      "  _warn_prf(average, modifier, msg_start, len(result))\n",
      "/data/users/cting3/miniconda3/envs/py_3_8/lib/python3.8/site-packages/sklearn/metrics/_classification.py:1327: UndefinedMetricWarning: Precision and F-score are ill-defined and being set to 0.0 in labels with no predicted samples. Use `zero_division` parameter to control this behavior.\n",
      "  _warn_prf(average, modifier, msg_start, len(result))\n",
      "/data/users/cting3/miniconda3/envs/py_3_8/lib/python3.8/site-packages/sklearn/metrics/_classification.py:1327: UndefinedMetricWarning: Precision and F-score are ill-defined and being set to 0.0 in labels with no predicted samples. Use `zero_division` parameter to control this behavior.\n",
      "  _warn_prf(average, modifier, msg_start, len(result))\n"
     ]
    }
   ],
   "source": [
    "from sklearn.metrics import classification_report, confusion_matrix, ConfusionMatrixDisplay\n",
    "c_report = classification_report(golds, preds)"
   ]
  },
  {
   "cell_type": "code",
   "execution_count": 31,
   "id": "65ad669c-0adc-4613-b80b-b6c4cf4535f0",
   "metadata": {},
   "outputs": [
    {
     "name": "stdout",
     "output_type": "stream",
     "text": [
      "              precision    recall  f1-score   support\n",
      "\n",
      "           0       0.00      0.00      0.00       136\n",
      "           1       0.00      0.00      0.00       160\n",
      "           2       0.00      0.00      0.00       103\n",
      "           3       0.00      0.00      0.00        98\n",
      "           4       0.00      0.00      0.00       189\n",
      "           5       0.00      0.00      0.00       233\n",
      "           6       0.18      0.74      0.29       763\n",
      "           7       0.00      0.00      0.00      1009\n",
      "           8       0.00      0.00      0.00       267\n",
      "           9       0.00      0.00      0.00       206\n",
      "          10       0.00      0.00      0.00      1113\n",
      "          11       0.00      0.00      0.00       523\n",
      "          12       0.00      0.00      0.00       115\n",
      "          13       0.00      0.00      0.00       168\n",
      "          14       0.00      0.00      0.00       178\n",
      "          15       0.00      0.00      0.00       169\n",
      "          16       0.00      0.00      0.00       538\n",
      "          17       0.00      0.00      0.00       207\n",
      "          18       0.00      0.00      0.00       140\n",
      "          19       0.29      0.89      0.44      2364\n",
      "          20       0.00      0.00      0.00       103\n",
      "          21       0.00      0.00      0.00       125\n",
      "          22       0.00      0.00      0.00       236\n",
      "          23       0.00      0.00      0.00       614\n",
      "          24       0.00      0.00      0.00       258\n",
      "          25       0.00      0.00      0.00       315\n",
      "\n",
      "    accuracy                           0.26     10330\n",
      "   macro avg       0.02      0.06      0.03     10330\n",
      "weighted avg       0.08      0.26      0.12     10330\n",
      "\n"
     ]
    }
   ],
   "source": [
    "print(c_report)"
   ]
  },
  {
   "cell_type": "code",
   "execution_count": 1,
   "id": "832bf591-8226-4ba9-a0cf-19a7c168370c",
   "metadata": {},
   "outputs": [
    {
     "data": {
      "text/plain": [
       "<All keys matched successfully>"
      ]
     },
     "execution_count": 1,
     "metadata": {},
     "output_type": "execute_result"
    }
   ],
   "source": [
    "# load discriminator for plbart\n",
    "import torch\n",
    "ckpt = \"checkpoint/plbart_token_level_embed_with_new_loss_batch_8_1657011226_epoch_1.pt\"\n",
    "checkpoint = torch.load(ckpt, map_location=torch.device('cpu'))\n",
    "\n",
    "\n",
    "from data import (\n",
    "    STYLE_DIM,\n",
    "    get_data_loader,\n",
    "    cluster_labels_no_outliers,\n",
    "    train_dataset,\n",
    "    test_dataset,\n",
    ")\n",
    "from model import InRepPlusGAN, Discriminator\n",
    "\n",
    "generator = InRepPlusGAN(style_dim=STYLE_DIM, model=\"plbart\")\n",
    "discriminator = Discriminator(\n",
    "        vocab_size=generator.config.vocab_size,\n",
    "        embedding_layer=generator.encoder.embed_tokens,\n",
    "        embedding_dim=generator.config.d_model,\n",
    "        output_size=768,\n",
    "        style_dim=STYLE_DIM,\n",
    "    )\n",
    "discriminator.load_state_dict(checkpoint['d_state_dict'])"
   ]
  },
  {
   "cell_type": "code",
   "execution_count": 2,
   "id": "698a524d-f7f4-43d3-a405-6cba59ea79af",
   "metadata": {},
   "outputs": [],
   "source": [
    "# load test dataset\n",
    "from data import get_dataset"
   ]
  },
  {
   "cell_type": "code",
   "execution_count": 4,
   "id": "e3ce6295-da1e-41bf-997c-c52473a5c6ba",
   "metadata": {},
   "outputs": [],
   "source": [
    "test_dataset = get_dataset(model_type=\"plbart\", split=\"test\")"
   ]
  },
  {
   "cell_type": "code",
   "execution_count": 5,
   "id": "4274e6f2-d03e-48a5-a25f-4749c5f38e53",
   "metadata": {},
   "outputs": [],
   "source": [
    "golds = test_dataset[\"labels\"]"
   ]
  },
  {
   "cell_type": "code",
   "execution_count": 6,
   "id": "2c66ecef-df34-42cc-a131-f3d93cdf693b",
   "metadata": {},
   "outputs": [],
   "source": [
    "test_loader = get_data_loader(test_dataset)"
   ]
  },
  {
   "cell_type": "code",
   "execution_count": 7,
   "id": "d645f9b6-a7b7-4c38-b184-01750f44c9a6",
   "metadata": {},
   "outputs": [
    {
     "data": {
      "application/vnd.jupyter.widget-view+json": {
       "model_id": "831c29c72e8b4864a490152755f15e58",
       "version_major": 2,
       "version_minor": 0
      },
      "text/plain": [
       "  0%|          | 0/1292 [00:00<?, ?it/s]"
      ]
     },
     "metadata": {},
     "output_type": "display_data"
    }
   ],
   "source": [
    "from tqdm.auto import tqdm\n",
    "preds = []\n",
    "for batch in tqdm(test_loader):\n",
    "    y = discriminator(batch[\"input_ids\"])\n",
    "    preds += [label for label in y.argmax(-1).numpy()]"
   ]
  },
  {
   "cell_type": "code",
   "execution_count": 8,
   "id": "e9d0e518-759f-4048-be06-b7358eaceaef",
   "metadata": {},
   "outputs": [],
   "source": [
    "\n",
    "import pandas as pd  \n",
    "data = {\n",
    "    \"pred\": preds,\n",
    "    \"gold\": golds,\n",
    "}\n",
    "\n",
    "df = pd.DataFrame(data)"
   ]
  },
  {
   "cell_type": "code",
   "execution_count": 9,
   "id": "ca63bae8-dab1-47b3-a11a-d27ec30d4c24",
   "metadata": {},
   "outputs": [],
   "source": [
    "df.to_csv(\"plbart_gan_d_test.csv\")"
   ]
  },
  {
   "cell_type": "code",
   "execution_count": 10,
   "id": "3f3413d5-cafa-45e7-917f-2f9a70c7866d",
   "metadata": {},
   "outputs": [
    {
     "name": "stdout",
     "output_type": "stream",
     "text": [
      "              precision    recall  f1-score   support\n",
      "\n",
      "           0       0.00      0.00      0.00       136\n",
      "           1       0.00      0.00      0.00       160\n",
      "           2       0.00      0.00      0.00       103\n",
      "           3       0.00      0.00      0.00        98\n",
      "           4       0.00      0.00      0.00       189\n",
      "           5       0.00      0.00      0.00       233\n",
      "           6       0.00      0.00      0.00       763\n",
      "           7       0.00      0.00      0.00      1009\n",
      "           8       0.00      0.00      0.00       267\n",
      "           9       0.00      0.00      0.00       206\n",
      "          10       0.00      0.00      0.00      1113\n",
      "          11       0.00      0.00      0.00       523\n",
      "          12       0.00      0.00      0.00       115\n",
      "          13       0.00      0.00      0.00       168\n",
      "          14       0.00      0.00      0.00       178\n",
      "          15       0.00      0.00      0.00       169\n",
      "          16       0.00      0.00      0.00       538\n",
      "          17       0.00      0.00      0.00       207\n",
      "          18       0.00      0.00      0.00       140\n",
      "          19       0.18      0.02      0.04      2364\n",
      "          20       0.00      0.00      0.00       103\n",
      "          21       0.00      0.00      0.00       125\n",
      "          22       0.00      0.00      0.00       236\n",
      "          23       0.06      1.00      0.12       614\n",
      "          24       0.00      0.00      0.00       258\n",
      "          25       0.00      0.00      0.00       315\n",
      "\n",
      "    accuracy                           0.06     10330\n",
      "   macro avg       0.01      0.04      0.01     10330\n",
      "weighted avg       0.04      0.06      0.02     10330\n",
      "\n"
     ]
    },
    {
     "name": "stderr",
     "output_type": "stream",
     "text": [
      "/data/users/cting3/miniconda3/envs/py_3_8/lib/python3.8/site-packages/sklearn/metrics/_classification.py:1327: UndefinedMetricWarning: Precision and F-score are ill-defined and being set to 0.0 in labels with no predicted samples. Use `zero_division` parameter to control this behavior.\n",
      "  _warn_prf(average, modifier, msg_start, len(result))\n",
      "/data/users/cting3/miniconda3/envs/py_3_8/lib/python3.8/site-packages/sklearn/metrics/_classification.py:1327: UndefinedMetricWarning: Precision and F-score are ill-defined and being set to 0.0 in labels with no predicted samples. Use `zero_division` parameter to control this behavior.\n",
      "  _warn_prf(average, modifier, msg_start, len(result))\n",
      "/data/users/cting3/miniconda3/envs/py_3_8/lib/python3.8/site-packages/sklearn/metrics/_classification.py:1327: UndefinedMetricWarning: Precision and F-score are ill-defined and being set to 0.0 in labels with no predicted samples. Use `zero_division` parameter to control this behavior.\n",
      "  _warn_prf(average, modifier, msg_start, len(result))\n"
     ]
    }
   ],
   "source": [
    "from sklearn.metrics import classification_report\n",
    "c_report = classification_report(golds, preds)\n",
    "print(c_report)"
   ]
  },
  {
   "cell_type": "code",
   "execution_count": null,
   "id": "1471fcae-134b-47d4-b16e-c67a9e5cebe2",
   "metadata": {},
   "outputs": [],
   "source": []
  }
 ],
 "metadata": {
  "kernelspec": {
   "display_name": "Python 3.8.13",
   "language": "python",
   "name": "python3"
  },
  "language_info": {
   "codemirror_mode": {
    "name": "ipython",
    "version": 3
   },
   "file_extension": ".py",
   "mimetype": "text/x-python",
   "name": "python",
   "nbconvert_exporter": "python",
   "pygments_lexer": "ipython3",
   "version": "3.8.13"
  },
  "vscode": {
   "interpreter": {
    "hash": "4a64bfe93dbb51924a5ad8d7e9312f968a417a773494ea590cc93068d261664b"
   }
  }
 },
 "nbformat": 4,
 "nbformat_minor": 5
}

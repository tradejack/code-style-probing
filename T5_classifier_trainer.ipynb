{
 "cells": [
  {
   "cell_type": "code",
   "execution_count": 4,
   "metadata": {},
   "outputs": [
    {
     "name": "stdout",
     "output_type": "stream",
     "text": [
      "Package                Version\n",
      "---------------------- ------------\n",
      "aiohttp                3.8.1\n",
      "aiosignal              1.2.0\n",
      "argon2-cffi            21.3.0\n",
      "argon2-cffi-bindings   21.2.0\n",
      "asttokens              2.0.5\n",
      "async-timeout          4.0.2\n",
      "attrs                  21.4.0\n",
      "backcall               0.2.0\n",
      "beautifulsoup4         4.11.1\n",
      "bleach                 4.1.0\n",
      "brotlipy               0.7.0\n",
      "cachetools             5.2.0\n",
      "certifi                2022.6.15\n",
      "cffi                   1.15.0\n",
      "charset-normalizer     2.0.4\n",
      "click                  8.1.3\n",
      "colorama               0.4.4\n",
      "conda                  4.13.0\n",
      "conda-content-trust    0+unknown\n",
      "conda-package-handling 1.8.1\n",
      "cryptography           36.0.0\n",
      "cycler                 0.11.0\n",
      "datasets               2.3.2\n",
      "debugpy                1.5.1\n",
      "decorator              5.1.1\n",
      "defusedxml             0.7.1\n",
      "dill                   0.3.5.1\n",
      "entrypoints            0.4\n",
      "executing              0.8.3\n",
      "fastjsonschema         2.15.1\n",
      "filelock               3.7.1\n",
      "fonttools              4.34.4\n",
      "frozenlist             1.3.0\n",
      "fsspec                 2022.5.0\n",
      "huggingface-hub        0.8.1\n",
      "idna                   3.3\n",
      "ipykernel              6.9.1\n",
      "ipython                8.3.0\n",
      "ipython-genutils       0.2.0\n",
      "ipywidgets             7.6.5\n",
      "jedi                   0.18.1\n",
      "Jinja2                 3.0.3\n",
      "joblib                 1.1.0\n",
      "jsonschema             4.4.0\n",
      "jupyter                1.0.0\n",
      "jupyter-client         7.2.2\n",
      "jupyter-console        6.4.3\n",
      "jupyter-core           4.10.0\n",
      "jupyterlab-pygments    0.1.2\n",
      "jupyterlab-widgets     1.0.0\n",
      "kiwisolver             1.4.3\n",
      "MarkupSafe             2.1.1\n",
      "matplotlib             3.5.2\n",
      "matplotlib-inline      0.1.2\n",
      "mistune                0.8.4\n",
      "multidict              6.0.2\n",
      "multiprocess           0.70.13\n",
      "nbclient               0.5.13\n",
      "nbconvert              6.4.4\n",
      "nbformat               5.3.0\n",
      "nest-asyncio           1.5.5\n",
      "notebook               6.4.11\n",
      "numpy                  1.23.0\n",
      "nvidia-ml-py           11.495.46\n",
      "nvitop                 0.6.2\n",
      "packaging              21.3\n",
      "pandas                 1.4.3\n",
      "pandocfilters          1.5.0\n",
      "parso                  0.8.3\n",
      "pexpect                4.8.0\n",
      "pickleshare            0.7.5\n",
      "Pillow                 9.2.0\n",
      "pip                    21.2.4\n",
      "prometheus-client      0.13.1\n",
      "prompt-toolkit         3.0.20\n",
      "psutil                 5.9.1\n",
      "ptyprocess             0.7.0\n",
      "pure-eval              0.2.2\n",
      "pyarrow                8.0.0\n",
      "pycosat                0.6.3\n",
      "pycparser              2.21\n",
      "Pygments               2.11.2\n",
      "pyOpenSSL              22.0.0\n",
      "pyparsing              3.0.4\n",
      "pyrsistent             0.18.0\n",
      "PySocks                1.7.1\n",
      "python-dateutil        2.8.2\n",
      "pytz                   2022.1\n",
      "PyYAML                 6.0\n",
      "pyzmq                  22.3.0\n",
      "qtconsole              5.3.0\n",
      "QtPy                   2.0.1\n",
      "regex                  2022.6.2\n",
      "requests               2.27.1\n",
      "responses              0.18.0\n",
      "ruamel-yaml-conda      0.15.100\n",
      "sacremoses             0.0.53\n",
      "scikit-learn           1.1.1\n",
      "scipy                  1.8.1\n",
      "Send2Trash             1.8.0\n",
      "sentencepiece          0.1.96\n",
      "setuptools             61.2.0\n",
      "sip                    4.19.13\n",
      "six                    1.16.0\n",
      "sklearn                0.0\n",
      "soupsieve              2.3.1\n",
      "stack-data             0.2.0\n",
      "termcolor              1.1.0\n",
      "terminado              0.13.1\n",
      "testpath               0.6.0\n",
      "threadpoolctl          3.1.0\n",
      "tokenizers             0.12.1\n",
      "torch                  1.12.0+cu113\n",
      "torchaudio             0.12.0+cu113\n",
      "torchvision            0.13.0+cu113\n",
      "tornado                6.1\n",
      "tqdm                   4.63.0\n",
      "traitlets              5.1.1\n",
      "transformers           4.20.1\n",
      "typing_extensions      4.1.1\n",
      "urllib3                1.26.8\n",
      "wcwidth                0.2.5\n",
      "webencodings           0.5.1\n",
      "wheel                  0.37.1\n",
      "widgetsnbextension     3.5.2\n",
      "xxhash                 3.0.0\n",
      "yarl                   1.7.2\n",
      "4\n"
     ]
    }
   ],
   "source": [
    "!pip list\n",
    "import os\n",
    "#print (os.environ[\"CUDA_VISIBLE_DEVICES\"])\n",
    "os.environ[\"CUDA_VISIBLE_DEVICES\"] = '4'\n",
    "print (os.environ[\"CUDA_VISIBLE_DEVICES\"])\n",
    "#import model file\n",
    "import torch\n"
   ]
  },
  {
   "cell_type": "code",
   "execution_count": 5,
   "metadata": {},
   "outputs": [],
   "source": [
    "import numpy as np\n",
    "#import pandas as pd\n",
    "from transformers import *\n",
    "import torch\n",
    "import torch.nn as nn\n",
    "import torch.nn.functional as F\n",
    "from torch.utils.data import Dataset\n",
    "from datasets import load_from_disk, load_metric\n",
    "#import datasets\n",
    "import pickle\n",
    "#from utils.helper import read_py150k_code, read_file_to_string\n",
    "import regex as re"
   ]
  },
  {
   "cell_type": "code",
   "execution_count": 6,
   "metadata": {},
   "outputs": [
    {
     "name": "stderr",
     "output_type": "stream",
     "text": [
      "loading file https://huggingface.co/Salesforce/codet5-small/resolve/main/vocab.json from cache at /soe/ksmunson/.cache/huggingface/transformers/12dd1d7e87ade1728f8382f3b875a47cdddb88bc50797ecc506957411661a39a.9a48c5abf25554713c6513ab01066e53569b9a2da0d6189715951cf7c6288805\n",
      "loading file https://huggingface.co/Salesforce/codet5-small/resolve/main/merges.txt from cache at /soe/ksmunson/.cache/huggingface/transformers/c2ada6c76bb6a90c2330323775cb4853dd2b0cfee29d6b2c5ecb419c5874b488.7179059568f1a130b0a79e4bac71f38545207cab0ec45ce82ca09afadb2649a3\n",
      "loading file https://huggingface.co/Salesforce/codet5-small/resolve/main/added_tokens.json from cache at /soe/ksmunson/.cache/huggingface/transformers/354ae288bdee65437fa8eedecf9a2770001b97bac23d7fc5a04badae8da42346.5cc6e825eb228a7a5cfd27cb4d7151e97a79fb962b31aaf1813aa102e746584b\n",
      "loading file https://huggingface.co/Salesforce/codet5-small/resolve/main/special_tokens_map.json from cache at /soe/ksmunson/.cache/huggingface/transformers/f420b33feb234cfc688fa17febbada1c21692d80c819c5fa8147ccdca57071ac.b9905d0575bde443a20834122b6e2d48e853b2e36444ce98ddeb43c38097eb3f\n",
      "loading file https://huggingface.co/Salesforce/codet5-small/resolve/main/tokenizer_config.json from cache at /soe/ksmunson/.cache/huggingface/transformers/467e224188b39d74622382aee9b73c080650b67706599bb5592d1dcf40149f9d.f1b0f4acf5601ca7b482b9f000524cffdc0c3950f7d8c45c32380bc213334af2\n"
     ]
    },
    {
     "data": {
      "application/vnd.jupyter.widget-view+json": {
       "model_id": "044339ba0ac7474abbfcc65e36531da1",
       "version_major": 2,
       "version_minor": 0
      },
      "text/plain": [
       "  0%|          | 0/172040 [00:00<?, ?ex/s]"
      ]
     },
     "metadata": {},
     "output_type": "display_data"
    },
    {
     "data": {
      "application/vnd.jupyter.widget-view+json": {
       "model_id": "b4341e6f6d9b48e08bb966aef456c199",
       "version_major": 2,
       "version_minor": 0
      },
      "text/plain": [
       "  0%|          | 0/43010 [00:00<?, ?ex/s]"
      ]
     },
     "metadata": {},
     "output_type": "display_data"
    }
   ],
   "source": [
    "#plbart init\n",
    "#tokenizer = PLBartTokenizer.from_pretrained(\"uclanlp/plbart-base\", src_lang=\"python\", tgt_lang=\"python\" )\n",
    "#model = PLBartForConditionalGeneration.from_pretrained(\"uclanlp/plbart-base\")\n",
    "train_plbart_dataset = load_from_disk('datasets/plbart_train.hf')\n",
    "test_plbart_dataset = load_from_disk('datasets/plbart_test.hf')\n",
    "train_plbart_dataset.set_format(type=\"torch\", columns=[\"input_ids\", \"attention_mask\", \"labels\"])\n",
    "test_plbart_dataset.set_format(type=\"torch\", columns=[\"input_ids\", \"attention_mask\", \"labels\"])\n",
    "\n",
    "#codet5 init\n",
    "tokenizer = RobertaTokenizer.from_pretrained('Salesforce/codet5-small')\n",
    "#model = T5ForConditionalGeneration.from_pretrained('Salesforce/codet5-base')\n",
    "train_codet5_dataset = load_from_disk('datasets/codet5_train.hf')\n",
    "test_codet5_dataset = load_from_disk('datasets/codet5_test.hf')\n",
    "\n",
    "def replaceNegative(label):\n",
    "    #print (label['labels'])\n",
    "\n",
    "    label['labels'] = [label['labels']]\n",
    "    return label\n",
    "def removeOutlier(example):\n",
    "    #print (type(example['labels']))\n",
    "    if example['labels'] != -1:\n",
    "        example['labels'] = [example['labels'] + 1]\n",
    "        return example\n",
    "train_codet5_dataset = train_codet5_dataset.map(replaceNegative, batched = False)\n",
    "test_codet5_dataset = test_codet5_dataset.map(replaceNegative, batched = False)\n",
    "#test_codet5_dataset = test_codet5_dataset.map(removeOutlier, batched = False)\n",
    "#train_codet5_dataset = train_codet5_dataset.map(removeOutlier, batched = False)\n",
    "#train_codet5_dataset = train_codet5_dataset.filter(lambda example: example['labels'] != -1, batched=False)\n",
    "#test_codet5_dataset = test_codet5_dataset.filter(lambda example: example['labels'] != 0, batched=False)\n",
    "train_codet5_dataset.set_format(type=\"torch\", columns=[\"input_ids\", \"attention_mask\", \"labels\"])\n",
    "test_codet5_dataset.set_format(type=\"torch\", columns=[\"input_ids\", \"attention_mask\", \"labels\"])\n",
    "\n"
   ]
  },
  {
   "cell_type": "code",
   "execution_count": 7,
   "metadata": {},
   "outputs": [
    {
     "data": {
      "application/vnd.jupyter.widget-view+json": {
       "model_id": "5610173e45d8444ca25660fab537d4d5",
       "version_major": 2,
       "version_minor": 0
      },
      "text/plain": [
       "  0%|          | 0/173 [00:00<?, ?ba/s]"
      ]
     },
     "metadata": {},
     "output_type": "display_data"
    },
    {
     "data": {
      "application/vnd.jupyter.widget-view+json": {
       "model_id": "4208b10f1c944a12ae740f8181b24cc0",
       "version_major": 2,
       "version_minor": 0
      },
      "text/plain": [
       "  0%|          | 0/44 [00:00<?, ?ba/s]"
      ]
     },
     "metadata": {},
     "output_type": "display_data"
    },
    {
     "data": {
      "text/plain": [
       "tensor([[22],\n",
       "        [15],\n",
       "        [ 6],\n",
       "        ...,\n",
       "        [19],\n",
       "        [10],\n",
       "        [ 5]])"
      ]
     },
     "execution_count": 7,
     "metadata": {},
     "output_type": "execute_result"
    }
   ],
   "source": [
    "\n",
    "sorted_dataset = test_codet5_dataset.sort('labels')\n",
    "sorted_dataset['labels']\n",
    "#sorted_dataset = sorted_dataset.filter(lambda example: example['labels'] != 0, batched=False)\n",
    "\n",
    "train_codet5_dataset = train_codet5_dataset.filter(lambda example: example['labels'][0] != -1, batched=False)\n",
    "test_codet5_dataset = test_codet5_dataset.filter(lambda example: example['labels'][0] != -1, batched=False)\n",
    "test_codet5_dataset['labels']"
   ]
  },
  {
   "cell_type": "code",
   "execution_count": 8,
   "metadata": {},
   "outputs": [
    {
     "data": {
      "text/plain": [
       "tensor([[ 0],\n",
       "        [ 0],\n",
       "        [ 0],\n",
       "        ...,\n",
       "        [25],\n",
       "        [25],\n",
       "        [25]])"
      ]
     },
     "execution_count": 8,
     "metadata": {},
     "output_type": "execute_result"
    }
   ],
   "source": [
    "#sample and save data subset\n",
    "sorted_dataset = test_codet5_dataset.sort('labels')\n",
    "sorted_dataset['labels']\n",
    "\n"
   ]
  },
  {
   "cell_type": "code",
   "execution_count": 9,
   "metadata": {},
   "outputs": [
    {
     "name": "stderr",
     "output_type": "stream",
     "text": [
      "loading configuration file https://huggingface.co/Salesforce/codet5-small/resolve/main/config.json from cache at /soe/ksmunson/.cache/huggingface/transformers/ef13e715cbf36adda46c74774e8032ab573cfbb2ebe59748c9fc72b7cf67e418.96d28e790b8c3d3e3be663606a66e0793a173c78e745e3603be4c0f878319099\n",
      "Model config T5Config {\n",
      "  \"_name_or_path\": \"/content/drive/MyDrive/CodeT5/pretrained_models/codet5_small\",\n",
      "  \"architectures\": [\n",
      "    \"T5ForConditionalGeneration\"\n",
      "  ],\n",
      "  \"bos_token_id\": 1,\n",
      "  \"d_ff\": 2048,\n",
      "  \"d_kv\": 64,\n",
      "  \"d_model\": 512,\n",
      "  \"decoder_start_token_id\": 0,\n",
      "  \"dense_act_fn\": \"relu\",\n",
      "  \"dropout_rate\": 0.1,\n",
      "  \"eos_token_id\": 2,\n",
      "  \"feed_forward_proj\": \"relu\",\n",
      "  \"gradient_checkpointing\": false,\n",
      "  \"id2label\": {\n",
      "    \"0\": \"LABEL_0\",\n",
      "    \"1\": \"LABEL_1\",\n",
      "    \"2\": \"LABEL_2\",\n",
      "    \"3\": \"LABEL_3\",\n",
      "    \"4\": \"LABEL_4\",\n",
      "    \"5\": \"LABEL_5\",\n",
      "    \"6\": \"LABEL_6\",\n",
      "    \"7\": \"LABEL_7\",\n",
      "    \"8\": \"LABEL_8\",\n",
      "    \"9\": \"LABEL_9\",\n",
      "    \"10\": \"LABEL_10\",\n",
      "    \"11\": \"LABEL_11\",\n",
      "    \"12\": \"LABEL_12\",\n",
      "    \"13\": \"LABEL_13\",\n",
      "    \"14\": \"LABEL_14\",\n",
      "    \"15\": \"LABEL_15\",\n",
      "    \"16\": \"LABEL_16\",\n",
      "    \"17\": \"LABEL_17\",\n",
      "    \"18\": \"LABEL_18\",\n",
      "    \"19\": \"LABEL_19\",\n",
      "    \"20\": \"LABEL_20\",\n",
      "    \"21\": \"LABEL_21\",\n",
      "    \"22\": \"LABEL_22\",\n",
      "    \"23\": \"LABEL_23\",\n",
      "    \"24\": \"LABEL_24\",\n",
      "    \"25\": \"LABEL_25\"\n",
      "  },\n",
      "  \"initializer_factor\": 1.0,\n",
      "  \"is_encoder_decoder\": true,\n",
      "  \"is_gated_act\": false,\n",
      "  \"label2id\": {\n",
      "    \"LABEL_0\": 0,\n",
      "    \"LABEL_1\": 1,\n",
      "    \"LABEL_10\": 10,\n",
      "    \"LABEL_11\": 11,\n",
      "    \"LABEL_12\": 12,\n",
      "    \"LABEL_13\": 13,\n",
      "    \"LABEL_14\": 14,\n",
      "    \"LABEL_15\": 15,\n",
      "    \"LABEL_16\": 16,\n",
      "    \"LABEL_17\": 17,\n",
      "    \"LABEL_18\": 18,\n",
      "    \"LABEL_19\": 19,\n",
      "    \"LABEL_2\": 2,\n",
      "    \"LABEL_20\": 20,\n",
      "    \"LABEL_21\": 21,\n",
      "    \"LABEL_22\": 22,\n",
      "    \"LABEL_23\": 23,\n",
      "    \"LABEL_24\": 24,\n",
      "    \"LABEL_25\": 25,\n",
      "    \"LABEL_3\": 3,\n",
      "    \"LABEL_4\": 4,\n",
      "    \"LABEL_5\": 5,\n",
      "    \"LABEL_6\": 6,\n",
      "    \"LABEL_7\": 7,\n",
      "    \"LABEL_8\": 8,\n",
      "    \"LABEL_9\": 9\n",
      "  },\n",
      "  \"layer_norm_epsilon\": 1e-06,\n",
      "  \"model_type\": \"t5\",\n",
      "  \"n_positions\": 512,\n",
      "  \"num_decoder_layers\": 6,\n",
      "  \"num_heads\": 8,\n",
      "  \"num_layers\": 6,\n",
      "  \"output_past\": true,\n",
      "  \"pad_token_id\": 0,\n",
      "  \"relative_attention_max_distance\": 128,\n",
      "  \"relative_attention_num_buckets\": 32,\n",
      "  \"task_specific_params\": {\n",
      "    \"summarization\": {\n",
      "      \"early_stopping\": true,\n",
      "      \"length_penalty\": 2.0,\n",
      "      \"max_length\": 200,\n",
      "      \"min_length\": 30,\n",
      "      \"no_repeat_ngram_size\": 3,\n",
      "      \"num_beams\": 4,\n",
      "      \"prefix\": \"summarize: \"\n",
      "    },\n",
      "    \"translation_en_to_de\": {\n",
      "      \"early_stopping\": true,\n",
      "      \"max_length\": 300,\n",
      "      \"num_beams\": 4,\n",
      "      \"prefix\": \"translate English to German: \"\n",
      "    },\n",
      "    \"translation_en_to_fr\": {\n",
      "      \"early_stopping\": true,\n",
      "      \"max_length\": 300,\n",
      "      \"num_beams\": 4,\n",
      "      \"prefix\": \"translate English to French: \"\n",
      "    },\n",
      "    \"translation_en_to_ro\": {\n",
      "      \"early_stopping\": true,\n",
      "      \"max_length\": 300,\n",
      "      \"num_beams\": 4,\n",
      "      \"prefix\": \"translate English to Romanian: \"\n",
      "    }\n",
      "  },\n",
      "  \"torch_dtype\": \"float32\",\n",
      "  \"transformers_version\": \"4.20.1\",\n",
      "  \"use_cache\": true,\n",
      "  \"vocab_size\": 32100\n",
      "}\n",
      "\n",
      "loading weights file https://huggingface.co/Salesforce/codet5-small/resolve/main/pytorch_model.bin from cache at /soe/ksmunson/.cache/huggingface/transformers/72f18276a84809c5d2071dd664611f32bf6732788714ff4669de3b2d7becf4e8.f77f3daae184f7661a8837b1e043ddb86c279a9a71f866e7d286f68244bca50e\n",
      "All model checkpoint weights were used when initializing T5ForConditionalGeneration.\n",
      "\n",
      "All the weights of T5ForConditionalGeneration were initialized from the model checkpoint at Salesforce/codet5-small.\n",
      "If your task is similar to the task the model of the checkpoint was trained on, you can already use T5ForConditionalGeneration for predictions without further training.\n"
     ]
    }
   ],
   "source": [
    "from transformers import AutoModelForSequenceClassification, TrainingArguments, Trainer, T5ForConditionalGeneration\n",
    "model = T5ForConditionalGeneration.from_pretrained('Salesforce/codet5-small', num_labels=26)\n",
    "#add classification layer"
   ]
  },
  {
   "cell_type": "code",
   "execution_count": 10,
   "metadata": {},
   "outputs": [
    {
     "data": {
      "text/plain": [
       "'11.3'"
      ]
     },
     "execution_count": 10,
     "metadata": {},
     "output_type": "execute_result"
    }
   ],
   "source": [
    "torch.version.cuda"
   ]
  },
  {
   "cell_type": "code",
   "execution_count": 11,
   "metadata": {},
   "outputs": [
    {
     "name": "stderr",
     "output_type": "stream",
     "text": [
      "PyTorch: setting up devices\n",
      "The default value for the training argument `--report_to` will change in v5 (from all installed integrations to none). In v5, you will need to use `--report_to all` to get the same behavior as now. You should start updating your code and make this info disappear :-).\n"
     ]
    },
    {
     "name": "stdout",
     "output_type": "stream",
     "text": [
      "1\n"
     ]
    }
   ],
   "source": [
    "os.environ[\"CUDA_VISIBLE_DEVICES\"] = '1'\n",
    "print (os.environ[\"CUDA_VISIBLE_DEVICES\"])\n",
    "training_args = TrainingArguments(output_dir=\"test_trainer\", evaluation_strategy=\"epoch\")\n",
    "metric = load_metric(\"accuracy\")\n",
    "def compute_metrics(eval_pred): # this part prob wont work, parameter should be removed from trainer probably\n",
    "    try:\n",
    "        logits, labels, inputs = eval_pred\n",
    "    except:\n",
    "        logits, labels = eval_pred\n",
    "    predictions = np.argmax(logits[0], axis=-1)\n",
    "    return metric.compute(predictions=predictions, references=labels)"
   ]
  },
  {
   "cell_type": "code",
   "execution_count": 23,
   "metadata": {},
   "outputs": [
    {
     "name": "stderr",
     "output_type": "stream",
     "text": [
      "loading configuration file ./results/no_outlier/checkpoint-21000/config.json\n",
      "Model config T5Config {\n",
      "  \"_name_or_path\": \"Salesforce/codet5-base\",\n",
      "  \"architectures\": [\n",
      "    \"T5ForConditionalGeneration\"\n",
      "  ],\n",
      "  \"bos_token_id\": 1,\n",
      "  \"d_ff\": 3072,\n",
      "  \"d_kv\": 64,\n",
      "  \"d_model\": 768,\n",
      "  \"decoder_start_token_id\": 0,\n",
      "  \"dense_act_fn\": \"relu\",\n",
      "  \"dropout_rate\": 0.1,\n",
      "  \"eos_token_id\": 2,\n",
      "  \"feed_forward_proj\": \"relu\",\n",
      "  \"gradient_checkpointing\": false,\n",
      "  \"id2label\": {\n",
      "    \"0\": \"LABEL_0\",\n",
      "    \"1\": \"LABEL_1\",\n",
      "    \"2\": \"LABEL_2\",\n",
      "    \"3\": \"LABEL_3\",\n",
      "    \"4\": \"LABEL_4\",\n",
      "    \"5\": \"LABEL_5\",\n",
      "    \"6\": \"LABEL_6\",\n",
      "    \"7\": \"LABEL_7\",\n",
      "    \"8\": \"LABEL_8\",\n",
      "    \"9\": \"LABEL_9\",\n",
      "    \"10\": \"LABEL_10\",\n",
      "    \"11\": \"LABEL_11\",\n",
      "    \"12\": \"LABEL_12\",\n",
      "    \"13\": \"LABEL_13\",\n",
      "    \"14\": \"LABEL_14\",\n",
      "    \"15\": \"LABEL_15\",\n",
      "    \"16\": \"LABEL_16\",\n",
      "    \"17\": \"LABEL_17\",\n",
      "    \"18\": \"LABEL_18\",\n",
      "    \"19\": \"LABEL_19\",\n",
      "    \"20\": \"LABEL_20\",\n",
      "    \"21\": \"LABEL_21\",\n",
      "    \"22\": \"LABEL_22\",\n",
      "    \"23\": \"LABEL_23\",\n",
      "    \"24\": \"LABEL_24\",\n",
      "    \"25\": \"LABEL_25\"\n",
      "  },\n",
      "  \"initializer_factor\": 1.0,\n",
      "  \"is_encoder_decoder\": true,\n",
      "  \"is_gated_act\": false,\n",
      "  \"label2id\": {\n",
      "    \"LABEL_0\": 0,\n",
      "    \"LABEL_1\": 1,\n",
      "    \"LABEL_10\": 10,\n",
      "    \"LABEL_11\": 11,\n",
      "    \"LABEL_12\": 12,\n",
      "    \"LABEL_13\": 13,\n",
      "    \"LABEL_14\": 14,\n",
      "    \"LABEL_15\": 15,\n",
      "    \"LABEL_16\": 16,\n",
      "    \"LABEL_17\": 17,\n",
      "    \"LABEL_18\": 18,\n",
      "    \"LABEL_19\": 19,\n",
      "    \"LABEL_2\": 2,\n",
      "    \"LABEL_20\": 20,\n",
      "    \"LABEL_21\": 21,\n",
      "    \"LABEL_22\": 22,\n",
      "    \"LABEL_23\": 23,\n",
      "    \"LABEL_24\": 24,\n",
      "    \"LABEL_25\": 25,\n",
      "    \"LABEL_3\": 3,\n",
      "    \"LABEL_4\": 4,\n",
      "    \"LABEL_5\": 5,\n",
      "    \"LABEL_6\": 6,\n",
      "    \"LABEL_7\": 7,\n",
      "    \"LABEL_8\": 8,\n",
      "    \"LABEL_9\": 9\n",
      "  },\n",
      "  \"layer_norm_epsilon\": 1e-06,\n",
      "  \"model_type\": \"t5\",\n",
      "  \"n_positions\": 512,\n",
      "  \"num_decoder_layers\": 12,\n",
      "  \"num_heads\": 12,\n",
      "  \"num_layers\": 12,\n",
      "  \"output_past\": true,\n",
      "  \"pad_token_id\": 0,\n",
      "  \"relative_attention_max_distance\": 128,\n",
      "  \"relative_attention_num_buckets\": 32,\n",
      "  \"task_specific_params\": {\n",
      "    \"summarization\": {\n",
      "      \"early_stopping\": true,\n",
      "      \"length_penalty\": 2.0,\n",
      "      \"max_length\": 200,\n",
      "      \"min_length\": 30,\n",
      "      \"no_repeat_ngram_size\": 3,\n",
      "      \"num_beams\": 4,\n",
      "      \"prefix\": \"summarize: \"\n",
      "    },\n",
      "    \"translation_en_to_de\": {\n",
      "      \"early_stopping\": true,\n",
      "      \"max_length\": 300,\n",
      "      \"num_beams\": 4,\n",
      "      \"prefix\": \"translate English to German: \"\n",
      "    },\n",
      "    \"translation_en_to_fr\": {\n",
      "      \"early_stopping\": true,\n",
      "      \"max_length\": 300,\n",
      "      \"num_beams\": 4,\n",
      "      \"prefix\": \"translate English to French: \"\n",
      "    },\n",
      "    \"translation_en_to_ro\": {\n",
      "      \"early_stopping\": true,\n",
      "      \"max_length\": 300,\n",
      "      \"num_beams\": 4,\n",
      "      \"prefix\": \"translate English to Romanian: \"\n",
      "    }\n",
      "  },\n",
      "  \"torch_dtype\": \"float32\",\n",
      "  \"transformers_version\": \"4.20.1\",\n",
      "  \"use_cache\": true,\n",
      "  \"vocab_size\": 32100\n",
      "}\n",
      "\n",
      "loading weights file ./results/no_outlier/checkpoint-21000/pytorch_model.bin\n"
     ]
    },
    {
     "name": "stdout",
     "output_type": "stream",
     "text": [
      "DatasetDict({\n",
      "    train: Dataset({\n",
      "        features: ['line_count', 'comment_count', 'comment_total_len', 'comment_avg_len', 'comment_density', 'id_total', 'lower_case', 'id_total_var', 'lower_case_var', 'snake_case_ratio', 'snake_case_var_ratio', 'snake_case_class_ratio', 'snake_case_method_ratio', 'lower_camel_case_ratio', 'lower_camel_case_var_ratio', 'lower_camel_case_class_ratio', 'lower_camel_case_method_ratio', 'upper_camel_case_ratio', 'upper_camel_case_var_ratio', 'upper_camel_case_class_ratio', 'upper_camel_case_method_ratio', 'lower_case_ratio', 'lower_case_var_ratio', 'lower_case_class_ratio', 'lower_case_method_ratio', 'upper_case_ratio', 'upper_case_var_ratio', 'upper_case_class_ratio', 'upper_case_method_ratio', 'other_case_ratio', 'other_case_var_ratio', 'other_case_class_ratio', 'other_case_method_ratio', 'func_decorators_avg', 'func_async_ratio', 'class_parents_avg', 'class_decorators_avg', 'ds_density', 'ds_char_len_avg', 'ds_word_len_avg', 'comprehensions_avg', 'generators_avg', 'lambda_avg', 'snake_case', 'snake_case_var', 'id_total_method', 'snake_case_method', 'func_count', 'func_decorators_count', 'lower_camel_case', 'lower_camel_case_var', 'upper_camel_case', 'id_total_class', 'upper_camel_case_class', 'class_count', 'class_parents_count', 'class_decorators_count', 'internal_method', 'overridden_method', 'upper_case', 'upper_case_var', 'upper_camel_case_var', 'lower_case_method', 'generators', 'ds_count', 'ds_char_len_total', 'ds_word_len_total', 'ds_line_count', 'ds_of_method', 'lambda', 'other_case', 'other_case_class', 'other_case_var', 'comprehensions', 'lower_camel_case_method', 'lower_case_class', 'snake_case_class', 'upper_camel_case_method', 'other_case_method', 'upper_case_method', 'lower_camel_case_class', 'upper_case_class', 'repository', 'filepath', 'forks', 'issue_events', 'stars', 'parse_error', 'func_async_count', 'file', 'labels', 'content', '__index_level_0__', 'input_ids', 'attention_mask'],\n",
      "        num_rows: 9503\n",
      "    })\n",
      "    test: Dataset({\n",
      "        features: ['line_count', 'comment_count', 'comment_total_len', 'comment_avg_len', 'comment_density', 'id_total', 'lower_case', 'id_total_var', 'lower_case_var', 'snake_case_ratio', 'snake_case_var_ratio', 'snake_case_class_ratio', 'snake_case_method_ratio', 'lower_camel_case_ratio', 'lower_camel_case_var_ratio', 'lower_camel_case_class_ratio', 'lower_camel_case_method_ratio', 'upper_camel_case_ratio', 'upper_camel_case_var_ratio', 'upper_camel_case_class_ratio', 'upper_camel_case_method_ratio', 'lower_case_ratio', 'lower_case_var_ratio', 'lower_case_class_ratio', 'lower_case_method_ratio', 'upper_case_ratio', 'upper_case_var_ratio', 'upper_case_class_ratio', 'upper_case_method_ratio', 'other_case_ratio', 'other_case_var_ratio', 'other_case_class_ratio', 'other_case_method_ratio', 'func_decorators_avg', 'func_async_ratio', 'class_parents_avg', 'class_decorators_avg', 'ds_density', 'ds_char_len_avg', 'ds_word_len_avg', 'comprehensions_avg', 'generators_avg', 'lambda_avg', 'snake_case', 'snake_case_var', 'id_total_method', 'snake_case_method', 'func_count', 'func_decorators_count', 'lower_camel_case', 'lower_camel_case_var', 'upper_camel_case', 'id_total_class', 'upper_camel_case_class', 'class_count', 'class_parents_count', 'class_decorators_count', 'internal_method', 'overridden_method', 'upper_case', 'upper_case_var', 'upper_camel_case_var', 'lower_case_method', 'generators', 'ds_count', 'ds_char_len_total', 'ds_word_len_total', 'ds_line_count', 'ds_of_method', 'lambda', 'other_case', 'other_case_class', 'other_case_var', 'comprehensions', 'lower_camel_case_method', 'lower_case_class', 'snake_case_class', 'upper_camel_case_method', 'other_case_method', 'upper_case_method', 'lower_camel_case_class', 'upper_case_class', 'repository', 'filepath', 'forks', 'issue_events', 'stars', 'parse_error', 'func_async_count', 'file', 'labels', 'content', '__index_level_0__', 'input_ids', 'attention_mask'],\n",
      "        num_rows: 827\n",
      "    })\n",
      "})\n"
     ]
    },
    {
     "name": "stderr",
     "output_type": "stream",
     "text": [
      "All model checkpoint weights were used when initializing T5ForConditionalGeneration.\n",
      "\n",
      "All the weights of T5ForConditionalGeneration were initialized from the model checkpoint at ./results/no_outlier/checkpoint-21000.\n",
      "If your task is similar to the task the model of the checkpoint was trained on, you can already use T5ForConditionalGeneration for predictions without further training.\n",
      "PyTorch: setting up devices\n",
      "The default value for the training argument `--report_to` will change in v5 (from all installed integrations to none). In v5, you will need to use `--report_to all` to get the same behavior as now. You should start updating your code and make this info disappear :-).\n"
     ]
    },
    {
     "name": "stdout",
     "output_type": "stream",
     "text": [
      "cuda:0\n"
     ]
    }
   ],
   "source": [
    "\n",
    "eval_dataset = test_codet5_dataset\n",
    "eval_dataset = eval_dataset.train_test_split(test_size = 0.08)\n",
    "print (eval_dataset)\n",
    "model = T5ForConditionalGeneration.from_pretrained('./results/no_outlier_small/checkpoint-21000', num_labels=26)\n",
    "#'Salesforce/codet5-small' 'results/no_dataloader/checkpoint-83500' /results/no_outlier/checkpoint-21000\n",
    "training_args = TrainingArguments(\n",
    "    output_dir=\"./results/no_outlier_small\",\n",
    "    learning_rate=1e-4, #2e-5, #\n",
    "    per_device_train_batch_size=8,\n",
    "    per_device_eval_batch_size=16,\n",
    "    num_train_epochs=4,\n",
    "    weight_decay=0.01,\n",
    "    evaluation_strategy=\"steps\",\n",
    "    eval_steps=2000,\n",
    "    eval_accumulation_steps=200,\n",
    ")\n",
    "#debug_dataset = \n",
    "print (training_args.device)\n",
    "trainer = Trainer(\n",
    "    model=model,\n",
    "    args=training_args,\n",
    "    train_dataset=train_codet5_dataset,\n",
    "    eval_dataset=eval_dataset['test'],\n",
    "    tokenizer=tokenizer,\n",
    "    compute_metrics=compute_metrics,\n",
    "    #data_collator=data_collator,\n",
    ")\n",
    "\n",
    "#trainer.train()"
   ]
  },
  {
   "cell_type": "code",
   "execution_count": 24,
   "metadata": {},
   "outputs": [
    {
     "name": "stderr",
     "output_type": "stream",
     "text": [
      "Loading cached split indices for dataset at datasets/codet5_test.hf/cache-00a291df77bfee92.arrow and datasets/codet5_test.hf/cache-dcb3fca6221388b8.arrow\n",
      "The following columns in the test set don't have a corresponding argument in `T5ForConditionalGeneration.forward` and have been ignored: class_parents_count, content, ds_char_len_avg, id_total_var, ds_count, lambda_avg, upper_camel_case, lower_camel_case, snake_case_class, lambda, upper_camel_case_ratio, lower_case_method_ratio, comment_avg_len, func_decorators_avg, lower_case_class, forks, ds_line_count, parse_error, snake_case_var_ratio, lower_case_ratio, snake_case_method_ratio, comment_density, other_case, filepath, ds_word_len_avg, func_count, upper_camel_case_method_ratio, other_case_method_ratio, ds_word_len_total, id_total_class, upper_camel_case_class, func_decorators_count, file, lower_case_var, ds_density, other_case_method, upper_camel_case_method, id_total_method, lower_camel_case_var_ratio, line_count, __index_level_0__, upper_case_method_ratio, snake_case_method, lower_camel_case_class, upper_case_var, upper_case_class_ratio, other_case_var_ratio, upper_camel_case_class_ratio, upper_case_method, func_async_ratio, lower_case, class_parents_avg, class_decorators_count, internal_method, snake_case_ratio, class_decorators_avg, snake_case, comprehensions_avg, comment_count, upper_case_ratio, snake_case_var, stars, comprehensions, snake_case_class_ratio, ds_of_method, class_count, issue_events, upper_case_class, repository, id_total, generators_avg, lower_camel_case_method, upper_case, ds_char_len_total, lower_case_var_ratio, upper_camel_case_var, lower_camel_case_ratio, func_async_count, other_case_class_ratio, overridden_method, lower_case_class_ratio, lower_case_method, other_case_ratio, lower_camel_case_class_ratio, comment_total_len, lower_camel_case_method_ratio, lower_camel_case_var, other_case_var, other_case_class, upper_camel_case_var_ratio, generators, upper_case_var_ratio. If class_parents_count, content, ds_char_len_avg, id_total_var, ds_count, lambda_avg, upper_camel_case, lower_camel_case, snake_case_class, lambda, upper_camel_case_ratio, lower_case_method_ratio, comment_avg_len, func_decorators_avg, lower_case_class, forks, ds_line_count, parse_error, snake_case_var_ratio, lower_case_ratio, snake_case_method_ratio, comment_density, other_case, filepath, ds_word_len_avg, func_count, upper_camel_case_method_ratio, other_case_method_ratio, ds_word_len_total, id_total_class, upper_camel_case_class, func_decorators_count, file, lower_case_var, ds_density, other_case_method, upper_camel_case_method, id_total_method, lower_camel_case_var_ratio, line_count, __index_level_0__, upper_case_method_ratio, snake_case_method, lower_camel_case_class, upper_case_var, upper_case_class_ratio, other_case_var_ratio, upper_camel_case_class_ratio, upper_case_method, func_async_ratio, lower_case, class_parents_avg, class_decorators_count, internal_method, snake_case_ratio, class_decorators_avg, snake_case, comprehensions_avg, comment_count, upper_case_ratio, snake_case_var, stars, comprehensions, snake_case_class_ratio, ds_of_method, class_count, issue_events, upper_case_class, repository, id_total, generators_avg, lower_camel_case_method, upper_case, ds_char_len_total, lower_case_var_ratio, upper_camel_case_var, lower_camel_case_ratio, func_async_count, other_case_class_ratio, overridden_method, lower_case_class_ratio, lower_case_method, other_case_ratio, lower_camel_case_class_ratio, comment_total_len, lower_camel_case_method_ratio, lower_camel_case_var, other_case_var, other_case_class, upper_camel_case_var_ratio, generators, upper_case_var_ratio are not expected by `T5ForConditionalGeneration.forward`,  you can safely ignore this message.\n",
      "***** Running Prediction *****\n",
      "  Num examples = 10330\n",
      "  Batch size = 16\n"
     ]
    },
    {
     "data": {
      "text/html": [
       "\n",
       "    <div>\n",
       "      \n",
       "      <progress value='646' max='646' style='width:300px; height:20px; vertical-align: middle;'></progress>\n",
       "      [646/646 02:30]\n",
       "    </div>\n",
       "    "
      ],
      "text/plain": [
       "<IPython.core.display.HTML object>"
      ]
     },
     "metadata": {},
     "output_type": "display_data"
    },
    {
     "name": "stdout",
     "output_type": "stream",
     "text": [
      "              precision    recall  f1-score   support\n",
      "\n",
      "           0       0.98      0.94      0.96       136\n",
      "           1       0.86      0.88      0.87       160\n",
      "           2       0.98      0.98      0.98       103\n",
      "           3       0.89      0.86      0.88        98\n",
      "           4       0.93      0.91      0.92       189\n",
      "           5       0.98      0.97      0.97       233\n",
      "           6       0.95      0.93      0.94       763\n",
      "           7       1.00      1.00      1.00      1009\n",
      "           8       0.94      0.98      0.96       267\n",
      "           9       0.78      0.86      0.82       206\n",
      "          10       0.95      0.95      0.95      1113\n",
      "          11       0.95      0.93      0.94       523\n",
      "          12       0.85      0.82      0.83       115\n",
      "          13       0.62      0.53      0.57       168\n",
      "          14       0.89      0.87      0.88       178\n",
      "          15       0.81      0.86      0.84       169\n",
      "          16       0.78      0.84      0.81       538\n",
      "          17       0.90      0.91      0.90       207\n",
      "          18       0.75      0.80      0.78       140\n",
      "          19       0.94      0.94      0.94      2364\n",
      "          20       0.99      0.96      0.98       103\n",
      "          21       0.74      0.51      0.61       125\n",
      "          22       0.88      0.99      0.93       236\n",
      "          23       0.93      0.96      0.95       614\n",
      "          24       0.92      0.92      0.92       258\n",
      "          25       0.98      0.94      0.96       315\n",
      "\n",
      "    accuracy                           0.92     10330\n",
      "   macro avg       0.89      0.89      0.89     10330\n",
      "weighted avg       0.92      0.92      0.92     10330\n",
      "\n"
     ]
    }
   ],
   "source": [
    "\n",
    "os.environ[\"CUDA_VISIBLE_DEVICES\"] = '2, 0'\n",
    "eval_dataset = test_codet5_dataset\n",
    "eval_dataset = eval_dataset.train_test_split(test_size = 0.1)\n",
    "#preds = trainer.predict(eval_dataset['test'])\n",
    "preds = trainer.predict(test_codet5_dataset)\n",
    "#model(eval_dataset['test']['input_ids'])\n"
   ]
  },
  {
   "cell_type": "code",
   "execution_count": 25,
   "metadata": {},
   "outputs": [
    {
     "name": "stdout",
     "output_type": "stream",
     "text": [
      "{'test_loss': 0.40781378746032715, 'test_accuracy': 0.9204259438528558, 'test_runtime': 175.1017, 'test_samples_per_second': 58.994, 'test_steps_per_second': 3.689}\n",
      "              precision    recall  f1-score   support\n",
      "\n",
      "           0       0.98      0.94      0.96       136\n",
      "           1       0.86      0.88      0.87       160\n",
      "           2       0.98      0.98      0.98       103\n",
      "           3       0.89      0.86      0.88        98\n",
      "           4       0.93      0.91      0.92       189\n",
      "           5       0.98      0.97      0.97       233\n",
      "           6       0.95      0.93      0.94       763\n",
      "           7       1.00      1.00      1.00      1009\n",
      "           8       0.94      0.98      0.96       267\n",
      "           9       0.78      0.86      0.82       206\n",
      "          10       0.95      0.95      0.95      1113\n",
      "          11       0.95      0.93      0.94       523\n",
      "          12       0.85      0.82      0.83       115\n",
      "          13       0.62      0.53      0.57       168\n",
      "          14       0.89      0.87      0.88       178\n",
      "          15       0.81      0.86      0.84       169\n",
      "          16       0.78      0.84      0.81       538\n",
      "          17       0.90      0.91      0.90       207\n",
      "          18       0.75      0.80      0.78       140\n",
      "          19       0.94      0.94      0.94      2364\n",
      "          20       0.99      0.96      0.98       103\n",
      "          21       0.74      0.51      0.61       125\n",
      "          22       0.88      0.99      0.93       236\n",
      "          23       0.93      0.96      0.95       614\n",
      "          24       0.92      0.92      0.92       258\n",
      "          25       0.98      0.94      0.96       315\n",
      "\n",
      "    accuracy                           0.92     10330\n",
      "   macro avg       0.89      0.89      0.89     10330\n",
      "weighted avg       0.92      0.92      0.92     10330\n",
      "\n",
      "[[22]\n",
      " [15]\n",
      " [ 6]\n",
      " ...\n",
      " [19]\n",
      " [10]\n",
      " [ 5]]\n",
      "222882048\n",
      "new output\n"
     ]
    }
   ],
   "source": [
    "import pandas as pd\n",
    "print (preds[2])\n",
    "from sklearn.metrics import classification_report\n",
    "metric = load_metric(\"accuracy\")\n",
    "def compute_metrics(eval_pred): # this part prob wont work, parameter should be removed from trainer probably\n",
    "    try:\n",
    "        logits, labels, inputs = eval_pred\n",
    "    except:\n",
    "        logits, labels = eval_pred\n",
    "    predictions = np.argmax(logits[0], axis=-1)\n",
    "    df = pd.DataFrame(predictions)\n",
    "    df.to_csv('./results/no_outlier_small/codet5_preds.csv')\n",
    "    report =  (classification_report(labels, predictions))\n",
    "    print (report)\n",
    "    with open('./results/no_outlier_small/classification_report.txt', 'w') as f:\n",
    "        f.write(report)\n",
    "    return metric.compute(predictions=predictions, references=labels)\n",
    "\n",
    "compute_metrics(preds)\n",
    "\n",
    "#print ((preds[0][0]).tolist())\n",
    "#prediction = pd.DataFrame(preds)\n",
    "#display(prediction)\n",
    "#prediction.to_csv('results/eval_83500.csv')\n",
    "#predictions = pd.read_csv('plbart_preds.csv')\n",
    "print (preds[1])\n",
    "#print (classification_report(predictions, preds[1]))\n",
    "print(sum(p.numel() for p in model.parameters()))\n",
    "print (\"new output\")"
   ]
  },
  {
   "cell_type": "code",
   "execution_count": 26,
   "metadata": {},
   "outputs": [],
   "source": [
    "import matplotlib.pyplot as plt\n",
    "plt.rcParams[\"figure.figsize\"] = (40,40)"
   ]
  },
  {
   "cell_type": "code",
   "execution_count": 27,
   "metadata": {},
   "outputs": [
    {
     "name": "stdout",
     "output_type": "stream",
     "text": [
      "[[ 128    0    0    0    3    0    0    0    0    1    2    0    0    0\n",
      "     0    0    0    0    0    2    0    0    0    0    0    0]\n",
      " [   0  141    0    2    0    0    3    0    0    3    7    1    0    0\n",
      "     0    1    0    0    0    2    0    0    0    0    0    0]\n",
      " [   0    0  101    0    0    1    0    0    0    1    0    0    0    0\n",
      "     0    0    0    0    0    0    0    0    0    0    0    0]\n",
      " [   0    4    0   84    0    0    3    0    0    0    5    1    0    0\n",
      "     0    0    0    1    0    0    0    0    0    0    0    0]\n",
      " [   1    0    0    0  172    0    2    0    1    3    3    0    0    0\n",
      "     0    0    0    0    1    6    0    0    0    0    0    0]\n",
      " [   0    0    1    1    0  225    3    0    0    0    2    0    0    0\n",
      "     0    1    0    0    0    0    0    0    0    0    0    0]\n",
      " [   1    3    0    3    2    4  707    0    0   15   17    1    0    0\n",
      "     1    4    0    2    0    3    0    0    0    0    0    0]\n",
      " [   0    0    0    0    0    0    0 1006    0    2    0    0    0    0\n",
      "     0    0    0    0    1    0    0    0    0    0    0    0]\n",
      " [   0    0    0    0    0    0    1    1  262    0    1    0    0    0\n",
      "     0    0    0    1    1    0    0    0    0    0    0    0]\n",
      " [   0    0    0    0    1    0    7    0    0  177    4    0    0    0\n",
      "     0    5    6    0    0    6    0    0    0    0    0    0]\n",
      " [   0   12    0    2    0    0   12    0    3   10 1054    2    0    0\n",
      "     2    0    2    4    1    7    0    0    1    0    1    0]\n",
      " [   0    2    0    0    0    0    0    0    2    0    2  484   10   10\n",
      "     0    0    0    0    0   12    1    0    0    0    0    0]\n",
      " [   0    0    0    0    0    0    0    0    0    0    0    1   94   11\n",
      "     0    0    6    0    0    3    0    0    0    0    0    0]\n",
      " [   0    0    0    0    0    0    0    0    0    0    1    3    3   89\n",
      "     0    1   45    0    0   25    0    0    0    0    1    0]\n",
      " [   0    0    0    0    0    0    0    0    0    2    1    1    0    1\n",
      "   154   19    0    0    0    0    0    0    0    0    0    0]\n",
      " [   0    0    0    0    1    0    1    0    0    3    2    0    0    1\n",
      "    15  145    0    0    0    1    0    0    0    0    0    0]\n",
      " [   0    0    0    0    1    0    0    0    0    4    0    4    2   18\n",
      "     0    0  451    0    0   58    0    0    0    0    0    0]\n",
      " [   0    0    0    0    0    0    1    0    3    0    1    1    0    0\n",
      "     0    0    0  189   11    1    0    0    0    0    0    0]\n",
      " [   0    0    0    0    0    0    0    0    5    0    0    0    0    0\n",
      "     0    0    0    9  112   14    0    0    0    0    0    0]\n",
      " [   0    2    1    0    5    0    3    2    2    4    6   12    1   13\n",
      "     1    0   68    5   22 2215    0    0    1    0    1    0]\n",
      " [   0    0    0    1    0    0    0    0    0    0    1    0    0    0\n",
      "     0    0    0    0    0    0   99    0    0    0    1    1]\n",
      " [   0    0    0    0    0    0    0    0    0    0    0    0    0    0\n",
      "     0    0    0    0    0    0    0   64   22   39    0    0]\n",
      " [   0    0    0    0    0    0    0    0    0    0    0    0    0    0\n",
      "     0    0    0    0    0    0    0    1  234    1    0    0]\n",
      " [   0    0    0    0    0    0    0    0    0    0    0    0    0    0\n",
      "     0    0    0    0    0    0    0   21    5  588    0    0]\n",
      " [   0    0    0    1    0    0    2    0    0    1    3    0    1    0\n",
      "     1    2    2    0    0    1    0    0    2    1  237    4]\n",
      " [   0    0    0    0    0    0    0    0    0    0    1    0    0    0\n",
      "     0    0    0    0    0    0    0    0    0    0   18  296]]\n"
     ]
    },
    {
     "ename": "ValueError",
     "evalue": "The number of FixedLocator locations (26), usually from a call to set_ticks, does not match the number of ticklabels (10330).",
     "output_type": "error",
     "traceback": [
      "\u001b[0;31m---------------------------------------------------------------------------\u001b[0m",
      "\u001b[0;31mValueError\u001b[0m                                Traceback (most recent call last)",
      "\u001b[1;32m/data/users/team2_capstone/code-style-probing/T5_classifier_trainer.ipynb Cell 13'\u001b[0m in \u001b[0;36m<cell line: 10>\u001b[0;34m()\u001b[0m\n\u001b[1;32m      <a href='vscode-notebook-cell://ssh-remote%2Bnlp-gpu-01.soe.ucsc.edu/data/users/team2_capstone/code-style-probing/T5_classifier_trainer.ipynb#ch0000012vscode-remote?line=7'>8</a>\u001b[0m classes \u001b[39m=\u001b[39m \u001b[39mset\u001b[39m(true_labels)\n\u001b[1;32m      <a href='vscode-notebook-cell://ssh-remote%2Bnlp-gpu-01.soe.ucsc.edu/data/users/team2_capstone/code-style-probing/T5_classifier_trainer.ipynb#ch0000012vscode-remote?line=8'>9</a>\u001b[0m disp \u001b[39m=\u001b[39m ConfusionMatrixDisplay(confusion_matrix\u001b[39m=\u001b[39mcm, display_labels\u001b[39m=\u001b[39mclasses)\n\u001b[0;32m---> <a href='vscode-notebook-cell://ssh-remote%2Bnlp-gpu-01.soe.ucsc.edu/data/users/team2_capstone/code-style-probing/T5_classifier_trainer.ipynb#ch0000012vscode-remote?line=9'>10</a>\u001b[0m disp\u001b[39m.\u001b[39;49mplot()\n",
      "File \u001b[0;32m/data/users/ksmunson/data/users/ksmunson/lib/python3.9/site-packages/sklearn/metrics/_plot/confusion_matrix.py:172\u001b[0m, in \u001b[0;36mConfusionMatrixDisplay.plot\u001b[0;34m(self, include_values, cmap, xticks_rotation, values_format, ax, colorbar, im_kw)\u001b[0m\n\u001b[1;32m    170\u001b[0m \u001b[39mif\u001b[39;00m colorbar:\n\u001b[1;32m    171\u001b[0m     fig\u001b[39m.\u001b[39mcolorbar(\u001b[39mself\u001b[39m\u001b[39m.\u001b[39mim_, ax\u001b[39m=\u001b[39max)\n\u001b[0;32m--> 172\u001b[0m ax\u001b[39m.\u001b[39;49mset(\n\u001b[1;32m    173\u001b[0m     xticks\u001b[39m=\u001b[39;49mnp\u001b[39m.\u001b[39;49marange(n_classes),\n\u001b[1;32m    174\u001b[0m     yticks\u001b[39m=\u001b[39;49mnp\u001b[39m.\u001b[39;49marange(n_classes),\n\u001b[1;32m    175\u001b[0m     xticklabels\u001b[39m=\u001b[39;49mdisplay_labels,\n\u001b[1;32m    176\u001b[0m     yticklabels\u001b[39m=\u001b[39;49mdisplay_labels,\n\u001b[1;32m    177\u001b[0m     ylabel\u001b[39m=\u001b[39;49m\u001b[39m\"\u001b[39;49m\u001b[39mTrue label\u001b[39;49m\u001b[39m\"\u001b[39;49m,\n\u001b[1;32m    178\u001b[0m     xlabel\u001b[39m=\u001b[39;49m\u001b[39m\"\u001b[39;49m\u001b[39mPredicted label\u001b[39;49m\u001b[39m\"\u001b[39;49m,\n\u001b[1;32m    179\u001b[0m )\n\u001b[1;32m    181\u001b[0m ax\u001b[39m.\u001b[39mset_ylim((n_classes \u001b[39m-\u001b[39m \u001b[39m0.5\u001b[39m, \u001b[39m-\u001b[39m\u001b[39m0.5\u001b[39m))\n\u001b[1;32m    182\u001b[0m plt\u001b[39m.\u001b[39msetp(ax\u001b[39m.\u001b[39mget_xticklabels(), rotation\u001b[39m=\u001b[39mxticks_rotation)\n",
      "File \u001b[0;32m/data/users/ksmunson/data/users/ksmunson/lib/python3.9/site-packages/matplotlib/artist.py:116\u001b[0m, in \u001b[0;36mArtist.__init_subclass__.<locals>.<lambda>\u001b[0;34m(self, **kwargs)\u001b[0m\n\u001b[1;32m    108\u001b[0m \u001b[39mif\u001b[39;00m \u001b[39mnot\u001b[39;00m \u001b[39mhasattr\u001b[39m(\u001b[39mcls\u001b[39m\u001b[39m.\u001b[39mset, \u001b[39m'\u001b[39m\u001b[39m_autogenerated_signature\u001b[39m\u001b[39m'\u001b[39m):\n\u001b[1;32m    109\u001b[0m     \u001b[39m# Don't overwrite cls.set if the subclass or one of its parents\u001b[39;00m\n\u001b[1;32m    110\u001b[0m     \u001b[39m# has defined a set method set itself.\u001b[39;00m\n\u001b[1;32m    111\u001b[0m     \u001b[39m# If there was no explicit definition, cls.set is inherited from\u001b[39;00m\n\u001b[1;32m    112\u001b[0m     \u001b[39m# the hierarchy of auto-generated set methods, which hold the\u001b[39;00m\n\u001b[1;32m    113\u001b[0m     \u001b[39m# flag _autogenerated_signature.\u001b[39;00m\n\u001b[1;32m    114\u001b[0m     \u001b[39mreturn\u001b[39;00m\n\u001b[0;32m--> 116\u001b[0m \u001b[39mcls\u001b[39m\u001b[39m.\u001b[39mset \u001b[39m=\u001b[39m \u001b[39mlambda\u001b[39;00m \u001b[39mself\u001b[39m, \u001b[39m*\u001b[39m\u001b[39m*\u001b[39mkwargs: Artist\u001b[39m.\u001b[39;49mset(\u001b[39mself\u001b[39;49m, \u001b[39m*\u001b[39;49m\u001b[39m*\u001b[39;49mkwargs)\n\u001b[1;32m    117\u001b[0m \u001b[39mcls\u001b[39m\u001b[39m.\u001b[39mset\u001b[39m.\u001b[39m\u001b[39m__name__\u001b[39m \u001b[39m=\u001b[39m \u001b[39m\"\u001b[39m\u001b[39mset\u001b[39m\u001b[39m\"\u001b[39m\n\u001b[1;32m    118\u001b[0m \u001b[39mcls\u001b[39m\u001b[39m.\u001b[39mset\u001b[39m.\u001b[39m\u001b[39m__qualname__\u001b[39m \u001b[39m=\u001b[39m \u001b[39mf\u001b[39m\u001b[39m\"\u001b[39m\u001b[39m{\u001b[39;00m\u001b[39mcls\u001b[39m\u001b[39m.\u001b[39m\u001b[39m__qualname__\u001b[39m\u001b[39m}\u001b[39;00m\u001b[39m.set\u001b[39m\u001b[39m\"\u001b[39m\n",
      "File \u001b[0;32m/data/users/ksmunson/data/users/ksmunson/lib/python3.9/site-packages/matplotlib/artist.py:1164\u001b[0m, in \u001b[0;36mArtist.set\u001b[0;34m(self, **kwargs)\u001b[0m\n\u001b[1;32m   1159\u001b[0m \u001b[39mdef\u001b[39;00m \u001b[39mset\u001b[39m(\u001b[39mself\u001b[39m, \u001b[39m*\u001b[39m\u001b[39m*\u001b[39mkwargs):\n\u001b[1;32m   1160\u001b[0m     \u001b[39m# docstring and signature are auto-generated via\u001b[39;00m\n\u001b[1;32m   1161\u001b[0m     \u001b[39m# Artist._update_set_signature_and_docstring() at the end of the\u001b[39;00m\n\u001b[1;32m   1162\u001b[0m     \u001b[39m# module.\u001b[39;00m\n\u001b[1;32m   1163\u001b[0m     kwargs \u001b[39m=\u001b[39m cbook\u001b[39m.\u001b[39mnormalize_kwargs(kwargs, \u001b[39mself\u001b[39m)\n\u001b[0;32m-> 1164\u001b[0m     \u001b[39mreturn\u001b[39;00m \u001b[39mself\u001b[39;49m\u001b[39m.\u001b[39;49mupdate(kwargs)\n",
      "File \u001b[0;32m/data/users/ksmunson/data/users/ksmunson/lib/python3.9/site-packages/matplotlib/artist.py:1066\u001b[0m, in \u001b[0;36mArtist.update\u001b[0;34m(self, props)\u001b[0m\n\u001b[1;32m   1063\u001b[0m             \u001b[39mif\u001b[39;00m \u001b[39mnot\u001b[39;00m callable(func):\n\u001b[1;32m   1064\u001b[0m                 \u001b[39mraise\u001b[39;00m \u001b[39mAttributeError\u001b[39;00m(\u001b[39mf\u001b[39m\u001b[39m\"\u001b[39m\u001b[39m{\u001b[39;00m\u001b[39mtype\u001b[39m(\u001b[39mself\u001b[39m)\u001b[39m.\u001b[39m\u001b[39m__name__\u001b[39m\u001b[39m!r}\u001b[39;00m\u001b[39m object \u001b[39m\u001b[39m\"\u001b[39m\n\u001b[1;32m   1065\u001b[0m                                      \u001b[39mf\u001b[39m\u001b[39m\"\u001b[39m\u001b[39mhas no property \u001b[39m\u001b[39m{\u001b[39;00mk\u001b[39m!r}\u001b[39;00m\u001b[39m\"\u001b[39m)\n\u001b[0;32m-> 1066\u001b[0m             ret\u001b[39m.\u001b[39mappend(func(v))\n\u001b[1;32m   1067\u001b[0m \u001b[39mif\u001b[39;00m ret:\n\u001b[1;32m   1068\u001b[0m     \u001b[39mself\u001b[39m\u001b[39m.\u001b[39mpchanged()\n",
      "File \u001b[0;32m/data/users/ksmunson/data/users/ksmunson/lib/python3.9/site-packages/matplotlib/axes/_base.py:75\u001b[0m, in \u001b[0;36m_axis_method_wrapper.__set_name__.<locals>.wrapper\u001b[0;34m(self, *args, **kwargs)\u001b[0m\n\u001b[1;32m     74\u001b[0m \u001b[39mdef\u001b[39;00m \u001b[39mwrapper\u001b[39m(\u001b[39mself\u001b[39m, \u001b[39m*\u001b[39margs, \u001b[39m*\u001b[39m\u001b[39m*\u001b[39mkwargs):\n\u001b[0;32m---> 75\u001b[0m     \u001b[39mreturn\u001b[39;00m get_method(\u001b[39mself\u001b[39;49m)(\u001b[39m*\u001b[39;49margs, \u001b[39m*\u001b[39;49m\u001b[39m*\u001b[39;49mkwargs)\n",
      "File \u001b[0;32m/data/users/ksmunson/data/users/ksmunson/lib/python3.9/site-packages/matplotlib/axis.py:1798\u001b[0m, in \u001b[0;36mAxis._set_ticklabels\u001b[0;34m(self, labels, fontdict, minor, **kwargs)\u001b[0m\n\u001b[1;32m   1796\u001b[0m \u001b[39mif\u001b[39;00m fontdict \u001b[39mis\u001b[39;00m \u001b[39mnot\u001b[39;00m \u001b[39mNone\u001b[39;00m:\n\u001b[1;32m   1797\u001b[0m     kwargs\u001b[39m.\u001b[39mupdate(fontdict)\n\u001b[0;32m-> 1798\u001b[0m \u001b[39mreturn\u001b[39;00m \u001b[39mself\u001b[39;49m\u001b[39m.\u001b[39;49mset_ticklabels(labels, minor\u001b[39m=\u001b[39;49mminor, \u001b[39m*\u001b[39;49m\u001b[39m*\u001b[39;49mkwargs)\n",
      "File \u001b[0;32m/data/users/ksmunson/data/users/ksmunson/lib/python3.9/site-packages/matplotlib/axis.py:1720\u001b[0m, in \u001b[0;36mAxis.set_ticklabels\u001b[0;34m(self, ticklabels, minor, **kwargs)\u001b[0m\n\u001b[1;32m   1716\u001b[0m \u001b[39mif\u001b[39;00m \u001b[39misinstance\u001b[39m(locator, mticker\u001b[39m.\u001b[39mFixedLocator):\n\u001b[1;32m   1717\u001b[0m     \u001b[39m# Passing [] as a list of ticklabels is often used as a way to\u001b[39;00m\n\u001b[1;32m   1718\u001b[0m     \u001b[39m# remove all tick labels, so only error for > 0 ticklabels\u001b[39;00m\n\u001b[1;32m   1719\u001b[0m     \u001b[39mif\u001b[39;00m \u001b[39mlen\u001b[39m(locator\u001b[39m.\u001b[39mlocs) \u001b[39m!=\u001b[39m \u001b[39mlen\u001b[39m(ticklabels) \u001b[39mand\u001b[39;00m \u001b[39mlen\u001b[39m(ticklabels) \u001b[39m!=\u001b[39m \u001b[39m0\u001b[39m:\n\u001b[0;32m-> 1720\u001b[0m         \u001b[39mraise\u001b[39;00m \u001b[39mValueError\u001b[39;00m(\n\u001b[1;32m   1721\u001b[0m             \u001b[39m\"\u001b[39m\u001b[39mThe number of FixedLocator locations\u001b[39m\u001b[39m\"\u001b[39m\n\u001b[1;32m   1722\u001b[0m             \u001b[39mf\u001b[39m\u001b[39m\"\u001b[39m\u001b[39m (\u001b[39m\u001b[39m{\u001b[39;00m\u001b[39mlen\u001b[39m(locator\u001b[39m.\u001b[39mlocs)\u001b[39m}\u001b[39;00m\u001b[39m), usually from a call to\u001b[39m\u001b[39m\"\u001b[39m\n\u001b[1;32m   1723\u001b[0m             \u001b[39m\"\u001b[39m\u001b[39m set_ticks, does not match\u001b[39m\u001b[39m\"\u001b[39m\n\u001b[1;32m   1724\u001b[0m             \u001b[39mf\u001b[39m\u001b[39m\"\u001b[39m\u001b[39m the number of ticklabels (\u001b[39m\u001b[39m{\u001b[39;00m\u001b[39mlen\u001b[39m(ticklabels)\u001b[39m}\u001b[39;00m\u001b[39m).\u001b[39m\u001b[39m\"\u001b[39m)\n\u001b[1;32m   1725\u001b[0m     tickd \u001b[39m=\u001b[39m {loc: lab \u001b[39mfor\u001b[39;00m loc, lab \u001b[39min\u001b[39;00m \u001b[39mzip\u001b[39m(locator\u001b[39m.\u001b[39mlocs, ticklabels)}\n\u001b[1;32m   1726\u001b[0m     func \u001b[39m=\u001b[39m functools\u001b[39m.\u001b[39mpartial(\u001b[39mself\u001b[39m\u001b[39m.\u001b[39m_format_with_dict, tickd)\n",
      "\u001b[0;31mValueError\u001b[0m: The number of FixedLocator locations (26), usually from a call to set_ticks, does not match the number of ticklabels (10330)."
     ]
    },
    {
     "data": {
      "image/png": "[encoded data removed]",
      "text/plain": [
       "<Figure size 2880x2880 with 2 Axes>"
      ]
     },
     "metadata": {
      "needs_background": "light"
     },
     "output_type": "display_data"
    }
   ],
   "source": [
    "import matplotlib.pyplot as plt\n",
    "from sklearn.metrics import classification_report, confusion_matrix, ConfusionMatrixDisplay\n",
    "pred_labels =np.argmax(preds[0][0], axis=-1)\n",
    "plt.rcParams[\"figure.figsize\"] = (40,40)\n",
    "true_labels =  (test_codet5_dataset['labels'])\n",
    "cm = (confusion_matrix( true_labels, pred_labels))\n",
    "print (cm)\n",
    "classes = set(true_labels)\n",
    "disp = ConfusionMatrixDisplay(confusion_matrix=cm, display_labels=classes)\n",
    "disp.plot()"
   ]
  },
  {
   "cell_type": "markdown",
   "metadata": {},
   "source": []
  },
  {
   "cell_type": "markdown",
   "metadata": {},
   "source": []
  }
 ],
 "metadata": {
  "kernelspec": {
   "display_name": "Python 3.9.12 ('base')",
   "language": "python",
   "name": "python3"
  },
  "language_info": {
   "codemirror_mode": {
    "name": "ipython",
    "version": 3
   },
   "file_extension": ".py",
   "mimetype": "text/x-python",
   "name": "python",
   "nbconvert_exporter": "python",
   "pygments_lexer": "ipython3",
   "version": "3.9.12"
  },
  "orig_nbformat": 4,
  "vscode": {
   "interpreter": {
    "hash": "988cc1e00d3b5bb0a2e9024406047781d3e298e90a30d1fcc633613d0d680479"
   }
  }
 },
 "nbformat": 4,
 "nbformat_minor": 2
}

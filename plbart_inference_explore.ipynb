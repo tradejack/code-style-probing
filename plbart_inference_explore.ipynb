{
 "cells": [
  {
   "cell_type": "code",
   "execution_count": 1,
   "id": "7241521a-9535-4a39-bbbb-a4ea9e61ffd4",
   "metadata": {},
   "outputs": [],
   "source": [
    "last_ckpt = \"results_ken/plbart_classifier/checkpoint-172000/trainer_state.json\""
   ]
  },
  {
   "cell_type": "code",
   "execution_count": null,
   "id": "d95d9209-7932-4483-95f0-d1152ab9ab4c",
   "metadata": {},
   "outputs": [],
   "source": []
  },
  {
   "cell_type": "code",
   "execution_count": 2,
   "id": "f885b8e7-286e-4065-99b2-08202f941eda",
   "metadata": {},
   "outputs": [],
   "source": [
    "import json"
   ]
  },
  {
   "cell_type": "code",
   "execution_count": 3,
   "id": "a60de0cb-632c-4998-8126-5ca946776de0",
   "metadata": {},
   "outputs": [],
   "source": [
    "\n",
    "state = json.load(open(last_ckpt))"
   ]
  },
  {
   "cell_type": "code",
   "execution_count": 4,
   "id": "4094fddf-4c67-4051-9c29-d1fa8d653cbb",
   "metadata": {},
   "outputs": [
    {
     "data": {
      "text/plain": [
       "dict_keys(['best_metric', 'best_model_checkpoint', 'epoch', 'global_step', 'is_hyper_param_search', 'is_local_process_zero', 'is_world_process_zero', 'log_history', 'max_steps', 'num_train_epochs', 'total_flos', 'trial_name', 'trial_params'])"
      ]
     },
     "execution_count": 4,
     "metadata": {},
     "output_type": "execute_result"
    }
   ],
   "source": [
    "state.keys()"
   ]
  },
  {
   "cell_type": "code",
   "execution_count": 5,
   "id": "8a843180-eba2-490d-b712-9f1efa5cf378",
   "metadata": {},
   "outputs": [],
   "source": [
    "epochs = [log[\"epoch\"] for log in state[\"log_history\"] if log[\"epoch\"].is_integer()]\n",
    "losses = [log[\"loss\"] for log in state[\"log_history\"] if log[\"epoch\"].is_integer()]\n",
    "steps = [log[\"step\"] for log in state[\"log_history\"] if log[\"epoch\"].is_integer()]"
   ]
  },
  {
   "cell_type": "code",
   "execution_count": null,
   "id": "63cd5d91-355d-4f98-9363-ae0432c40ef2",
   "metadata": {},
   "outputs": [],
   "source": []
  },
  {
   "cell_type": "code",
   "execution_count": 6,
   "id": "b78bcb82-86cb-44f8-81cf-f2665b77b774",
   "metadata": {},
   "outputs": [],
   "source": [
    "import matplotlib as mpl\n",
    "import matplotlib.pyplot as plt\n",
    "import numpy as np"
   ]
  },
  {
   "cell_type": "code",
   "execution_count": 7,
   "id": "ea80a54a-c272-4edc-b2c2-a5520aab9b87",
   "metadata": {},
   "outputs": [
    {
     "data": {
      "text/plain": [
       "[<matplotlib.lines.Line2D at 0x7fa8c411bcd0>]"
      ]
     },
     "execution_count": 7,
     "metadata": {},
     "output_type": "execute_result"
    },
    {
     "data": {
      "image/png": "[encoded data removed]",
      "text/plain": [
       "<Figure size 432x288 with 1 Axes>"
      ]
     },
     "metadata": {
      "needs_background": "light"
     },
     "output_type": "display_data"
    }
   ],
   "source": [
    "plt.plot(epochs, losses)  # Plot some data on the axes."
   ]
  },
  {
   "cell_type": "code",
   "execution_count": 8,
   "id": "c5b72a5c-aea3-45e3-bfcf-f3f3bdda6bc0",
   "metadata": {},
   "outputs": [
    {
     "data": {
      "text/plain": [
       "[43000, 86000, 129000, 172000]"
      ]
     },
     "execution_count": 8,
     "metadata": {},
     "output_type": "execute_result"
    }
   ],
   "source": [
    "steps"
   ]
  },
  {
   "cell_type": "code",
   "execution_count": 9,
   "id": "7ebf36a1-7521-48af-aa46-74c711e8cdb2",
   "metadata": {},
   "outputs": [],
   "source": [
    "ckpt_filenames = [f\"results_ken/plbart_classifier/checkpoint-{step}\" for step in steps]"
   ]
  },
  {
   "cell_type": "code",
   "execution_count": null,
   "id": "ae0a7d5a-a85d-431b-b761-5c7c82abe2b1",
   "metadata": {},
   "outputs": [],
   "source": []
  },
  {
   "cell_type": "code",
   "execution_count": 10,
   "id": "24dd299f-de9e-4bc9-806d-4b3ba2548e9c",
   "metadata": {},
   "outputs": [],
   "source": [
    "\n",
    "\n",
    "from transformers import (\n",
    "    AutoModelForSequenceClassification,\n",
    "    TrainingArguments,\n",
    "    Trainer,\n",
    "    PLBartForSequenceClassification,\n",
    ")\n",
    "\n",
    "model = PLBartForSequenceClassification.from_pretrained(\n",
    "    ckpt_filenames[0], num_labels=27\n",
    ")"
   ]
  },
  {
   "cell_type": "code",
   "execution_count": 11,
   "id": "5030ecfb-e00f-4c9e-add0-6b2496174963",
   "metadata": {},
   "outputs": [
    {
     "name": "stdout",
     "output_type": "stream",
     "text": [
      "GPU usage:\n",
      "  memory.used memory.free\n",
      "0       2 MiB   24266 MiB\n",
      "1   23749 MiB     519 MiB\n",
      "2   23915 MiB     353 MiB\n",
      "3   20557 MiB    3711 MiB\n",
      "4   13475 MiB   10793 MiB\n",
      "5   14264 MiB   10004 MiB\n",
      "Returning GPU0 with 24266 free MiB\n",
      "0\n",
      "0\n"
     ]
    }
   ],
   "source": [
    "import subprocess\n",
    "import sys\n",
    "import os\n",
    "\n",
    "import torch\n",
    "import pandas as pd\n",
    "\n",
    "\n",
    "if sys.version_info[0] < 3:\n",
    "    from StringIO import StringIO\n",
    "else:\n",
    "    from io import StringIO\n",
    "\n",
    "\n",
    "def get_free_gpu():\n",
    "    gpu_stats = subprocess.check_output(\n",
    "        [\"nvidia-smi\", \"--format=csv\", \"--query-gpu=memory.used,memory.free\"]\n",
    "    )\n",
    "    gpu_df = pd.read_csv(\n",
    "        StringIO(gpu_stats.decode(\"utf-8\")),\n",
    "        names=[\"memory.used\", \"memory.free\"],\n",
    "        skiprows=1,\n",
    "    )\n",
    "    print(\"GPU usage:\\n{}\".format(gpu_df))\n",
    "    gpu_df[\"memory.free\"] = gpu_df[\"memory.free\"].map(\n",
    "        lambda x: int(x.rstrip(\" MiB\"))\n",
    "    )\n",
    "    idx = gpu_df[\"memory.free\"].idxmax()\n",
    "    print(\n",
    "        \"Returning GPU{} with {} free MiB\".format(\n",
    "            idx, gpu_df.iloc[idx][\"memory.free\"]\n",
    "        )\n",
    "    )\n",
    "    return idx\n",
    "\n",
    "\n",
    "free_gpu_id = get_free_gpu()\n",
    "print(free_gpu_id)\n",
    "\n",
    "# !pip list\n",
    "import os\n",
    "\n",
    "# print (os.environ[\"CUDA_VISIBLE_DEVICES\"])\n",
    "os.environ[\"CUDA_VISIBLE_DEVICES\"] = str(free_gpu_id)\n",
    "print(os.environ[\"CUDA_VISIBLE_DEVICES\"])"
   ]
  },
  {
   "cell_type": "code",
   "execution_count": 9,
   "id": "b075aa24-59d8-473b-9682-fa028acd0ccf",
   "metadata": {},
   "outputs": [],
   "source": [
    "\n",
    "# import model file\n",
    "import torch\n",
    "\n",
    "import numpy as np\n",
    "\n",
    "# import pandas as pd\n",
    "from transformers import *\n",
    "import torch\n",
    "import torch.nn as nn\n",
    "import torch.nn.functional as F\n",
    "\n",
    "# from torch.utils.data import Dataset\n",
    "from datasets import load_from_disk, load_metric, Dataset"
   ]
  },
  {
   "cell_type": "code",
   "execution_count": 10,
   "id": "243de9e5-632f-4369-8ba2-c7a21927a599",
   "metadata": {},
   "outputs": [],
   "source": [
    "\n",
    "train_plbart_dataset = load_from_disk(\"datasets/plbart_train.hf\")\n",
    "test_plbart_dataset = load_from_disk(\"datasets/plbart_test.hf\")\n",
    "# train_plbart_dataset = Dataset.from_dict(train_plbart_dataset[4200:4300])\n",
    "# test_plbart_dataset = Dataset.from_dict(test_plbart_dataset[4200:4300])\n",
    "train_plbart_dataset.set_format(\n",
    "    type=\"np\", columns=[\"input_ids\", \"attention_mask\", \"labels\"]\n",
    ")\n",
    "test_plbart_dataset.set_format(\n",
    "    type=\"np\", columns=[\"input_ids\", \"attention_mask\", \"labels\"]\n",
    ")\n"
   ]
  },
  {
   "cell_type": "code",
   "execution_count": 15,
   "id": "76c4668e-b020-43d6-9de2-47cc71b24406",
   "metadata": {},
   "outputs": [],
   "source": [
    "no_outlier_idx = [idx for idx, _bool in enumerate(train_plbart_dataset[\"labels\"] != -1) if _bool]\n",
    "train_plbart_dataset.select(no_outlier_idx)"
   ]
  },
  {
   "cell_type": "code",
   "execution_count": 16,
   "id": "366cb78e-6a05-4a32-9c0e-143ed0a196c4",
   "metadata": {},
   "outputs": [
    {
     "data": {
      "text/plain": [
       "Dataset({\n",
       "    features: ['line_count', 'comment_count', 'comment_total_len', 'comment_avg_len', 'comment_density', 'id_total', 'lower_case', 'id_total_var', 'lower_case_var', 'snake_case_ratio', 'snake_case_var_ratio', 'snake_case_class_ratio', 'snake_case_method_ratio', 'lower_camel_case_ratio', 'lower_camel_case_var_ratio', 'lower_camel_case_class_ratio', 'lower_camel_case_method_ratio', 'upper_camel_case_ratio', 'upper_camel_case_var_ratio', 'upper_camel_case_class_ratio', 'upper_camel_case_method_ratio', 'lower_case_ratio', 'lower_case_var_ratio', 'lower_case_class_ratio', 'lower_case_method_ratio', 'upper_case_ratio', 'upper_case_var_ratio', 'upper_case_class_ratio', 'upper_case_method_ratio', 'other_case_ratio', 'other_case_var_ratio', 'other_case_class_ratio', 'other_case_method_ratio', 'func_decorators_avg', 'func_async_ratio', 'class_parents_avg', 'class_decorators_avg', 'ds_density', 'ds_char_len_avg', 'ds_word_len_avg', 'comprehensions_avg', 'generators_avg', 'lambda_avg', 'snake_case', 'snake_case_var', 'id_total_method', 'snake_case_method', 'func_count', 'func_decorators_count', 'lower_camel_case', 'lower_camel_case_var', 'upper_camel_case', 'id_total_class', 'upper_camel_case_class', 'class_count', 'class_parents_count', 'class_decorators_count', 'internal_method', 'overridden_method', 'upper_case', 'upper_case_var', 'upper_camel_case_var', 'lower_case_method', 'generators', 'ds_count', 'ds_char_len_total', 'ds_word_len_total', 'ds_line_count', 'ds_of_method', 'lambda', 'other_case', 'other_case_class', 'other_case_var', 'comprehensions', 'lower_camel_case_method', 'lower_case_class', 'snake_case_class', 'upper_camel_case_method', 'other_case_method', 'upper_case_method', 'lower_camel_case_class', 'upper_case_class', 'repository', 'filepath', 'forks', 'issue_events', 'stars', 'parse_error', 'func_async_count', 'file', 'labels', 'content', '__index_level_0__', 'input_ids', 'attention_mask'],\n",
       "    num_rows: 41995\n",
       "})"
      ]
     },
     "execution_count": 16,
     "metadata": {},
     "output_type": "execute_result"
    }
   ],
   "source": []
  },
  {
   "cell_type": "code",
   "execution_count": 13,
   "id": "232506d2-6748-444e-9035-d5a07427edbd",
   "metadata": {},
   "outputs": [
    {
     "name": "stderr",
     "output_type": "stream",
     "text": [
      "loading file https://huggingface.co/uclanlp/plbart-base/resolve/main/sentencepiece.bpe.model from cache at /data/users/cting3/.cache/huggingface/transformers/e75bbc4eddf092f59fc4f715f4946a2e8401a821b9c5a4e3f60040dd8c1957ef.c65001d1986897f4ae6d41d2c49f0e1621d3518cab63e0ffa3005e5deb5aae40\n",
      "loading file https://huggingface.co/uclanlp/plbart-base/resolve/main/tokenizer.json from cache at None\n",
      "loading file https://huggingface.co/uclanlp/plbart-base/resolve/main/added_tokens.json from cache at None\n",
      "loading file https://huggingface.co/uclanlp/plbart-base/resolve/main/special_tokens_map.json from cache at None\n",
      "loading file https://huggingface.co/uclanlp/plbart-base/resolve/main/tokenizer_config.json from cache at None\n",
      "loading configuration file https://huggingface.co/uclanlp/plbart-base/resolve/main/config.json from cache at /data/users/cting3/.cache/huggingface/transformers/f6e5e7a0536acd8fb984d2eaf2bc23a6c6793d59fe0d72d104e56e1feacb98eb.8929a51af95d04be1b1d966435fd1ad4a48aca2f2953bc4e4a354b1f1dfd0b55\n",
      "Model config PLBartConfig {\n",
      "  \"_name_or_path\": \"uclanlp/plbart-base\",\n",
      "  \"activation_dropout\": 0.0,\n",
      "  \"activation_function\": \"gelu\",\n",
      "  \"architectures\": [\n",
      "    \"PLBartForConditionalGeneration\"\n",
      "  ],\n",
      "  \"attention_dropout\": 0.1,\n",
      "  \"bos_token_id\": 0,\n",
      "  \"classifier_dropout\": 0.0,\n",
      "  \"d_model\": 768,\n",
      "  \"decoder_attention_heads\": 12,\n",
      "  \"decoder_ffn_dim\": 3072,\n",
      "  \"decoder_layerdrop\": 0.0,\n",
      "  \"decoder_layers\": 6,\n",
      "  \"dropout\": 0.1,\n",
      "  \"encoder_attention_heads\": 12,\n",
      "  \"encoder_ffn_dim\": 3072,\n",
      "  \"encoder_layerdrop\": 0.0,\n",
      "  \"encoder_layers\": 6,\n",
      "  \"eos_token_id\": 2,\n",
      "  \"forced_eos_token_id\": 2,\n",
      "  \"init_std\": 0.02,\n",
      "  \"is_encoder_decoder\": true,\n",
      "  \"max_position_embeddings\": 1024,\n",
      "  \"model_type\": \"plbart\",\n",
      "  \"num_hidden_layers\": 6,\n",
      "  \"pad_token_id\": 1,\n",
      "  \"scale_embedding\": true,\n",
      "  \"transformers_version\": \"4.17.0\",\n",
      "  \"use_cache\": true,\n",
      "  \"vocab_size\": 50005\n",
      "}\n",
      "\n",
      "Loading cached processed dataset at datasets/plbart_train.hf/cache-43d1e30d99169c24.arrow\n",
      "Loading cached processed dataset at datasets/plbart_test.hf/cache-0edf789aa55f9df6.arrow\n"
     ]
    }
   ],
   "source": [
    "\n",
    "tokenizer = PLBartTokenizer.from_pretrained(\n",
    "    \"uclanlp/plbart-base\", src_lang=\"python\", tgt_lang=\"python\"\n",
    ")\n",
    "# model = T5ForConditionalGeneration.from_pretrained('Salesforce/codet5-base')\n",
    "# train_codet5_dataset = load_from_disk('datasets/codet5_train.hf')\n",
    "# test_codet5_dataset = load_from_disk('datasets/codet5_test.hf')\n",
    "\n",
    "\n",
    "unk_id = tokenizer.convert_tokens_to_ids(\"<unk>\")\n",
    "\n",
    "\n",
    "def replaceNegative(example):\n",
    "    # print (label['labels'])\n",
    "    example[\"labels\"] = example[\"labels\"] + 1\n",
    "\n",
    "    # remove duplicate eos token\n",
    "    eos_mask = example[\"input_ids\"] == 2\n",
    "    if len(torch.unique_consecutive(torch.Tensor(eos_mask).sum(1))) > 1:\n",
    "        invalid_idx = [\n",
    "            idx for idx, mask in enumerate(eos_mask) if mask.sum() > 1\n",
    "        ]\n",
    "        # print(invalid_idx)\n",
    "        for idx in invalid_idx:\n",
    "            invalid_token_idx = [\n",
    "                idx for idx, mask in enumerate(eos_mask[idx]) if mask == 1\n",
    "            ]\n",
    "            if len(invalid_token_idx) < 1:\n",
    "                continue\n",
    "            for invalid_token_pos in range(len(invalid_token_idx) - 1):\n",
    "                # print(tokenizer.batch_decode([example[\"input_ids\"][idx]]))\n",
    "                example[\"input_ids\"][idx][\n",
    "                    invalid_token_idx[invalid_token_pos]\n",
    "                ] = unk_id\n",
    "                # print(tokenizer.batch_decode([example[\"input_ids\"][idx]]))\n",
    "\n",
    "    return example\n",
    "\n",
    "\n",
    "train_plbart_dataset = train_plbart_dataset.map(replaceNegative, batched=True)\n",
    "test_plbart_dataset = test_plbart_dataset.map(replaceNegative, batched=True)\n",
    "train_plbart_dataset.set_format(\n",
    "    type=\"torch\", columns=[\"input_ids\", \"attention_mask\", \"labels\"]\n",
    ")\n",
    "test_plbart_dataset.set_format(\n",
    "    type=\"torch\", columns=[\"input_ids\", \"attention_mask\", \"labels\"]\n",
    ")"
   ]
  },
  {
   "cell_type": "code",
   "execution_count": 14,
   "id": "baa34a7f-9ad8-4445-ae2a-a18721ae025b",
   "metadata": {},
   "outputs": [],
   "source": [
    "\n",
    "train_plbart_dataset = train_plbart_dataset.train_test_split(test_size=0.01)"
   ]
  },
  {
   "cell_type": "code",
   "execution_count": 15,
   "id": "fec80bd9-4a85-44c5-8dc5-563c3b309c8a",
   "metadata": {},
   "outputs": [],
   "source": [
    "\n",
    "metric = load_metric(\"accuracy\")\n",
    "\n",
    "\n",
    "def compute_metrics(\n",
    "    eval_pred,\n",
    "):  # this part prob wont work, parameter should be removed from trainer probably\n",
    "    logits, labels = eval_pred\n",
    "\n",
    "    predictions = np.argmax(logits[0], axis=-1)\n",
    "    return metric.compute(predictions=predictions, references=labels)\n",
    "\n",
    "\n",
    "from torch import nn\n",
    "from transformers import Trainer\n",
    "\n",
    "\n",
    "\n",
    "class CustomTrainer(Trainer):\n",
    "    def compute_loss(self, model, inputs, return_outputs=False):\n",
    "        labels = inputs.get(\"labels\")\n",
    "        # forward pass\n",
    "        outputs = model(**inputs)\n",
    "        logits = outputs.get(\"logits\")\n",
    "        # compute custom loss (suppose one has 3 labels with different weights)\n",
    "        loss_fct = nn.CrossEntropyLoss(\n",
    "            weight=torch.tensor([1.0, 2.0, 3.0])\n",
    "        )  # calculate weights\n",
    "        loss = loss_fct(\n",
    "            logits.view(-1, self.model.config.num_labels), labels.view(-1)\n",
    "        )\n",
    "        return (loss, outputs) if return_outputs else loss"
   ]
  },
  {
   "cell_type": "code",
   "execution_count": 16,
   "id": "4de39138-baa1-4b51-bcc4-fca314208fe8",
   "metadata": {},
   "outputs": [
    {
     "name": "stderr",
     "output_type": "stream",
     "text": [
      "PyTorch: setting up devices\n",
      "The default value for the training argument `--report_to` will change in v5 (from all installed integrations to none). In v5, you will need to use `--report_to all` to get the same behavior as now. You should start updating your code and make this info disappear :-).\n",
      "loading configuration file results_ken/plbart_classifier/checkpoint-43000/config.json\n",
      "Model config PLBartConfig {\n",
      "  \"_name_or_path\": \"uclanlp/plbart-base\",\n",
      "  \"activation_dropout\": 0.0,\n",
      "  \"activation_function\": \"gelu\",\n",
      "  \"architectures\": [\n",
      "    \"PLBartForSequenceClassification\"\n",
      "  ],\n",
      "  \"attention_dropout\": 0.1,\n",
      "  \"bos_token_id\": 0,\n",
      "  \"classifier_dropout\": 0.0,\n",
      "  \"d_model\": 768,\n",
      "  \"decoder_attention_heads\": 12,\n",
      "  \"decoder_ffn_dim\": 3072,\n",
      "  \"decoder_layerdrop\": 0.0,\n",
      "  \"decoder_layers\": 6,\n",
      "  \"dropout\": 0.1,\n",
      "  \"encoder_attention_heads\": 12,\n",
      "  \"encoder_ffn_dim\": 3072,\n",
      "  \"encoder_layerdrop\": 0.0,\n",
      "  \"encoder_layers\": 6,\n",
      "  \"eos_token_id\": 2,\n",
      "  \"forced_eos_token_id\": 2,\n",
      "  \"id2label\": {\n",
      "    \"0\": \"LABEL_0\",\n",
      "    \"1\": \"LABEL_1\",\n",
      "    \"2\": \"LABEL_2\",\n",
      "    \"3\": \"LABEL_3\",\n",
      "    \"4\": \"LABEL_4\",\n",
      "    \"5\": \"LABEL_5\",\n",
      "    \"6\": \"LABEL_6\",\n",
      "    \"7\": \"LABEL_7\",\n",
      "    \"8\": \"LABEL_8\",\n",
      "    \"9\": \"LABEL_9\",\n",
      "    \"10\": \"LABEL_10\",\n",
      "    \"11\": \"LABEL_11\",\n",
      "    \"12\": \"LABEL_12\",\n",
      "    \"13\": \"LABEL_13\",\n",
      "    \"14\": \"LABEL_14\",\n",
      "    \"15\": \"LABEL_15\",\n",
      "    \"16\": \"LABEL_16\",\n",
      "    \"17\": \"LABEL_17\",\n",
      "    \"18\": \"LABEL_18\",\n",
      "    \"19\": \"LABEL_19\",\n",
      "    \"20\": \"LABEL_20\",\n",
      "    \"21\": \"LABEL_21\",\n",
      "    \"22\": \"LABEL_22\",\n",
      "    \"23\": \"LABEL_23\",\n",
      "    \"24\": \"LABEL_24\",\n",
      "    \"25\": \"LABEL_25\",\n",
      "    \"26\": \"LABEL_26\"\n",
      "  },\n",
      "  \"init_std\": 0.02,\n",
      "  \"is_encoder_decoder\": true,\n",
      "  \"label2id\": {\n",
      "    \"LABEL_0\": 0,\n",
      "    \"LABEL_1\": 1,\n",
      "    \"LABEL_10\": 10,\n",
      "    \"LABEL_11\": 11,\n",
      "    \"LABEL_12\": 12,\n",
      "    \"LABEL_13\": 13,\n",
      "    \"LABEL_14\": 14,\n",
      "    \"LABEL_15\": 15,\n",
      "    \"LABEL_16\": 16,\n",
      "    \"LABEL_17\": 17,\n",
      "    \"LABEL_18\": 18,\n",
      "    \"LABEL_19\": 19,\n",
      "    \"LABEL_2\": 2,\n",
      "    \"LABEL_20\": 20,\n",
      "    \"LABEL_21\": 21,\n",
      "    \"LABEL_22\": 22,\n",
      "    \"LABEL_23\": 23,\n",
      "    \"LABEL_24\": 24,\n",
      "    \"LABEL_25\": 25,\n",
      "    \"LABEL_26\": 26,\n",
      "    \"LABEL_3\": 3,\n",
      "    \"LABEL_4\": 4,\n",
      "    \"LABEL_5\": 5,\n",
      "    \"LABEL_6\": 6,\n",
      "    \"LABEL_7\": 7,\n",
      "    \"LABEL_8\": 8,\n",
      "    \"LABEL_9\": 9\n",
      "  },\n",
      "  \"max_position_embeddings\": 1024,\n",
      "  \"model_type\": \"plbart\",\n",
      "  \"num_hidden_layers\": 6,\n",
      "  \"pad_token_id\": 1,\n",
      "  \"problem_type\": \"single_label_classification\",\n",
      "  \"scale_embedding\": true,\n",
      "  \"torch_dtype\": \"float32\",\n",
      "  \"transformers_version\": \"4.17.0\",\n",
      "  \"use_cache\": true,\n",
      "  \"vocab_size\": 50005\n",
      "}\n",
      "\n",
      "loading weights file results_ken/plbart_classifier/checkpoint-43000/pytorch_model.bin\n",
      "All model checkpoint weights were used when initializing PLBartForSequenceClassification.\n",
      "\n",
      "All the weights of PLBartForSequenceClassification were initialized from the model checkpoint at results_ken/plbart_classifier/checkpoint-43000.\n",
      "If your task is similar to the task the model of the checkpoint was trained on, you can already use PLBartForSequenceClassification for predictions without further training.\n",
      "The following columns in the test set  don't have a corresponding argument in `PLBartForSequenceClassification.forward` and have been ignored: class_parents_count, upper_case_var, lambda, id_total, ds_word_len_avg, comment_total_len, internal_method, other_case_method_ratio, lower_case_class_ratio, func_async_count, func_count, ds_word_len_total, id_total_var, parse_error, repository, other_case_var_ratio, id_total_class, class_count, lower_case_method, snake_case_ratio, issue_events, ds_count, comprehensions, upper_camel_case, lower_camel_case_ratio, func_decorators_avg, upper_case_method_ratio, lower_camel_case_method_ratio, class_decorators_count, __index_level_0__, stars, lower_case, upper_case_class_ratio, generators_avg, other_case_method, upper_case_ratio, lower_case_var_ratio, ds_density, snake_case_class_ratio, lower_camel_case_class, lower_camel_case_class_ratio, lower_case_var, lower_camel_case_var_ratio, ds_line_count, upper_camel_case_method, line_count, ds_char_len_avg, lower_camel_case, snake_case_class, other_case, generators, lower_case_ratio, class_parents_avg, comprehensions_avg, func_decorators_count, comment_count, other_case_class_ratio, other_case_var, content, overridden_method, upper_case_var_ratio, class_decorators_avg, snake_case_method_ratio, ds_char_len_total, func_async_ratio, upper_camel_case_var_ratio, other_case_ratio, upper_camel_case_ratio, other_case_class, snake_case, upper_case_class, upper_case, comment_avg_len, upper_camel_case_var, upper_case_method, lower_case_method_ratio, snake_case_method, lambda_avg, upper_camel_case_class_ratio, snake_case_var_ratio, forks, upper_camel_case_class, comment_density, snake_case_var, lower_camel_case_var, lower_case_class, id_total_method, lower_camel_case_method, file, filepath, upper_camel_case_method_ratio, ds_of_method. If class_parents_count, upper_case_var, lambda, id_total, ds_word_len_avg, comment_total_len, internal_method, other_case_method_ratio, lower_case_class_ratio, func_async_count, func_count, ds_word_len_total, id_total_var, parse_error, repository, other_case_var_ratio, id_total_class, class_count, lower_case_method, snake_case_ratio, issue_events, ds_count, comprehensions, upper_camel_case, lower_camel_case_ratio, func_decorators_avg, upper_case_method_ratio, lower_camel_case_method_ratio, class_decorators_count, __index_level_0__, stars, lower_case, upper_case_class_ratio, generators_avg, other_case_method, upper_case_ratio, lower_case_var_ratio, ds_density, snake_case_class_ratio, lower_camel_case_class, lower_camel_case_class_ratio, lower_case_var, lower_camel_case_var_ratio, ds_line_count, upper_camel_case_method, line_count, ds_char_len_avg, lower_camel_case, snake_case_class, other_case, generators, lower_case_ratio, class_parents_avg, comprehensions_avg, func_decorators_count, comment_count, other_case_class_ratio, other_case_var, content, overridden_method, upper_case_var_ratio, class_decorators_avg, snake_case_method_ratio, ds_char_len_total, func_async_ratio, upper_camel_case_var_ratio, other_case_ratio, upper_camel_case_ratio, other_case_class, snake_case, upper_case_class, upper_case, comment_avg_len, upper_camel_case_var, upper_case_method, lower_case_method_ratio, snake_case_method, lambda_avg, upper_camel_case_class_ratio, snake_case_var_ratio, forks, upper_camel_case_class, comment_density, snake_case_var, lower_camel_case_var, lower_case_class, id_total_method, lower_camel_case_method, file, filepath, upper_camel_case_method_ratio, ds_of_method are not expected by `PLBartForSequenceClassification.forward`,  you can safely ignore this message.\n",
      "***** Running Prediction *****\n",
      "  Num examples = 1721\n",
      "  Batch size = 16\n"
     ]
    },
    {
     "data": {
      "text/html": [
       "\n",
       "    <div>\n",
       "      \n",
       "      <progress value='108' max='108' style='width:300px; height:20px; vertical-align: middle;'></progress>\n",
       "      [108/108 00:40]\n",
       "    </div>\n",
       "    "
      ],
      "text/plain": [
       "<IPython.core.display.HTML object>"
      ]
     },
     "metadata": {},
     "output_type": "display_data"
    }
   ],
   "source": [
    "from transformers import (\n",
    "    AutoModelForSequenceClassification,\n",
    "    TrainingArguments,\n",
    "    Trainer,\n",
    "    PLBartForSequenceClassification,\n",
    ")\n",
    "\n",
    "training_args = TrainingArguments(\n",
    "    # change the path cuz I got permission denied...\n",
    "    output_dir=\"./results_ken/plbart_classifier_eval_added\",\n",
    "    learning_rate=1e-4,  # 2e-5, #\n",
    "    per_device_train_batch_size=4,\n",
    "    per_device_eval_batch_size=16,\n",
    "    num_train_epochs=4,\n",
    "    weight_decay=0.01,\n",
    "    evaluation_strategy=\"epoch\",\n",
    "    save_strategy=\"epoch\",\n",
    "    eval_accumulation_steps=100,\n",
    ")\n",
    "all_preds = []\n",
    "for filename in ckpt_filenames:\n",
    "    model = PLBartForSequenceClassification.from_pretrained(\n",
    "        filename, num_labels=27\n",
    "    )\n",
    "    trainer = Trainer(\n",
    "        model=model,\n",
    "        args=training_args,\n",
    "        train_dataset=train_plbart_dataset[\"train\"],\n",
    "        eval_dataset=train_plbart_dataset[\"test\"],\n",
    "        tokenizer=tokenizer,\n",
    "        compute_metrics=compute_metrics,\n",
    "        # data_collator=data_collator,\n",
    "    )\n",
    "\n",
    "    preds = trainer.predict(train_plbart_dataset[\"test\"])\n",
    "    all_preds += [preds]\n",
    "    break"
   ]
  },
  {
   "cell_type": "code",
   "execution_count": 17,
   "id": "a22447b6-3b6b-4dee-9de3-c463c626f697",
   "metadata": {},
   "outputs": [
    {
     "data": {
      "text/plain": [
       "[{'test_loss': 1.249851942062378,\n",
       "  'test_accuracy': 0.7594421847762929,\n",
       "  'test_runtime': 47.8621,\n",
       "  'test_samples_per_second': 35.957,\n",
       "  'test_steps_per_second': 2.256}]"
      ]
     },
     "execution_count": 17,
     "metadata": {},
     "output_type": "execute_result"
    }
   ],
   "source": [
    "[pred.metrics for pred in all_preds]"
   ]
  },
  {
   "cell_type": "code",
   "execution_count": 24,
   "id": "bebb8861-5970-4998-858c-3668b09504fd",
   "metadata": {},
   "outputs": [
    {
     "data": {
      "text/plain": [
       "array([0, 0, 0, ..., 0, 0, 0])"
      ]
     },
     "execution_count": 24,
     "metadata": {},
     "output_type": "execute_result"
    }
   ],
   "source": [
    "all_preds[0].predictions[0].argmax(-1)"
   ]
  },
  {
   "cell_type": "code",
   "execution_count": 24,
   "id": "9d8401c4-76ee-4fbf-afda-5a87b11f7909",
   "metadata": {},
   "outputs": [
    {
     "data": {
      "text/plain": [
       "139832091"
      ]
     },
     "execution_count": 24,
     "metadata": {},
     "output_type": "execute_result"
    }
   ],
   "source": [
    "sum(p.numel() for p in model.parameters())"
   ]
  },
  {
   "cell_type": "code",
   "execution_count": 34,
   "id": "b4d3634a-68fe-4a26-bdcf-a948aa4ee95a",
   "metadata": {},
   "outputs": [],
   "source": [
    "pred_labels = all_preds[-1].label_ids"
   ]
  },
  {
   "cell_type": "code",
   "execution_count": 35,
   "id": "aeb9d2cd-96c2-4d4f-b0ae-bc806fa4d6b3",
   "metadata": {},
   "outputs": [],
   "source": [
    "pred_labels_df = pd.DataFrame(pred_labels)"
   ]
  },
  {
   "cell_type": "code",
   "execution_count": 36,
   "id": "2e428e5b-8141-4c7e-bb60-24c672e8d884",
   "metadata": {},
   "outputs": [],
   "source": [
    "pred_labels_df.to_csv('plbart_preds.csv')"
   ]
  },
  {
   "cell_type": "code",
   "execution_count": 1,
   "id": "1b09f18e-a0a0-477f-9ae4-762fb280d9d4",
   "metadata": {},
   "outputs": [],
   "source": [
    "import pandas as pd"
   ]
  },
  {
   "cell_type": "code",
   "execution_count": 7,
   "id": "1fee56c5-5ecb-43b2-8e79-d66aa28d47f8",
   "metadata": {},
   "outputs": [],
   "source": [
    "pred_df = pd.read_csv(\"plbart_preds_no_mistake_i_guess.csv\")"
   ]
  },
  {
   "cell_type": "code",
   "execution_count": 10,
   "id": "ca691855-d12d-4bcd-8329-cea3892ce332",
   "metadata": {},
   "outputs": [],
   "source": [
    "pred_df = pd.read_csv(\"plbart_preds_plbart_classifier_no_outliers.csv\")"
   ]
  },
  {
   "cell_type": "code",
   "execution_count": 2,
   "id": "2f059673-8646-45a0-aa71-c6f98b3f3196",
   "metadata": {},
   "outputs": [],
   "source": [
    "pred_df = pd.read_csv(\"plbart_preds_plbart_python_classifier_no_outliers.csv\")"
   ]
  },
  {
   "cell_type": "code",
   "execution_count": 11,
   "id": "5ed7feb9-7745-4937-9584-0bc679020f13",
   "metadata": {},
   "outputs": [],
   "source": [
    "preds = pred_df.to_numpy()[:, 1]"
   ]
  },
  {
   "cell_type": "code",
   "execution_count": 4,
   "id": "07a7c68a-1922-4fb8-bd2e-265b66dc03cb",
   "metadata": {},
   "outputs": [],
   "source": [
    "from datasets import load_from_disk\n",
    "test_plbart_dataset = load_from_disk(\"datasets/plbart_test.hf\")"
   ]
  },
  {
   "cell_type": "code",
   "execution_count": 5,
   "id": "fb2deb0e-2dec-4585-9a46-1450f8eb03b0",
   "metadata": {},
   "outputs": [],
   "source": [
    "golds = [l for l in test_plbart_dataset[\"labels\"] if l != -1]"
   ]
  },
  {
   "cell_type": "code",
   "execution_count": 12,
   "id": "953a0de7-d6e9-467d-95a0-669cfadbd884",
   "metadata": {},
   "outputs": [
    {
     "name": "stdout",
     "output_type": "stream",
     "text": [
      "              precision    recall  f1-score   support\n",
      "\n",
      "           0       0.70      0.69      0.70       136\n",
      "           1       0.51      0.35      0.42       160\n",
      "           2       0.68      0.75      0.71       103\n",
      "           3       0.70      0.70      0.70        98\n",
      "           4       0.69      0.72      0.70       189\n",
      "           5       0.85      0.82      0.84       233\n",
      "           6       0.84      0.75      0.79       763\n",
      "           7       1.00      1.00      1.00      1009\n",
      "           8       0.96      0.93      0.94       267\n",
      "           9       0.55      0.67      0.60       206\n",
      "          10       0.72      0.80      0.75      1113\n",
      "          11       0.85      0.87      0.86       523\n",
      "          12       0.87      0.63      0.73       115\n",
      "          13       0.35      0.37      0.36       168\n",
      "          14       0.60      0.62      0.61       178\n",
      "          15       0.52      0.49      0.50       169\n",
      "          16       0.66      0.66      0.66       538\n",
      "          17       0.91      0.84      0.87       207\n",
      "          18       0.54      0.73      0.62       140\n",
      "          19       0.89      0.87      0.88      2364\n",
      "          20       0.80      0.78      0.79       103\n",
      "          21       0.67      0.38      0.49       125\n",
      "          22       0.77      0.79      0.78       236\n",
      "          23       0.85      0.93      0.89       614\n",
      "          24       0.60      0.60      0.60       258\n",
      "          25       0.96      0.93      0.95       315\n",
      "\n",
      "    accuracy                           0.80     10330\n",
      "   macro avg       0.73      0.72      0.72     10330\n",
      "weighted avg       0.80      0.80      0.80     10330\n",
      "\n"
     ]
    }
   ],
   "source": [
    "from sklearn.metrics import classification_report\n",
    "\n",
    "print(classification_report(golds, preds))"
   ]
  },
  {
   "cell_type": "code",
   "execution_count": 14,
   "id": "78a8a078-208a-4d9c-8d29-87d28c82645c",
   "metadata": {},
   "outputs": [
    {
     "data": {
      "image/png": "[encoded data removed]",
      "text/plain": [
       "<Figure size 720x720 with 2 Axes>"
      ]
     },
     "metadata": {
      "needs_background": "light"
     },
     "output_type": "display_data"
    }
   ],
   "source": [
    "import matplotlib.pyplot as plt\n",
    "from sklearn.metrics import ConfusionMatrixDisplay\n",
    "fig, ax = plt.subplots(figsize=(10, 10))\n",
    "ConfusionMatrixDisplay.from_predictions(preds, golds, include_values=False, ax=ax)\n",
    "plt.show()"
   ]
  },
  {
   "cell_type": "code",
   "execution_count": null,
   "id": "05ce82c4-eeef-433d-b41b-952a86ab36d2",
   "metadata": {},
   "outputs": [],
   "source": []
  }
 ],
 "metadata": {
  "kernelspec": {
   "display_name": "Python 3.8.12",
   "language": "python",
   "name": "python3"
  },
  "language_info": {
   "codemirror_mode": {
    "name": "ipython",
    "version": 3
   },
   "file_extension": ".py",
   "mimetype": "text/x-python",
   "name": "python",
   "nbconvert_exporter": "python",
   "pygments_lexer": "ipython3",
   "version": "3.8.12"
  },
  "vscode": {
   "interpreter": {
    "hash": "4a64bfe93dbb51924a5ad8d7e9312f968a417a773494ea590cc93068d261664b"
   }
  }
 },
 "nbformat": 4,
 "nbformat_minor": 5
}

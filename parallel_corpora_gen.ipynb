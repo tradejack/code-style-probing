{
 "cells": [
  {
   "cell_type": "markdown",
   "id": "6240a9c3-2a43-4db5-b5a8-0b317774946e",
   "metadata": {},
   "source": [
    "# Parallel Corpora for Seq2seq Generation Training"
   ]
  },
  {
   "cell_type": "markdown",
   "id": "3b7b36d8-2b76-45cf-b92c-99be059f0aca",
   "metadata": {},
   "source": [
    "## Comments"
   ]
  },
  {
   "cell_type": "code",
   "execution_count": 2,
   "id": "cb7f8626",
   "metadata": {},
   "outputs": [
    {
     "name": "stdout",
     "output_type": "stream",
     "text": [
      "class MyClass: \n",
      "\t\"\"\"A simple example class\"\"\" \n",
      "\ti = 12345 # le epic comment\n",
      "\twhoa = [i + 1 for i in range(0,10)]\n",
      "\n",
      "\tdef f(self):\n",
      "\t\treturn 'hello world'\n"
     ]
    }
   ],
   "source": [
    "test = \"class MyClass: \\n\\t\\\"\\\"\\\"A simple example class\\\"\\\"\\\" \\n\\ti = 12345 # le epic comment\\n\\twhoa = [i + 1 for i in range(0,10)]\\n\\n\\tdef f(self):\\n\\t\\treturn 'hello world'\"\n",
    "print(test)"
   ]
  },
  {
   "cell_type": "code",
   "execution_count": 10,
   "id": "aaaf7190",
   "metadata": {
    "tags": []
   },
   "outputs": [],
   "source": [
    "import ast\n",
    "def uncomment(source):\n",
    "    \"\"\" \n",
    "    Takes input code and returns code with comments stripped\n",
    "    Input: code (str)\n",
    "    Output: code (str)\n",
    "    \"\"\"\n",
    "    try:\n",
    "        parse = ast.unparse(ast.parse(source))\n",
    "    except:\n",
    "        parse = 'nan'\n",
    "    return parse"
   ]
  },
  {
   "cell_type": "code",
   "execution_count": 12,
   "id": "e8739379-7fe0-474a-8e8c-329afb151d6a",
   "metadata": {},
   "outputs": [
    {
     "data": {
      "text/plain": [
       "'class MyClass:\\n    \"\"\"A simple example class\"\"\"\\n    i = 12345\\n    whoa = [i + 1 for i in range(0, 10)]\\n\\n    def f(self):\\n        return \\'hello world\\''"
      ]
     },
     "execution_count": 12,
     "metadata": {},
     "output_type": "execute_result"
    }
   ],
   "source": [
    "uncomment(test)"
   ]
  },
  {
   "cell_type": "code",
   "execution_count": 29,
   "id": "a980b23c-04c1-4081-bfdf-1208ff12c8c8",
   "metadata": {},
   "outputs": [
    {
     "name": "stderr",
     "output_type": "stream",
     "text": [
      "/tmp/ipykernel_21247/170157074.py:2: DtypeWarning: Columns (83,84,85,86) have mixed types. Specify dtype option on import or set low_memory=False.\n",
      "  bq_df = pd.read_csv(\"data/labeled_code/combined_data.csv\")\n"
     ]
    }
   ],
   "source": [
    "import pandas as pd\n",
    "bq_df = pd.read_csv(\"data/labeled_code/combined_data.csv\")"
   ]
  },
  {
   "cell_type": "code",
   "execution_count": 30,
   "id": "792006c1-7b1c-4538-b6af-f28761051787",
   "metadata": {},
   "outputs": [],
   "source": [
    "bq_df['uncommented_content'] = bq_df['content'].apply(uncomment)"
   ]
  },
  {
   "cell_type": "code",
   "execution_count": 33,
   "id": "d125c799-8b68-452b-8ca0-35e14a48cfac",
   "metadata": {},
   "outputs": [],
   "source": [
    "bq_df.to_csv(\"data/combined_data_uncommented.csv\") #remember to tell karl to dropna"
   ]
  },
  {
   "cell_type": "markdown",
   "id": "2ddb0039-576d-4902-87af-e35c71ba1008",
   "metadata": {},
   "source": [
    "## Classes"
   ]
  },
  {
   "cell_type": "code",
   "execution_count": null,
   "id": "f251df02-c9fb-49b0-977f-194ecd047c83",
   "metadata": {},
   "outputs": [],
   "source": []
  },
  {
   "cell_type": "markdown",
   "id": "c97f4065-eb7e-44ce-b192-ab24f40c9603",
   "metadata": {},
   "source": [
    "## List Comps"
   ]
  },
  {
   "cell_type": "code",
   "execution_count": 11,
   "id": "48699d03-01be-4989-9b51-a86d5eb4988b",
   "metadata": {},
   "outputs": [
    {
     "data": {
      "text/plain": [
       "'class MyClass: \\n\\t\"\"\"A simple example class\"\"\" \\n\\ti = 12345 # le epic comment\\n\\twhoa = [i + 1 for i in range(0,10)]\\n\\n\\tdef f(self):\\n\\t\\treturn \\'hello world\\''"
      ]
     },
     "execution_count": 11,
     "metadata": {},
     "output_type": "execute_result"
    }
   ],
   "source": [
    "test"
   ]
  },
  {
   "cell_type": "code",
   "execution_count": null,
   "id": "3ecd8a2f-e259-4324-ac88-758d8489a7ec",
   "metadata": {},
   "outputs": [],
   "source": []
  }
 ],
 "metadata": {
  "kernelspec": {
   "display_name": "Python 3 (ipykernel)",
   "language": "python",
   "name": "python3"
  },
  "language_info": {
   "codemirror_mode": {
    "name": "ipython",
    "version": 3
   },
   "file_extension": ".py",
   "mimetype": "text/x-python",
   "name": "python",
   "nbconvert_exporter": "python",
   "pygments_lexer": "ipython3",
   "version": "3.9.12"
  }
 },
 "nbformat": 4,
 "nbformat_minor": 5
}

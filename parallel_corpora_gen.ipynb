{
 "cells": [
  {
   "cell_type": "markdown",
   "id": "6240a9c3-2a43-4db5-b5a8-0b317774946e",
   "metadata": {},
   "source": [
    "# Parallel Corpora for Seq2seq Generation Training"
   ]
  },
  {
   "cell_type": "markdown",
   "id": "3b7b36d8-2b76-45cf-b92c-99be059f0aca",
   "metadata": {},
   "source": [
    "## Comments"
   ]
  },
  {
   "cell_type": "code",
   "execution_count": 2,
   "id": "cb7f8626",
   "metadata": {},
   "outputs": [
    {
     "name": "stdout",
     "output_type": "stream",
     "text": [
      "class MyClass: \n",
      "\t\"\"\"A simple example class\"\"\" \n",
      "\ti = 12345 # le epic comment\n",
      "\twhoa = [i + 1 for i in range(0,10)]\n",
      "\n",
      "\tdef f(self):\n",
      "\t\treturn 'hello world'\n"
     ]
    }
   ],
   "source": [
    "test = \"class MyClass: \\n\\t\\\"\\\"\\\"A simple example class\\\"\\\"\\\" \\n\\ti = 12345 # le epic comment\\n\\twhoa = [i + 1 for i in range(0,10)]\\n\\n\\tdef f(self):\\n\\t\\treturn 'hello world'\"\n",
    "print(test)"
   ]
  },
  {
   "cell_type": "code",
   "execution_count": 10,
   "id": "aaaf7190",
   "metadata": {
    "tags": []
   },
   "outputs": [],
   "source": [
    "import ast\n",
    "def uncomment(source):\n",
    "    \"\"\" \n",
    "    Takes input code and returns code with comments stripped\n",
    "    Input: code (str)\n",
    "    Output: code (str)\n",
    "    \"\"\"\n",
    "    try:\n",
    "        parse = ast.unparse(ast.parse(source))\n",
    "    except:\n",
    "        parse = 'nan'\n",
    "    return parse"
   ]
  },
  {
   "cell_type": "code",
   "execution_count": 12,
   "id": "e8739379-7fe0-474a-8e8c-329afb151d6a",
   "metadata": {},
   "outputs": [
    {
     "data": {
      "text/plain": [
       "'class MyClass:\\n    \"\"\"A simple example class\"\"\"\\n    i = 12345\\n    whoa = [i + 1 for i in range(0, 10)]\\n\\n    def f(self):\\n        return \\'hello world\\''"
      ]
     },
     "execution_count": 12,
     "metadata": {},
     "output_type": "execute_result"
    }
   ],
   "source": [
    "uncomment(test)"
   ]
  },
  {
   "cell_type": "code",
   "execution_count": 20,
   "id": "a980b23c-04c1-4081-bfdf-1208ff12c8c8",
   "metadata": {},
   "outputs": [
    {
     "name": "stderr",
     "output_type": "stream",
     "text": [
      "/tmp/ipykernel_21247/170157074.py:2: DtypeWarning: Columns (83,84,85,86) have mixed types. Specify dtype option on import or set low_memory=False.\n",
      "  bq_df = pd.read_csv(\"data/labeled_code/combined_data.csv\")\n"
     ]
    }
   ],
   "source": [
    "import pandas as pd\n",
    "bq_df = pd.read_csv(\"data/labeled_code/combined_data.csv\")"
   ]
  },
  {
   "cell_type": "code",
   "execution_count": 30,
   "id": "792006c1-7b1c-4538-b6af-f28761051787",
   "metadata": {},
   "outputs": [],
   "source": [
    "bq_df['uncommented_content'] = bq_df['content'].apply(uncomment)"
   ]
  },
  {
   "cell_type": "code",
   "execution_count": 33,
   "id": "d125c799-8b68-452b-8ca0-35e14a48cfac",
   "metadata": {},
   "outputs": [],
   "source": [
    "bq_df.to_csv(\"data/combined_data_uncommented.csv\") #remember to tell karl to dropna"
   ]
  },
  {
   "cell_type": "markdown",
   "id": "2ddb0039-576d-4902-87af-e35c71ba1008",
   "metadata": {},
   "source": [
    "## Classes"
   ]
  },
  {
   "cell_type": "code",
   "execution_count": 43,
   "id": "f251df02-c9fb-49b0-977f-194ecd047c83",
   "metadata": {},
   "outputs": [],
   "source": [
    "import pandas as pd"
   ]
  },
  {
   "cell_type": "code",
   "execution_count": 44,
   "id": "ee05756c-c3e8-4ba3-9f51-249652eed2f4",
   "metadata": {},
   "outputs": [],
   "source": [
    "# !pip install astunparse\n",
    "import astunparse\n",
    "import ast"
   ]
  },
  {
   "cell_type": "code",
   "execution_count": 55,
   "id": "a10e4752-16e6-48c7-98b3-5c68a953fde5",
   "metadata": {},
   "outputs": [],
   "source": [
    "def extract_func_from_class_node(class_node):\n",
    "    func_list = class_node.body\n",
    "    for func_node in func_list:\n",
    "        if type(func_node) != ast.FunctionDef:\n",
    "            continue\n",
    "        arg_list = func_node.args.args\n",
    "        new_arg_list = []\n",
    "        for arg in arg_list:\n",
    "            if arg.arg == \"self\" or arg.arg == \"cls\":\n",
    "                continue\n",
    "            new_arg_list += [arg]\n",
    "        func_node.args.args = new_arg_list\n",
    "    return func_list\n",
    "def remove_class_from_ast(ast_tree):\n",
    "    class_nodes = []\n",
    "    for node in ast.walk(ast_tree):\n",
    "        for idx, child in enumerate(ast.iter_child_nodes(node)):\n",
    "            if type(child) == ast.ClassDef:\n",
    "                child.parent = node\n",
    "                if type(node) in [ast.If, ast.Try, ast.For]:\n",
    "                    if child in node.body:\n",
    "                        # it is in the if\n",
    "                        child.idx = node.body.index(child)\n",
    "                    elif child in node.orelse:\n",
    "                        # it is in the else\n",
    "                        child.idx = node.orelse.index(child)\n",
    "                        child.is_else = True\n",
    "                    elif child in node.finalbody:\n",
    "                        child.idx = node.finalbody.index(child)\n",
    "                        child.is_final = True\n",
    "                    else:\n",
    "                        raise(f\"Not in the body, another speciall case may happen, please look into this node: {ast.dump(node)}\")\n",
    "                else:\n",
    "                    child.idx = node.body.index(child)\n",
    "                    \n",
    "                class_nodes = [child] + class_nodes\n",
    "    \n",
    "    if len(class_nodes) == 0:\n",
    "        # nothing to change\n",
    "        return None\n",
    "    \n",
    "    for class_node in class_nodes:\n",
    "        func_list = extract_func_from_class_node(class_node)\n",
    "        idx = class_node.idx\n",
    "        \n",
    "        # addressing classes in the else condition\n",
    "        if hasattr(class_node, \"is_else\") and class_node.is_else:\n",
    "            class_node.parent.orelse.pop(idx)\n",
    "            class_node.parent.orelse = class_node.parent.orelse[:idx] + func_list + class_node.parent.orelse[idx:]\n",
    "        elif hasattr(class_node, \"is_final\") and class_node.is_final:\n",
    "            class_node.parent.finalbody.pop(idx)\n",
    "            class_node.parent.finalbody = class_node.parent.finalbody[:idx] + func_list + class_node.parent.finalbody[idx:]\n",
    "        else:\n",
    "            class_node.parent.body.pop(idx)\n",
    "            class_node.parent.body = class_node.parent.body[:idx] + func_list + class_node.parent.body[idx:]\n",
    "            \n",
    "    return ast_tree\n",
    "\n",
    "def remove_self_cls_str(script):\n",
    "    return script.replace(\"self.\", \"\").replace(\"cls.\", \"\")\n",
    "\n",
    "def remove_class(script):\n",
    "    ast_tree = ast.parse(script)\n",
    "    processed_ast_tree = remove_class_from_ast(ast_tree)\n",
    "    if processed_ast_tree:\n",
    "        return remove_self_cls_str(astunparse.unparse(processed_ast_tree))\n",
    "    return None"
   ]
  },
  {
   "cell_type": "code",
   "execution_count": 51,
   "id": "17559631-3fad-4519-994d-b19a06896191",
   "metadata": {},
   "outputs": [
    {
     "data": {
      "application/vnd.jupyter.widget-view+json": {
       "model_id": "5f03f6aeddf5469da472942590d972ed",
       "version_major": 2,
       "version_minor": 0
      },
      "text/plain": [
       "  0%|          | 0/208311 [00:00<?, ?it/s]"
      ]
     },
     "metadata": {},
     "output_type": "display_data"
    }
   ],
   "source": [
    "from tqdm.auto import tqdm\n",
    "\n",
    "# the removing classes method only works on python3 code, so we exclude py150k here\n",
    "bq_no_outlier_df = pd.read_csv(\"data/labeled_code/bq_data_no_outlier.csv\")\n",
    "processed_scripts = []\n",
    "for script in tqdm(bq_no_outlier_df['content']):\n",
    "    try:\n",
    "        processed_script = remove_class(script)\n",
    "        processed_scripts += [processed_script]\n",
    "    except SyntaxError:\n",
    "        processed_scripts += [None]\n",
    "    except Exception as e:\n",
    "        print(script)\n",
    "        print(e)\n",
    "        raise(e)\n",
    "bq_no_outlier_df['no_class_content'] = processed_scripts"
   ]
  },
  {
   "cell_type": "code",
   "execution_count": 52,
   "id": "1c51de15-6c15-4749-bcfa-52141f25decf",
   "metadata": {},
   "outputs": [],
   "source": [
    "bq_no_outlier_df.to_csv(\"data/labeled_code/bq_data_no_outlier_no_class.csv\") #remember to tell karl to dropna"
   ]
  },
  {
   "cell_type": "code",
   "execution_count": 57,
   "id": "5409ee46-8b9d-4cb1-bc49-aa7c5abdf0b9",
   "metadata": {},
   "outputs": [],
   "source": [
    "# the removing classes method only works on python3 code, so we exclude py150k here\n",
    "bq_outlier_df = pd.read_csv(\"data/labeled_code/bq_data_outlier.csv\")"
   ]
  },
  {
   "cell_type": "code",
   "execution_count": 58,
   "id": "74e16202-a515-4b42-b7ef-4b7d8a2331a6",
   "metadata": {},
   "outputs": [
    {
     "data": {
      "application/vnd.jupyter.widget-view+json": {
       "model_id": "f46111151c7a437ca88d35014aeeabd9",
       "version_major": 2,
       "version_minor": 0
      },
      "text/plain": [
       "  0%|          | 0/875096 [00:00<?, ?it/s]"
      ]
     },
     "metadata": {},
     "output_type": "display_data"
    }
   ],
   "source": [
    "\n",
    "processed_scripts = []\n",
    "for idx, script in enumerate(tqdm(bq_outlier_df['content'])):\n",
    "    try:\n",
    "        processed_script = remove_class(script)\n",
    "        processed_scripts += [processed_script]\n",
    "    except SyntaxError:\n",
    "        processed_scripts += [None]\n",
    "    except Exception as e:\n",
    "        print(script)\n",
    "        print(e)\n",
    "        raise(e)\n",
    "bq_outlier_df['no_class_content'] = processed_scripts"
   ]
  },
  {
   "cell_type": "code",
   "execution_count": 59,
   "id": "86240923-a4ea-45dd-b2b0-ee303b9f5add",
   "metadata": {},
   "outputs": [],
   "source": [
    "bq_outlier_df.to_csv(\"data/labeled_code/bq_data_outlier_no_class.csv\") #remember to tell karl to dropna"
   ]
  },
  {
   "cell_type": "markdown",
   "id": "c97f4065-eb7e-44ce-b192-ab24f40c9603",
   "metadata": {},
   "source": [
    "## List Comps"
   ]
  },
  {
   "cell_type": "code",
   "execution_count": 11,
   "id": "48699d03-01be-4989-9b51-a86d5eb4988b",
   "metadata": {},
   "outputs": [
    {
     "data": {
      "text/plain": [
       "'class MyClass: \\n\\t\"\"\"A simple example class\"\"\" \\n\\ti = 12345 # le epic comment\\n\\twhoa = [i + 1 for i in range(0,10)]\\n\\n\\tdef f(self):\\n\\t\\treturn \\'hello world\\''"
      ]
     },
     "execution_count": 11,
     "metadata": {},
     "output_type": "execute_result"
    }
   ],
   "source": [
    "test"
   ]
  },
  {
   "cell_type": "code",
   "execution_count": null,
   "id": "3ecd8a2f-e259-4324-ac88-758d8489a7ec",
   "metadata": {},
   "outputs": [],
   "source": []
  }
 ],
 "metadata": {
  "kernelspec": {
   "display_name": "Python 3.8.13",
   "language": "python",
   "name": "python3"
  },
  "language_info": {
   "codemirror_mode": {
    "name": "ipython",
    "version": 3
   },
   "file_extension": ".py",
   "mimetype": "text/x-python",
   "name": "python",
   "nbconvert_exporter": "python",
   "pygments_lexer": "ipython3",
   "version": "3.8.13"
  },
  "vscode": {
   "interpreter": {
    "hash": "4a64bfe93dbb51924a5ad8d7e9312f968a417a773494ea590cc93068d261664b"
   }
  }
 },
 "nbformat": 4,
 "nbformat_minor": 5
}

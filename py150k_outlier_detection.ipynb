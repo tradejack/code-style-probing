{
 "cells": [
  {
   "cell_type": "code",
   "execution_count": 17,
   "metadata": {},
   "outputs": [
    {
     "name": "stdout",
     "output_type": "stream",
     "text": [
      "The lab_black extension is already loaded. To reload it, use:\n",
      "  %reload_ext lab_black\n"
     ]
    }
   ],
   "source": [
    "%load_ext lab_black"
   ]
  },
  {
   "cell_type": "code",
   "execution_count": 18,
   "metadata": {},
   "outputs": [],
   "source": [
    "import pandas as pd\n",
    "from tqdm.auto import tqdm\n",
    "\n",
    "from extract_metrics_py150k import (\n",
    "    read_py150k_ast,\n",
    "    read_py150k_code,\n",
    "    ast_str2tree,\n",
    "    extract_metric_from_ast,\n",
    "    create_df,\n",
    ")\n",
    "from config import PY150K_TRAIN_AST, PY150K_TRAIN_CODE"
   ]
  },
  {
   "cell_type": "code",
   "execution_count": null,
   "metadata": {},
   "outputs": [
    {
     "data": {
      "application/vnd.jupyter.widget-view+json": {
       "model_id": "4841e4de8c074e1984fcd75af1b62d59",
       "version_major": 2,
       "version_minor": 0
      },
      "text/plain": [
       "0it [00:00, ?it/s]"
      ]
     },
     "metadata": {},
     "output_type": "display_data"
    },
    {
     "data": {
      "application/vnd.jupyter.widget-view+json": {
       "model_id": "7cc284479a684b22bb7dcce24638785e",
       "version_major": 2,
       "version_minor": 0
      },
      "text/plain": [
       "  0%|          | 0/100000 [00:00<?, ?it/s]"
      ]
     },
     "metadata": {},
     "output_type": "display_data"
    }
   ],
   "source": [
    "ast_str_list = read_py150k_ast(PY150K_TRAIN_AST)\n",
    "data_metrics = []\n",
    "for ast_str in tqdm(ast_str_list):\n",
    "    ast_tree = ast_str2tree(ast_str)\n",
    "    data_metric = extract_metric_from_ast(ast_tree)\n",
    "    data_metrics.append(data_metric)\n",
    "\n",
    "# sample code for loading Py150k code\n",
    "code_filenames = read_py150k_code(PY150K_TRAIN_CODE)\n",
    "\n",
    "# sample code for extracting metrics from Py150K script\n",
    "train_data_df = create_df(code_filenames)"
   ]
  },
  {
   "cell_type": "code",
   "execution_count": null,
   "metadata": {},
   "outputs": [],
   "source": [
    "def get_user_repo_feat(data_df):\n",
    "    return data_df.apply(\n",
    "        lambda row: f\"{row['user_name']}/{row['repo_name']}\", axis=1\n",
    "    ).tolist()\n",
    "\n",
    "\n",
    "def get_watch_count_feat(data_df):\n",
    "    watch_count = (\n",
    "        pd.read_csv(\"data/watch_count_public_data.csv\")\n",
    "        .rename(columns={\"repo_name\": \"user/repo\"})\n",
    "        .drop(columns=\"Record Count\")\n",
    "    )\n",
    "    return data_df.join(watch_count.set_index(\"user/repo\"), on=\"user/repo\")[\n",
    "        \"watch_count\"\n",
    "    ].tolist()"
   ]
  },
  {
   "cell_type": "code",
   "execution_count": null,
   "metadata": {},
   "outputs": [],
   "source": [
    "len(data_metrics)"
   ]
  },
  {
   "cell_type": "code",
   "execution_count": null,
   "metadata": {},
   "outputs": [],
   "source": [
    "train_data_df[\"data_metric\"] = data_metrics\n",
    "train_data_df[\"user/repo\"] = get_user_repo_feat(train_data_df)\n",
    "train_data_df[\"watch_count\"] = get_watch_count_feat(train_data_df)"
   ]
  },
  {
   "cell_type": "code",
   "execution_count": null,
   "metadata": {},
   "outputs": [],
   "source": [
    "train_plot_df = train_data_df.dropna(subset=[\"watch_count\"])\n",
    "plot_data_metrics = train_plot_df[\"data_metric\"].tolist()\n",
    "# watch_counts = train_plot_df[\"watch_count\"].tolist()"
   ]
  },
  {
   "cell_type": "code",
   "execution_count": null,
   "metadata": {},
   "outputs": [],
   "source": [
    "import numpy as np\n",
    "import matplotlib.pyplot as plt\n",
    "from sklearn.ensemble import IsolationForest\n",
    "from sklearn.neighbors import LocalOutlierFactor"
   ]
  },
  {
   "cell_type": "code",
   "execution_count": null,
   "metadata": {},
   "outputs": [],
   "source": [
    "id_type = \"total\"\n",
    "\n",
    "result = map(\n",
    "    lambda _dict: [\n",
    "        _dict[\"id\"][id_type][\"snake\"],\n",
    "        _dict[\"id\"][id_type][\"lower_camel\"] + _dict[\"id\"][id_type][\"upper_camel\"],\n",
    "    ],\n",
    "    plot_data_metrics,\n",
    ")\n",
    "X = np.array(list(result))\n",
    "\n",
    "clf = IsolationForest(random_state=0).fit(X)\n",
    "predictions = clf.predict(X)\n",
    "# clf = LocalOutlierFactor(n_neighbors=10)\n",
    "# predictions = clf.fit_predict(X)\n",
    "\n",
    "outlier_bool = predictions == -1\n",
    "inlier_bool = predictions == 1\n",
    "\n",
    "fig = plt.figure()\n",
    "ax = fig.add_axes([0, 0, 1, 1])\n",
    "ax.set_ylim([0, 1])\n",
    "\n",
    "ax.scatter(\n",
    "    X[outlier_bool, 0], X[outlier_bool, 1], 0.5, color=\"blue\", label=\"not popular\"\n",
    ")\n",
    "ax.scatter(X[inlier_bool, 0], X[inlier_bool, 1], 0.5, color=\"red\", label=\"popular\")\n",
    "ax.legend()\n",
    "ax.set_title(f\"All Identifiers\")\n",
    "ax.set_xlabel(\"snake %\")\n",
    "ax.set_ylabel(\"camel %\")\n",
    "\n",
    "plt.show()"
   ]
  },
  {
   "cell_type": "code",
   "execution_count": null,
   "metadata": {},
   "outputs": [],
   "source": [
    "id_type = \"var\"\n",
    "result = map(\n",
    "    lambda _dict: [\n",
    "        _dict[\"id\"][id_type][\"snake\"],\n",
    "        _dict[\"id\"][id_type][\"lower_camel\"] + _dict[\"id\"][id_type][\"upper_camel\"],\n",
    "    ],\n",
    "    plot_data_metrics,\n",
    ")\n",
    "X = np.array(list(result))\n",
    "\n",
    "clf = IsolationForest(random_state=0).fit(X)\n",
    "predictions = clf.predict(X)\n",
    "# clf = LocalOutlierFactor(n_neighbors=10)\n",
    "# predictions = clf.fit_predict(X)\n",
    "\n",
    "outlier_bool = predictions == -1\n",
    "inlier_bool = predictions == 1\n",
    "\n",
    "fig = plt.figure()\n",
    "ax = fig.add_axes([0, 0, 1, 1])\n",
    "ax.set_ylim([0, 1])\n",
    "\n",
    "ax.scatter(\n",
    "    X[outlier_bool, 0], X[outlier_bool, 1], 0.5, color=\"blue\", label=\"not popular\"\n",
    ")\n",
    "ax.scatter(X[inlier_bool, 0], X[inlier_bool, 1], 0.5, color=\"red\", label=\"popular\")\n",
    "ax.legend()\n",
    "ax.set_title(f\"Variable Identifiers\")\n",
    "ax.set_xlabel(\"snake %\")\n",
    "ax.set_ylabel(\"camel %\")\n",
    "\n",
    "plt.show()\n",
    "fig.savefig(f\"{id_type}_id.jpg\", dpi=300, bbox_inches=\"tight\")"
   ]
  },
  {
   "cell_type": "code",
   "execution_count": null,
   "metadata": {},
   "outputs": [],
   "source": [
    "id_type = \"class\"\n",
    "result = map(\n",
    "    lambda _dict: [\n",
    "        _dict[\"id\"][id_type][\"snake\"],\n",
    "        _dict[\"id\"][id_type][\"lower_camel\"] + _dict[\"id\"][id_type][\"upper_camel\"],\n",
    "    ],\n",
    "    plot_data_metrics,\n",
    ")\n",
    "X = np.array(list(result))\n",
    "\n",
    "clf = IsolationForest(random_state=0).fit(X)\n",
    "predictions = clf.predict(X)\n",
    "# clf = LocalOutlierFactor(n_neighbors=10)\n",
    "# predictions = clf.fit_predict(X)\n",
    "\n",
    "outlier_bool = predictions == -1\n",
    "inlier_bool = predictions == 1\n",
    "\n",
    "fig = plt.figure()\n",
    "ax = fig.add_axes([0, 0, 1, 1])\n",
    "ax.set_ylim([0, 1])\n",
    "\n",
    "ax.scatter(\n",
    "    X[outlier_bool, 0], X[outlier_bool, 1], 0.5, color=\"blue\", label=\"not popular\"\n",
    ")\n",
    "ax.scatter(X[inlier_bool, 0], X[inlier_bool, 1], 0.5, color=\"red\", label=\"popular\")\n",
    "ax.legend()\n",
    "ax.set_title(f\"Class Identifiers\")\n",
    "ax.set_xlabel(\"snake %\")\n",
    "ax.set_ylabel(\"camel %\")\n",
    "\n",
    "plt.show()\n",
    "fig.savefig(f\"{id_type}_id.jpg\", dpi=300, bbox_inches=\"tight\")"
   ]
  },
  {
   "cell_type": "code",
   "execution_count": null,
   "metadata": {},
   "outputs": [],
   "source": [
    "id_type = \"func\"\n",
    "result = map(\n",
    "    lambda _dict: [\n",
    "        _dict[\"id\"][id_type][\"snake\"],\n",
    "        _dict[\"id\"][id_type][\"lower_camel\"] + _dict[\"id\"][id_type][\"upper_camel\"],\n",
    "    ],\n",
    "    plot_data_metrics,\n",
    ")\n",
    "X = np.array(list(result))\n",
    "\n",
    "clf = IsolationForest(random_state=0).fit(X)\n",
    "predictions = clf.predict(X)\n",
    "# clf = LocalOutlierFactor(n_neighbors=10)\n",
    "# predictions = clf.fit_predict(X)\n",
    "\n",
    "outlier_bool = predictions == -1\n",
    "inlier_bool = predictions == 1\n",
    "\n",
    "fig = plt.figure()\n",
    "ax = fig.add_axes([0, 0, 1, 1])\n",
    "ax.set_ylim([0, 1])\n",
    "\n",
    "ax.scatter(\n",
    "    X[outlier_bool, 0], X[outlier_bool, 1], 0.5, color=\"blue\", label=\"not popular\"\n",
    ")\n",
    "ax.scatter(X[inlier_bool, 0], X[inlier_bool, 1], 0.5, color=\"red\", label=\"popular\")\n",
    "ax.legend()\n",
    "ax.set_title(f\"Function Identifiers\")\n",
    "ax.set_xlabel(\"snake %\")\n",
    "ax.set_ylabel(\"camel %\")\n",
    "\n",
    "plt.show()\n",
    "fig.savefig(f\"{id_type}_id.jpg\", dpi=300, bbox_inches=\"tight\")"
   ]
  }
 ],
 "metadata": {
  "kernelspec": {
   "display_name": "Python 3",
   "language": "python",
   "name": "python3"
  },
  "language_info": {
   "codemirror_mode": {
    "name": "ipython",
    "version": 3
   },
   "file_extension": ".py",
   "mimetype": "text/x-python",
   "name": "python",
   "nbconvert_exporter": "python",
   "pygments_lexer": "ipython3",
   "version": "3.8.13"
  }
 },
 "nbformat": 4,
 "nbformat_minor": 4
}

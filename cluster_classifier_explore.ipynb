{
 "cells": [
  {
   "cell_type": "code",
   "execution_count": 24,
   "id": "7f6e8116-47b3-4f40-ae62-ad433a089ca0",
   "metadata": {},
   "outputs": [],
   "source": [
    "import pickle\n",
    "import numpy as np\n",
    "import pandas as pd\n",
    "from tqdm.auto import tqdm\n",
    "from sklearn.metrics import classification_report\n",
    "from collections import Counter"
   ]
  },
  {
   "cell_type": "code",
   "execution_count": 25,
   "id": "e5eebd03-d036-427b-9528-d0423caa862e",
   "metadata": {},
   "outputs": [
    {
     "name": "stdout",
     "output_type": "stream",
     "text": [
      "Requirement already satisfied: imbalanced-learn in c:\\users\\km201\\appdata\\local\\packages\\pythonsoftwarefoundation.python.3.10_qbz5n2kfra8p0\\localcache\\local-packages\\python310\\site-packages (0.9.1)\n",
      "Requirement already satisfied: scikit-learn>=1.1.0 in c:\\users\\km201\\appdata\\local\\packages\\pythonsoftwarefoundation.python.3.10_qbz5n2kfra8p0\\localcache\\local-packages\\python310\\site-packages (from imbalanced-learn) (1.1.1)\n",
      "Requirement already satisfied: threadpoolctl>=2.0.0 in c:\\users\\km201\\appdata\\local\\packages\\pythonsoftwarefoundation.python.3.10_qbz5n2kfra8p0\\localcache\\local-packages\\python310\\site-packages (from imbalanced-learn) (3.1.0)\n",
      "Requirement already satisfied: joblib>=1.0.0 in c:\\users\\km201\\appdata\\local\\packages\\pythonsoftwarefoundation.python.3.10_qbz5n2kfra8p0\\localcache\\local-packages\\python310\\site-packages (from imbalanced-learn) (1.1.0)\n",
      "Requirement already satisfied: numpy>=1.17.3 in c:\\users\\km201\\appdata\\local\\packages\\pythonsoftwarefoundation.python.3.10_qbz5n2kfra8p0\\localcache\\local-packages\\python310\\site-packages (from imbalanced-learn) (1.22.3)\n",
      "Requirement already satisfied: scipy>=1.3.2 in c:\\users\\km201\\appdata\\local\\packages\\pythonsoftwarefoundation.python.3.10_qbz5n2kfra8p0\\localcache\\local-packages\\python310\\site-packages (from imbalanced-learn) (1.8.1)\n",
      "Note: you may need to restart the kernel to use updated packages.\n"
     ]
    },
    {
     "name": "stderr",
     "output_type": "stream",
     "text": [
      "WARNING: You are using pip version 22.0.4; however, version 22.1.2 is available.\n",
      "You should consider upgrading via the 'C:\\Users\\km201\\AppData\\Local\\Microsoft\\WindowsApps\\PythonSoftwareFoundation.Python.3.10_qbz5n2kfra8p0\\python.exe -m pip install --upgrade pip' command.\n"
     ]
    }
   ],
   "source": [
    "%pip install imbalanced-learn\n"
   ]
  },
  {
   "cell_type": "code",
   "execution_count": 26,
   "id": "d109a8f8-ff48-43f0-8445-70d983c1630d",
   "metadata": {},
   "outputs": [],
   "source": [
    "#internal metrics are generated now and everything is stored in dataframe should be ready for clustering\n",
    "target_features = [\n",
    "     'snake_case_var_ratio',\n",
    "     'snake_case_class_ratio',\n",
    "     'snake_case_method_ratio',\n",
    "     'upper_camel_case_var_ratio',\n",
    "     'upper_camel_case_class_ratio',\n",
    "     'upper_camel_case_method_ratio',\n",
    "     'lower_camel_case_var_ratio',\n",
    "     'lower_camel_case_class_ratio',\n",
    "     'lower_camel_case_method_ratio',\n",
    "     'func_decorators_avg',\n",
    "     'class_decorators_avg',\n",
    "     'class_parents_avg',\n",
    "     'comprehensions_avg',\n",
    "     'generators_avg',\n",
    "     'lambda_avg',\n",
    "     'comment_density',\n",
    "     'ds_density',\n",
    "]"
   ]
  },
  {
   "cell_type": "code",
   "execution_count": 27,
   "id": "667cc484-bd1a-4e35-aa3a-495ec7b5136c",
   "metadata": {},
   "outputs": [],
   "source": [
    "py150k_df = pd.read_csv(\"data/py150k_metric_20220527.csv\")\n",
    "bq_df = pd.read_csv(\"data/bigquery_metric_20220526.csv\")"
   ]
  },
  {
   "cell_type": "code",
   "execution_count": 28,
   "id": "420dac3c-37de-4a29-8b2d-864cbe954bbf",
   "metadata": {},
   "outputs": [],
   "source": [
    "combined_df = pd.concat([py150k_df[target_features], bq_df[target_features]])"
   ]
  },
  {
   "cell_type": "code",
   "execution_count": 29,
   "id": "28280e2c-28f3-435a-b9ac-67d55d2038ff",
   "metadata": {},
   "outputs": [],
   "source": [
    "\n",
    "with open(\"data/combined_dataset/clusters/feature_set_1/full_feature_clusterer.pickle\", \"rb\") as file:\n",
    "    cluster_pred = pickle.load(file)\n",
    "    labels = cluster_pred.labels_\n",
    "    cluster_num = len(np.unique(labels))\n",
    "    X = combined_df[target_features].to_numpy()"
   ]
  },
  {
   "cell_type": "code",
   "execution_count": 30,
   "id": "73fd9464-ecc0-4b21-a74e-3b653a3d7453",
   "metadata": {},
   "outputs": [],
   "source": [
    "from sklearn.linear_model import SGDClassifier\n",
    "# from sklearn.preprocessing import StandardScaler\n",
    "# from sklearn.pipeline import make_pipeline\n",
    "# X = np.array([[-1, -1], [-2, -1], [1, 1], [2, 1]])\n",
    "# Y = np.array([1, 1, 2, 2])\n",
    "# # Always scale the input. The most convenient way is to use a pipeline.\n",
    "# clf = make_pipeline(StandardScaler(),\n",
    "#                     SGDClassifier(max_iter=1000, tol=1e-3))\n",
    "clf = SGDClassifier(max_iter=1000, tol=1e-3)\n"
   ]
  },
  {
   "cell_type": "code",
   "execution_count": 31,
   "id": "f8e1b6f1-7a02-477e-add6-aa3f68c1cba6",
   "metadata": {},
   "outputs": [],
   "source": [
    "non_outliers_bool = labels != -1"
   ]
  },
  {
   "cell_type": "code",
   "execution_count": 32,
   "id": "e4c82fdc-2291-4461-9af9-96fa0f01ad06",
   "metadata": {},
   "outputs": [
    {
     "data": {
      "text/plain": [
       "False"
      ]
     },
     "execution_count": 32,
     "metadata": {},
     "output_type": "execute_result"
    }
   ],
   "source": [
    "non_outliers_bool[108479]"
   ]
  },
  {
   "cell_type": "code",
   "execution_count": 33,
   "id": "5f0dba40-f2a2-4088-92d2-2294bd65c8d2",
   "metadata": {},
   "outputs": [],
   "source": [
    "train_df = combined_df[non_outliers_bool].sample(frac=0.8,random_state=1234)\n",
    "test_df = combined_df[non_outliers_bool].drop(train_df.index)"
   ]
  },
  {
   "cell_type": "code",
   "execution_count": 34,
   "id": "f684a6aa-bc4a-4d09-90ad-d296ce515cb3",
   "metadata": {},
   "outputs": [
    {
     "data": {
      "text/plain": [
       "Int64Index([108479,  66829,  32656,  47535,  68602,  81263,  80319,  44052,\n",
       "             20869,  26188,\n",
       "            ...\n",
       "             79755,  64659,   6510,  35485,  79206,  40687,   5746,  24823,\n",
       "             68562,  15191],\n",
       "           dtype='int64', length=41860)"
      ]
     },
     "execution_count": 34,
     "metadata": {},
     "output_type": "execute_result"
    }
   ],
   "source": [
    "train_df.index"
   ]
  },
  {
   "cell_type": "code",
   "execution_count": 35,
   "id": "5d22c35b-51e8-42e5-8bd1-aecfd96e6fe1",
   "metadata": {},
   "outputs": [],
   "source": [
    "train_X = train_df[target_features].to_numpy()\n",
    "test_X = test_df[target_features].to_numpy()\n"
   ]
  },
  {
   "cell_type": "code",
   "execution_count": 36,
   "id": "73291d71-9ecd-47b2-b575-a6ab4ccf53c1",
   "metadata": {},
   "outputs": [
    {
     "data": {
      "text/html": [
       "<div>\n",
       "<style scoped>\n",
       "    .dataframe tbody tr th:only-of-type {\n",
       "        vertical-align: middle;\n",
       "    }\n",
       "\n",
       "    .dataframe tbody tr th {\n",
       "        vertical-align: top;\n",
       "    }\n",
       "\n",
       "    .dataframe thead th {\n",
       "        text-align: right;\n",
       "    }\n",
       "</style>\n",
       "<table border=\"1\" class=\"dataframe\">\n",
       "  <thead>\n",
       "    <tr style=\"text-align: right;\">\n",
       "      <th></th>\n",
       "      <th>snake_case_var_ratio</th>\n",
       "      <th>snake_case_class_ratio</th>\n",
       "      <th>snake_case_method_ratio</th>\n",
       "      <th>upper_camel_case_var_ratio</th>\n",
       "      <th>upper_camel_case_class_ratio</th>\n",
       "      <th>upper_camel_case_method_ratio</th>\n",
       "      <th>lower_camel_case_var_ratio</th>\n",
       "      <th>lower_camel_case_class_ratio</th>\n",
       "      <th>lower_camel_case_method_ratio</th>\n",
       "      <th>func_decorators_avg</th>\n",
       "      <th>class_decorators_avg</th>\n",
       "      <th>class_parents_avg</th>\n",
       "      <th>comprehensions_avg</th>\n",
       "      <th>generators_avg</th>\n",
       "      <th>lambda_avg</th>\n",
       "      <th>comment_density</th>\n",
       "      <th>ds_density</th>\n",
       "    </tr>\n",
       "  </thead>\n",
       "  <tbody>\n",
       "    <tr>\n",
       "      <th>0</th>\n",
       "      <td>0.000000</td>\n",
       "      <td>0.0</td>\n",
       "      <td>0.000000</td>\n",
       "      <td>0.000000</td>\n",
       "      <td>0.0</td>\n",
       "      <td>0.0</td>\n",
       "      <td>0.000000</td>\n",
       "      <td>0.0</td>\n",
       "      <td>0.0</td>\n",
       "      <td>0.000000</td>\n",
       "      <td>0.0</td>\n",
       "      <td>0.0</td>\n",
       "      <td>0.000000</td>\n",
       "      <td>0.000000</td>\n",
       "      <td>0.0</td>\n",
       "      <td>0.017241</td>\n",
       "      <td>0.000000</td>\n",
       "    </tr>\n",
       "    <tr>\n",
       "      <th>1</th>\n",
       "      <td>0.321321</td>\n",
       "      <td>0.0</td>\n",
       "      <td>0.547619</td>\n",
       "      <td>0.042042</td>\n",
       "      <td>1.0</td>\n",
       "      <td>0.0</td>\n",
       "      <td>0.003003</td>\n",
       "      <td>0.0</td>\n",
       "      <td>0.0</td>\n",
       "      <td>0.285714</td>\n",
       "      <td>0.0</td>\n",
       "      <td>1.0</td>\n",
       "      <td>0.000000</td>\n",
       "      <td>0.002755</td>\n",
       "      <td>0.0</td>\n",
       "      <td>0.066116</td>\n",
       "      <td>0.000000</td>\n",
       "    </tr>\n",
       "    <tr>\n",
       "      <th>2</th>\n",
       "      <td>0.000000</td>\n",
       "      <td>0.0</td>\n",
       "      <td>0.000000</td>\n",
       "      <td>0.000000</td>\n",
       "      <td>0.0</td>\n",
       "      <td>0.0</td>\n",
       "      <td>0.000000</td>\n",
       "      <td>0.0</td>\n",
       "      <td>0.0</td>\n",
       "      <td>0.000000</td>\n",
       "      <td>0.0</td>\n",
       "      <td>0.0</td>\n",
       "      <td>0.000000</td>\n",
       "      <td>0.000000</td>\n",
       "      <td>0.0</td>\n",
       "      <td>0.076923</td>\n",
       "      <td>0.000000</td>\n",
       "    </tr>\n",
       "    <tr>\n",
       "      <th>3</th>\n",
       "      <td>0.307692</td>\n",
       "      <td>0.0</td>\n",
       "      <td>0.000000</td>\n",
       "      <td>0.000000</td>\n",
       "      <td>0.0</td>\n",
       "      <td>0.0</td>\n",
       "      <td>0.000000</td>\n",
       "      <td>0.0</td>\n",
       "      <td>0.0</td>\n",
       "      <td>0.000000</td>\n",
       "      <td>0.0</td>\n",
       "      <td>0.0</td>\n",
       "      <td>0.000000</td>\n",
       "      <td>0.000000</td>\n",
       "      <td>0.0</td>\n",
       "      <td>0.000000</td>\n",
       "      <td>0.000000</td>\n",
       "    </tr>\n",
       "    <tr>\n",
       "      <th>4</th>\n",
       "      <td>0.000000</td>\n",
       "      <td>0.0</td>\n",
       "      <td>0.000000</td>\n",
       "      <td>0.000000</td>\n",
       "      <td>0.0</td>\n",
       "      <td>0.0</td>\n",
       "      <td>0.000000</td>\n",
       "      <td>0.0</td>\n",
       "      <td>0.0</td>\n",
       "      <td>0.000000</td>\n",
       "      <td>0.0</td>\n",
       "      <td>0.0</td>\n",
       "      <td>0.000000</td>\n",
       "      <td>0.000000</td>\n",
       "      <td>0.0</td>\n",
       "      <td>0.090909</td>\n",
       "      <td>0.000000</td>\n",
       "    </tr>\n",
       "    <tr>\n",
       "      <th>...</th>\n",
       "      <td>...</td>\n",
       "      <td>...</td>\n",
       "      <td>...</td>\n",
       "      <td>...</td>\n",
       "      <td>...</td>\n",
       "      <td>...</td>\n",
       "      <td>...</td>\n",
       "      <td>...</td>\n",
       "      <td>...</td>\n",
       "      <td>...</td>\n",
       "      <td>...</td>\n",
       "      <td>...</td>\n",
       "      <td>...</td>\n",
       "      <td>...</td>\n",
       "      <td>...</td>\n",
       "      <td>...</td>\n",
       "      <td>...</td>\n",
       "    </tr>\n",
       "    <tr>\n",
       "      <th>115045</th>\n",
       "      <td>0.053463</td>\n",
       "      <td>0.0</td>\n",
       "      <td>0.500000</td>\n",
       "      <td>0.010936</td>\n",
       "      <td>0.0</td>\n",
       "      <td>0.0</td>\n",
       "      <td>0.004253</td>\n",
       "      <td>0.0</td>\n",
       "      <td>0.0</td>\n",
       "      <td>0.000000</td>\n",
       "      <td>0.0</td>\n",
       "      <td>0.0</td>\n",
       "      <td>0.008514</td>\n",
       "      <td>0.000000</td>\n",
       "      <td>0.0</td>\n",
       "      <td>0.155573</td>\n",
       "      <td>0.137771</td>\n",
       "    </tr>\n",
       "    <tr>\n",
       "      <th>115046</th>\n",
       "      <td>0.087719</td>\n",
       "      <td>0.0</td>\n",
       "      <td>0.750000</td>\n",
       "      <td>0.052632</td>\n",
       "      <td>0.5</td>\n",
       "      <td>0.0</td>\n",
       "      <td>0.000000</td>\n",
       "      <td>0.0</td>\n",
       "      <td>0.0</td>\n",
       "      <td>0.500000</td>\n",
       "      <td>0.0</td>\n",
       "      <td>1.0</td>\n",
       "      <td>0.000000</td>\n",
       "      <td>0.000000</td>\n",
       "      <td>0.0</td>\n",
       "      <td>0.087629</td>\n",
       "      <td>0.000000</td>\n",
       "    </tr>\n",
       "    <tr>\n",
       "      <th>115047</th>\n",
       "      <td>0.191919</td>\n",
       "      <td>0.0</td>\n",
       "      <td>1.000000</td>\n",
       "      <td>0.040404</td>\n",
       "      <td>1.0</td>\n",
       "      <td>0.0</td>\n",
       "      <td>0.000000</td>\n",
       "      <td>0.0</td>\n",
       "      <td>0.0</td>\n",
       "      <td>1.181818</td>\n",
       "      <td>0.0</td>\n",
       "      <td>1.0</td>\n",
       "      <td>0.000000</td>\n",
       "      <td>0.000000</td>\n",
       "      <td>0.0</td>\n",
       "      <td>0.006897</td>\n",
       "      <td>0.131034</td>\n",
       "    </tr>\n",
       "    <tr>\n",
       "      <th>115048</th>\n",
       "      <td>0.021277</td>\n",
       "      <td>0.0</td>\n",
       "      <td>0.800000</td>\n",
       "      <td>0.042553</td>\n",
       "      <td>1.0</td>\n",
       "      <td>0.0</td>\n",
       "      <td>0.000000</td>\n",
       "      <td>0.0</td>\n",
       "      <td>0.2</td>\n",
       "      <td>0.000000</td>\n",
       "      <td>0.0</td>\n",
       "      <td>1.0</td>\n",
       "      <td>0.000000</td>\n",
       "      <td>0.000000</td>\n",
       "      <td>0.0</td>\n",
       "      <td>0.000000</td>\n",
       "      <td>0.000000</td>\n",
       "    </tr>\n",
       "    <tr>\n",
       "      <th>115049</th>\n",
       "      <td>0.003988</td>\n",
       "      <td>0.0</td>\n",
       "      <td>0.958904</td>\n",
       "      <td>0.001662</td>\n",
       "      <td>1.0</td>\n",
       "      <td>0.0</td>\n",
       "      <td>0.000000</td>\n",
       "      <td>0.0</td>\n",
       "      <td>0.0</td>\n",
       "      <td>0.000000</td>\n",
       "      <td>0.0</td>\n",
       "      <td>1.0</td>\n",
       "      <td>0.000000</td>\n",
       "      <td>0.000000</td>\n",
       "      <td>0.0</td>\n",
       "      <td>0.024742</td>\n",
       "      <td>0.000344</td>\n",
       "    </tr>\n",
       "  </tbody>\n",
       "</table>\n",
       "<p>215050 rows × 17 columns</p>\n",
       "</div>"
      ],
      "text/plain": [
       "        snake_case_var_ratio  snake_case_class_ratio  snake_case_method_ratio  \\\n",
       "0                   0.000000                     0.0                 0.000000   \n",
       "1                   0.321321                     0.0                 0.547619   \n",
       "2                   0.000000                     0.0                 0.000000   \n",
       "3                   0.307692                     0.0                 0.000000   \n",
       "4                   0.000000                     0.0                 0.000000   \n",
       "...                      ...                     ...                      ...   \n",
       "115045              0.053463                     0.0                 0.500000   \n",
       "115046              0.087719                     0.0                 0.750000   \n",
       "115047              0.191919                     0.0                 1.000000   \n",
       "115048              0.021277                     0.0                 0.800000   \n",
       "115049              0.003988                     0.0                 0.958904   \n",
       "\n",
       "        upper_camel_case_var_ratio  upper_camel_case_class_ratio  \\\n",
       "0                         0.000000                           0.0   \n",
       "1                         0.042042                           1.0   \n",
       "2                         0.000000                           0.0   \n",
       "3                         0.000000                           0.0   \n",
       "4                         0.000000                           0.0   \n",
       "...                            ...                           ...   \n",
       "115045                    0.010936                           0.0   \n",
       "115046                    0.052632                           0.5   \n",
       "115047                    0.040404                           1.0   \n",
       "115048                    0.042553                           1.0   \n",
       "115049                    0.001662                           1.0   \n",
       "\n",
       "        upper_camel_case_method_ratio  lower_camel_case_var_ratio  \\\n",
       "0                                 0.0                    0.000000   \n",
       "1                                 0.0                    0.003003   \n",
       "2                                 0.0                    0.000000   \n",
       "3                                 0.0                    0.000000   \n",
       "4                                 0.0                    0.000000   \n",
       "...                               ...                         ...   \n",
       "115045                            0.0                    0.004253   \n",
       "115046                            0.0                    0.000000   \n",
       "115047                            0.0                    0.000000   \n",
       "115048                            0.0                    0.000000   \n",
       "115049                            0.0                    0.000000   \n",
       "\n",
       "        lower_camel_case_class_ratio  lower_camel_case_method_ratio  \\\n",
       "0                                0.0                            0.0   \n",
       "1                                0.0                            0.0   \n",
       "2                                0.0                            0.0   \n",
       "3                                0.0                            0.0   \n",
       "4                                0.0                            0.0   \n",
       "...                              ...                            ...   \n",
       "115045                           0.0                            0.0   \n",
       "115046                           0.0                            0.0   \n",
       "115047                           0.0                            0.0   \n",
       "115048                           0.0                            0.2   \n",
       "115049                           0.0                            0.0   \n",
       "\n",
       "        func_decorators_avg  class_decorators_avg  class_parents_avg  \\\n",
       "0                  0.000000                   0.0                0.0   \n",
       "1                  0.285714                   0.0                1.0   \n",
       "2                  0.000000                   0.0                0.0   \n",
       "3                  0.000000                   0.0                0.0   \n",
       "4                  0.000000                   0.0                0.0   \n",
       "...                     ...                   ...                ...   \n",
       "115045             0.000000                   0.0                0.0   \n",
       "115046             0.500000                   0.0                1.0   \n",
       "115047             1.181818                   0.0                1.0   \n",
       "115048             0.000000                   0.0                1.0   \n",
       "115049             0.000000                   0.0                1.0   \n",
       "\n",
       "        comprehensions_avg  generators_avg  lambda_avg  comment_density  \\\n",
       "0                 0.000000        0.000000         0.0         0.017241   \n",
       "1                 0.000000        0.002755         0.0         0.066116   \n",
       "2                 0.000000        0.000000         0.0         0.076923   \n",
       "3                 0.000000        0.000000         0.0         0.000000   \n",
       "4                 0.000000        0.000000         0.0         0.090909   \n",
       "...                    ...             ...         ...              ...   \n",
       "115045            0.008514        0.000000         0.0         0.155573   \n",
       "115046            0.000000        0.000000         0.0         0.087629   \n",
       "115047            0.000000        0.000000         0.0         0.006897   \n",
       "115048            0.000000        0.000000         0.0         0.000000   \n",
       "115049            0.000000        0.000000         0.0         0.024742   \n",
       "\n",
       "        ds_density  \n",
       "0         0.000000  \n",
       "1         0.000000  \n",
       "2         0.000000  \n",
       "3         0.000000  \n",
       "4         0.000000  \n",
       "...            ...  \n",
       "115045    0.137771  \n",
       "115046    0.000000  \n",
       "115047    0.131034  \n",
       "115048    0.000000  \n",
       "115049    0.000344  \n",
       "\n",
       "[215050 rows x 17 columns]"
      ]
     },
     "metadata": {},
     "output_type": "display_data"
    }
   ],
   "source": [
    "#issue here with the indexes since they are not reset after concatting\n",
    "train_y = [labels[idx] for idx in train_df.index]\n",
    "test_y = [labels[idx] for idx in test_df.index]\n",
    "display(combined_df)"
   ]
  },
  {
   "cell_type": "code",
   "execution_count": 37,
   "id": "ca42b31e-d744-4d43-b2f7-823290479bf8",
   "metadata": {},
   "outputs": [
    {
     "data": {
      "text/plain": [
       "Int64Index([108479,  66829,  32656,  47535,  68602,  81263,  80319,  44052,\n",
       "             20869,  26188,\n",
       "            ...\n",
       "             79755,  64659,   6510,  35485,  79206,  40687,   5746,  24823,\n",
       "             68562,  15191],\n",
       "           dtype='int64', length=41860)"
      ]
     },
     "execution_count": 37,
     "metadata": {},
     "output_type": "execute_result"
    }
   ],
   "source": [
    "# corrected label setup\n",
    "combined_df['labels'] = labels\n",
    "filtered_df = combined_df[combined_df['labels'] != -1]\n",
    "#filtered_df = combined_df\n",
    "\n",
    "train_df = filtered_df.sample(frac=0.8,random_state=1234)\n",
    "test_df = filtered_df.drop(train_df.index)\n",
    "\n",
    "train_X = train_df[target_features].to_numpy()\n",
    "test_X = test_df[target_features].to_numpy()\n",
    "\n",
    "train_y = train_df['labels'].to_list()\n",
    "test_y = test_df['labels'].to_list()\n",
    "train_df.index\n"
   ]
  },
  {
   "cell_type": "code",
   "execution_count": 38,
   "id": "7fddfff0-dba6-45ee-bb7c-e0ee66a5067f",
   "metadata": {},
   "outputs": [],
   "source": [
    "result = {}"
   ]
  },
  {
   "cell_type": "code",
   "execution_count": 39,
   "id": "fd4ed140-4a23-4d7d-b2a5-8d5ab7062308",
   "metadata": {},
   "outputs": [
    {
     "name": "stderr",
     "output_type": "stream",
     "text": [
      "C:\\Users\\km201\\AppData\\Local\\Packages\\PythonSoftwareFoundation.Python.3.10_qbz5n2kfra8p0\\LocalCache\\local-packages\\Python310\\site-packages\\sklearn\\metrics\\_classification.py:1327: UndefinedMetricWarning: Precision and F-score are ill-defined and being set to 0.0 in labels with no predicted samples. Use `zero_division` parameter to control this behavior.\n",
      "  _warn_prf(average, modifier, msg_start, len(result))\n",
      "C:\\Users\\km201\\AppData\\Local\\Packages\\PythonSoftwareFoundation.Python.3.10_qbz5n2kfra8p0\\LocalCache\\local-packages\\Python310\\site-packages\\sklearn\\metrics\\_classification.py:1327: UndefinedMetricWarning: Precision and F-score are ill-defined and being set to 0.0 in labels with no predicted samples. Use `zero_division` parameter to control this behavior.\n",
      "  _warn_prf(average, modifier, msg_start, len(result))\n",
      "C:\\Users\\km201\\AppData\\Local\\Packages\\PythonSoftwareFoundation.Python.3.10_qbz5n2kfra8p0\\LocalCache\\local-packages\\Python310\\site-packages\\sklearn\\metrics\\_classification.py:1327: UndefinedMetricWarning: Precision and F-score are ill-defined and being set to 0.0 in labels with no predicted samples. Use `zero_division` parameter to control this behavior.\n",
      "  _warn_prf(average, modifier, msg_start, len(result))\n",
      "C:\\Users\\km201\\AppData\\Local\\Packages\\PythonSoftwareFoundation.Python.3.10_qbz5n2kfra8p0\\LocalCache\\local-packages\\Python310\\site-packages\\sklearn\\metrics\\_classification.py:1327: UndefinedMetricWarning: Precision and F-score are ill-defined and being set to 0.0 in labels with no predicted samples. Use `zero_division` parameter to control this behavior.\n",
      "  _warn_prf(average, modifier, msg_start, len(result))\n",
      "C:\\Users\\km201\\AppData\\Local\\Packages\\PythonSoftwareFoundation.Python.3.10_qbz5n2kfra8p0\\LocalCache\\local-packages\\Python310\\site-packages\\sklearn\\metrics\\_classification.py:1327: UndefinedMetricWarning: Precision and F-score are ill-defined and being set to 0.0 in labels with no predicted samples. Use `zero_division` parameter to control this behavior.\n",
      "  _warn_prf(average, modifier, msg_start, len(result))\n",
      "C:\\Users\\km201\\AppData\\Local\\Packages\\PythonSoftwareFoundation.Python.3.10_qbz5n2kfra8p0\\LocalCache\\local-packages\\Python310\\site-packages\\sklearn\\metrics\\_classification.py:1327: UndefinedMetricWarning: Precision and F-score are ill-defined and being set to 0.0 in labels with no predicted samples. Use `zero_division` parameter to control this behavior.\n",
      "  _warn_prf(average, modifier, msg_start, len(result))\n"
     ]
    }
   ],
   "source": [
    "\n",
    "clf = SGDClassifier(\"hinge\",max_iter=1000000, tol=1e-3, verbose=0, early_stopping=True, class_weight='balanced').fit(train_X, train_y)\n",
    "\n",
    "preds = clf.predict(train_X)\n",
    "report = classification_report(train_y, preds, output_dict=True)\n",
    "result[\"svm_train\"] = report.copy()\n",
    "\n",
    "preds = clf.predict(test_X)\n",
    "report = classification_report(test_y, preds, output_dict=True)\n",
    "result[\"svm_test\"] = report.copy()"
   ]
  },
  {
   "cell_type": "code",
   "execution_count": 40,
   "id": "67e3ead1-b6df-4431-9504-58565b5645e4",
   "metadata": {},
   "outputs": [
    {
     "name": "stdout",
     "output_type": "stream",
     "text": [
      "[(0, 424), (1, 424), (2, 424), (3, 424), (4, 424), (5, 424), (6, 424), (7, 424), (8, 424), (9, 424), (10, 424), (11, 424), (12, 424), (13, 424), (14, 424), (15, 424), (16, 424), (17, 424), (18, 424), (19, 424), (20, 424), (21, 424), (22, 424), (23, 424), (24, 424), (25, 424)]\n"
     ]
    }
   ],
   "source": [
    "from imblearn.under_sampling import RandomUnderSampler\n",
    "rus = RandomUnderSampler(random_state=0)\n",
    "X_resampled, y_resampled = rus.fit_resample(train_X, train_y)\n",
    "print(sorted(Counter(y_resampled).items()))\n"
   ]
  },
  {
   "cell_type": "code",
   "execution_count": 41,
   "id": "f8075aea-2e1e-4ba9-8466-9b14d11b4440",
   "metadata": {},
   "outputs": [
    {
     "name": "stderr",
     "output_type": "stream",
     "text": [
      "C:\\Users\\km201\\AppData\\Local\\Packages\\PythonSoftwareFoundation.Python.3.10_qbz5n2kfra8p0\\LocalCache\\local-packages\\Python310\\site-packages\\sklearn\\metrics\\_classification.py:1327: UndefinedMetricWarning: Precision and F-score are ill-defined and being set to 0.0 in labels with no predicted samples. Use `zero_division` parameter to control this behavior.\n",
      "  _warn_prf(average, modifier, msg_start, len(result))\n",
      "C:\\Users\\km201\\AppData\\Local\\Packages\\PythonSoftwareFoundation.Python.3.10_qbz5n2kfra8p0\\LocalCache\\local-packages\\Python310\\site-packages\\sklearn\\metrics\\_classification.py:1327: UndefinedMetricWarning: Precision and F-score are ill-defined and being set to 0.0 in labels with no predicted samples. Use `zero_division` parameter to control this behavior.\n",
      "  _warn_prf(average, modifier, msg_start, len(result))\n",
      "C:\\Users\\km201\\AppData\\Local\\Packages\\PythonSoftwareFoundation.Python.3.10_qbz5n2kfra8p0\\LocalCache\\local-packages\\Python310\\site-packages\\sklearn\\metrics\\_classification.py:1327: UndefinedMetricWarning: Precision and F-score are ill-defined and being set to 0.0 in labels with no predicted samples. Use `zero_division` parameter to control this behavior.\n",
      "  _warn_prf(average, modifier, msg_start, len(result))\n",
      "C:\\Users\\km201\\AppData\\Local\\Packages\\PythonSoftwareFoundation.Python.3.10_qbz5n2kfra8p0\\LocalCache\\local-packages\\Python310\\site-packages\\sklearn\\metrics\\_classification.py:1327: UndefinedMetricWarning: Precision and F-score are ill-defined and being set to 0.0 in labels with no predicted samples. Use `zero_division` parameter to control this behavior.\n",
      "  _warn_prf(average, modifier, msg_start, len(result))\n",
      "C:\\Users\\km201\\AppData\\Local\\Packages\\PythonSoftwareFoundation.Python.3.10_qbz5n2kfra8p0\\LocalCache\\local-packages\\Python310\\site-packages\\sklearn\\metrics\\_classification.py:1327: UndefinedMetricWarning: Precision and F-score are ill-defined and being set to 0.0 in labels with no predicted samples. Use `zero_division` parameter to control this behavior.\n",
      "  _warn_prf(average, modifier, msg_start, len(result))\n",
      "C:\\Users\\km201\\AppData\\Local\\Packages\\PythonSoftwareFoundation.Python.3.10_qbz5n2kfra8p0\\LocalCache\\local-packages\\Python310\\site-packages\\sklearn\\metrics\\_classification.py:1327: UndefinedMetricWarning: Precision and F-score are ill-defined and being set to 0.0 in labels with no predicted samples. Use `zero_division` parameter to control this behavior.\n",
      "  _warn_prf(average, modifier, msg_start, len(result))\n"
     ]
    }
   ],
   "source": [
    "# SVM with Undersampling\n",
    "clf = SGDClassifier(\"hinge\",max_iter=1000000, tol=1e-3, verbose=0, early_stopping=True).fit(X_resampled, y_resampled)\n",
    "\n",
    "preds = clf.predict(train_X)\n",
    "report = classification_report(train_y, preds, output_dict=True)\n",
    "result[\"svm_undersample_train\"] = report.copy()\n",
    "\n",
    "preds = clf.predict(test_X)\n",
    "report = classification_report(test_y, preds, output_dict=True)\n",
    "result[\"svm_undersample_test\"] = report.copy()"
   ]
  },
  {
   "cell_type": "code",
   "execution_count": 42,
   "id": "32154100-138d-442d-8c86-d2f6b1ce5926",
   "metadata": {},
   "outputs": [],
   "source": [
    "from sklearn.linear_model import LogisticRegression\n",
    "#clf = SGDClassifier(\"log_loss\",max_iter=1000000, tol=0.0001, verbose=0, early_stopping=True, class_weight = 'balanced').fit(train_X, train_y)\n",
    "clf = LogisticRegression(max_iter=100000, tol = 0.0001, class_weight = 'balanced', C = 1).fit(train_X, train_y)\n",
    "\n",
    "preds = clf.predict(train_X)\n",
    "report = classification_report(train_y, preds, output_dict=True)\n",
    "result[\"lr_train\"] = report.copy()\n",
    "\n",
    "preds = clf.predict(test_X)\n",
    "report = classification_report(test_y, preds, output_dict=True)\n",
    "result[\"lr_test\"] = report.copy()"
   ]
  },
  {
   "cell_type": "code",
   "execution_count": 43,
   "id": "66ea8eed-83e8-47cf-b8b0-e6c605f03064",
   "metadata": {},
   "outputs": [],
   "source": [
    "from sklearn import tree\n",
    "clf = tree.DecisionTreeClassifier(max_depth=17)\n",
    "clf = clf.fit(train_X, train_y)\n",
    "\n",
    "preds = clf.predict(train_X)\n",
    "report = classification_report(train_y, preds, output_dict=True)\n",
    "result[\"tree_train\"] = report.copy()\n",
    "\n",
    "preds = clf.predict(test_X)\n",
    "report = classification_report(test_y, preds, output_dict=True)\n",
    "result[\"tree_test\"] = report.copy()"
   ]
  },
  {
   "cell_type": "code",
   "execution_count": 44,
   "id": "dd17ed48-2469-45c2-9e6d-966e7df414e9",
   "metadata": {},
   "outputs": [],
   "source": [
    "from sklearn.ensemble import RandomForestClassifier\n",
    "\n",
    "clf = RandomForestClassifier()\n",
    "clf = clf.fit(train_X, train_y)\n",
    "\n",
    "preds = clf.predict(train_X)\n",
    "report = classification_report(train_y, preds, output_dict=True)\n",
    "result[\"r_forest_train\"] = report.copy()\n",
    "\n",
    "preds = clf.predict(test_X)\n",
    "report = classification_report(test_y, preds, output_dict=True)\n",
    "result[\"r_forest_test\"] = report.copy()"
   ]
  },
  {
   "cell_type": "code",
   "execution_count": 45,
   "id": "9bb4cf2e-b260-4314-93c6-70e3afb6b10d",
   "metadata": {},
   "outputs": [
    {
     "name": "stderr",
     "output_type": "stream",
     "text": [
      "C:\\Users\\km201\\AppData\\Local\\Packages\\PythonSoftwareFoundation.Python.3.10_qbz5n2kfra8p0\\LocalCache\\local-packages\\Python310\\site-packages\\sklearn\\metrics\\_classification.py:1327: UndefinedMetricWarning: Precision and F-score are ill-defined and being set to 0.0 in labels with no predicted samples. Use `zero_division` parameter to control this behavior.\n",
      "  _warn_prf(average, modifier, msg_start, len(result))\n",
      "C:\\Users\\km201\\AppData\\Local\\Packages\\PythonSoftwareFoundation.Python.3.10_qbz5n2kfra8p0\\LocalCache\\local-packages\\Python310\\site-packages\\sklearn\\metrics\\_classification.py:1327: UndefinedMetricWarning: Precision and F-score are ill-defined and being set to 0.0 in labels with no predicted samples. Use `zero_division` parameter to control this behavior.\n",
      "  _warn_prf(average, modifier, msg_start, len(result))\n",
      "C:\\Users\\km201\\AppData\\Local\\Packages\\PythonSoftwareFoundation.Python.3.10_qbz5n2kfra8p0\\LocalCache\\local-packages\\Python310\\site-packages\\sklearn\\metrics\\_classification.py:1327: UndefinedMetricWarning: Precision and F-score are ill-defined and being set to 0.0 in labels with no predicted samples. Use `zero_division` parameter to control this behavior.\n",
      "  _warn_prf(average, modifier, msg_start, len(result))\n",
      "C:\\Users\\km201\\AppData\\Local\\Packages\\PythonSoftwareFoundation.Python.3.10_qbz5n2kfra8p0\\LocalCache\\local-packages\\Python310\\site-packages\\sklearn\\metrics\\_classification.py:1327: UndefinedMetricWarning: Precision and F-score are ill-defined and being set to 0.0 in labels with no predicted samples. Use `zero_division` parameter to control this behavior.\n",
      "  _warn_prf(average, modifier, msg_start, len(result))\n",
      "C:\\Users\\km201\\AppData\\Local\\Packages\\PythonSoftwareFoundation.Python.3.10_qbz5n2kfra8p0\\LocalCache\\local-packages\\Python310\\site-packages\\sklearn\\metrics\\_classification.py:1327: UndefinedMetricWarning: Precision and F-score are ill-defined and being set to 0.0 in labels with no predicted samples. Use `zero_division` parameter to control this behavior.\n",
      "  _warn_prf(average, modifier, msg_start, len(result))\n",
      "C:\\Users\\km201\\AppData\\Local\\Packages\\PythonSoftwareFoundation.Python.3.10_qbz5n2kfra8p0\\LocalCache\\local-packages\\Python310\\site-packages\\sklearn\\metrics\\_classification.py:1327: UndefinedMetricWarning: Precision and F-score are ill-defined and being set to 0.0 in labels with no predicted samples. Use `zero_division` parameter to control this behavior.\n",
      "  _warn_prf(average, modifier, msg_start, len(result))\n"
     ]
    }
   ],
   "source": [
    "from sklearn.naive_bayes import MultinomialNB\n",
    "clf = MultinomialNB()\n",
    "clf.fit(train_X, train_y)\n",
    "\n",
    "preds = clf.predict(train_X)\n",
    "report = classification_report(train_y, preds, output_dict=True)\n",
    "result[\"nb_train\"] = report.copy()\n",
    "\n",
    "preds = clf.predict(test_X)\n",
    "report = classification_report(test_y, preds, output_dict=True)\n",
    "result[\"nb_test\"] = report.copy()\n"
   ]
  },
  {
   "cell_type": "code",
   "execution_count": 46,
   "id": "dbd55d72-6e1d-4591-955e-8d0cf28560ca",
   "metadata": {},
   "outputs": [
    {
     "name": "stdout",
     "output_type": "stream",
     "text": [
      "svm_train:0.8596022096988769\n",
      "svm_test:0.8601328672265823\n",
      "svm_undersample_train:0.8771153321395241\n",
      "svm_undersample_test:0.8816456921909667\n",
      "lr_train:0.973900283649032\n",
      "lr_test:0.9725762281494122\n",
      "tree_train:1.0\n",
      "tree_test:0.9989483358539175\n",
      "r_forest_train:1.0\n",
      "r_forest_test:0.9997291138685115\n",
      "nb_train:0.4861314983625776\n",
      "nb_test:0.48337867055427275\n"
     ]
    }
   ],
   "source": [
    "for key in result.keys():\n",
    "    print(f\"{key}:{result[key]['macro avg']['f1-score']}\")"
   ]
  }
 ],
 "metadata": {
  "interpreter": {
   "hash": "ac9e7467ab50678fb25b34fbfebaa7dd0935f663e602be01974fdf6c9ce75ada"
  },
  "kernelspec": {
   "display_name": "Python 3.10.4 64-bit (windows store)",
   "language": "python",
   "name": "python3"
  },
  "language_info": {
   "codemirror_mode": {
    "name": "ipython",
    "version": 3
   },
   "file_extension": ".py",
   "mimetype": "text/x-python",
   "name": "python",
   "nbconvert_exporter": "python",
   "pygments_lexer": "ipython3",
   "version": "3.10.5"
  }
 },
 "nbformat": 4,
 "nbformat_minor": 5
}

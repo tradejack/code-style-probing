{
 "cells": [
  {
   "cell_type": "code",
   "execution_count": 15,
   "id": "7f6e8116-47b3-4f40-ae62-ad433a089ca0",
   "metadata": {},
   "outputs": [],
   "source": [
    "import pickle\n",
    "import numpy as np\n",
    "import pandas as pd\n",
    "from tqdm.auto import tqdm\n",
    "from sklearn.metrics import classification_report\n",
    "from collections import Counter"
   ]
  },
  {
   "cell_type": "code",
   "execution_count": 2,
   "id": "e5eebd03-d036-427b-9528-d0423caa862e",
   "metadata": {},
   "outputs": [
    {
     "name": "stdout",
     "output_type": "stream",
     "text": [
      "Requirement already satisfied: imbalanced-learn in /data/users/cting3/miniconda3/envs/py_3_8/lib/python3.8/site-packages (0.9.1)\n",
      "Requirement already satisfied: scipy>=1.3.2 in /data/users/cting3/miniconda3/envs/py_3_8/lib/python3.8/site-packages (from imbalanced-learn) (1.7.2)\n",
      "Requirement already satisfied: joblib>=1.0.0 in /data/users/cting3/miniconda3/envs/py_3_8/lib/python3.8/site-packages (from imbalanced-learn) (1.1.0)\n",
      "Requirement already satisfied: threadpoolctl>=2.0.0 in /data/users/cting3/miniconda3/envs/py_3_8/lib/python3.8/site-packages (from imbalanced-learn) (3.0.0)\n",
      "Requirement already satisfied: numpy>=1.17.3 in /data/users/cting3/miniconda3/envs/py_3_8/lib/python3.8/site-packages (from imbalanced-learn) (1.22.3)\n",
      "Requirement already satisfied: scikit-learn>=1.1.0 in /data/users/cting3/miniconda3/envs/py_3_8/lib/python3.8/site-packages (from imbalanced-learn) (1.1.1)\n",
      "\u001b[33mWARNING: There was an error checking the latest version of pip.\u001b[0m\u001b[33m\n",
      "\u001b[0m"
     ]
    }
   ],
   "source": [
    "!pip install imbalanced-learn\n"
   ]
  },
  {
   "cell_type": "code",
   "execution_count": 3,
   "id": "d109a8f8-ff48-43f0-8445-70d983c1630d",
   "metadata": {},
   "outputs": [],
   "source": [
    "#internal metrics are generated now and everything is stored in dataframe should be ready for clustering\n",
    "target_features = [\n",
    "     'snake_case_var_ratio',\n",
    "     'snake_case_class_ratio',\n",
    "     'snake_case_method_ratio',\n",
    "     'upper_camel_case_var_ratio',\n",
    "     'upper_camel_case_class_ratio',\n",
    "     'upper_camel_case_method_ratio',\n",
    "     'lower_camel_case_var_ratio',\n",
    "     'lower_camel_case_class_ratio',\n",
    "     'lower_camel_case_method_ratio',\n",
    "     'func_decorators_avg',\n",
    "     'class_decorators_avg',\n",
    "     'class_parents_avg',\n",
    "     'comprehensions_avg',\n",
    "     'generators_avg',\n",
    "     'lambda_avg',\n",
    "     'comment_density',\n",
    "     'ds_density',\n",
    "]"
   ]
  },
  {
   "cell_type": "code",
   "execution_count": 4,
   "id": "667cc484-bd1a-4e35-aa3a-495ec7b5136c",
   "metadata": {},
   "outputs": [],
   "source": [
    "py150k_df = pd.read_csv(\"data/py150k_metric_20220527.csv\")\n",
    "bq_df = pd.read_csv(\"data/bigquery_metric_20220526.csv\")"
   ]
  },
  {
   "cell_type": "code",
   "execution_count": 5,
   "id": "420dac3c-37de-4a29-8b2d-864cbe954bbf",
   "metadata": {},
   "outputs": [],
   "source": [
    "combined_df = pd.concat([py150k_df[target_features], bq_df[target_features]])"
   ]
  },
  {
   "cell_type": "code",
   "execution_count": 6,
   "id": "28280e2c-28f3-435a-b9ac-67d55d2038ff",
   "metadata": {},
   "outputs": [],
   "source": [
    "\n",
    "with open(\"data/combined_dataset/clusters/feature_set_1/full_feature_clusterer.pickle\", \"rb\") as file:\n",
    "    cluster_pred = pickle.load(file)\n",
    "    labels = cluster_pred.labels_\n",
    "    cluster_num = len(np.unique(labels))\n",
    "    X = combined_df[target_features].to_numpy()"
   ]
  },
  {
   "cell_type": "code",
   "execution_count": 7,
   "id": "73fd9464-ecc0-4b21-a74e-3b653a3d7453",
   "metadata": {},
   "outputs": [],
   "source": [
    "from sklearn.linear_model import SGDClassifier\n",
    "# from sklearn.preprocessing import StandardScaler\n",
    "# from sklearn.pipeline import make_pipeline\n",
    "# X = np.array([[-1, -1], [-2, -1], [1, 1], [2, 1]])\n",
    "# Y = np.array([1, 1, 2, 2])\n",
    "# # Always scale the input. The most convenient way is to use a pipeline.\n",
    "# clf = make_pipeline(StandardScaler(),\n",
    "#                     SGDClassifier(max_iter=1000, tol=1e-3))\n",
    "clf = SGDClassifier(max_iter=1000, tol=1e-3)\n"
   ]
  },
  {
   "cell_type": "code",
   "execution_count": 101,
   "id": "f8e1b6f1-7a02-477e-add6-aa3f68c1cba6",
   "metadata": {},
   "outputs": [],
   "source": [
    "non_outliers_bool = labels != -1"
   ]
  },
  {
   "cell_type": "code",
   "execution_count": 123,
   "id": "e4c82fdc-2291-4461-9af9-96fa0f01ad06",
   "metadata": {},
   "outputs": [
    {
     "data": {
      "text/plain": [
       "False"
      ]
     },
     "execution_count": 123,
     "metadata": {},
     "output_type": "execute_result"
    }
   ],
   "source": [
    "non_outliers_bool[108479]"
   ]
  },
  {
   "cell_type": "code",
   "execution_count": 127,
   "id": "5f0dba40-f2a2-4088-92d2-2294bd65c8d2",
   "metadata": {},
   "outputs": [],
   "source": [
    "train_df = combined_df[non_outliers_bool].sample(frac=0.8,random_state=1234)\n",
    "test_df = combined_df[non_outliers_bool].drop(train_df.index)"
   ]
  },
  {
   "cell_type": "code",
   "execution_count": 128,
   "id": "f684a6aa-bc4a-4d09-90ad-d296ce515cb3",
   "metadata": {},
   "outputs": [
    {
     "data": {
      "text/plain": [
       "Int64Index([108479,  66829,  32656,  47535,  68602,  81263,  80319,  44052,\n",
       "             20869,  26188,\n",
       "            ...\n",
       "             79755,  64659,   6510,  35485,  79206,  40687,   5746,  24823,\n",
       "             68562,  15191],\n",
       "           dtype='int64', length=41860)"
      ]
     },
     "execution_count": 128,
     "metadata": {},
     "output_type": "execute_result"
    }
   ],
   "source": [
    "train_df.index"
   ]
  },
  {
   "cell_type": "code",
   "execution_count": 107,
   "id": "5d22c35b-51e8-42e5-8bd1-aecfd96e6fe1",
   "metadata": {},
   "outputs": [],
   "source": [
    "train_X = train_df[target_features].to_numpy()\n",
    "test_X = test_df[target_features].to_numpy()"
   ]
  },
  {
   "cell_type": "code",
   "execution_count": 108,
   "id": "73291d71-9ecd-47b2-b575-a6ab4ccf53c1",
   "metadata": {},
   "outputs": [],
   "source": [
    "train_y = [labels[idx] for idx in train_df.index]\n",
    "test_y = [labels[idx] for idx in test_df.index]"
   ]
  },
  {
   "cell_type": "code",
   "execution_count": 111,
   "id": "ca42b31e-d744-4d43-b2f7-823290479bf8",
   "metadata": {},
   "outputs": [
    {
     "data": {
      "text/plain": [
       "array([19, 19, 16, ..., 19,  6,  6])"
      ]
     },
     "execution_count": 111,
     "metadata": {},
     "output_type": "execute_result"
    }
   ],
   "source": []
  },
  {
   "cell_type": "code",
   "execution_count": 110,
   "id": "7fddfff0-dba6-45ee-bb7c-e0ee66a5067f",
   "metadata": {},
   "outputs": [],
   "source": [
    "result = {}"
   ]
  },
  {
   "cell_type": "code",
   "execution_count": 37,
   "id": "fd4ed140-4a23-4d7d-b2a5-8d5ab7062308",
   "metadata": {},
   "outputs": [
    {
     "name": "stderr",
     "output_type": "stream",
     "text": [
      "/data/users/cting3/miniconda3/envs/py_3_8/lib/python3.8/site-packages/sklearn/metrics/_classification.py:1327: UndefinedMetricWarning: Precision and F-score are ill-defined and being set to 0.0 in labels with no predicted samples. Use `zero_division` parameter to control this behavior.\n",
      "  _warn_prf(average, modifier, msg_start, len(result))\n",
      "/data/users/cting3/miniconda3/envs/py_3_8/lib/python3.8/site-packages/sklearn/metrics/_classification.py:1327: UndefinedMetricWarning: Precision and F-score are ill-defined and being set to 0.0 in labels with no predicted samples. Use `zero_division` parameter to control this behavior.\n",
      "  _warn_prf(average, modifier, msg_start, len(result))\n",
      "/data/users/cting3/miniconda3/envs/py_3_8/lib/python3.8/site-packages/sklearn/metrics/_classification.py:1327: UndefinedMetricWarning: Precision and F-score are ill-defined and being set to 0.0 in labels with no predicted samples. Use `zero_division` parameter to control this behavior.\n",
      "  _warn_prf(average, modifier, msg_start, len(result))\n",
      "/data/users/cting3/miniconda3/envs/py_3_8/lib/python3.8/site-packages/sklearn/metrics/_classification.py:1327: UndefinedMetricWarning: Precision and F-score are ill-defined and being set to 0.0 in labels with no predicted samples. Use `zero_division` parameter to control this behavior.\n",
      "  _warn_prf(average, modifier, msg_start, len(result))\n",
      "/data/users/cting3/miniconda3/envs/py_3_8/lib/python3.8/site-packages/sklearn/metrics/_classification.py:1327: UndefinedMetricWarning: Precision and F-score are ill-defined and being set to 0.0 in labels with no predicted samples. Use `zero_division` parameter to control this behavior.\n",
      "  _warn_prf(average, modifier, msg_start, len(result))\n",
      "/data/users/cting3/miniconda3/envs/py_3_8/lib/python3.8/site-packages/sklearn/metrics/_classification.py:1327: UndefinedMetricWarning: Precision and F-score are ill-defined and being set to 0.0 in labels with no predicted samples. Use `zero_division` parameter to control this behavior.\n",
      "  _warn_prf(average, modifier, msg_start, len(result))\n"
     ]
    }
   ],
   "source": [
    "\n",
    "clf = SGDClassifier(\"hinge\",max_iter=1000000, tol=1e-3, verbose=0, early_stopping=True).fit(train_X, train_y)\n",
    "\n",
    "preds = clf.predict(train_X)\n",
    "report = classification_report(train_y, preds, output_dict=True)\n",
    "result[\"svm_train\"] = report.copy()\n",
    "\n",
    "preds = clf.predict(test_X)\n",
    "report = classification_report(test_y, preds, output_dict=True)\n",
    "result[\"svm_test\"] = report.copy()"
   ]
  },
  {
   "cell_type": "code",
   "execution_count": 39,
   "id": "67e3ead1-b6df-4431-9504-58565b5645e4",
   "metadata": {},
   "outputs": [
    {
     "name": "stdout",
     "output_type": "stream",
     "text": [
      "[(-1, 92), (0, 92), (1, 92), (2, 92), (3, 92), (4, 92), (5, 92), (6, 92), (7, 92), (8, 92), (9, 92), (10, 92), (11, 92), (12, 92), (13, 92), (14, 92), (15, 92), (16, 92), (17, 92), (18, 92), (19, 92), (20, 92), (21, 92), (22, 92), (23, 92), (24, 92), (25, 92)]\n"
     ]
    }
   ],
   "source": [
    "from imblearn.under_sampling import RandomUnderSampler\n",
    "rus = RandomUnderSampler(random_state=0)\n",
    "X_resampled, y_resampled = rus.fit_resample(train_X, train_y)\n",
    "print(sorted(Counter(y_resampled).items()))\n"
   ]
  },
  {
   "cell_type": "code",
   "execution_count": 42,
   "id": "f8075aea-2e1e-4ba9-8466-9b14d11b4440",
   "metadata": {},
   "outputs": [
    {
     "name": "stderr",
     "output_type": "stream",
     "text": [
      "/data/users/cting3/miniconda3/envs/py_3_8/lib/python3.8/site-packages/sklearn/metrics/_classification.py:1327: UndefinedMetricWarning: Precision and F-score are ill-defined and being set to 0.0 in labels with no predicted samples. Use `zero_division` parameter to control this behavior.\n",
      "  _warn_prf(average, modifier, msg_start, len(result))\n",
      "/data/users/cting3/miniconda3/envs/py_3_8/lib/python3.8/site-packages/sklearn/metrics/_classification.py:1327: UndefinedMetricWarning: Precision and F-score are ill-defined and being set to 0.0 in labels with no predicted samples. Use `zero_division` parameter to control this behavior.\n",
      "  _warn_prf(average, modifier, msg_start, len(result))\n",
      "/data/users/cting3/miniconda3/envs/py_3_8/lib/python3.8/site-packages/sklearn/metrics/_classification.py:1327: UndefinedMetricWarning: Precision and F-score are ill-defined and being set to 0.0 in labels with no predicted samples. Use `zero_division` parameter to control this behavior.\n",
      "  _warn_prf(average, modifier, msg_start, len(result))\n",
      "/data/users/cting3/miniconda3/envs/py_3_8/lib/python3.8/site-packages/sklearn/metrics/_classification.py:1327: UndefinedMetricWarning: Precision and F-score are ill-defined and being set to 0.0 in labels with no predicted samples. Use `zero_division` parameter to control this behavior.\n",
      "  _warn_prf(average, modifier, msg_start, len(result))\n",
      "/data/users/cting3/miniconda3/envs/py_3_8/lib/python3.8/site-packages/sklearn/metrics/_classification.py:1327: UndefinedMetricWarning: Precision and F-score are ill-defined and being set to 0.0 in labels with no predicted samples. Use `zero_division` parameter to control this behavior.\n",
      "  _warn_prf(average, modifier, msg_start, len(result))\n",
      "/data/users/cting3/miniconda3/envs/py_3_8/lib/python3.8/site-packages/sklearn/metrics/_classification.py:1327: UndefinedMetricWarning: Precision and F-score are ill-defined and being set to 0.0 in labels with no predicted samples. Use `zero_division` parameter to control this behavior.\n",
      "  _warn_prf(average, modifier, msg_start, len(result))\n"
     ]
    }
   ],
   "source": [
    "# SVM with Undersampling\n",
    "clf = SGDClassifier(\"hinge\",max_iter=1000000, tol=1e-3, verbose=0, early_stopping=True).fit(X_resampled, y_resampled)\n",
    "\n",
    "preds = clf.predict(train_X)\n",
    "report = classification_report(train_y, preds, output_dict=True)\n",
    "result[\"svm_undersample_train\"] = report.copy()\n",
    "\n",
    "preds = clf.predict(test_X)\n",
    "report = classification_report(test_y, preds, output_dict=True)\n",
    "result[\"svm_undersample_test\"] = report.copy()"
   ]
  },
  {
   "cell_type": "code",
   "execution_count": 24,
   "id": "32154100-138d-442d-8c86-d2f6b1ce5926",
   "metadata": {},
   "outputs": [
    {
     "name": "stderr",
     "output_type": "stream",
     "text": [
      "/data/users/cting3/miniconda3/envs/py_3_8/lib/python3.8/site-packages/sklearn/metrics/_classification.py:1327: UndefinedMetricWarning: Precision and F-score are ill-defined and being set to 0.0 in labels with no predicted samples. Use `zero_division` parameter to control this behavior.\n",
      "  _warn_prf(average, modifier, msg_start, len(result))\n",
      "/data/users/cting3/miniconda3/envs/py_3_8/lib/python3.8/site-packages/sklearn/metrics/_classification.py:1327: UndefinedMetricWarning: Precision and F-score are ill-defined and being set to 0.0 in labels with no predicted samples. Use `zero_division` parameter to control this behavior.\n",
      "  _warn_prf(average, modifier, msg_start, len(result))\n",
      "/data/users/cting3/miniconda3/envs/py_3_8/lib/python3.8/site-packages/sklearn/metrics/_classification.py:1327: UndefinedMetricWarning: Precision and F-score are ill-defined and being set to 0.0 in labels with no predicted samples. Use `zero_division` parameter to control this behavior.\n",
      "  _warn_prf(average, modifier, msg_start, len(result))\n",
      "/data/users/cting3/miniconda3/envs/py_3_8/lib/python3.8/site-packages/sklearn/metrics/_classification.py:1327: UndefinedMetricWarning: Precision and F-score are ill-defined and being set to 0.0 in labels with no predicted samples. Use `zero_division` parameter to control this behavior.\n",
      "  _warn_prf(average, modifier, msg_start, len(result))\n",
      "/data/users/cting3/miniconda3/envs/py_3_8/lib/python3.8/site-packages/sklearn/metrics/_classification.py:1327: UndefinedMetricWarning: Precision and F-score are ill-defined and being set to 0.0 in labels with no predicted samples. Use `zero_division` parameter to control this behavior.\n",
      "  _warn_prf(average, modifier, msg_start, len(result))\n",
      "/data/users/cting3/miniconda3/envs/py_3_8/lib/python3.8/site-packages/sklearn/metrics/_classification.py:1327: UndefinedMetricWarning: Precision and F-score are ill-defined and being set to 0.0 in labels with no predicted samples. Use `zero_division` parameter to control this behavior.\n",
      "  _warn_prf(average, modifier, msg_start, len(result))\n"
     ]
    }
   ],
   "source": [
    "\n",
    "clf = SGDClassifier(\"log_loss\",max_iter=1000000, tol=1e-3, verbose=0, early_stopping=True).fit(train_X, train_y)\n",
    "\n",
    "preds = clf.predict(train_X)\n",
    "report = classification_report(train_y, preds, output_dict=True)\n",
    "result[\"lr_train\"] = report.copy()\n",
    "\n",
    "preds = clf.predict(test_X)\n",
    "report = classification_report(test_y, preds, output_dict=True)\n",
    "result[\"lr_test\"] = report.copy()"
   ]
  },
  {
   "cell_type": "code",
   "execution_count": 43,
   "id": "66ea8eed-83e8-47cf-b8b0-e6c605f03064",
   "metadata": {},
   "outputs": [],
   "source": [
    "from sklearn import tree\n",
    "clf = tree.DecisionTreeClassifier(max_depth=17)\n",
    "clf = clf.fit(train_X, train_y)\n",
    "\n",
    "preds = clf.predict(train_X)\n",
    "report = classification_report(train_y, preds, output_dict=True)\n",
    "result[\"tree_train\"] = report.copy()\n",
    "\n",
    "preds = clf.predict(test_X)\n",
    "report = classification_report(test_y, preds, output_dict=True)\n",
    "result[\"tree_test\"] = report.copy()"
   ]
  },
  {
   "cell_type": "code",
   "execution_count": 44,
   "id": "dd17ed48-2469-45c2-9e6d-966e7df414e9",
   "metadata": {},
   "outputs": [],
   "source": [
    "from sklearn.ensemble import RandomForestClassifier\n",
    "\n",
    "clf = RandomForestClassifier()\n",
    "clf = clf.fit(train_X, train_y)\n",
    "\n",
    "preds = clf.predict(train_X)\n",
    "report = classification_report(train_y, preds, output_dict=True)\n",
    "result[\"r_forest_train\"] = report.copy()\n",
    "\n",
    "preds = clf.predict(test_X)\n",
    "report = classification_report(test_y, preds, output_dict=True)\n",
    "result[\"r_forest_test\"] = report.copy()"
   ]
  },
  {
   "cell_type": "code",
   "execution_count": 46,
   "id": "9bb4cf2e-b260-4314-93c6-70e3afb6b10d",
   "metadata": {},
   "outputs": [
    {
     "name": "stderr",
     "output_type": "stream",
     "text": [
      "/data/users/cting3/miniconda3/envs/py_3_8/lib/python3.8/site-packages/sklearn/metrics/_classification.py:1327: UndefinedMetricWarning: Precision and F-score are ill-defined and being set to 0.0 in labels with no predicted samples. Use `zero_division` parameter to control this behavior.\n",
      "  _warn_prf(average, modifier, msg_start, len(result))\n",
      "/data/users/cting3/miniconda3/envs/py_3_8/lib/python3.8/site-packages/sklearn/metrics/_classification.py:1327: UndefinedMetricWarning: Precision and F-score are ill-defined and being set to 0.0 in labels with no predicted samples. Use `zero_division` parameter to control this behavior.\n",
      "  _warn_prf(average, modifier, msg_start, len(result))\n",
      "/data/users/cting3/miniconda3/envs/py_3_8/lib/python3.8/site-packages/sklearn/metrics/_classification.py:1327: UndefinedMetricWarning: Precision and F-score are ill-defined and being set to 0.0 in labels with no predicted samples. Use `zero_division` parameter to control this behavior.\n",
      "  _warn_prf(average, modifier, msg_start, len(result))\n",
      "/data/users/cting3/miniconda3/envs/py_3_8/lib/python3.8/site-packages/sklearn/metrics/_classification.py:1327: UndefinedMetricWarning: Precision and F-score are ill-defined and being set to 0.0 in labels with no predicted samples. Use `zero_division` parameter to control this behavior.\n",
      "  _warn_prf(average, modifier, msg_start, len(result))\n",
      "/data/users/cting3/miniconda3/envs/py_3_8/lib/python3.8/site-packages/sklearn/metrics/_classification.py:1327: UndefinedMetricWarning: Precision and F-score are ill-defined and being set to 0.0 in labels with no predicted samples. Use `zero_division` parameter to control this behavior.\n",
      "  _warn_prf(average, modifier, msg_start, len(result))\n",
      "/data/users/cting3/miniconda3/envs/py_3_8/lib/python3.8/site-packages/sklearn/metrics/_classification.py:1327: UndefinedMetricWarning: Precision and F-score are ill-defined and being set to 0.0 in labels with no predicted samples. Use `zero_division` parameter to control this behavior.\n",
      "  _warn_prf(average, modifier, msg_start, len(result))\n"
     ]
    }
   ],
   "source": [
    "from sklearn.naive_bayes import MultinomialNB\n",
    "clf = MultinomialNB()\n",
    "clf.fit(train_X, train_y)\n",
    "\n",
    "preds = clf.predict(train_X)\n",
    "report = classification_report(train_y, preds, output_dict=True)\n",
    "result[\"nb_train\"] = report.copy()\n",
    "\n",
    "preds = clf.predict(test_X)\n",
    "report = classification_report(test_y, preds, output_dict=True)\n",
    "result[\"nb_test\"] = report.copy()\n"
   ]
  },
  {
   "cell_type": "code",
   "execution_count": 47,
   "id": "dbd55d72-6e1d-4591-955e-8d0cf28560ca",
   "metadata": {},
   "outputs": [
    {
     "name": "stdout",
     "output_type": "stream",
     "text": [
      "svm_train:0.5697227150967134\n",
      "svm_test:0.3698073019952317\n",
      "svm_undersample_train:0.5796953254580165\n",
      "svm_undersample_test:0.45146796185934657\n",
      "tree_train:0.9963443180407583\n",
      "tree_test:0.5596028946218314\n",
      "r_forest_train:1.0\n",
      "r_forest_test:0.562873645655774\n",
      "nb_train:0.1270767850882281\n",
      "nb_test:0.09803099303011674\n"
     ]
    }
   ],
   "source": [
    "for key in result.keys():\n",
    "    print(f\"{key}:{result[key]['macro avg']['f1-score']}\")"
   ]
  }
 ],
 "metadata": {
  "kernelspec": {
   "display_name": "Python 3",
   "language": "python",
   "name": "python3"
  },
  "language_info": {
   "codemirror_mode": {
    "name": "ipython",
    "version": 3
   },
   "file_extension": ".py",
   "mimetype": "text/x-python",
   "name": "python",
   "nbconvert_exporter": "python",
   "pygments_lexer": "ipython3",
   "version": "3.8.12"
  }
 },
 "nbformat": 4,
 "nbformat_minor": 5
}

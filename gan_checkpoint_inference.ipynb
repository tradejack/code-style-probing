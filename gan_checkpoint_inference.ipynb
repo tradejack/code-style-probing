{
 "cells": [
  {
   "cell_type": "code",
   "execution_count": 1,
   "id": "44753db5-cdb9-471b-8e5d-8406503e4099",
   "metadata": {},
   "outputs": [],
   "source": [
    "# model = Net()\n",
    "# optimizer = optim.SGD(net.parameters(), lr=0.001, momentum=0.9)\n",
    "import torch"
   ]
  },
  {
   "cell_type": "code",
   "execution_count": 2,
   "id": "e8b18ce7-0020-4aef-8acd-205bdb3e4651",
   "metadata": {},
   "outputs": [
    {
     "data": {
      "text/plain": [
       "(tensor(0.0503, requires_grad=True), tensor(0.0278, requires_grad=True))"
      ]
     },
     "execution_count": 2,
     "metadata": {},
     "output_type": "execute_result"
    }
   ],
   "source": [
    "PATH = \"checkpoint/plbart_token_level_embed_with_new_loss_batch_8_1657011226_epoch_0.pt\"\n",
    "checkpoint = torch.load(PATH, map_location=torch.device('cpu'))\n",
    "checkpoint[\"g_loss\"], checkpoint[\"d_loss\"]"
   ]
  },
  {
   "cell_type": "code",
   "execution_count": 3,
   "id": "f45f3052-92cf-4708-825f-6e7c53e503b7",
   "metadata": {},
   "outputs": [
    {
     "data": {
      "text/plain": [
       "(tensor(0.0648, requires_grad=True), tensor(0.0278, requires_grad=True))"
      ]
     },
     "execution_count": 3,
     "metadata": {},
     "output_type": "execute_result"
    }
   ],
   "source": [
    "\n",
    "PATH = \"checkpoint/plbart_token_level_embed_with_new_loss_batch_8_1657011226_epoch_1.pt\"\n",
    "checkpoint = torch.load(PATH, map_location=torch.device('cpu'))\n",
    "checkpoint[\"g_loss\"], checkpoint[\"d_loss\"]"
   ]
  },
  {
   "cell_type": "code",
   "execution_count": 4,
   "id": "b1ad32f5-5027-4296-bd7e-479e0c775be0",
   "metadata": {},
   "outputs": [
    {
     "data": {
      "text/plain": [
       "(tensor(0.0646, requires_grad=True), tensor(0.0278, requires_grad=True))"
      ]
     },
     "execution_count": 4,
     "metadata": {},
     "output_type": "execute_result"
    }
   ],
   "source": [
    "\n",
    "PATH = \"checkpoint/plbart_token_level_embed_with_new_loss_batch_8_1657011226_epoch_2.pt\"\n",
    "checkpoint = torch.load(PATH, map_location=torch.device('cpu'))\n",
    "checkpoint[\"g_loss\"], checkpoint[\"d_loss\"]"
   ]
  },
  {
   "cell_type": "code",
   "execution_count": 6,
   "id": "a247a5f7-f6b5-452e-bd80-e1cb7b972dce",
   "metadata": {},
   "outputs": [
    {
     "data": {
      "text/plain": [
       "(tensor(0.0629, requires_grad=True), tensor(0.0277, requires_grad=True))"
      ]
     },
     "execution_count": 6,
     "metadata": {},
     "output_type": "execute_result"
    }
   ],
   "source": [
    "\n",
    "PATH = \"checkpoint/plbart_token_level_embed_with_new_loss_batch_8_1657011226_epoch_3.pt\"\n",
    "checkpoint = torch.load(PATH, map_location=torch.device('cpu'))\n",
    "checkpoint[\"g_loss\"], checkpoint[\"d_loss\"]"
   ]
  },
  {
   "cell_type": "code",
   "execution_count": 7,
   "id": "bf38fa64-6fc6-4396-8650-e01df59f9725",
   "metadata": {},
   "outputs": [
    {
     "data": {
      "text/plain": [
       "(tensor(0.0180, requires_grad=True), tensor(0.0263, requires_grad=True))"
      ]
     },
     "execution_count": 7,
     "metadata": {},
     "output_type": "execute_result"
    }
   ],
   "source": [
    "\n",
    "PATH = \"checkpoint/plbart_token_level_embed_batch_8_1656726351_epoch_4.pt\"\n",
    "checkpoint = torch.load(PATH, map_location=torch.device('cpu'))\n",
    "checkpoint[\"g_loss\"], checkpoint[\"d_loss\"]"
   ]
  },
  {
   "cell_type": "code",
   "execution_count": 8,
   "id": "d5e3ee84-9471-4583-b874-e31cf69b083d",
   "metadata": {},
   "outputs": [
    {
     "data": {
      "text/plain": [
       "(tensor(0.0180, requires_grad=True), tensor(0.0263, requires_grad=True))"
      ]
     },
     "execution_count": 8,
     "metadata": {},
     "output_type": "execute_result"
    }
   ],
   "source": [
    "\n",
    "PATH = \"checkpoint/plbart_token_level_embed_batch_8_1656726351_epoch_5.pt\"\n",
    "checkpoint = torch.load(PATH, map_location=torch.device('cpu'))\n",
    "checkpoint[\"g_loss\"], checkpoint[\"d_loss\"]"
   ]
  },
  {
   "cell_type": "code",
   "execution_count": 9,
   "id": "32b34b04-3c0f-4038-ae21-22c619c25df0",
   "metadata": {},
   "outputs": [
    {
     "data": {
      "text/plain": [
       "(tensor(0.0180, requires_grad=True), tensor(0.0263, requires_grad=True))"
      ]
     },
     "execution_count": 9,
     "metadata": {},
     "output_type": "execute_result"
    }
   ],
   "source": [
    "\n",
    "PATH = \"checkpoint/plbart_token_level_embed_batch_8_1656726351_epoch_6.pt\"\n",
    "checkpoint = torch.load(PATH, map_location=torch.device('cpu'))\n",
    "checkpoint[\"g_loss\"], checkpoint[\"d_loss\"]"
   ]
  },
  {
   "cell_type": "code",
   "execution_count": 8,
   "id": "2f967f7b-cf4f-4539-a06d-d1798b644ce6",
   "metadata": {},
   "outputs": [
    {
     "data": {
      "text/plain": [
       "(tensor(0.0180, requires_grad=True), tensor(0.0263, requires_grad=True))"
      ]
     },
     "execution_count": 8,
     "metadata": {},
     "output_type": "execute_result"
    }
   ],
   "source": [
    "\n",
    "PATH = \"checkpoint/plbart_token_level_embed_batch_8_1656726351_epoch_7.pt\"\n",
    "checkpoint = torch.load(PATH, map_location=torch.device('cpu'))\n",
    "checkpoint[\"g_loss\"], checkpoint[\"d_loss\"]"
   ]
  },
  {
   "cell_type": "code",
   "execution_count": 8,
   "id": "160b25a2-e7e3-41e8-a49f-72b5020f17d7",
   "metadata": {},
   "outputs": [
    {
     "name": "stderr",
     "output_type": "stream",
     "text": [
      "Special tokens have been added in the vocabulary, make sure the associated word embeddings are fine-tuned or trained.\n"
     ]
    }
   ],
   "source": [
    "\n",
    "from data import (\n",
    "    STYLE_DIM,\n",
    "    get_data_loader,\n",
    "    cluster_labels_no_outliers,\n",
    "    train_dataset,\n",
    "    test_dataset,\n",
    ")\n",
    "\n",
    "from model import InRepPlusGAN, Discriminator\n",
    "\n",
    "generator = InRepPlusGAN(style_dim=STYLE_DIM)#.to(device)"
   ]
  },
  {
   "cell_type": "code",
   "execution_count": 3,
   "id": "812e6c86-7f29-4edf-ba81-b0d3be5b2c1e",
   "metadata": {},
   "outputs": [],
   "source": [
    "discriminator = Discriminator(\n",
    "        vocab_size=generator.config.vocab_size,\n",
    "        embedding_layer=generator.encoder.embed_tokens,\n",
    "        embedding_dim=generator.config.d_model,\n",
    "        output_size=128,\n",
    "        style_dim=STYLE_DIM,\n",
    "    )"
   ]
  },
  {
   "cell_type": "code",
   "execution_count": 9,
   "id": "e1afcc36-3344-4b70-97eb-c45972752bee",
   "metadata": {},
   "outputs": [
    {
     "name": "stderr",
     "output_type": "stream",
     "text": [
      "Special tokens have been added in the vocabulary, make sure the associated word embeddings are fine-tuned or trained.\n"
     ]
    }
   ],
   "source": [
    "\n",
    "from transformers import PLBartTokenizer\n",
    "tokenizer = PLBartTokenizer.from_pretrained(\n",
    "    \"uclanlp/plbart-multi_task-python\",\n",
    "    language_codes=\"multi\",\n",
    "    src_lang=\"python\",\n",
    "    tgt_lang=\"python\",\n",
    ")"
   ]
  },
  {
   "cell_type": "code",
   "execution_count": 10,
   "id": "d5104809-3953-45d2-bae4-3850b90733e0",
   "metadata": {},
   "outputs": [],
   "source": [
    "input_batch = tokenizer([\"def hello_world(): print('Hello World')\"], max_length=1024, padding=\"max_length\", return_tensors=\"pt\")"
   ]
  },
  {
   "cell_type": "code",
   "execution_count": 6,
   "id": "03626c89-240e-40cc-92b2-601a2130f9e6",
   "metadata": {},
   "outputs": [
    {
     "data": {
      "text/plain": [
       "torch.Size([1, 1024])"
      ]
     },
     "execution_count": 6,
     "metadata": {},
     "output_type": "execute_result"
    }
   ],
   "source": [
    "input_batch[\"input_ids\"].shape"
   ]
  },
  {
   "cell_type": "code",
   "execution_count": 12,
   "id": "d92d5817-4755-4a23-9362-af6e0a938ca5",
   "metadata": {},
   "outputs": [],
   "source": [
    "from utils.model_utils import label_tensor_to_one_hot\n",
    "\n",
    "style_encoding = label_tensor_to_one_hot(\n",
    "    torch.Tensor([1]).long(), STYLE_DIM\n",
    ")#.to(device)"
   ]
  },
  {
   "cell_type": "code",
   "execution_count": 8,
   "id": "c8ac74f1-f039-4511-8934-4a00969fe673",
   "metadata": {},
   "outputs": [
    {
     "data": {
      "text/plain": [
       "tensor([[0., 1., 0., 0., 0., 0., 0., 0., 0., 0., 0., 0., 0., 0., 0., 0., 0., 0.,\n",
       "         0., 0., 0., 0., 0., 0., 0., 0.]])"
      ]
     },
     "execution_count": 8,
     "metadata": {},
     "output_type": "execute_result"
    }
   ],
   "source": [
    "style_encoding"
   ]
  },
  {
   "cell_type": "code",
   "execution_count": null,
   "id": "2a8c9b18-5227-4754-a04c-6267f9a571d8",
   "metadata": {},
   "outputs": [],
   "source": [
    "\n",
    "# generator = InRepPlusGAN(style_dim=STYLE_DIM)#.to(device)\n",
    "# generator.load_state_dict(checkpoint['g_state_dict'])\n",
    "generator_output, modifier_output = generator(\n",
    "    input_ids=input_batch[\"input_ids\"],\n",
    "    attention_mask=input_batch[\"attention_mask\"],\n",
    "    style_encoding=style_encoding,\n",
    ")\n",
    "generated_tokens = generator_output.logits.argmax(-1)\n",
    "generated_text_batch = tokenizer.batch_decode(generated_tokens, skip_special_tokens=True)\n",
    "generated_text_batch"
   ]
  },
  {
   "cell_type": "code",
   "execution_count": 14,
   "id": "9d5abb20-b7c6-41da-9f57-d9b1e32bb661",
   "metadata": {},
   "outputs": [],
   "source": [
    "\n",
    "generated_text_batch = tokenizer.batch_decode(generated_tokens)\n",
    "generated_input_batch = tokenizer(generated_text_batch, max_length=1024, padding=\"max_length\", return_tensors=\"pt\")"
   ]
  },
  {
   "cell_type": "code",
   "execution_count": 17,
   "id": "d6ff4e87-ac48-44cf-bdd9-9d5e49a0fb52",
   "metadata": {},
   "outputs": [],
   "source": [
    "generated_encoding = generator.get_encoding(**generated_input_batch)[0]"
   ]
  },
  {
   "cell_type": "code",
   "execution_count": 18,
   "id": "482960e8-cf2f-4b2b-8793-54c56555f5de",
   "metadata": {},
   "outputs": [
    {
     "data": {
      "text/plain": [
       "torch.Size([1, 1024, 768])"
      ]
     },
     "execution_count": 18,
     "metadata": {},
     "output_type": "execute_result"
    }
   ],
   "source": [
    "generated_encoding.shape"
   ]
  },
  {
   "cell_type": "code",
   "execution_count": 19,
   "id": "29c9d34e-0243-41e0-b1c8-3ef01a72de18",
   "metadata": {},
   "outputs": [
    {
     "data": {
      "text/plain": [
       "tensor([[[-0.1696, -0.1361,  0.1512,  ...,  0.1206, -0.0296,  0.1654],\n",
       "         [-0.2737,  0.4388,  0.0367,  ..., -0.3705,  0.0986,  0.9460],\n",
       "         [-0.2157, -0.9253,  1.1519,  ..., -0.0858,  0.1850,  0.9281],\n",
       "         ...,\n",
       "         [ 1.0032, -1.0735, -0.1932,  ...,  1.2176,  1.2246,  0.0746],\n",
       "         [ 0.8282, -1.1856, -0.1770,  ...,  1.2326,  1.4042,  0.1314],\n",
       "         [ 0.8852, -1.1173, -0.2209,  ...,  1.2250,  1.3229,  0.1277]]])"
      ]
     },
     "execution_count": 19,
     "metadata": {},
     "output_type": "execute_result"
    }
   ],
   "source": [
    "generated_encoding"
   ]
  },
  {
   "cell_type": "code",
   "execution_count": 14,
   "id": "49ae24f8-aa70-4d4c-8df4-14cbd15a077e",
   "metadata": {},
   "outputs": [
    {
     "ename": "NameError",
     "evalue": "name 'checkpoint' is not defined",
     "output_type": "error",
     "traceback": [
      "\u001b[0;31m---------------------------------------------------------------------------\u001b[0m",
      "\u001b[0;31mNameError\u001b[0m                                 Traceback (most recent call last)",
      "\u001b[0;32m<ipython-input-14-620000e28d4a>\u001b[0m in \u001b[0;36m<module>\u001b[0;34m\u001b[0m\n\u001b[1;32m      1\u001b[0m \u001b[0mgenerator\u001b[0m \u001b[0;34m=\u001b[0m \u001b[0mInRepPlusGAN\u001b[0m\u001b[0;34m(\u001b[0m\u001b[0mstyle_dim\u001b[0m\u001b[0;34m=\u001b[0m\u001b[0mSTYLE_DIM\u001b[0m\u001b[0;34m)\u001b[0m\u001b[0;31m#.to(device)\u001b[0m\u001b[0;34m\u001b[0m\u001b[0;34m\u001b[0m\u001b[0m\n\u001b[0;32m----> 2\u001b[0;31m \u001b[0mgenerator\u001b[0m\u001b[0;34m.\u001b[0m\u001b[0mload_state_dict\u001b[0m\u001b[0;34m(\u001b[0m\u001b[0mcheckpoint\u001b[0m\u001b[0;34m[\u001b[0m\u001b[0;34m'g_state_dict'\u001b[0m\u001b[0;34m]\u001b[0m\u001b[0;34m)\u001b[0m\u001b[0;34m\u001b[0m\u001b[0;34m\u001b[0m\u001b[0m\n\u001b[0m\u001b[1;32m      3\u001b[0m generator_output, modifier_output = generator(\n\u001b[1;32m      4\u001b[0m     \u001b[0minput_ids\u001b[0m\u001b[0;34m=\u001b[0m\u001b[0minput_batch\u001b[0m\u001b[0;34m[\u001b[0m\u001b[0;34m\"input_ids\"\u001b[0m\u001b[0;34m]\u001b[0m\u001b[0;34m,\u001b[0m\u001b[0;34m\u001b[0m\u001b[0;34m\u001b[0m\u001b[0m\n\u001b[1;32m      5\u001b[0m     \u001b[0mattention_mask\u001b[0m\u001b[0;34m=\u001b[0m\u001b[0minput_batch\u001b[0m\u001b[0;34m[\u001b[0m\u001b[0;34m\"attention_mask\"\u001b[0m\u001b[0;34m]\u001b[0m\u001b[0;34m,\u001b[0m\u001b[0;34m\u001b[0m\u001b[0;34m\u001b[0m\u001b[0m\n",
      "\u001b[0;31mNameError\u001b[0m: name 'checkpoint' is not defined"
     ]
    }
   ],
   "source": [
    "\n",
    "generator = InRepPlusGAN(style_dim=STYLE_DIM)#.to(device)\n",
    "generator.load_state_dict(checkpoint['g_state_dict'])\n",
    "generator_output, modifier_output = generator(\n",
    "    input_ids=input_batch[\"input_ids\"],\n",
    "    attention_mask=input_batch[\"attention_mask\"],\n",
    "    style_encoding=style_encoding,\n",
    ")\n",
    "generated_tokens = generator_output.logits.argmax(-1)\n",
    "tokenizer.batch_decode(generated_tokens, skip_special_tokens=True)"
   ]
  },
  {
   "cell_type": "code",
   "execution_count": 15,
   "id": "1ce799db-2325-4463-8669-7ee98011d7b2",
   "metadata": {},
   "outputs": [
    {
     "data": {
      "text/plain": [
       "torch.Size([1, 1024, 768])"
      ]
     },
     "execution_count": 15,
     "metadata": {},
     "output_type": "execute_result"
    }
   ],
   "source": [
    "batch_size, seq_len, hidden_dim = modifier_output.shape\n",
    "modifier_output.shape"
   ]
  },
  {
   "cell_type": "code",
   "execution_count": 16,
   "id": "9c563425-dcc6-4f2d-85bd-81917317e6f4",
   "metadata": {},
   "outputs": [
    {
     "data": {
      "text/plain": [
       "torch.Size([1, 786432])"
      ]
     },
     "execution_count": 16,
     "metadata": {},
     "output_type": "execute_result"
    }
   ],
   "source": [
    "modifier_output.view(batch_size, seq_len*hidden_dim).shape"
   ]
  },
  {
   "cell_type": "code",
   "execution_count": 21,
   "id": "e8aec65e-69d8-4510-8f96-0400845bedb5",
   "metadata": {},
   "outputs": [],
   "source": [
    "cossim = torch.nn.CosineSimilarity(dim=-1, eps=1e-08)(generated_encoding, modifier_output)"
   ]
  },
  {
   "cell_type": "code",
   "execution_count": 24,
   "id": "88b6645c-6104-4444-b850-59bc72583e15",
   "metadata": {},
   "outputs": [
    {
     "data": {
      "text/plain": [
       "tensor(-0.0402, grad_fn=<NegBackward0>)"
      ]
     },
     "execution_count": 24,
     "metadata": {},
     "output_type": "execute_result"
    }
   ],
   "source": [
    "-cossim.mean()"
   ]
  },
  {
   "cell_type": "code",
   "execution_count": 14,
   "id": "7663f94a-af92-440b-96e2-05adbb1aa081",
   "metadata": {},
   "outputs": [
    {
     "data": {
      "text/plain": [
       "(tensor(0.0503, requires_grad=True), tensor(0.0278, requires_grad=True))"
      ]
     },
     "execution_count": 14,
     "metadata": {},
     "output_type": "execute_result"
    }
   ],
   "source": [
    "\n",
    "PATH = \"checkpoint/plbart_token_level_embed_with_new_loss_batch_8_1657011226_epoch_0.pt\"\n",
    "checkpoint = torch.load(PATH, map_location=torch.device('cpu'))\n",
    "checkpoint[\"g_loss\"], checkpoint[\"d_loss\"]"
   ]
  },
  {
   "cell_type": "code",
   "execution_count": 13,
   "id": "6d5a4f63-daf0-4ede-a49a-41edb2bee065",
   "metadata": {},
   "outputs": [
    {
     "data": {
      "text/plain": [
       "['return return return return return return return return return return return return return return return return return return return return return return return return return return return return return return return return return return return return return return return return return return return return return return return return return return return return return return return return return return return return return return return return return return return return return return return return return return return return return return return return return return return return return return return return return return return return return return return return return return return return return return return return return return return return return return return return return return return return return return return return return return return return return return return return return return return return return return return return return return return return return return return return return return return return return return return return return return return return return return return return return return return return return return return return return return return return return return return return return return return return return return return return return return return return return return return return return return return return return return return return return return return return return return return return return return return return return return return return return return return return return return return return return return return return return return return return return return return return return return return return return return return return return return return return return return return return return return return return return return return return return return return return return return return return return return return return return return return return return return return return return return return return return return return return return return return return return return return return return return return return return return return return return return return return return return return return return return return return return return return return return return return return return return return return return return return return return return return return return return return return return return return return return return return return return return return return return return return return return return return return return return return return return return return return return return return return return return return return return return return return return return return return return return return return return return return return return return return return return return return return return return return return return return return return return return return return return return return return return return return return return return return return return return return return return return return return return return return return return return return return return return return return return return return return return return return return return return return return return return return return return return return return return return return return return return return return return return return return return return return return return return return return return return return return return return return return return return return return return return return return return return return return return return return return return return return return return return return return return return return return return return return return return return return return return return return return return return return return return return return return return return return return return return return return return return return return return return return return return return return return return return return return return return return return return return return return return return return return return return return return return return return return return return return return return return return return return return return return return return return return return return return return return return return return return return return return return return return return return return return return return return return return return return return return return return return return return return return return return return return return return return return return return return return return return return return return return return return return return return return return return return return return return return return return return return return return return return return return return return return return return return return return return return return return return return return return return return return return return return return return return return return return return return return return return return return return return return return return return return return return return return return return return return return return return return return return return return return return return return return return return return return return return return return return return return return return return return return return return return return return return return return return return return return return return return return return return return return return return return return return return return return return return return return return return return return return return return return return return return return return return return return return return return return return return return return return return return return return return return return return return return return return return return return return return return return return return return return return return return return return return return return return return return return return return return return return return return return return return return return return return return return return return return return return return return return return return return return return return return return return return return return return return return return return return return return return return return return return return return return return return return return return return return return return return return return return return return return return return return return return return return return return return return return return return return return return return return return return return return return return return return return return return return return return return return return return return return return return return return return return return return return return return return return return return return return return return return return return return return return return return return return return return return return return return return return return return return return return return return return return return return return return return return return return return return return return return return return return return return return return return return return return']"
      ]
     },
     "execution_count": 13,
     "metadata": {},
     "output_type": "execute_result"
    }
   ],
   "source": [
    "\n",
    "generator = InRepPlusGAN(style_dim=STYLE_DIM)#.to(device)\n",
    "generator.load_state_dict(checkpoint['g_state_dict'])\n",
    "generator_output, modifier_output = generator(\n",
    "    input_ids=input_batch[\"input_ids\"],\n",
    "    attention_mask=input_batch[\"attention_mask\"],\n",
    "    style_encoding=style_encoding,\n",
    ")\n",
    "generated_tokens = generator_output.logits.argmax(-1)\n",
    "tokenizer.batch_decode(generated_tokens, skip_special_tokens=True)"
   ]
  },
  {
   "cell_type": "code",
   "execution_count": 17,
   "id": "d338e14d-186e-42e0-a21f-17ef1d7eccfd",
   "metadata": {},
   "outputs": [
    {
     "data": {
      "text/plain": [
       "torch.Size([1, 1024])"
      ]
     },
     "execution_count": 17,
     "metadata": {},
     "output_type": "execute_result"
    }
   ],
   "source": [
    "generator_output.logits.argmax(-1).shape"
   ]
  },
  {
   "cell_type": "code",
   "execution_count": 1,
   "id": "c93dd2e1-21a5-4277-a007-290bba2e1fa8",
   "metadata": {},
   "outputs": [
    {
     "name": "stderr",
     "output_type": "stream",
     "text": [
      "Special tokens have been added in the vocabulary, make sure the associated word embeddings are fine-tuned or trained.\n"
     ]
    }
   ],
   "source": [
    "from data import train_dataset"
   ]
  },
  {
   "cell_type": "code",
   "execution_count": 15,
   "id": "825834bb-18f7-4d6d-955e-7b3d341a13a0",
   "metadata": {},
   "outputs": [],
   "source": [
    "from datasets import Dataset"
   ]
  },
  {
   "cell_type": "code",
   "execution_count": 16,
   "id": "d9c62bb6-fbc8-47c9-892a-b585be625783",
   "metadata": {},
   "outputs": [],
   "source": [
    "train_dataset = Dataset.from_dict(train_dataset[:64])"
   ]
  },
  {
   "cell_type": "code",
   "execution_count": 17,
   "id": "eba45db6-9dc6-43d9-b42e-1392e8b87131",
   "metadata": {},
   "outputs": [],
   "source": [
    "example = train_dataset[\"input_ids\"][0]"
   ]
  },
  {
   "cell_type": "code",
   "execution_count": 19,
   "id": "d095873f-c793-4051-86db-af071363a666",
   "metadata": {},
   "outputs": [
    {
     "data": {
      "text/plain": [
       "['# coding: utf-8 \"\"\" Wavefront REST API <p>The Wavefront REST API enables you to interact with Wavefront servers using standard REST API tools. You can use the REST API to automate commonly executed operations such as automatically tagging sources.</p><p>When you make REST API calls outside the Wavefront REST API documentation you must add the header \\\\\"Authorization: Bearer &lt;&lt;API-TOKEN&gt;&gt;\\\\\" to your HTTP requests.</p> # noqa: E501 OpenAPI spec version: v2 Contact: chitimba@wavefront.com Generated by: https://github.com/swagger-api/swagger-codegen.git \"\"\" from __future__ import absolute_import import unittest import wavefront_api_client from wavefront_api_client.models.service_account import ServiceAccount # noqa: E501 from wavefront_api_client.rest import ApiException class TestServiceAccount(unittest.TestCase): \"\"\"ServiceAccount unit test stubs\"\"\" def setUp(self): pass def tearDown(self): pass def testServiceAccount(self): \"\"\"Test ServiceAccount\"\"\" # FIXME: construct object with mandatory attributes with example values # model = wavefront_api_client.models.service_account.ServiceAccount() # noqa: E501 pass if __name__ == \\'__main__\\': unittest.main()']"
      ]
     },
     "execution_count": 19,
     "metadata": {},
     "output_type": "execute_result"
    }
   ],
   "source": [
    "tokenizer.batch_decode([example], skip_special_tokens=True)"
   ]
  },
  {
   "cell_type": "code",
   "execution_count": 20,
   "id": "54e62526-2e69-43aa-bff7-26139ae0558c",
   "metadata": {},
   "outputs": [],
   "source": [
    "from utils.model_utils import label_tensor_to_one_hot\n",
    "\n",
    "style_encoding = label_tensor_to_one_hot(\n",
    "    torch.Tensor([1]).long(), STYLE_DIM\n",
    ")#.to(device)"
   ]
  },
  {
   "cell_type": "code",
   "execution_count": 21,
   "id": "a99d7cb8-7c96-4c48-8ee8-4b9f6a360efa",
   "metadata": {},
   "outputs": [
    {
     "data": {
      "text/plain": [
       "['# coding: utf-8 \"\"\" Wavefront REST API <p>The Wavefront REST API enables you to interact with Wavefront servers using standard REST API tools. You can use the REST API to automate commonly executed operations such as automatically tagging sources.</p><p>When you make REST API calls outside the Wavefront REST API documentation you must add the header \\\\\"Authorization: Bearer &lt;&lt;API-TOKEN&gt;&gt;\\\\\" to your HTTP requests.</p> # noqa: E501 OpenAPI spec version: v2 Contact: chitimba@wavefront.com Generated by: https://github.com/swagger-api/swagger-codegen.git \"\"\" from __future__ import absolute_import import unittest import wavefront_api_client from wavefront_api_client.models.service_account import ServiceAccount # noqa: E501 from wavefront_api_client.rest import ApiException class TestServiceAccount(unittest.TestCase): \"\"\"ServiceAccount unit test stubs\"\"\" def setUp(self): pass def tearDown(self): pass def testServiceAccount(self): \"\"\"Test ServiceAccount\"\"\" # FIXME: construct object with mandatory attributes with example values # model = wavefront_api_client.models.service_account.ServiceAccount() # noqa: E501 pass if __name__ == \\'__main__\\': unittest.main()']"
      ]
     },
     "execution_count": 21,
     "metadata": {},
     "output_type": "execute_result"
    }
   ],
   "source": [
    "tokenizer.batch_decode([example], skip_special_tokens=True)"
   ]
  },
  {
   "cell_type": "code",
   "execution_count": 28,
   "id": "4dc831b2-175e-4ed6-864b-ca27d735f54b",
   "metadata": {},
   "outputs": [
    {
     "data": {
      "text/plain": [
       "['0 not 0 0 not not 0 not not not not not not not not not not not not not not not not not not not not not not not not not not not not not not not not not not not not not not not not not not not not not not not not not not not not not not not not not not not not not not not not not not not not not not not not not not not not not not not not not not not not not not not not not not not not not not not not not not not not not not not not not not not not not not not not not not not not not not not not not not not not not not not not not not not not not not not not not not not not not not not not not not 0 0 0 0 0 0 0 0 0 0 not 0 not 0 0 0 0 0 0 0 0 0 0 0 0 0 0 0 0 0 0 0 0 0 0 0 0 0 0 0 0 0 0 0 0 0 0 0 0 0 0 0 0 0 0 not 0 0 0 0 0 0 0 0 0 0 0 0 0 0 0 0 0 0 0 0 0 0 0 0 0 0 0 0 0 0 0 0 0 0 0 0 0 0 0 0 0 0 0 0 0 0 0 0 0 0 0 0 0 0 0 0 0 not not 0 not 0 0 0 not 0 not 0 not 0 0 0 0 0 0 0 0 0 0 0 0 0 0 0 0 0 0 not 0 0 0 0 0 0 not not not not not not not not not not not not not not not not not not not not not not not not not not not not not 0 0 not 0 0 0 0 0 0 0 0 0 0 0 0 0 0 0 0 0 0 0 0 0 0 0 0 0 0 0 0 0 0 0 0 0 0 0 0 0 0 0 0 0 0 0 0 0 0 0 0 0 0 not not not not 0 0 0 0 0 0 0 0 0 0 0 0 0 0 0 0 0 0 0 not not not not not not not not not not not not not not not not not not not not not not not not not not not not not not not not not not not not not not not not not not not not not not not not not not not not not not not not not not not not not not not not not not not not not not not not not not not not not not not not not not 0 0 0 0 0 0 0 0 0 0 0 0 0 0 0 0 0 0 0 0 0 0 0 0 0 0 0 0 0 0 0 0 0 0 0 0 0 0 0 0 0 0 0 0 0 0 0 0 0 0 0 0 0 0 0 0 0 0 0 0 0 0 0 0 0 0 0 0 0 0 0 0 0 0 0 0 0 0 0 0 0 0 0 0 0 0 0 0 0 0 0 0 0 0 0 0 0 0 not not not not 0 0 not not not not 0 0 0 0 0 0 0 0 0 0 0 0 0 0 0 0 0 0 0 0 0 0 0 0 0 0 0 0 0 0 0 0 0 0 0 0 0 0 0 0 0 0 0 0 0 0 0 0 0 0 0 0 0 0 0 0 0 0 0 0 0 0 0 0 0 0 0 0 0 0 0 0 0 0 0 0 0 0 0 0 0 0 0 0 0 0 0 0 0 0 0 0 0 0 0 0 0 0 0 0 0 0 0 0 0 0 0 0 0 0 0 0 0 0 0 0 0 0 0 0 0 0 0 0 0 0 0 0 0 0 0 0 0 0 0 0 0 0 0 0 0 0 0 0 0 0 0 0 0 0 0 0 0 0 0 0 0 0 0 0 0 0 0 0 0 0 0 0 0 0 0 0 0 0 0 0 0 0 0 0 0 0 0 0 0 0 0 0 0 0 0 0 0 0 0 0 0 0 0 0 0 0 0 0 0 0 0 0 0 0 0 0 0 0 0 0 0 0 0 0 0 0 0 0 0 0 0 0 0 0 0 0 0 0 0 0 0 0 0 0 0 0 0 0 0 0 0 0 0 0 0 0 0 0 0 0 0 0 0 0 0 0 0 0 0 0 0 0 0 0 0 0 0 0 0 0 0 0 0 0 0 0 0 0 0 0 0 0 0 0 0 0 0 0 0 0 0 0 0 0 0 0 0 0 0 0 0 0 0 0 0 0 0 0 0 0 0 0 0 0 0 0 0 0 0 0 0 0 0 0 0 0 0 0 0 0 0 0 0 0 0 0 0 0 0 0 0 0 0 0 0 0 0 0 0 0 0 0 0 0 0 0 0 0 0 0 0 0 0 0 0 0 0 0 0 0 0 0 0 0 0 0 0 0 0 0 0 0 0 0 0 0 0 0 0 0 0 0 0 0 0 0']"
      ]
     },
     "execution_count": 28,
     "metadata": {},
     "output_type": "execute_result"
    }
   ],
   "source": [
    "\n",
    "style_encoding = label_tensor_to_one_hot(\n",
    "    torch.Tensor([17]).long(), STYLE_DIM\n",
    ")#.to(device)\n",
    "\n",
    "generator = InRepPlusGAN(style_dim=STYLE_DIM)#.to(device)\n",
    "generator.load_state_dict(checkpoint['g_state_dict'])\n",
    "generator_output, modifier_output = generator(\n",
    "    input_ids=torch.Tensor(example).long().unsqueeze(0),\n",
    "    # attention_mask=input_batch[\"attention_mask\"],\n",
    "    style_encoding=style_encoding,\n",
    ")\n",
    "generated_tokens = generator_output.logits.argmax(-1)\n",
    "tokenizer.batch_decode(generated_tokens, skip_special_tokens=True)"
   ]
  },
  {
   "cell_type": "code",
   "execution_count": null,
   "id": "35ff8564-a93e-4d5f-91dc-0a4790424551",
   "metadata": {},
   "outputs": [],
   "source": []
  }
 ],
 "metadata": {
  "kernelspec": {
   "display_name": "Python 3",
   "language": "python",
   "name": "python3"
  },
  "language_info": {
   "codemirror_mode": {
    "name": "ipython",
    "version": 3
   },
   "file_extension": ".py",
   "mimetype": "text/x-python",
   "name": "python",
   "nbconvert_exporter": "python",
   "pygments_lexer": "ipython3",
   "version": "3.8.12"
  }
 },
 "nbformat": 4,
 "nbformat_minor": 5
}

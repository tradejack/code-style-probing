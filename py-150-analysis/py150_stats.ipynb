{
 "cells": [
  {
   "cell_type": "code",
   "execution_count": 1,
   "metadata": {},
   "outputs": [],
   "source": [
    "import pandas as pd\n",
    "\n",
    "\n",
    "samples = None\n",
    "\n",
    "with open(\"../data/py150/python100k_train.json\") as json_file:\n",
    "    chunks = pd.read_json(json_file, lines=True, chunksize=1)\n",
    "    for c in chunks:\n",
    "        samples = c\n",
    "        break"
   ]
  },
  {
   "cell_type": "code",
   "execution_count": 2,
   "metadata": {},
   "outputs": [
    {
     "data": {
      "text/html": [
       "<div>\n",
       "<style scoped>\n",
       "    .dataframe tbody tr th:only-of-type {\n",
       "        vertical-align: middle;\n",
       "    }\n",
       "\n",
       "    .dataframe tbody tr th {\n",
       "        vertical-align: top;\n",
       "    }\n",
       "\n",
       "    .dataframe thead th {\n",
       "        text-align: right;\n",
       "    }\n",
       "</style>\n",
       "<table border=\"1\" class=\"dataframe\">\n",
       "  <thead>\n",
       "    <tr style=\"text-align: right;\">\n",
       "      <th></th>\n",
       "      <th>0</th>\n",
       "      <th>1</th>\n",
       "      <th>2</th>\n",
       "      <th>3</th>\n",
       "      <th>4</th>\n",
       "      <th>5</th>\n",
       "      <th>6</th>\n",
       "      <th>7</th>\n",
       "      <th>8</th>\n",
       "      <th>9</th>\n",
       "      <th>...</th>\n",
       "      <th>106</th>\n",
       "      <th>107</th>\n",
       "      <th>108</th>\n",
       "      <th>109</th>\n",
       "      <th>110</th>\n",
       "      <th>111</th>\n",
       "      <th>112</th>\n",
       "      <th>113</th>\n",
       "      <th>114</th>\n",
       "      <th>115</th>\n",
       "    </tr>\n",
       "  </thead>\n",
       "  <tbody>\n",
       "    <tr>\n",
       "      <th>0</th>\n",
       "      <td>{'type': 'Module', 'children': [1, 3, 5, 7, 9,...</td>\n",
       "      <td>{'type': 'Expr', 'children': [2]}</td>\n",
       "      <td>{'type': 'Str', 'value': ' Provides ``mapping`...</td>\n",
       "      <td>{'type': 'ImportFrom', 'children': [4], 'value...</td>\n",
       "      <td>{'type': 'alias', 'value': 'Bootstrap'}</td>\n",
       "      <td>{'type': 'ImportFrom', 'children': [6], 'value...</td>\n",
       "      <td>{'type': 'alias', 'value': 'InstantPaymentNoti...</td>\n",
       "      <td>{'type': 'ImportFrom', 'children': [8], 'value...</td>\n",
       "      <td>{'type': 'alias', 'value': 'ThankYouHandler'}</td>\n",
       "      <td>{'type': 'ImportFrom', 'children': [10], 'valu...</td>\n",
       "      <td>...</td>\n",
       "      <td>{'type': 'NameLoad', 'value': 'Base64Blob'}</td>\n",
       "      <td>{'type': 'TupleLoad', 'children': [108, 109]}</td>\n",
       "      <td>{'type': 'Str', 'value': '/blob64/([^/]+)\\/?'}</td>\n",
       "      <td>{'type': 'NameLoad', 'value': 'Base64Blob'}</td>\n",
       "      <td>{'type': 'TupleLoad', 'children': [111, 112]}</td>\n",
       "      <td>{'type': 'Str', 'value': '/i18n/message_string...</td>\n",
       "      <td>{'type': 'NameLoad', 'value': 'MessageStrings'}</td>\n",
       "      <td>{'type': 'TupleLoad', 'children': [114, 115]}</td>\n",
       "      <td>{'type': 'Str', 'value': '/.*'}</td>\n",
       "      <td>{'type': 'NameLoad', 'value': 'NotFound'}</td>\n",
       "    </tr>\n",
       "  </tbody>\n",
       "</table>\n",
       "<p>1 rows × 116 columns</p>\n",
       "</div>"
      ],
      "text/plain": [
       "                                                 0    \\\n",
       "0  {'type': 'Module', 'children': [1, 3, 5, 7, 9,...   \n",
       "\n",
       "                                 1    \\\n",
       "0  {'type': 'Expr', 'children': [2]}   \n",
       "\n",
       "                                                 2    \\\n",
       "0  {'type': 'Str', 'value': ' Provides ``mapping`...   \n",
       "\n",
       "                                                 3    \\\n",
       "0  {'type': 'ImportFrom', 'children': [4], 'value...   \n",
       "\n",
       "                                       4    \\\n",
       "0  {'type': 'alias', 'value': 'Bootstrap'}   \n",
       "\n",
       "                                                 5    \\\n",
       "0  {'type': 'ImportFrom', 'children': [6], 'value...   \n",
       "\n",
       "                                                 6    \\\n",
       "0  {'type': 'alias', 'value': 'InstantPaymentNoti...   \n",
       "\n",
       "                                                 7    \\\n",
       "0  {'type': 'ImportFrom', 'children': [8], 'value...   \n",
       "\n",
       "                                             8    \\\n",
       "0  {'type': 'alias', 'value': 'ThankYouHandler'}   \n",
       "\n",
       "                                                 9    ...  \\\n",
       "0  {'type': 'ImportFrom', 'children': [10], 'valu...  ...   \n",
       "\n",
       "                                           106  \\\n",
       "0  {'type': 'NameLoad', 'value': 'Base64Blob'}   \n",
       "\n",
       "                                             107  \\\n",
       "0  {'type': 'TupleLoad', 'children': [108, 109]}   \n",
       "\n",
       "                                              108  \\\n",
       "0  {'type': 'Str', 'value': '/blob64/([^/]+)\\/?'}   \n",
       "\n",
       "                                           109  \\\n",
       "0  {'type': 'NameLoad', 'value': 'Base64Blob'}   \n",
       "\n",
       "                                             110  \\\n",
       "0  {'type': 'TupleLoad', 'children': [111, 112]}   \n",
       "\n",
       "                                                 111  \\\n",
       "0  {'type': 'Str', 'value': '/i18n/message_string...   \n",
       "\n",
       "                                               112  \\\n",
       "0  {'type': 'NameLoad', 'value': 'MessageStrings'}   \n",
       "\n",
       "                                             113  \\\n",
       "0  {'type': 'TupleLoad', 'children': [114, 115]}   \n",
       "\n",
       "                               114                                        115  \n",
       "0  {'type': 'Str', 'value': '/.*'}  {'type': 'NameLoad', 'value': 'NotFound'}  \n",
       "\n",
       "[1 rows x 116 columns]"
      ]
     },
     "execution_count": 2,
     "metadata": {},
     "output_type": "execute_result"
    }
   ],
   "source": [
    "samples"
   ]
  },
  {
   "cell_type": "code",
   "execution_count": 3,
   "metadata": {},
   "outputs": [],
   "source": [
    "def fill_na(sample_ast):\n",
    "    for node in sample_ast:\n",
    "        node[\"children\"] = node.get(\"children\", None)\n",
    "        node[\"value\"] = node.get(\"value\", None)\n",
    "    return sample_ast\n",
    "\n",
    "\n",
    "results = []\n",
    "for idx in samples.index:\n",
    "    sample = samples.loc[idx].dropna()\n",
    "    sample_ast = sample.values.tolist()\n",
    "    filled_sample_ast = fill_na(sample_ast)\n",
    "    results += filled_sample_ast\n",
    "\n",
    "ast_df = pd.DataFrame(results)"
   ]
  },
  {
   "cell_type": "code",
   "execution_count": 4,
   "metadata": {},
   "outputs": [
    {
     "data": {
      "text/html": [
       "<div>\n",
       "<style scoped>\n",
       "    .dataframe tbody tr th:only-of-type {\n",
       "        vertical-align: middle;\n",
       "    }\n",
       "\n",
       "    .dataframe tbody tr th {\n",
       "        vertical-align: top;\n",
       "    }\n",
       "\n",
       "    .dataframe thead th {\n",
       "        text-align: right;\n",
       "    }\n",
       "</style>\n",
       "<table border=\"1\" class=\"dataframe\">\n",
       "  <thead>\n",
       "    <tr style=\"text-align: right;\">\n",
       "      <th></th>\n",
       "      <th>type</th>\n",
       "      <th>children</th>\n",
       "      <th>value</th>\n",
       "    </tr>\n",
       "  </thead>\n",
       "  <tbody>\n",
       "    <tr>\n",
       "      <th>0</th>\n",
       "      <td>Module</td>\n",
       "      <td>[1, 3, 5, 7, 9, 11]</td>\n",
       "      <td>None</td>\n",
       "    </tr>\n",
       "    <tr>\n",
       "      <th>1</th>\n",
       "      <td>Expr</td>\n",
       "      <td>[2]</td>\n",
       "      <td>None</td>\n",
       "    </tr>\n",
       "    <tr>\n",
       "      <th>2</th>\n",
       "      <td>Str</td>\n",
       "      <td>None</td>\n",
       "      <td>Provides ``mapping`` of url paths to request ...</td>\n",
       "    </tr>\n",
       "    <tr>\n",
       "      <th>3</th>\n",
       "      <td>ImportFrom</td>\n",
       "      <td>[4]</td>\n",
       "      <td>bootstrap</td>\n",
       "    </tr>\n",
       "    <tr>\n",
       "      <th>4</th>\n",
       "      <td>alias</td>\n",
       "      <td>None</td>\n",
       "      <td>Bootstrap</td>\n",
       "    </tr>\n",
       "    <tr>\n",
       "      <th>...</th>\n",
       "      <td>...</td>\n",
       "      <td>...</td>\n",
       "      <td>...</td>\n",
       "    </tr>\n",
       "    <tr>\n",
       "      <th>111</th>\n",
       "      <td>Str</td>\n",
       "      <td>None</td>\n",
       "      <td>/i18n/message_strings.json</td>\n",
       "    </tr>\n",
       "    <tr>\n",
       "      <th>112</th>\n",
       "      <td>NameLoad</td>\n",
       "      <td>None</td>\n",
       "      <td>MessageStrings</td>\n",
       "    </tr>\n",
       "    <tr>\n",
       "      <th>113</th>\n",
       "      <td>TupleLoad</td>\n",
       "      <td>[114, 115]</td>\n",
       "      <td>None</td>\n",
       "    </tr>\n",
       "    <tr>\n",
       "      <th>114</th>\n",
       "      <td>Str</td>\n",
       "      <td>None</td>\n",
       "      <td>/.*</td>\n",
       "    </tr>\n",
       "    <tr>\n",
       "      <th>115</th>\n",
       "      <td>NameLoad</td>\n",
       "      <td>None</td>\n",
       "      <td>NotFound</td>\n",
       "    </tr>\n",
       "  </tbody>\n",
       "</table>\n",
       "<p>116 rows × 3 columns</p>\n",
       "</div>"
      ],
      "text/plain": [
       "           type             children  \\\n",
       "0        Module  [1, 3, 5, 7, 9, 11]   \n",
       "1          Expr                  [2]   \n",
       "2           Str                 None   \n",
       "3    ImportFrom                  [4]   \n",
       "4         alias                 None   \n",
       "..          ...                  ...   \n",
       "111         Str                 None   \n",
       "112    NameLoad                 None   \n",
       "113   TupleLoad           [114, 115]   \n",
       "114         Str                 None   \n",
       "115    NameLoad                 None   \n",
       "\n",
       "                                                 value  \n",
       "0                                                 None  \n",
       "1                                                 None  \n",
       "2     Provides ``mapping`` of url paths to request ...  \n",
       "3                                            bootstrap  \n",
       "4                                            Bootstrap  \n",
       "..                                                 ...  \n",
       "111                         /i18n/message_strings.json  \n",
       "112                                     MessageStrings  \n",
       "113                                               None  \n",
       "114                                                /.*  \n",
       "115                                           NotFound  \n",
       "\n",
       "[116 rows x 3 columns]"
      ]
     },
     "execution_count": 4,
     "metadata": {},
     "output_type": "execute_result"
    }
   ],
   "source": [
    "ast_df"
   ]
  },
  {
   "cell_type": "code",
   "execution_count": 5,
   "metadata": {},
   "outputs": [
    {
     "data": {
      "text/plain": [
       "array(['Module', 'Expr', 'Str', 'ImportFrom', 'alias', 'Assign',\n",
       "       'NameStore', 'ListLoad', 'TupleLoad', 'NameLoad'], dtype=object)"
      ]
     },
     "execution_count": 5,
     "metadata": {},
     "output_type": "execute_result"
    }
   ],
   "source": [
    "ast_df[\"type\"].unique()"
   ]
  },
  {
   "cell_type": "code",
   "execution_count": 6,
   "metadata": {},
   "outputs": [
    {
     "data": {
      "text/plain": [
       "Str           35\n",
       "TupleLoad     34\n",
       "NameLoad      34\n",
       "ImportFrom     4\n",
       "alias          4\n",
       "Module         1\n",
       "Expr           1\n",
       "Assign         1\n",
       "NameStore      1\n",
       "ListLoad       1\n",
       "Name: type, dtype: int64"
      ]
     },
     "execution_count": 6,
     "metadata": {},
     "output_type": "execute_result"
    }
   ],
   "source": [
    "ast_df[\"type\"].value_counts()"
   ]
  },
  {
   "cell_type": "code",
   "execution_count": 7,
   "metadata": {},
   "outputs": [],
   "source": [
    "def count_identifiers(ast):\n",
    "    count = 0\n",
    "    for node in ast:\n",
    "        if node.get(\"type\", None) == \"identifier\":\n",
    "            count += 1\n",
    "    return count"
   ]
  },
  {
   "cell_type": "code",
   "execution_count": 8,
   "metadata": {},
   "outputs": [],
   "source": [
    "import re\n",
    "\n",
    "\n",
    "def count_casing(input_code):\n",
    "    case_dict = {\"lowerCamelCase\": 0, \"UpperCamelCase\": 0, \"snake_case\": 0}\n",
    "    lower_camel = r\"[a-z]+([A-Z][a-z0-9]+)+\"\n",
    "    upper_camel = r\"[A-Z][a-z]+([A-Z][a-z0-9]+)+\"\n",
    "    snake = r\"[a-z]+(_[a-z0-9]+)+\"\n",
    "    input_code = input_code.replace(\"(\", \" \")\n",
    "    input_code = input_code.replace(\")\", \" \")\n",
    "    for token in input_code.split():\n",
    "        if re.match(lower_camel, token):\n",
    "            case_dict[\"lowerCamelCase\"] += 1\n",
    "        elif re.match(upper_camel, token):\n",
    "            case_dict[\"UpperCamelCase\"] += 1\n",
    "        elif re.match(snake, token):\n",
    "            case_dict[\"snake_case\"] += 1\n",
    "    return case_dict\n",
    "\n",
    "\n",
    "def count_docstrings(input_code):\n",
    "    docstr = r\"\\\"\\\"\\\"[\\s\\S]*?\\\"\\\"\\\"|\\'\\'\\'[\\s\\S]*?\\'\\'\\'\"\n",
    "    search = re.findall(docstr, input_code)\n",
    "    doc_len = 0\n",
    "    for docstring in search:\n",
    "        doc_len += len(docstring)\n",
    "    return len(search), doc_len\n",
    "\n",
    "\n",
    "def count_comments(input_code):\n",
    "    comment = r\"#.*\"\n",
    "    search = re.findall(comment, input_code)\n",
    "    comment_len = 0\n",
    "    for comment in search:\n",
    "        comment_len += len(comment)\n",
    "    return len(search), comment_len"
   ]
  },
  {
   "cell_type": "code",
   "execution_count": 9,
   "metadata": {},
   "outputs": [],
   "source": [
    "def read_file_to_string(filename):\n",
    "    f = open(filename, \"rb\")\n",
    "    s = \"\"\n",
    "    try:\n",
    "        s = f.read()\n",
    "    except:\n",
    "        print(filename)\n",
    "    f.close()\n",
    "    return s.decode(errors=\"replace\")"
   ]
  },
  {
   "cell_type": "code",
   "execution_count": 10,
   "metadata": {},
   "outputs": [
    {
     "data": {
      "text/plain": [
       "'def function_name(par_1, parTwo, camelCase):\\n\\t\\'\\'\\'\\n\\tdocstring time 1\\n\\t\\'\\'\\'\\n\\t\"\"\"\\n\\tdocstring time 2\\n\\t\"\"\"\\n    # single line comment\\n\\tvar_1 = 42 # cool and awesome comment\\n\\tprint(\\'hello world!\\') #comment too\\n\\treturn '"
      ]
     },
     "execution_count": 10,
     "metadata": {},
     "output_type": "execute_result"
    }
   ],
   "source": [
    "test_code = read_file_to_string(f\"./test_code.py\")\n",
    "test_code"
   ]
  },
  {
   "cell_type": "code",
   "execution_count": 11,
   "metadata": {},
   "outputs": [
    {
     "data": {
      "text/plain": [
       "(2, 52)"
      ]
     },
     "execution_count": 11,
     "metadata": {},
     "output_type": "execute_result"
    }
   ],
   "source": [
    "count_docstrings(test_code)"
   ]
  },
  {
   "cell_type": "code",
   "execution_count": 12,
   "metadata": {},
   "outputs": [
    {
     "data": {
      "text/plain": [
       "(3, 59)"
      ]
     },
     "execution_count": 12,
     "metadata": {},
     "output_type": "execute_result"
    }
   ],
   "source": [
    "count_comments(test_code)"
   ]
  },
  {
   "cell_type": "code",
   "execution_count": 13,
   "metadata": {},
   "outputs": [],
   "source": [
    "train_file_name = \"../data/py150/py150_files/python100k_train.txt\"\n",
    "eval_file_name = \"../data/py150/py150_files/python50k_eval.txt\"\n",
    "\n",
    "def read_train_data(file_name, batch_size=None):\n",
    "    file_names = []\n",
    "    with open(file_name, \"r\") as f:\n",
    "        while True:\n",
    "            line = f.readline()\n",
    "            if not line:\n",
    "                break\n",
    "\n",
    "            file_names += [line.strip()]\n",
    "\n",
    "            if batch_size and len(file_names) >= batch_size:\n",
    "                break\n",
    "\n",
    "    return file_names"
   ]
  },
  {
   "cell_type": "code",
   "execution_count": 14,
   "metadata": {},
   "outputs": [],
   "source": [
    "from tqdm import tqdm\n",
    "\n",
    "\n",
    "def create_df(data):\n",
    "    data_df = pd.DataFrame(data, columns=[\"file_name\"])\n",
    "\n",
    "    script_file_name_regex = re.compile(r\"data/([^/]+)/([^/]+)/.+\")\n",
    "\n",
    "    usernames = []\n",
    "    repos = []\n",
    "    py_scripts = []\n",
    "    snake = []\n",
    "    lower_camel = []\n",
    "    upper_camel = []\n",
    "    docstrings = []\n",
    "    doc_lens = []\n",
    "    comments = []\n",
    "    comment_lens = []\n",
    "    line_counts = []\n",
    "\n",
    "    for file_name in tqdm(data_df[\"file_name\"]):\n",
    "\n",
    "        match = script_file_name_regex.search(file_name)\n",
    "        if not match:\n",
    "            print(file_name)\n",
    "\n",
    "        username = match.group(1)\n",
    "        repo_name = match.group(2)\n",
    "\n",
    "        file_string = read_file_to_string(f\"../data/py150/py150_files/{file_name}\")\n",
    "        casing_count = count_casing(file_string)\n",
    "        docstring_count, doc_len = count_docstrings(file_string)\n",
    "        comment_count, comment_len = count_comments(file_string)\n",
    "\n",
    "        usernames += [username]\n",
    "        repos += [repo_name]\n",
    "        py_scripts += [file_string]\n",
    "        lower_camel += [casing_count[\"lowerCamelCase\"]]\n",
    "        upper_camel += [casing_count[\"UpperCamelCase\"]]\n",
    "        snake += [casing_count[\"snake_case\"]]\n",
    "        docstrings += [docstring_count]\n",
    "        doc_lens += [doc_len]\n",
    "        comments += [comment_count]\n",
    "        comment_lens += [comment_len]\n",
    "        line_counts += [len(file_string.split('\\n'))]\n",
    "\n",
    "    data_df[\"user_name\"] = usernames\n",
    "    data_df[\"repo_name\"] = repos\n",
    "    data_df[\"py_script\"] = py_scripts\n",
    "    data_df[\"lower_camel_case\"] = lower_camel\n",
    "    data_df[\"upper_camel_case\"] = upper_camel\n",
    "    data_df[\"snake_case\"] = snake\n",
    "    data_df[\"docstring\"] = docstrings\n",
    "    data_df[\"doc_len\"] = doc_lens\n",
    "    data_df[\"comment\"] = comments\n",
    "    data_df[\"comment_len\"] = comment_lens\n",
    "    data_df[\"line_count\"] = line_counts\n",
    "\n",
    "    return data_df"
   ]
  },
  {
   "cell_type": "code",
   "execution_count": 15,
   "metadata": {},
   "outputs": [],
   "source": [
    "train_data = read_train_data(train_file_name)"
   ]
  },
  {
   "cell_type": "code",
   "execution_count": 16,
   "metadata": {},
   "outputs": [
    {
     "name": "stdout",
     "output_type": "stream",
     "text": [
      "100000\n"
     ]
    }
   ],
   "source": [
    "print(len(train_data))"
   ]
  },
  {
   "cell_type": "code",
   "execution_count": 17,
   "metadata": {},
   "outputs": [
    {
     "name": "stderr",
     "output_type": "stream",
     "text": [
      "100%|██████████| 100000/100000 [02:33<00:00, 649.56it/s]\n"
     ]
    }
   ],
   "source": [
    "train_data_df = create_df(train_data)"
   ]
  },
  {
   "cell_type": "code",
   "execution_count": 18,
   "metadata": {},
   "outputs": [],
   "source": [
    "py_150_train_stats = {}\n",
    "py_150_train_stats[\"user_count\"] = train_data_df[\"user_name\"].unique().size\n",
    "py_150_train_stats[\"repo_count\"] = train_data_df[\"repo_name\"].unique().size"
   ]
  },
  {
   "cell_type": "code",
   "execution_count": 19,
   "metadata": {},
   "outputs": [
    {
     "data": {
      "text/plain": [
       "{'user_count': 5632, 'repo_count': 7776}"
      ]
     },
     "execution_count": 19,
     "metadata": {},
     "output_type": "execute_result"
    }
   ],
   "source": [
    "py_150_train_stats"
   ]
  },
  {
   "cell_type": "code",
   "execution_count": 20,
   "metadata": {},
   "outputs": [
    {
     "name": "stderr",
     "output_type": "stream",
     "text": [
      "100%|██████████| 50000/50000 [01:12<00:00, 687.21it/s] \n"
     ]
    }
   ],
   "source": [
    "eval_data = read_train_data(eval_file_name)\n",
    "eval_data_df = create_df(eval_data)"
   ]
  },
  {
   "cell_type": "code",
   "execution_count": 21,
   "metadata": {},
   "outputs": [
    {
     "data": {
      "text/plain": [
       "{'user_count': 4985, 'repo_count': 6759}"
      ]
     },
     "execution_count": 21,
     "metadata": {},
     "output_type": "execute_result"
    }
   ],
   "source": [
    "py_150_eval_stats = {}\n",
    "py_150_eval_stats[\"user_count\"] = eval_data_df[\"user_name\"].unique().size\n",
    "py_150_eval_stats[\"repo_count\"] = eval_data_df[\"repo_name\"].unique().size\n",
    "py_150_eval_stats"
   ]
  },
  {
   "cell_type": "code",
   "execution_count": 22,
   "metadata": {},
   "outputs": [],
   "source": [
    "train_repo_df = train_data_df.apply(lambda row: f\"{row['user_name']}/{row['repo_name']}\", axis=1)\n",
    "eval_repo_df = eval_data_df.apply(lambda row: f\"{row['user_name']}/{row['repo_name']}\", axis=1)"
   ]
  },
  {
   "cell_type": "code",
   "execution_count": 23,
   "metadata": {},
   "outputs": [
    {
     "data": {
      "text/plain": [
       "{'repo_count': 8422, 'user_count': 5958}"
      ]
     },
     "execution_count": 23,
     "metadata": {},
     "output_type": "execute_result"
    }
   ],
   "source": [
    "py_150_total_stats = {}\n",
    "py_150_total_stats['repo_count'] = pd.concat([train_repo_df, eval_repo_df], ignore_index=True).unique().size\n",
    "py_150_total_stats['user_count'] = pd.concat([train_data_df[\"user_name\"], eval_data_df[\"user_name\"]], ignore_index=True).unique().size\n",
    "py_150_total_stats"
   ]
  },
  {
   "cell_type": "code",
   "execution_count": 24,
   "metadata": {},
   "outputs": [],
   "source": [
    "train_data_df[\"user/repo\"] = train_repo_df\n",
    "eval_data_df[\"user/repo\"] = eval_repo_df"
   ]
  },
  {
   "cell_type": "code",
   "execution_count": 25,
   "metadata": {},
   "outputs": [],
   "source": [
    "watch_count = pd.read_csv(\"watch_count_public_data.csv\")\n",
    "watch_count = watch_count.rename(columns={\"repo_name\": \"user/repo\"}).drop(columns=\"Record Count\")"
   ]
  },
  {
   "cell_type": "code",
   "execution_count": 26,
   "metadata": {},
   "outputs": [
    {
     "data": {
      "text/plain": [
       "(100000, 21630)"
      ]
     },
     "execution_count": 26,
     "metadata": {},
     "output_type": "execute_result"
    }
   ],
   "source": [
    "train_data_df_wc = train_data_df.join(watch_count.set_index('user/repo'), on='user/repo')\n",
    "train_data_df_wc['watch_count'].size, train_data_df_wc['watch_count'].isna().sum()"
   ]
  },
  {
   "cell_type": "code",
   "execution_count": 27,
   "metadata": {},
   "outputs": [
    {
     "data": {
      "text/plain": [
       "(50000, 10763)"
      ]
     },
     "execution_count": 27,
     "metadata": {},
     "output_type": "execute_result"
    }
   ],
   "source": [
    "eval_data_df_wc = eval_data_df.join(watch_count.set_index('user/repo'), on='user/repo')\n",
    "eval_data_df_wc['watch_count'].size, eval_data_df_wc['watch_count'].isna().sum()"
   ]
  },
  {
   "cell_type": "code",
   "execution_count": 28,
   "metadata": {},
   "outputs": [],
   "source": [
    "train_data_df_wc['script_len'] = train_data_df_wc['py_script'].apply(lambda script: len(script))\n",
    "eval_data_df_wc['script_len'] = eval_data_df_wc['py_script'].apply(lambda script: len(script))"
   ]
  },
  {
   "cell_type": "code",
   "execution_count": 29,
   "metadata": {},
   "outputs": [],
   "source": [
    "train_data_df_wc['comment_density'] = train_data_df_wc.apply(lambda row: 0 if row['script_len']==0 else row['comment_len']/row['script_len'], axis=1)\n",
    "eval_data_df_wc['comment_density'] = eval_data_df_wc.apply(lambda row: 0 if row['script_len']==0 else row['comment_len']/row['script_len'], axis=1)\n"
   ]
  },
  {
   "cell_type": "code",
   "execution_count": 30,
   "metadata": {},
   "outputs": [],
   "source": [
    "train_data_df_wc['doc_density'] = train_data_df_wc.apply(lambda row: 0 if row['script_len']==0 else row['doc_len']/row['script_len'], axis=1)\n",
    "eval_data_df_wc['doc_density'] = eval_data_df_wc.apply(lambda row: 0 if row['script_len']==0 else row['doc_len']/row['script_len'], axis=1)"
   ]
  },
  {
   "cell_type": "code",
   "execution_count": 139,
   "metadata": {},
   "outputs": [],
   "source": [
    "train_data_df_wc.to_csv(\"py150k_train_stats.csv\", index=False)\n",
    "eval_data_df_wc.to_csv(\"py150k_eval_stats.csv\", index=False)"
   ]
  },
  {
   "cell_type": "code",
   "execution_count": 31,
   "metadata": {},
   "outputs": [
    {
     "data": {
      "text/html": [
       "<div>\n",
       "<style scoped>\n",
       "    .dataframe tbody tr th:only-of-type {\n",
       "        vertical-align: middle;\n",
       "    }\n",
       "\n",
       "    .dataframe tbody tr th {\n",
       "        vertical-align: top;\n",
       "    }\n",
       "\n",
       "    .dataframe thead th {\n",
       "        text-align: right;\n",
       "    }\n",
       "</style>\n",
       "<table border=\"1\" class=\"dataframe\">\n",
       "  <thead>\n",
       "    <tr style=\"text-align: right;\">\n",
       "      <th></th>\n",
       "      <th>file_name</th>\n",
       "      <th>user_name</th>\n",
       "      <th>repo_name</th>\n",
       "      <th>py_script</th>\n",
       "      <th>lower_camel_case</th>\n",
       "      <th>upper_camel_case</th>\n",
       "      <th>snake_case</th>\n",
       "      <th>docstring</th>\n",
       "      <th>doc_len</th>\n",
       "      <th>comment</th>\n",
       "      <th>comment_len</th>\n",
       "      <th>line_count</th>\n",
       "      <th>user/repo</th>\n",
       "      <th>watch_count</th>\n",
       "      <th>script_len</th>\n",
       "      <th>comment_density</th>\n",
       "      <th>doc_density</th>\n",
       "    </tr>\n",
       "  </thead>\n",
       "  <tbody>\n",
       "    <tr>\n",
       "      <th>1</th>\n",
       "      <td>data/0rpc/zerorpc-python/zerorpc/events.py</td>\n",
       "      <td>0rpc</td>\n",
       "      <td>zerorpc-python</td>\n",
       "      <td># -*- coding: utf-8 -*-\\n# Open Source Initiat...</td>\n",
       "      <td>0</td>\n",
       "      <td>15</td>\n",
       "      <td>23</td>\n",
       "      <td>0</td>\n",
       "      <td>0</td>\n",
       "      <td>24</td>\n",
       "      <td>1244</td>\n",
       "      <td>363</td>\n",
       "      <td>0rpc/zerorpc-python</td>\n",
       "      <td>139.0</td>\n",
       "      <td>10694</td>\n",
       "      <td>0.116327</td>\n",
       "      <td>0.000000</td>\n",
       "    </tr>\n",
       "    <tr>\n",
       "      <th>2</th>\n",
       "      <td>data/0xadada/dockdj/app/manage.py</td>\n",
       "      <td>0xadada</td>\n",
       "      <td>dockdj</td>\n",
       "      <td>#!/usr/bin/env python\\n\"\"\"Django's command lin...</td>\n",
       "      <td>0</td>\n",
       "      <td>0</td>\n",
       "      <td>2</td>\n",
       "      <td>1</td>\n",
       "      <td>36</td>\n",
       "      <td>1</td>\n",
       "      <td>21</td>\n",
       "      <td>13</td>\n",
       "      <td>0xadada/dockdj</td>\n",
       "      <td>12.0</td>\n",
       "      <td>288</td>\n",
       "      <td>0.072917</td>\n",
       "      <td>0.125000</td>\n",
       "    </tr>\n",
       "    <tr>\n",
       "      <th>13</th>\n",
       "      <td>data/4Catalyzer/flask-resty/tests/test_composi...</td>\n",
       "      <td>4Catalyzer</td>\n",
       "      <td>flask-resty</td>\n",
       "      <td>from flask_resty import Api, GenericModelView\\...</td>\n",
       "      <td>0</td>\n",
       "      <td>11</td>\n",
       "      <td>44</td>\n",
       "      <td>0</td>\n",
       "      <td>0</td>\n",
       "      <td>2</td>\n",
       "      <td>158</td>\n",
       "      <td>167</td>\n",
       "      <td>4Catalyzer/flask-resty</td>\n",
       "      <td>13.0</td>\n",
       "      <td>3837</td>\n",
       "      <td>0.041178</td>\n",
       "      <td>0.000000</td>\n",
       "    </tr>\n",
       "    <tr>\n",
       "      <th>16</th>\n",
       "      <td>data/9miao/Firefly/firefly/dbentrust/memclient.py</td>\n",
       "      <td>9miao</td>\n",
       "      <td>Firefly</td>\n",
       "      <td>#coding:utf8\\n'''\\nCreated on 2013-7-10\\nmemca...</td>\n",
       "      <td>1</td>\n",
       "      <td>4</td>\n",
       "      <td>4</td>\n",
       "      <td>14</td>\n",
       "      <td>287</td>\n",
       "      <td>5</td>\n",
       "      <td>36</td>\n",
       "      <td>105</td>\n",
       "      <td>9miao/Firefly</td>\n",
       "      <td>55.0</td>\n",
       "      <td>2690</td>\n",
       "      <td>0.013383</td>\n",
       "      <td>0.106691</td>\n",
       "    </tr>\n",
       "    <tr>\n",
       "      <th>17</th>\n",
       "      <td>data/9miao/Firefly/firefly/test/test_dbentrust.py</td>\n",
       "      <td>9miao</td>\n",
       "      <td>Firefly</td>\n",
       "      <td>#coding:utf8\\n'''\\nCreated on 2013-7-31\\n\\n@au...</td>\n",
       "      <td>0</td>\n",
       "      <td>0</td>\n",
       "      <td>0</td>\n",
       "      <td>1</td>\n",
       "      <td>58</td>\n",
       "      <td>9</td>\n",
       "      <td>388</td>\n",
       "      <td>46</td>\n",
       "      <td>9miao/Firefly</td>\n",
       "      <td>55.0</td>\n",
       "      <td>1236</td>\n",
       "      <td>0.313916</td>\n",
       "      <td>0.046926</td>\n",
       "    </tr>\n",
       "    <tr>\n",
       "      <th>...</th>\n",
       "      <td>...</td>\n",
       "      <td>...</td>\n",
       "      <td>...</td>\n",
       "      <td>...</td>\n",
       "      <td>...</td>\n",
       "      <td>...</td>\n",
       "      <td>...</td>\n",
       "      <td>...</td>\n",
       "      <td>...</td>\n",
       "      <td>...</td>\n",
       "      <td>...</td>\n",
       "      <td>...</td>\n",
       "      <td>...</td>\n",
       "      <td>...</td>\n",
       "      <td>...</td>\n",
       "      <td>...</td>\n",
       "      <td>...</td>\n",
       "    </tr>\n",
       "    <tr>\n",
       "      <th>99977</th>\n",
       "      <td>data/HIPS/Kayak/tests/check_MemoryUse.py</td>\n",
       "      <td>HIPS</td>\n",
       "      <td>Kayak</td>\n",
       "      <td>import numpy        as np\\nimport numpy.random...</td>\n",
       "      <td>0</td>\n",
       "      <td>0</td>\n",
       "      <td>0</td>\n",
       "      <td>0</td>\n",
       "      <td>0</td>\n",
       "      <td>1</td>\n",
       "      <td>62</td>\n",
       "      <td>22</td>\n",
       "      <td>HIPS/Kayak</td>\n",
       "      <td>12.0</td>\n",
       "      <td>477</td>\n",
       "      <td>0.129979</td>\n",
       "      <td>0.000000</td>\n",
       "    </tr>\n",
       "    <tr>\n",
       "      <th>99978</th>\n",
       "      <td>data/HIPS/Kayak/tests/test_NExp.py</td>\n",
       "      <td>HIPS</td>\n",
       "      <td>Kayak</td>\n",
       "      <td>import numpy        as np\\nimport numpy.random...</td>\n",
       "      <td>0</td>\n",
       "      <td>0</td>\n",
       "      <td>15</td>\n",
       "      <td>0</td>\n",
       "      <td>0</td>\n",
       "      <td>0</td>\n",
       "      <td>0</td>\n",
       "      <td>141</td>\n",
       "      <td>HIPS/Kayak</td>\n",
       "      <td>12.0</td>\n",
       "      <td>3359</td>\n",
       "      <td>0.000000</td>\n",
       "      <td>0.000000</td>\n",
       "    </tr>\n",
       "    <tr>\n",
       "      <th>99979</th>\n",
       "      <td>data/HIPS/autograd/autograd/scipy/signal.py</td>\n",
       "      <td>HIPS</td>\n",
       "      <td>autograd</td>\n",
       "      <td>from __future__ import absolute_import\\nimport...</td>\n",
       "      <td>0</td>\n",
       "      <td>1</td>\n",
       "      <td>61</td>\n",
       "      <td>0</td>\n",
       "      <td>0</td>\n",
       "      <td>5</td>\n",
       "      <td>120</td>\n",
       "      <td>140</td>\n",
       "      <td>HIPS/autograd</td>\n",
       "      <td>263.0</td>\n",
       "      <td>5930</td>\n",
       "      <td>0.020236</td>\n",
       "      <td>0.000000</td>\n",
       "    </tr>\n",
       "    <tr>\n",
       "      <th>99980</th>\n",
       "      <td>data/HIPS/autograd/examples/sinusoid.py</td>\n",
       "      <td>HIPS</td>\n",
       "      <td>autograd</td>\n",
       "      <td>from __future__ import absolute_import\\nfrom _...</td>\n",
       "      <td>0</td>\n",
       "      <td>0</td>\n",
       "      <td>12</td>\n",
       "      <td>0</td>\n",
       "      <td>0</td>\n",
       "      <td>4</td>\n",
       "      <td>103</td>\n",
       "      <td>46</td>\n",
       "      <td>HIPS/autograd</td>\n",
       "      <td>263.0</td>\n",
       "      <td>1098</td>\n",
       "      <td>0.093807</td>\n",
       "      <td>0.000000</td>\n",
       "    </tr>\n",
       "    <tr>\n",
       "      <th>99984</th>\n",
       "      <td>data/HamedMP/ImageFlow/example_project/__init_...</td>\n",
       "      <td>HamedMP</td>\n",
       "      <td>ImageFlow</td>\n",
       "      <td>__author__ = 'HANEL'\\n</td>\n",
       "      <td>0</td>\n",
       "      <td>0</td>\n",
       "      <td>0</td>\n",
       "      <td>0</td>\n",
       "      <td>0</td>\n",
       "      <td>0</td>\n",
       "      <td>0</td>\n",
       "      <td>2</td>\n",
       "      <td>HamedMP/ImageFlow</td>\n",
       "      <td>37.0</td>\n",
       "      <td>21</td>\n",
       "      <td>0.000000</td>\n",
       "      <td>0.000000</td>\n",
       "    </tr>\n",
       "  </tbody>\n",
       "</table>\n",
       "<p>48940 rows × 17 columns</p>\n",
       "</div>"
      ],
      "text/plain": [
       "                                               file_name   user_name  \\\n",
       "1             data/0rpc/zerorpc-python/zerorpc/events.py        0rpc   \n",
       "2                      data/0xadada/dockdj/app/manage.py     0xadada   \n",
       "13     data/4Catalyzer/flask-resty/tests/test_composi...  4Catalyzer   \n",
       "16     data/9miao/Firefly/firefly/dbentrust/memclient.py       9miao   \n",
       "17     data/9miao/Firefly/firefly/test/test_dbentrust.py       9miao   \n",
       "...                                                  ...         ...   \n",
       "99977           data/HIPS/Kayak/tests/check_MemoryUse.py        HIPS   \n",
       "99978                 data/HIPS/Kayak/tests/test_NExp.py        HIPS   \n",
       "99979        data/HIPS/autograd/autograd/scipy/signal.py        HIPS   \n",
       "99980            data/HIPS/autograd/examples/sinusoid.py        HIPS   \n",
       "99984  data/HamedMP/ImageFlow/example_project/__init_...     HamedMP   \n",
       "\n",
       "            repo_name                                          py_script  \\\n",
       "1      zerorpc-python  # -*- coding: utf-8 -*-\\n# Open Source Initiat...   \n",
       "2              dockdj  #!/usr/bin/env python\\n\"\"\"Django's command lin...   \n",
       "13        flask-resty  from flask_resty import Api, GenericModelView\\...   \n",
       "16            Firefly  #coding:utf8\\n'''\\nCreated on 2013-7-10\\nmemca...   \n",
       "17            Firefly  #coding:utf8\\n'''\\nCreated on 2013-7-31\\n\\n@au...   \n",
       "...               ...                                                ...   \n",
       "99977           Kayak  import numpy        as np\\nimport numpy.random...   \n",
       "99978           Kayak  import numpy        as np\\nimport numpy.random...   \n",
       "99979        autograd  from __future__ import absolute_import\\nimport...   \n",
       "99980        autograd  from __future__ import absolute_import\\nfrom _...   \n",
       "99984       ImageFlow                             __author__ = 'HANEL'\\n   \n",
       "\n",
       "       lower_camel_case  upper_camel_case  snake_case  docstring  doc_len  \\\n",
       "1                     0                15          23          0        0   \n",
       "2                     0                 0           2          1       36   \n",
       "13                    0                11          44          0        0   \n",
       "16                    1                 4           4         14      287   \n",
       "17                    0                 0           0          1       58   \n",
       "...                 ...               ...         ...        ...      ...   \n",
       "99977                 0                 0           0          0        0   \n",
       "99978                 0                 0          15          0        0   \n",
       "99979                 0                 1          61          0        0   \n",
       "99980                 0                 0          12          0        0   \n",
       "99984                 0                 0           0          0        0   \n",
       "\n",
       "       comment  comment_len  line_count               user/repo  watch_count  \\\n",
       "1           24         1244         363     0rpc/zerorpc-python        139.0   \n",
       "2            1           21          13          0xadada/dockdj         12.0   \n",
       "13           2          158         167  4Catalyzer/flask-resty         13.0   \n",
       "16           5           36         105           9miao/Firefly         55.0   \n",
       "17           9          388          46           9miao/Firefly         55.0   \n",
       "...        ...          ...         ...                     ...          ...   \n",
       "99977        1           62          22              HIPS/Kayak         12.0   \n",
       "99978        0            0         141              HIPS/Kayak         12.0   \n",
       "99979        5          120         140           HIPS/autograd        263.0   \n",
       "99980        4          103          46           HIPS/autograd        263.0   \n",
       "99984        0            0           2       HamedMP/ImageFlow         37.0   \n",
       "\n",
       "       script_len  comment_density  doc_density  \n",
       "1           10694         0.116327     0.000000  \n",
       "2             288         0.072917     0.125000  \n",
       "13           3837         0.041178     0.000000  \n",
       "16           2690         0.013383     0.106691  \n",
       "17           1236         0.313916     0.046926  \n",
       "...           ...              ...          ...  \n",
       "99977         477         0.129979     0.000000  \n",
       "99978        3359         0.000000     0.000000  \n",
       "99979        5930         0.020236     0.000000  \n",
       "99980        1098         0.093807     0.000000  \n",
       "99984          21         0.000000     0.000000  \n",
       "\n",
       "[48940 rows x 17 columns]"
      ]
     },
     "execution_count": 31,
     "metadata": {},
     "output_type": "execute_result"
    }
   ],
   "source": [
    "train_plot_df = train_data_df_wc.dropna(subset=['watch_count'])\n",
    "train_plot_df = train_plot_df[train_plot_df[\"watch_count\"] > 10]\n",
    "train_plot_df"
   ]
  },
  {
   "cell_type": "code",
   "execution_count": 32,
   "metadata": {},
   "outputs": [
    {
     "data": {
      "image/png": "[encoded data removed]",
      "text/plain": [
       "<Figure size 432x288 with 1 Axes>"
      ]
     },
     "metadata": {
      "needs_background": "light"
     },
     "output_type": "display_data"
    }
   ],
   "source": [
    "import matplotlib.pyplot as plt\n",
    "X = train_plot_df['watch_count'].tolist()\n",
    "Y = train_plot_df['comment'].tolist()\n",
    "\n",
    "fig = plt.figure()\n",
    "ax = fig.add_axes([0,0,1,1])\n",
    "ax.set_ylim([0, 2000])\n",
    "ax.scatter(X, Y, color='b')\n",
    "plt.title(\"Comments per Document\")\n",
    "plt.ylabel('# comments')\n",
    "plt.xlabel('Watch Count of Repository')\n",
    "plt.show()"
   ]
  },
  {
   "cell_type": "code",
   "execution_count": 33,
   "metadata": {},
   "outputs": [
    {
     "data": {
      "image/png": "[encoded data removed]",
      "text/plain": [
       "<Figure size 432x288 with 1 Axes>"
      ]
     },
     "metadata": {
      "needs_background": "light"
     },
     "output_type": "display_data"
    }
   ],
   "source": [
    "\n",
    "Y = train_plot_df['comment_len'].tolist()\n",
    "\n",
    "fig = plt.figure()\n",
    "ax = fig.add_axes([0,0,1,1])\n",
    "ax.set_ylim([0, 100000])\n",
    "ax.scatter(X, Y, color='b')\n",
    "plt.title(\"Comment Length per Document\")\n",
    "plt.ylabel('Comment length')\n",
    "plt.xlabel('Watch Count of Repository')\n",
    "plt.show()"
   ]
  },
  {
   "cell_type": "code",
   "execution_count": 34,
   "metadata": {},
   "outputs": [
    {
     "data": {
      "image/png": "[encoded data removed]",
      "text/plain": [
       "<Figure size 432x288 with 1 Axes>"
      ]
     },
     "metadata": {
      "needs_background": "light"
     },
     "output_type": "display_data"
    }
   ],
   "source": [
    "\n",
    "Y = train_plot_df['comment_density'].tolist()\n",
    "\n",
    "fig = plt.figure()\n",
    "ax = fig.add_axes([0,0,1,1])\n",
    "ax.set_ylim([0, 1])\n",
    "ax.scatter(X, Y, color='b')\n",
    "plt.title(\"Comment Density per Document\")\n",
    "plt.ylabel('Comment Density')\n",
    "plt.xlabel('Watch Count of Repository')\n",
    "plt.show()"
   ]
  },
  {
   "cell_type": "code",
   "execution_count": null,
   "metadata": {},
   "outputs": [
    {
     "data": {
      "image/png": "[encoded data removed]",
      "text/plain": [
       "<Figure size 432x288 with 1 Axes>"
      ]
     },
     "metadata": {
      "needs_background": "light"
     },
     "output_type": "display_data"
    }
   ],
   "source": [
    "\n",
    "Y = train_plot_df['docstring'].tolist()\n",
    "\n",
    "fig = plt.figure()\n",
    "ax = fig.add_axes([0,0,1,1])\n",
    "ax.set_ylim([0, 200])\n",
    "ax.scatter(X, Y, color=\"r\")\n",
    "plt.title(\"Docstring per Document\")\n",
    "plt.ylabel('# Document')\n",
    "plt.xlabel('Watch Count of Repository')\n",
    "plt.show()"
   ]
  },
  {
   "cell_type": "code",
   "execution_count": null,
   "metadata": {},
   "outputs": [
    {
     "data": {
      "image/png": "[encoded data removed]",
      "text/plain": [
       "<Figure size 432x288 with 1 Axes>"
      ]
     },
     "metadata": {
      "needs_background": "light"
     },
     "output_type": "display_data"
    }
   ],
   "source": [
    "\n",
    "Y = train_plot_df['doc_len'].tolist()\n",
    "\n",
    "fig = plt.figure()\n",
    "ax = fig.add_axes([0,0,1,1])\n",
    "ax.set_ylim([0, 100000])\n",
    "ax.scatter(X, Y, color=\"r\")\n",
    "plt.title(\"Docstring Length per Document\")\n",
    "plt.ylabel('Docstring Length')\n",
    "plt.xlabel('Watch Count of Repository')\n",
    "plt.show()"
   ]
  },
  {
   "cell_type": "code",
   "execution_count": null,
   "metadata": {},
   "outputs": [
    {
     "data": {
      "image/png": "[encoded data removed]",
      "text/plain": [
       "<Figure size 432x288 with 1 Axes>"
      ]
     },
     "metadata": {
      "needs_background": "light"
     },
     "output_type": "display_data"
    }
   ],
   "source": [
    "Y = train_plot_df['doc_density'].tolist()\n",
    "\n",
    "fig = plt.figure()\n",
    "ax = fig.add_axes([0,0,1,1])\n",
    "ax.scatter(X, Y, color='r')\n",
    "plt.title(\"Docstring Density per Document\")\n",
    "plt.ylabel('Docstring Density')\n",
    "plt.xlabel('Watch Count of Repository')\n",
    "plt.show()"
   ]
  },
  {
   "cell_type": "code",
   "execution_count": null,
   "metadata": {},
   "outputs": [
    {
     "data": {
      "image/png": "[encoded data removed]",
      "text/plain": [
       "<Figure size 432x288 with 1 Axes>"
      ]
     },
     "metadata": {
      "needs_background": "light"
     },
     "output_type": "display_data"
    }
   ],
   "source": [
    "Y = train_plot_df['snake_case'].tolist()\n",
    "\n",
    "fig = plt.figure()\n",
    "ax = fig.add_axes([0,0,1,1])\n",
    "ax.scatter(X, Y, color=\"r\")\n",
    "plt.title(\"Snake Case per Document\")\n",
    "plt.ylabel('# Snake Case')\n",
    "plt.xlabel('Watch Count of Repository')\n",
    "plt.show()"
   ]
  },
  {
   "cell_type": "code",
   "execution_count": null,
   "metadata": {},
   "outputs": [
    {
     "data": {
      "image/png": "[encoded data removed]",
      "text/plain": [
       "<Figure size 432x288 with 1 Axes>"
      ]
     },
     "metadata": {
      "needs_background": "light"
     },
     "output_type": "display_data"
    }
   ],
   "source": [
    "Y = train_plot_df['lower_camel_case'].tolist()\n",
    "\n",
    "fig = plt.figure()\n",
    "ax = fig.add_axes([0,0,1,1])\n",
    "ax.scatter(X, Y, color=\"b\")\n",
    "plt.title(\"Lower Camel Case per Document\")\n",
    "plt.ylabel('# Lower Camel Case')\n",
    "plt.xlabel('Watch Count of Repository')\n",
    "plt.show()"
   ]
  },
  {
   "cell_type": "code",
   "execution_count": null,
   "metadata": {},
   "outputs": [
    {
     "data": {
      "image/png": "[encoded data removed]",
      "text/plain": [
       "<Figure size 432x288 with 1 Axes>"
      ]
     },
     "metadata": {
      "needs_background": "light"
     },
     "output_type": "display_data"
    }
   ],
   "source": [
    "Y = train_plot_df['upper_camel_case'].tolist()\n",
    "\n",
    "fig = plt.figure()\n",
    "ax = fig.add_axes([0,0,1,1])\n",
    "ax.scatter(X, Y, color=\"g\")\n",
    "plt.title(\"Upper Camel Case per Document\")\n",
    "plt.ylabel('# Upper Camel Case')\n",
    "plt.xlabel('Watch Count of Repository')\n",
    "plt.show()"
   ]
  },
  {
   "cell_type": "code",
   "execution_count": null,
   "metadata": {},
   "outputs": [
    {
     "data": {
      "image/png": "[encoded data removed]",
      "text/plain": [
       "<Figure size 432x288 with 1 Axes>"
      ]
     },
     "metadata": {
      "needs_background": "light"
     },
     "output_type": "display_data"
    }
   ],
   "source": [
    "Y = train_plot_df['line_count'].tolist()\n",
    "\n",
    "fig = plt.figure()\n",
    "ax = fig.add_axes([0,0,1,1])\n",
    "ax.scatter(X, Y)\n",
    "plt.title(\"Line Count per Document\")\n",
    "plt.ylabel('# Line Count')\n",
    "plt.xlabel('Watch Count of Repository')\n",
    "plt.show()"
   ]
  },
  {
   "cell_type": "code",
   "execution_count": null,
   "metadata": {},
   "outputs": [
    {
     "data": {
      "image/png": "[encoded data removed]",
      "text/plain": [
       "<Figure size 432x288 with 1 Axes>"
      ]
     },
     "metadata": {
      "needs_background": "light"
     },
     "output_type": "display_data"
    }
   ],
   "source": [
    "Y = train_plot_df['script_len'].tolist()\n",
    "\n",
    "fig = plt.figure()\n",
    "ax = fig.add_axes([0,0,1,1])\n",
    "ax.set_ylim([0, 500000])\n",
    "ax.scatter(X, Y)\n",
    "plt.title(\"Script Length per Document\")\n",
    "plt.ylabel('# Script Length')\n",
    "plt.xlabel('Watch Count of Repository')\n",
    "plt.show()"
   ]
  },
  {
   "cell_type": "code",
   "execution_count": null,
   "metadata": {},
   "outputs": [
    {
     "name": "stdout",
     "output_type": "stream",
     "text": [
      "from __future__ import division\n",
      "from celery import task\n",
      "from openpds.core.models import Profile, Notification, Device\n",
      "from bson import ObjectId\n",
      "from pymongo import Connection\n",
      "from django.conf import settings\n",
      "import time\n",
      "from datetime import date, timedelta\n",
      "import json\n",
      "import pdb\n",
      "import math\n",
      "import cluster\n",
      "from gcm import GCM\n",
      "from openpds.core.models import Profile\n",
      "from openpds import getInternalDataStore\n",
      "from collections import Counter\n",
      "import sqlite3\n",
      "import socialhealth_tasks\n",
      "import places_tasks\n",
      "import sys\n",
      "import bisect\n",
      "from operator import itemgetter, attrgetter\n",
      "import datetime\n",
      "import random\n",
      "from openpds.accesscontrol.models import Optin\n",
      "\n",
      "class LeaderboardRanking():\n",
      "    def __init__(self, user_entry):\n",
      "        self.average_activity_rate = user_entry[\"average_activity_rate\"]\n",
      "        self.max_high_activity_rate = user_entry[\"max_high_activity_rate\"]       \n",
      "        self.min_low_activity_rate = user_entry[\"min_low_activity_rate\"]\n",
      " \n",
      "    def get_average_activity_rate(self):\n",
      "\treturn self.average_activity_rate\n",
      "\n",
      "    def get_max_high_activity_rate(self):\n",
      "\treturn self.max_high_activity_rate\n",
      "\n",
      "    def get_min_low_activity_rate(self):\n",
      "\treturn self.min_low_activity_rate\n",
      "\n",
      "def calculatePercentile(orderedList, number):\n",
      "    position = orderedList.index(number)\n",
      "    percentile = (position + 0.5)/len(orderedList)\n",
      "    return round(percentile*100)\n",
      "\n",
      "def leaderboardComputation(internalDataStore):\n",
      "    #probeEntries = internalDataStore.getData( probe, start, end)\n",
      "    answer = internalDataStore.getAnswerList(\"recentActivityProbeByHour\")\n",
      "    answer = answer[0][\"value\"] #if answer.count() > 0 else []\n",
      "    num_answers = len(answer)\n",
      "    #print answer[0][\"value\"]\n",
      "    activity_rate = 0\n",
      "    average_activity_rate = 0\n",
      "    max_high_activity_rate = sys.float_info.min\n",
      "    min_low_activity_rate = sys.float_info.max\n",
      "    for activityAnswer in answer:\n",
      "\t#print activityAnswer\n",
      "\tif activityAnswer[\"total\"] > 0:\n",
      "            high_activity_rate = activityAnswer[\"high\"]/activityAnswer[\"total\"]\n",
      "            low_activity_rate = activityAnswer[\"low\"]/activityAnswer[\"total\"]\n",
      "\telse:\n",
      "\t    high_activity_rate = 0 \n",
      "            low_activity_rate = 0\n",
      "        activity_rate = activity_rate + ((0.7*high_activity_rate) + (0.3*low_activity_rate))\n",
      "        #print \"activity_rate: \" + str(activity_rate) + \", high_activity_rate: \" + str(high_activity_rate) + \", low_activity_rate: \" + str(low_activity_rate)  \n",
      "        if high_activity_rate > max_high_activity_rate:\n",
      "            max_high_activity_rate = high_activity_rate\n",
      "        if low_activity_rate < min_low_activity_rate:\n",
      "\t    min_low_activity_rate = low_activity_rate \n",
      "    if len(answer) > 0:\n",
      "        average_activity_rate = activity_rate/len(answer)\n",
      "    user_activity = { \"average_activity_rate\": average_activity_rate, \"max_high_activity_rate\": max_high_activity_rate, \"min_low_activity_rate\": min_low_activity_rate}\n",
      "    return user_activity\n",
      "\n",
      "def aggregateLeaderboardComputation(internalDataStore, answerKey, aggregator, includeBlanks = False):\n",
      "    aggregates = []\n",
      "\n",
      "    data = aggregator(internalDataStore)\n",
      "    if data is not None:\n",
      "        aggregates.append(data)\n",
      "\n",
      "    #if answerKey is not None:\n",
      "    #    internalDataStore.saveAnswer(answerKey, aggregates)\n",
      "    return aggregates\n",
      "\n",
      "@task()\n",
      "def leaderboardComputationTask():\n",
      "    profiles = Profile.objects.all()\n",
      "#    profiles = []\n",
      "#    profiles.append(Profile.objects.get(uuid=\"341cc5cd-0f42-45f1-9f66-273ac3ed8b2e\"))\n",
      "\n",
      "    unsorted_dict = {}\n",
      "    for profile in profiles:\n",
      "#\ttoken = socialhealth_tasks.getToken(profile, \"app-uuid\")\n",
      "#\tinternalDataStore = socialhealth_tasks.getInternalDataStore(profile, \"Living Lab\", \"Social Health Tracker\", token)\n",
      "\n",
      "\tinternalDataStore = getInternalDataStore(profile, \"Living Lab\", \"MIT-FIT\", \"\")\n",
      "\t\n",
      "\tvalues = aggregateLeaderboardComputation(internalDataStore, \"activityStats\", leaderboardComputation, False)\n",
      "        unsorted_dict[profile.uuid] = LeaderboardRanking({ \"average_activity_rate\": values[0][\"average_activity_rate\"], \"max_high_activity_rate\": values[0][\"max_high_activity_rate\"], \"min_low_activity_rate\": values[0][\"min_low_activity_rate\"]})\n",
      "\t\n",
      "    #sorted_dict = sorted(unsorted_dict.values(), key=attrgetter('average_activity_rate'))\n",
      "    sorted_dict = sorted(unsorted_dict, key = lambda uuid: unsorted_dict[uuid].average_activity_rate, reverse=False)\n",
      " \n",
      "    average_activity_rates_list = []\n",
      "    for uuid in sorted_dict:\n",
      "\taverage_activity_rates_list.append(unsorted_dict[uuid].get_average_activity_rate())\n",
      "   \n",
      "    for uuid in sorted_dict:\n",
      "        profile = Profile.objects.get(uuid=uuid)\n",
      "#        token = socialhealth_tasks.getToken(profile, \"app-uuid\")\n",
      "#        internalDataStore = socialhealth_tasks.getInternalDataStore(profile, \"Living Lab\", \"Social Health Tracker\", token)\n",
      "\n",
      "\tinternalDataStore = getInternalDataStore(profile, \"Living Lab\", \"MIT-FIT\", \"\")\n",
      "\n",
      "\tpercentileValue = calculatePercentile(average_activity_rates_list, unsorted_dict[uuid].get_average_activity_rate())\t\n",
      "\n",
      "        user_activity_list = []\n",
      "        user_activity_dict = { \"average_activity_rate\": unsorted_dict[uuid].get_average_activity_rate(), \"max_high_activity_rate\": unsorted_dict[uuid].get_max_high_activity_rate(), \"min_low_activity_rate\": unsorted_dict[uuid].get_min_low_activity_rate(), \"rank\": {\"own\": len(sorted_dict) - sorted_dict.index(uuid), \"total\": len(sorted_dict), \"percentile\": percentileValue} }\n",
      "        user_activity_list.append(user_activity_dict)\n",
      "        internalDataStore.saveAnswer(\"activityStats\", user_activity_list)\n",
      "\n",
      "\n",
      "###################\n",
      "# Active Locations #\n",
      "###################\n",
      "\n",
      "def activeLocationsComputation(internalDataStore):\n",
      "    activityAnswerList = internalDataStore.getAnswerList(\"recentActivityProbeByHour\")\n",
      "    activityAnswerList = activityAnswerList[0][\"value\"] if activityAnswerList.count() > 0 else []\n",
      "    locationPoints = []\n",
      "    for activityAnswer in activityAnswerList:\n",
      "        start_time = activityAnswer[\"start\"]\n",
      "\tend_time = activityAnswer[\"end\"]\n",
      "\tif activityAnswer[\"high\"] > 0:\n",
      "\t    locationAnswerList = internalDataStore.getAnswerList(\"recentSimpleLocationProbeByHour\")\n",
      "\t    locationAnswerList = locationAnswerList[0][\"value\"] if locationAnswerList.count() > 0 else []\n",
      "\t    for locationAnswer in locationAnswerList:\n",
      "\t\tif start_time == locationAnswer[\"start\"] and end_time == locationAnswer[\"end\"]:\n",
      "\t\t    if locationAnswer[\"centroid\"]:\n",
      "\t\t        locationPoints.append(locationAnswer[\"centroid\"][0])\n",
      "\n",
      "    return locationPoints\n",
      "\n",
      "@task()\n",
      "def findActiveLocationsTask():\n",
      "    profiles = Profile.objects.all()\n",
      "\n",
      "    location_frequencies = {}\n",
      "    for profile in profiles:\n",
      "\n",
      "        try:\n",
      "            optin_object = Optin.objects.get(datastore_owner = profile, app_id = \"Living Lab\", lab_id = \"MIT-FIT\")\n",
      "        except Optin.DoesNotExist:\n",
      "            optin_object = None\n",
      "\n",
      "\tif optin_object:\n",
      "\t    if optin_object.data_aggregation == 0:\n",
      "\t\tcontinue\n",
      "\t\n",
      "\t#print profile.id\n",
      "\n",
      "\tinternalDataStore = getInternalDataStore(profile, \"Living Lab\", \"MIT-FIT\", \"\")\n",
      "        values = activeLocationsComputation(internalDataStore)\n",
      "\tfor value in values:\n",
      "\t\tlocation_value = tuple((round(value[0],4), round(value[1],4)))\n",
      "\t\tif location_value in location_frequencies:\n",
      "\t\t\tlocation_frequencies[location_value] = location_frequencies[location_value] + 1\n",
      "\t\telse:\n",
      "\t\t\tlocation_frequencies[location_value] = 1\n",
      "\n",
      "    location_frequencies_list = []\n",
      "    for key  in location_frequencies:\n",
      "\tlocation_value = { \"lat\": key[0], \"lng\": key[1], \"count\": location_frequencies[key]}\t\n",
      "\tlocation_frequencies_list.append(location_value)\n",
      "\n",
      "    for profile in profiles:\n",
      "\tinternalDataStore = getInternalDataStore(profile, \"Living Lab\", \"MIT-FIT\", \"\")\n",
      "\tinternalDataStore.saveAnswer(\"activeLocations\", location_frequencies_list)\t\n",
      "\n",
      "\n",
      "###################\n",
      "# Active Times #\n",
      "###################\n",
      "\n",
      "def activeTimesComputation(internalDataStore):\n",
      "    activityAnswerList = internalDataStore.getAnswerList(\"recentActivityProbeByHour\")\n",
      "    activityAnswerList = activityAnswerList[0][\"value\"] if activityAnswerList.count() > 0 else []\n",
      "    time_counts = [0] * 24\n",
      "    for activityAnswer in activityAnswerList:\n",
      "#        activity_rate = (500*(activityAnswer[\"high\"] + activityAnswer[\"low\"]))/activityAnswer[\"total\"]\n",
      "        start_time = activityAnswer[\"start\"]\n",
      "        end_time = activityAnswer[\"end\"]\n",
      "        #print activity_rate\n",
      "#        if activity_rate > 1:\n",
      "\tif activityAnswer[\"high\"] > 0:\n",
      "\t    start_hours = datetime.datetime.fromtimestamp(start_time).hour\n",
      "\t    time_counts[start_hours] += 1\n",
      "\n",
      "    return time_counts\n",
      "\n",
      "@task()\n",
      "def findActiveTimesTask():\n",
      "    profiles = Profile.objects.all()\n",
      "\n",
      "    time_averages = [0] * 24\n",
      "    num_users = 0\n",
      "    \n",
      "    for profile in profiles:\n",
      "\tnum_users += 1\n",
      "#        token = socialhealth_tasks.getToken(profile, \"app-uuid\")\n",
      "#        internalDataStore = socialhealth_tasks.getInternalDataStore(profile, \"Living Lab\", \"Social Health Tracker\", token)\n",
      "\n",
      "\tinternalDataStore = getInternalDataStore(profile, \"Living Lab\", \"MIT-FIT\", \"\")\n",
      "\n",
      "        user_time_averages = activeTimesComputation(internalDataStore)\n",
      "\n",
      "        for i in range(len(time_averages)):\n",
      "\t    time_averages[i] += user_time_averages[i]\n",
      "\n",
      "    #print num_users\n",
      "    #print time_averages \n",
      "    for i in range(len(time_averages)):\n",
      "\ttime_averages[i] = time_averages[i] // num_users\n",
      "\n",
      "    for profile in profiles:\n",
      "#        token = socialhealth_tasks.getToken(profile, \"app-uuid\")\n",
      "#        internalDataStore = socialhealth_tasks.getInternalDataStore(profile, \"Living Lab\", \"Social Health Tracker\", token)\n",
      "\n",
      "\tinternalDataStore = getInternalDataStore(profile, \"Living Lab\", \"MIT-FIT\", \"\")\n",
      "\n",
      "        internalDataStore.saveAnswer(\"activeTimes\", time_averages)\n",
      "\n",
      "\n",
      "###########################\n",
      "# Testing Recommendations #\n",
      "###########################\n",
      "\n",
      "data = [\n",
      "{'name': 'Running 101', 'type': 'running', 'id': 1},\n",
      "{'name': 'Running 102', 'type': 'running', 'id': 2},\n",
      "{'name': 'Learn to love running', 'type': 'running', 'id': 3},\n",
      "{'name': 'Running Intermediate', 'type': 'running', 'id': 4},\n",
      "{'name': 'Running Advanced', 'type': 'running', 'id': 5},\n",
      "{'name': 'Squash 101', 'type': 'squash', 'id': 6},\n",
      "{'name': 'Squash 102', 'type': 'squash', 'id': 7},\n",
      "{'name': 'Learn to love squash', 'type': 'squash', 'id': 8},\n",
      "{'name': 'Squash Intermediate', 'type': 'squash', 'id': 9},\n",
      "{'name': 'Squash Advanced', 'type': 'squash', 'id': 10},\n",
      "{'name': 'Swimming 101', 'type': 'swimming', 'id': 11},\n",
      "{'name': 'Swimming 102', 'type': 'swimming', 'id': 12},\n",
      "{'name': 'Learn to love swimming', 'type': 'swimming', 'id': 13},\n",
      "{'name': 'Swimming Intermediate', 'type': 'swimming', 'id': 14},\n",
      "{'name': 'Swimming Advanced', 'type': 'swimming', 'id': 15},\n",
      "{'name': 'Bootcamp Fitness 101', 'type': 'bootcamp-fitness', 'id': 16},\n",
      "{'name': 'Bootcamp Fitness 102', 'type': 'bootcamp-fitness', 'id': 17},\n",
      "{'name': 'Learn to love bootcamp fitness', 'type': 'bootcamp-fitness', 'id': 18},\n",
      "{'name': 'Bootcamp Fitness Intermediate', 'type': 'bootcamp-fitness', 'id': 19},\n",
      "{'name': 'Bootcamp Fitness Advanced', 'type': 'bootcamp-fitness', 'id': 20},\n",
      "{'name': 'Tennis 101', 'type': 'tennis', 'id': 21},\n",
      "{'name': 'Tennis 102', 'type': 'tennis', 'id': 22},\n",
      "{'name': 'Learn to love tennis', 'type': 'tennis', 'id': 23},\n",
      "{'name': 'Tennis Intermediate', 'type': 'tennis', 'id': 24},\n",
      "{'name': 'Tennis Advanced', 'type': 'tennis', 'id': 25}\n",
      "]\n",
      "\n",
      "\n",
      "def populateEventsForUsers():\n",
      "    profiles = Profile.objects.all()\n",
      "    for profile in profiles:\n",
      "#        token = socialhealth_tasks.getToken(profile, \"app-uuid\")\n",
      "#        internalDataStore = socialhealth_tasks.getInternalDataStore(profile, \"Living Lab\", \"Social Health Tracker\", token)\n",
      "\n",
      "\tinternalDataStore = getInternalDataStore(profile, \"Living Lab\", \"MIT-FIT\", \"\")\n",
      "\n",
      "\tevents = []\n",
      "        random_numbers = random.sample(range(25), 7)\n",
      "        for random_number in random_numbers:\n",
      "            events.append(data[random_number])\n",
      "        #print events\n",
      "        internalDataStore.saveAnswer(\"mitfitEventRegistrations\", events)\n",
      "\n",
      "\n",
      "def eventRecommendationComputation(internalDataStore, eventRegistrations, profile):\n",
      "    eventRegistrationAnswerList = internalDataStore.getAnswerList(\"mitfitEventRegistrations\")\n",
      "    eventRegistrationAnswerList = eventRegistrationAnswerList[0][\"value\"] if eventRegistrationAnswerList.count() > 0 else []\n",
      "    userEventRegistrations = set()\n",
      "    for eventRegistrationAnswer in eventRegistrationAnswerList:\n",
      "\t#print eventRegistrationAnswer[u'id']\n",
      "\teventRegistrationAnswerFrozenset = frozenset(eventRegistrationAnswer.items())\n",
      "\t#print eventRegistrationAnswerFrozenset\n",
      "\tuserEventRegistrations.add(eventRegistrationAnswerFrozenset)\n",
      "\tif eventRegistrationAnswerFrozenset in eventRegistrations.keys():\n",
      "\t    eventRegistrations[eventRegistrationAnswerFrozenset].append(profile)\n",
      "\telse:\n",
      "\t    tempEventRegistrations = []\n",
      "\t    tempEventRegistrations.append(profile)\n",
      "\t    eventRegistrations[eventRegistrationAnswerFrozenset] = tempEventRegistrations\n",
      "\t#print eventRegistrations\n",
      "    return eventRegistrations, userEventRegistrations\n",
      "\n",
      "@task()\n",
      "def recommendEvents():\n",
      "    profiles = Profile.objects.all()\n",
      "    eventRegistrations = {}\n",
      "    userRegistrations = {}\n",
      "    for profile in profiles:\n",
      "\t#print profile.uuid\n",
      "#        token = socialhealth_tasks.getToken(profile, \"app-uuid\")\n",
      "#        internalDataStore = socialhealth_tasks.getInternalDataStore(profile, \"Living Lab\", \"Social Health Tracker\", token)\n",
      "\n",
      "\tinternalDataStore = getInternalDataStore(profile, \"Living Lab\", \"MIT-FIT\", \"\")\n",
      "\n",
      "        eventRegistrations, userEventRegistrations = eventRecommendationComputation(internalDataStore, eventRegistrations, profile.uuid)\n",
      "\tuserRegistrations[profile.uuid] = userEventRegistrations\n",
      "    #print eventRegistrations\n",
      "   \n",
      "    eventSet = set()\n",
      "    jaccardCoefficientDict = {}\n",
      "    for event1 in eventRegistrations.keys():\n",
      "\tfor event2 in eventRegistrations.keys():\n",
      "\t    if event1 != event2:\n",
      "\t\tusersEvent1 = eventRegistrations[event1]\n",
      "\t\tusersEvent2 = eventRegistrations[event2]\n",
      "\t\tintersectUsers = list(set(usersEvent1) & set(usersEvent2))\n",
      "\t\tunionUsers = list(set(usersEvent1) | set(usersEvent2))\n",
      "\t\tjaccardCoefficientKey = (event1, event2)\n",
      "\t\teventSet.add(event1)\n",
      "\t\teventSet.add(event2)\n",
      "\t\tif len(unionUsers) > 0:\n",
      "\t\t    jaccardCoefficientDict[jaccardCoefficientKey] = len(intersectUsers)/len(unionUsers)\n",
      "\t\telse:\n",
      "\t\t    jaccardCoefficientDict[jaccardCoefficientKey] = 0\n",
      "    #print jaccardCoefficientDict\n",
      "\n",
      "    for profile in profiles:\n",
      "        #print profile.uuid\n",
      "\trecommendedEvents = {}\n",
      "\tfor userRegisteredEvent in userRegistrations[profile.uuid]:\n",
      "\t    for event in eventSet:\n",
      "\t\tif userRegisteredEvent != event:\n",
      "\t\t\tif event in recommendedEvents:\n",
      "\t\t\t    if jaccardCoefficientDict[(userRegisteredEvent, event)] > recommendedEvents[event]:\n",
      "\t\t\t        recommendedEvents[event] = jaccardCoefficientDict[(userRegisteredEvent, event)]\n",
      "\t\t\telse:\n",
      "\t\t\t    recommendedEvents[event] = jaccardCoefficientDict[(userRegisteredEvent, event)]\n",
      "        #print recommendedEvents\n",
      "\tsortedRecommendedEvents = sorted(recommendedEvents.items(), key = lambda recommendedEvent: recommendedEvent[1], reverse=True)\n",
      "\t#print sortedRecommendedEvents\n",
      "\n",
      "#\tfor event in sortedRecommendedEvents[:3]:\n",
      "#\t    for eventDetails in event[0]:\n",
      "#\t\tif u'name' in eventDetails[0]:\n",
      "#\t            print eventDetails[1] + \", \" ,\n",
      "#\tprint \n",
      "\n",
      "def testGetData():\n",
      "    profiles = Profile.objects.all()\n",
      "    #print profiles[17].uuid\n",
      "#    token = socialhealth_tasks.getToken(profiles[17], \"app-uuid\")\n",
      "#    internalDataStore = socialhealth_tasks.getInternalDataStore(profiles[17], \"Living Lab\", \"Social Health Tracker\", token)\n",
      "\n",
      "    internalDataStore = getInternalDataStore(profile, \"Living Lab\", \"MIT-FIT\", \"\")\n",
      "\n",
      "    probes = [\"LocationProbe\", \"ActivityProbe\", \"SmsProbe\", \"CallLogProbe\", \"BluetoothProbe\", \"WifiProbe\", \"ScreenProbe\"]\n",
      "    startTime = 1403136000\n",
      "    endTime = 1403222400\n",
      "    internalDataStore.getData(probes[1], startTime, endTime)\n",
      "\n"
     ]
    }
   ],
   "source": [
    "_bool_df = train_data_df_wc[train_data_df_wc['lower_camel_case'] > 100]['py_script'].apply(lambda script: \"django\" in script.lower())\n",
    "print(train_data_df_wc[train_data_df_wc['lower_camel_case'] > 100]['py_script'][_bool_df].loc[55901])"
   ]
  },
  {
   "cell_type": "code",
   "execution_count": 47,
   "metadata": {},
   "outputs": [
    {
     "data": {
      "text/plain": [
       "'data/HumanDynamics/openPDS/openpds/questions/mitfit_tasks.py'"
      ]
     },
     "execution_count": 47,
     "metadata": {},
     "output_type": "execute_result"
    }
   ],
   "source": [
    "train_data_df_wc.loc[55901]['file_name']"
   ]
  }
 ],
 "metadata": {
  "kernelspec": {
   "display_name": "Python 3",
   "language": "python",
   "name": "python3"
  },
  "language_info": {
   "codemirror_mode": {
    "name": "ipython",
    "version": 3
   },
   "file_extension": ".py",
   "mimetype": "text/x-python",
   "name": "python",
   "nbconvert_exporter": "python",
   "pygments_lexer": "ipython3",
   "version": "3.8.10"
  }
 },
 "nbformat": 4,
 "nbformat_minor": 4
}

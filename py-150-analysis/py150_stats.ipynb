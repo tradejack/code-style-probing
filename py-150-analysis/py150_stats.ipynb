{
 "cells": [
  {
   "cell_type": "code",
   "execution_count": 1,
   "metadata": {},
   "outputs": [
    {
     "data": {
      "application/vnd.jupyter.widget-view+json": {
       "model_id": "92b4754ab6cb4ca6aaab768a20d595e6",
       "version_major": 2,
       "version_minor": 0
      },
      "text/plain": [
       "0it [00:00, ?it/s]"
      ]
     },
     "metadata": {},
     "output_type": "display_data"
    }
   ],
   "source": [
    "import pandas as pd\n",
    "from tqdm.auto import tqdm\n",
    "\n",
    "\n",
    "def fill_na(sample_ast):\n",
    "    for node in sample_ast:\n",
    "        node[\"children\"] = node.get(\"children\", None)\n",
    "        node[\"value\"] = node.get(\"value\", None)\n",
    "    return sample_ast\n",
    "\n",
    "node_set = set()\n",
    "ast_df_list = []\n",
    "\n",
    "with open(\"../data/py150/python100k_train.json\") as json_file:\n",
    "    chunks = pd.read_json(json_file, lines=True, chunksize=1024)\n",
    "    for samples in tqdm(chunks):\n",
    "        for idx in samples.index:\n",
    "            sample = samples.loc[idx].dropna()\n",
    "            sample_ast = sample.values.tolist()\n",
    "            filled_sample_ast = fill_na(sample_ast)\n",
    "            ast_df = pd.DataFrame(filled_sample_ast)\n",
    "            node_set.update(set(ast_df['type'].unique().tolist()))\n",
    "            ast_df_list += [ast_df]\n",
    "        break"
   ]
  },
  {
   "cell_type": "code",
   "execution_count": 2,
   "metadata": {},
   "outputs": [
    {
     "name": "stderr",
     "output_type": "stream",
     "text": [
      "/home/ken/.local/lib/python3.8/site-packages/pandas/core/internals/construction.py:540: VisibleDeprecationWarning: Creating an ndarray from ragged nested sequences (which is a list-or-tuple of lists-or-tuples-or ndarrays with different lengths or shapes) is deprecated. If you meant to do this, you must specify 'dtype=object' when creating the ndarray\n",
      "  values = np.array([convert(v) for v in values])\n"
     ]
    }
   ],
   "source": [
    "train_ast_df = pd.DataFrame(ast_df_list, columns=[\"ast\"])"
   ]
  },
  {
   "cell_type": "code",
   "execution_count": 93,
   "metadata": {},
   "outputs": [],
   "source": [
    "train_ast_df['node_num'] = train_ast_df['ast'].apply(lambda ast: ast.index.size)"
   ]
  },
  {
   "cell_type": "code",
   "execution_count": 94,
   "metadata": {},
   "outputs": [],
   "source": [
    "for node_type in node_set:\n",
    "    train_ast_df[f\"{node_type}_count\"] = train_ast_df['ast'].apply(lambda ast: ast[ast[\"type\"] == node_type].index.size)"
   ]
  },
  {
   "cell_type": "code",
   "execution_count": 95,
   "metadata": {},
   "outputs": [
    {
     "data": {
      "text/html": [
       "<div>\n",
       "<style scoped>\n",
       "    .dataframe tbody tr th:only-of-type {\n",
       "        vertical-align: middle;\n",
       "    }\n",
       "\n",
       "    .dataframe tbody tr th {\n",
       "        vertical-align: top;\n",
       "    }\n",
       "\n",
       "    .dataframe thead th {\n",
       "        text-align: right;\n",
       "    }\n",
       "</style>\n",
       "<table border=\"1\" class=\"dataframe\">\n",
       "  <thead>\n",
       "    <tr style=\"text-align: right;\">\n",
       "      <th></th>\n",
       "      <th>ast</th>\n",
       "      <th>node_num</th>\n",
       "      <th>TupleLoad_count</th>\n",
       "      <th>alias_count</th>\n",
       "      <th>ListLoad_count</th>\n",
       "      <th>Module_count</th>\n",
       "      <th>Expr_count</th>\n",
       "      <th>NameStore_count</th>\n",
       "      <th>ImportFrom_count</th>\n",
       "      <th>NameLoad_count</th>\n",
       "      <th>Assign_count</th>\n",
       "      <th>Str_count</th>\n",
       "    </tr>\n",
       "  </thead>\n",
       "  <tbody>\n",
       "    <tr>\n",
       "      <th>0</th>\n",
       "      <td>type             children  \\\n",
       "0     ...</td>\n",
       "      <td>116</td>\n",
       "      <td>34</td>\n",
       "      <td>4</td>\n",
       "      <td>1</td>\n",
       "      <td>1</td>\n",
       "      <td>1</td>\n",
       "      <td>1</td>\n",
       "      <td>4</td>\n",
       "      <td>34</td>\n",
       "      <td>1</td>\n",
       "      <td>35</td>\n",
       "    </tr>\n",
       "  </tbody>\n",
       "</table>\n",
       "</div>"
      ],
      "text/plain": [
       "                                                 ast  node_num  \\\n",
       "0             type             children  \\\n",
       "0     ...       116   \n",
       "\n",
       "   TupleLoad_count  alias_count  ListLoad_count  Module_count  Expr_count  \\\n",
       "0               34            4               1             1           1   \n",
       "\n",
       "   NameStore_count  ImportFrom_count  NameLoad_count  Assign_count  Str_count  \n",
       "0                1                 4              34             1         35  "
      ]
     },
     "execution_count": 95,
     "metadata": {},
     "output_type": "execute_result"
    }
   ],
   "source": [
    "train_ast_df"
   ]
  },
  {
   "cell_type": "code",
   "execution_count": 7,
   "metadata": {},
   "outputs": [],
   "source": [
    "import re\n",
    "\n",
    "\n",
    "def count_casing(input_code):\n",
    "    case_dict = {\"lowerCamelCase\": 0, \"UpperCamelCase\": 0, \"snake_case\": 0}\n",
    "    lower_camel = r\"[a-z]+([A-Z][a-z0-9]+)+\"\n",
    "    upper_camel = r\"[A-Z][a-z]+([A-Z][a-z0-9]+)+\"\n",
    "    snake = r\"[a-z]+(_[a-z0-9]+)+\"\n",
    "    input_code = input_code.replace(\"(\", \" \")\n",
    "    input_code = input_code.replace(\")\", \" \")\n",
    "    for token in input_code.split():\n",
    "        if re.match(lower_camel, token):\n",
    "            case_dict[\"lowerCamelCase\"] += 1\n",
    "        elif re.match(upper_camel, token):\n",
    "            case_dict[\"UpperCamelCase\"] += 1\n",
    "        elif re.match(snake, token):\n",
    "            case_dict[\"snake_case\"] += 1\n",
    "    return case_dict\n",
    "\n",
    "\n",
    "def count_docstrings(input_code):\n",
    "    docstr = r\"\\\"\\\"\\\"[\\s\\S]*?\\\"\\\"\\\"|\\'\\'\\'[\\s\\S]*?\\'\\'\\'\"\n",
    "    search = re.findall(docstr, input_code)\n",
    "    doc_len = 0\n",
    "    for docstring in search:\n",
    "        doc_len += len(docstring)\n",
    "    return len(search), doc_len\n",
    "\n",
    "\n",
    "def count_comments(input_code):\n",
    "    comment = r\"#.*\"\n",
    "    search = re.findall(comment, input_code)\n",
    "    comment_len = 0\n",
    "    for comment in search:\n",
    "        comment_len += len(comment)\n",
    "    return len(search), comment_len"
   ]
  },
  {
   "cell_type": "code",
   "execution_count": 8,
   "metadata": {},
   "outputs": [],
   "source": [
    "def read_file_to_string(filename):\n",
    "    f = open(filename, \"rb\")\n",
    "    s = \"\"\n",
    "    try:\n",
    "        s = f.read()\n",
    "    except:\n",
    "        print(filename)\n",
    "    f.close()\n",
    "    return s.decode(errors=\"replace\")"
   ]
  },
  {
   "cell_type": "code",
   "execution_count": 9,
   "metadata": {},
   "outputs": [
    {
     "data": {
      "text/plain": [
       "'def function_name(par_1, parTwo, camelCase):\\n\\t\\'\\'\\'\\n\\tdocstring time 1\\n\\t\\'\\'\\'\\n\\t\"\"\"\\n\\tdocstring time 2\\n\\t\"\"\"\\n    # single line comment\\n\\tvar_1 = 42 # cool and awesome comment\\n\\tprint(\\'hello world!\\') #comment too\\n\\treturn \\n\\ndef function_name2(par_1, parTwo, camelCase):\\n\\t\\'\\'\\'\\n\\tdocstring time 1\\n\\t\\'\\'\\'\\n\\t\"\"\"\\n\\tdocstring time 2\\n\\t\"\"\"\\n    # single line comment\\n\\tvar_1 = 42 # cool and awesome comment\\n\\tprint(\\'hello world!\\') #comment too\\n\\treturn '"
      ]
     },
     "execution_count": 9,
     "metadata": {},
     "output_type": "execute_result"
    }
   ],
   "source": [
    "test_code = read_file_to_string(f\"./test_code.py\")\n",
    "test_code"
   ]
  },
  {
   "cell_type": "code",
   "execution_count": 10,
   "metadata": {},
   "outputs": [],
   "source": [
    "train_file_name = \"../data/py150/py150_files/python100k_train.txt\"\n",
    "eval_file_name = \"../data/py150/py150_files/python50k_eval.txt\"\n",
    "\n",
    "def read_train_data(file_name, batch_size=None):\n",
    "    file_names = []\n",
    "    with open(file_name, \"r\") as f:\n",
    "        while True:\n",
    "            line = f.readline()\n",
    "            if not line:\n",
    "                break\n",
    "\n",
    "            file_names += [line.strip()]\n",
    "\n",
    "            if batch_size and len(file_names) >= batch_size:\n",
    "                break\n",
    "\n",
    "    return file_names"
   ]
  },
  {
   "cell_type": "code",
   "execution_count": 11,
   "metadata": {},
   "outputs": [],
   "source": [
    "from tqdm import tqdm\n",
    "\n",
    "\n",
    "def create_df(data):\n",
    "    data_df = pd.DataFrame(data, columns=[\"file_name\"])\n",
    "\n",
    "    script_file_name_regex = re.compile(r\"data/([^/]+)/([^/]+)/.+\")\n",
    "\n",
    "    usernames = []\n",
    "    repos = []\n",
    "    py_scripts = []\n",
    "    snake = []\n",
    "    lower_camel = []\n",
    "    upper_camel = []\n",
    "    docstrings = []\n",
    "    doc_lens = []\n",
    "    comments = []\n",
    "    comment_lens = []\n",
    "    line_counts = []\n",
    "\n",
    "    for file_name in tqdm(data_df[\"file_name\"]):\n",
    "\n",
    "        match = script_file_name_regex.search(file_name)\n",
    "        if not match:\n",
    "            print(file_name)\n",
    "\n",
    "        username = match.group(1)\n",
    "        repo_name = match.group(2)\n",
    "\n",
    "        file_string = read_file_to_string(f\"../data/py150/py150_files/{file_name}\")\n",
    "        casing_count = count_casing(file_string)\n",
    "        docstring_count, doc_len = count_docstrings(file_string)\n",
    "        comment_count, comment_len = count_comments(file_string)\n",
    "\n",
    "        usernames += [username]\n",
    "        repos += [repo_name]\n",
    "        py_scripts += [file_string]\n",
    "        lower_camel += [casing_count[\"lowerCamelCase\"]]\n",
    "        upper_camel += [casing_count[\"UpperCamelCase\"]]\n",
    "        snake += [casing_count[\"snake_case\"]]\n",
    "        docstrings += [docstring_count]\n",
    "        doc_lens += [doc_len]\n",
    "        comments += [comment_count]\n",
    "        comment_lens += [comment_len]\n",
    "        line_counts += [len(file_string.split('\\n'))]\n",
    "\n",
    "    data_df[\"user_name\"] = usernames\n",
    "    data_df[\"repo_name\"] = repos\n",
    "    data_df[\"py_script\"] = py_scripts\n",
    "    data_df[\"lower_camel_case\"] = lower_camel\n",
    "    data_df[\"upper_camel_case\"] = upper_camel\n",
    "    data_df[\"snake_case\"] = snake\n",
    "    data_df[\"docstring\"] = docstrings\n",
    "    data_df[\"doc_len\"] = doc_lens\n",
    "    data_df[\"comment\"] = comments\n",
    "    data_df[\"comment_len\"] = comment_lens\n",
    "    data_df[\"line_count\"] = line_counts\n",
    "\n",
    "    return data_df"
   ]
  },
  {
   "cell_type": "code",
   "execution_count": 12,
   "metadata": {},
   "outputs": [],
   "source": [
    "train_data = read_train_data(train_file_name)"
   ]
  },
  {
   "cell_type": "code",
   "execution_count": null,
   "metadata": {},
   "outputs": [],
   "source": []
  },
  {
   "cell_type": "code",
   "execution_count": 13,
   "metadata": {},
   "outputs": [
    {
     "name": "stdout",
     "output_type": "stream",
     "text": [
      "100000\n"
     ]
    }
   ],
   "source": [
    "print(len(train_data))"
   ]
  },
  {
   "cell_type": "code",
   "execution_count": 14,
   "metadata": {},
   "outputs": [
    {
     "name": "stderr",
     "output_type": "stream",
     "text": [
      "100%|██████████| 100000/100000 [02:22<00:00, 701.51it/s]\n"
     ]
    }
   ],
   "source": [
    "train_data_df = create_df(train_data)"
   ]
  },
  {
   "cell_type": "code",
   "execution_count": 15,
   "metadata": {},
   "outputs": [
    {
     "name": "stdout",
     "output_type": "stream",
     "text": [
      "#!/usr/bin/env python\n",
      "# -*- coding: utf-8 -*-\n",
      "\n",
      "\"\"\" Provides ``mapping`` of url paths to request handlers.\n",
      "\"\"\"\n",
      "\n",
      "from bootstrap import Bootstrap\n",
      "from fund import InstantPaymentNotificationHandler\n",
      "from fund import ThankYouHandler\n",
      "from view import *\n",
      "\n",
      "mapping = [(\n",
      "        r'/',\n",
      "        Index\n",
      "    ), (\n",
      "        r'/ipn',\n",
      "        InstantPaymentNotificationHandler\n",
      "    ), (\n",
      "        r'/thank-you',\n",
      "        ThankYouHandler\n",
      "    ), (\n",
      "        r'/about\\/?',\n",
      "        About\n",
      "    ), (\n",
      "        r'/guide\\/?',\n",
      "        Guide\n",
      "    ), (\n",
      "        r'/guide/download\\/?',\n",
      "        Download\n",
      "    ), (\n",
      "        r'/guide/standards\\/?',\n",
      "        Standards\n",
      "    ), (\n",
      "        r'/community\\/?',\n",
      "        Community\n",
      "    ), (\n",
      "        r'/news\\/?',\n",
      "        News\n",
      "    ), (\n",
      "        r'/support\\/?',\n",
      "        Support\n",
      "    ), (\n",
      "        r'/contact\\/?',\n",
      "        Contact\n",
      "    ), (\n",
      "        r'/press\\/?',\n",
      "        Press\n",
      "    ), (\n",
      "        r'/legal/terms',\n",
      "        Terms\n",
      "    ), (\n",
      "        r'/library\\/?',\n",
      "        Library\n",
      "    ), (\n",
      "        r'/library/sketchup\\/?',\n",
      "        Library\n",
      "    ), (\n",
      "        r'/library/series/(\\w+)\\/?',\n",
      "        Library\n",
      "    ), (\n",
      "        r'/library/users\\/?',\n",
      "        Users\n",
      "    ), (\n",
      "        r'/library/users/([0-9]+)\\/?',\n",
      "        User\n",
      "    ), (\n",
      "        r'/library/designs/([0-9]+)\\/?',\n",
      "        Design\n",
      "    ), (\n",
      "        r'/library/designs/([0-9]+)/(edit)\\/?',\n",
      "        Design\n",
      "    ), (\n",
      "        r'/library/designs\\/?',\n",
      "        Design\n",
      "    ), (\n",
      "        r'/library/designs/add\\/?',\n",
      "        Design\n",
      "    ), (\n",
      "        r'/library/designs/add/sketchup\\/?',\n",
      "        Design\n",
      "    ), (\n",
      "        r'/redirect/success/([0-9]+)\\/?',\n",
      "        RedirectSuccess\n",
      "    ), (\n",
      "        r'/redirect/error\\/?',\n",
      "        RedirectError\n",
      "    ), (\n",
      "        r'/redirect/after/delete\\/?',\n",
      "        RedirectAfterDelete\n",
      "    ),(\n",
      "        r'/admin/moderate\\/?',\n",
      "        Moderate\n",
      "    ), (\n",
      "        r'/admin/bootstrap\\/?',\n",
      "        Bootstrap\n",
      "    ), (\n",
      "        r'/activity',\n",
      "        ActivityScreen\n",
      "    ), (\n",
      "        r'/txns',\n",
      "        TxnList\n",
      "    ), (\n",
      "        r'/blob64/([^/]+)/([^/]+)\\/?',\n",
      "        Base64Blob\n",
      "    ), (\n",
      "        r'/blob64/([^/]+)\\/?',\n",
      "        Base64Blob\n",
      "    ), (\n",
      "        r'/i18n/message_strings.json',\n",
      "        MessageStrings\n",
      "    ), (\n",
      "        r'/.*',\n",
      "        NotFound\n",
      "    )\n",
      "]\n",
      "\n"
     ]
    }
   ],
   "source": [
    "print(train_data_df[\"py_script\"][0])"
   ]
  },
  {
   "cell_type": "code",
   "execution_count": 16,
   "metadata": {},
   "outputs": [],
   "source": [
    "py_150_train_stats = {}\n",
    "py_150_train_stats[\"user_count\"] = train_data_df[\"user_name\"].unique().size\n",
    "py_150_train_stats[\"repo_count\"] = train_data_df[\"repo_name\"].unique().size"
   ]
  },
  {
   "cell_type": "code",
   "execution_count": 17,
   "metadata": {},
   "outputs": [
    {
     "data": {
      "text/plain": [
       "{'user_count': 5632, 'repo_count': 7776}"
      ]
     },
     "execution_count": 17,
     "metadata": {},
     "output_type": "execute_result"
    }
   ],
   "source": [
    "py_150_train_stats"
   ]
  },
  {
   "cell_type": "code",
   "execution_count": 18,
   "metadata": {},
   "outputs": [
    {
     "name": "stderr",
     "output_type": "stream",
     "text": [
      "100%|██████████| 1/1 [00:00<00:00, 584.82it/s]\n"
     ]
    }
   ],
   "source": [
    "eval_data = read_train_data(eval_file_name)[:1]\n",
    "eval_data_df = create_df(eval_data)"
   ]
  },
  {
   "cell_type": "code",
   "execution_count": 19,
   "metadata": {},
   "outputs": [
    {
     "data": {
      "text/plain": [
       "{'user_count': 1, 'repo_count': 1}"
      ]
     },
     "execution_count": 19,
     "metadata": {},
     "output_type": "execute_result"
    }
   ],
   "source": [
    "py_150_eval_stats = {}\n",
    "py_150_eval_stats[\"user_count\"] = eval_data_df[\"user_name\"].unique().size\n",
    "py_150_eval_stats[\"repo_count\"] = eval_data_df[\"repo_name\"].unique().size\n",
    "py_150_eval_stats"
   ]
  },
  {
   "cell_type": "code",
   "execution_count": 20,
   "metadata": {},
   "outputs": [],
   "source": [
    "train_repo_df = train_data_df.apply(lambda row: f\"{row['user_name']}/{row['repo_name']}\", axis=1)\n",
    "eval_repo_df = eval_data_df.apply(lambda row: f\"{row['user_name']}/{row['repo_name']}\", axis=1)"
   ]
  },
  {
   "cell_type": "code",
   "execution_count": 21,
   "metadata": {},
   "outputs": [
    {
     "data": {
      "text/plain": [
       "{'repo_count': 7887, 'user_count': 5632}"
      ]
     },
     "execution_count": 21,
     "metadata": {},
     "output_type": "execute_result"
    }
   ],
   "source": [
    "py_150_total_stats = {}\n",
    "py_150_total_stats['repo_count'] = pd.concat([train_repo_df, eval_repo_df], ignore_index=True).unique().size\n",
    "py_150_total_stats['user_count'] = pd.concat([train_data_df[\"user_name\"], eval_data_df[\"user_name\"]], ignore_index=True).unique().size\n",
    "py_150_total_stats"
   ]
  },
  {
   "cell_type": "code",
   "execution_count": 22,
   "metadata": {},
   "outputs": [],
   "source": [
    "train_data_df[\"user/repo\"] = train_repo_df\n",
    "eval_data_df[\"user/repo\"] = eval_repo_df"
   ]
  },
  {
   "cell_type": "code",
   "execution_count": 23,
   "metadata": {},
   "outputs": [],
   "source": [
    "watch_count = pd.read_csv(\"../data/watch_count_public_data.csv\")\n",
    "watch_count = watch_count.rename(columns={\"repo_name\": \"user/repo\"}).drop(columns=\"Record Count\")"
   ]
  },
  {
   "cell_type": "code",
   "execution_count": 24,
   "metadata": {},
   "outputs": [
    {
     "data": {
      "text/plain": [
       "(100000, 21630)"
      ]
     },
     "execution_count": 24,
     "metadata": {},
     "output_type": "execute_result"
    }
   ],
   "source": [
    "train_data_df_wc = train_data_df.join(watch_count.set_index('user/repo'), on='user/repo')\n",
    "train_data_df_wc['watch_count'].size, train_data_df_wc['watch_count'].isna().sum()"
   ]
  },
  {
   "cell_type": "code",
   "execution_count": 25,
   "metadata": {},
   "outputs": [
    {
     "data": {
      "text/plain": [
       "(1, 1)"
      ]
     },
     "execution_count": 25,
     "metadata": {},
     "output_type": "execute_result"
    }
   ],
   "source": [
    "eval_data_df_wc = eval_data_df.join(watch_count.set_index('user/repo'), on='user/repo')\n",
    "eval_data_df_wc['watch_count'].size, eval_data_df_wc['watch_count'].isna().sum()"
   ]
  },
  {
   "cell_type": "code",
   "execution_count": 26,
   "metadata": {},
   "outputs": [],
   "source": [
    "train_data_df_wc['script_len'] = train_data_df_wc['py_script'].apply(lambda script: len(script))\n",
    "eval_data_df_wc['script_len'] = eval_data_df_wc['py_script'].apply(lambda script: len(script))"
   ]
  },
  {
   "cell_type": "code",
   "execution_count": 27,
   "metadata": {},
   "outputs": [],
   "source": [
    "train_data_df_wc['comment_density'] = train_data_df_wc.apply(lambda row: 0 if row['script_len']==0 else row['comment_len']/row['script_len'], axis=1)\n",
    "eval_data_df_wc['comment_density'] = eval_data_df_wc.apply(lambda row: 0 if row['script_len']==0 else row['comment_len']/row['script_len'], axis=1)\n"
   ]
  },
  {
   "cell_type": "code",
   "execution_count": 28,
   "metadata": {},
   "outputs": [],
   "source": [
    "train_data_df_wc['doc_density'] = train_data_df_wc.apply(lambda row: 0 if row['script_len']==0 else row['doc_len']/row['script_len'], axis=1)\n",
    "eval_data_df_wc['doc_density'] = eval_data_df_wc.apply(lambda row: 0 if row['script_len']==0 else row['doc_len']/row['script_len'], axis=1)"
   ]
  },
  {
   "cell_type": "code",
   "execution_count": 153,
   "metadata": {},
   "outputs": [],
   "source": [
    "# train_data_df_wc.to_csv(\"py150k_train_stats.csv\", index=False)\n",
    "# eval_data_df_wc.to_csv(\"py150k_eval_stats.csv\", index=False)"
   ]
  },
  {
   "cell_type": "code",
   "execution_count": 29,
   "metadata": {},
   "outputs": [
    {
     "data": {
      "text/html": [
       "<div>\n",
       "<style scoped>\n",
       "    .dataframe tbody tr th:only-of-type {\n",
       "        vertical-align: middle;\n",
       "    }\n",
       "\n",
       "    .dataframe tbody tr th {\n",
       "        vertical-align: top;\n",
       "    }\n",
       "\n",
       "    .dataframe thead th {\n",
       "        text-align: right;\n",
       "    }\n",
       "</style>\n",
       "<table border=\"1\" class=\"dataframe\">\n",
       "  <thead>\n",
       "    <tr style=\"text-align: right;\">\n",
       "      <th></th>\n",
       "      <th>file_name</th>\n",
       "      <th>user_name</th>\n",
       "      <th>repo_name</th>\n",
       "      <th>py_script</th>\n",
       "      <th>lower_camel_case</th>\n",
       "      <th>upper_camel_case</th>\n",
       "      <th>snake_case</th>\n",
       "      <th>docstring</th>\n",
       "      <th>doc_len</th>\n",
       "      <th>comment</th>\n",
       "      <th>comment_len</th>\n",
       "      <th>line_count</th>\n",
       "      <th>user/repo</th>\n",
       "      <th>watch_count</th>\n",
       "      <th>script_len</th>\n",
       "      <th>comment_density</th>\n",
       "      <th>doc_density</th>\n",
       "    </tr>\n",
       "  </thead>\n",
       "  <tbody>\n",
       "    <tr>\n",
       "      <th>1</th>\n",
       "      <td>data/0rpc/zerorpc-python/zerorpc/events.py</td>\n",
       "      <td>0rpc</td>\n",
       "      <td>zerorpc-python</td>\n",
       "      <td># -*- coding: utf-8 -*-\\n# Open Source Initiat...</td>\n",
       "      <td>0</td>\n",
       "      <td>15</td>\n",
       "      <td>23</td>\n",
       "      <td>0</td>\n",
       "      <td>0</td>\n",
       "      <td>24</td>\n",
       "      <td>1244</td>\n",
       "      <td>363</td>\n",
       "      <td>0rpc/zerorpc-python</td>\n",
       "      <td>139.0</td>\n",
       "      <td>10694</td>\n",
       "      <td>0.116327</td>\n",
       "      <td>0.000000</td>\n",
       "    </tr>\n",
       "    <tr>\n",
       "      <th>2</th>\n",
       "      <td>data/0xadada/dockdj/app/manage.py</td>\n",
       "      <td>0xadada</td>\n",
       "      <td>dockdj</td>\n",
       "      <td>#!/usr/bin/env python\\n\"\"\"Django's command lin...</td>\n",
       "      <td>0</td>\n",
       "      <td>0</td>\n",
       "      <td>2</td>\n",
       "      <td>1</td>\n",
       "      <td>36</td>\n",
       "      <td>1</td>\n",
       "      <td>21</td>\n",
       "      <td>13</td>\n",
       "      <td>0xadada/dockdj</td>\n",
       "      <td>12.0</td>\n",
       "      <td>288</td>\n",
       "      <td>0.072917</td>\n",
       "      <td>0.125000</td>\n",
       "    </tr>\n",
       "    <tr>\n",
       "      <th>13</th>\n",
       "      <td>data/4Catalyzer/flask-resty/tests/test_composi...</td>\n",
       "      <td>4Catalyzer</td>\n",
       "      <td>flask-resty</td>\n",
       "      <td>from flask_resty import Api, GenericModelView\\...</td>\n",
       "      <td>0</td>\n",
       "      <td>11</td>\n",
       "      <td>44</td>\n",
       "      <td>0</td>\n",
       "      <td>0</td>\n",
       "      <td>2</td>\n",
       "      <td>158</td>\n",
       "      <td>167</td>\n",
       "      <td>4Catalyzer/flask-resty</td>\n",
       "      <td>13.0</td>\n",
       "      <td>3837</td>\n",
       "      <td>0.041178</td>\n",
       "      <td>0.000000</td>\n",
       "    </tr>\n",
       "    <tr>\n",
       "      <th>16</th>\n",
       "      <td>data/9miao/Firefly/firefly/dbentrust/memclient.py</td>\n",
       "      <td>9miao</td>\n",
       "      <td>Firefly</td>\n",
       "      <td>#coding:utf8\\n'''\\nCreated on 2013-7-10\\nmemca...</td>\n",
       "      <td>1</td>\n",
       "      <td>4</td>\n",
       "      <td>4</td>\n",
       "      <td>14</td>\n",
       "      <td>287</td>\n",
       "      <td>5</td>\n",
       "      <td>36</td>\n",
       "      <td>105</td>\n",
       "      <td>9miao/Firefly</td>\n",
       "      <td>55.0</td>\n",
       "      <td>2690</td>\n",
       "      <td>0.013383</td>\n",
       "      <td>0.106691</td>\n",
       "    </tr>\n",
       "    <tr>\n",
       "      <th>17</th>\n",
       "      <td>data/9miao/Firefly/firefly/test/test_dbentrust.py</td>\n",
       "      <td>9miao</td>\n",
       "      <td>Firefly</td>\n",
       "      <td>#coding:utf8\\n'''\\nCreated on 2013-7-31\\n\\n@au...</td>\n",
       "      <td>0</td>\n",
       "      <td>0</td>\n",
       "      <td>0</td>\n",
       "      <td>1</td>\n",
       "      <td>58</td>\n",
       "      <td>9</td>\n",
       "      <td>388</td>\n",
       "      <td>46</td>\n",
       "      <td>9miao/Firefly</td>\n",
       "      <td>55.0</td>\n",
       "      <td>1236</td>\n",
       "      <td>0.313916</td>\n",
       "      <td>0.046926</td>\n",
       "    </tr>\n",
       "    <tr>\n",
       "      <th>...</th>\n",
       "      <td>...</td>\n",
       "      <td>...</td>\n",
       "      <td>...</td>\n",
       "      <td>...</td>\n",
       "      <td>...</td>\n",
       "      <td>...</td>\n",
       "      <td>...</td>\n",
       "      <td>...</td>\n",
       "      <td>...</td>\n",
       "      <td>...</td>\n",
       "      <td>...</td>\n",
       "      <td>...</td>\n",
       "      <td>...</td>\n",
       "      <td>...</td>\n",
       "      <td>...</td>\n",
       "      <td>...</td>\n",
       "      <td>...</td>\n",
       "    </tr>\n",
       "    <tr>\n",
       "      <th>99977</th>\n",
       "      <td>data/HIPS/Kayak/tests/check_MemoryUse.py</td>\n",
       "      <td>HIPS</td>\n",
       "      <td>Kayak</td>\n",
       "      <td>import numpy        as np\\nimport numpy.random...</td>\n",
       "      <td>0</td>\n",
       "      <td>0</td>\n",
       "      <td>0</td>\n",
       "      <td>0</td>\n",
       "      <td>0</td>\n",
       "      <td>1</td>\n",
       "      <td>62</td>\n",
       "      <td>22</td>\n",
       "      <td>HIPS/Kayak</td>\n",
       "      <td>12.0</td>\n",
       "      <td>477</td>\n",
       "      <td>0.129979</td>\n",
       "      <td>0.000000</td>\n",
       "    </tr>\n",
       "    <tr>\n",
       "      <th>99978</th>\n",
       "      <td>data/HIPS/Kayak/tests/test_NExp.py</td>\n",
       "      <td>HIPS</td>\n",
       "      <td>Kayak</td>\n",
       "      <td>import numpy        as np\\nimport numpy.random...</td>\n",
       "      <td>0</td>\n",
       "      <td>0</td>\n",
       "      <td>15</td>\n",
       "      <td>0</td>\n",
       "      <td>0</td>\n",
       "      <td>0</td>\n",
       "      <td>0</td>\n",
       "      <td>141</td>\n",
       "      <td>HIPS/Kayak</td>\n",
       "      <td>12.0</td>\n",
       "      <td>3359</td>\n",
       "      <td>0.000000</td>\n",
       "      <td>0.000000</td>\n",
       "    </tr>\n",
       "    <tr>\n",
       "      <th>99979</th>\n",
       "      <td>data/HIPS/autograd/autograd/scipy/signal.py</td>\n",
       "      <td>HIPS</td>\n",
       "      <td>autograd</td>\n",
       "      <td>from __future__ import absolute_import\\nimport...</td>\n",
       "      <td>0</td>\n",
       "      <td>1</td>\n",
       "      <td>61</td>\n",
       "      <td>0</td>\n",
       "      <td>0</td>\n",
       "      <td>5</td>\n",
       "      <td>120</td>\n",
       "      <td>140</td>\n",
       "      <td>HIPS/autograd</td>\n",
       "      <td>263.0</td>\n",
       "      <td>5930</td>\n",
       "      <td>0.020236</td>\n",
       "      <td>0.000000</td>\n",
       "    </tr>\n",
       "    <tr>\n",
       "      <th>99980</th>\n",
       "      <td>data/HIPS/autograd/examples/sinusoid.py</td>\n",
       "      <td>HIPS</td>\n",
       "      <td>autograd</td>\n",
       "      <td>from __future__ import absolute_import\\nfrom _...</td>\n",
       "      <td>0</td>\n",
       "      <td>0</td>\n",
       "      <td>12</td>\n",
       "      <td>0</td>\n",
       "      <td>0</td>\n",
       "      <td>4</td>\n",
       "      <td>103</td>\n",
       "      <td>46</td>\n",
       "      <td>HIPS/autograd</td>\n",
       "      <td>263.0</td>\n",
       "      <td>1098</td>\n",
       "      <td>0.093807</td>\n",
       "      <td>0.000000</td>\n",
       "    </tr>\n",
       "    <tr>\n",
       "      <th>99984</th>\n",
       "      <td>data/HamedMP/ImageFlow/example_project/__init_...</td>\n",
       "      <td>HamedMP</td>\n",
       "      <td>ImageFlow</td>\n",
       "      <td>__author__ = 'HANEL'\\n</td>\n",
       "      <td>0</td>\n",
       "      <td>0</td>\n",
       "      <td>0</td>\n",
       "      <td>0</td>\n",
       "      <td>0</td>\n",
       "      <td>0</td>\n",
       "      <td>0</td>\n",
       "      <td>2</td>\n",
       "      <td>HamedMP/ImageFlow</td>\n",
       "      <td>37.0</td>\n",
       "      <td>21</td>\n",
       "      <td>0.000000</td>\n",
       "      <td>0.000000</td>\n",
       "    </tr>\n",
       "  </tbody>\n",
       "</table>\n",
       "<p>48940 rows × 17 columns</p>\n",
       "</div>"
      ],
      "text/plain": [
       "                                               file_name   user_name  \\\n",
       "1             data/0rpc/zerorpc-python/zerorpc/events.py        0rpc   \n",
       "2                      data/0xadada/dockdj/app/manage.py     0xadada   \n",
       "13     data/4Catalyzer/flask-resty/tests/test_composi...  4Catalyzer   \n",
       "16     data/9miao/Firefly/firefly/dbentrust/memclient.py       9miao   \n",
       "17     data/9miao/Firefly/firefly/test/test_dbentrust.py       9miao   \n",
       "...                                                  ...         ...   \n",
       "99977           data/HIPS/Kayak/tests/check_MemoryUse.py        HIPS   \n",
       "99978                 data/HIPS/Kayak/tests/test_NExp.py        HIPS   \n",
       "99979        data/HIPS/autograd/autograd/scipy/signal.py        HIPS   \n",
       "99980            data/HIPS/autograd/examples/sinusoid.py        HIPS   \n",
       "99984  data/HamedMP/ImageFlow/example_project/__init_...     HamedMP   \n",
       "\n",
       "            repo_name                                          py_script  \\\n",
       "1      zerorpc-python  # -*- coding: utf-8 -*-\\n# Open Source Initiat...   \n",
       "2              dockdj  #!/usr/bin/env python\\n\"\"\"Django's command lin...   \n",
       "13        flask-resty  from flask_resty import Api, GenericModelView\\...   \n",
       "16            Firefly  #coding:utf8\\n'''\\nCreated on 2013-7-10\\nmemca...   \n",
       "17            Firefly  #coding:utf8\\n'''\\nCreated on 2013-7-31\\n\\n@au...   \n",
       "...               ...                                                ...   \n",
       "99977           Kayak  import numpy        as np\\nimport numpy.random...   \n",
       "99978           Kayak  import numpy        as np\\nimport numpy.random...   \n",
       "99979        autograd  from __future__ import absolute_import\\nimport...   \n",
       "99980        autograd  from __future__ import absolute_import\\nfrom _...   \n",
       "99984       ImageFlow                             __author__ = 'HANEL'\\n   \n",
       "\n",
       "       lower_camel_case  upper_camel_case  snake_case  docstring  doc_len  \\\n",
       "1                     0                15          23          0        0   \n",
       "2                     0                 0           2          1       36   \n",
       "13                    0                11          44          0        0   \n",
       "16                    1                 4           4         14      287   \n",
       "17                    0                 0           0          1       58   \n",
       "...                 ...               ...         ...        ...      ...   \n",
       "99977                 0                 0           0          0        0   \n",
       "99978                 0                 0          15          0        0   \n",
       "99979                 0                 1          61          0        0   \n",
       "99980                 0                 0          12          0        0   \n",
       "99984                 0                 0           0          0        0   \n",
       "\n",
       "       comment  comment_len  line_count               user/repo  watch_count  \\\n",
       "1           24         1244         363     0rpc/zerorpc-python        139.0   \n",
       "2            1           21          13          0xadada/dockdj         12.0   \n",
       "13           2          158         167  4Catalyzer/flask-resty         13.0   \n",
       "16           5           36         105           9miao/Firefly         55.0   \n",
       "17           9          388          46           9miao/Firefly         55.0   \n",
       "...        ...          ...         ...                     ...          ...   \n",
       "99977        1           62          22              HIPS/Kayak         12.0   \n",
       "99978        0            0         141              HIPS/Kayak         12.0   \n",
       "99979        5          120         140           HIPS/autograd        263.0   \n",
       "99980        4          103          46           HIPS/autograd        263.0   \n",
       "99984        0            0           2       HamedMP/ImageFlow         37.0   \n",
       "\n",
       "       script_len  comment_density  doc_density  \n",
       "1           10694         0.116327     0.000000  \n",
       "2             288         0.072917     0.125000  \n",
       "13           3837         0.041178     0.000000  \n",
       "16           2690         0.013383     0.106691  \n",
       "17           1236         0.313916     0.046926  \n",
       "...           ...              ...          ...  \n",
       "99977         477         0.129979     0.000000  \n",
       "99978        3359         0.000000     0.000000  \n",
       "99979        5930         0.020236     0.000000  \n",
       "99980        1098         0.093807     0.000000  \n",
       "99984          21         0.000000     0.000000  \n",
       "\n",
       "[48940 rows x 17 columns]"
      ]
     },
     "execution_count": 29,
     "metadata": {},
     "output_type": "execute_result"
    }
   ],
   "source": [
    "train_plot_df = train_data_df_wc.dropna(subset=['watch_count'])\n",
    "train_plot_df = train_plot_df[train_plot_df[\"watch_count\"] > 10]\n",
    "train_plot_df"
   ]
  },
  {
   "cell_type": "code",
   "execution_count": 40,
   "metadata": {},
   "outputs": [
    {
     "data": {
      "image/png": "[encoded data removed]",
      "text/plain": [
       "<Figure size 432x288 with 1 Axes>"
      ]
     },
     "metadata": {
      "needs_background": "light"
     },
     "output_type": "display_data"
    }
   ],
   "source": [
    "import matplotlib.pyplot as plt\n",
    "X = train_plot_df['watch_count'].tolist()\n",
    "Y = train_plot_df['comment'].tolist()\n",
    "\n",
    "fig = plt.figure()\n",
    "ax = fig.add_axes([0,0,1,1])\n",
    "ax.set_ylim([0, 2000])\n",
    "ax.scatter(X, Y, color='b')\n",
    "plt.title(\"Comments per Document\")\n",
    "plt.ylabel('# comments')\n",
    "plt.xlabel('Watch Count of Repository')\n",
    "plt.show()"
   ]
  },
  {
   "cell_type": "code",
   "execution_count": 41,
   "metadata": {},
   "outputs": [
    {
     "data": {
      "image/png": "[encoded data removed]",
      "text/plain": [
       "<Figure size 432x288 with 1 Axes>"
      ]
     },
     "metadata": {
      "needs_background": "light"
     },
     "output_type": "display_data"
    }
   ],
   "source": [
    "\n",
    "Y = train_plot_df['comment_len'].tolist()\n",
    "\n",
    "fig = plt.figure()\n",
    "ax = fig.add_axes([0,0,1,1])\n",
    "ax.set_ylim([0, 100000])\n",
    "ax.scatter(X, Y, color='b')\n",
    "plt.title(\"Comment Length per Document\")\n",
    "plt.ylabel('Comment length')\n",
    "plt.xlabel('Watch Count of Repository')\n",
    "plt.show()"
   ]
  },
  {
   "cell_type": "code",
   "execution_count": 42,
   "metadata": {},
   "outputs": [
    {
     "data": {
      "image/png": "[encoded data removed]",
      "text/plain": [
       "<Figure size 432x288 with 1 Axes>"
      ]
     },
     "metadata": {
      "needs_background": "light"
     },
     "output_type": "display_data"
    }
   ],
   "source": [
    "\n",
    "Y = train_plot_df['comment_density'].tolist()\n",
    "\n",
    "fig = plt.figure()\n",
    "ax = fig.add_axes([0,0,1,1])\n",
    "ax.set_ylim([0, 1])\n",
    "ax.scatter(X, Y, color='b')\n",
    "plt.title(\"Comment Density per Document\")\n",
    "plt.ylabel('Comment Density')\n",
    "plt.xlabel('Watch Count of Repository')\n",
    "plt.show()"
   ]
  },
  {
   "cell_type": "code",
   "execution_count": 43,
   "metadata": {},
   "outputs": [
    {
     "data": {
      "image/png": "[encoded data removed]",
      "text/plain": [
       "<Figure size 432x288 with 1 Axes>"
      ]
     },
     "metadata": {
      "needs_background": "light"
     },
     "output_type": "display_data"
    }
   ],
   "source": [
    "\n",
    "Y = train_plot_df['docstring'].tolist()\n",
    "\n",
    "fig = plt.figure()\n",
    "ax = fig.add_axes([0,0,1,1])\n",
    "ax.set_ylim([0, 200])\n",
    "ax.scatter(X, Y, color=\"r\")\n",
    "plt.title(\"Docstring per Document\")\n",
    "plt.ylabel('# Document')\n",
    "plt.xlabel('Watch Count of Repository')\n",
    "plt.show()"
   ]
  },
  {
   "cell_type": "code",
   "execution_count": 44,
   "metadata": {},
   "outputs": [
    {
     "data": {
      "image/png": "[encoded data removed]",
      "text/plain": [
       "<Figure size 432x288 with 1 Axes>"
      ]
     },
     "metadata": {
      "needs_background": "light"
     },
     "output_type": "display_data"
    }
   ],
   "source": [
    "\n",
    "Y = train_plot_df['doc_len'].tolist()\n",
    "\n",
    "fig = plt.figure()\n",
    "ax = fig.add_axes([0,0,1,1])\n",
    "ax.set_ylim([0, 100000])\n",
    "ax.scatter(X, Y, color=\"r\")\n",
    "plt.title(\"Docstring Length per Document\")\n",
    "plt.ylabel('Docstring Length')\n",
    "plt.xlabel('Watch Count of Repository')\n",
    "plt.show()"
   ]
  },
  {
   "cell_type": "code",
   "execution_count": 45,
   "metadata": {},
   "outputs": [
    {
     "data": {
      "image/png": "[encoded data removed]",
      "text/plain": [
       "<Figure size 432x288 with 1 Axes>"
      ]
     },
     "metadata": {
      "needs_background": "light"
     },
     "output_type": "display_data"
    }
   ],
   "source": [
    "Y = train_plot_df['doc_density'].tolist()\n",
    "\n",
    "fig = plt.figure()\n",
    "ax = fig.add_axes([0,0,1,1])\n",
    "ax.scatter(X, Y, color='r')\n",
    "plt.title(\"Docstring Density per Document\")\n",
    "plt.ylabel('Docstring Density')\n",
    "plt.xlabel('Watch Count of Repository')\n",
    "plt.show()"
   ]
  },
  {
   "cell_type": "code",
   "execution_count": 46,
   "metadata": {},
   "outputs": [
    {
     "data": {
      "image/png": "[encoded data removed]",
      "text/plain": [
       "<Figure size 432x288 with 1 Axes>"
      ]
     },
     "metadata": {
      "needs_background": "light"
     },
     "output_type": "display_data"
    }
   ],
   "source": [
    "Y = train_plot_df['snake_case'].tolist()\n",
    "\n",
    "fig = plt.figure()\n",
    "ax = fig.add_axes([0,0,1,1])\n",
    "ax.scatter(X, Y, color=\"r\")\n",
    "plt.title(\"Snake Case per Document\")\n",
    "plt.ylabel('# Snake Case')\n",
    "plt.xlabel('Watch Count of Repository')\n",
    "plt.show()"
   ]
  },
  {
   "cell_type": "code",
   "execution_count": 47,
   "metadata": {},
   "outputs": [
    {
     "data": {
      "image/png": "[encoded data removed]",
      "text/plain": [
       "<Figure size 432x288 with 1 Axes>"
      ]
     },
     "metadata": {
      "needs_background": "light"
     },
     "output_type": "display_data"
    }
   ],
   "source": [
    "Y = train_plot_df['lower_camel_case'].tolist()\n",
    "\n",
    "fig = plt.figure()\n",
    "ax = fig.add_axes([0,0,1,1])\n",
    "ax.scatter(X, Y, color=\"b\")\n",
    "plt.title(\"Lower Camel Case per Document\")\n",
    "plt.ylabel('# Lower Camel Case')\n",
    "plt.xlabel('Watch Count of Repository')\n",
    "plt.show()"
   ]
  },
  {
   "cell_type": "code",
   "execution_count": 48,
   "metadata": {},
   "outputs": [
    {
     "data": {
      "image/png": "[encoded data removed]",
      "text/plain": [
       "<Figure size 432x288 with 1 Axes>"
      ]
     },
     "metadata": {
      "needs_background": "light"
     },
     "output_type": "display_data"
    }
   ],
   "source": [
    "Y = train_plot_df['upper_camel_case'].tolist()\n",
    "\n",
    "fig = plt.figure()\n",
    "ax = fig.add_axes([0,0,1,1])\n",
    "ax.scatter(X, Y, color=\"g\")\n",
    "plt.title(\"Upper Camel Case per Document\")\n",
    "plt.ylabel('# Upper Camel Case')\n",
    "plt.xlabel('Watch Count of Repository')\n",
    "plt.show()"
   ]
  },
  {
   "cell_type": "code",
   "execution_count": 49,
   "metadata": {},
   "outputs": [
    {
     "data": {
      "image/png": "[encoded data removed]",
      "text/plain": [
       "<Figure size 432x288 with 1 Axes>"
      ]
     },
     "metadata": {
      "needs_background": "light"
     },
     "output_type": "display_data"
    }
   ],
   "source": [
    "Y = train_plot_df['line_count'].tolist()\n",
    "\n",
    "fig = plt.figure()\n",
    "ax = fig.add_axes([0,0,1,1])\n",
    "ax.scatter(X, Y)\n",
    "plt.title(\"Line Count per Document\")\n",
    "plt.ylabel('# Line Count')\n",
    "plt.xlabel('Watch Count of Repository')\n",
    "plt.show()"
   ]
  },
  {
   "cell_type": "code",
   "execution_count": 50,
   "metadata": {},
   "outputs": [
    {
     "data": {
      "image/png": "[encoded data removed]",
      "text/plain": [
       "<Figure size 432x288 with 1 Axes>"
      ]
     },
     "metadata": {
      "needs_background": "light"
     },
     "output_type": "display_data"
    }
   ],
   "source": [
    "Y = train_plot_df['script_len'].tolist()\n",
    "\n",
    "fig = plt.figure()\n",
    "ax = fig.add_axes([0,0,1,1])\n",
    "ax.set_ylim([0, 500000])\n",
    "ax.scatter(X, Y)\n",
    "plt.title(\"Script Length per Document\")\n",
    "plt.ylabel('# Script Length')\n",
    "plt.xlabel('Watch Count of Repository')\n",
    "plt.show()"
   ]
  },
  {
   "cell_type": "code",
   "execution_count": 53,
   "metadata": {},
   "outputs": [],
   "source": [
    "_bool_df = train_data_df_wc[train_data_df_wc['lower_camel_case'] > 100]['py_script'].apply(lambda script: \"django\" in script.lower())\n",
    "# print(train_data_df_wc[train_data_df_wc['lower_camel_case'] > 100]['py_script'][_bool_df].loc[55901])"
   ]
  },
  {
   "cell_type": "code",
   "execution_count": 54,
   "metadata": {},
   "outputs": [],
   "source": [
    "# train_data_df_wc.loc[55901]['file_name']"
   ]
  },
  {
   "cell_type": "code",
   "execution_count": 55,
   "metadata": {},
   "outputs": [
    {
     "data": {
      "text/html": [
       "<div>\n",
       "<style scoped>\n",
       "    .dataframe tbody tr th:only-of-type {\n",
       "        vertical-align: middle;\n",
       "    }\n",
       "\n",
       "    .dataframe tbody tr th {\n",
       "        vertical-align: top;\n",
       "    }\n",
       "\n",
       "    .dataframe thead th {\n",
       "        text-align: right;\n",
       "    }\n",
       "</style>\n",
       "<table border=\"1\" class=\"dataframe\">\n",
       "  <thead>\n",
       "    <tr style=\"text-align: right;\">\n",
       "      <th></th>\n",
       "      <th>ast</th>\n",
       "      <th>node_num</th>\n",
       "      <th>TupleLoad_count</th>\n",
       "      <th>alias_count</th>\n",
       "      <th>ListLoad_count</th>\n",
       "      <th>Module_count</th>\n",
       "      <th>Expr_count</th>\n",
       "      <th>NameStore_count</th>\n",
       "      <th>ImportFrom_count</th>\n",
       "      <th>NameLoad_count</th>\n",
       "      <th>Assign_count</th>\n",
       "      <th>Str_count</th>\n",
       "    </tr>\n",
       "  </thead>\n",
       "  <tbody>\n",
       "    <tr>\n",
       "      <th>0</th>\n",
       "      <td>type             children  \\\n",
       "0     ...</td>\n",
       "      <td>116</td>\n",
       "      <td>34</td>\n",
       "      <td>4</td>\n",
       "      <td>1</td>\n",
       "      <td>1</td>\n",
       "      <td>1</td>\n",
       "      <td>1</td>\n",
       "      <td>4</td>\n",
       "      <td>34</td>\n",
       "      <td>1</td>\n",
       "      <td>35</td>\n",
       "    </tr>\n",
       "  </tbody>\n",
       "</table>\n",
       "</div>"
      ],
      "text/plain": [
       "                                                 ast  node_num  \\\n",
       "0             type             children  \\\n",
       "0     ...       116   \n",
       "\n",
       "   TupleLoad_count  alias_count  ListLoad_count  Module_count  Expr_count  \\\n",
       "0               34            4               1             1           1   \n",
       "\n",
       "   NameStore_count  ImportFrom_count  NameLoad_count  Assign_count  Str_count  \n",
       "0                1                 4              34             1         35  "
      ]
     },
     "execution_count": 55,
     "metadata": {},
     "output_type": "execute_result"
    }
   ],
   "source": [
    "train_ast_df"
   ]
  },
  {
   "cell_type": "code",
   "execution_count": 31,
   "metadata": {},
   "outputs": [],
   "source": [
    "# sample_data = read_train_data(train_file_name, 1)\n",
    "# sample_data_df = create_df(sample_data)\n",
    "# print(len(sample_data))\n",
    "sample_data_df = train_data_df"
   ]
  },
  {
   "cell_type": "code",
   "execution_count": 32,
   "metadata": {},
   "outputs": [],
   "source": [
    "sample_data_df['script_len'] = sample_data_df['py_script'].apply(lambda script: len(script))\n",
    "sample_data_df['comment_density'] = sample_data_df.apply(lambda row: 0 if row['script_len']==0 else row['comment_len']/row['script_len'], axis=1)\n",
    "sample_data_df['doc_density'] = sample_data_df.apply(lambda row: 0 if row['script_len']==0 else row['doc_len']/row['script_len'], axis=1)"
   ]
  },
  {
   "cell_type": "code",
   "execution_count": 40,
   "metadata": {},
   "outputs": [
    {
     "name": "stdout",
     "output_type": "stream",
     "text": [
      "#!/usr/bin/env python\n",
      "#\n",
      "# Copyright 2007 Google Inc.\n",
      "#\n",
      "# Licensed under the Apache License, Version 2.0 (the \"License\");\n",
      "# you may not use this file except in compliance with the License.\n",
      "# You may obtain a copy of the License at\n",
      "#\n",
      "#     http://www.apache.org/licenses/LICENSE-2.0\n",
      "#\n",
      "# Unless required by applicable law or agreed to in writing, software\n",
      "# distributed under the License is distributed on an \"AS IS\" BASIS,\n",
      "# WITHOUT WARRANTIES OR CONDITIONS OF ANY KIND, either express or implied.\n",
      "# See the License for the specific language governing permissions and\n",
      "# limitations under the License.\n",
      "#\n",
      "\n",
      "\n",
      "\n",
      "\n",
      "\n",
      "\n",
      "\n",
      "\"\"\"An extremely simple WSGI web application framework.\n",
      "\n",
      "This module is an alias for the webapp2 module i.e. the following are\n",
      "equivalent:\n",
      "\n",
      "1. from google.appengine.ext import webapp\n",
      "2. import webapp2 as webapp\n",
      "\n",
      "It exports three primary classes: Request, Response, and RequestHandler. You\n",
      "implement a web application by subclassing RequestHandler. As WSGI requests come\n",
      "in, they are passed to instances of your RequestHandlers. The RequestHandler\n",
      "class provides access to the easy-to-use Request and Response objects so you can\n",
      "interpret the request and write the response with no knowledge of the esoteric\n",
      "WSGI semantics.  Here is a simple example:\n",
      "\n",
      "  from google.appengine.ext import webapp\n",
      "  import wsgiref.simple_server\n",
      "\n",
      "  class MainPage(webapp.RequestHandler):\n",
      "    def get(self):\n",
      "      self.response.out.write(\n",
      "        '<html><body><form action=\"/hello\" method=\"post\">'\n",
      "        'Name: <input name=\"name\" type=\"text\" size=\"20\"> '\n",
      "        '<input type=\"submit\" value=\"Say Hello\"></form></body></html>')\n",
      "\n",
      "  class HelloPage(webapp.RequestHandler):\n",
      "    def post(self):\n",
      "      self.response.headers['Content-Type'] = 'text/plain'\n",
      "      self.response.out.write('Hello, %s' % self.request.get('name'))\n",
      "\n",
      "  application = webapp.WSGIApplication([\n",
      "    ('/', MainPage),\n",
      "    ('/hello', HelloPage)\n",
      "  ], debug=True)\n",
      "\n",
      "The WSGIApplication class maps URI regular expressions to your RequestHandler\n",
      "classes.  It is a WSGI-compatible application object, so you can use it in\n",
      "conjunction with wsgiref to make your web application into, e.g., a CGI\n",
      "script or a simple HTTP server, as in the example above.\n",
      "\n",
      "The framework does not support streaming output. All output from a response\n",
      "is stored in memory before it is written.\n",
      "\"\"\"\n",
      "\n",
      "\n",
      "import logging\n",
      "import os\n",
      "\n",
      "from google.appengine.api import lib_config\n",
      "\n",
      "\n",
      "def __django_version_setup():\n",
      "  \"\"\"Selects a particular Django version to load.\"\"\"\n",
      "  django_version = _config_handle.django_version\n",
      "\n",
      "  if django_version is not None:\n",
      "\n",
      "\n",
      "    from google.appengine.dist import use_library\n",
      "    use_library('django', str(django_version))\n",
      "  else:\n",
      "\n",
      "\n",
      "\n",
      "    from google.appengine.dist import _library\n",
      "    version, explicit = _library.installed.get('django', ('0.96', False))\n",
      "    if not explicit:\n",
      "      logging.warn('You are using the default Django version (%s). '\n",
      "                   'The default Django version will change in an '\n",
      "                   'App Engine release in the near future. '\n",
      "                   'Please call use_library() to explicitly select a '\n",
      "                   'Django version. '\n",
      "                   'For more information see %s',\n",
      "                   version,\n",
      "                   'https://developers.google.com/appengine/docs/python/tools/'\n",
      "                   'libraries#Django')\n",
      "    try:\n",
      "\n",
      "\n",
      "\n",
      "      import django\n",
      "      if not hasattr(django, 'VERSION'):\n",
      "        from django import v0_96\n",
      "    except ImportError:\n",
      "\n",
      "      pass\n",
      "\n",
      "\n",
      "def _django_setup():\n",
      "  \"\"\"Imports and configures Django.\n",
      "\n",
      "  This can be overridden by defining a function named\n",
      "  webapp_django_setup() in the app's appengine_config.py file (see\n",
      "  lib_config docs).  Such a function should import and configure\n",
      "  Django.\n",
      "\n",
      "  In the Python 2.5 runtime, you can also just configure the Django version to\n",
      "  be used by setting webapp_django_version in that file.\n",
      "\n",
      "  Finally, calling use_library('django', <version>) in that file\n",
      "  should also work:\n",
      "\n",
      "    # Example taken from from\n",
      "    # https://developers.google.com/appengine/docs/python/tools/libraries#Django\n",
      "\n",
      "    import os\n",
      "    os.environ['DJANGO_SETTINGS_MODULE'] = 'settings'\n",
      "\n",
      "    from google.appengine.dist import use_library\n",
      "    use_library('django', '1.2')\n",
      "\n",
      "  In the Python 2.7 runtime, the Django version is specified in you app.yaml\n",
      "  file and use_library is not supported.\n",
      "\n",
      "  If your application also imports Django directly it should ensure\n",
      "  that the same code is executed before your app imports Django\n",
      "  (directly or indirectly).  Perhaps the simplest way to ensure that\n",
      "  is to include the following in your main.py (and in each alternate\n",
      "  main script):\n",
      "\n",
      "    from google.appengine.ext.webapp import template\n",
      "    import django\n",
      "\n",
      "  This will ensure that whatever Django setup code you have included\n",
      "  in appengine_config.py is executed, as a side effect of importing\n",
      "  the webapp.template module.\n",
      "  \"\"\"\n",
      "  if os.environ.get('APPENGINE_RUNTIME') != 'python27':\n",
      "    __django_version_setup()\n",
      "\n",
      "\n",
      "  import django\n",
      "\n",
      "\n",
      "  import django.conf\n",
      "  try:\n",
      "\n",
      "    raise ImportError\n",
      "    # TODO: Right now the below line raises a\n",
      "    # django.core.exceptions.ImproperlyConfigured exception. Need to investigate\n",
      "    # why and address accordingly.\n",
      "    #getattr(django.conf.settings, 'FAKE_ATTR', None)\n",
      "  except (ImportError, EnvironmentError), e:\n",
      "\n",
      "\n",
      "\n",
      "    if os.getenv(django.conf.ENVIRONMENT_VARIABLE):\n",
      "\n",
      "\n",
      "      logging.warning(e)\n",
      "\n",
      "    try:\n",
      "      django.conf.settings.configure(\n",
      "        DEBUG=False,\n",
      "        TEMPLATE_DEBUG=False,\n",
      "        TEMPLATE_LOADERS=(\n",
      "          'django.template.loaders.filesystem.load_template_source',\n",
      "        ),\n",
      "      )\n",
      "    except (EnvironmentError, RuntimeError):\n",
      "\n",
      "\n",
      "\n",
      "      pass\n",
      "\n",
      "\n",
      "\n",
      "if os.environ.get('APPENGINE_RUNTIME') == 'python27':\n",
      "\n",
      "\n",
      "  _config_handle = lib_config.register(\n",
      "      'webapp',\n",
      "      {'add_wsgi_middleware': lambda app: app,})\n",
      "  from webapp2 import *\n",
      "else:\n",
      "  _config_handle = lib_config.register(\n",
      "      'webapp',\n",
      "      {'django_setup': _django_setup,\n",
      "       'django_version': None,\n",
      "       'add_wsgi_middleware': lambda app: app,\n",
      "       })\n",
      "  from google.appengine.ext.webapp._webapp25 import *\n",
      "  from google.appengine.ext.webapp._webapp25 import __doc__\n",
      "\n"
     ]
    }
   ],
   "source": [
    "print(sample_data_df[\"py_script\"][99])"
   ]
  },
  {
   "cell_type": "code",
   "execution_count": 59,
   "metadata": {},
   "outputs": [],
   "source": [
    "sample_ast = train_ast_df['ast'][0]"
   ]
  },
  {
   "cell_type": "code",
   "execution_count": 60,
   "metadata": {},
   "outputs": [],
   "source": [
    "sample_script = sample_data_df[\"py_script\"][0]"
   ]
  },
  {
   "cell_type": "code",
   "execution_count": 61,
   "metadata": {},
   "outputs": [],
   "source": [
    "\n",
    "def extract_casing(input_code):\n",
    "    case_dict = {\"lowerCamelCase\": [], \"UpperCamelCase\": [], \"snake_case\": []}\n",
    "    lower_camel = r\"[a-z]+([A-Z][a-z0-9]+)+\"\n",
    "    upper_camel = r\"[A-Z][a-z]+([A-Z][a-z0-9]+)+\"\n",
    "    snake = r\"[a-z]+(_[a-z0-9]+)+\"\n",
    "    \n",
    "    input_code = input_code.replace(\"(\", \" \")\n",
    "    input_code = input_code.replace(\")\", \" \")\n",
    "    for token in input_code.split():\n",
    "        if re.match(lower_camel, token):\n",
    "            case_dict[\"lowerCamelCase\"] += [token]\n",
    "        elif re.match(upper_camel, token):\n",
    "            case_dict[\"UpperCamelCase\"] += [token]\n",
    "        elif re.match(snake, token):\n",
    "            case_dict[\"snake_case\"] += [token]\n",
    "    return case_dict\n",
    "    "
   ]
  },
  {
   "cell_type": "code",
   "execution_count": 62,
   "metadata": {},
   "outputs": [
    {
     "name": "stdout",
     "output_type": "stream",
     "text": [
      "{'lowerCamelCase': [], 'UpperCamelCase': ['InstantPaymentNotificationHandler', 'ThankYouHandler', 'InstantPaymentNotificationHandler', 'ThankYouHandler', 'RedirectSuccess', 'RedirectError', 'RedirectAfterDelete', 'ActivityScreen', 'TxnList', 'MessageStrings', 'NotFound'], 'snake_case': []}\n"
     ]
    }
   ],
   "source": [
    "casings = extract_casing(sample_script)\n",
    "print(casings)"
   ]
  },
  {
   "cell_type": "code",
   "execution_count": 64,
   "metadata": {},
   "outputs": [
    {
     "ename": "TypeError",
     "evalue": "can't multiply sequence by non-int of type 'tuple'",
     "output_type": "error",
     "traceback": [
      "\u001b[0;31m---------------------------------------------------------------------------\u001b[0m",
      "\u001b[0;31mTypeError\u001b[0m                                 Traceback (most recent call last)",
      "\u001b[0;32m<ipython-input-64-5fe16b83bd1a>\u001b[0m in \u001b[0;36m<module>\u001b[0;34m\u001b[0m\n\u001b[0;32m----> 1\u001b[0;31m \u001b[0msample_ast\u001b[0m\u001b[0;34m[\u001b[0m\u001b[0;34m'ast'\u001b[0m\u001b[0;34m]\u001b[0m\u001b[0;34m[\u001b[0m\u001b[0;34m'casing'\u001b[0m\u001b[0;34m]\u001b[0m \u001b[0;34m=\u001b[0m \u001b[0;34m[\u001b[0m\u001b[0;32mNone\u001b[0m\u001b[0;34m]\u001b[0m \u001b[0;34m*\u001b[0m \u001b[0;34m(\u001b[0m\u001b[0;34m)\u001b[0m\u001b[0;34m\u001b[0m\u001b[0;34m\u001b[0m\u001b[0m\n\u001b[0m\u001b[1;32m      2\u001b[0m \u001b[0;32mfor\u001b[0m \u001b[0mcase\u001b[0m\u001b[0;34m,\u001b[0m \u001b[0midentifiers\u001b[0m \u001b[0;32min\u001b[0m \u001b[0mcasings\u001b[0m\u001b[0;34m.\u001b[0m\u001b[0mitems\u001b[0m\u001b[0;34m(\u001b[0m\u001b[0;34m)\u001b[0m\u001b[0;34m:\u001b[0m\u001b[0;34m\u001b[0m\u001b[0;34m\u001b[0m\u001b[0m\n\u001b[1;32m      3\u001b[0m     \u001b[0;32mfor\u001b[0m \u001b[0mvalue\u001b[0m \u001b[0;32min\u001b[0m \u001b[0midentifiers\u001b[0m\u001b[0;34m:\u001b[0m\u001b[0;34m\u001b[0m\u001b[0;34m\u001b[0m\u001b[0m\n\u001b[1;32m      4\u001b[0m         \u001b[0msample_ast\u001b[0m\u001b[0;34m[\u001b[0m\u001b[0msample_ast\u001b[0m\u001b[0;34m[\u001b[0m\u001b[0;34m'value'\u001b[0m\u001b[0;34m]\u001b[0m \u001b[0;34m==\u001b[0m \u001b[0mvalue\u001b[0m\u001b[0;34m]\u001b[0m\u001b[0;34m[\u001b[0m\u001b[0;34m'casing'\u001b[0m\u001b[0;34m]\u001b[0m \u001b[0;34m=\u001b[0m \u001b[0mcase\u001b[0m\u001b[0;34m\u001b[0m\u001b[0;34m\u001b[0m\u001b[0m\n\u001b[1;32m      5\u001b[0m \u001b[0;34m\u001b[0m\u001b[0m\n",
      "\u001b[0;31mTypeError\u001b[0m: can't multiply sequence by non-int of type 'tuple'"
     ]
    }
   ],
   "source": [
    "# sample_ast['ast']['casing'] = [None]\n",
    "# for case, identifiers in casings.items():\n",
    "#     for value in identifiers:\n",
    "#         sample_ast[sample_ast['value'] == value]['casing'] = case\n",
    "        "
   ]
  },
  {
   "cell_type": "code",
   "execution_count": 73,
   "metadata": {},
   "outputs": [
    {
     "data": {
      "text/plain": [
       "array(['Module', 'Expr', 'Str', 'ImportFrom', 'alias', 'Assign',\n",
       "       'NameStore', 'ListLoad', 'TupleLoad', 'NameLoad'], dtype=object)"
      ]
     },
     "execution_count": 73,
     "metadata": {},
     "output_type": "execute_result"
    }
   ],
   "source": [
    "sample_ast[\"type\"].unique()"
   ]
  },
  {
   "cell_type": "code",
   "execution_count": 85,
   "metadata": {},
   "outputs": [
    {
     "data": {
      "text/plain": [
       "0      False\n",
       "1      False\n",
       "2       True\n",
       "3       True\n",
       "4       True\n",
       "       ...  \n",
       "111     True\n",
       "112     True\n",
       "113    False\n",
       "114     True\n",
       "115     True\n",
       "Name: value, Length: 116, dtype: bool"
      ]
     },
     "execution_count": 85,
     "metadata": {},
     "output_type": "execute_result"
    }
   ],
   "source": [
    "sample_ast[\"value\"].notnull()"
   ]
  },
  {
   "cell_type": "code",
   "execution_count": 87,
   "metadata": {
    "tags": []
   },
   "outputs": [
    {
     "data": {
      "text/plain": [
       "array(['Str', 'ImportFrom', 'alias', 'NameStore', 'NameLoad'],\n",
       "      dtype=object)"
      ]
     },
     "execution_count": 87,
     "metadata": {},
     "output_type": "execute_result"
    }
   ],
   "source": [
    "sample_ast[sample_ast[\"value\"].notnull()][\"type\"].unique()"
   ]
  },
  {
   "cell_type": "code",
   "execution_count": null,
   "metadata": {},
   "outputs": [],
   "source": [
    "# {CLASS_NAME: {snake: 1, camel:200}, vairable: {}}\n",
    "# {CLASS_NAME: {snake: 200, camel:200}}"
   ]
  },
  {
   "cell_type": "code",
   "execution_count": null,
   "metadata": {},
   "outputs": [],
   "source": [
    "test_key = \"Expr\"\n",
    "sample = None\n",
    "for idx, ast in enumerate(ast_df_list):\n",
    "    type_list = ast[\"type\"].unique().tolist()\n",
    "    if test_key in type_list:\n",
    "        print(idx)\n",
    "        sample = ast\n",
    "        # test_sample = sample[sample[\"value\"].notnull()][sample[\"type\"] == test_key]\n",
    "        # if len(test_sample) > 0:\n",
    "        #     print(test_sample)\n",
    "        nodes = [node for expr_children in sample[sample[\"type\"] == test_key][\"children\"] for node in expr_children]\n",
    "        for idx in nodes:\n",
    "            print(sample.loc[idx])"
   ]
  },
  {
   "cell_type": "code",
   "execution_count": 171,
   "metadata": {},
   "outputs": [
    {
     "name": "stdout",
     "output_type": "stream",
     "text": [
      "# -*- coding: utf-8 -*-\n",
      "##############################################################################\n",
      "#\n",
      "# Copyright (c) 2010-2015, 2degrees Limited.\n",
      "# All Rights Reserved.\n",
      "#\n",
      "# This file is part of django-wsgi <https://github.com/2degrees/django-wsgi/>,\n",
      "# which is subject to the provisions of the BSD at\n",
      "# <http://dev.2degreesnetwork.com/p/2degrees-license.html>. A copy of the\n",
      "# license should accompany this distribution. THIS SOFTWARE IS PROVIDED \"AS IS\"\n",
      "# AND ANY AND ALL EXPRESS OR IMPLIED WARRANTIES ARE DISCLAIMED, INCLUDING, BUT\n",
      "# NOT LIMITED TO, THE IMPLIED WARRANTIES OF TITLE, MERCHANTABILITY, AGAINST\n",
      "# INFRINGEMENT, AND FITNESS FOR A PARTICULAR PURPOSE.\n",
      "#\n",
      "##############################################################################\n",
      "\"\"\"\n",
      "Exceptions raised by :mod:`django_wsgi.`\n",
      "\n",
      "\"\"\"\n",
      "\n",
      "__all__ = (\"DjangoWSGIException\", \"ApplicationCallError\")\n",
      "\n",
      "\n",
      "class DjangoWSGIException(Exception):\n",
      "    \"\"\"Base class for exceptions raised by :mod:`django_wsgi`.\"\"\"\n",
      "    pass\n",
      "\n",
      "\n",
      "class ApplicationCallError(DjangoWSGIException):\n",
      "    \"\"\"\n",
      "    Exception raised when an embedded WSGI application was not called properly.\n",
      "    \n",
      "    \"\"\"\n",
      "    pass\n",
      "\n"
     ]
    }
   ],
   "source": [
    "print(train_data_df_wc.loc[7][\"py_script\"])"
   ]
  }
 ],
 "metadata": {
  "kernelspec": {
   "display_name": "Python 3",
   "language": "python",
   "name": "python3"
  },
  "language_info": {
   "codemirror_mode": {
    "name": "ipython",
    "version": 3
   },
   "file_extension": ".py",
   "mimetype": "text/x-python",
   "name": "python",
   "nbconvert_exporter": "python",
   "pygments_lexer": "ipython3",
   "version": "3.8.10"
  }
 },
 "nbformat": 4,
 "nbformat_minor": 4
}

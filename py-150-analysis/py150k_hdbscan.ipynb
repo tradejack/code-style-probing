{
 "cells": [
  {
   "cell_type": "code",
   "execution_count": 3,
   "id": "986cb03a-10c4-4ee5-8049-74999b61ebb9",
   "metadata": {},
   "outputs": [],
   "source": [
    "# install T-SNE with cuda => 10x faster, highly recommended\n",
    "# !conda install tsnecuda -c conda-forge -y"
   ]
  },
  {
   "cell_type": "code",
   "execution_count": 4,
   "id": "a5ac202b-7aee-49a7-a23a-cc576bccf9ac",
   "metadata": {},
   "outputs": [],
   "source": [
    "import time\n",
    "import scipy\n",
    "import pandas as pd\n",
    "import matplotlib.pyplot as plt\n",
    "import seaborn as sns\n",
    "from tsnecuda import TSNE\n"
   ]
  },
  {
   "cell_type": "code",
   "execution_count": 5,
   "id": "b0e09507-2ddd-4a6a-86f9-ac6be9fe87d4",
   "metadata": {},
   "outputs": [],
   "source": [
    "\n",
    "data = pd.read_csv('../data/py150k_metrics.csv')\n",
    "sample = data.loc[:10]"
   ]
  },
  {
   "cell_type": "code",
   "execution_count": 6,
   "id": "d465a88f-905c-4c81-9e53-050fa8de563a",
   "metadata": {},
   "outputs": [],
   "source": [
    "def get_filtered_columns(data, rules):\n",
    "    columns = data.columns\n",
    "    results = []\n",
    "    for col in columns:\n",
    "        match_flag = True\n",
    "        \n",
    "        for rule in rules:\n",
    "            match_flag = rule in col and match_flag\n",
    "        \n",
    "        if match_flag:    \n",
    "            results.append(col)\n",
    "    return results\n",
    "\n",
    "id_subset = get_filtered_columns(data, [\"case\"]) + get_filtered_columns(data, [\"id\"])\n",
    "case_ratio_subset = get_filtered_columns(data, [\"case\", \"ratio\"])\n",
    "normalized_subset = get_filtered_columns(data, [\"ratio\"])\n",
    "sample_subset = get_filtered_columns(data, [\"ratio\", \"case\", \"method\"])"
   ]
  },
  {
   "cell_type": "code",
   "execution_count": null,
   "id": "4c40be09-bbf9-437a-960f-0656a26200e1",
   "metadata": {},
   "outputs": [
    {
     "name": "stdout",
     "output_type": "stream",
     "text": [
      "(11, 24)\n"
     ]
    }
   ],
   "source": [
    "subset = case_ratio_subset\n",
    "X = sample[subset]\n",
    "print(X.shape)\n",
    "start_time = time.time()\n",
    "projection = TSNE(verbose=1).fit_transform(X)\n",
    "plt.scatter(*projection.T)\n",
    "end_time = time.time()\n",
    "print(end_time - start_time)"
   ]
  },
  {
   "cell_type": "code",
   "execution_count": null,
   "id": "0d7518de-8f2f-4b8b-b9c5-7914c87b1a5c",
   "metadata": {},
   "outputs": [],
   "source": [
    "import time\n",
    "import numpy as np\n",
    "import hdbscan"
   ]
  },
  {
   "cell_type": "code",
   "execution_count": null,
   "id": "9980ff4b-16b3-4cc6-afd2-d4906f2493b1",
   "metadata": {},
   "outputs": [],
   "source": [
    "start_time = time.time()\n",
    "clusterer = hdbscan.HDBSCAN(min_samples=10, min_cluster_size=10 , cluster_selection_epsilon = 0, prediction_data=True).fit(X.to_numpy())\n",
    "print(len(clusterer.labels_))\n",
    "end_time = time.time()\n",
    "\n",
    "color_palette = sns.color_palette('Paired', 110000)\n",
    "print(len(color_palette))\n",
    "\n",
    "cluster_colors = [color_palette[x] if x >= 0\n",
    "                  else (0.5, 0.5, 0.5)\n",
    "                  for x in clusterer.labels_]\n",
    "cluster_member_colors = [sns.desaturate(x, p) for x, p in\n",
    "                         zip(cluster_colors, clusterer.probabilities_)]\n",
    "plt.scatter(*projection.T, s=50, linewidth=0, c=cluster_member_colors, alpha=0.25)\n",
    "end_time - start_time"
   ]
  },
  {
   "cell_type": "code",
   "execution_count": null,
   "id": "a1233815-1ac9-48e5-b28c-96dba3cabb47",
   "metadata": {},
   "outputs": [],
   "source": [
    "import numpy as np\n",
    "\n",
    "np.unique(clusterer.labels_).shape"
   ]
  },
  {
   "cell_type": "code",
   "execution_count": null,
   "id": "6fb578dd-c93e-415f-80a3-d78c625a5c11",
   "metadata": {},
   "outputs": [],
   "source": [
    "import re\n",
    "from tqdm import tqdm\n",
    "import pandas as pd\n",
    "from utils.helper import read_py150k_code\n",
    "from config import PY150K_TRAIN_CODE\n",
    "\n",
    "code_filenames = read_py150k_code(PY150K_TRAIN_CODE)\n",
    "script_file_name_regex = re.compile(r\"data/([^/]+)/([^/]+)/.+\")\n",
    "users = []\n",
    "repos = []\n",
    "for code_filename in tqdm(code_filenames):\n",
    "    match = script_file_name_regex.search(code_filename)\n",
    "    if not match:\n",
    "        print(file_name)\n",
    "    code_filename\n",
    "    users += [match.group(1)]\n",
    "    repos += [match.group(2)]\n",
    "    \n",
    "sample[\"user\"] = users\n",
    "sample[\"user\"] = sample[\"user\"].astype(\"category\")\n",
    "\n",
    "\n",
    "color_palette = sns.color_palette('Paired', 110000)\n",
    "print(len(color_palette))\n",
    "\n",
    "cluster_colors = [color_palette[x] for x in sample[\"user\"].cat.codes]\n",
    "cluster_member_colors = [sns.desaturate(x, p) for x, p in\n",
    "                         zip(cluster_colors, clusterer.probabilities_)]\n",
    "plt.scatter(*projection.T, s=50, linewidth=0, c=cluster_member_colors, alpha=0.25)"
   ]
  },
  {
   "cell_type": "code",
   "execution_count": null,
   "id": "ce271018-9844-43a8-b7b1-48b913a1b0b7",
   "metadata": {},
   "outputs": [],
   "source": []
  }
 ],
 "metadata": {
  "kernelspec": {
   "display_name": "Python 3",
   "language": "python",
   "name": "python3"
  },
  "language_info": {
   "codemirror_mode": {
    "name": "ipython",
    "version": 3
   },
   "file_extension": ".py",
   "mimetype": "text/x-python",
   "name": "python",
   "nbconvert_exporter": "python",
   "pygments_lexer": "ipython3",
   "version": "3.8.12"
  }
 },
 "nbformat": 4,
 "nbformat_minor": 5
}

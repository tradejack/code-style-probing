{
 "cells": [
  {
   "cell_type": "code",
   "execution_count": 2,
   "metadata": {},
   "outputs": [],
   "source": [
    "import ast\n",
    "import astpretty"
   ]
  },
  {
   "cell_type": "code",
   "execution_count": 3,
   "metadata": {},
   "outputs": [
    {
     "name": "stdout",
     "output_type": "stream",
     "text": [
      "Requirement already satisfied: astpretty in /home/ken/.local/lib/python3.8/site-packages (2.1.0)\n"
     ]
    }
   ],
   "source": [
    "!pip3 install astpretty"
   ]
  },
  {
   "cell_type": "code",
   "execution_count": 29,
   "metadata": {},
   "outputs": [],
   "source": [
    "def read_file_to_string(filename):\n",
    "    f = open(filename, \"rb\")\n",
    "    s = \"\"\n",
    "    try:\n",
    "        s = f.read()\n",
    "    except:\n",
    "        print(filename)\n",
    "    f.close()\n",
    "    return s.decode(errors=\"replace\")"
   ]
  },
  {
   "cell_type": "code",
   "execution_count": 30,
   "metadata": {},
   "outputs": [],
   "source": [
    "test_script_str = read_file_to_string('test_code.py')"
   ]
  },
  {
   "cell_type": "code",
   "execution_count": 31,
   "metadata": {},
   "outputs": [
    {
     "data": {
      "text/plain": [
       "\"Module(body=[FunctionDef(name='function_name', args=arguments(posonlyargs=[], args=[arg(arg='par_1', annotation=None, type_comment=None), arg(arg='parTwo', annotation=None, type_comment=None), arg(arg='camelCase', annotation=None, type_comment=None)], vararg=None, kwonlyargs=[], kw_defaults=[], kwarg=None, defaults=[]), body=[Expr(value=Constant(value='\\\\n\\\\tdocstring time 1\\\\n\\\\t', kind=None)), Expr(value=Constant(value='\\\\n\\\\tdocstring time 2\\\\n\\\\t', kind=None)), Assign(targets=[Name(id='var_1', ctx=Store())], value=Constant(value=42, kind=None), type_comment=None), Expr(value=Call(func=Name(id='print', ctx=Load()), args=[Constant(value='hello world!', kind=None)], keywords=[])), Return(value=None)], decorator_list=[], returns=None, type_comment=None), FunctionDef(name='function_name2', args=arguments(posonlyargs=[], args=[arg(arg='par_1', annotation=None, type_comment=None), arg(arg='parTwo', annotation=None, type_comment=None), arg(arg='camelCase', annotation=None, type_comment=None)], vararg=None, kwonlyargs=[], kw_defaults=[], kwarg=None, defaults=[]), body=[Expr(value=Constant(value='\\\\n\\\\tdocstring time 1\\\\n\\\\t', kind=None)), Expr(value=Constant(value='\\\\n\\\\tdocstring time 2\\\\n\\\\t', kind=None)), Assign(targets=[Name(id='var_1', ctx=Store())], value=Constant(value=42, kind=None), type_comment=None), Expr(value=Call(func=Name(id='print', ctx=Load()), args=[Constant(value='hello world!', kind=None)], keywords=[])), Return(value=None)], decorator_list=[], returns=None, type_comment=None)], type_ignores=[])\""
      ]
     },
     "execution_count": 31,
     "metadata": {},
     "output_type": "execute_result"
    }
   ],
   "source": [
    "ast.dump(ast.parse(test_script_str))"
   ]
  },
  {
   "cell_type": "code",
   "execution_count": 32,
   "metadata": {},
   "outputs": [],
   "source": [
    "tree = ast.parse(test_script_str)"
   ]
  },
  {
   "cell_type": "code",
   "execution_count": 33,
   "metadata": {},
   "outputs": [
    {
     "data": {
      "text/plain": [
       "2"
      ]
     },
     "execution_count": 33,
     "metadata": {},
     "output_type": "execute_result"
    }
   ],
   "source": [
    "def count_method_with_docstring(ast_tree):\n",
    "    count = 0\n",
    "    for node in ast.walk(ast_tree):\n",
    "        _id = type(node)\n",
    "        if _id == ast.FunctionDef:\n",
    "            ds = ast.get_docstring(node)\n",
    "            if ds:\n",
    "                count += 1\n",
    "    return count\n",
    "            \n",
    "        \n",
    "    \n",
    "count_method_with_docstring(tree)"
   ]
  },
  {
   "cell_type": "code",
   "execution_count": null,
   "metadata": {},
   "outputs": [],
   "source": []
  }
 ],
 "metadata": {
  "kernelspec": {
   "display_name": "Python 3",
   "language": "python",
   "name": "python3"
  },
  "language_info": {
   "codemirror_mode": {
    "name": "ipython",
    "version": 3
   },
   "file_extension": ".py",
   "mimetype": "text/x-python",
   "name": "python",
   "nbconvert_exporter": "python",
   "pygments_lexer": "ipython3",
   "version": "3.8.10"
  }
 },
 "nbformat": 4,
 "nbformat_minor": 4
}

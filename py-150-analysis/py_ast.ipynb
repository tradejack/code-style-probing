{
 "cells": [
  {
   "cell_type": "code",
   "execution_count": 12,
   "metadata": {},
   "outputs": [],
   "source": [
    "import ast\n",
    "import astpretty"
   ]
  },
  {
   "cell_type": "code",
   "execution_count": 4,
   "metadata": {},
   "outputs": [
    {
     "name": "stdout",
     "output_type": "stream",
     "text": [
      "Collecting astpretty\n",
      "  Downloading astpretty-2.1.0-py2.py3-none-any.whl (5.3 kB)\n",
      "Installing collected packages: astpretty\n",
      "Successfully installed astpretty-2.1.0\n"
     ]
    }
   ],
   "source": [
    "!pip3 install astpretty"
   ]
  },
  {
   "cell_type": "code",
   "execution_count": 9,
   "metadata": {},
   "outputs": [],
   "source": [
    "def read_file_to_string(filename):\n",
    "    f = open(filename, \"rb\")\n",
    "    s = \"\"\n",
    "    try:\n",
    "        s = f.read()\n",
    "    except:\n",
    "        print(filename)\n",
    "    f.close()\n",
    "    return s.decode(errors=\"replace\")"
   ]
  },
  {
   "cell_type": "code",
   "execution_count": 10,
   "metadata": {},
   "outputs": [],
   "source": [
    "test_script_str = read_file_to_string('test_code.py')"
   ]
  },
  {
   "cell_type": "code",
   "execution_count": 16,
   "metadata": {},
   "outputs": [
    {
     "data": {
      "text/plain": [
       "\"Module(body=[FunctionDef(name='function_name', args=arguments(posonlyargs=[], args=[arg(arg='par_1', annotation=None, type_comment=None), arg(arg='parTwo', annotation=None, type_comment=None), arg(arg='camelCase', annotation=None, type_comment=None)], vararg=None, kwonlyargs=[], kw_defaults=[], kwarg=None, defaults=[]), body=[Expr(value=Constant(value='\\\\n\\\\tdocstring time 1\\\\n\\\\t', kind=None)), Expr(value=Constant(value='\\\\n\\\\tdocstring time 2\\\\n\\\\t', kind=None)), Assign(targets=[Name(id='var_1', ctx=Store())], value=Constant(value=42, kind=None), type_comment=None), Expr(value=Call(func=Name(id='print', ctx=Load()), args=[Constant(value='hello world!', kind=None)], keywords=[])), Return(value=None)], decorator_list=[], returns=None, type_comment=None)], type_ignores=[])\""
      ]
     },
     "execution_count": 16,
     "metadata": {},
     "output_type": "execute_result"
    }
   ],
   "source": [
    "ast.dump(ast.parse(test_script_str))"
   ]
  },
  {
   "cell_type": "code",
   "execution_count": 23,
   "metadata": {},
   "outputs": [
    {
     "name": "stdout",
     "output_type": "stream",
     "text": [
      "Module(\n",
      " body=[\n",
      "  FunctionDef(\n",
      "   lineno=1,\n",
      "   col_offset=0,\n",
      "   end_lineno=11,\n",
      "   end_col_offset=7,\n",
      "   name='function_name',\n",
      "   args=arguments(\n",
      "    posonlyargs=[],\n",
      "    args=[\n",
      "     arg(lineno=1, col_offset=18, end_lineno=1, end_col_offset=23, arg='par_1', annotation=None, type_comment=None),\n",
      "     arg(lineno=1, col_offset=25, end_lineno=1, end_col_offset=31, arg='parTwo', annotation=None, type_comment=None),\n",
      "     arg(lineno=1, col_offset=33, end_lineno=1, end_col_offset=42, arg='camelCase', annotation=None, type_comment=None),\n",
      "    ],\n",
      "    vararg=None,\n",
      "    kwonlyargs=[],\n",
      "    kw_defaults=[],\n",
      "    kwarg=None,\n",
      "    defaults=[],\n",
      "   ),\n",
      "   body=[\n",
      "    Expr(\n",
      "     lineno=2,\n",
      "     col_offset=1,\n",
      "     end_lineno=4,\n",
      "     end_col_offset=4,\n",
      "     value=Constant(lineno=2, col_offset=1, end_lineno=4, end_col_offset=4, value='\\n\\tdocstring time 1\\n\\t', kind=None),\n",
      "    ),\n",
      "    Expr(\n",
      "     lineno=5,\n",
      "     col_offset=1,\n",
      "     end_lineno=7,\n",
      "     end_col_offset=4,\n",
      "     value=Constant(lineno=5, col_offset=1, end_lineno=7, end_col_offset=4, value='\\n\\tdocstring time 2\\n\\t', kind=None),\n",
      "    ),\n",
      "    Assign(\n",
      "     lineno=9,\n",
      "     col_offset=1,\n",
      "     end_lineno=9,\n",
      "     end_col_offset=11,\n",
      "     targets=[Name(lineno=9, col_offset=1, end_lineno=9, end_col_offset=6, id='var_1', ctx=Store())],\n",
      "     value=Constant(lineno=9, col_offset=9, end_lineno=9, end_col_offset=11, value=42, kind=None),\n",
      "     type_comment=None,\n",
      "    ),\n",
      "    Expr(\n",
      "     lineno=10,\n",
      "     col_offset=1,\n",
      "     end_lineno=10,\n",
      "     end_col_offset=22,\n",
      "     value=Call(\n",
      "      lineno=10,\n",
      "      col_offset=1,\n",
      "      end_lineno=10,\n",
      "      end_col_offset=22,\n",
      "      func=Name(lineno=10, col_offset=1, end_lineno=10, end_col_offset=6, id='print', ctx=Load()),\n",
      "      args=[Constant(lineno=10, col_offset=7, end_lineno=10, end_col_offset=21, value='hello world!', kind=None)],\n",
      "      keywords=[],\n",
      "     ),\n",
      "    ),\n",
      "    Return(lineno=11, col_offset=1, end_lineno=11, end_col_offset=7, value=None),\n",
      "   ],\n",
      "   decorator_list=[],\n",
      "   returns=None,\n",
      "   type_comment=None,\n",
      "  ),\n",
      " ],\n",
      " type_ignores=[],\n",
      ")\n"
     ]
    }
   ],
   "source": [
    "astpretty.pprint(ast.parse(test_script_str), show_offsets=True, indent=\" \")"
   ]
  },
  {
   "cell_type": "code",
   "execution_count": null,
   "metadata": {},
   "outputs": [],
   "source": []
  }
 ],
 "metadata": {
  "kernelspec": {
   "display_name": "Python 3",
   "language": "python",
   "name": "python3"
  },
  "language_info": {
   "codemirror_mode": {
    "name": "ipython",
    "version": 3
   },
   "file_extension": ".py",
   "mimetype": "text/x-python",
   "name": "python",
   "nbconvert_exporter": "python",
   "pygments_lexer": "ipython3",
   "version": "3.8.10"
  }
 },
 "nbformat": 4,
 "nbformat_minor": 4
}

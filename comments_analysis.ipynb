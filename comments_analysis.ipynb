{
 "cells": [
  {
   "cell_type": "code",
   "execution_count": 21,
   "id": "54efc316-2a33-422c-b512-df751ce4becc",
   "metadata": {},
   "outputs": [],
   "source": [
    "import pandas as pd\n",
    "from datasets import load_from_disk\n",
    "from tqdm import tqdm"
   ]
  },
  {
   "cell_type": "code",
   "execution_count": 22,
   "id": "832302a6-5a93-4c2e-a941-1772a8867407",
   "metadata": {
    "tags": []
   },
   "outputs": [
    {
     "name": "stderr",
     "output_type": "stream",
     "text": [
      "100%|██████████| 697756/697756 [00:28<00:00, 24252.14it/s]\n"
     ]
    },
    {
     "name": "stdout",
     "output_type": "stream",
     "text": [
      "4786968\n"
     ]
    }
   ],
   "source": [
    "dataset_sample = load_from_disk('datasets/seq2seq_datasets/codet5_train_comment_bq_padded.hf')\n",
    "new_dataset = dataset_sample\n",
    "training_comments = []\n",
    "\n",
    "for example in tqdm(new_dataset['content']):\n",
    "    for line in example.split(\"\\n\"):\n",
    "        try:\n",
    "            if \"#\" == line[0]: #and line not in training_comments:\n",
    "                training_comments.append(line)\n",
    "            else:\n",
    "                continue\n",
    "        except IndexError:\n",
    "            pass\n",
    "        \n",
    "print(len(training_comments))\n",
    "df = pd.DataFrame(training_comments)\n",
    "df.to_csv('training_comments.csv')"
   ]
  },
  {
   "cell_type": "code",
   "execution_count": 23,
   "id": "46205e26-0584-47f6-bef5-a0e9c1166402",
   "metadata": {},
   "outputs": [
    {
     "name": "stdout",
     "output_type": "stream",
     "text": [
      "13956\n"
     ]
    }
   ],
   "source": [
    "predicted_data = pd.read_csv('seq2seq_results/outlier_codet5small/codet5_preds.csv')\n",
    "print(len(predicted_data))"
   ]
  },
  {
   "cell_type": "code",
   "execution_count": 24,
   "id": "882d8b33-676b-462a-93d1-7d3fab3090ad",
   "metadata": {},
   "outputs": [
    {
     "name": "stderr",
     "output_type": "stream",
     "text": [
      "100%|██████████| 13956/13956 [00:00<00:00, 22066.19it/s]"
     ]
    },
    {
     "name": "stdout",
     "output_type": "stream",
     "text": [
      "4831\n"
     ]
    },
    {
     "name": "stderr",
     "output_type": "stream",
     "text": [
      "\n"
     ]
    }
   ],
   "source": [
    "#print(predicted_data.head())\n",
    "#print(predicted_data.preds[1])\n",
    "predicted_comments = []\n",
    "for pred in tqdm(predicted_data['preds']):\n",
    "    for p in pred.split(\"\\n\"):\n",
    "        try:\n",
    "            if \"#\" == p[0]:\n",
    "                if p not in predicted_comments:\n",
    "                    predicted_comments.append(p)\n",
    "        except IndexError:\n",
    "            pass\n",
    "print(len(predicted_comments))"
   ]
  },
  {
   "cell_type": "code",
   "execution_count": 26,
   "id": "4a4f2cc9-52ff-4a0b-ad2d-03bc95e76d7d",
   "metadata": {},
   "outputs": [
    {
     "name": "stderr",
     "output_type": "stream",
     "text": [
      "100%|██████████| 4831/4831 [03:45<00:00, 21.44it/s]"
     ]
    },
    {
     "name": "stdout",
     "output_type": "stream",
     "text": [
      "2554\n",
      "# Get the number of processors\n",
      "# Copyright (C) 2014-2019 Daniel Kraft\n",
      "# Advanced:\n"
     ]
    },
    {
     "name": "stderr",
     "output_type": "stream",
     "text": [
      "\n"
     ]
    }
   ],
   "source": [
    "generated_comment = []\n",
    "comment_matching_count = 0\n",
    "for pred in tqdm(predicted_comments):\n",
    "    if pred in training_comments:\n",
    "        comment_matching_count+=1\n",
    "    else:\n",
    "        generated_comment.append(pred)\n",
    "    \n",
    "print(comment_matching_count)\n",
    "\n",
    "print(generated_comment[0])\n",
    "print(generated_comment[1])\n",
    "print(generated_comment[2])\n",
    "\n"
   ]
  },
  {
   "cell_type": "code",
   "execution_count": 27,
   "id": "36033ee5",
   "metadata": {},
   "outputs": [
    {
     "name": "stdout",
     "output_type": "stream",
     "text": [
      "#-----------------------------------------------------------------------------\n",
      "# Copyright (c) 2005-2020, PyInstaller Development Team.\n",
      "#\n",
      "# Distributed under the terms of the GNU General Public License (version 2\n",
      "# or later) with exception for distributing the bootloader.\n",
      "# The full license is in the file COPYING.txt, distributed with this software.\n",
      "# SPDX-License-Identifier: (GPL-2.0-or-later WITH Bootloader-exception)\n",
      "# Get the number of processors\n",
      "#!/usr/bin/env python\n",
      "# coding: utf-8\n",
      "# A library that provides a Python interface to the Telegram Bot API\n",
      "# Copyright (C) 2015-2018\n",
      "# Leandro Toledo de Souza <devs@python-telegram-bot.org>\n",
      "# This program is free software: you can redistribute it and/or modify\n",
      "# it under the terms of the GNU Lesser Public License as published by\n",
      "# the Free Software Foundation, either version 3 of the License, or\n",
      "# (at your option) any later version.\n",
      "# This program is distributed in the hope that it will be useful,\n",
      "# but WITHOUT ANY WARRANTY; without even the implied warranty of\n",
      "# MERCHANTABILITY or FITNESS FOR A PARTICULAR PURPOSE.  See the\n",
      "# GNU Lesser Public License for more details.\n",
      "# You should have received a copy of the GNU Lesser Public License\n",
      "# along with this program.  If not, see [http://www.gnu.org/licenses/].\n",
      "###############################################################################\n",
      "#                                                                             #\n",
      "# Copyright 2019. Triad National Security, LLC. All rights reserved.          #\n",
      "# This program was produced under U.S. Government contract 89233218CNA000001  #\n",
      "# for Los Alamos National Laboratory (LANL), which is operated by Triad       #\n",
      "# National Security, LLC for the U.S. Department of Energy/National Nuclear   #\n",
      "# Security Administration.                                                    #\n",
      "# All rights in the program are reserved by Triad National Security, LLC, and #\n",
      "# the U.S. Department of Energy/National Nuclear Security Administration. The #\n",
      "# Government is granted for itself and others acting on its behalf a          #\n",
      "# nonexclusive, paid-up, irrevocable worldwide license in this material to    #\n",
      "# reproduce, prepare derivative works, distribute copies to the public,       #\n",
      "# perform publicly and display publicly, and to permit others to do so.       #\n",
      "# Copyright 2020 Makani Technologies LLC\n",
      "# Licensed under the Apache License, Version 2.0 (the \"License\");\n",
      "# you may not use this file except in compliance with the License.\n",
      "# You may obtain a copy of the License at\n",
      "#      http://www.apache.org/licenses/LICENSE-2.0\n",
      "# Unless required by applicable law or agreed to in writing, software\n",
      "# distributed under the License is distributed on an \"AS IS\" BASIS,\n",
      "# WITHOUT WARRANTIES OR CONDITIONS OF ANY KIND, either express or implied.\n",
      "# See the License for the specific language governing permissions and\n",
      "# limitations under the License.\n",
      "# -*- coding: utf-8 -*-\n",
      "# Copyright (C) 2010-2011 Richard Lincoln\n",
      "# Permission is hereby granted, free of charge, to any person obtaining a copy\n",
      "# of this software and associated documentation files (the \"Software\"), to\n"
     ]
    }
   ],
   "source": [
    "for num in range(50):\n",
    "    print(predicted_comments[num])"
   ]
  },
  {
   "cell_type": "code",
   "execution_count": null,
   "id": "e1072a0d",
   "metadata": {},
   "outputs": [
    {
     "name": "stdout",
     "output_type": "stream",
     "text": [
      "# Get the number of processors\n",
      "# Copyright (C) 2014-2019 Daniel Kraft\n",
      "# Advanced:\n",
      "# Generated by Django 1.9.7 on 2016-06-07 11:56\n",
      "# Copyright (C) 2015-2019 Matthew Hampton\n",
      "# This file is part of fuddly.\n",
      "# fuddly is free software: you can redistribute it and/or modify\n",
      "# fuddly is distributed in the hope that it will be useful,\n",
      "# along with fuddly.  If not, see <http://www.gnu.org/licenses/>.\n",
      "# -*- test-case-name: axiom.test.historic.test_message -*-\n",
      "# Copyright (C) 2004-2006 Jacek Konieczny <jajcus@jajcus.net>\n",
      "# Copyright (C) 2017-2019 khalim19\n",
      "#xhtml2pdf documentation build configuration file, created by\n",
      "# sphinx-quickstart on Sun Jul  9 22:26:36 2013.\n",
      "# extensions coming with Sphinx (named'sphinx.ext.*') or your custom\n",
      "# source_suffix = ['.rst', '.md\n",
      "# Copyright (C) 2015-2019 khalim19\n",
      "# Copyright (C) 2014-2020  Kevin O'Connor <kevin@koconnor.net>\n",
      "# This file is part of Kevin O'Connor <kevin@koconnor.net>\n",
      "# Kevin O'Connor is free software: you can redistribute it and/or modify\n",
      "# it under the terms of the GNU GPLv3 license.\n",
      "# You should have received a copy of the GNU GPLv3 license.\n",
      "# You should have received a copy of\n",
      "# Copyright (C) 2009-2012 Bastian Kleineidam\n",
      "# Generated by Django 1.9.2 on 2016-05-20 08:56\n",
      "# Copyright (c) 2010-2013, The Regents of the University of Michigan\n",
      "# AILE documentation build configuration file, created by\n",
      "# sphinx-quickstart on Tue Jul  9 22:26:36 2015.\n",
      "# Logistic Tests\n",
      "# Copyright (c) 2017 Rigetti Computing\n",
      "# Copyright (C) 2014-2016 Matthew Hampton\n",
      "# This file is part of sudoku.\n",
      "# sudoku is free software: you can redistribute it and/or modify\n",
      "# sudoku is distributed in the hope that it will be useful,\n",
      "# along with sudoku.  If not, see <http://www.gnu.org/licenses/>.\n",
      "# hex: 0x010100\n",
      "# hex: 0x010101\n",
      "# Copyright (C) 2007-2010  Matthew Hampton\n",
      "# Copyright (C) 2014-2020 Matthew Hampton\n",
      "# ----------------------------------------------------------------------------------------------\n",
      "# Copyright (c) 2014-2015, Thomas Debize <tdebize at mail.com>\n",
      "# Copyright 2015-2018 Intel Corporation\n",
      "#    This file is part of the Pameng, \n",
      "#    Copyright (C) 2009,2010 Pameng Development Team\n",
      "#     Valerio Santos <valerio.santos@bitergia.com>\n",
      "# Build paths inside the project like this: os.path.join(BASE_DIR,...)\n",
      "# -*- Channel:  video_url.py -*-\n",
      "# Copyright 2016-2020 CERN.\n",
      "# Generated by Django 2.2.2 on 2021-10-17 19:56\n",
      "#    This file is part of PyQt.\n"
     ]
    }
   ],
   "source": [
    "for num1 in range(50):\n",
    "    print(generated_comment[num1])"
   ]
  },
  {
   "cell_type": "code",
   "execution_count": 29,
   "id": "16bff782",
   "metadata": {},
   "outputs": [],
   "source": [
    "#inputstring = \"extensions coming with Sphinx (named'sphinx.ext.*') or your custom\"\n",
    "inputstring = \"# Get the number of processors\"\n",
    "#print(training_comments[2])\n",
    "\n",
    "if inputstring in training_comments:\n",
    "    print(\"Present\")"
   ]
  }
 ],
 "metadata": {
  "kernelspec": {
   "display_name": "Python 3.8.13",
   "language": "python",
   "name": "python3"
  },
  "language_info": {
   "codemirror_mode": {
    "name": "ipython",
    "version": 3
   },
   "file_extension": ".py",
   "mimetype": "text/x-python",
   "name": "python",
   "nbconvert_exporter": "python",
   "pygments_lexer": "ipython3",
   "version": "3.8.13"
  },
  "vscode": {
   "interpreter": {
    "hash": "56589f69b59c5a4ea14e4eb4ead3f55f549610d467a3277dc296368c285439c3"
   }
  }
 },
 "nbformat": 4,
 "nbformat_minor": 5
}

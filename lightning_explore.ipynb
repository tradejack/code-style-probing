{
 "cells": [
  {
   "cell_type": "code",
   "execution_count": 1,
   "id": "8be8bb6c-f2fa-44b1-8605-3f2b651e66be",
   "metadata": {},
   "outputs": [],
   "source": [
    "%%capture\n",
    "! pip install pytorch-lightning\n",
    "! pip install pytorch-lightning-bolts"
   ]
  },
  {
   "cell_type": "code",
   "execution_count": 2,
   "id": "f44d3aab-478c-47e9-8035-3cf6e34e4d3b",
   "metadata": {},
   "outputs": [
    {
     "name": "stdout",
     "output_type": "stream",
     "text": [
      "Requirement already satisfied: torchvision in /Users/daohuei/miniconda3/envs/py3_8/lib/python3.8/site-packages (0.13.0)\n",
      "Requirement already satisfied: typing-extensions in /Users/daohuei/miniconda3/envs/py3_8/lib/python3.8/site-packages (from torchvision) (4.1.1)\n",
      "Requirement already satisfied: pillow!=8.3.*,>=5.3.0 in /Users/daohuei/miniconda3/envs/py3_8/lib/python3.8/site-packages (from torchvision) (9.1.1)\n",
      "Requirement already satisfied: torch in /Users/daohuei/miniconda3/envs/py3_8/lib/python3.8/site-packages (from torchvision) (1.11.0)\n",
      "Requirement already satisfied: numpy in /Users/daohuei/miniconda3/envs/py3_8/lib/python3.8/site-packages (from torchvision) (1.22.3)\n",
      "Requirement already satisfied: requests in /Users/daohuei/miniconda3/envs/py3_8/lib/python3.8/site-packages (from torchvision) (2.27.1)\n",
      "Requirement already satisfied: charset-normalizer~=2.0.0 in /Users/daohuei/miniconda3/envs/py3_8/lib/python3.8/site-packages (from requests->torchvision) (2.0.4)\n",
      "Requirement already satisfied: certifi>=2017.4.17 in /Users/daohuei/miniconda3/envs/py3_8/lib/python3.8/site-packages (from requests->torchvision) (2022.5.18.1)\n",
      "Requirement already satisfied: idna<4,>=2.5 in /Users/daohuei/miniconda3/envs/py3_8/lib/python3.8/site-packages (from requests->torchvision) (3.3)\n",
      "Requirement already satisfied: urllib3<1.27,>=1.21.1 in /Users/daohuei/miniconda3/envs/py3_8/lib/python3.8/site-packages (from requests->torchvision) (1.26.9)\n"
     ]
    }
   ],
   "source": [
    "!pip install torchvision"
   ]
  },
  {
   "cell_type": "code",
   "execution_count": 3,
   "id": "41040959-085e-4e1a-ac3f-2aecb23b4b2c",
   "metadata": {},
   "outputs": [
    {
     "name": "stderr",
     "output_type": "stream",
     "text": [
      "/Users/daohuei/miniconda3/envs/py3_8/lib/python3.8/site-packages/torchvision/io/image.py:13: UserWarning: Failed to load image Python extension: dlopen(/Users/daohuei/miniconda3/envs/py3_8/lib/python3.8/site-packages/torchvision/image.so, 0x0006): Symbol not found: __ZN3c106detail19maybe_wrap_dim_slowExxb\n",
      "  Referenced from: /Users/daohuei/miniconda3/envs/py3_8/lib/python3.8/site-packages/torchvision/image.so\n",
      "  Expected in: /Users/daohuei/miniconda3/envs/py3_8/lib/python3.8/site-packages/torch/lib/libc10.dylib\n",
      "  warn(f\"Failed to load image Python extension: {e}\")\n",
      "/Users/daohuei/miniconda3/envs/py3_8/lib/python3.8/site-packages/pl_bolts/utils/warnings.py:30: UserWarning: You want to use `wandb` which is not installed yet, install it with `pip install wandb`.\n",
      "  stdout_func(\n",
      "/Users/daohuei/miniconda3/envs/py3_8/lib/python3.8/site-packages/pl_bolts/utils/warnings.py:30: UserWarning: You want to use `gym` which is not installed yet, install it with `pip install gym`.\n",
      "  stdout_func(\n"
     ]
    }
   ],
   "source": [
    "import os\n",
    "\n",
    "import torch\n",
    "from torch import nn\n",
    "from torch.nn import functional as F\n",
    "from torch.utils.data import DataLoader, random_split\n",
    "from torchvision.datasets import MNIST\n",
    "from torchvision import transforms\n",
    "import pytorch_lightning as pl\n",
    "from torchmetrics.functional import accuracy\n",
    "from pl_bolts.datasets import DummyDataset"
   ]
  },
  {
   "cell_type": "code",
   "execution_count": 4,
   "id": "a240d604-10fa-4368-b545-6de13436f3f1",
   "metadata": {},
   "outputs": [],
   "source": [
    "train = DummyDataset((1, 28, 28), (1,))\n",
    "train = DataLoader(train, batch_size=32)"
   ]
  },
  {
   "cell_type": "code",
   "execution_count": 5,
   "id": "239cba6a-3298-4452-8542-890a9e8f6fe6",
   "metadata": {},
   "outputs": [],
   "source": [
    "val = DummyDataset((1, 28, 28), (1,))\n",
    "val = DataLoader(val, batch_size=32)"
   ]
  },
  {
   "cell_type": "code",
   "execution_count": 6,
   "id": "7d66fba3-c5c2-4b80-bc52-e725cb7ae614",
   "metadata": {},
   "outputs": [],
   "source": [
    "test = DummyDataset((1, 28, 28), (1,))\n",
    "test = DataLoader(test, batch_size=32)"
   ]
  },
  {
   "cell_type": "code",
   "execution_count": 14,
   "id": "31575ac3-e50e-4bca-a4e3-f71682120d23",
   "metadata": {},
   "outputs": [],
   "source": [
    "class LitAutoEncoder(pl.LightningModule):\n",
    "\n",
    "    def __init__(self):\n",
    "        super().__init__()\n",
    "        self.encoder = nn.Sequential(nn.Linear(28 * 28, 128), nn.ReLU(), nn.Linear(128, 3))\n",
    "        self.decoder = nn.Sequential(nn.Linear(3, 128), nn.ReLU(), nn.Linear(128, 28 * 28))\n",
    "\n",
    "    def training_step(self, batch, batch_idx, optimizer_idx=None):\n",
    "        # --------------------------\n",
    "        # REPLACE WITH YOUR OWN\n",
    "        x, y = batch\n",
    "        x = x.view(x.size(0), -1)\n",
    "        z = self.encoder(x)\n",
    "        x_hat = self.decoder(z)\n",
    "        loss = F.mse_loss(x_hat, x)\n",
    "        self.log('train_loss', loss)\n",
    "        return [loss, loss]\n",
    "        # --------------------------\n",
    "\n",
    "    def validation_step(self, batch, batch_idx):\n",
    "        # --------------------------\n",
    "        # REPLACE WITH YOUR OWN\n",
    "        x, y = batch\n",
    "        x = x.view(x.size(0), -1)\n",
    "        z = self.encoder(x)\n",
    "        x_hat = self.decoder(z)\n",
    "        loss = F.mse_loss(x_hat, x)\n",
    "        self.log('val_loss', loss)\n",
    "        # --------------------------\n",
    "\n",
    "    def test_step(self, batch, batch_idx):\n",
    "        # --------------------------\n",
    "        # REPLACE WITH YOUR OWN\n",
    "        x, y = batch\n",
    "        x = x.view(x.size(0), -1)\n",
    "        z = self.encoder(x)\n",
    "        x_hat = self.decoder(z)\n",
    "        loss = F.mse_loss(x_hat, x)\n",
    "        self.log('test_loss', loss)\n",
    "        # --------------------------\n",
    "\n",
    "    def configure_optimizers(self):\n",
    "        optimizer_1 = torch.optim.Adam(self.parameters(), lr=1e-3)\n",
    "        optimizer_2 = torch.optim.Adam(self.parameters(), lr=1e-3)\n",
    "        return [optimizer_1, optimizer_2]"
   ]
  },
  {
   "cell_type": "code",
   "execution_count": null,
   "id": "4fea1b07-1170-445e-9761-f8323ce09972",
   "metadata": {},
   "outputs": [],
   "source": [
    "# init model\n",
    "ae = LitAutoEncoder()\n",
    "\n",
    "# Initialize a trainer\n",
    "trainer = pl.Trainer(gpus=0, max_epochs=3, progress_bar_refresh_rate=20)\n",
    "\n",
    "# Train the model ⚡\n",
    "trainer.fit(ae, train, val)"
   ]
  },
  {
   "cell_type": "code",
   "execution_count": null,
   "id": "e6fecd11-bc70-40c4-9bcb-284127db0692",
   "metadata": {},
   "outputs": [
    {
     "name": "stderr",
     "output_type": "stream",
     "text": [
      "/Users/daohuei/miniconda3/envs/py3_8/lib/python3.8/site-packages/pytorch_lightning/trainer/trainer.py:1444: UserWarning: `.test(ckpt_path=None)` was called without a model. The best model of the previous `fit` call will be used. You can pass `test(ckpt_path='best')` to use and best model checkpoint and avoid this warning or `ckpt_path=trainer.checkpoint_callback.last_model_path` to use the last model.\n",
      "  rank_zero_warn(\n",
      "Restoring states from the checkpoint path at /Users/daohuei/CodeNest/code-style-probing/lightning_logs/version_2/checkpoints/epoch=2-step=939.ckpt\n",
      "Loaded model weights from checkpoint at /Users/daohuei/CodeNest/code-style-probing/lightning_logs/version_2/checkpoints/epoch=2-step=939.ckpt\n",
      "/Users/daohuei/miniconda3/envs/py3_8/lib/python3.8/site-packages/pytorch_lightning/trainer/connectors/data_connector.py:240: PossibleUserWarning: The dataloader, test_dataloader 0, does not have many workers which may be a bottleneck. Consider increasing the value of the `num_workers` argument` (try 8 which is the number of cpus on this machine) in the `DataLoader` init to improve performance.\n",
      "  rank_zero_warn(\n"
     ]
    },
    {
     "data": {
      "application/vnd.jupyter.widget-view+json": {
       "model_id": "941e758a054648ff8706f901775eab45",
       "version_major": 2,
       "version_minor": 0
      },
      "text/plain": [
       "Testing: 0it [00:00, ?it/s]"
      ]
     },
     "metadata": {},
     "output_type": "display_data"
    },
    {
     "name": "stdout",
     "output_type": "stream",
     "text": [
      "────────────────────────────────────────────────────────────────────────────────────────────────────────────────────────\n",
      "       Test metric             DataLoader 0\n",
      "────────────────────────────────────────────────────────────────────────────────────────────────────────────────────────\n",
      "        test_loss           0.08343713730573654\n",
      "────────────────────────────────────────────────────────────────────────────────────────────────────────────────────────\n"
     ]
    },
    {
     "data": {
      "text/plain": [
       "[{'test_loss': 0.08343713730573654}]"
      ]
     },
     "execution_count": 9,
     "metadata": {},
     "output_type": "execute_result"
    }
   ],
   "source": [
    "trainer.test(dataloaders=test)"
   ]
  },
  {
   "cell_type": "code",
   "execution_count": 30,
   "id": "901dccec-b3e0-4582-b42f-7270877f1e61",
   "metadata": {},
   "outputs": [
    {
     "data": {
      "text/html": [
       "\n",
       "      <iframe id=\"tensorboard-frame-f27153ec032485be\" width=\"100%\" height=\"800\" frameborder=\"0\">\n",
       "      </iframe>\n",
       "      <script>\n",
       "        (function() {\n",
       "          const frame = document.getElementById(\"tensorboard-frame-f27153ec032485be\");\n",
       "          const url = new URL(\"/\", window.location);\n",
       "          const port = 6006;\n",
       "          if (port) {\n",
       "            url.port = port;\n",
       "          }\n",
       "          frame.src = url;\n",
       "        })();\n",
       "      </script>\n",
       "    "
      ],
      "text/plain": [
       "<IPython.core.display.HTML object>"
      ]
     },
     "metadata": {},
     "output_type": "display_data"
    }
   ],
   "source": [
    "# Start tensorboard.\n",
    "%load_ext tensorboard\n",
    "%tensorboard --logdir lightning_logs/"
   ]
  },
  {
   "cell_type": "code",
   "execution_count": null,
   "id": "15c36e26-6177-46f5-a3fc-9b02918fd850",
   "metadata": {},
   "outputs": [],
   "source": []
  }
 ],
 "metadata": {
  "kernelspec": {
   "display_name": "Python 3 (ipykernel)",
   "language": "python",
   "name": "python3"
  },
  "language_info": {
   "codemirror_mode": {
    "name": "ipython",
    "version": 3
   },
   "file_extension": ".py",
   "mimetype": "text/x-python",
   "name": "python",
   "nbconvert_exporter": "python",
   "pygments_lexer": "ipython3",
   "version": "3.8.13"
  }
 },
 "nbformat": 4,
 "nbformat_minor": 5
}

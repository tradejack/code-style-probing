{
 "cells": [
  {
   "cell_type": "code",
   "execution_count": 1,
   "id": "682ffb7c-e655-40eb-ab2c-7f450c356091",
   "metadata": {},
   "outputs": [],
   "source": [
    "# eval on predictions\n",
    "import pandas as pd\n",
    "from evaluator.CodeBLEU.calc_code_bleu import get_codebleu"
   ]
  },
  {
   "cell_type": "code",
   "execution_count": 17,
   "id": "6f698ad7-471b-455a-a9ab-21b66d1dbd54",
   "metadata": {},
   "outputs": [],
   "source": [
    "def evaluate_codebleu(pred_filename):\n",
    "    pred_df = pd.read_csv(pred_filename)\n",
    "    # a list of gold codes (which is just some variants of the same code, we can use every code of different styles)\n",
    "    refs = [\n",
    "        pred_df[\"labels\"]\n",
    "    ]\n",
    "    # the prediction code\n",
    "    hyp = pred_df[\"preds\"]\n",
    "    score = get_codebleu(refs, hyp, \"python\", '0.25,0.25,0.25,0.25')\n",
    "    return score"
   ]
  },
  {
   "cell_type": "markdown",
   "id": "891133a5-3134-4dd8-9ead-c9a73ed5e2c3",
   "metadata": {},
   "source": [
    "# Uncomment Parallel Corpus - no outliers"
   ]
  },
  {
   "cell_type": "code",
   "execution_count": 18,
   "id": "8eb10efc-1e36-4e04-8d7c-1c442d6523b5",
   "metadata": {},
   "outputs": [
    {
     "name": "stdout",
     "output_type": "stream",
     "text": [
      "ngram match: 0.7020337009365258, weighted ngram match: 0.7158332483308997, syntax_match: 0.9308169419505175, dataflow_match: 0.8688835181384277\n"
     ]
    },
    {
     "data": {
      "text/plain": [
       "0.8043918523390927"
      ]
     },
     "execution_count": 18,
     "metadata": {},
     "output_type": "execute_result"
    }
   ],
   "source": [
    "# no_outlier_codet5small\n",
    "evaluate_codebleu(\"seq2seq_results/no_outlier_codet5small/codet5_preds.csv\")"
   ]
  },
  {
   "cell_type": "markdown",
   "id": "82b571c7-1d8e-4166-b45b-e6b56b659bee",
   "metadata": {},
   "source": [
    "# Removed Class Parallel Corpus - with outliers"
   ]
  },
  {
   "cell_type": "code",
   "execution_count": 23,
   "id": "f6f7eaf4-5954-47dd-ac0a-9c672ab20c27",
   "metadata": {},
   "outputs": [
    {
     "name": "stdout",
     "output_type": "stream",
     "text": [
      "ngram match: 0.9539663181494397, weighted ngram match: 0.955850824785441, syntax_match: 0.9574235970530824, dataflow_match: 0.8714937626650319\n"
     ]
    },
    {
     "data": {
      "text/plain": [
       "0.9346836256632487"
      ]
     },
     "execution_count": 23,
     "metadata": {},
     "output_type": "execute_result"
    }
   ],
   "source": [
    "# outlier_class_codet5small\n",
    "evaluate_codebleu(\"seq2seq_results/outlier_class_codet5small/codet5_preds.csv\")"
   ]
  },
  {
   "cell_type": "code",
   "execution_count": null,
   "id": "0bc4b396-5404-4474-9fc5-a26b4b85b8a1",
   "metadata": {},
   "outputs": [],
   "source": []
  }
 ],
 "metadata": {
  "kernelspec": {
   "display_name": "Python 3 (ipykernel)",
   "language": "python",
   "name": "python3"
  },
  "language_info": {
   "codemirror_mode": {
    "name": "ipython",
    "version": 3
   },
   "file_extension": ".py",
   "mimetype": "text/x-python",
   "name": "python",
   "nbconvert_exporter": "python",
   "pygments_lexer": "ipython3",
   "version": "3.8.13"
  }
 },
 "nbformat": 4,
 "nbformat_minor": 5
}

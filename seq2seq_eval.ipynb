{
 "cells": [
  {
   "cell_type": "code",
   "execution_count": null,
   "id": "36e2aa69-1a04-4aee-9d76-fc97ab27ebfe",
   "metadata": {},
   "outputs": [],
   "source": [
    "# eval on predictions\n",
    "import ast\n",
    "import re\n",
    "import difflib\n",
    "from termcolor import colored\n",
    "\n",
    "import numpy as np\n",
    "import pandas as pd\n",
    "from tqdm.auto import tqdm\n",
    "from evaluator.CodeBLEU.calc_code_bleu import get_codebleu\n",
    "from nltk.translate.bleu_score import sentence_bleu\n",
    "\n",
    "from utils.regex_parse import comment\n"
   ]
  },
  {
   "cell_type": "markdown",
   "id": "1a904f9f-74dc-48db-ad82-9eb33dd9e247",
   "metadata": {
    "tags": []
   },
   "source": [
    "# Functions\n",
    "## The util functions for the evaluation"
   ]
  },
  {
   "cell_type": "code",
   "execution_count": null,
   "id": "c655bb7a-0dd3-42d9-a833-f7ebd59d1dc8",
   "metadata": {},
   "outputs": [],
   "source": [
    "def exclude_same_io(df):\n",
    "    # excluding those input exactly same as the output\n",
    "    exact_match_bool = df[\"inputs\"] == df[\"labels\"]\n",
    "    df = df.drop(df[exact_match_bool].index)\n",
    "    return df"
   ]
  },
  {
   "cell_type": "code",
   "execution_count": null,
   "id": "a1e1c863-7d5b-4e1a-b1cf-611a53ba60d9",
   "metadata": {},
   "outputs": [],
   "source": [
    "# parsable eval\n",
    "def is_parsable(input_code):\n",
    "    try:\n",
    "        ast.parse(input_code)\n",
    "    except SyntaxError:\n",
    "        return False\n",
    "    except Exception as e:\n",
    "        print(input_code)\n",
    "        print(e)\n",
    "        return False\n",
    "    return True"
   ]
  },
  {
   "cell_type": "code",
   "execution_count": null,
   "id": "9f2ecf06-5eb4-4209-968e-63272ef6442c",
   "metadata": {},
   "outputs": [],
   "source": [
    "def evaluate_codebleu(pred_filename, weights=\"0.25,0.25,0.25,0.25\", replaced_df=None, dropna=False, is_exclude_same_io=False):\n",
    "    pred_df = None\n",
    "    if replaced_df is not None:\n",
    "        pred_df = replaced_df\n",
    "    else:\n",
    "        pred_df = pd.read_csv(pred_filename)\n",
    "    if dropna:\n",
    "        pred_df = pred_df.dropna()\n",
    "    if is_exclude_same_io:\n",
    "        pred_df = exclude_same_io(pred_df)\n",
    "    # a list of gold codes (which is just some variants of the same code, we can use every code of different styles)\n",
    "    refs = [\n",
    "        pred_df[\"labels\"]\n",
    "    ]\n",
    "    # the prediction code\n",
    "    hyp = pred_df[\"preds\"]\n",
    "    score = get_codebleu(refs, hyp, \"python\", weights)\n",
    "    return score"
   ]
  },
  {
   "cell_type": "code",
   "execution_count": null,
   "id": "ca3538b7-23d1-4e5e-b69a-a8da14ec89ff",
   "metadata": {},
   "outputs": [],
   "source": [
    "def get_docstring(text):\n",
    "    regex_docstr = \"^\\s*\\'{3}([\\s\\S]*?)\\'{3}|^\\s*\\\"{3}([\\s\\S]*?)\\\"{3}\"\n",
    "    docstr_matches = re.findall(regex_docstr, text, re.M | re.S)\n",
    "    docstrs = []\n",
    "    for match in docstr_matches:\n",
    "        docstr_a, docstr_b = match\n",
    "        if docstr_a:\n",
    "            docstrs += [docstr_a]\n",
    "        else:\n",
    "            docstrs += [docstr_b]\n",
    "    return docstrs"
   ]
  },
  {
   "cell_type": "code",
   "execution_count": null,
   "id": "fbec1b7a-63ba-4554-9702-3377247ddd58",
   "metadata": {},
   "outputs": [],
   "source": [
    "def print_split_line(s):\n",
    "    print(f\"\\n====================={s.upper()}=====================\\n\")"
   ]
  },
  {
   "cell_type": "code",
   "execution_count": null,
   "id": "e7ce0d9f-3896-4d63-88de-0b8447043335",
   "metadata": {},
   "outputs": [],
   "source": [
    "def tokenize(s):\n",
    "    return re.split('\\s+', s)\n",
    "\n",
    "def get_diff_list(str_1, str_2):\n",
    "    s1 = tokenize(str_1)\n",
    "    s2 = tokenize(str_2)\n",
    "\n",
    "    matcher = difflib.SequenceMatcher(a=s1, b=s2)\n",
    "\n",
    "    diff_blocks_a = []\n",
    "    diff_blocks_b = []\n",
    "\n",
    "    prev_match = None\n",
    "    for idx, match in enumerate(matcher.get_matching_blocks()):\n",
    "\n",
    "        if idx == 0: \n",
    "            prev_match = match\n",
    "            if match.a != 0:\n",
    "                start_idx_a = 0\n",
    "                end_idx_a = match.a\n",
    "                diff_blocks_a += s1[start_idx_a:end_idx_a]\n",
    "            if match.b != 0:\n",
    "                start_idx_b = 0\n",
    "                end_idx_b = match.b\n",
    "                diff_blocks_b += s2[start_idx_b:end_idx_b]\n",
    "            continue\n",
    "\n",
    "        start_idx_a = prev_match.a + prev_match.size\n",
    "        end_idx_a = match.a\n",
    "\n",
    "        start_idx_b = prev_match.b + prev_match.size\n",
    "        end_idx_b = match.b\n",
    "\n",
    "        diff_list_a = s1[start_idx_a:end_idx_a]\n",
    "        diff_list_b = s2[start_idx_b:end_idx_b]\n",
    "        if len(diff_list_a):\n",
    "            diff_blocks_a += diff_list_a\n",
    "        if len(diff_list_b):\n",
    "            diff_blocks_b += diff_list_b\n",
    "\n",
    "        prev_match = match\n",
    "    return diff_blocks_a, diff_blocks_b\n",
    "\n",
    "def get_diff_str(input_str, output_str):\n",
    "    return \" \".join(get_diff_list(input_str, output_str)[1])"
   ]
  },
  {
   "cell_type": "code",
   "execution_count": null,
   "id": "8c66bb73-65f0-4d8b-bc0f-987430ac1130",
   "metadata": {},
   "outputs": [],
   "source": [
    "import re\n",
    "def remove_nl_prompt(script):\n",
    "    return re.sub(\"<nl>.*<\\/nl>\", \"\", script)"
   ]
  },
  {
   "cell_type": "code",
   "execution_count": 13,
   "id": "d2b2a4fe-1680-43af-bbdd-f9fb131e38ba",
   "metadata": {},
   "outputs": [],
   "source": [
    "def evaluate_pred_df(pred_df, target_feats, is_nl=False, parse_test=True):\n",
    "    \n",
    "    inputs = pred_df[\"inputs\"].to_numpy()\n",
    "    labels = pred_df[\"labels\"].to_numpy()\n",
    "    preds = pred_df[\"preds\"].to_numpy()\n",
    "    \n",
    "    if is_nl:\n",
    "        inputs = [remove_nl_prompt(input_script) for input_script in inputs]\n",
    "    \n",
    "    code_scores = []\n",
    "    diff_bleu_scores = []\n",
    "    \n",
    "    # if comment, need to extract comment\n",
    "    gold_comments = []\n",
    "    pred_comments = []\n",
    "    comment_text_scores = []\n",
    "    \n",
    "    # if docstring, need to extract docstring\n",
    "    gold_docstrings = []\n",
    "    pred_docstrings = []\n",
    "    docstr_text_scores = []\n",
    "    \n",
    "    # if parse test\n",
    "    is_parsables = []\n",
    "    \n",
    "    pred_diffs = []\n",
    "    gold_diffs = []\n",
    "    \n",
    "    total_len = preds.shape[0]\n",
    "    \n",
    "    for idx in tqdm(range(total_len)):\n",
    "        input_code = inputs[idx]\n",
    "        gold = labels[idx]\n",
    "        pred = preds[idx]\n",
    "        \n",
    "        refs = [[gold]]\n",
    "        hyp = [pred]\n",
    "        \n",
    "        # get code bleu score\n",
    "        code_score = get_codebleu(refs, hyp, \"python\", '0.25,0.25,0.25,0.25')\n",
    "        \n",
    "        if \"docstring\" in target_feats:\n",
    "            gold_docstr = get_docstring(gold)\n",
    "            pred_docstr = get_docstring(pred)\n",
    "            gold_docstr_text = \"\\n\".join(gold_docstr)\n",
    "            pred_docstr_text = \"\\n\".join(pred_docstr)\n",
    "            docstr_text_score = 0\n",
    "            if len(pred_docstr_text.split()) > 0:\n",
    "                docstr_text_score = sentence_bleu([gold_docstr_text.split()], pred_docstr_text.split(), auto_reweigh=True)\n",
    "            \n",
    "            gold_docstrings += [gold_docstr]\n",
    "            pred_docstrings += [pred_docstr]\n",
    "            docstr_text_scores += [docstr_text_score]\n",
    "            \n",
    "        if \"comment\" in target_feats:\n",
    "            gold_comment = comment(gold)\n",
    "            pred_comment = comment(pred)\n",
    "            gold_comment_text = \"\\n\".join(gold_comment)\n",
    "            pred_comment_text = \"\\n\".join(pred_comment)\n",
    "            comment_text_score = 0\n",
    "            if len(pred_comment_text.split()) > 0:\n",
    "                comment_text_score = sentence_bleu([gold_comment_text.split()], pred_comment_text.split(), auto_reweigh=True)\n",
    "            \n",
    "            gold_comments += [gold_comment]\n",
    "            pred_comments += [pred_comment]\n",
    "            comment_text_scores += [comment_text_score]\n",
    "    \n",
    "        # get the diff bleu score\n",
    "        gold_diff_str = get_diff_str(input_code, gold)\n",
    "        pred_diff_str = get_diff_str(input_code, pred)\n",
    "        \n",
    "        pred_diffs += [pred_diff_str]\n",
    "        gold_diffs += [gold_diff_str]\n",
    "        \n",
    "        diff_bleu_score = 0\n",
    "        if len(pred_diff_str.split()) > 0:\n",
    "            diff_bleu_score = sentence_bleu([gold_diff_str.split()], pred_diff_str.split(), auto_reweigh=True)\n",
    "        \n",
    "        code_scores += [code_score]\n",
    "        diff_bleu_scores += [diff_bleu_score]\n",
    "        if parse_test:\n",
    "            is_parsables += [is_parsable(pred)]\n",
    "        \n",
    "    \n",
    "    code_bleus = np.array([s[\"code_bleu\"] for s in code_scores])\n",
    "    \n",
    "    report = {\n",
    "        \"inputs\": inputs,\n",
    "        \"labels\": labels,\n",
    "        \"preds\": preds,\n",
    "        \"pred_diffs\": pred_diffs,\n",
    "        \"gold_diffs\": gold_diffs,\n",
    "        \"codebleu\": code_scores,\n",
    "        \"codebleu_perfect\": sum(code_bleus == 1) / total_len,\n",
    "        \"codebleu_above_90\": sum(code_bleus >= 0.9) / total_len,\n",
    "        \"diff_bleu\": diff_bleu_scores,\n",
    "        \"diff_bleu_avg\":  np.mean(diff_bleu_scores),\n",
    "        \"diff_bleu_perfect\": sum(np.array(diff_bleu_scores) == 1) / total_len,\n",
    "        \"diff_bleu_above_90\": sum(np.array(diff_bleu_scores) >= 0.9) / total_len,\n",
    "    }\n",
    "    \n",
    "    if \"docstring\" in target_feats:\n",
    "        report[\"gold_docstrings\"] = gold_docstrings\n",
    "        report[\"pred_docstrings\"] = pred_docstrings\n",
    "        report[\"docstr_text_scores\"] = docstr_text_scores\n",
    "        report[\"docstr_text_scores_avg\"] = np.array(docstr_text_scores).mean()\n",
    "        report[\"docstr_text_scores_perfect\"] = sum(np.array(docstr_text_scores) == 1) / total_len\n",
    "        report[\"docstr_text_scores_above_90\"] = sum(np.array(docstr_text_scores) >= 0.9) / total_len\n",
    "        \n",
    "        \n",
    "    if \"comment\" in target_feats:\n",
    "        report[\"gold_comments\"] = gold_comments\n",
    "        report[\"pred_comments\"] = pred_comments\n",
    "        report[\"comment_text_scores\"] = comment_text_scores\n",
    "        report[\"comment_text_scores_avg\"] = np.array(comment_text_scores).mean()\n",
    "        report[\"comment_text_scores_perfect\"] = sum(np.array(comment_text_scores) == 1) / total_len\n",
    "        report[\"comment_text_scores_above_90\"] = sum(np.array(comment_text_scores) >= 0.9) / total_len\n",
    "        \n",
    "    if parse_test:\n",
    "        report[\"parse_test_accuracy\"] = sum(np.array(is_parsables)) / total_len\n",
    "        \n",
    "    return report.copy()"
   ]
  },
  {
   "cell_type": "code",
   "execution_count": null,
   "id": "d740072f-3f95-4b4a-bf24-dbe794d7bbd1",
   "metadata": {},
   "outputs": [],
   "source": [
    "def print_colored_diff(str_1, str_2):\n",
    "    text_1 = \"\"\n",
    "    text_2 = \"\"\n",
    "    idx_1 = 0\n",
    "    idx_2 = 0\n",
    "    matcher = difflib.SequenceMatcher(a=str_1, b=str_2)\n",
    "    for match in matcher.get_matching_blocks():\n",
    "        diff_text_1 = \"\"\n",
    "        if idx_1 < match.a:\n",
    "            diff_text_1 += colored(str_1[idx_1:match.a], \"red\")\n",
    "\n",
    "\n",
    "        diff_text_2 = \"\"\n",
    "        if idx_2 < match.b:\n",
    "            diff_text_2 += colored(str_2[idx_2:match.b], \"red\")\n",
    "\n",
    "        match_text_1 = str_1[match.a:match.a+match.size]\n",
    "        match_text_2 = str_2[match.b:match.b+match.size]\n",
    "\n",
    "        idx_1 = match.a+match.size \n",
    "        idx_2 = match.b+match.size\n",
    "\n",
    "        text_1 += diff_text_1 + match_text_1\n",
    "        text_2 += diff_text_2 + match_text_2\n",
    "        \n",
    "    if idx_1 < len(str_1):\n",
    "        text_1 += colored(str_1[idx_1:], \"red\")\n",
    "        \n",
    "    if idx_2 < len(str_2):\n",
    "        text_2 += colored(str_2[idx_2:], \"red\")\n",
    "    return text_1, text_2"
   ]
  },
  {
   "cell_type": "code",
   "execution_count": null,
   "id": "6826cf13-570e-489c-aa58-c3417d786bd9",
   "metadata": {},
   "outputs": [],
   "source": [
    "def lookup_examples(report, score_upper_bound, score_lower_bound, metric=\"diff_bleu\", start_idx=0, count=10):\n",
    "    total = len(report[\"inputs\"])\n",
    "    if count == \"all\":\n",
    "        count = total\n",
    "    current_count = 0\n",
    "    for idx in range(total):\n",
    "        if current_count == count: break\n",
    "        if idx < start_idx: continue\n",
    "        \n",
    "        # checking upper bound\n",
    "        if report[metric][idx] > score_upper_bound: continue\n",
    "        # checking lower bound\n",
    "        if report[metric][idx] < score_lower_bound: continue\n",
    "        \n",
    "        input_code = report[\"inputs\"][idx]\n",
    "        pred_code = report[\"preds\"][idx]\n",
    "        gold_code = report[\"labels\"][idx]\n",
    "        \n",
    "        c_input, c_gold = print_colored_diff(input_code, gold_code)\n",
    "        _, c_pred = print_colored_diff(input_code, pred_code)\n",
    "        \n",
    "        print_split_line(f\"{idx}-input\")\n",
    "        print(c_input)\n",
    "        print_split_line(f\"{idx}-prediction\")\n",
    "        print(c_pred)\n",
    "        print_split_line(f\"{idx}-gold labels\")\n",
    "        print(c_gold)\n",
    "        print_split_line(f\"{idx}-{metric}\")\n",
    "        print(report[metric][idx])\n",
    "        \n",
    "        current_count += 1\n",
    "        # break\n"
   ]
  },
  {
   "cell_type": "markdown",
   "id": "4afbbbb7-9d28-4146-b3fb-174176b08393",
   "metadata": {
    "jp-MarkdownHeadingCollapsed": true,
    "tags": []
   },
   "source": [
    "# CodeT5 Individual Finetuned - Short Dataset"
   ]
  },
  {
   "cell_type": "code",
   "execution_count": null,
   "id": "790b86b7-106c-485f-84c5-65e12bf89bf6",
   "metadata": {},
   "outputs": [],
   "source": [
    "# drwxr-xr-x 27 cting3 grads 4096 Aug  5 12:15 outlier_fixed_list_comp_codet5small\n",
    "# drwxr-xr-x 32 cting3 grads 4096 Aug  5 11:34 outlier_updated_docstring_codet5small\n",
    "# drwxr-xr-x 25 cting3 grads 4096 Jul 28 14:36 outlier_codet5small\n",
    "# drwxr-xr-x 32 cting3 grads 4096 Jul 28 14:18 outlier_casing_codet5small\n",
    "# drwxr-xr-x 32 cting3 grads 4096 Jul 24 15:47 outlier_class_codet5small\n",
    "\n",
    "# checkpoint-12000\n",
    "# checkpoint-85500\n",
    "# checkpoint-40500\n",
    "# checkpoint-27000\n",
    "# checkpoint-49000"
   ]
  },
  {
   "cell_type": "code",
   "execution_count": null,
   "id": "79704290-85f5-46ca-92fc-29aee0499adb",
   "metadata": {},
   "outputs": [],
   "source": []
  },
  {
   "cell_type": "markdown",
   "id": "38c46d11-464f-44e9-81cf-cabeeb9798b7",
   "metadata": {
    "jp-MarkdownHeadingCollapsed": true,
    "tags": []
   },
   "source": [
    "## casing"
   ]
  },
  {
   "cell_type": "code",
   "execution_count": null,
   "id": "767a65c6-49fa-44eb-9790-43f2699257c1",
   "metadata": {},
   "outputs": [],
   "source": [
    "# model config\n",
    "folder = \"seq2seq_results\"\n",
    "model_name = \"outlier_casing_codet5small\"\n",
    "ckpt = \"checkpoint-27000\""
   ]
  },
  {
   "cell_type": "code",
   "execution_count": null,
   "id": "fc274519-b5f6-4013-ad8f-efd176bab3bb",
   "metadata": {},
   "outputs": [],
   "source": [
    "# model config\n",
    "pred_csvfile = \"codet5_preds.csv\"\n",
    "file_name = f\"{folder}/{model_name}/{ckpt}/{pred_csvfile}\"\n",
    "target_feats = [\"casing\"]"
   ]
  },
  {
   "cell_type": "code",
   "execution_count": null,
   "id": "d9160b7a-b0f0-49d2-8263-fa8106ba6da7",
   "metadata": {},
   "outputs": [],
   "source": [
    "# codebleu score\n",
    "casing_codebleu = evaluate_codebleu(file_name,  '0.25,0.25,0.25,0.25')\n",
    "casing_codebleu"
   ]
  },
  {
   "cell_type": "code",
   "execution_count": null,
   "id": "762bacb8-a5d9-4a09-b0b3-4a59d31168bb",
   "metadata": {},
   "outputs": [],
   "source": [
    "# getting prediction\n",
    "casing_pred_df = pd.read_csv(file_name)"
   ]
  },
  {
   "cell_type": "code",
   "execution_count": null,
   "id": "b9c54e9b-0774-40d9-ac13-4cc645d891c6",
   "metadata": {
    "scrolled": true,
    "tags": []
   },
   "outputs": [],
   "source": [
    "# getting the score report, containing all the eval metrics\n",
    "casing_report = evaluate_pred_df(casing_pred_df, target_feats, is_nl=True, parse_test=True)"
   ]
  },
  {
   "cell_type": "code",
   "execution_count": null,
   "id": "b13c22e0-f301-4d83-b3b8-9fdada511a16",
   "metadata": {
    "tags": []
   },
   "outputs": [],
   "source": [
    "# you can use this function for looking up the example\n",
    "# you can search with score upper bound and lower bound with a certain eval metric\n",
    "# and you can also pick how many examples you want to see by using `count` argument\n",
    "lookup_examples(casing_report, 0.6, 0.4, metric=\"diff_bleu\")"
   ]
  },
  {
   "cell_type": "markdown",
   "id": "775b8b20-c561-4eab-8f20-6a9a2f00526d",
   "metadata": {
    "jp-MarkdownHeadingCollapsed": true,
    "tags": []
   },
   "source": [
    "## class"
   ]
  },
  {
   "cell_type": "code",
   "execution_count": null,
   "id": "dc5ccf0e-2c1d-4265-a095-a2cc054b3fbd",
   "metadata": {},
   "outputs": [],
   "source": [
    "folder = \"seq2seq_results\"\n",
    "model_name = \"outlier_class_codet5small\"\n",
    "ckpt = \"checkpoint-49000\""
   ]
  },
  {
   "cell_type": "code",
   "execution_count": null,
   "id": "66bad0d2-b7de-4b19-ac46-e724eb58b114",
   "metadata": {},
   "outputs": [],
   "source": [
    "pred_csvfile = \"codet5_preds.csv\"\n",
    "file_name = f\"{folder}/{model_name}/{ckpt}/{pred_csvfile}\"\n",
    "target_feats = [\"class\"]"
   ]
  },
  {
   "cell_type": "code",
   "execution_count": null,
   "id": "55f073b3-ab12-4f1d-b547-b306d32fd6e6",
   "metadata": {},
   "outputs": [],
   "source": [
    "class_codebleu = evaluate_codebleu(file_name,  '0.25,0.25,0.25,0.25')\n",
    "class_codebleu"
   ]
  },
  {
   "cell_type": "code",
   "execution_count": null,
   "id": "ed3eb868-7eef-433d-9bff-43d944f67a19",
   "metadata": {},
   "outputs": [],
   "source": [
    "class_pred_df = pd.read_csv(file_name)"
   ]
  },
  {
   "cell_type": "code",
   "execution_count": null,
   "id": "8718e70d-5372-457e-87bc-67fdce959b73",
   "metadata": {
    "scrolled": true,
    "tags": []
   },
   "outputs": [],
   "source": [
    "class_report = evaluate_pred_df(class_pred_df, target_feats, is_nl=True, parse_test=True)"
   ]
  },
  {
   "cell_type": "code",
   "execution_count": null,
   "id": "ff80b751-8293-4d70-b2d9-f982e2480527",
   "metadata": {},
   "outputs": [],
   "source": [
    "for key, val in class_report.items():\n",
    "    if type(val) != list and len(val.shape) == 0:\n",
    "        print(key, \":\", val)"
   ]
  },
  {
   "cell_type": "markdown",
   "id": "2489a7ad-028c-49b9-908a-eb6255abf044",
   "metadata": {
    "tags": []
   },
   "source": [
    "## list_comp"
   ]
  },
  {
   "cell_type": "code",
   "execution_count": null,
   "id": "53da0ca4-d518-48cb-ab65-8a37a14dbbc6",
   "metadata": {},
   "outputs": [],
   "source": [
    "folder = \"seq2seq_results\"\n",
    "model_name = \"outlier_fixed_list_comp_codet5small\"\n",
    "ckpt = \"checkpoint-12000\""
   ]
  },
  {
   "cell_type": "code",
   "execution_count": null,
   "id": "d442f059-4541-498a-9fd3-0431a2d23a38",
   "metadata": {},
   "outputs": [],
   "source": [
    "pred_csvfile = \"codet5_preds.csv\"\n",
    "file_name = f\"{folder}/{model_name}/{ckpt}/{pred_csvfile}\"\n",
    "target_feats = [\"list_comp\"]"
   ]
  },
  {
   "cell_type": "code",
   "execution_count": null,
   "id": "8280bbf8-c804-4dbf-9771-aa419418b216",
   "metadata": {},
   "outputs": [],
   "source": [
    "list_comp_codebleu = evaluate_codebleu(file_name,  '0.25,0.25,0.25,0.25', is_exclude_same_io=True)\n",
    "list_comp_codebleu"
   ]
  },
  {
   "cell_type": "code",
   "execution_count": null,
   "id": "e1a83a65-0310-46c2-9f3a-882cfd30e081",
   "metadata": {},
   "outputs": [],
   "source": [
    "list_comp_pred_df = pd.read_csv(file_name)\n",
    "list_comp_pred_df = exclude_same_io(list_comp_pred_df)"
   ]
  },
  {
   "cell_type": "code",
   "execution_count": null,
   "id": "6fa0c209-371d-4e8f-896d-e00911f40f69",
   "metadata": {
    "scrolled": true,
    "tags": []
   },
   "outputs": [],
   "source": [
    "list_comp_report = evaluate_pred_df(list_comp_pred_df, target_feats, is_nl=True, parse_test=True)"
   ]
  },
  {
   "cell_type": "code",
   "execution_count": null,
   "id": "85faa6c4-3a58-4526-a140-593300e8ff00",
   "metadata": {},
   "outputs": [],
   "source": [
    "for key, val in list_comp_report.items():\n",
    "    if type(val) != list and len(val.shape) == 0:\n",
    "        print(key, \":\", val)"
   ]
  },
  {
   "cell_type": "code",
   "execution_count": null,
   "id": "3c96ae7e-743e-4e24-860e-383f1452d24a",
   "metadata": {
    "tags": []
   },
   "outputs": [],
   "source": [
    "lookup_examples(list_comp_report, 1, 1, metric=\"diff_bleu\")"
   ]
  },
  {
   "cell_type": "markdown",
   "id": "3487ce7d-e26e-4714-8f72-8c7a04236797",
   "metadata": {
    "jp-MarkdownHeadingCollapsed": true,
    "tags": []
   },
   "source": [
    "## docstring"
   ]
  },
  {
   "cell_type": "code",
   "execution_count": null,
   "id": "c8a22e6d-4f4c-40b2-8b6f-94bf287ac000",
   "metadata": {},
   "outputs": [],
   "source": [
    "folder = \"seq2seq_results\"\n",
    "model_name = \"outlier_updated_docstring_codet5small\"\n",
    "ckpt = \"checkpoint-85500\""
   ]
  },
  {
   "cell_type": "code",
   "execution_count": null,
   "id": "bddc838a-c1ee-4cb2-804e-eca495b9fad1",
   "metadata": {},
   "outputs": [],
   "source": [
    "pred_csvfile = \"codet5_preds.csv\"\n",
    "file_name = f\"{folder}/{model_name}/{ckpt}/{pred_csvfile}\"\n",
    "target_feats = [\"docstring\"]"
   ]
  },
  {
   "cell_type": "code",
   "execution_count": null,
   "id": "cf52ec6f-6f8e-4691-945b-e59f7d2740cb",
   "metadata": {},
   "outputs": [],
   "source": [
    "docstring_codebleu = evaluate_codebleu(file_name,  '0.25,0.25,0.25,0.25')\n",
    "docstring_codebleu"
   ]
  },
  {
   "cell_type": "code",
   "execution_count": null,
   "id": "8bc93304-2f4f-4254-b2e0-8e0a5052dfd5",
   "metadata": {},
   "outputs": [],
   "source": [
    "docstring_pred_df = pd.read_csv(file_name)"
   ]
  },
  {
   "cell_type": "code",
   "execution_count": null,
   "id": "7a923269-8f86-496f-b0f8-0b38c2c8ca16",
   "metadata": {
    "scrolled": true,
    "tags": []
   },
   "outputs": [],
   "source": [
    "docstring_report = evaluate_pred_df(docstring_pred_df, target_feats, is_nl=True, parse_test=True)"
   ]
  },
  {
   "cell_type": "code",
   "execution_count": null,
   "id": "424914e8-ed36-49bb-ae5c-a306b501bcbe",
   "metadata": {},
   "outputs": [],
   "source": [
    "for key, val in docstring_report.items():\n",
    "    if type(val) != list and len(val.shape) == 0:\n",
    "        print(key, \":\", val)"
   ]
  },
  {
   "cell_type": "markdown",
   "id": "bbb428fc-892a-4a5f-907c-b19c918c7fdf",
   "metadata": {
    "tags": []
   },
   "source": [
    "## comment"
   ]
  },
  {
   "cell_type": "code",
   "execution_count": null,
   "id": "1c715e6c-04c3-4af9-bd60-1d1f73df9f68",
   "metadata": {},
   "outputs": [],
   "source": [
    "folder = \"seq2seq_results\"\n",
    "model_name = \"outlier_codet5small\"\n",
    "ckpt = \"checkpoint-40500\""
   ]
  },
  {
   "cell_type": "code",
   "execution_count": null,
   "id": "75ae028a-ace6-43ae-a863-9d117437b7e8",
   "metadata": {},
   "outputs": [],
   "source": [
    "pred_csvfile = \"codet5_preds.csv\"\n",
    "file_name = f\"{folder}/{model_name}/{ckpt}/{pred_csvfile}\"\n",
    "target_feats = [\"comment\"]"
   ]
  },
  {
   "cell_type": "code",
   "execution_count": null,
   "id": "5a2e6dc5-d3f2-4bd6-ad5a-eaec87916a2d",
   "metadata": {},
   "outputs": [],
   "source": [
    "comment_codebleu = evaluate_codebleu(file_name,  '0.25,0.25,0.25,0.25', dropna=True)\n",
    "comment_codebleu"
   ]
  },
  {
   "cell_type": "code",
   "execution_count": null,
   "id": "60dfd33b-dcd1-4bb2-9a72-af3246c5773d",
   "metadata": {},
   "outputs": [],
   "source": [
    "comment_pred_df = pd.read_csv(file_name)"
   ]
  },
  {
   "cell_type": "code",
   "execution_count": null,
   "id": "a692d530-4d71-47c4-ad18-86652117f1fd",
   "metadata": {},
   "outputs": [],
   "source": [
    "# not sure why there is nan in preds, but just exclude it no matter what\n",
    "comment_pred_df = comment_pred_df.dropna()"
   ]
  },
  {
   "cell_type": "code",
   "execution_count": null,
   "id": "5630835e-8d2c-46f3-818b-482c8b942575",
   "metadata": {
    "scrolled": true,
    "tags": []
   },
   "outputs": [],
   "source": [
    "comment_report = evaluate_pred_df(comment_pred_df, target_feats, is_nl=True, parse_test=True)"
   ]
  },
  {
   "cell_type": "code",
   "execution_count": null,
   "id": "1ecf6b39-b015-4a37-bd6d-7f9851fe92e5",
   "metadata": {},
   "outputs": [],
   "source": [
    "for key, val in comment_report.items():\n",
    "    if type(val) != list and len(val.shape) == 0:\n",
    "        print(key, \":\", val)"
   ]
  },
  {
   "cell_type": "markdown",
   "id": "6ab53ab9-b179-4b4b-80d6-17e0052b2beb",
   "metadata": {
    "tags": []
   },
   "source": [
    "# CodeT5 Individual Finetuned - Truncated Dataset"
   ]
  },
  {
   "cell_type": "code",
   "execution_count": 12,
   "id": "125fb258-4b35-45af-940a-0c8d9b009614",
   "metadata": {},
   "outputs": [],
   "source": [
    "# drwxr-xr-x 27 cting3 grads 4096 Aug  5 12:15 outlier_fixed_list_comp_codet5small\n",
    "# drwxr-xr-x 32 cting3 grads 4096 Aug  5 11:34 outlier_updated_docstring_codet5small\n",
    "# drwxr-xr-x 25 cting3 grads 4096 Jul 28 14:36 outlier_codet5small\n",
    "# drwxr-xr-x 32 cting3 grads 4096 Jul 28 14:18 outlier_casing_codet5small\n",
    "# drwxr-xr-x 32 cting3 grads 4096 Jul 24 15:47 outlier_class_codet5small\n",
    "\n",
    "# checkpoint-12000\n",
    "# checkpoint-85500\n",
    "# checkpoint-40500\n",
    "# checkpoint-27000\n",
    "# checkpoint-49000"
   ]
  },
  {
   "cell_type": "code",
   "execution_count": null,
   "id": "4505345b-f440-42cc-a7af-a45f3586e859",
   "metadata": {},
   "outputs": [],
   "source": []
  },
  {
   "cell_type": "markdown",
   "id": "54384f96-d0fd-463b-9c58-46e54cc3f309",
   "metadata": {
    "tags": []
   },
   "source": [
    "## casing"
   ]
  },
  {
   "cell_type": "code",
   "execution_count": 14,
   "id": "d59f3988-442b-4ca3-b9a3-a9f564545095",
   "metadata": {},
   "outputs": [],
   "source": [
    "folder = \"seq2seq_results\"\n",
    "model_name = \"outlier_casing_codet5small\"\n",
    "ckpt = \"checkpoint-27000\""
   ]
  },
  {
   "cell_type": "code",
   "execution_count": 15,
   "id": "657e84af-b269-4e0d-89d1-c6be955a18ad",
   "metadata": {},
   "outputs": [],
   "source": [
    "pred_csvfile = \"codet5_eval_set_preds.csv\"\n",
    "file_name = f\"{folder}/{model_name}/{ckpt}/{pred_csvfile}\"\n",
    "target_feats = [\"casing\"]"
   ]
  },
  {
   "cell_type": "code",
   "execution_count": 16,
   "id": "1c1be04b-dd18-4881-b660-046757ca8a00",
   "metadata": {},
   "outputs": [
    {
     "data": {
      "text/plain": [
       "{'ngram': 0.9502663480841979,\n",
       " 'weighted_ngram': 0.9550267101422462,\n",
       " 'syntax_match': 0.9901381003399783,\n",
       " 'dataflow_match': 0.9544287595353866,\n",
       " 'code_bleu': 0.9624649795254523}"
      ]
     },
     "execution_count": 16,
     "metadata": {},
     "output_type": "execute_result"
    }
   ],
   "source": [
    "casing_codebleu = evaluate_codebleu(file_name,  '0.25,0.25,0.25,0.25')\n",
    "casing_codebleu"
   ]
  },
  {
   "cell_type": "code",
   "execution_count": 17,
   "id": "32b15f32-8c9a-4dcd-b1c7-e7c0af288ddb",
   "metadata": {},
   "outputs": [],
   "source": [
    "casing_pred_df = pd.read_csv(file_name)"
   ]
  },
  {
   "cell_type": "code",
   "execution_count": 18,
   "id": "564b1356-6d30-4791-96dc-4a18623c985b",
   "metadata": {
    "scrolled": true,
    "tags": []
   },
   "outputs": [
    {
     "data": {
      "application/vnd.jupyter.widget-view+json": {
       "model_id": "d8b2891a7a73442abc2c4a1ff4e63996",
       "version_major": 2,
       "version_minor": 0
      },
      "text/plain": [
       "  0%|          | 0/2011 [00:00<?, ?it/s]"
      ]
     },
     "metadata": {},
     "output_type": "display_data"
    },
    {
     "name": "stderr",
     "output_type": "stream",
     "text": [
      "/data/users/cting3/miniconda3/envs/py_3_8/lib/python3.8/site-packages/nltk/translate/bleu_score.py:515: UserWarning: \n",
      "The hypothesis contains 0 counts of 3-gram overlaps.\n",
      "Therefore the BLEU score evaluates to 0, independently of\n",
      "how many N-gram overlaps of lower order it contains.\n",
      "Consider using lower n-gram order or use SmoothingFunction()\n",
      "  warnings.warn(_msg)\n",
      "/data/users/cting3/miniconda3/envs/py_3_8/lib/python3.8/site-packages/nltk/translate/bleu_score.py:515: UserWarning: \n",
      "The hypothesis contains 0 counts of 4-gram overlaps.\n",
      "Therefore the BLEU score evaluates to 0, independently of\n",
      "how many N-gram overlaps of lower order it contains.\n",
      "Consider using lower n-gram order or use SmoothingFunction()\n",
      "  warnings.warn(_msg)\n",
      "/data/users/cting3/miniconda3/envs/py_3_8/lib/python3.8/site-packages/nltk/translate/bleu_score.py:515: UserWarning: \n",
      "The hypothesis contains 0 counts of 2-gram overlaps.\n",
      "Therefore the BLEU score evaluates to 0, independently of\n",
      "how many N-gram overlaps of lower order it contains.\n",
      "Consider using lower n-gram order or use SmoothingFunction()\n",
      "  warnings.warn(_msg)\n"
     ]
    },
    {
     "name": "stdout",
     "output_type": "stream",
     "text": [
      "WARNING: There is no reference data-flows extracted from the whole corpus, and the data-flow match score degenerates to 0. Please consider ignoring this score.\n",
      "WARNING: There is no reference data-flows extracted from the whole corpus, and the data-flow match score degenerates to 0. Please consider ignoring this score.\n",
      "WARNING: There is no reference data-flows extracted from the whole corpus, and the data-flow match score degenerates to 0. Please consider ignoring this score.\n",
      "WARNING: There is no reference data-flows extracted from the whole corpus, and the data-flow match score degenerates to 0. Please consider ignoring this score.\n",
      "WARNING: There is no reference data-flows extracted from the whole corpus, and the data-flow match score degenerates to 0. Please consider ignoring this score.\n",
      "WARNING: There is no reference data-flows extracted from the whole corpus, and the data-flow match score degenerates to 0. Please consider ignoring this score.\n",
      "WARNING: There is no reference data-flows extracted from the whole corpus, and the data-flow match score degenerates to 0. Please consider ignoring this score.\n",
      "WARNING: There is no reference data-flows extracted from the whole corpus, and the data-flow match score degenerates to 0. Please consider ignoring this score.\n",
      "WARNING: There is no reference data-flows extracted from the whole corpus, and the data-flow match score degenerates to 0. Please consider ignoring this score.\n",
      "WARNING: There is no reference data-flows extracted from the whole corpus, and the data-flow match score degenerates to 0. Please consider ignoring this score.\n",
      "WARNING: There is no reference data-flows extracted from the whole corpus, and the data-flow match score degenerates to 0. Please consider ignoring this score.\n",
      "WARNING: There is no reference data-flows extracted from the whole corpus, and the data-flow match score degenerates to 0. Please consider ignoring this score.\n",
      "WARNING: There is no reference data-flows extracted from the whole corpus, and the data-flow match score degenerates to 0. Please consider ignoring this score.\n",
      "WARNING: There is no reference data-flows extracted from the whole corpus, and the data-flow match score degenerates to 0. Please consider ignoring this score.\n",
      "WARNING: There is no reference data-flows extracted from the whole corpus, and the data-flow match score degenerates to 0. Please consider ignoring this score.\n",
      "WARNING: There is no reference data-flows extracted from the whole corpus, and the data-flow match score degenerates to 0. Please consider ignoring this score.\n",
      "WARNING: There is no reference data-flows extracted from the whole corpus, and the data-flow match score degenerates to 0. Please consider ignoring this score.\n",
      "WARNING: There is no reference data-flows extracted from the whole corpus, and the data-flow match score degenerates to 0. Please consider ignoring this score.\n",
      "WARNING: There is no reference data-flows extracted from the whole corpus, and the data-flow match score degenerates to 0. Please consider ignoring this score.\n",
      "WARNING: There is no reference data-flows extracted from the whole corpus, and the data-flow match score degenerates to 0. Please consider ignoring this score.\n",
      "WARNING: There is no reference data-flows extracted from the whole corpus, and the data-flow match score degenerates to 0. Please consider ignoring this score.\n",
      "WARNING: There is no reference data-flows extracted from the whole corpus, and the data-flow match score degenerates to 0. Please consider ignoring this score.\n",
      "WARNING: There is no reference data-flows extracted from the whole corpus, and the data-flow match score degenerates to 0. Please consider ignoring this score.\n",
      "WARNING: There is no reference data-flows extracted from the whole corpus, and the data-flow match score degenerates to 0. Please consider ignoring this score.\n",
      "WARNING: There is no reference data-flows extracted from the whole corpus, and the data-flow match score degenerates to 0. Please consider ignoring this score.\n",
      "WARNING: There is no reference data-flows extracted from the whole corpus, and the data-flow match score degenerates to 0. Please consider ignoring this score.\n",
      "WARNING: There is no reference data-flows extracted from the whole corpus, and the data-flow match score degenerates to 0. Please consider ignoring this score.\n"
     ]
    }
   ],
   "source": [
    "casing_report = evaluate_pred_df(casing_pred_df, target_feats, is_nl=True, parse_test=True)"
   ]
  },
  {
   "cell_type": "code",
   "execution_count": 19,
   "id": "6cc54817-62cf-49d7-9817-663c1ec16960",
   "metadata": {},
   "outputs": [
    {
     "name": "stdout",
     "output_type": "stream",
     "text": [
      "codebleu_perfect : 0.4724017901541522\n",
      "codebleu_above_90 : 0.8547986076578816\n",
      "diff_bleu_avg : 0.5964453082218742\n",
      "diff_bleu_perfect : 0.45997016409746394\n",
      "diff_bleu_above_90 : 0.4733963202386872\n",
      "parse_test_accuracy : 0.4669318746892093\n"
     ]
    }
   ],
   "source": [
    "for key, val in casing_report.items():\n",
    "    if type(val) != list and len(val.shape) == 0:\n",
    "        print(key, \":\", val)"
   ]
  },
  {
   "cell_type": "markdown",
   "id": "53bfaecc-0c4d-4377-866a-7f0b034f09be",
   "metadata": {
    "tags": []
   },
   "source": [
    "## class"
   ]
  },
  {
   "cell_type": "code",
   "execution_count": 22,
   "id": "af3a6872-a2ee-4e46-a0c4-f498198957e3",
   "metadata": {},
   "outputs": [],
   "source": [
    "folder = \"seq2seq_results\"\n",
    "model_name = \"outlier_class_codet5small\"\n",
    "ckpt = \"checkpoint-49000\""
   ]
  },
  {
   "cell_type": "code",
   "execution_count": 23,
   "id": "ba0d51a3-9e77-433d-97b2-f8ef364c12d8",
   "metadata": {},
   "outputs": [],
   "source": [
    "pred_csvfile = \"codet5_eval_set_preds.csv\"\n",
    "file_name = f\"{folder}/{model_name}/{ckpt}/{pred_csvfile}\"\n",
    "target_feats = [\"class\"]"
   ]
  },
  {
   "cell_type": "code",
   "execution_count": 24,
   "id": "f94e72bb-2c19-42ca-bca2-f0d91c5455ae",
   "metadata": {},
   "outputs": [
    {
     "data": {
      "text/plain": [
       "{'ngram': 0.7575970498680648,\n",
       " 'weighted_ngram': 0.784300360086646,\n",
       " 'syntax_match': 0.8638880792771787,\n",
       " 'dataflow_match': 0.8626689507992045,\n",
       " 'code_bleu': 0.8171136100077735}"
      ]
     },
     "execution_count": 24,
     "metadata": {},
     "output_type": "execute_result"
    }
   ],
   "source": [
    "class_codebleu = evaluate_codebleu(file_name,  '0.25,0.25,0.25,0.25')\n",
    "class_codebleu"
   ]
  },
  {
   "cell_type": "code",
   "execution_count": 25,
   "id": "056d4afd-c85e-49e0-90ae-503fcc41cb1f",
   "metadata": {},
   "outputs": [],
   "source": [
    "class_pred_df = pd.read_csv(file_name)"
   ]
  },
  {
   "cell_type": "code",
   "execution_count": 26,
   "id": "b127db31-120e-4603-9c0e-dc5173493d1c",
   "metadata": {
    "scrolled": true,
    "tags": []
   },
   "outputs": [
    {
     "data": {
      "application/vnd.jupyter.widget-view+json": {
       "model_id": "65c0ecc46ada4adc8c53e1d5f8208b6d",
       "version_major": 2,
       "version_minor": 0
      },
      "text/plain": [
       "  0%|          | 0/2005 [00:00<?, ?it/s]"
      ]
     },
     "metadata": {},
     "output_type": "display_data"
    },
    {
     "name": "stdout",
     "output_type": "stream",
     "text": [
      "WARNING: There is no reference data-flows extracted from the whole corpus, and the data-flow match score degenerates to 0. Please consider ignoring this score.\n",
      "WARNING: There is no reference data-flows extracted from the whole corpus, and the data-flow match score degenerates to 0. Please consider ignoring this score.\n",
      "WARNING: There is no reference data-flows extracted from the whole corpus, and the data-flow match score degenerates to 0. Please consider ignoring this score.\n",
      "WARNING: There is no reference data-flows extracted from the whole corpus, and the data-flow match score degenerates to 0. Please consider ignoring this score.\n",
      "WARNING: There is no reference data-flows extracted from the whole corpus, and the data-flow match score degenerates to 0. Please consider ignoring this score.\n",
      "WARNING: There is no reference data-flows extracted from the whole corpus, and the data-flow match score degenerates to 0. Please consider ignoring this score.\n",
      "WARNING: There is no reference data-flows extracted from the whole corpus, and the data-flow match score degenerates to 0. Please consider ignoring this score.\n",
      "WARNING: There is no reference data-flows extracted from the whole corpus, and the data-flow match score degenerates to 0. Please consider ignoring this score.\n",
      "WARNING: There is no reference data-flows extracted from the whole corpus, and the data-flow match score degenerates to 0. Please consider ignoring this score.\n",
      "WARNING: There is no reference data-flows extracted from the whole corpus, and the data-flow match score degenerates to 0. Please consider ignoring this score.\n",
      "WARNING: There is no reference data-flows extracted from the whole corpus, and the data-flow match score degenerates to 0. Please consider ignoring this score.\n",
      "WARNING: There is no reference data-flows extracted from the whole corpus, and the data-flow match score degenerates to 0. Please consider ignoring this score.\n",
      "WARNING: There is no reference data-flows extracted from the whole corpus, and the data-flow match score degenerates to 0. Please consider ignoring this score.\n",
      "WARNING: There is no reference data-flows extracted from the whole corpus, and the data-flow match score degenerates to 0. Please consider ignoring this score.\n",
      "WARNING: There is no reference data-flows extracted from the whole corpus, and the data-flow match score degenerates to 0. Please consider ignoring this score.\n",
      "WARNING: There is no reference data-flows extracted from the whole corpus, and the data-flow match score degenerates to 0. Please consider ignoring this score.\n",
      "WARNING: There is no reference data-flows extracted from the whole corpus, and the data-flow match score degenerates to 0. Please consider ignoring this score.\n",
      "WARNING: There is no reference data-flows extracted from the whole corpus, and the data-flow match score degenerates to 0. Please consider ignoring this score.\n",
      "WARNING: There is no reference data-flows extracted from the whole corpus, and the data-flow match score degenerates to 0. Please consider ignoring this score.\n",
      "WARNING: There is no reference data-flows extracted from the whole corpus, and the data-flow match score degenerates to 0. Please consider ignoring this score.\n",
      "WARNING: There is no reference data-flows extracted from the whole corpus, and the data-flow match score degenerates to 0. Please consider ignoring this score.\n"
     ]
    }
   ],
   "source": [
    "class_report = evaluate_pred_df(class_pred_df, target_feats, is_nl=True, parse_test=True)"
   ]
  },
  {
   "cell_type": "code",
   "execution_count": 27,
   "id": "6061a23d-b3e7-4d0a-84e3-d184a24c753c",
   "metadata": {},
   "outputs": [
    {
     "name": "stdout",
     "output_type": "stream",
     "text": [
      "codebleu_perfect : 0.08478802992518704\n",
      "codebleu_above_90 : 0.31022443890274315\n",
      "diff_bleu_avg : 0.29821448465689815\n",
      "diff_bleu_perfect : 0.08528678304239401\n",
      "diff_bleu_above_90 : 0.10274314214463841\n",
      "parse_test_accuracy : 0.4967581047381546\n"
     ]
    }
   ],
   "source": [
    "for key, val in class_report.items():\n",
    "    if type(val) != list and len(val.shape) == 0:\n",
    "        print(key, \":\", val)"
   ]
  },
  {
   "cell_type": "markdown",
   "id": "ebdd3c10-7cdf-47ce-a708-5c07c63d2983",
   "metadata": {
    "tags": []
   },
   "source": [
    "## list_comp"
   ]
  },
  {
   "cell_type": "code",
   "execution_count": 28,
   "id": "43060ccc-f088-4ad6-b79a-1a3646ffce96",
   "metadata": {},
   "outputs": [],
   "source": [
    "folder = \"seq2seq_results\"\n",
    "model_name = \"outlier_fixed_list_comp_codet5small\"\n",
    "ckpt = \"checkpoint-12000\""
   ]
  },
  {
   "cell_type": "code",
   "execution_count": 29,
   "id": "47c69770-9376-4150-b5ec-3d40f20f7653",
   "metadata": {},
   "outputs": [],
   "source": [
    "pred_csvfile = \"codet5_eval_set_preds.csv\"\n",
    "file_name = f\"{folder}/{model_name}/{ckpt}/{pred_csvfile}\"\n",
    "target_feats = [\"list_comp\"]"
   ]
  },
  {
   "cell_type": "code",
   "execution_count": 30,
   "id": "eee3b597-5424-4974-b37d-6de751e82681",
   "metadata": {},
   "outputs": [
    {
     "data": {
      "text/plain": [
       "{'ngram': 0.9750531654811976,\n",
       " 'weighted_ngram': 0.9777989820886288,\n",
       " 'syntax_match': 0.9729383740338027,\n",
       " 'dataflow_match': 0.9273258171790089,\n",
       " 'code_bleu': 0.9632790846956594}"
      ]
     },
     "execution_count": 30,
     "metadata": {},
     "output_type": "execute_result"
    }
   ],
   "source": [
    "list_comp_codebleu = evaluate_codebleu(file_name,  '0.25,0.25,0.25,0.25', is_exclude_same_io=True)\n",
    "list_comp_codebleu"
   ]
  },
  {
   "cell_type": "code",
   "execution_count": 31,
   "id": "e3cbb85a-7b2c-48df-91da-5dcc8d6bfe84",
   "metadata": {},
   "outputs": [],
   "source": [
    "list_comp_pred_df = pd.read_csv(file_name)\n",
    "list_comp_pred_df = exclude_same_io(list_comp_pred_df)"
   ]
  },
  {
   "cell_type": "code",
   "execution_count": 32,
   "id": "9e43d4d3-a528-4989-81a1-2b068e0c7eaa",
   "metadata": {
    "scrolled": true,
    "tags": []
   },
   "outputs": [
    {
     "data": {
      "application/vnd.jupyter.widget-view+json": {
       "model_id": "392d3794701f4b9e98a281097099c567",
       "version_major": 2,
       "version_minor": 0
      },
      "text/plain": [
       "  0%|          | 0/816 [00:00<?, ?it/s]"
      ]
     },
     "metadata": {},
     "output_type": "display_data"
    }
   ],
   "source": [
    "list_comp_report = evaluate_pred_df(list_comp_pred_df, target_feats, is_nl=True, parse_test=True)"
   ]
  },
  {
   "cell_type": "code",
   "execution_count": 33,
   "id": "5093226e-4d12-4e77-8d3a-b70e6c73770e",
   "metadata": {},
   "outputs": [
    {
     "name": "stdout",
     "output_type": "stream",
     "text": [
      "codebleu_perfect : 0.21200980392156862\n",
      "codebleu_above_90 : 0.8970588235294118\n",
      "diff_bleu_avg : 0.38956310338746586\n",
      "diff_bleu_perfect : 0.21200980392156862\n",
      "diff_bleu_above_90 : 0.21446078431372548\n",
      "parse_test_accuracy : 0.32598039215686275\n"
     ]
    }
   ],
   "source": [
    "for key, val in list_comp_report.items():\n",
    "    if type(val) != list and len(val.shape) == 0:\n",
    "        print(key, \":\", val)"
   ]
  },
  {
   "cell_type": "markdown",
   "id": "d8c4831c-4420-4034-9db3-7bee7ee56dcd",
   "metadata": {
    "tags": []
   },
   "source": [
    "## docstring"
   ]
  },
  {
   "cell_type": "code",
   "execution_count": 35,
   "id": "4293e548-40fc-4f5f-8dc5-873125cab982",
   "metadata": {},
   "outputs": [],
   "source": [
    "folder = \"seq2seq_results\"\n",
    "model_name = \"outlier_updated_docstring_codet5small\"\n",
    "ckpt = \"checkpoint-85500\""
   ]
  },
  {
   "cell_type": "code",
   "execution_count": 36,
   "id": "4437a03f-e472-481a-9e5d-5fde72a0e22d",
   "metadata": {},
   "outputs": [],
   "source": [
    "pred_csvfile = \"codet5_eval_set_preds.csv\"\n",
    "file_name = f\"{folder}/{model_name}/{ckpt}/{pred_csvfile}\"\n",
    "target_feats = [\"docstring\"]"
   ]
  },
  {
   "cell_type": "code",
   "execution_count": 37,
   "id": "63e2b9a8-3ea9-4c01-8718-7d44ccfa608b",
   "metadata": {},
   "outputs": [
    {
     "data": {
      "text/plain": [
       "{'ngram': 0.421175022475854,\n",
       " 'weighted_ngram': 0.5404834582717518,\n",
       " 'syntax_match': 0.8606034809804484,\n",
       " 'dataflow_match': 0.8820790293490737,\n",
       " 'code_bleu': 0.676085247769282}"
      ]
     },
     "execution_count": 37,
     "metadata": {},
     "output_type": "execute_result"
    }
   ],
   "source": [
    "docstring_codebleu = evaluate_codebleu(file_name,  '0.25,0.25,0.25,0.25')\n",
    "docstring_codebleu"
   ]
  },
  {
   "cell_type": "code",
   "execution_count": 38,
   "id": "fda5f614-cd91-4eb0-9f13-9f1c9c4a31b1",
   "metadata": {},
   "outputs": [],
   "source": [
    "docstring_pred_df = pd.read_csv(file_name)"
   ]
  },
  {
   "cell_type": "code",
   "execution_count": 39,
   "id": "d067a346-0ddd-45f0-a159-dcd82be21e2a",
   "metadata": {
    "scrolled": true,
    "tags": []
   },
   "outputs": [
    {
     "data": {
      "application/vnd.jupyter.widget-view+json": {
       "model_id": "425ac46d9c1c45eaa8d3961f0d24da37",
       "version_major": 2,
       "version_minor": 0
      },
      "text/plain": [
       "  0%|          | 0/1999 [00:00<?, ?it/s]"
      ]
     },
     "metadata": {},
     "output_type": "display_data"
    },
    {
     "name": "stdout",
     "output_type": "stream",
     "text": [
      "WARNING: There is no reference data-flows extracted from the whole corpus, and the data-flow match score degenerates to 0. Please consider ignoring this score.\n",
      "WARNING: There is no reference data-flows extracted from the whole corpus, and the data-flow match score degenerates to 0. Please consider ignoring this score.\n",
      "WARNING: There is no reference data-flows extracted from the whole corpus, and the data-flow match score degenerates to 0. Please consider ignoring this score.\n",
      "WARNING: There is no reference data-flows extracted from the whole corpus, and the data-flow match score degenerates to 0. Please consider ignoring this score.\n",
      "WARNING: There is no reference data-flows extracted from the whole corpus, and the data-flow match score degenerates to 0. Please consider ignoring this score.\n",
      "WARNING: There is no reference data-flows extracted from the whole corpus, and the data-flow match score degenerates to 0. Please consider ignoring this score.\n",
      "WARNING: There is no reference data-flows extracted from the whole corpus, and the data-flow match score degenerates to 0. Please consider ignoring this score.\n",
      "WARNING: There is no reference data-flows extracted from the whole corpus, and the data-flow match score degenerates to 0. Please consider ignoring this score.\n",
      "WARNING: There is no reference data-flows extracted from the whole corpus, and the data-flow match score degenerates to 0. Please consider ignoring this score.\n",
      "WARNING: There is no reference data-flows extracted from the whole corpus, and the data-flow match score degenerates to 0. Please consider ignoring this score.\n",
      "WARNING: There is no reference data-flows extracted from the whole corpus, and the data-flow match score degenerates to 0. Please consider ignoring this score.\n",
      "WARNING: There is no reference data-flows extracted from the whole corpus, and the data-flow match score degenerates to 0. Please consider ignoring this score.\n",
      "WARNING: There is no reference data-flows extracted from the whole corpus, and the data-flow match score degenerates to 0. Please consider ignoring this score.\n",
      "WARNING: There is no reference data-flows extracted from the whole corpus, and the data-flow match score degenerates to 0. Please consider ignoring this score.\n",
      "WARNING: There is no reference data-flows extracted from the whole corpus, and the data-flow match score degenerates to 0. Please consider ignoring this score.\n",
      "WARNING: There is no reference data-flows extracted from the whole corpus, and the data-flow match score degenerates to 0. Please consider ignoring this score.\n",
      "WARNING: There is no reference data-flows extracted from the whole corpus, and the data-flow match score degenerates to 0. Please consider ignoring this score.\n",
      "WARNING: There is no reference data-flows extracted from the whole corpus, and the data-flow match score degenerates to 0. Please consider ignoring this score.\n",
      "WARNING: There is no reference data-flows extracted from the whole corpus, and the data-flow match score degenerates to 0. Please consider ignoring this score.\n",
      "WARNING: There is no reference data-flows extracted from the whole corpus, and the data-flow match score degenerates to 0. Please consider ignoring this score.\n",
      "WARNING: There is no reference data-flows extracted from the whole corpus, and the data-flow match score degenerates to 0. Please consider ignoring this score.\n",
      "WARNING: There is no reference data-flows extracted from the whole corpus, and the data-flow match score degenerates to 0. Please consider ignoring this score.\n",
      "WARNING: There is no reference data-flows extracted from the whole corpus, and the data-flow match score degenerates to 0. Please consider ignoring this score.\n",
      "WARNING: There is no reference data-flows extracted from the whole corpus, and the data-flow match score degenerates to 0. Please consider ignoring this score.\n",
      "WARNING: There is no reference data-flows extracted from the whole corpus, and the data-flow match score degenerates to 0. Please consider ignoring this score.\n",
      "WARNING: There is no reference data-flows extracted from the whole corpus, and the data-flow match score degenerates to 0. Please consider ignoring this score.\n",
      "WARNING: There is no reference data-flows extracted from the whole corpus, and the data-flow match score degenerates to 0. Please consider ignoring this score.\n",
      "WARNING: There is no reference data-flows extracted from the whole corpus, and the data-flow match score degenerates to 0. Please consider ignoring this score.\n",
      "WARNING: There is no reference data-flows extracted from the whole corpus, and the data-flow match score degenerates to 0. Please consider ignoring this score.\n",
      "WARNING: There is no reference data-flows extracted from the whole corpus, and the data-flow match score degenerates to 0. Please consider ignoring this score.\n",
      "WARNING: There is no reference data-flows extracted from the whole corpus, and the data-flow match score degenerates to 0. Please consider ignoring this score.\n",
      "WARNING: There is no reference data-flows extracted from the whole corpus, and the data-flow match score degenerates to 0. Please consider ignoring this score.\n",
      "WARNING: There is no reference data-flows extracted from the whole corpus, and the data-flow match score degenerates to 0. Please consider ignoring this score.\n",
      "WARNING: There is no reference data-flows extracted from the whole corpus, and the data-flow match score degenerates to 0. Please consider ignoring this score.\n",
      "WARNING: There is no reference data-flows extracted from the whole corpus, and the data-flow match score degenerates to 0. Please consider ignoring this score.\n",
      "WARNING: There is no reference data-flows extracted from the whole corpus, and the data-flow match score degenerates to 0. Please consider ignoring this score.\n",
      "WARNING: There is no reference data-flows extracted from the whole corpus, and the data-flow match score degenerates to 0. Please consider ignoring this score.\n",
      "WARNING: There is no reference data-flows extracted from the whole corpus, and the data-flow match score degenerates to 0. Please consider ignoring this score.\n",
      "WARNING: There is no reference data-flows extracted from the whole corpus, and the data-flow match score degenerates to 0. Please consider ignoring this score.\n",
      "WARNING: There is no reference data-flows extracted from the whole corpus, and the data-flow match score degenerates to 0. Please consider ignoring this score.\n",
      "WARNING: There is no reference data-flows extracted from the whole corpus, and the data-flow match score degenerates to 0. Please consider ignoring this score.\n",
      "WARNING: There is no reference data-flows extracted from the whole corpus, and the data-flow match score degenerates to 0. Please consider ignoring this score.\n",
      "WARNING: There is no reference data-flows extracted from the whole corpus, and the data-flow match score degenerates to 0. Please consider ignoring this score.\n",
      "WARNING: There is no reference data-flows extracted from the whole corpus, and the data-flow match score degenerates to 0. Please consider ignoring this score.\n",
      "WARNING: There is no reference data-flows extracted from the whole corpus, and the data-flow match score degenerates to 0. Please consider ignoring this score.\n",
      "WARNING: There is no reference data-flows extracted from the whole corpus, and the data-flow match score degenerates to 0. Please consider ignoring this score.\n",
      "WARNING: There is no reference data-flows extracted from the whole corpus, and the data-flow match score degenerates to 0. Please consider ignoring this score.\n",
      "WARNING: There is no reference data-flows extracted from the whole corpus, and the data-flow match score degenerates to 0. Please consider ignoring this score.\n",
      "WARNING: There is no reference data-flows extracted from the whole corpus, and the data-flow match score degenerates to 0. Please consider ignoring this score.\n",
      "WARNING: There is no reference data-flows extracted from the whole corpus, and the data-flow match score degenerates to 0. Please consider ignoring this score.\n",
      "WARNING: There is no reference data-flows extracted from the whole corpus, and the data-flow match score degenerates to 0. Please consider ignoring this score.\n",
      "WARNING: There is no reference data-flows extracted from the whole corpus, and the data-flow match score degenerates to 0. Please consider ignoring this score.\n",
      "WARNING: There is no reference data-flows extracted from the whole corpus, and the data-flow match score degenerates to 0. Please consider ignoring this score.\n",
      "WARNING: There is no reference data-flows extracted from the whole corpus, and the data-flow match score degenerates to 0. Please consider ignoring this score.\n",
      "WARNING: There is no reference data-flows extracted from the whole corpus, and the data-flow match score degenerates to 0. Please consider ignoring this score.\n",
      "WARNING: There is no reference data-flows extracted from the whole corpus, and the data-flow match score degenerates to 0. Please consider ignoring this score.\n",
      "WARNING: There is no reference data-flows extracted from the whole corpus, and the data-flow match score degenerates to 0. Please consider ignoring this score.\n",
      "WARNING: There is no reference data-flows extracted from the whole corpus, and the data-flow match score degenerates to 0. Please consider ignoring this score.\n",
      "WARNING: There is no reference data-flows extracted from the whole corpus, and the data-flow match score degenerates to 0. Please consider ignoring this score.\n",
      "WARNING: There is no reference data-flows extracted from the whole corpus, and the data-flow match score degenerates to 0. Please consider ignoring this score.\n",
      "WARNING: There is no reference data-flows extracted from the whole corpus, and the data-flow match score degenerates to 0. Please consider ignoring this score.\n",
      "WARNING: There is no reference data-flows extracted from the whole corpus, and the data-flow match score degenerates to 0. Please consider ignoring this score.\n",
      "WARNING: There is no reference data-flows extracted from the whole corpus, and the data-flow match score degenerates to 0. Please consider ignoring this score.\n",
      "WARNING: There is no reference data-flows extracted from the whole corpus, and the data-flow match score degenerates to 0. Please consider ignoring this score.\n",
      "WARNING: There is no reference data-flows extracted from the whole corpus, and the data-flow match score degenerates to 0. Please consider ignoring this score.\n",
      "WARNING: There is no reference data-flows extracted from the whole corpus, and the data-flow match score degenerates to 0. Please consider ignoring this score.\n",
      "WARNING: There is no reference data-flows extracted from the whole corpus, and the data-flow match score degenerates to 0. Please consider ignoring this score.\n",
      "WARNING: There is no reference data-flows extracted from the whole corpus, and the data-flow match score degenerates to 0. Please consider ignoring this score.\n",
      "WARNING: There is no reference data-flows extracted from the whole corpus, and the data-flow match score degenerates to 0. Please consider ignoring this score.\n",
      "WARNING: There is no reference data-flows extracted from the whole corpus, and the data-flow match score degenerates to 0. Please consider ignoring this score.\n",
      "WARNING: There is no reference data-flows extracted from the whole corpus, and the data-flow match score degenerates to 0. Please consider ignoring this score.\n",
      "WARNING: There is no reference data-flows extracted from the whole corpus, and the data-flow match score degenerates to 0. Please consider ignoring this score.\n",
      "WARNING: There is no reference data-flows extracted from the whole corpus, and the data-flow match score degenerates to 0. Please consider ignoring this score.\n",
      "WARNING: There is no reference data-flows extracted from the whole corpus, and the data-flow match score degenerates to 0. Please consider ignoring this score.\n",
      "WARNING: There is no reference data-flows extracted from the whole corpus, and the data-flow match score degenerates to 0. Please consider ignoring this score.\n",
      "WARNING: There is no reference data-flows extracted from the whole corpus, and the data-flow match score degenerates to 0. Please consider ignoring this score.\n",
      "WARNING: There is no reference data-flows extracted from the whole corpus, and the data-flow match score degenerates to 0. Please consider ignoring this score.\n",
      "WARNING: There is no reference data-flows extracted from the whole corpus, and the data-flow match score degenerates to 0. Please consider ignoring this score.\n",
      "WARNING: There is no reference data-flows extracted from the whole corpus, and the data-flow match score degenerates to 0. Please consider ignoring this score.\n",
      "WARNING: There is no reference data-flows extracted from the whole corpus, and the data-flow match score degenerates to 0. Please consider ignoring this score.\n",
      "WARNING: There is no reference data-flows extracted from the whole corpus, and the data-flow match score degenerates to 0. Please consider ignoring this score.\n",
      "WARNING: There is no reference data-flows extracted from the whole corpus, and the data-flow match score degenerates to 0. Please consider ignoring this score.\n",
      "WARNING: There is no reference data-flows extracted from the whole corpus, and the data-flow match score degenerates to 0. Please consider ignoring this score.\n",
      "WARNING: There is no reference data-flows extracted from the whole corpus, and the data-flow match score degenerates to 0. Please consider ignoring this score.\n",
      "WARNING: There is no reference data-flows extracted from the whole corpus, and the data-flow match score degenerates to 0. Please consider ignoring this score.\n",
      "WARNING: There is no reference data-flows extracted from the whole corpus, and the data-flow match score degenerates to 0. Please consider ignoring this score.\n",
      "WARNING: There is no reference data-flows extracted from the whole corpus, and the data-flow match score degenerates to 0. Please consider ignoring this score.\n",
      "WARNING: There is no reference data-flows extracted from the whole corpus, and the data-flow match score degenerates to 0. Please consider ignoring this score.\n",
      "WARNING: There is no reference data-flows extracted from the whole corpus, and the data-flow match score degenerates to 0. Please consider ignoring this score.\n",
      "WARNING: There is no reference data-flows extracted from the whole corpus, and the data-flow match score degenerates to 0. Please consider ignoring this score.\n",
      "WARNING: There is no reference data-flows extracted from the whole corpus, and the data-flow match score degenerates to 0. Please consider ignoring this score.\n",
      "WARNING: There is no reference data-flows extracted from the whole corpus, and the data-flow match score degenerates to 0. Please consider ignoring this score.\n",
      "WARNING: There is no reference data-flows extracted from the whole corpus, and the data-flow match score degenerates to 0. Please consider ignoring this score.\n",
      "WARNING: There is no reference data-flows extracted from the whole corpus, and the data-flow match score degenerates to 0. Please consider ignoring this score.\n",
      "WARNING: There is no reference data-flows extracted from the whole corpus, and the data-flow match score degenerates to 0. Please consider ignoring this score.\n",
      "WARNING: There is no reference data-flows extracted from the whole corpus, and the data-flow match score degenerates to 0. Please consider ignoring this score.\n",
      "WARNING: There is no reference data-flows extracted from the whole corpus, and the data-flow match score degenerates to 0. Please consider ignoring this score.\n",
      "WARNING: There is no reference data-flows extracted from the whole corpus, and the data-flow match score degenerates to 0. Please consider ignoring this score.\n",
      "WARNING: There is no reference data-flows extracted from the whole corpus, and the data-flow match score degenerates to 0. Please consider ignoring this score.\n",
      "WARNING: There is no reference data-flows extracted from the whole corpus, and the data-flow match score degenerates to 0. Please consider ignoring this score.\n",
      "WARNING: There is no reference data-flows extracted from the whole corpus, and the data-flow match score degenerates to 0. Please consider ignoring this score.\n",
      "WARNING: There is no reference data-flows extracted from the whole corpus, and the data-flow match score degenerates to 0. Please consider ignoring this score.\n",
      "WARNING: There is no reference data-flows extracted from the whole corpus, and the data-flow match score degenerates to 0. Please consider ignoring this score.\n",
      "WARNING: There is no reference data-flows extracted from the whole corpus, and the data-flow match score degenerates to 0. Please consider ignoring this score.\n",
      "WARNING: There is no reference data-flows extracted from the whole corpus, and the data-flow match score degenerates to 0. Please consider ignoring this score.\n",
      "WARNING: There is no reference data-flows extracted from the whole corpus, and the data-flow match score degenerates to 0. Please consider ignoring this score.\n",
      "WARNING: There is no reference data-flows extracted from the whole corpus, and the data-flow match score degenerates to 0. Please consider ignoring this score.\n",
      "WARNING: There is no reference data-flows extracted from the whole corpus, and the data-flow match score degenerates to 0. Please consider ignoring this score.\n",
      "WARNING: There is no reference data-flows extracted from the whole corpus, and the data-flow match score degenerates to 0. Please consider ignoring this score.\n",
      "WARNING: There is no reference data-flows extracted from the whole corpus, and the data-flow match score degenerates to 0. Please consider ignoring this score.\n",
      "WARNING: There is no reference data-flows extracted from the whole corpus, and the data-flow match score degenerates to 0. Please consider ignoring this score.\n",
      "WARNING: There is no reference data-flows extracted from the whole corpus, and the data-flow match score degenerates to 0. Please consider ignoring this score.\n",
      "WARNING: There is no reference data-flows extracted from the whole corpus, and the data-flow match score degenerates to 0. Please consider ignoring this score.\n",
      "WARNING: There is no reference data-flows extracted from the whole corpus, and the data-flow match score degenerates to 0. Please consider ignoring this score.\n",
      "WARNING: There is no reference data-flows extracted from the whole corpus, and the data-flow match score degenerates to 0. Please consider ignoring this score.\n",
      "WARNING: There is no reference data-flows extracted from the whole corpus, and the data-flow match score degenerates to 0. Please consider ignoring this score.\n",
      "WARNING: There is no reference data-flows extracted from the whole corpus, and the data-flow match score degenerates to 0. Please consider ignoring this score.\n",
      "WARNING: There is no reference data-flows extracted from the whole corpus, and the data-flow match score degenerates to 0. Please consider ignoring this score.\n",
      "WARNING: There is no reference data-flows extracted from the whole corpus, and the data-flow match score degenerates to 0. Please consider ignoring this score.\n"
     ]
    }
   ],
   "source": [
    "docstring_report = evaluate_pred_df(docstring_pred_df, target_feats, is_nl=True, parse_test=True)"
   ]
  },
  {
   "cell_type": "code",
   "execution_count": 40,
   "id": "ce599147-7346-4f3b-bbf1-4fc60c19cc42",
   "metadata": {},
   "outputs": [
    {
     "name": "stdout",
     "output_type": "stream",
     "text": [
      "codebleu_perfect : 0.0\n",
      "codebleu_above_90 : 0.10355177588794397\n",
      "diff_bleu_avg : 0.015511289362665262\n",
      "diff_bleu_perfect : 0.0\n",
      "diff_bleu_above_90 : 0.0\n",
      "docstr_text_scores_avg : 0.0\n",
      "docstr_text_scores_perfect : 0.0\n",
      "docstr_text_scores_above_90 : 0.0\n",
      "parse_test_accuracy : 0.832416208104052\n"
     ]
    }
   ],
   "source": [
    "for key, val in docstring_report.items():\n",
    "    if type(val) != list and len(val.shape) == 0:\n",
    "        print(key, \":\", val)"
   ]
  },
  {
   "cell_type": "markdown",
   "id": "c7024c01-ef5a-4aa4-be4f-ce02f8b853ad",
   "metadata": {
    "tags": []
   },
   "source": [
    "## comment"
   ]
  },
  {
   "cell_type": "code",
   "execution_count": 41,
   "id": "c4ed71ab-5682-463a-b89e-f137a6f0f52d",
   "metadata": {},
   "outputs": [],
   "source": [
    "folder = \"seq2seq_results\"\n",
    "model_name = \"outlier_codet5small\"\n",
    "ckpt = \"checkpoint-40500\""
   ]
  },
  {
   "cell_type": "code",
   "execution_count": 42,
   "id": "6c1fdd0e-289e-4f05-b4f8-ebb0ae81e6e2",
   "metadata": {},
   "outputs": [],
   "source": [
    "pred_csvfile = \"codet5_eval_set_preds.csv\"\n",
    "file_name = f\"{folder}/{model_name}/{ckpt}/{pred_csvfile}\"\n",
    "target_feats = [\"comment\"]"
   ]
  },
  {
   "cell_type": "code",
   "execution_count": 43,
   "id": "23e9a397-6c5d-4265-a3ad-1dade6435419",
   "metadata": {},
   "outputs": [
    {
     "data": {
      "text/plain": [
       "{'ngram': 0.6448604000984216,\n",
       " 'weighted_ngram': 0.658919766640146,\n",
       " 'syntax_match': 0.8721128194792865,\n",
       " 'dataflow_match': 0.8420958814147669,\n",
       " 'code_bleu': 0.7544972169081553}"
      ]
     },
     "execution_count": 43,
     "metadata": {},
     "output_type": "execute_result"
    }
   ],
   "source": [
    "comment_codebleu = evaluate_codebleu(file_name,  '0.25,0.25,0.25,0.25', dropna=True)\n",
    "comment_codebleu"
   ]
  },
  {
   "cell_type": "code",
   "execution_count": 44,
   "id": "bd22848c-f71d-4781-9b61-05cc91a4c87d",
   "metadata": {},
   "outputs": [],
   "source": [
    "comment_pred_df = pd.read_csv(file_name)"
   ]
  },
  {
   "cell_type": "code",
   "execution_count": 45,
   "id": "8d86917c-934b-488a-8889-ed25d58c5c85",
   "metadata": {},
   "outputs": [],
   "source": [
    "# not sure why there is nan in preds, but just exclude it no matter what\n",
    "comment_pred_df = comment_pred_df.dropna()"
   ]
  },
  {
   "cell_type": "code",
   "execution_count": 46,
   "id": "174294af-f3d4-4767-b711-1d2aef022c13",
   "metadata": {
    "scrolled": true,
    "tags": []
   },
   "outputs": [
    {
     "data": {
      "application/vnd.jupyter.widget-view+json": {
       "model_id": "0af10c4b1b3f4686bda7912c4a8442b4",
       "version_major": 2,
       "version_minor": 0
      },
      "text/plain": [
       "  0%|          | 0/2014 [00:00<?, ?it/s]"
      ]
     },
     "metadata": {},
     "output_type": "display_data"
    },
    {
     "name": "stdout",
     "output_type": "stream",
     "text": [
      "WARNING: There is no reference data-flows extracted from the whole corpus, and the data-flow match score degenerates to 0. Please consider ignoring this score.\n",
      "WARNING: There is no reference data-flows extracted from the whole corpus, and the data-flow match score degenerates to 0. Please consider ignoring this score.\n",
      "WARNING: There is no reference data-flows extracted from the whole corpus, and the data-flow match score degenerates to 0. Please consider ignoring this score.\n",
      "WARNING: There is no reference data-flows extracted from the whole corpus, and the data-flow match score degenerates to 0. Please consider ignoring this score.\n",
      "WARNING: There is no reference data-flows extracted from the whole corpus, and the data-flow match score degenerates to 0. Please consider ignoring this score.\n",
      "WARNING: There is no reference data-flows extracted from the whole corpus, and the data-flow match score degenerates to 0. Please consider ignoring this score.\n",
      "WARNING: There is no reference data-flows extracted from the whole corpus, and the data-flow match score degenerates to 0. Please consider ignoring this score.\n",
      "WARNING: There is no reference data-flows extracted from the whole corpus, and the data-flow match score degenerates to 0. Please consider ignoring this score.\n",
      "WARNING: There is no reference data-flows extracted from the whole corpus, and the data-flow match score degenerates to 0. Please consider ignoring this score.\n",
      "WARNING: There is no reference data-flows extracted from the whole corpus, and the data-flow match score degenerates to 0. Please consider ignoring this score.\n",
      "WARNING: There is no reference data-flows extracted from the whole corpus, and the data-flow match score degenerates to 0. Please consider ignoring this score.\n",
      "WARNING: There is no reference data-flows extracted from the whole corpus, and the data-flow match score degenerates to 0. Please consider ignoring this score.\n",
      "WARNING: There is no reference data-flows extracted from the whole corpus, and the data-flow match score degenerates to 0. Please consider ignoring this score.\n",
      "WARNING: There is no reference data-flows extracted from the whole corpus, and the data-flow match score degenerates to 0. Please consider ignoring this score.\n",
      "WARNING: There is no reference data-flows extracted from the whole corpus, and the data-flow match score degenerates to 0. Please consider ignoring this score.\n",
      "WARNING: There is no reference data-flows extracted from the whole corpus, and the data-flow match score degenerates to 0. Please consider ignoring this score.\n",
      "WARNING: There is no reference data-flows extracted from the whole corpus, and the data-flow match score degenerates to 0. Please consider ignoring this score.\n",
      "WARNING: There is no reference data-flows extracted from the whole corpus, and the data-flow match score degenerates to 0. Please consider ignoring this score.\n",
      "WARNING: There is no reference data-flows extracted from the whole corpus, and the data-flow match score degenerates to 0. Please consider ignoring this score.\n",
      "WARNING: There is no reference data-flows extracted from the whole corpus, and the data-flow match score degenerates to 0. Please consider ignoring this score.\n",
      "WARNING: There is no reference data-flows extracted from the whole corpus, and the data-flow match score degenerates to 0. Please consider ignoring this score.\n",
      "WARNING: There is no reference data-flows extracted from the whole corpus, and the data-flow match score degenerates to 0. Please consider ignoring this score.\n",
      "WARNING: There is no reference data-flows extracted from the whole corpus, and the data-flow match score degenerates to 0. Please consider ignoring this score.\n",
      "WARNING: There is no reference data-flows extracted from the whole corpus, and the data-flow match score degenerates to 0. Please consider ignoring this score.\n",
      "WARNING: There is no reference data-flows extracted from the whole corpus, and the data-flow match score degenerates to 0. Please consider ignoring this score.\n",
      "WARNING: There is no reference data-flows extracted from the whole corpus, and the data-flow match score degenerates to 0. Please consider ignoring this score.\n",
      "WARNING: There is no reference data-flows extracted from the whole corpus, and the data-flow match score degenerates to 0. Please consider ignoring this score.\n",
      "WARNING: There is no reference data-flows extracted from the whole corpus, and the data-flow match score degenerates to 0. Please consider ignoring this score.\n",
      "WARNING: There is no reference data-flows extracted from the whole corpus, and the data-flow match score degenerates to 0. Please consider ignoring this score.\n",
      "WARNING: There is no reference data-flows extracted from the whole corpus, and the data-flow match score degenerates to 0. Please consider ignoring this score.\n",
      "WARNING: There is no reference data-flows extracted from the whole corpus, and the data-flow match score degenerates to 0. Please consider ignoring this score.\n",
      "WARNING: There is no reference data-flows extracted from the whole corpus, and the data-flow match score degenerates to 0. Please consider ignoring this score.\n",
      "WARNING: There is no reference data-flows extracted from the whole corpus, and the data-flow match score degenerates to 0. Please consider ignoring this score.\n",
      "WARNING: There is no reference data-flows extracted from the whole corpus, and the data-flow match score degenerates to 0. Please consider ignoring this score.\n",
      "WARNING: There is no reference data-flows extracted from the whole corpus, and the data-flow match score degenerates to 0. Please consider ignoring this score.\n",
      "WARNING: There is no reference data-flows extracted from the whole corpus, and the data-flow match score degenerates to 0. Please consider ignoring this score.\n",
      "WARNING: There is no reference data-flows extracted from the whole corpus, and the data-flow match score degenerates to 0. Please consider ignoring this score.\n",
      "WARNING: There is no reference data-flows extracted from the whole corpus, and the data-flow match score degenerates to 0. Please consider ignoring this score.\n",
      "WARNING: There is no reference data-flows extracted from the whole corpus, and the data-flow match score degenerates to 0. Please consider ignoring this score.\n",
      "WARNING: There is no reference data-flows extracted from the whole corpus, and the data-flow match score degenerates to 0. Please consider ignoring this score.\n",
      "WARNING: There is no reference data-flows extracted from the whole corpus, and the data-flow match score degenerates to 0. Please consider ignoring this score.\n",
      "WARNING: There is no reference data-flows extracted from the whole corpus, and the data-flow match score degenerates to 0. Please consider ignoring this score.\n",
      "WARNING: There is no reference data-flows extracted from the whole corpus, and the data-flow match score degenerates to 0. Please consider ignoring this score.\n",
      "WARNING: There is no reference data-flows extracted from the whole corpus, and the data-flow match score degenerates to 0. Please consider ignoring this score.\n",
      "WARNING: There is no reference data-flows extracted from the whole corpus, and the data-flow match score degenerates to 0. Please consider ignoring this score.\n",
      "WARNING: There is no reference data-flows extracted from the whole corpus, and the data-flow match score degenerates to 0. Please consider ignoring this score.\n",
      "WARNING: There is no reference data-flows extracted from the whole corpus, and the data-flow match score degenerates to 0. Please consider ignoring this score.\n",
      "WARNING: There is no reference data-flows extracted from the whole corpus, and the data-flow match score degenerates to 0. Please consider ignoring this score.\n",
      "WARNING: There is no reference data-flows extracted from the whole corpus, and the data-flow match score degenerates to 0. Please consider ignoring this score.\n",
      "WARNING: There is no reference data-flows extracted from the whole corpus, and the data-flow match score degenerates to 0. Please consider ignoring this score.\n",
      "WARNING: There is no reference data-flows extracted from the whole corpus, and the data-flow match score degenerates to 0. Please consider ignoring this score.\n",
      "WARNING: There is no reference data-flows extracted from the whole corpus, and the data-flow match score degenerates to 0. Please consider ignoring this score.\n",
      "WARNING: There is no reference data-flows extracted from the whole corpus, and the data-flow match score degenerates to 0. Please consider ignoring this score.\n",
      "WARNING: There is no reference data-flows extracted from the whole corpus, and the data-flow match score degenerates to 0. Please consider ignoring this score.\n",
      "WARNING: There is no reference data-flows extracted from the whole corpus, and the data-flow match score degenerates to 0. Please consider ignoring this score.\n",
      "WARNING: There is no reference data-flows extracted from the whole corpus, and the data-flow match score degenerates to 0. Please consider ignoring this score.\n",
      "WARNING: There is no reference data-flows extracted from the whole corpus, and the data-flow match score degenerates to 0. Please consider ignoring this score.\n",
      "WARNING: There is no reference data-flows extracted from the whole corpus, and the data-flow match score degenerates to 0. Please consider ignoring this score.\n",
      "WARNING: There is no reference data-flows extracted from the whole corpus, and the data-flow match score degenerates to 0. Please consider ignoring this score.\n",
      "WARNING: There is no reference data-flows extracted from the whole corpus, and the data-flow match score degenerates to 0. Please consider ignoring this score.\n",
      "WARNING: There is no reference data-flows extracted from the whole corpus, and the data-flow match score degenerates to 0. Please consider ignoring this score.\n",
      "WARNING: There is no reference data-flows extracted from the whole corpus, and the data-flow match score degenerates to 0. Please consider ignoring this score.\n",
      "WARNING: There is no reference data-flows extracted from the whole corpus, and the data-flow match score degenerates to 0. Please consider ignoring this score.\n",
      "WARNING: There is no reference data-flows extracted from the whole corpus, and the data-flow match score degenerates to 0. Please consider ignoring this score.\n",
      "WARNING: There is no reference data-flows extracted from the whole corpus, and the data-flow match score degenerates to 0. Please consider ignoring this score.\n",
      "WARNING: There is no reference data-flows extracted from the whole corpus, and the data-flow match score degenerates to 0. Please consider ignoring this score.\n",
      "WARNING: There is no reference data-flows extracted from the whole corpus, and the data-flow match score degenerates to 0. Please consider ignoring this score.\n"
     ]
    }
   ],
   "source": [
    "comment_report = evaluate_pred_df(comment_pred_df, target_feats, is_nl=True, parse_test=True)"
   ]
  },
  {
   "cell_type": "code",
   "execution_count": 47,
   "id": "4785136a-6ef3-4e4d-b4a4-d9ee3ca04c7d",
   "metadata": {},
   "outputs": [
    {
     "name": "stdout",
     "output_type": "stream",
     "text": [
      "codebleu_perfect : 0.05958291956305859\n",
      "codebleu_above_90 : 0.2701092353525323\n",
      "diff_bleu_avg : 0.28453211512775645\n",
      "diff_bleu_perfect : 0.05114200595829196\n",
      "diff_bleu_above_90 : 0.09384309831181728\n",
      "comment_text_scores_avg : 0.17852446160161348\n",
      "comment_text_scores_perfect : 0.07944389275074479\n",
      "comment_text_scores_above_90 : 0.11519364448857994\n",
      "parse_test_accuracy : 0.5099304865938431\n"
     ]
    }
   ],
   "source": [
    "for key, val in comment_report.items():\n",
    "    if type(val) != list and len(val.shape) == 0:\n",
    "        print(key, \":\", val)"
   ]
  },
  {
   "cell_type": "markdown",
   "id": "9874b43b-f7d8-4238-af45-60b9bf4b87a0",
   "metadata": {
    "jp-MarkdownHeadingCollapsed": true,
    "tags": []
   },
   "source": [
    "# Eval on test split from training data"
   ]
  },
  {
   "cell_type": "markdown",
   "id": "891133a5-3134-4dd8-9ead-c9a73ed5e2c3",
   "metadata": {
    "jp-MarkdownHeadingCollapsed": true,
    "tags": []
   },
   "source": [
    "## Uncomment Parallel Corpus"
   ]
  },
  {
   "cell_type": "code",
   "execution_count": null,
   "id": "8eb10efc-1e36-4e04-8d7c-1c442d6523b5",
   "metadata": {},
   "outputs": [],
   "source": [
    "# no_outlier_codet5small\n",
    "evaluate_codebleu(\"seq2seq_results/no_outlier_codet5small/codet5_preds.csv\")"
   ]
  },
  {
   "cell_type": "code",
   "execution_count": null,
   "id": "b0036e88-85d5-4de7-bb9d-68cc81de9aee",
   "metadata": {},
   "outputs": [],
   "source": [
    "# outlier_codet5small\n",
    "evaluate_codebleu(\"seq2seq_results/outlier_codet5small/codet5_preds.csv\")"
   ]
  },
  {
   "cell_type": "code",
   "execution_count": null,
   "id": "95a1cf91-ab95-48dd-a226-e8d345bed8d4",
   "metadata": {},
   "outputs": [],
   "source": []
  },
  {
   "cell_type": "code",
   "execution_count": null,
   "id": "a357a66d-82b1-4a93-9138-3ba335083de4",
   "metadata": {},
   "outputs": [],
   "source": [
    "comment_pred_df = pd.read_csv(\"seq2seq_results/outlier_codet5small/codet5_preds.csv\")"
   ]
  },
  {
   "cell_type": "code",
   "execution_count": null,
   "id": "0edefd98-31d1-467f-9f98-b28c08dd8245",
   "metadata": {},
   "outputs": [],
   "source": [
    "# excluding those input exactly same as the output\n",
    "exact_match_bool = comment_pred_df[\"inputs\"] == comment_pred_df[\"labels\"]\n",
    "cleaned_comment_pred_df = comment_pred_df.drop(comment_pred_df[exact_match_bool].index)"
   ]
  },
  {
   "cell_type": "code",
   "execution_count": null,
   "id": "d25a8ba3-0522-4ff9-b018-f6cbee27a1d8",
   "metadata": {},
   "outputs": [],
   "source": [
    "evaluate_codebleu(\"\", weights=\"0.25,0.25,0.25,0.25\", replaced_df=cleaned_comment_pred_df)"
   ]
  },
  {
   "cell_type": "code",
   "execution_count": null,
   "id": "8e6c5403-4de8-4fcc-af78-a81ea8397373",
   "metadata": {},
   "outputs": [],
   "source": [
    "comment_pred_df = cleaned_comment_pred_df"
   ]
  },
  {
   "cell_type": "code",
   "execution_count": null,
   "id": "4a8b674c-a066-467d-b76b-eede739a46cd",
   "metadata": {},
   "outputs": [],
   "source": [
    "comment_inputs = comment_pred_df[\"inputs\"].to_numpy()\n",
    "comment_labels = comment_pred_df[\"labels\"].to_numpy()\n",
    "comment_preds = comment_pred_df[\"preds\"].to_numpy()"
   ]
  },
  {
   "cell_type": "code",
   "execution_count": null,
   "id": "43b4185e-912b-446f-bcd4-13c485a246fe",
   "metadata": {},
   "outputs": [],
   "source": [
    "# getting unit score\n",
    "comment_code_scores = []\n",
    "comment_text_scores = []\n",
    "comment_diff_bleu_scores = []\n",
    "\n",
    "gold_comments = []\n",
    "pred_comments = []\n",
    "gold_comment_texts = []\n",
    "pred_comment_texts = []\n",
    "gold_comments_count = []\n",
    "pred_comments_count = []\n",
    "gold_has_comments_list = []\n",
    "pred_has_comments_list = []\n",
    "\n",
    "for idx in tqdm(range(comment_preds.shape[0])):\n",
    "    input_code = comment_inputs[idx]\n",
    "    gold = comment_labels[idx]\n",
    "    pred = comment_preds[idx]\n",
    "    refs = [\n",
    "        [gold]\n",
    "    ]\n",
    "    hyp = [pred]\n",
    "    \n",
    "    comment_code_score = get_codebleu(refs, hyp, \"python\", '0.25,0.25,0.25,0.25')\n",
    "    \n",
    "    gold_comment = comment(gold)\n",
    "    pred_comment = comment(pred)\n",
    "    gold_comment_text = \"\\n\".join(gold_comment)\n",
    "    pred_comment_text = \"\\n\".join(pred_comment)\n",
    "    gold_comment_count = len(gold_comment)\n",
    "    pred_comment_count = len(pred_comment)\n",
    "    gold_has_comment = len(gold_comment) > 0\n",
    "    pred_has_comment = len(pred_comment) > 0\n",
    "    \n",
    "    \n",
    "    \n",
    "    gold_diff_str = get_diff_str(input_code, gold)\n",
    "    pred_diff_str = get_diff_str(input_code, pred)\n",
    "    \n",
    "    comment_diff_bleu_score = 0\n",
    "    if len(pred_diff_str.split()) > 0:\n",
    "        comment_diff_bleu_score = sentence_bleu([gold_diff_str.split()], pred_diff_str.split(), auto_reweigh=True)\n",
    "    \n",
    "    comment_text_score = get_codebleu([[gold_comment_text]], [pred_comment_text], \"python\", '1,0,0,0')\n",
    "    \n",
    "    comment_code_scores += [comment_code_score]\n",
    "    comment_text_scores += [comment_text_score]\n",
    "    comment_diff_bleu_scores += [comment_diff_bleu_score]\n",
    "       \n",
    "    gold_comments += [gold_comment]\n",
    "    pred_comments += [pred_comment]\n",
    "    gold_comment_texts += [gold_comment_text]\n",
    "    pred_comment_texts += [pred_comment_text]\n",
    "    gold_comments_count += [gold_comment_count]\n",
    "    pred_comments_count += [pred_comment_count]\n",
    "    gold_has_comments_list += [gold_has_comment]\n",
    "    pred_has_comments_list += [pred_has_comment]"
   ]
  },
  {
   "cell_type": "code",
   "execution_count": null,
   "id": "0808cdcb-c92b-4c85-b8c6-02cba99e35bb",
   "metadata": {},
   "outputs": [],
   "source": [
    "comment_bleu_scores = np.array([s[\"ngram\"] for s in comment_text_scores])"
   ]
  },
  {
   "cell_type": "code",
   "execution_count": null,
   "id": "8529e210-04c5-4346-807a-d2297bebfe26",
   "metadata": {},
   "outputs": [],
   "source": [
    "comment_bleu_scores.mean()"
   ]
  },
  {
   "cell_type": "code",
   "execution_count": null,
   "id": "61e79f11-1095-49d9-9ab9-230efdb6d495",
   "metadata": {},
   "outputs": [],
   "source": [
    "\"Comment BLEU score on only comparing difference in prediction:\", np.mean(comment_diff_bleu_scores)"
   ]
  },
  {
   "cell_type": "code",
   "execution_count": null,
   "id": "ac9824b0-4798-4220-924e-8d7354dd9675",
   "metadata": {},
   "outputs": [],
   "source": [
    "comment_bleu_scores.max()"
   ]
  },
  {
   "cell_type": "code",
   "execution_count": null,
   "id": "61f168f7-b81e-4c02-80ac-0c2ceb3c8f84",
   "metadata": {},
   "outputs": [],
   "source": [
    "comment_bleu_scores[3236]"
   ]
  },
  {
   "cell_type": "code",
   "execution_count": null,
   "id": "2f7f0728-0ba9-4e4e-a86f-bc75d2204ea1",
   "metadata": {},
   "outputs": [],
   "source": [
    "idx = 188\n",
    "print_split_line(f\"{idx}-prediction\")\n",
    "print(comment_preds[idx])\n",
    "print_split_line(f\"{idx}-gold labels\")\n",
    "print(comment_labels[idx])\n",
    "print_split_line(f\"{idx}-score\")\n",
    "print(comment_bleu_scores[idx])"
   ]
  },
  {
   "cell_type": "code",
   "execution_count": null,
   "id": "200a5a9d-aaaa-44c5-9918-6e77ec28492f",
   "metadata": {},
   "outputs": [],
   "source": [
    "comment_total = len(comment_preds)\n",
    "sum(pred_has_comments_list), sum(gold_has_comments_list)"
   ]
  },
  {
   "cell_type": "code",
   "execution_count": null,
   "id": "94bcb9b2-3053-4df1-85e4-990f8822ff5a",
   "metadata": {},
   "outputs": [],
   "source": [
    "for idx in range(comment_total):\n",
    "    if comment_bleu_scores[idx] < 0.5 or comment_bleu_scores[idx] > 0.95:    \n",
    "        continue\n",
    "    \n",
    "    if not pred_has_comments_list[idx]:\n",
    "        continue\n",
    "    if not gold_has_comments_list[idx]:\n",
    "        continue\n",
    "        \n",
    "#     if \"copyright\" in pred_comment_texts[idx].lower():\n",
    "#         continue\n",
    "        \n",
    "#     if \"copyright\" in gold_comment_texts[idx].lower():\n",
    "#         continue\n",
    "        \n",
    "#     if \"license\" in pred_comment_texts[idx].lower():\n",
    "#         continue\n",
    "        \n",
    "#     if \"license\" in gold_comment_texts[idx].lower():\n",
    "#         continue\n",
    "        \n",
    "    \n",
    "        \n",
    "#     if \"\\n#\" in pred_comment_texts[idx].lower():\n",
    "#         continue\n",
    "        \n",
    "    # if \" #\" not in gold_comment_texts[idx].lower():\n",
    "    #     continue\n",
    "    \n",
    "    # if \" #\" in pred_comment_texts[idx].lower():\n",
    "    print_split_line(f\"{idx}-prediction\")\n",
    "    print(comment_preds[idx])\n",
    "    print_split_line(f\"{idx}-gold labels\")\n",
    "    print(comment_labels[idx])\n",
    "    print_split_line(f\"{idx}-score\")\n",
    "    print(comment_bleu_scores[idx])\n",
    "    \n",
    "        "
   ]
  },
  {
   "cell_type": "code",
   "execution_count": null,
   "id": "27578397-ec84-420a-b964-dadaf1da6238",
   "metadata": {},
   "outputs": [],
   "source": [
    "print(\"Accuracy of whether both do or do not have comments\")\n",
    "sum(np.array(pred_has_comments_list) == np.array(gold_has_comments_list)) / comment_total "
   ]
  },
  {
   "cell_type": "code",
   "execution_count": null,
   "id": "9590f0d4-3da4-447d-8c97-9ba435cef63d",
   "metadata": {},
   "outputs": [],
   "source": [
    "print(\"Accuracy of whether both have same comment counts\")\n",
    "sum(np.array(gold_comments_count) == np.array(pred_comments_count)) / comment_total "
   ]
  },
  {
   "cell_type": "code",
   "execution_count": null,
   "id": "347bcc10-0c95-4865-acb2-e44d95db609d",
   "metadata": {},
   "outputs": [],
   "source": [
    "np.logical_and(comment_bleu_scores == 1, np.array(pred_has_comments_list), np.array(gold_has_comments_list))"
   ]
  },
  {
   "cell_type": "code",
   "execution_count": null,
   "id": "3be5bb75-36b4-4995-8987-6e9b18354482",
   "metadata": {},
   "outputs": [],
   "source": [
    "print(\"Perfect Prediction Rate:\", sum(comment_bleu_scores == 1) / comment_total)\n",
    "print(\"Above 0.9 Comment BLEU Prediction Rate:\", sum(comment_bleu_scores >= 0.9) / comment_total)"
   ]
  },
  {
   "cell_type": "code",
   "execution_count": null,
   "id": "3e1c1efc-cbf3-48c8-a475-a496771e1ab8",
   "metadata": {},
   "outputs": [],
   "source": [
    "print(\"Perfect Prediction Rate:\", sum(np.logical_and(comment_bleu_scores == 1, np.array(pred_has_comments_list), np.array(gold_has_comments_list))) / comment_total)\n",
    "print(\"Above 0.9 Comment CodeBLEU Prediction Rate:\", sum(np.logical_and(comment_bleu_scores >= 0.9, np.array(pred_has_comments_list), np.array(gold_has_comments_list))) / comment_total)"
   ]
  },
  {
   "cell_type": "code",
   "execution_count": null,
   "id": "6572df29-ea42-4dcf-a916-bf917db9b34b",
   "metadata": {},
   "outputs": [],
   "source": [
    "\n",
    "print_split_line(\"prediction\")\n",
    "print(preds[3236])\n",
    "print_split_line(\"gold labels\")\n",
    "print(labels[3236])"
   ]
  },
  {
   "cell_type": "code",
   "execution_count": null,
   "id": "de274092-1f1a-4004-9870-3c0ceeaf56c8",
   "metadata": {},
   "outputs": [],
   "source": [
    "get_codebleu([[labels[20]]], [preds[20]], \"python\", '0.25,0.25,0.25,0.25')"
   ]
  },
  {
   "cell_type": "markdown",
   "id": "82b571c7-1d8e-4166-b45b-e6b56b659bee",
   "metadata": {
    "jp-MarkdownHeadingCollapsed": true,
    "tags": []
   },
   "source": [
    "## Removed Class Parallel Corpus - with outliers"
   ]
  },
  {
   "cell_type": "code",
   "execution_count": null,
   "id": "f6f7eaf4-5954-47dd-ac0a-9c672ab20c27",
   "metadata": {},
   "outputs": [],
   "source": [
    "# outlier_class_codet5small\n",
    "evaluate_codebleu(\"seq2seq_results/outlier_class_codet5small/codet5_preds.csv\",  '0.25,0.25,0.25,0.25')"
   ]
  },
  {
   "cell_type": "code",
   "execution_count": null,
   "id": "0bc4b396-5404-4474-9fc5-a26b4b85b8a1",
   "metadata": {
    "tags": []
   },
   "outputs": [],
   "source": [
    "class_pred_df = pd.read_csv(\"seq2seq_results/outlier_class_codet5small/codet5_preds.csv\")"
   ]
  },
  {
   "cell_type": "code",
   "execution_count": null,
   "id": "d429400d-0434-47d7-92f7-5ebc49d7cf05",
   "metadata": {},
   "outputs": [],
   "source": [
    "class_pred_df"
   ]
  },
  {
   "cell_type": "code",
   "execution_count": null,
   "id": "b0cc4f5d-fcd9-4528-9918-b316df1d2aad",
   "metadata": {},
   "outputs": [],
   "source": [
    "# excluding those input exactly same as the output\n",
    "exact_match_bool = class_pred_df[\"inputs\"] == class_pred_df[\"labels\"]\n",
    "cleaned_class_pred_df = class_pred_df.drop(class_pred_df[exact_match_bool].index)"
   ]
  },
  {
   "cell_type": "code",
   "execution_count": null,
   "id": "a3673682-bd00-4f07-833c-c7122d7e1f08",
   "metadata": {},
   "outputs": [],
   "source": [
    "class_pred_df = cleaned_class_pred_df"
   ]
  },
  {
   "cell_type": "code",
   "execution_count": null,
   "id": "12bd893b-fe2c-43fa-8b3d-97f452d298fc",
   "metadata": {},
   "outputs": [],
   "source": [
    "class_inputs = class_pred_df[\"inputs\"].to_numpy()\n",
    "class_labels = class_pred_df[\"labels\"].to_numpy()\n",
    "class_preds = class_pred_df[\"preds\"].to_numpy()"
   ]
  },
  {
   "cell_type": "code",
   "execution_count": null,
   "id": "0f05f1a3-f240-4dbd-a0c2-59db0055a76e",
   "metadata": {},
   "outputs": [],
   "source": [
    "# getting unit score\n",
    "class_scores = []\n",
    "class_diff_bleu_scores = []\n",
    "for idx in tqdm(range(class_preds.shape[0])):\n",
    "    input_code = class_inputs[idx]\n",
    "    gold = class_labels[idx]\n",
    "    pred = class_preds[idx]\n",
    "    \n",
    "    refs = [\n",
    "        [gold]\n",
    "    ]\n",
    "    hyp = [pred]\n",
    "    \n",
    "    gold_diff_str = get_diff_str(input_code, gold)\n",
    "    pred_diff_str = get_diff_str(input_code, pred)\n",
    "    \n",
    "    class_diff_bleu_score = 0\n",
    "    if len(pred_diff_str.split()) > 0:\n",
    "        class_diff_bleu_score = sentence_bleu([gold_diff_str.split()], pred_diff_str.split(), auto_reweigh=True)\n",
    "    \n",
    "    class_diff_bleu_scores += [class_diff_bleu_score]\n",
    "    \n",
    "    score = get_codebleu(refs, hyp, \"python\", '0.25,0.25,0.25,0.25')\n",
    "    class_scores += [score]"
   ]
  },
  {
   "cell_type": "code",
   "execution_count": null,
   "id": "c2f0f058-2ce5-46b2-acd6-62921cd375f3",
   "metadata": {},
   "outputs": [],
   "source": [
    "\"Class BLEU score on only comparing difference in prediction:\", np.mean(class_diff_bleu_scores)"
   ]
  },
  {
   "cell_type": "code",
   "execution_count": null,
   "id": "eea7945a-8668-4ba0-bd5d-32898ffebc74",
   "metadata": {},
   "outputs": [],
   "source": [
    "class_total = class_preds.shape[0]"
   ]
  },
  {
   "cell_type": "code",
   "execution_count": null,
   "id": "9e9b0e0a-3f36-44e0-a6a4-4539bad67f10",
   "metadata": {},
   "outputs": [],
   "source": [
    "class_code_bleus = np.array([s[\"code_bleu\"] for s in class_scores])"
   ]
  },
  {
   "cell_type": "code",
   "execution_count": null,
   "id": "30bf99ca-da29-49ec-bba8-299c39b3902e",
   "metadata": {},
   "outputs": [],
   "source": [
    "print(\"Perfect Prediction Rate:\", sum(class_code_bleus == 1) / class_total)\n",
    "print(\"Above 0.9 CodeBLEU Prediction Rate:\", sum(class_code_bleus > 0.9) / class_total)"
   ]
  },
  {
   "cell_type": "code",
   "execution_count": null,
   "id": "48869baf-3f1f-4d0b-86f1-8055bc73fb1f",
   "metadata": {},
   "outputs": [],
   "source": [
    "# a perfect case\n",
    "print_split_line(\"input\")\n",
    "print(eval_dataset[\"train\"][\"no_class_content\"][63833])\n",
    "print_split_line(\"prediction\")\n",
    "print(class_preds[0])\n",
    "print_split_line(\"gold labels\")\n",
    "print(class_labels[0])\n",
    "print_split_line(\"score\")\n",
    "print(class_scores[0])"
   ]
  },
  {
   "cell_type": "code",
   "execution_count": null,
   "id": "e4e50e41-8226-456b-a5fe-3ec23adf49ab",
   "metadata": {},
   "outputs": [],
   "source": [
    "\n",
    "input_idx = 53092\n",
    "output_idx = 4293\n",
    "print_split_line(\"input\")\n",
    "print(eval_dataset[\"train\"][\"no_class_content\"][input_idx])\n",
    "print_split_line(\"prediction\")\n",
    "print(class_preds[output_idx])\n",
    "print_split_line(\"gold labels\")\n",
    "print(class_labels[output_idx])\n",
    "print_split_line(\"score\")\n",
    "print(class_scores[output_idx])"
   ]
  },
  {
   "cell_type": "code",
   "execution_count": null,
   "id": "16b50a80-234f-4828-bfa7-1192036b4671",
   "metadata": {},
   "outputs": [],
   "source": [
    "print(eval_dataset[\"train\"][\"no_class_content\"][74459])"
   ]
  },
  {
   "cell_type": "code",
   "execution_count": null,
   "id": "cff02d4c-106f-4a22-86dd-c4faf474ad08",
   "metadata": {},
   "outputs": [],
   "source": [
    "# from transformers import RobertaTokenizer\n",
    "# tokenizer = RobertaTokenizer.from_pretrained(\"Salesforce/codet5-small\")"
   ]
  },
  {
   "cell_type": "code",
   "execution_count": null,
   "id": "60f6d47f-a148-4f66-a494-036252cc24dc",
   "metadata": {},
   "outputs": [],
   "source": [
    "# outlier_no_class_no_super_codet5small\n",
    "evaluate_codebleu(\"seq2seq_results/outlier_no_class_no_super_codet5small/codet5_preds.csv\",  '0.25,0.25,0.25,0.25')"
   ]
  },
  {
   "cell_type": "code",
   "execution_count": null,
   "id": "593f2add-c60a-4652-b8ee-cf1aedbb4908",
   "metadata": {
    "tags": []
   },
   "outputs": [],
   "source": [
    "class_super_pred_df = pd.read_csv(\"seq2seq_results/outlier_no_class_no_super_codet5small/codet5_preds.csv\")"
   ]
  },
  {
   "cell_type": "code",
   "execution_count": null,
   "id": "333081ad-af7d-4a36-89ae-b6e1bb8699f0",
   "metadata": {},
   "outputs": [],
   "source": [
    "class_super_pred_df"
   ]
  },
  {
   "cell_type": "code",
   "execution_count": null,
   "id": "9da25e38-2a70-45ce-a9cf-1e5bd0befe15",
   "metadata": {},
   "outputs": [],
   "source": [
    "# excluding those input exactly same as the output\n",
    "exact_match_bool = class_super_pred_df[\"inputs\"] == class_super_pred_df[\"labels\"]\n",
    "cleaned_class_pred_df = class_super_pred_df.drop(class_super_pred_df[exact_match_bool].index)"
   ]
  },
  {
   "cell_type": "code",
   "execution_count": null,
   "id": "85b8069f-336a-48c8-bd64-af3cf433462f",
   "metadata": {},
   "outputs": [],
   "source": [
    "class_super_pred_df = cleaned_class_pred_df"
   ]
  },
  {
   "cell_type": "code",
   "execution_count": null,
   "id": "aaed217f-53b4-4122-b702-5d33711aab76",
   "metadata": {},
   "outputs": [],
   "source": [
    "class_super_inputs = class_super_pred_df[\"inputs\"].to_numpy()\n",
    "class_super_labels = class_super_pred_df[\"labels\"].to_numpy()\n",
    "class_super_preds = class_super_pred_df[\"preds\"].to_numpy()"
   ]
  },
  {
   "cell_type": "code",
   "execution_count": null,
   "id": "6ac8ac4b-f5a7-4206-b469-ebc331cb4607",
   "metadata": {},
   "outputs": [],
   "source": [
    "# getting unit score\n",
    "class_super_scores = []\n",
    "class_super_diff_bleu_scores = []\n",
    "for idx in tqdm(range(class_super_preds.shape[0])):\n",
    "    input_code = class_super_inputs[idx]\n",
    "    gold = class_super_labels[idx]\n",
    "    pred = class_super_preds[idx]\n",
    "    \n",
    "    refs = [\n",
    "        [gold]\n",
    "    ]\n",
    "    hyp = [pred]\n",
    "    \n",
    "    gold_diff_str = get_diff_str(input_code, gold)\n",
    "    pred_diff_str = get_diff_str(input_code, pred)\n",
    "    \n",
    "    class_super_diff_bleu_score = 0\n",
    "    if len(pred_diff_str.split()) > 0:\n",
    "        class_super_diff_bleu_score = sentence_bleu([gold_diff_str.split()], pred_diff_str.split(), auto_reweigh=True)\n",
    "    \n",
    "    class_super_diff_bleu_scores += [class_super_diff_bleu_score]\n",
    "    \n",
    "    score = get_codebleu(refs, hyp, \"python\", '0.25,0.25,0.25,0.25')\n",
    "    class_super_scores += [score]"
   ]
  },
  {
   "cell_type": "code",
   "execution_count": null,
   "id": "1097e8ca-f00d-4ec3-893f-1ea4f4c50421",
   "metadata": {},
   "outputs": [],
   "source": [
    "\"Class BLEU score on only comparing difference in prediction:\", np.mean(class_super_diff_bleu_scores)"
   ]
  },
  {
   "cell_type": "code",
   "execution_count": null,
   "id": "a376df9f-81a5-42bd-9b0e-1871d2af341d",
   "metadata": {},
   "outputs": [],
   "source": [
    "class_super_total = class_super_preds.shape[0]"
   ]
  },
  {
   "cell_type": "code",
   "execution_count": null,
   "id": "8b32a2c8-142f-4fee-b7c6-2cc08db908b2",
   "metadata": {},
   "outputs": [],
   "source": [
    "class_super_code_bleus = np.array([s[\"code_bleu\"] for s in class_super_scores])"
   ]
  },
  {
   "cell_type": "code",
   "execution_count": null,
   "id": "533dbc64-d936-4a13-884f-327d1e776d89",
   "metadata": {},
   "outputs": [],
   "source": [
    "print(\"Perfect Prediction Rate:\", sum(class_super_code_bleus == 1) / class_super_total)\n",
    "print(\"Above 0.9 CodeBLEU Prediction Rate:\", sum(class_super_code_bleus > 0.9) / class_super_total)"
   ]
  },
  {
   "cell_type": "code",
   "execution_count": null,
   "id": "48fdfc4b-7c3a-4a6c-bf9c-b10108775b6b",
   "metadata": {
    "tags": []
   },
   "outputs": [],
   "source": [
    "for idx in range(class_super_total):\n",
    "    if class_super_diff_bleu_scores[idx] >= 0.8:\n",
    "        # if \"oStart\" not in pred_docstr_texts[idx]: continue\n",
    "        print_split_line(f\"{idx}-prediction\")\n",
    "        print(class_super_preds[idx])\n",
    "        print_split_line(f\"{idx}-gold labels\")\n",
    "        print(class_super_labels[idx])\n",
    "        print_split_line(f\"{idx}-score\")\n",
    "        print(class_super_diff_bleu_scores[idx])"
   ]
  },
  {
   "cell_type": "code",
   "execution_count": null,
   "id": "6bdd5cb5-044c-4d79-80fb-67952e5c352b",
   "metadata": {
    "tags": []
   },
   "outputs": [],
   "source": [
    "for idx in range(class_super_total):\n",
    "    if class_super_diff_bleu_scores[idx] < 0.3 and class_super_diff_bleu_scores[idx] > 0.1:\n",
    "        print_split_line(f\"{idx}-input\")\n",
    "        print(class_super_inputs[idx])\n",
    "        print_split_line(f\"{idx}-prediction\")\n",
    "        print(class_super_preds[idx])\n",
    "        print_split_line(f\"{idx}-gold labels\")\n",
    "        print(class_super_labels[idx])\n",
    "        print_split_line(f\"{idx}-score\")\n",
    "        print(class_super_diff_bleu_scores[idx])"
   ]
  },
  {
   "cell_type": "markdown",
   "id": "a01ecd68-a41c-4403-baf2-6f7c4dff9ca0",
   "metadata": {
    "jp-MarkdownHeadingCollapsed": true,
    "tags": []
   },
   "source": [
    "## Removed Doc String Parallel Corpus - with outliers"
   ]
  },
  {
   "cell_type": "code",
   "execution_count": null,
   "id": "f6a83418-e4e0-48ec-b3c6-c7508e893401",
   "metadata": {},
   "outputs": [],
   "source": [
    "# outlier_docstring_codet5small\n",
    "evaluate_codebleu(\"seq2seq_results/outlier_docstring_codet5small/codet5_preds.csv\",  '0.25,0.25,0.25,0.25')"
   ]
  },
  {
   "cell_type": "code",
   "execution_count": null,
   "id": "d20e1e56-3782-491c-96f7-a4031e53e642",
   "metadata": {
    "tags": []
   },
   "outputs": [],
   "source": [
    "docstr_pred_df = pd.read_csv(\"seq2seq_results/outlier_docstring_codet5small/codet5_preds.csv\")"
   ]
  },
  {
   "cell_type": "code",
   "execution_count": null,
   "id": "cdd4b674-ee7e-4672-855f-8cc499289ad3",
   "metadata": {},
   "outputs": [],
   "source": [
    "docstr_pred_df = docstr_pred_df.dropna()"
   ]
  },
  {
   "cell_type": "code",
   "execution_count": null,
   "id": "a344bf98-743b-40fa-b6ab-92d05c8738c7",
   "metadata": {},
   "outputs": [],
   "source": [
    "# excluding those input exactly same as the output\n",
    "exact_match_bool = docstr_pred_df[\"inputs\"] == docstr_pred_df[\"labels\"]\n",
    "cleaned_docstr_pred_df = docstr_pred_df.drop(docstr_pred_df[exact_match_bool].index)\n",
    "docstr_pred_df = cleaned_docstr_pred_df"
   ]
  },
  {
   "cell_type": "code",
   "execution_count": null,
   "id": "97da03fc-6ad5-4dc6-be2a-bac180bdc2e1",
   "metadata": {},
   "outputs": [],
   "source": [
    "docstr_inputs = docstr_pred_df[\"inputs\"].to_numpy()\n",
    "docstr_labels = docstr_pred_df[\"labels\"].to_numpy()\n",
    "docstr_preds = docstr_pred_df[\"preds\"].to_numpy()"
   ]
  },
  {
   "cell_type": "code",
   "execution_count": null,
   "id": "46dd773a-3d36-4082-af22-eca3113ee588",
   "metadata": {},
   "outputs": [],
   "source": [
    "import re\n",
    "def get_docstring(text):\n",
    "    regex_docstr = \"^\\s*\\'{3}([\\s\\S]*?)\\'{3}|^\\s*\\\"{3}([\\s\\S]*?)\\\"{3}\"\n",
    "    docstr_matches = re.findall(regex_docstr, text, re.M | re.S)\n",
    "    docstrs = []\n",
    "    for match in docstr_matches:\n",
    "        docstr_a, docstr_b = match\n",
    "        if docstr_a:\n",
    "            docstrs += [docstr_a]\n",
    "        else:\n",
    "            docstrs += [docstr_b]\n",
    "    return docstrs"
   ]
  },
  {
   "cell_type": "code",
   "execution_count": null,
   "id": "b4fe1693-f846-449e-b61d-fb387782570c",
   "metadata": {},
   "outputs": [],
   "source": [
    "# getting unit score\n",
    "gold_docstrs = []\n",
    "pred_docstrs = []\n",
    "gold_docstr_counts = []\n",
    "pred_docstr_counts = []\n",
    "gold_docstr_texts = []\n",
    "pred_docstr_texts = []\n",
    "gold_has_docstr_list = []\n",
    "pred_has_docstr_list = []\n",
    "\n",
    "docstr_code_scores = []\n",
    "docstr_text_scores = []\n",
    "docstr_diff_bleu_scores = []\n",
    "\n",
    "for idx in tqdm(range(docstr_preds.shape[0])):\n",
    "    input_code = docstr_inputs[idx]\n",
    "    gold = docstr_labels[idx]\n",
    "    pred = docstr_preds[idx]\n",
    "    \n",
    "    refs = [\n",
    "        [gold]\n",
    "    ]\n",
    "    hyp = [pred]\n",
    "    \n",
    "    gold_docstr = get_docstring(gold)\n",
    "    pred_docstr = get_docstring(pred)\n",
    "    gold_docstr_text = \"\\n\".join(gold_docstr)\n",
    "    pred_docstr_text = \"\\n\".join(pred_docstr)\n",
    "    gold_docstr_count = len(gold_docstr)\n",
    "    pred_docstr_count = len(pred_docstr)\n",
    "    gold_has_docstr = len(gold_docstr) > 0\n",
    "    pred_has_docstr = len(pred_docstr) > 0\n",
    "    \n",
    "    gold_diff_str = get_diff_str(input_code, gold)\n",
    "    pred_diff_str = get_diff_str(input_code, pred)\n",
    "    \n",
    "    docstr_diff_bleu_score = 0\n",
    "    if len(pred_diff_str.split()) > 0:\n",
    "        docstr_diff_bleu_score = sentence_bleu([gold_diff_str.split()], pred_diff_str.split(), auto_reweigh=True)\n",
    "        \n",
    "    docstr_code_score = get_codebleu(refs, hyp, \"python\", '0.25,0.25,0.25,0.25')\n",
    "    docstr_text_score = get_codebleu([[gold_docstr_text]], [pred_docstr_text], \"python\", '1,0,0,0')\n",
    "    \n",
    "    docstr_code_scores += [docstr_code_score]\n",
    "    docstr_text_scores += [docstr_text_score]\n",
    "    docstr_diff_bleu_scores += [docstr_diff_bleu_score]\n",
    "       \n",
    "    gold_docstrs += [gold_docstr]\n",
    "    pred_docstrs += [pred_docstr]\n",
    "    gold_docstr_texts += [gold_docstr_text]\n",
    "    pred_docstr_texts += [pred_docstr_text]\n",
    "    gold_docstr_counts += [gold_docstr_count]\n",
    "    pred_docstr_counts += [pred_docstr_count]\n",
    "    gold_has_docstr_list += [gold_has_docstr]\n",
    "    pred_has_docstr_list += [pred_has_docstr]"
   ]
  },
  {
   "cell_type": "code",
   "execution_count": null,
   "id": "30f1c0d3-2bd1-46de-a676-ee4118ac0c98",
   "metadata": {},
   "outputs": [],
   "source": [
    "docstr_text_bleus = np.array([s[\"ngram\"] for s in docstr_text_scores])"
   ]
  },
  {
   "cell_type": "code",
   "execution_count": null,
   "id": "e35344db-3345-43c3-89e2-cebb539198eb",
   "metadata": {},
   "outputs": [],
   "source": [
    "docstr_code_bleus = np.array([s[\"code_bleu\"] for s in docstr_code_scores])"
   ]
  },
  {
   "cell_type": "code",
   "execution_count": null,
   "id": "73c3530b-6571-4390-b21d-8c6b8c9934fe",
   "metadata": {},
   "outputs": [],
   "source": [
    "docstr_diff_bleu_scores = np.array(docstr_diff_bleu_scores)"
   ]
  },
  {
   "cell_type": "code",
   "execution_count": null,
   "id": "d40f6655-95f6-44a5-aa75-d5762d11b26c",
   "metadata": {},
   "outputs": [],
   "source": [
    "docstr_text_bleus.mean()"
   ]
  },
  {
   "cell_type": "code",
   "execution_count": null,
   "id": "95f87bc1-81c7-4943-8af8-cc375339bf33",
   "metadata": {},
   "outputs": [],
   "source": [
    "docstr_total = docstr_preds.shape[0]"
   ]
  },
  {
   "cell_type": "code",
   "execution_count": null,
   "id": "8230a485-cdad-4e0c-ae36-5f6eeacf9427",
   "metadata": {},
   "outputs": [],
   "source": [
    "\"Docstring BLEU score on only comparing difference in prediction:\", np.mean(docstr_diff_bleu_scores)"
   ]
  },
  {
   "cell_type": "code",
   "execution_count": null,
   "id": "bf6a2f11-ae18-4079-84e7-ef4f0556c794",
   "metadata": {},
   "outputs": [],
   "source": [
    "print(\"Perfect Prediction Rate:\", sum(docstr_text_bleus == 1) / docstr_total)\n",
    "print(\"Above 0.9 CodeBLEU Prediction Rate:\", sum(docstr_text_bleus > 0.9) / docstr_total)"
   ]
  },
  {
   "cell_type": "code",
   "execution_count": null,
   "id": "2e58f228-b8b3-4d0b-a012-a26447c5aae8",
   "metadata": {},
   "outputs": [],
   "source": [
    "print(\"Perfect Prediction Rate:\", sum(docstr_diff_bleu_scores == 1) / docstr_total)\n",
    "print(\"Above 0.9 CodeBLEU Prediction Rate:\", sum(docstr_diff_bleu_scores > 0.9) / docstr_total)"
   ]
  },
  {
   "cell_type": "code",
   "execution_count": null,
   "id": "bf8b9e7b-87a0-43f1-9ca1-e21e88a37fd1",
   "metadata": {
    "tags": []
   },
   "outputs": [],
   "source": [
    "idx = 67\n",
    "print_split_line(f\"{idx}-prediction\")\n",
    "print(docstr_preds[idx])\n",
    "print_split_line(f\"{idx}-gold labels\")\n",
    "print(docstr_labels[idx])\n",
    "print_split_line(f\"{idx}-score\")\n",
    "print(docstr_text_bleus[idx])"
   ]
  },
  {
   "cell_type": "code",
   "execution_count": null,
   "id": "4f8b0b76-340d-41d7-8aff-43f7d555511e",
   "metadata": {
    "tags": []
   },
   "outputs": [],
   "source": [
    "for idx in range(docstr_total):\n",
    "    if docstr_text_bleus[idx] >= 0.5:\n",
    "        if \"oStart\" not in pred_docstr_texts[idx]: continue\n",
    "        print_split_line(f\"{idx}-prediction\")\n",
    "        print(pred_docstr_texts[idx])\n",
    "        print_split_line(f\"{idx}-gold labels\")\n",
    "        print(gold_docstr_texts[idx])\n",
    "        print_split_line(f\"{idx}-score\")\n",
    "        print(docstr_text_bleus[idx])"
   ]
  },
  {
   "cell_type": "code",
   "execution_count": null,
   "id": "731f31e4-138c-4e53-a474-569e03f2bda9",
   "metadata": {},
   "outputs": [],
   "source": [
    "# outlier_updated_docstring_codet5small\n",
    "evaluate_codebleu(\"seq2seq_results/outlier_updated_docstring_codet5small/codet5_preds.csv\")"
   ]
  },
  {
   "cell_type": "code",
   "execution_count": null,
   "id": "9d663ac9-1ad2-4199-8248-53202bf8aa86",
   "metadata": {
    "tags": []
   },
   "outputs": [],
   "source": [
    "updated_docstr_pred_df = pd.read_csv(\"seq2seq_results/outlier_updated_docstring_codet5small/codet5_preds.csv\")"
   ]
  },
  {
   "cell_type": "code",
   "execution_count": null,
   "id": "e203a64e-4adf-49eb-9061-a7030b545db6",
   "metadata": {},
   "outputs": [],
   "source": [
    "# excluding those input exactly same as the output\n",
    "exact_match_bool = updated_docstr_pred_df[\"inputs\"] == updated_docstr_pred_df[\"labels\"]\n",
    "cleaned_docstr_pred_df = updated_docstr_pred_df.drop(updated_docstr_pred_df[exact_match_bool].index)\n",
    "updated_docstr_pred_df = cleaned_docstr_pred_df"
   ]
  },
  {
   "cell_type": "code",
   "execution_count": null,
   "id": "d31e66e5-3e09-400a-a208-1e749d03ea11",
   "metadata": {},
   "outputs": [],
   "source": [
    "updated_docstr_inputs = updated_docstr_pred_df[\"inputs\"].to_numpy()\n",
    "updated_docstr_labels = updated_docstr_pred_df[\"labels\"].to_numpy()\n",
    "updated_docstr_preds = updated_docstr_pred_df[\"preds\"].to_numpy()"
   ]
  },
  {
   "cell_type": "code",
   "execution_count": null,
   "id": "342302ed-bd4d-491a-ba45-011fc67b0bfe",
   "metadata": {},
   "outputs": [],
   "source": [
    "# getting unit score\n",
    "gold_docstrs = []\n",
    "pred_docstrs = []\n",
    "gold_docstr_counts = []\n",
    "pred_docstr_counts = []\n",
    "gold_docstr_texts = []\n",
    "pred_docstr_texts = []\n",
    "gold_has_docstr_list = []\n",
    "pred_has_docstr_list = []\n",
    "\n",
    "updated_docstr_code_scores = []\n",
    "updated_docstr_text_scores = []\n",
    "updated_docstr_diff_bleu_scores = []\n",
    "\n",
    "for idx in tqdm(range(docstr_preds.shape[0])):\n",
    "    input_code = docstr_inputs[idx]\n",
    "    gold = docstr_labels[idx]\n",
    "    pred = docstr_preds[idx]\n",
    "    \n",
    "    refs = [\n",
    "        [gold]\n",
    "    ]\n",
    "    hyp = [pred]\n",
    "    \n",
    "    gold_docstr = get_docstring(gold)\n",
    "    pred_docstr = get_docstring(pred)\n",
    "    gold_docstr_text = \"\\n\".join(gold_docstr)\n",
    "    pred_docstr_text = \"\\n\".join(pred_docstr)\n",
    "    gold_docstr_count = len(gold_docstr)\n",
    "    pred_docstr_count = len(pred_docstr)\n",
    "    gold_has_docstr = len(gold_docstr) > 0\n",
    "    pred_has_docstr = len(pred_docstr) > 0\n",
    "    \n",
    "    gold_diff_str = get_diff_str(input_code, gold)\n",
    "    pred_diff_str = get_diff_str(input_code, pred)\n",
    "    \n",
    "    docstr_diff_bleu_score = 0\n",
    "    if len(pred_diff_str.split()) > 0:\n",
    "        docstr_diff_bleu_score = sentence_bleu([gold_diff_str.split()], pred_diff_str.split(), auto_reweigh=True)\n",
    "        \n",
    "    docstr_code_score = get_codebleu(refs, hyp, \"python\", '0.25,0.25,0.25,0.25')\n",
    "    docstr_text_score = get_codebleu([[gold_docstr_text]], [pred_docstr_text], \"python\", '1,0,0,0')\n",
    "    \n",
    "    updated_docstr_code_scores += [docstr_code_score]\n",
    "    updated_docstr_text_scores += [docstr_text_score]\n",
    "    updated_docstr_diff_bleu_scores += [docstr_diff_bleu_score]\n",
    "       \n",
    "    gold_docstrs += [gold_docstr]\n",
    "    pred_docstrs += [pred_docstr]\n",
    "    gold_docstr_texts += [gold_docstr_text]\n",
    "    pred_docstr_texts += [pred_docstr_text]\n",
    "    gold_docstr_counts += [gold_docstr_count]\n",
    "    pred_docstr_counts += [pred_docstr_count]\n",
    "    gold_has_docstr_list += [gold_has_docstr]\n",
    "    pred_has_docstr_list += [pred_has_docstr]"
   ]
  },
  {
   "cell_type": "code",
   "execution_count": null,
   "id": "5c26c14a-9849-4a57-aaa3-76dcf69dd365",
   "metadata": {},
   "outputs": [],
   "source": [
    "updated_docstr_text_bleus = np.array([s[\"ngram\"] for s in updated_docstr_text_scores])"
   ]
  },
  {
   "cell_type": "code",
   "execution_count": null,
   "id": "a5f46113-3d5c-4eb8-9f8b-a20b401c9a5a",
   "metadata": {},
   "outputs": [],
   "source": [
    "updated_docstr_code_bleus = np.array([s[\"code_bleu\"] for s in updated_docstr_code_scores])"
   ]
  },
  {
   "cell_type": "code",
   "execution_count": null,
   "id": "172a77d7-74f3-4d63-9d95-65fc6235b87f",
   "metadata": {},
   "outputs": [],
   "source": [
    "updated_docstr_text_bleus.mean()"
   ]
  },
  {
   "cell_type": "code",
   "execution_count": null,
   "id": "1280e852-468a-4434-aaaa-7281141f60bc",
   "metadata": {},
   "outputs": [],
   "source": [
    "updated_docstr_diff_bleu_scores = np.array(updated_docstr_diff_bleu_scores)"
   ]
  },
  {
   "cell_type": "code",
   "execution_count": null,
   "id": "04fd4310-55fd-40d1-a32e-d202dd2865bf",
   "metadata": {},
   "outputs": [],
   "source": [
    "\"Updated Docstring BLEU score on only comparing difference in prediction:\", np.mean(updated_docstr_diff_bleu_scores)"
   ]
  },
  {
   "cell_type": "code",
   "execution_count": null,
   "id": "eddd82c3-64ad-456f-a0d0-5079c80a9e26",
   "metadata": {},
   "outputs": [],
   "source": [
    "updated_docstr_total = updated_docstr_preds.shape[0]"
   ]
  },
  {
   "cell_type": "code",
   "execution_count": null,
   "id": "62b4fbda-3016-4b90-8b8a-b36440ff60c5",
   "metadata": {},
   "outputs": [],
   "source": [
    "print(\"Perfect Prediction Rate:\", sum(updated_docstr_text_bleus == 1) / updated_docstr_total)\n",
    "print(\"Above 0.9 CodeBLEU Prediction Rate:\", sum(updated_docstr_text_bleus > 0.9) / updated_docstr_total)"
   ]
  },
  {
   "cell_type": "code",
   "execution_count": null,
   "id": "e4fafbc4-a20d-4384-bec3-6d73ec5c7680",
   "metadata": {},
   "outputs": [],
   "source": [
    "print(\"Perfect Prediction Rate:\", sum(updated_docstr_diff_bleu_scores == 1) / updated_docstr_total)\n",
    "print(\"Above 0.9 CodeBLEU Prediction Rate:\", sum(updated_docstr_diff_bleu_scores > 0.9) / updated_docstr_total)"
   ]
  },
  {
   "cell_type": "code",
   "execution_count": null,
   "id": "3dcc88c0-1250-40ad-8685-727b787aff2e",
   "metadata": {},
   "outputs": [],
   "source": [
    "for idx in range(docstr_total):\n",
    "    if updated_docstr_diff_bleu_scores[idx] >= 0.0 and updated_docstr_diff_bleu_scores[idx] < 0.1:\n",
    "        print_split_line(f\"{idx}-input\")\n",
    "        print(updated_docstr_inputs[idx])\n",
    "        print_split_line(f\"{idx}-prediction\")\n",
    "        print(updated_docstr_preds[idx])\n",
    "        print_split_line(f\"{idx}-gold labels\")\n",
    "        print(updated_docstr_labels[idx])\n",
    "        print_split_line(f\"{idx}-score\")\n",
    "        print(updated_docstr_diff_bleu_scores[idx])"
   ]
  },
  {
   "cell_type": "markdown",
   "id": "23023b11-6979-4340-98bb-22b11e81d8a2",
   "metadata": {
    "jp-MarkdownHeadingCollapsed": true,
    "tags": []
   },
   "source": [
    "## Casing"
   ]
  },
  {
   "cell_type": "code",
   "execution_count": null,
   "id": "4c26d2b2-bede-423b-8122-75c29fb1b830",
   "metadata": {},
   "outputs": [],
   "source": [
    "# outlier_casing_codet5small\n",
    "evaluate_codebleu(\"seq2seq_results/outlier_casing_codet5small/codet5_preds.csv\",  '0.25,0.25,0.25,0.25')"
   ]
  },
  {
   "cell_type": "code",
   "execution_count": null,
   "id": "0170474c-fd38-4420-a716-6ea941ef5e2f",
   "metadata": {
    "tags": []
   },
   "outputs": [],
   "source": [
    "casing_pred_df = pd.read_csv(\"seq2seq_results/outlier_casing_codet5small/codet5_preds.csv\")"
   ]
  },
  {
   "cell_type": "code",
   "execution_count": null,
   "id": "fffdd6bd-73c6-4baa-87ea-281b9447d5d6",
   "metadata": {},
   "outputs": [],
   "source": [
    "# excluding those input exactly same as the output\n",
    "exact_match_bool = casing_pred_df[\"inputs\"] == casing_pred_df[\"labels\"]\n",
    "cleaned_casing_pred_df = casing_pred_df.drop(casing_pred_df[exact_match_bool].index)"
   ]
  },
  {
   "cell_type": "code",
   "execution_count": null,
   "id": "a785a428-52d6-4f76-a674-57f0b9ec538a",
   "metadata": {},
   "outputs": [],
   "source": [
    "evaluate_codebleu(\"\",  '0.25,0.25,0.25,0.25', replaced_df=cleaned_casing_pred_df)"
   ]
  },
  {
   "cell_type": "code",
   "execution_count": null,
   "id": "db8d61f8-51f0-4204-9fff-dfc2cf936dbb",
   "metadata": {},
   "outputs": [],
   "source": [
    "casing_pred_df = cleaned_casing_pred_df"
   ]
  },
  {
   "cell_type": "code",
   "execution_count": null,
   "id": "80c3ce31-a379-427f-9180-81f2fabad05a",
   "metadata": {},
   "outputs": [],
   "source": [
    "casing_inputs = casing_pred_df[\"inputs\"].to_numpy()\n",
    "casing_labels = casing_pred_df[\"labels\"].to_numpy()\n",
    "casing_preds = casing_pred_df[\"preds\"].to_numpy()"
   ]
  },
  {
   "cell_type": "code",
   "execution_count": null,
   "id": "166f45d1-2a22-4b26-8be8-6e6fd2e5c625",
   "metadata": {},
   "outputs": [],
   "source": [
    "# getting unit score\n",
    "\n",
    "# input_casing = []\n",
    "# gold_casing = []\n",
    "# pred_casing = []\n",
    "\n",
    "# gold_docstrs = []\n",
    "# pred_docstrs = []\n",
    "# gold_docstr_counts = []\n",
    "# pred_docstr_counts = []\n",
    "# gold_docstr_texts = []\n",
    "# pred_docstr_texts = []\n",
    "# gold_has_docstr_list = []\n",
    "# pred_has_docstr_list = []\n",
    "\n",
    "casing_code_scores = []\n",
    "casing_diff_bleu_scores = []\n",
    "# docstr_text_scores = []\n",
    "\n",
    "for idx in tqdm(range(casing_preds.shape[0])):\n",
    "    input_code = casing_inputs[idx]\n",
    "    gold = casing_labels[idx]\n",
    "    pred = casing_preds[idx]\n",
    "    \n",
    "    refs = [\n",
    "        [gold]\n",
    "    ]\n",
    "    hyp = [pred]\n",
    "    \n",
    "    gold_diff_str = get_diff_str(input_code, gold)\n",
    "    pred_diff_str = get_diff_str(input_code, pred)\n",
    "    \n",
    "    casing_diff_bleu_score = 0\n",
    "    if len(pred_diff_str.split()) > 0:\n",
    "        casing_diff_bleu_score = sentence_bleu([gold_diff_str.split()], pred_diff_str.split(), auto_reweigh=True)\n",
    "    # gold_docstr = get_docstring(gold)\n",
    "    # pred_docstr = get_docstring(pred)\n",
    "    # gold_docstr_text = \"\\n\".join(gold_docstr)\n",
    "    # pred_docstr_text = \"\\n\".join(pred_docstr)\n",
    "    # gold_docstr_count = len(gold_docstr)\n",
    "    # pred_docstr_count = len(pred_docstr)\n",
    "    # gold_has_docstr = len(gold_docstr) > 0\n",
    "    # pred_has_docstr = len(pred_docstr) > 0\n",
    "    \n",
    "    \n",
    "    casing_code_score = get_codebleu(refs, hyp, \"python\", '0.25,0.25,0.25,0.25')\n",
    "    # docstr_text_score = get_codebleu([[gold_docstr_text]], [pred_docstr_text], \"python\", '1,0,0,0')\n",
    "    \n",
    "    casing_code_scores += [casing_code_score]\n",
    "    casing_diff_bleu_scores += [casing_diff_bleu_score]\n",
    "    # docstr_text_scores += [docstr_text_score]\n",
    "       \n",
    "    # gold_docstrs += [gold_docstr]\n",
    "    # pred_docstrs += [pred_docstr]\n",
    "    # gold_docstr_texts += [gold_docstr_text]\n",
    "    # pred_docstr_texts += [pred_docstr_text]\n",
    "    # gold_docstr_counts += [gold_docstr_count]\n",
    "    # pred_docstr_counts += [pred_docstr_count]\n",
    "    # gold_has_docstr_list += [gold_has_docstr]\n",
    "    # pred_has_docstr_list += [pred_has_docstr]"
   ]
  },
  {
   "cell_type": "code",
   "execution_count": null,
   "id": "a21acd58-399a-410a-bc1c-24181f9183c7",
   "metadata": {},
   "outputs": [],
   "source": [
    "\"Casing BLEU score on only comparing difference in prediction:\", np.mean(casing_diff_bleu_scores)"
   ]
  },
  {
   "cell_type": "code",
   "execution_count": null,
   "id": "7b5e76bd-1e1e-4999-a4cf-0b1c6ad51bc8",
   "metadata": {},
   "outputs": [],
   "source": [
    "# docstr_text_bleus = np.array([s[\"ngram\"] for s in docstr_text_scores])"
   ]
  },
  {
   "cell_type": "code",
   "execution_count": null,
   "id": "fb5d0a4d-38d1-4c35-aa97-d66982b92140",
   "metadata": {},
   "outputs": [],
   "source": [
    "casing_code_bleus = np.array([s[\"code_bleu\"] for s in casing_code_scores])"
   ]
  },
  {
   "cell_type": "code",
   "execution_count": null,
   "id": "9b4bdf31-72d4-49ac-be22-43c976791deb",
   "metadata": {},
   "outputs": [],
   "source": [
    "# docstr_text_bleus.mean()"
   ]
  },
  {
   "cell_type": "code",
   "execution_count": null,
   "id": "92e6cfab-5070-4c59-8d7d-bcb3bcf1a31c",
   "metadata": {},
   "outputs": [],
   "source": [
    "casing_total = casing_preds.shape[0]"
   ]
  },
  {
   "cell_type": "code",
   "execution_count": null,
   "id": "08c404bc-e032-43ae-96aa-0e818b976f13",
   "metadata": {},
   "outputs": [],
   "source": [
    "print(\"Perfect Prediction Rate:\", sum(casing_code_bleus == 1) / casing_total)\n",
    "print(\"Above 0.9 CodeBLEU Prediction Rate:\", sum(casing_code_bleus > 0.9) / casing_total)"
   ]
  },
  {
   "cell_type": "code",
   "execution_count": null,
   "id": "38c04d94-a715-45d7-baa8-ebf217e80ac6",
   "metadata": {
    "tags": []
   },
   "outputs": [],
   "source": [
    "idx = 531\n",
    "print_split_line(f\"{idx}-prediction\")\n",
    "print(casing_preds[idx])\n",
    "print_split_line(f\"{idx}-gold labels\")\n",
    "print(casing_labels[idx])\n",
    "print_split_line(f\"{idx}-score\")\n",
    "print(casing_code_bleus[idx])"
   ]
  },
  {
   "cell_type": "code",
   "execution_count": null,
   "id": "0193350e-7d88-4dc3-a9bf-e2c0a7ff9197",
   "metadata": {},
   "outputs": [],
   "source": []
  },
  {
   "cell_type": "code",
   "execution_count": null,
   "id": "a06f5faf-b57a-4e19-ada2-d1963300a94b",
   "metadata": {
    "tags": []
   },
   "outputs": [],
   "source": [
    "for idx in range(casing_total):\n",
    "    if casing_code_bleus[idx] < 0.6 and casing_code_bleus[idx] > 0.5:\n",
    "        print_split_line(f\"{idx}-input\")\n",
    "        print(casing_inputs[idx])\n",
    "        print_split_line(f\"{idx}-prediction\")\n",
    "        print(casing_preds[idx])\n",
    "        print_split_line(f\"{idx}-gold labels\")\n",
    "        print(casing_labels[idx])\n",
    "        print_split_line(f\"{idx}-score\")\n",
    "        print(casing_code_bleus[idx])"
   ]
  },
  {
   "cell_type": "code",
   "execution_count": null,
   "id": "12e9334e-5d66-4236-9fc5-721686ab7d28",
   "metadata": {},
   "outputs": [],
   "source": []
  },
  {
   "cell_type": "code",
   "execution_count": null,
   "id": "564cd0dd-42a1-4af0-826e-4df8bcf6b487",
   "metadata": {},
   "outputs": [],
   "source": []
  },
  {
   "cell_type": "markdown",
   "id": "bc4d9f14-a0b9-466c-8416-515345d22ce5",
   "metadata": {
    "jp-MarkdownHeadingCollapsed": true,
    "tags": []
   },
   "source": [
    "## List Comprehension"
   ]
  },
  {
   "cell_type": "code",
   "execution_count": null,
   "id": "cc2b922e-0c82-4dba-ae70-1b4589e5ebdb",
   "metadata": {},
   "outputs": [],
   "source": [
    "# outlier_comp_codet5small\n",
    "evaluate_codebleu(\"seq2seq_results/outlier_comp_codet5small/codet5_preds.csv\",  '0.25,0.25,0.25,0.25')"
   ]
  },
  {
   "cell_type": "code",
   "execution_count": null,
   "id": "fc4ff9f4-4fa5-4be7-9230-cdd6b4b67cd1",
   "metadata": {
    "tags": []
   },
   "outputs": [],
   "source": [
    "comp_pred_df = pd.read_csv(\"seq2seq_results/outlier_comp_codet5small/codet5_preds.csv\")"
   ]
  },
  {
   "cell_type": "code",
   "execution_count": null,
   "id": "055d452b-b991-41c3-81cf-fd404ce86324",
   "metadata": {},
   "outputs": [],
   "source": [
    "# excluding those input exactly same as the output\n",
    "exact_match_bool = comp_pred_df[\"inputs\"] == comp_pred_df[\"labels\"]\n",
    "cleaned_comp_pred_df = comp_pred_df.drop(comp_pred_df[exact_match_bool].index)"
   ]
  },
  {
   "cell_type": "code",
   "execution_count": null,
   "id": "32af7d74-beb7-4cfa-82bf-7ca4c3ef8a23",
   "metadata": {},
   "outputs": [],
   "source": [
    "evaluate_codebleu(\"\",  '0.25,0.25,0.25,0.25', replaced_df=cleaned_comp_pred_df)"
   ]
  },
  {
   "cell_type": "code",
   "execution_count": null,
   "id": "d885482c-0ae9-4c4a-8da0-e25bbbdf946d",
   "metadata": {},
   "outputs": [],
   "source": [
    "comp_pred_df = cleaned_comp_pred_df"
   ]
  },
  {
   "cell_type": "code",
   "execution_count": null,
   "id": "b728d1be-fb49-444f-86d1-45b10dcfe719",
   "metadata": {},
   "outputs": [],
   "source": [
    "comp_inputs = comp_pred_df[\"inputs\"].to_numpy()\n",
    "comp_labels = comp_pred_df[\"labels\"].to_numpy()\n",
    "comp_preds = comp_pred_df[\"preds\"].to_numpy()"
   ]
  },
  {
   "cell_type": "code",
   "execution_count": null,
   "id": "53155ce8-e73e-4e08-bed8-8b8fe017582f",
   "metadata": {},
   "outputs": [],
   "source": [
    "# getting unit score\n",
    "\n",
    "# input_casing = []\n",
    "# gold_casing = []\n",
    "# pred_casing = []\n",
    "\n",
    "# gold_docstrs = []\n",
    "# pred_docstrs = []\n",
    "# gold_docstr_counts = []\n",
    "# pred_docstr_counts = []\n",
    "# gold_docstr_texts = []\n",
    "# pred_docstr_texts = []\n",
    "# gold_has_docstr_list = []\n",
    "# pred_has_docstr_list = []\n",
    "\n",
    "comp_code_scores = []\n",
    "comp_diff_bleu_scores = []\n",
    "# docstr_text_scores = []\n",
    "\n",
    "for idx in tqdm(range(comp_preds.shape[0])):\n",
    "    gold = comp_labels[idx]\n",
    "    pred = comp_preds[idx]\n",
    "    \n",
    "    refs = [\n",
    "        [gold]\n",
    "    ]\n",
    "    hyp = [pred]\n",
    "    \n",
    "    input_code = comp_inputs[idx]\n",
    "    \n",
    "    gold_diff_str = get_diff_str(input_code, gold)\n",
    "    pred_diff_str = get_diff_str(input_code, pred)\n",
    "    \n",
    "    comp_diff_bleu_score = 0\n",
    "    if len(pred_diff_str.split()) > 0:\n",
    "        comp_diff_bleu_score = sentence_bleu([gold_diff_str.split()], pred_diff_str.split(), auto_reweigh=True)\n",
    "    # gold_docstr = get_docstring(gold)\n",
    "    # pred_docstr = get_docstring(pred)\n",
    "    # gold_docstr_text = \"\\n\".join(gold_docstr)\n",
    "    # pred_docstr_text = \"\\n\".join(pred_docstr)\n",
    "    # gold_docstr_count = len(gold_docstr)\n",
    "    # pred_docstr_count = len(pred_docstr)\n",
    "    # gold_has_docstr = len(gold_docstr) > 0\n",
    "    # pred_has_docstr = len(pred_docstr) > 0\n",
    "    \n",
    "    \n",
    "    comp_code_score = get_codebleu(refs, hyp, \"python\", '0.25,0.25,0.25,0.25')\n",
    "    # docstr_text_score = get_codebleu([[gold_docstr_text]], [pred_docstr_text], \"python\", '1,0,0,0')\n",
    "    \n",
    "    comp_code_scores += [comp_code_score]\n",
    "    comp_diff_bleu_scores += [comp_diff_bleu_score]\n",
    "    # docstr_text_scores += [docstr_text_score]\n",
    "       \n",
    "    # gold_docstrs += [gold_docstr]\n",
    "    # pred_docstrs += [pred_docstr]\n",
    "    # gold_docstr_texts += [gold_docstr_text]\n",
    "    # pred_docstr_texts += [pred_docstr_text]\n",
    "    # gold_docstr_counts += [gold_docstr_count]\n",
    "    # pred_docstr_counts += [pred_docstr_count]\n",
    "    # gold_has_docstr_list += [gold_has_docstr]\n",
    "    # pred_has_docstr_list += [pred_has_docstr]"
   ]
  },
  {
   "cell_type": "code",
   "execution_count": null,
   "id": "e3172c7c-6af2-4905-96b5-203b4a380eda",
   "metadata": {},
   "outputs": [],
   "source": [
    "\"List Comp BLEU score on only comparing difference in prediction:\", np.mean(comp_diff_bleu_scores)"
   ]
  },
  {
   "cell_type": "code",
   "execution_count": null,
   "id": "62613567-62ca-410e-95ad-d73e74e5e7cb",
   "metadata": {},
   "outputs": [],
   "source": [
    "# docstr_text_bleus = np.array([s[\"ngram\"] for s in docstr_text_scores])"
   ]
  },
  {
   "cell_type": "code",
   "execution_count": null,
   "id": "0688269d-429f-434f-a9b7-9d0c49191be5",
   "metadata": {},
   "outputs": [],
   "source": [
    "comp_code_bleus = np.array([s[\"code_bleu\"] for s in comp_code_scores])"
   ]
  },
  {
   "cell_type": "code",
   "execution_count": null,
   "id": "b09916d5-f5bb-49f6-9080-e6a4b772fbfb",
   "metadata": {},
   "outputs": [],
   "source": [
    "# docstr_text_bleus.mean()"
   ]
  },
  {
   "cell_type": "code",
   "execution_count": null,
   "id": "6d47c01e-bffd-4b93-9a42-51280b2591f6",
   "metadata": {},
   "outputs": [],
   "source": [
    "comp_total = comp_preds.shape[0]"
   ]
  },
  {
   "cell_type": "code",
   "execution_count": null,
   "id": "36635d16-f945-4f2a-a10b-ee9092d4c1fc",
   "metadata": {},
   "outputs": [],
   "source": [
    "print(\"Perfect Prediction Rate:\", sum(comp_code_bleus == 1) / comp_total)\n",
    "print(\"Above 0.9 CodeBLEU Prediction Rate:\", sum(comp_code_bleus > 0.9) / comp_total)"
   ]
  },
  {
   "cell_type": "code",
   "execution_count": null,
   "id": "866a57ce-1fb9-45ad-9b55-787395747321",
   "metadata": {
    "tags": []
   },
   "outputs": [],
   "source": [
    "# idx = 760\n",
    "# print_split_line(f\"{idx}-prediction\")\n",
    "# print(docstr_preds[idx])\n",
    "# print_split_line(f\"{idx}-gold labels\")\n",
    "# print(docstr_labels[idx])\n",
    "# print_split_line(f\"{idx}-score\")\n",
    "# print(docstr_text_bleus[idx])"
   ]
  },
  {
   "cell_type": "code",
   "execution_count": null,
   "id": "37b21777-fc2e-4442-8768-9713e85277df",
   "metadata": {},
   "outputs": [],
   "source": [
    "comp_code_bleus.max()"
   ]
  },
  {
   "cell_type": "code",
   "execution_count": null,
   "id": "91dc4005-f71e-4cf0-8372-3a310d150a92",
   "metadata": {},
   "outputs": [],
   "source": []
  },
  {
   "cell_type": "code",
   "execution_count": null,
   "id": "97b62447-bfbb-43dd-8522-974946cf5ada",
   "metadata": {
    "tags": []
   },
   "outputs": [],
   "source": [
    "for idx in range(comp_total):\n",
    "    if comp_code_bleus[idx] == 1: continue\n",
    "    if comp_code_bleus[idx] >= 0.7: continue\n",
    "    if comp_code_bleus[idx] < 0.4: continue\n",
    "    print_split_line(f\"{idx}-input\")\n",
    "    print(comp_inputs[idx])\n",
    "    print_split_line(f\"{idx}-prediction\")\n",
    "    print(comp_preds[idx])\n",
    "    print_split_line(f\"{idx}-gold labels\")\n",
    "    print(comp_labels[idx])\n",
    "    print_split_line(f\"{idx}-score\")\n",
    "    print(comp_code_bleus[idx])"
   ]
  },
  {
   "cell_type": "code",
   "execution_count": null,
   "id": "a9cafcfb-b718-4f0e-9f08-fb614084e1b9",
   "metadata": {},
   "outputs": [],
   "source": []
  },
  {
   "cell_type": "code",
   "execution_count": null,
   "id": "48c732ac-fbb8-4123-95dd-37a5d1e5f890",
   "metadata": {},
   "outputs": [],
   "source": [
    "# outlier_fixed_list_comp_codet5small\n",
    "evaluate_codebleu(\"seq2seq_results/outlier_fixed_list_comp_codet5small/codet5_preds.csv\",  '0.25,0.25,0.25,0.25')"
   ]
  },
  {
   "cell_type": "code",
   "execution_count": null,
   "id": "aca923b4-162a-405e-9ad8-2782901b0f0b",
   "metadata": {
    "tags": []
   },
   "outputs": [],
   "source": [
    "fixed_comp_pred_df = pd.read_csv(\"seq2seq_results/outlier_fixed_list_comp_codet5small/codet5_preds.csv\")"
   ]
  },
  {
   "cell_type": "code",
   "execution_count": null,
   "id": "edb014f9-5088-44b4-8a11-f4e1fec39733",
   "metadata": {},
   "outputs": [],
   "source": [
    "# excluding those input exactly same as the output\n",
    "exact_match_bool = fixed_comp_pred_df[\"inputs\"] == fixed_comp_pred_df[\"labels\"]\n",
    "cleaned_comp_pred_df = fixed_comp_pred_df.drop(fixed_comp_pred_df[exact_match_bool].index)"
   ]
  },
  {
   "cell_type": "code",
   "execution_count": null,
   "id": "f45d8598-0760-4b06-b7fc-d27a35a398e7",
   "metadata": {},
   "outputs": [],
   "source": [
    "evaluate_codebleu(\"\",  '0.25,0.25,0.25,0.25', replaced_df=cleaned_comp_pred_df)"
   ]
  },
  {
   "cell_type": "code",
   "execution_count": null,
   "id": "40ba32bd-b760-4151-9748-72e2eda40c75",
   "metadata": {},
   "outputs": [],
   "source": [
    "fixed_comp_pred_df = cleaned_comp_pred_df"
   ]
  },
  {
   "cell_type": "code",
   "execution_count": null,
   "id": "74be7ed7-2f32-42f4-897f-fa72e190d30d",
   "metadata": {},
   "outputs": [],
   "source": [
    "fixed_comp_inputs = fixed_comp_pred_df[\"inputs\"].to_numpy()\n",
    "fixed_comp_labels = fixed_comp_pred_df[\"labels\"].to_numpy()\n",
    "fixed_comp_preds = fixed_comp_pred_df[\"preds\"].to_numpy()"
   ]
  },
  {
   "cell_type": "code",
   "execution_count": null,
   "id": "5fdf3a39-8383-4cad-b824-ff5ff4be2c7c",
   "metadata": {},
   "outputs": [],
   "source": [
    "# getting unit score\n",
    "\n",
    "# input_casing = []\n",
    "# gold_casing = []\n",
    "# pred_casing = []\n",
    "\n",
    "# gold_docstrs = []\n",
    "# pred_docstrs = []\n",
    "# gold_docstr_counts = []\n",
    "# pred_docstr_counts = []\n",
    "# gold_docstr_texts = []\n",
    "# pred_docstr_texts = []\n",
    "# gold_has_docstr_list = []\n",
    "# pred_has_docstr_list = []\n",
    "\n",
    "fixed_comp_code_scores = []\n",
    "fixed_comp_diff_bleu_scores = []\n",
    "# docstr_text_scores = []\n",
    "\n",
    "for idx in tqdm(range(fixed_comp_preds.shape[0])):\n",
    "    gold = fixed_comp_labels[idx]\n",
    "    pred = fixed_comp_preds[idx]\n",
    "    \n",
    "    refs = [\n",
    "        [gold]\n",
    "    ]\n",
    "    hyp = [pred]\n",
    "    \n",
    "    input_code = fixed_comp_inputs[idx]\n",
    "    \n",
    "    gold_diff_str = get_diff_str(input_code, gold)\n",
    "    pred_diff_str = get_diff_str(input_code, pred)\n",
    "    \n",
    "    fixed_comp_diff_bleu_score = 0\n",
    "    if len(pred_diff_str.split()) > 0:\n",
    "        fixed_comp_diff_bleu_score = sentence_bleu([gold_diff_str.split()], pred_diff_str.split(), auto_reweigh=True)\n",
    "    # gold_docstr = get_docstring(gold)\n",
    "    # pred_docstr = get_docstring(pred)\n",
    "    # gold_docstr_text = \"\\n\".join(gold_docstr)\n",
    "    # pred_docstr_text = \"\\n\".join(pred_docstr)\n",
    "    # gold_docstr_count = len(gold_docstr)\n",
    "    # pred_docstr_count = len(pred_docstr)\n",
    "    # gold_has_docstr = len(gold_docstr) > 0\n",
    "    # pred_has_docstr = len(pred_docstr) > 0\n",
    "    \n",
    "    \n",
    "    fixed_comp_code_score = get_codebleu(refs, hyp, \"python\", '0.25,0.25,0.25,0.25')\n",
    "    # docstr_text_score = get_codebleu([[gold_docstr_text]], [pred_docstr_text], \"python\", '1,0,0,0')\n",
    "    \n",
    "    fixed_comp_code_scores += [fixed_comp_code_score]\n",
    "    fixed_comp_diff_bleu_scores += [fixed_comp_diff_bleu_score]\n",
    "    # docstr_text_scores += [docstr_text_score]\n",
    "       \n",
    "    # gold_docstrs += [gold_docstr]\n",
    "    # pred_docstrs += [pred_docstr]\n",
    "    # gold_docstr_texts += [gold_docstr_text]\n",
    "    # pred_docstr_texts += [pred_docstr_text]\n",
    "    # gold_docstr_counts += [gold_docstr_count]\n",
    "    # pred_docstr_counts += [pred_docstr_count]\n",
    "    # gold_has_docstr_list += [gold_has_docstr]\n",
    "    # pred_has_docstr_list += [pred_has_docstr]"
   ]
  },
  {
   "cell_type": "code",
   "execution_count": null,
   "id": "ef3a6f18-58be-4c87-b421-bb148fa3586d",
   "metadata": {},
   "outputs": [],
   "source": [
    "fixed_comp_diff_bleu_scores = np.array(fixed_comp_diff_bleu_scores)"
   ]
  },
  {
   "cell_type": "code",
   "execution_count": null,
   "id": "a9bf2bfa-782d-4748-904b-ed7838a14748",
   "metadata": {},
   "outputs": [],
   "source": [
    "\"List Comp BLEU score on only comparing difference in prediction:\", np.mean(fixed_comp_diff_bleu_scores)"
   ]
  },
  {
   "cell_type": "code",
   "execution_count": null,
   "id": "0401a2f4-3c80-484f-8665-9f915bd279fa",
   "metadata": {},
   "outputs": [],
   "source": [
    "# docstr_text_bleus = np.array([s[\"ngram\"] for s in docstr_text_scores])"
   ]
  },
  {
   "cell_type": "code",
   "execution_count": null,
   "id": "db0a8e71-dcec-4ca0-a6a1-432a2cd45f91",
   "metadata": {},
   "outputs": [],
   "source": [
    "fixed_comp_code_bleus = np.array([s[\"code_bleu\"] for s in fixed_comp_code_scores])"
   ]
  },
  {
   "cell_type": "code",
   "execution_count": null,
   "id": "286c7dca-3ef2-448e-be6e-226506953108",
   "metadata": {},
   "outputs": [],
   "source": [
    "# docstr_text_bleus.mean()"
   ]
  },
  {
   "cell_type": "code",
   "execution_count": null,
   "id": "03f67e80-2c0b-47d1-879c-9308a8303bfd",
   "metadata": {},
   "outputs": [],
   "source": [
    "fixed_comp_total = fixed_comp_preds.shape[0]"
   ]
  },
  {
   "cell_type": "code",
   "execution_count": null,
   "id": "deab0574-de72-4798-84b6-a3ddcfb6f0ea",
   "metadata": {},
   "outputs": [],
   "source": [
    "print(\"Perfect Prediction Rate:\", sum(fixed_comp_code_bleus == 1) / fixed_comp_total)\n",
    "print(\"Above 0.9 CodeBLEU Prediction Rate:\", sum(fixed_comp_code_bleus > 0.9) / fixed_comp_total)"
   ]
  },
  {
   "cell_type": "code",
   "execution_count": null,
   "id": "17d16677-ed8a-43bb-988a-2b1a315d9fd9",
   "metadata": {},
   "outputs": [],
   "source": [
    "print(\"Perfect Prediction Rate:\", sum(fixed_comp_diff_bleu_scores == 1) / fixed_comp_total)\n",
    "print(\"Above 0.9 CodeBLEU Prediction Rate:\", sum(fixed_comp_diff_bleu_scores > 0.9) / fixed_comp_total)"
   ]
  },
  {
   "cell_type": "code",
   "execution_count": null,
   "id": "2595820b-6ae0-44a8-bdee-e5da67395e4b",
   "metadata": {
    "tags": []
   },
   "outputs": [],
   "source": [
    "# idx = 760\n",
    "# print_split_line(f\"{idx}-prediction\")\n",
    "# print(docstr_preds[idx])\n",
    "# print_split_line(f\"{idx}-gold labels\")\n",
    "# print(docstr_labels[idx])\n",
    "# print_split_line(f\"{idx}-score\")\n",
    "# print(docstr_text_bleus[idx])"
   ]
  },
  {
   "cell_type": "code",
   "execution_count": null,
   "id": "5cff3932-f5a6-467c-a738-33784613652a",
   "metadata": {},
   "outputs": [],
   "source": [
    "fixed_comp_code_bleus.max()"
   ]
  },
  {
   "cell_type": "code",
   "execution_count": null,
   "id": "ff669baa-daca-4600-bc63-61c2e347e671",
   "metadata": {},
   "outputs": [],
   "source": []
  },
  {
   "cell_type": "code",
   "execution_count": null,
   "id": "39c576b9-81a1-460f-a044-bb3186956a32",
   "metadata": {
    "tags": []
   },
   "outputs": [],
   "source": [
    "for idx in range(fixed_comp_total):\n",
    "    if fixed_comp_diff_bleu_scores[idx] != 1: continue\n",
    "    if fixed_comp_diff_bleu_scores[idx] <= 0.9: continue\n",
    "    # if fixed_comp_code_bleus[idx] < 0.2: continue\n",
    "    print_split_line(f\"{idx}-input\")\n",
    "    print(fixed_comp_inputs[idx])\n",
    "    print_split_line(f\"{idx}-prediction\")\n",
    "    print(fixed_comp_preds[idx])\n",
    "    print_split_line(f\"{idx}-gold labels\")\n",
    "    print(fixed_comp_labels[idx])\n",
    "    print_split_line(f\"{idx}-score\")\n",
    "    print(fixed_comp_diff_bleu_scores[idx])"
   ]
  },
  {
   "cell_type": "code",
   "execution_count": null,
   "id": "6b2f5b98-a99b-4cf6-849f-0d1b1e8151da",
   "metadata": {},
   "outputs": [],
   "source": []
  }
 ],
 "metadata": {
  "kernelspec": {
   "display_name": "Python 3 (ipykernel)",
   "language": "python",
   "name": "python3"
  },
  "language_info": {
   "codemirror_mode": {
    "name": "ipython",
    "version": 3
   },
   "file_extension": ".py",
   "mimetype": "text/x-python",
   "name": "python",
   "nbconvert_exporter": "python",
   "pygments_lexer": "ipython3",
   "version": "3.8.13"
  }
 },
 "nbformat": 4,
 "nbformat_minor": 5
}
